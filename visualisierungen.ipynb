{
 "cells": [
  {
   "cell_type": "markdown",
   "metadata": {},
   "source": [
    "# Semesterarbeit Datenvisualisierung\n",
    "Aufbereitung und Erarbeitung der nötigen Daten erfolgen in diesem Jupyternotebook. Anhand von diesen Datenquellen, welche ich in Python Pandas Datenframes lade, enstehen unter anderem Plotly-Grafiken. Diese Grafiken nutze ich für:\n",
    "\n",
    "   - Präsentation innerhalb von dem ``Storytelling-Tool: http://prezi.com``\n",
    "   - ``Shiny for Python Dashboard`` (kann anhand diesem Notebook selbständig getestet werden)\n",
    "\n",
    "Mit dieser Grundlage erstelle ich die Semesterarbeit für die Datenvisualisierung. Für den Statistikteil werde ich einen komplett neuen Datensatz (WORLD VALUES SURVEY WAVE 7, 2017-2021) verwenden um die nötigen 4 Verfahren anzuwenden."
   ]
  },
  {
   "cell_type": "markdown",
   "metadata": {},
   "source": [
    "# Daten: Our World in Data (OWID)\n",
    "Dokumentation API: https://docs.owid.io/projects/etl/api/#owid-catalog"
   ]
  },
  {
   "cell_type": "markdown",
   "metadata": {},
   "source": [
    "## Inspiration und Durchsicht möglicher Quellen\n",
    "* **Datapoints used to train:** https://ourworldindata.org/grapher/artificial-intelligence-number-training-datapoints\n",
    "----\n",
    "* **Annual patent applications (not detailed on technology):** https://ourworldindata.org/grapher/annual-patent-applications\n",
    "* **Annual granted patents related to AI:** https://ourworldindata.org/grapher/artificial-intelligence-granted-patents-by-industry\n",
    "* **Annual working hours:** https://ourworldindata.org/grapher/annual-working-hours-per-worker\n",
    "* **Annual articles publ in scientific and tech journals:** https://ourworldindata.org/grapher/scientific-publications-per-million\n",
    "* **Research and development spending as a share of GDP:** https://ourworldindata.org/grapher/research-spending-gdp\n",
    "* **Research and development per million people vs. GPD per capita:** https://ourworldindata.org/grapher/researchers-in-rd-per-million-people-vs-gdp-pc\n",
    "----\n",
    "* **Population:** https://ourworldindata.org/grapher/population\n",
    "* **Population with UN projections 2100:** https://ourworldindata.org/grapher/population-with-un-projections\n",
    "* **Median age:** https://ourworldindata.org/grapher/median-age\n",
    "* **Female Popl by Age** https://ourworldindata.org/grapher/female-population-by-age-group\n",
    "* **Male Popl by Age** https://ourworldindata.org/grapher/male-population-by-age-group\n",
    "* **Popl young, working, elderly** https://ourworldindata.org/grapher/population-young-working-elderly-with-projections\n",
    "----\n",
    "* **Fertility rate:** https://ourworldindata.org/grapher/children-per-woman-un\n",
    "* **Population by age group:** https://ourworldindata.org/grapher/population-by-age-group-with-projections\n",
    "* **Age dependency breakdown by young and old:** https://ourworldindata.org/grapher/age-dependency-breakdown\n",
    "----\n",
    "* **Public health expenditure as a share of GDP:** https://ourworldindata.org/grapher/public-health-expenditure-share-gdp"
   ]
  },
  {
   "cell_type": "markdown",
   "metadata": {},
   "source": [
    "## Menscheit"
   ]
  },
  {
   "cell_type": "code",
   "execution_count": 1,
   "metadata": {},
   "outputs": [],
   "source": [
    "from owid.catalog import charts\n",
    "import plotly.express as px\n",
    "import pandas as pd\n",
    "import plotly.graph_objects as go\n",
    "\n",
    "population_df = charts.get_data(\"population\")"
   ]
  },
  {
   "cell_type": "code",
   "execution_count": 2,
   "metadata": {},
   "outputs": [
    {
     "data": {
      "text/html": [
       "<div>\n",
       "<style scoped>\n",
       "    .dataframe tbody tr th:only-of-type {\n",
       "        vertical-align: middle;\n",
       "    }\n",
       "\n",
       "    .dataframe tbody tr th {\n",
       "        vertical-align: top;\n",
       "    }\n",
       "\n",
       "    .dataframe thead th {\n",
       "        text-align: right;\n",
       "    }\n",
       "</style>\n",
       "<table border=\"1\" class=\"dataframe\">\n",
       "  <thead>\n",
       "    <tr style=\"text-align: right;\">\n",
       "      <th></th>\n",
       "      <th>entities</th>\n",
       "      <th>years</th>\n",
       "      <th>population</th>\n",
       "    </tr>\n",
       "  </thead>\n",
       "  <tbody>\n",
       "    <tr>\n",
       "      <th>0</th>\n",
       "      <td>Afghanistan</td>\n",
       "      <td>-10000</td>\n",
       "      <td>14737</td>\n",
       "    </tr>\n",
       "    <tr>\n",
       "      <th>1</th>\n",
       "      <td>Afghanistan</td>\n",
       "      <td>-9000</td>\n",
       "      <td>20405</td>\n",
       "    </tr>\n",
       "    <tr>\n",
       "      <th>2</th>\n",
       "      <td>Afghanistan</td>\n",
       "      <td>-8000</td>\n",
       "      <td>28253</td>\n",
       "    </tr>\n",
       "    <tr>\n",
       "      <th>3</th>\n",
       "      <td>Afghanistan</td>\n",
       "      <td>-7000</td>\n",
       "      <td>39120</td>\n",
       "    </tr>\n",
       "    <tr>\n",
       "      <th>4</th>\n",
       "      <td>Afghanistan</td>\n",
       "      <td>-6000</td>\n",
       "      <td>54166</td>\n",
       "    </tr>\n",
       "  </tbody>\n",
       "</table>\n",
       "</div>"
      ],
      "text/plain": [
       "      entities  years  population\n",
       "0  Afghanistan -10000       14737\n",
       "1  Afghanistan  -9000       20405\n",
       "2  Afghanistan  -8000       28253\n",
       "3  Afghanistan  -7000       39120\n",
       "4  Afghanistan  -6000       54166"
      ]
     },
     "execution_count": 2,
     "metadata": {},
     "output_type": "execute_result"
    }
   ],
   "source": [
    "population_df.head()"
   ]
  },
  {
   "cell_type": "code",
   "execution_count": 3,
   "metadata": {},
   "outputs": [
    {
     "data": {
      "text/plain": [
       "array(['Afghanistan', 'Africa', 'Africa (UN)', 'Akrotiri and Dhekelia',\n",
       "       'Albania', 'Algeria', 'American Samoa', 'Americas (UN)', 'Andorra',\n",
       "       'Angola', 'Anguilla', 'Antigua and Barbuda', 'Argentina',\n",
       "       'Armenia', 'Aruba', 'Asia', 'Asia (UN)',\n",
       "       'Asia (excl. China and India)', 'Australia', 'Austria',\n",
       "       'Azerbaijan', 'Bahamas', 'Bahrain', 'Bangladesh', 'Barbados',\n",
       "       'Belarus', 'Belgium', 'Belize', 'Benin', 'Bermuda', 'Bhutan',\n",
       "       'Bolivia', 'Bonaire Sint Eustatius and Saba',\n",
       "       'Bosnia and Herzegovina', 'Botswana', 'Brazil',\n",
       "       'British Virgin Islands', 'Brunei', 'Bulgaria', 'Burkina Faso',\n",
       "       'Burundi', 'Cambodia', 'Cameroon', 'Canada', 'Cape Verde',\n",
       "       'Cayman Islands', 'Central African Republic', 'Chad', 'Chile',\n",
       "       'China', 'Colombia', 'Comoros', 'Congo', 'Cook Islands',\n",
       "       'Costa Rica', \"Cote d'Ivoire\", 'Croatia', 'Cuba', 'Curacao',\n",
       "       'Cyprus', 'Czechia', 'Czechoslovakia',\n",
       "       'Democratic Republic of Congo', 'Denmark', 'Djibouti', 'Dominica',\n",
       "       'Dominican Republic', 'East Germany', 'East Timor', 'Ecuador',\n",
       "       'Egypt', 'El Salvador', 'Equatorial Guinea', 'Eritrea', 'Estonia',\n",
       "       'Eswatini', 'Ethiopia', 'Ethiopia (former)', 'Europe',\n",
       "       'Europe (UN)', 'Europe (excl. Russia)', 'European Union (27)',\n",
       "       'Falkland Islands', 'Faroe Islands', 'Fiji', 'Finland', 'France',\n",
       "       'French Guiana', 'French Polynesia', 'Gabon', 'Gambia', 'Georgia',\n",
       "       'Germany', 'Ghana', 'Gibraltar', 'Greece', 'Greenland', 'Grenada',\n",
       "       'Guadeloupe', 'Guam', 'Guatemala', 'Guernsey', 'Guinea',\n",
       "       'Guinea-Bissau', 'Guyana', 'Haiti', 'High-income countries',\n",
       "       'Honduras', 'Hong Kong', 'Hungary', 'Iceland', 'India',\n",
       "       'Indonesia', 'Iran', 'Iraq', 'Ireland', 'Isle of Man', 'Israel',\n",
       "       'Italy', 'Jamaica', 'Japan', 'Jersey', 'Jordan', 'Kazakhstan',\n",
       "       'Kenya', 'Kiribati', 'Kosovo', 'Kuwait', 'Kyrgyzstan', 'Laos',\n",
       "       'Latin America and the Caribbean (UN)', 'Latvia', 'Lebanon',\n",
       "       'Lesotho', 'Liberia', 'Libya', 'Liechtenstein', 'Lithuania',\n",
       "       'Low-income countries', 'Lower-middle-income countries',\n",
       "       'Luxembourg', 'Macao', 'Madagascar', 'Malawi', 'Malaysia',\n",
       "       'Maldives', 'Mali', 'Malta', 'Marshall Islands', 'Martinique',\n",
       "       'Mauritania', 'Mauritius', 'Mayotte', 'Mexico',\n",
       "       'Micronesia (country)', 'Moldova', 'Monaco', 'Mongolia',\n",
       "       'Montenegro', 'Montserrat', 'Morocco', 'Mozambique', 'Myanmar',\n",
       "       'Namibia', 'Nauru', 'Nepal', 'Netherlands', 'Netherlands Antilles',\n",
       "       'New Caledonia', 'New Zealand', 'Nicaragua', 'Niger', 'Nigeria',\n",
       "       'Niue', 'North America', 'North Korea', 'North Macedonia',\n",
       "       'Northern America (UN)', 'Northern Mariana Islands', 'Norway',\n",
       "       'Oceania', 'Oceania (UN)', 'Oman', 'Pakistan', 'Palau',\n",
       "       'Palestine', 'Panama', 'Papua New Guinea', 'Paraguay', 'Peru',\n",
       "       'Philippines', 'Poland', 'Portugal', 'Puerto Rico', 'Qatar',\n",
       "       'Reunion', 'Romania', 'Russia', 'Rwanda', 'Saint Barthelemy',\n",
       "       'Saint Helena', 'Saint Kitts and Nevis', 'Saint Lucia',\n",
       "       'Saint Martin (French part)', 'Saint Pierre and Miquelon',\n",
       "       'Saint Vincent and the Grenadines', 'Samoa', 'San Marino',\n",
       "       'Sao Tome and Principe', 'Saudi Arabia', 'Senegal', 'Serbia',\n",
       "       'Serbia and Montenegro', 'Seychelles', 'Sierra Leone', 'Singapore',\n",
       "       'Sint Maarten (Dutch part)', 'Slovakia', 'Slovenia',\n",
       "       'Solomon Islands', 'Somalia', 'South Africa', 'South America',\n",
       "       'South America (excl. Brazil)', 'South Korea', 'South Sudan',\n",
       "       'Spain', 'Sri Lanka', 'Sudan', 'Suriname',\n",
       "       'Svalbard and Jan Mayen', 'Sweden', 'Switzerland', 'Syria',\n",
       "       'Taiwan', 'Tajikistan', 'Tanzania', 'Thailand', 'Togo', 'Tokelau',\n",
       "       'Tonga', 'Trinidad and Tobago', 'Tunisia', 'Turkey',\n",
       "       'Turkmenistan', 'Turks and Caicos Islands', 'Tuvalu', 'USSR',\n",
       "       'Uganda', 'Ukraine', 'United Arab Emirates', 'United Kingdom',\n",
       "       'United States', 'United States Virgin Islands',\n",
       "       'Upper-middle-income countries', 'Uruguay', 'Uzbekistan',\n",
       "       'Vanuatu', 'Vatican', 'Venezuela', 'Vietnam', 'Wallis and Futuna',\n",
       "       'West Germany', 'Western Sahara', 'World', 'Yemen',\n",
       "       'Yemen Arab Republic', \"Yemen People's Republic\", 'Yugoslavia',\n",
       "       'Zambia', 'Zimbabwe'], dtype=object)"
      ]
     },
     "execution_count": 3,
     "metadata": {},
     "output_type": "execute_result"
    }
   ],
   "source": [
    "population_df[\"entities\"].unique()"
   ]
  },
  {
   "cell_type": "code",
   "execution_count": 4,
   "metadata": {},
   "outputs": [
    {
     "data": {
      "text/html": [
       "<div>\n",
       "<style scoped>\n",
       "    .dataframe tbody tr th:only-of-type {\n",
       "        vertical-align: middle;\n",
       "    }\n",
       "\n",
       "    .dataframe tbody tr th {\n",
       "        vertical-align: top;\n",
       "    }\n",
       "\n",
       "    .dataframe thead th {\n",
       "        text-align: right;\n",
       "    }\n",
       "</style>\n",
       "<table border=\"1\" class=\"dataframe\">\n",
       "  <thead>\n",
       "    <tr style=\"text-align: right;\">\n",
       "      <th></th>\n",
       "      <th>entities</th>\n",
       "      <th>years</th>\n",
       "      <th>population</th>\n",
       "    </tr>\n",
       "  </thead>\n",
       "  <tbody>\n",
       "    <tr>\n",
       "      <th>0</th>\n",
       "      <td>Afghanistan</td>\n",
       "      <td>-10000</td>\n",
       "      <td>14737</td>\n",
       "    </tr>\n",
       "    <tr>\n",
       "      <th>1</th>\n",
       "      <td>Afghanistan</td>\n",
       "      <td>-9000</td>\n",
       "      <td>20405</td>\n",
       "    </tr>\n",
       "    <tr>\n",
       "      <th>2</th>\n",
       "      <td>Afghanistan</td>\n",
       "      <td>-8000</td>\n",
       "      <td>28253</td>\n",
       "    </tr>\n",
       "    <tr>\n",
       "      <th>3</th>\n",
       "      <td>Afghanistan</td>\n",
       "      <td>-7000</td>\n",
       "      <td>39120</td>\n",
       "    </tr>\n",
       "    <tr>\n",
       "      <th>4</th>\n",
       "      <td>Afghanistan</td>\n",
       "      <td>-6000</td>\n",
       "      <td>54166</td>\n",
       "    </tr>\n",
       "    <tr>\n",
       "      <th>...</th>\n",
       "      <td>...</td>\n",
       "      <td>...</td>\n",
       "      <td>...</td>\n",
       "    </tr>\n",
       "    <tr>\n",
       "      <th>59172</th>\n",
       "      <td>Zimbabwe</td>\n",
       "      <td>2019</td>\n",
       "      <td>15271330</td>\n",
       "    </tr>\n",
       "    <tr>\n",
       "      <th>59173</th>\n",
       "      <td>Zimbabwe</td>\n",
       "      <td>2020</td>\n",
       "      <td>15526837</td>\n",
       "    </tr>\n",
       "    <tr>\n",
       "      <th>59174</th>\n",
       "      <td>Zimbabwe</td>\n",
       "      <td>2021</td>\n",
       "      <td>15797165</td>\n",
       "    </tr>\n",
       "    <tr>\n",
       "      <th>59175</th>\n",
       "      <td>Zimbabwe</td>\n",
       "      <td>2022</td>\n",
       "      <td>16069010</td>\n",
       "    </tr>\n",
       "    <tr>\n",
       "      <th>59176</th>\n",
       "      <td>Zimbabwe</td>\n",
       "      <td>2023</td>\n",
       "      <td>16340778</td>\n",
       "    </tr>\n",
       "  </tbody>\n",
       "</table>\n",
       "<p>59177 rows × 3 columns</p>\n",
       "</div>"
      ],
      "text/plain": [
       "          entities  years  population\n",
       "0      Afghanistan -10000       14737\n",
       "1      Afghanistan  -9000       20405\n",
       "2      Afghanistan  -8000       28253\n",
       "3      Afghanistan  -7000       39120\n",
       "4      Afghanistan  -6000       54166\n",
       "...            ...    ...         ...\n",
       "59172     Zimbabwe   2019    15271330\n",
       "59173     Zimbabwe   2020    15526837\n",
       "59174     Zimbabwe   2021    15797165\n",
       "59175     Zimbabwe   2022    16069010\n",
       "59176     Zimbabwe   2023    16340778\n",
       "\n",
       "[59177 rows x 3 columns]"
      ]
     },
     "execution_count": 4,
     "metadata": {},
     "output_type": "execute_result"
    }
   ],
   "source": [
    "population_df"
   ]
  },
  {
   "cell_type": "code",
   "execution_count": 5,
   "metadata": {},
   "outputs": [],
   "source": [
    "weltbevoelkerung = population_df[population_df['entities'] == 'World'].copy()"
   ]
  },
  {
   "cell_type": "code",
   "execution_count": 6,
   "metadata": {},
   "outputs": [
    {
     "data": {
      "text/html": [
       "<div>\n",
       "<style scoped>\n",
       "    .dataframe tbody tr th:only-of-type {\n",
       "        vertical-align: middle;\n",
       "    }\n",
       "\n",
       "    .dataframe tbody tr th {\n",
       "        vertical-align: top;\n",
       "    }\n",
       "\n",
       "    .dataframe thead th {\n",
       "        text-align: right;\n",
       "    }\n",
       "</style>\n",
       "<table border=\"1\" class=\"dataframe\">\n",
       "  <thead>\n",
       "    <tr style=\"text-align: right;\">\n",
       "      <th></th>\n",
       "      <th>entities</th>\n",
       "      <th>years</th>\n",
       "      <th>population</th>\n",
       "    </tr>\n",
       "  </thead>\n",
       "  <tbody>\n",
       "    <tr>\n",
       "      <th>58145</th>\n",
       "      <td>World</td>\n",
       "      <td>-10000</td>\n",
       "      <td>4501152</td>\n",
       "    </tr>\n",
       "    <tr>\n",
       "      <th>58146</th>\n",
       "      <td>World</td>\n",
       "      <td>-9000</td>\n",
       "      <td>5687125</td>\n",
       "    </tr>\n",
       "    <tr>\n",
       "      <th>58147</th>\n",
       "      <td>World</td>\n",
       "      <td>-8000</td>\n",
       "      <td>7314623</td>\n",
       "    </tr>\n",
       "    <tr>\n",
       "      <th>58148</th>\n",
       "      <td>World</td>\n",
       "      <td>-7000</td>\n",
       "      <td>9651703</td>\n",
       "    </tr>\n",
       "    <tr>\n",
       "      <th>58149</th>\n",
       "      <td>World</td>\n",
       "      <td>-6000</td>\n",
       "      <td>13278309</td>\n",
       "    </tr>\n",
       "    <tr>\n",
       "      <th>...</th>\n",
       "      <td>...</td>\n",
       "      <td>...</td>\n",
       "      <td>...</td>\n",
       "    </tr>\n",
       "    <tr>\n",
       "      <th>58266</th>\n",
       "      <td>World</td>\n",
       "      <td>2019</td>\n",
       "      <td>7811293646</td>\n",
       "    </tr>\n",
       "    <tr>\n",
       "      <th>58267</th>\n",
       "      <td>World</td>\n",
       "      <td>2020</td>\n",
       "      <td>7887001253</td>\n",
       "    </tr>\n",
       "    <tr>\n",
       "      <th>58268</th>\n",
       "      <td>World</td>\n",
       "      <td>2021</td>\n",
       "      <td>7954448327</td>\n",
       "    </tr>\n",
       "    <tr>\n",
       "      <th>58269</th>\n",
       "      <td>World</td>\n",
       "      <td>2022</td>\n",
       "      <td>8021407128</td>\n",
       "    </tr>\n",
       "    <tr>\n",
       "      <th>58270</th>\n",
       "      <td>World</td>\n",
       "      <td>2023</td>\n",
       "      <td>8091734853</td>\n",
       "    </tr>\n",
       "  </tbody>\n",
       "</table>\n",
       "<p>126 rows × 3 columns</p>\n",
       "</div>"
      ],
      "text/plain": [
       "      entities  years  population\n",
       "58145    World -10000     4501152\n",
       "58146    World  -9000     5687125\n",
       "58147    World  -8000     7314623\n",
       "58148    World  -7000     9651703\n",
       "58149    World  -6000    13278309\n",
       "...        ...    ...         ...\n",
       "58266    World   2019  7811293646\n",
       "58267    World   2020  7887001253\n",
       "58268    World   2021  7954448327\n",
       "58269    World   2022  8021407128\n",
       "58270    World   2023  8091734853\n",
       "\n",
       "[126 rows x 3 columns]"
      ]
     },
     "execution_count": 6,
     "metadata": {},
     "output_type": "execute_result"
    }
   ],
   "source": [
    "weltbevoelkerung"
   ]
  },
  {
   "cell_type": "code",
   "execution_count": 7,
   "metadata": {},
   "outputs": [
    {
     "data": {
      "application/vnd.plotly.v1+json": {
       "config": {
        "plotlyServerURL": "https://plot.ly"
       },
       "data": [
        {
         "hovertemplate": "years=%{x}<br>population_billions=%{y}<extra></extra>",
         "legendgroup": "",
         "line": {
          "color": "rgb(252, 222, 156)",
          "dash": "solid"
         },
         "marker": {
          "symbol": "circle"
         },
         "mode": "lines",
         "name": "",
         "orientation": "v",
         "showlegend": false,
         "type": "scatter",
         "x": {
          "bdata": "8NjY3MDgqOSQ6HjsYPBI9DD4GPwAAGQAyAAsAZAB9AFYArwCIAOEA+gDTASwBBQFeAXcBUAGpAauBrgGwgbMBtYG4AbqBvQG/gYIBxIHHAcmBzAHOgdEB04HWAdiB2wHdgeAB4oHlAeeB58HoAehB6IHowekB6UHpgenB6gHqQeqB6sHrAetB64HrwewB7EHsgezB7QHtQe2B7cHuAe5B7oHuwe8B70Hvge/B8AHwQfCB8MHxAfFB8YHxwfIB8kHygfLB8wHzQfOB88H0AfRB9IH0wfUB9UH1gfXB9gH2QfaB9sH3AfdB94H3wfgB+EH4gfjB+QH5QfmB+cH",
          "dtype": "i2"
         },
         "xaxis": "x",
         "y": {
          "bdata": "9jEmysxvcj9v2SH+YUt3P6nDFCnw9X0/WbnipUXEgz8nnzV3qDGLP3CpxCGNnZM/FAsUYkKNnT/WNHNx6dKmP4qkyQR9m7I/AHoXeLlLvD+j+agu/LrNP/rkCuq5V84/njuoYUvRzj8G267uXSXNP55Vc3Tt784/d2wTDaM30D/MMjNPiGLRP5l3pBNs0NE/yJc0bLJL0j+6XlYFw+nTP+u745Ocs9Q/Yp8XJgd32T8aO9T7NXXcP0mqyzYrM90/IR9cUMtO3D+5sfyg/hjgP5QbVAFIhOA/8OzPnvsN4z9roP5VdcbjPz9pivvtveQ/e1GuNQN45T/4aIhipnjmP2tdoi7dGug/V4naf2I56T8fTnQelH7qP06Nau2K1Ow/5/0SAAIn7j/xS+Fneo7uP4guGsWBdvA/UQtJWcsM8T+IOt6qDF/yP7YkyIcnW/M/HdYF0LCX9D8u79LPmYn1PyFBiYBXjPU/Mrsuye/X9j9aNUIeRcb4P3sR+3Hsuvo/dT1k2bLN/D/6MbO9gNj+P3aW5Hbr2QBAa907p6+gAkAZgXGj2vEDQE/hfV+gSwRAndu5bTWsBEB1FvBEphIFQPya7Gy2fAVArISvLvXrBUBx3cfj/1wGQAOI3okp0gZApTmvOj1KB0BaDRcmRLoHQF81aS+vHwhAQ0aJW9qECED8lbykq/wIQMSYO83eiglAK9zRg6sdCkC62EL9H60KQJ7jOeF5OwtARw7HqYzJC0B9Bdsbi1wMQCuravu39AxAkZQBW7aODUB2Qgb3pSgOQPwbUS1kwg5AioMj/85dD0APrV/6qPgPQJ4kdM9uSBBAqQI3ULWTEEBfLPqtF98QQPhWLpgbKxFAUbRKZ2J5EUDAHA1FWcoRQMPVsMh3HRJAq1sSp2BzEkC8mQs7EMoSQO/VO5ryIBNAROsOTcx5E0Bi5GwHEdUTQKNsj7PwMhRA+0lwe2aRFEBMKszbDvAUQD0jkJmrTxVA2156F8msFUB9yDAuIgYWQJMzcui9XRZAAYPhssOzFkBBg4KPFwkXQPvIo9dDXhdADjSNkPuyF0A0jJd7PAcYQI6hFXgkWxhA3N0N5tKvGEDV28wMDgUZQD9HFvbVWRlADMxgRXOuGUAXFNNzdQMaQMmJN7EOWRpA/VFVGpGvGkAyqbPwewcbQDAIk3+5YBtAyF+rGye7G0DTjVfwQBYcQAd85vuVcRxAtA9RAwjOHEDNhLfryyodQHE8MmXGhh1AUvWBncjhHUCa5cS09TseQAOBVN4clR5ABFhgn2vrHkAlF/TCwz4fQIeVdA5KjB9AZr/45lrRH0CUUgXg9QogQKUT4973LiBA",
          "dtype": "f8"
         },
         "yaxis": "y"
        }
       ],
       "layout": {
        "annotations": [
         {
          "arrowhead": 1,
          "font": {
           "color": "white"
          },
          "showarrow": true,
          "text": "0.005Mrd",
          "x": -10000,
          "y": 0.004501152,
          "yshift": -2
         },
         {
          "arrowhead": 1,
          "font": {
           "color": "white"
          },
          "showarrow": true,
          "text": "0.029Mrd",
          "x": -4000,
          "y": 0.028859174,
          "yshift": -2
         },
         {
          "arrowhead": 1,
          "font": {
           "color": "white"
          },
          "showarrow": true,
          "text": "0.232Mrd",
          "x": 0,
          "y": 0.232268832,
          "yshift": -2
         },
         {
          "arrowhead": 1,
          "font": {
           "color": "white"
          },
          "showarrow": true,
          "text": "8.092Mrd",
          "x": 2023,
          "y": 8.091734853,
          "yshift": -2
         }
        ],
        "legend": {
         "tracegroupgap": 0
        },
        "template": {
         "data": {
          "bar": [
           {
            "error_x": {
             "color": "#f2f5fa"
            },
            "error_y": {
             "color": "#f2f5fa"
            },
            "marker": {
             "line": {
              "color": "rgb(17,17,17)",
              "width": 0.5
             },
             "pattern": {
              "fillmode": "overlay",
              "size": 10,
              "solidity": 0.2
             }
            },
            "type": "bar"
           }
          ],
          "barpolar": [
           {
            "marker": {
             "line": {
              "color": "rgb(17,17,17)",
              "width": 0.5
             },
             "pattern": {
              "fillmode": "overlay",
              "size": 10,
              "solidity": 0.2
             }
            },
            "type": "barpolar"
           }
          ],
          "carpet": [
           {
            "aaxis": {
             "endlinecolor": "#A2B1C6",
             "gridcolor": "#506784",
             "linecolor": "#506784",
             "minorgridcolor": "#506784",
             "startlinecolor": "#A2B1C6"
            },
            "baxis": {
             "endlinecolor": "#A2B1C6",
             "gridcolor": "#506784",
             "linecolor": "#506784",
             "minorgridcolor": "#506784",
             "startlinecolor": "#A2B1C6"
            },
            "type": "carpet"
           }
          ],
          "choropleth": [
           {
            "colorbar": {
             "outlinewidth": 0,
             "ticks": ""
            },
            "type": "choropleth"
           }
          ],
          "contour": [
           {
            "colorbar": {
             "outlinewidth": 0,
             "ticks": ""
            },
            "colorscale": [
             [
              0,
              "#0d0887"
             ],
             [
              0.1111111111111111,
              "#46039f"
             ],
             [
              0.2222222222222222,
              "#7201a8"
             ],
             [
              0.3333333333333333,
              "#9c179e"
             ],
             [
              0.4444444444444444,
              "#bd3786"
             ],
             [
              0.5555555555555556,
              "#d8576b"
             ],
             [
              0.6666666666666666,
              "#ed7953"
             ],
             [
              0.7777777777777778,
              "#fb9f3a"
             ],
             [
              0.8888888888888888,
              "#fdca26"
             ],
             [
              1,
              "#f0f921"
             ]
            ],
            "type": "contour"
           }
          ],
          "contourcarpet": [
           {
            "colorbar": {
             "outlinewidth": 0,
             "ticks": ""
            },
            "type": "contourcarpet"
           }
          ],
          "heatmap": [
           {
            "colorbar": {
             "outlinewidth": 0,
             "ticks": ""
            },
            "colorscale": [
             [
              0,
              "#0d0887"
             ],
             [
              0.1111111111111111,
              "#46039f"
             ],
             [
              0.2222222222222222,
              "#7201a8"
             ],
             [
              0.3333333333333333,
              "#9c179e"
             ],
             [
              0.4444444444444444,
              "#bd3786"
             ],
             [
              0.5555555555555556,
              "#d8576b"
             ],
             [
              0.6666666666666666,
              "#ed7953"
             ],
             [
              0.7777777777777778,
              "#fb9f3a"
             ],
             [
              0.8888888888888888,
              "#fdca26"
             ],
             [
              1,
              "#f0f921"
             ]
            ],
            "type": "heatmap"
           }
          ],
          "histogram": [
           {
            "marker": {
             "pattern": {
              "fillmode": "overlay",
              "size": 10,
              "solidity": 0.2
             }
            },
            "type": "histogram"
           }
          ],
          "histogram2d": [
           {
            "colorbar": {
             "outlinewidth": 0,
             "ticks": ""
            },
            "colorscale": [
             [
              0,
              "#0d0887"
             ],
             [
              0.1111111111111111,
              "#46039f"
             ],
             [
              0.2222222222222222,
              "#7201a8"
             ],
             [
              0.3333333333333333,
              "#9c179e"
             ],
             [
              0.4444444444444444,
              "#bd3786"
             ],
             [
              0.5555555555555556,
              "#d8576b"
             ],
             [
              0.6666666666666666,
              "#ed7953"
             ],
             [
              0.7777777777777778,
              "#fb9f3a"
             ],
             [
              0.8888888888888888,
              "#fdca26"
             ],
             [
              1,
              "#f0f921"
             ]
            ],
            "type": "histogram2d"
           }
          ],
          "histogram2dcontour": [
           {
            "colorbar": {
             "outlinewidth": 0,
             "ticks": ""
            },
            "colorscale": [
             [
              0,
              "#0d0887"
             ],
             [
              0.1111111111111111,
              "#46039f"
             ],
             [
              0.2222222222222222,
              "#7201a8"
             ],
             [
              0.3333333333333333,
              "#9c179e"
             ],
             [
              0.4444444444444444,
              "#bd3786"
             ],
             [
              0.5555555555555556,
              "#d8576b"
             ],
             [
              0.6666666666666666,
              "#ed7953"
             ],
             [
              0.7777777777777778,
              "#fb9f3a"
             ],
             [
              0.8888888888888888,
              "#fdca26"
             ],
             [
              1,
              "#f0f921"
             ]
            ],
            "type": "histogram2dcontour"
           }
          ],
          "mesh3d": [
           {
            "colorbar": {
             "outlinewidth": 0,
             "ticks": ""
            },
            "type": "mesh3d"
           }
          ],
          "parcoords": [
           {
            "line": {
             "colorbar": {
              "outlinewidth": 0,
              "ticks": ""
             }
            },
            "type": "parcoords"
           }
          ],
          "pie": [
           {
            "automargin": true,
            "type": "pie"
           }
          ],
          "scatter": [
           {
            "marker": {
             "line": {
              "color": "#283442"
             }
            },
            "type": "scatter"
           }
          ],
          "scatter3d": [
           {
            "line": {
             "colorbar": {
              "outlinewidth": 0,
              "ticks": ""
             }
            },
            "marker": {
             "colorbar": {
              "outlinewidth": 0,
              "ticks": ""
             }
            },
            "type": "scatter3d"
           }
          ],
          "scattercarpet": [
           {
            "marker": {
             "colorbar": {
              "outlinewidth": 0,
              "ticks": ""
             }
            },
            "type": "scattercarpet"
           }
          ],
          "scattergeo": [
           {
            "marker": {
             "colorbar": {
              "outlinewidth": 0,
              "ticks": ""
             }
            },
            "type": "scattergeo"
           }
          ],
          "scattergl": [
           {
            "marker": {
             "line": {
              "color": "#283442"
             }
            },
            "type": "scattergl"
           }
          ],
          "scattermap": [
           {
            "marker": {
             "colorbar": {
              "outlinewidth": 0,
              "ticks": ""
             }
            },
            "type": "scattermap"
           }
          ],
          "scattermapbox": [
           {
            "marker": {
             "colorbar": {
              "outlinewidth": 0,
              "ticks": ""
             }
            },
            "type": "scattermapbox"
           }
          ],
          "scatterpolar": [
           {
            "marker": {
             "colorbar": {
              "outlinewidth": 0,
              "ticks": ""
             }
            },
            "type": "scatterpolar"
           }
          ],
          "scatterpolargl": [
           {
            "marker": {
             "colorbar": {
              "outlinewidth": 0,
              "ticks": ""
             }
            },
            "type": "scatterpolargl"
           }
          ],
          "scatterternary": [
           {
            "marker": {
             "colorbar": {
              "outlinewidth": 0,
              "ticks": ""
             }
            },
            "type": "scatterternary"
           }
          ],
          "surface": [
           {
            "colorbar": {
             "outlinewidth": 0,
             "ticks": ""
            },
            "colorscale": [
             [
              0,
              "#0d0887"
             ],
             [
              0.1111111111111111,
              "#46039f"
             ],
             [
              0.2222222222222222,
              "#7201a8"
             ],
             [
              0.3333333333333333,
              "#9c179e"
             ],
             [
              0.4444444444444444,
              "#bd3786"
             ],
             [
              0.5555555555555556,
              "#d8576b"
             ],
             [
              0.6666666666666666,
              "#ed7953"
             ],
             [
              0.7777777777777778,
              "#fb9f3a"
             ],
             [
              0.8888888888888888,
              "#fdca26"
             ],
             [
              1,
              "#f0f921"
             ]
            ],
            "type": "surface"
           }
          ],
          "table": [
           {
            "cells": {
             "fill": {
              "color": "#506784"
             },
             "line": {
              "color": "rgb(17,17,17)"
             }
            },
            "header": {
             "fill": {
              "color": "#2a3f5f"
             },
             "line": {
              "color": "rgb(17,17,17)"
             }
            },
            "type": "table"
           }
          ]
         },
         "layout": {
          "annotationdefaults": {
           "arrowcolor": "#f2f5fa",
           "arrowhead": 0,
           "arrowwidth": 1
          },
          "autotypenumbers": "strict",
          "coloraxis": {
           "colorbar": {
            "outlinewidth": 0,
            "ticks": ""
           }
          },
          "colorscale": {
           "diverging": [
            [
             0,
             "#8e0152"
            ],
            [
             0.1,
             "#c51b7d"
            ],
            [
             0.2,
             "#de77ae"
            ],
            [
             0.3,
             "#f1b6da"
            ],
            [
             0.4,
             "#fde0ef"
            ],
            [
             0.5,
             "#f7f7f7"
            ],
            [
             0.6,
             "#e6f5d0"
            ],
            [
             0.7,
             "#b8e186"
            ],
            [
             0.8,
             "#7fbc41"
            ],
            [
             0.9,
             "#4d9221"
            ],
            [
             1,
             "#276419"
            ]
           ],
           "sequential": [
            [
             0,
             "#0d0887"
            ],
            [
             0.1111111111111111,
             "#46039f"
            ],
            [
             0.2222222222222222,
             "#7201a8"
            ],
            [
             0.3333333333333333,
             "#9c179e"
            ],
            [
             0.4444444444444444,
             "#bd3786"
            ],
            [
             0.5555555555555556,
             "#d8576b"
            ],
            [
             0.6666666666666666,
             "#ed7953"
            ],
            [
             0.7777777777777778,
             "#fb9f3a"
            ],
            [
             0.8888888888888888,
             "#fdca26"
            ],
            [
             1,
             "#f0f921"
            ]
           ],
           "sequentialminus": [
            [
             0,
             "#0d0887"
            ],
            [
             0.1111111111111111,
             "#46039f"
            ],
            [
             0.2222222222222222,
             "#7201a8"
            ],
            [
             0.3333333333333333,
             "#9c179e"
            ],
            [
             0.4444444444444444,
             "#bd3786"
            ],
            [
             0.5555555555555556,
             "#d8576b"
            ],
            [
             0.6666666666666666,
             "#ed7953"
            ],
            [
             0.7777777777777778,
             "#fb9f3a"
            ],
            [
             0.8888888888888888,
             "#fdca26"
            ],
            [
             1,
             "#f0f921"
            ]
           ]
          },
          "colorway": [
           "#636efa",
           "#EF553B",
           "#00cc96",
           "#ab63fa",
           "#FFA15A",
           "#19d3f3",
           "#FF6692",
           "#B6E880",
           "#FF97FF",
           "#FECB52"
          ],
          "font": {
           "color": "#f2f5fa"
          },
          "geo": {
           "bgcolor": "rgb(17,17,17)",
           "lakecolor": "rgb(17,17,17)",
           "landcolor": "rgb(17,17,17)",
           "showlakes": true,
           "showland": true,
           "subunitcolor": "#506784"
          },
          "hoverlabel": {
           "align": "left"
          },
          "hovermode": "closest",
          "mapbox": {
           "style": "dark"
          },
          "paper_bgcolor": "rgb(17,17,17)",
          "plot_bgcolor": "rgb(17,17,17)",
          "polar": {
           "angularaxis": {
            "gridcolor": "#506784",
            "linecolor": "#506784",
            "ticks": ""
           },
           "bgcolor": "rgb(17,17,17)",
           "radialaxis": {
            "gridcolor": "#506784",
            "linecolor": "#506784",
            "ticks": ""
           }
          },
          "scene": {
           "xaxis": {
            "backgroundcolor": "rgb(17,17,17)",
            "gridcolor": "#506784",
            "gridwidth": 2,
            "linecolor": "#506784",
            "showbackground": true,
            "ticks": "",
            "zerolinecolor": "#C8D4E3"
           },
           "yaxis": {
            "backgroundcolor": "rgb(17,17,17)",
            "gridcolor": "#506784",
            "gridwidth": 2,
            "linecolor": "#506784",
            "showbackground": true,
            "ticks": "",
            "zerolinecolor": "#C8D4E3"
           },
           "zaxis": {
            "backgroundcolor": "rgb(17,17,17)",
            "gridcolor": "#506784",
            "gridwidth": 2,
            "linecolor": "#506784",
            "showbackground": true,
            "ticks": "",
            "zerolinecolor": "#C8D4E3"
           }
          },
          "shapedefaults": {
           "line": {
            "color": "#f2f5fa"
           }
          },
          "sliderdefaults": {
           "bgcolor": "#C8D4E3",
           "bordercolor": "rgb(17,17,17)",
           "borderwidth": 1,
           "tickwidth": 0
          },
          "ternary": {
           "aaxis": {
            "gridcolor": "#506784",
            "linecolor": "#506784",
            "ticks": ""
           },
           "baxis": {
            "gridcolor": "#506784",
            "linecolor": "#506784",
            "ticks": ""
           },
           "bgcolor": "rgb(17,17,17)",
           "caxis": {
            "gridcolor": "#506784",
            "linecolor": "#506784",
            "ticks": ""
           }
          },
          "title": {
           "x": 0.05
          },
          "updatemenudefaults": {
           "bgcolor": "#506784",
           "borderwidth": 0
          },
          "xaxis": {
           "automargin": true,
           "gridcolor": "#283442",
           "linecolor": "#506784",
           "ticks": "",
           "title": {
            "standoff": 15
           },
           "zerolinecolor": "#283442",
           "zerolinewidth": 2
          },
          "yaxis": {
           "automargin": true,
           "gridcolor": "#283442",
           "linecolor": "#506784",
           "ticks": "",
           "title": {
            "standoff": 15
           },
           "zerolinecolor": "#283442",
           "zerolinewidth": 2
          }
         }
        },
        "title": {
         "text": "Weltbevölkerung über die Zeit"
        },
        "xaxis": {
         "anchor": "y",
         "domain": [
          0,
          1
         ],
         "range": [
          -10000,
          2023
         ],
         "ticktext": [
          "-10000",
          "-4000",
          "0",
          "2023"
         ],
         "tickvals": [
          -10000,
          -4000,
          0,
          2023
         ],
         "title": {
          "text": "Jahr"
         }
        },
        "yaxis": {
         "anchor": "x",
         "domain": [
          0,
          1
         ],
         "title": {
          "text": "Bevölkerung (Milliarden)"
         }
        }
       }
      }
     },
     "metadata": {},
     "output_type": "display_data"
    }
   ],
   "source": [
    "# Umrechnung in Milliarden\n",
    "weltbevoelkerung['population_billions'] = weltbevoelkerung['population'] / 1_000_000_000\n",
    "\n",
    "# Erstellen des Plotly-Diagramms mit dunklem Theme\n",
    "fig = px.line(weltbevoelkerung, \n",
    "              x='years', \n",
    "              y='population_billions',\n",
    "              title='Weltbevölkerung über die Zeit',\n",
    "              template='plotly_dark',\n",
    "              color_discrete_sequence=px.colors.sequential.Sunsetdark)\n",
    "\n",
    "# Anpassen der Achsenbeschriftungen und Layout\n",
    "fig.update_layout(\n",
    "    xaxis_title=\"Jahr\",\n",
    "    yaxis_title=\"Bevölkerung (Milliarden)\",\n",
    "    xaxis=dict(\n",
    "        range=[-10000, 2023],\n",
    "        tickvals=[-10000, -4000, 0, 2023],  # Spezifische Jahre auf der x-Achse\n",
    "        ticktext=['-10000', '-4000', '0', '2023']  # Labels für diese Jahre\n",
    "    )\n",
    ")\n",
    "\n",
    "# Füge Annotationen für die spezifischen Jahre hinzu\n",
    "for year in [-10000, -4000, 0, 2023]:\n",
    "    year_data = weltbevoelkerung[weltbevoelkerung['years'] == year]\n",
    "    if not year_data.empty:\n",
    "        pop_value = year_data.iloc[0]['population_billions']\n",
    "        fig.add_annotation(\n",
    "            x=year,\n",
    "            y=pop_value,\n",
    "            text=f\"{pop_value:.3f}Mrd\",\n",
    "            showarrow=True,\n",
    "            arrowhead=1,\n",
    "            yshift=-2,\n",
    "            font=dict(color='white')\n",
    "        )\n",
    "\n",
    "# Anzeigen des Diagramms\n",
    "fig.show()"
   ]
  },
  {
   "cell_type": "code",
   "execution_count": 8,
   "metadata": {},
   "outputs": [],
   "source": [
    "china = population_df[population_df['entities'] == 'China'].copy()"
   ]
  },
  {
   "cell_type": "code",
   "execution_count": 9,
   "metadata": {},
   "outputs": [
    {
     "data": {
      "text/html": [
       "<div>\n",
       "<style scoped>\n",
       "    .dataframe tbody tr th:only-of-type {\n",
       "        vertical-align: middle;\n",
       "    }\n",
       "\n",
       "    .dataframe tbody tr th {\n",
       "        vertical-align: top;\n",
       "    }\n",
       "\n",
       "    .dataframe thead th {\n",
       "        text-align: right;\n",
       "    }\n",
       "</style>\n",
       "<table border=\"1\" class=\"dataframe\">\n",
       "  <thead>\n",
       "    <tr style=\"text-align: right;\">\n",
       "      <th></th>\n",
       "      <th>entities</th>\n",
       "      <th>years</th>\n",
       "      <th>population</th>\n",
       "    </tr>\n",
       "  </thead>\n",
       "  <tbody>\n",
       "    <tr>\n",
       "      <th>10915</th>\n",
       "      <td>China</td>\n",
       "      <td>2023</td>\n",
       "      <td>1422584878</td>\n",
       "    </tr>\n",
       "  </tbody>\n",
       "</table>\n",
       "</div>"
      ],
      "text/plain": [
       "      entities  years  population\n",
       "10915    China   2023  1422584878"
      ]
     },
     "execution_count": 9,
     "metadata": {},
     "output_type": "execute_result"
    }
   ],
   "source": [
    "china[china['years'] == 2023]"
   ]
  },
  {
   "cell_type": "markdown",
   "metadata": {},
   "source": [
    "## Bevölkerungs-Prognose: UN medium Scenario"
   ]
  },
  {
   "cell_type": "code",
   "execution_count": null,
   "metadata": {},
   "outputs": [],
   "source": [
    "population_projections = charts.get_data(\"population-with-un-projections\")"
   ]
  },
  {
   "cell_type": "code",
   "execution_count": null,
   "metadata": {},
   "outputs": [
    {
     "data": {
      "text/html": [
       "<div>\n",
       "<style scoped>\n",
       "    .dataframe tbody tr th:only-of-type {\n",
       "        vertical-align: middle;\n",
       "    }\n",
       "\n",
       "    .dataframe tbody tr th {\n",
       "        vertical-align: top;\n",
       "    }\n",
       "\n",
       "    .dataframe thead th {\n",
       "        text-align: right;\n",
       "    }\n",
       "</style>\n",
       "<table border=\"1\" class=\"dataframe\">\n",
       "  <thead>\n",
       "    <tr style=\"text-align: right;\">\n",
       "      <th></th>\n",
       "      <th>entities</th>\n",
       "      <th>years</th>\n",
       "      <th>population__sex_all__age_all__variant_estimates</th>\n",
       "      <th>population__sex_all__age_all__variant_medium</th>\n",
       "    </tr>\n",
       "  </thead>\n",
       "  <tbody>\n",
       "    <tr>\n",
       "      <th>6868</th>\n",
       "      <td>China</td>\n",
       "      <td>2023</td>\n",
       "      <td>1.422585e+09</td>\n",
       "      <td>NaN</td>\n",
       "    </tr>\n",
       "  </tbody>\n",
       "</table>\n",
       "</div>"
      ],
      "text/plain": [
       "     entities  years  population__sex_all__age_all__variant_estimates  \\\n",
       "6868    China   2023                                     1.422585e+09   \n",
       "\n",
       "      population__sex_all__age_all__variant_medium  \n",
       "6868                                           NaN  "
      ]
     },
     "execution_count": 11,
     "metadata": {},
     "output_type": "execute_result"
    }
   ],
   "source": [
    "population_projections[(population_projections['entities'] == 'China') & (population_projections['years'] == 2023)]"
   ]
  },
  {
   "cell_type": "code",
   "execution_count": 12,
   "metadata": {},
   "outputs": [
    {
     "data": {
      "text/html": [
       "<div>\n",
       "<style scoped>\n",
       "    .dataframe tbody tr th:only-of-type {\n",
       "        vertical-align: middle;\n",
       "    }\n",
       "\n",
       "    .dataframe tbody tr th {\n",
       "        vertical-align: top;\n",
       "    }\n",
       "\n",
       "    .dataframe thead th {\n",
       "        text-align: right;\n",
       "    }\n",
       "</style>\n",
       "<table border=\"1\" class=\"dataframe\">\n",
       "  <thead>\n",
       "    <tr style=\"text-align: right;\">\n",
       "      <th></th>\n",
       "      <th>entities</th>\n",
       "      <th>years</th>\n",
       "      <th>population__sex_all__age_all__variant_estimates</th>\n",
       "      <th>population__sex_all__age_all__variant_medium</th>\n",
       "    </tr>\n",
       "  </thead>\n",
       "  <tbody>\n",
       "    <tr>\n",
       "      <th>0</th>\n",
       "      <td>Afghanistan</td>\n",
       "      <td>1950</td>\n",
       "      <td>7776133.0</td>\n",
       "      <td>NaN</td>\n",
       "    </tr>\n",
       "    <tr>\n",
       "      <th>1</th>\n",
       "      <td>Afghanistan</td>\n",
       "      <td>1951</td>\n",
       "      <td>7879295.0</td>\n",
       "      <td>NaN</td>\n",
       "    </tr>\n",
       "    <tr>\n",
       "      <th>2</th>\n",
       "      <td>Afghanistan</td>\n",
       "      <td>1952</td>\n",
       "      <td>7987737.0</td>\n",
       "      <td>NaN</td>\n",
       "    </tr>\n",
       "    <tr>\n",
       "      <th>3</th>\n",
       "      <td>Afghanistan</td>\n",
       "      <td>1953</td>\n",
       "      <td>8096656.0</td>\n",
       "      <td>NaN</td>\n",
       "    </tr>\n",
       "    <tr>\n",
       "      <th>4</th>\n",
       "      <td>Afghanistan</td>\n",
       "      <td>1954</td>\n",
       "      <td>8207910.0</td>\n",
       "      <td>NaN</td>\n",
       "    </tr>\n",
       "  </tbody>\n",
       "</table>\n",
       "</div>"
      ],
      "text/plain": [
       "      entities  years  population__sex_all__age_all__variant_estimates  \\\n",
       "0  Afghanistan   1950                                        7776133.0   \n",
       "1  Afghanistan   1951                                        7879295.0   \n",
       "2  Afghanistan   1952                                        7987737.0   \n",
       "3  Afghanistan   1953                                        8096656.0   \n",
       "4  Afghanistan   1954                                        8207910.0   \n",
       "\n",
       "   population__sex_all__age_all__variant_medium  \n",
       "0                                           NaN  \n",
       "1                                           NaN  \n",
       "2                                           NaN  \n",
       "3                                           NaN  \n",
       "4                                           NaN  "
      ]
     },
     "execution_count": 12,
     "metadata": {},
     "output_type": "execute_result"
    }
   ],
   "source": [
    "population_projections.head()"
   ]
  },
  {
   "cell_type": "code",
   "execution_count": 13,
   "metadata": {},
   "outputs": [
    {
     "data": {
      "text/plain": [
       "array(['Afghanistan', 'Africa (UN)', 'Albania', 'Algeria',\n",
       "       'American Samoa', 'Americas (UN)', 'Andorra', 'Angola', 'Anguilla',\n",
       "       'Antigua and Barbuda', 'Argentina', 'Armenia', 'Aruba',\n",
       "       'Asia (UN)', 'Australia', 'Austria', 'Azerbaijan', 'Bahamas',\n",
       "       'Bahrain', 'Bangladesh', 'Barbados', 'Belarus', 'Belgium',\n",
       "       'Belize', 'Benin', 'Bermuda', 'Bhutan', 'Bolivia',\n",
       "       'Bonaire Sint Eustatius and Saba', 'Bosnia and Herzegovina',\n",
       "       'Botswana', 'Brazil', 'British Virgin Islands', 'Brunei',\n",
       "       'Bulgaria', 'Burkina Faso', 'Burundi', 'Cambodia', 'Cameroon',\n",
       "       'Canada', 'Cape Verde', 'Cayman Islands',\n",
       "       'Central African Republic', 'Chad', 'Chile', 'China', 'Colombia',\n",
       "       'Comoros', 'Congo', 'Cook Islands', 'Costa Rica', \"Cote d'Ivoire\",\n",
       "       'Croatia', 'Cuba', 'Curacao', 'Cyprus', 'Czechia',\n",
       "       'Democratic Republic of Congo', 'Denmark', 'Djibouti', 'Dominica',\n",
       "       'Dominican Republic', 'East Timor', 'Ecuador', 'Egypt',\n",
       "       'El Salvador', 'Equatorial Guinea', 'Eritrea', 'Estonia',\n",
       "       'Eswatini', 'Ethiopia', 'Europe (UN)', 'Falkland Islands',\n",
       "       'Faroe Islands', 'Fiji', 'Finland', 'France', 'French Guiana',\n",
       "       'French Polynesia', 'Gabon', 'Gambia', 'Georgia', 'Germany',\n",
       "       'Ghana', 'Gibraltar', 'Greece', 'Greenland', 'Grenada',\n",
       "       'Guadeloupe', 'Guam', 'Guatemala', 'Guernsey', 'Guinea',\n",
       "       'Guinea-Bissau', 'Guyana', 'Haiti', 'High-income countries',\n",
       "       'Honduras', 'Hong Kong', 'Hungary', 'Iceland', 'India',\n",
       "       'Indonesia', 'Iran', 'Iraq', 'Ireland', 'Isle of Man', 'Israel',\n",
       "       'Italy', 'Jamaica', 'Japan', 'Jersey', 'Jordan', 'Kazakhstan',\n",
       "       'Kenya', 'Kiribati', 'Kosovo', 'Kuwait', 'Kyrgyzstan',\n",
       "       'Land-locked developing countries (LLDC)', 'Laos',\n",
       "       'Latin America and the Caribbean (UN)', 'Latvia',\n",
       "       'Least developed countries', 'Lebanon', 'Lesotho',\n",
       "       'Less developed regions',\n",
       "       'Less developed regions, excluding China',\n",
       "       'Less developed regions, excluding least developed countries',\n",
       "       'Liberia', 'Libya', 'Liechtenstein', 'Lithuania',\n",
       "       'Low-income countries', 'Lower-middle-income countries',\n",
       "       'Luxembourg', 'Macao', 'Madagascar', 'Malawi', 'Malaysia',\n",
       "       'Maldives', 'Mali', 'Malta', 'Marshall Islands', 'Martinique',\n",
       "       'Mauritania', 'Mauritius', 'Mayotte', 'Mexico',\n",
       "       'Micronesia (country)', 'Moldova', 'Monaco', 'Mongolia',\n",
       "       'Montenegro', 'Montserrat', 'More developed regions', 'Morocco',\n",
       "       'Mozambique', 'Myanmar', 'Namibia', 'Nauru', 'Nepal',\n",
       "       'Netherlands', 'New Caledonia', 'New Zealand', 'Nicaragua',\n",
       "       'Niger', 'Nigeria', 'Niue', 'North Korea', 'North Macedonia',\n",
       "       'Northern America (UN)', 'Northern Mariana Islands', 'Norway',\n",
       "       'Oceania (UN)', 'Oman', 'Pakistan', 'Palau', 'Palestine', 'Panama',\n",
       "       'Papua New Guinea', 'Paraguay', 'Peru', 'Philippines', 'Poland',\n",
       "       'Portugal', 'Puerto Rico', 'Qatar', 'Reunion', 'Romania', 'Russia',\n",
       "       'Rwanda', 'Saint Barthelemy', 'Saint Helena',\n",
       "       'Saint Kitts and Nevis', 'Saint Lucia',\n",
       "       'Saint Martin (French part)', 'Saint Pierre and Miquelon',\n",
       "       'Saint Vincent and the Grenadines', 'Samoa', 'San Marino',\n",
       "       'Sao Tome and Principe', 'Saudi Arabia', 'Senegal', 'Serbia',\n",
       "       'Seychelles', 'Sierra Leone', 'Singapore',\n",
       "       'Sint Maarten (Dutch part)', 'Slovakia', 'Slovenia',\n",
       "       'Small island developing states (SIDS)', 'Solomon Islands',\n",
       "       'Somalia', 'South Africa', 'South Korea', 'South Sudan', 'Spain',\n",
       "       'Sri Lanka', 'Sudan', 'Suriname', 'Sweden', 'Switzerland', 'Syria',\n",
       "       'Taiwan', 'Tajikistan', 'Tanzania', 'Thailand', 'Togo', 'Tokelau',\n",
       "       'Tonga', 'Trinidad and Tobago', 'Tunisia', 'Turkey',\n",
       "       'Turkmenistan', 'Turks and Caicos Islands', 'Tuvalu', 'Uganda',\n",
       "       'Ukraine', 'United Arab Emirates', 'United Kingdom',\n",
       "       'United States', 'United States Virgin Islands',\n",
       "       'Upper-middle-income countries', 'Uruguay', 'Uzbekistan',\n",
       "       'Vanuatu', 'Vatican', 'Venezuela', 'Vietnam', 'Wallis and Futuna',\n",
       "       'Western Sahara', 'World', 'Yemen', 'Zambia', 'Zimbabwe'],\n",
       "      dtype=object)"
      ]
     },
     "execution_count": 13,
     "metadata": {},
     "output_type": "execute_result"
    }
   ],
   "source": [
    "population_projections[\"entities\"].unique()"
   ]
  },
  {
   "cell_type": "code",
   "execution_count": 14,
   "metadata": {},
   "outputs": [
    {
     "data": {
      "text/html": [
       "<div>\n",
       "<style scoped>\n",
       "    .dataframe tbody tr th:only-of-type {\n",
       "        vertical-align: middle;\n",
       "    }\n",
       "\n",
       "    .dataframe tbody tr th {\n",
       "        vertical-align: top;\n",
       "    }\n",
       "\n",
       "    .dataframe thead th {\n",
       "        text-align: right;\n",
       "    }\n",
       "</style>\n",
       "<table border=\"1\" class=\"dataframe\">\n",
       "  <thead>\n",
       "    <tr style=\"text-align: right;\">\n",
       "      <th></th>\n",
       "      <th>entities</th>\n",
       "      <th>years</th>\n",
       "      <th>population__sex_all__age_all__variant_estimates</th>\n",
       "      <th>population__sex_all__age_all__variant_medium</th>\n",
       "    </tr>\n",
       "  </thead>\n",
       "  <tbody>\n",
       "    <tr>\n",
       "      <th>38052</th>\n",
       "      <td>World</td>\n",
       "      <td>1950</td>\n",
       "      <td>2.493093e+09</td>\n",
       "      <td>NaN</td>\n",
       "    </tr>\n",
       "    <tr>\n",
       "      <th>38053</th>\n",
       "      <td>World</td>\n",
       "      <td>1951</td>\n",
       "      <td>2.536927e+09</td>\n",
       "      <td>NaN</td>\n",
       "    </tr>\n",
       "    <tr>\n",
       "      <th>38054</th>\n",
       "      <td>World</td>\n",
       "      <td>1952</td>\n",
       "      <td>2.584086e+09</td>\n",
       "      <td>NaN</td>\n",
       "    </tr>\n",
       "    <tr>\n",
       "      <th>38055</th>\n",
       "      <td>World</td>\n",
       "      <td>1953</td>\n",
       "      <td>2.634106e+09</td>\n",
       "      <td>NaN</td>\n",
       "    </tr>\n",
       "    <tr>\n",
       "      <th>38056</th>\n",
       "      <td>World</td>\n",
       "      <td>1954</td>\n",
       "      <td>2.685895e+09</td>\n",
       "      <td>NaN</td>\n",
       "    </tr>\n",
       "  </tbody>\n",
       "</table>\n",
       "</div>"
      ],
      "text/plain": [
       "      entities  years  population__sex_all__age_all__variant_estimates  \\\n",
       "38052    World   1950                                     2.493093e+09   \n",
       "38053    World   1951                                     2.536927e+09   \n",
       "38054    World   1952                                     2.584086e+09   \n",
       "38055    World   1953                                     2.634106e+09   \n",
       "38056    World   1954                                     2.685895e+09   \n",
       "\n",
       "       population__sex_all__age_all__variant_medium  \n",
       "38052                                           NaN  \n",
       "38053                                           NaN  \n",
       "38054                                           NaN  \n",
       "38055                                           NaN  \n",
       "38056                                           NaN  "
      ]
     },
     "execution_count": 14,
     "metadata": {},
     "output_type": "execute_result"
    }
   ],
   "source": [
    "population_projections_world = population_projections[population_projections['entities'] == 'World'].copy()\n",
    "population_projections_world.head()"
   ]
  },
  {
   "cell_type": "code",
   "execution_count": 15,
   "metadata": {},
   "outputs": [
    {
     "data": {
      "text/html": [
       "<div>\n",
       "<style scoped>\n",
       "    .dataframe tbody tr th:only-of-type {\n",
       "        vertical-align: middle;\n",
       "    }\n",
       "\n",
       "    .dataframe tbody tr th {\n",
       "        vertical-align: top;\n",
       "    }\n",
       "\n",
       "    .dataframe thead th {\n",
       "        text-align: right;\n",
       "    }\n",
       "</style>\n",
       "<table border=\"1\" class=\"dataframe\">\n",
       "  <thead>\n",
       "    <tr style=\"text-align: right;\">\n",
       "      <th></th>\n",
       "      <th>entities</th>\n",
       "      <th>years</th>\n",
       "      <th>population__sex_all__age_all__variant_estimates</th>\n",
       "      <th>population__sex_all__age_all__variant_medium</th>\n",
       "      <th>population_billions</th>\n",
       "    </tr>\n",
       "  </thead>\n",
       "  <tbody>\n",
       "    <tr>\n",
       "      <th>38052</th>\n",
       "      <td>World</td>\n",
       "      <td>1950</td>\n",
       "      <td>2.493093e+09</td>\n",
       "      <td>NaN</td>\n",
       "      <td>2.49</td>\n",
       "    </tr>\n",
       "    <tr>\n",
       "      <th>38053</th>\n",
       "      <td>World</td>\n",
       "      <td>1951</td>\n",
       "      <td>2.536927e+09</td>\n",
       "      <td>NaN</td>\n",
       "      <td>2.54</td>\n",
       "    </tr>\n",
       "    <tr>\n",
       "      <th>38054</th>\n",
       "      <td>World</td>\n",
       "      <td>1952</td>\n",
       "      <td>2.584086e+09</td>\n",
       "      <td>NaN</td>\n",
       "      <td>2.58</td>\n",
       "    </tr>\n",
       "    <tr>\n",
       "      <th>38055</th>\n",
       "      <td>World</td>\n",
       "      <td>1953</td>\n",
       "      <td>2.634106e+09</td>\n",
       "      <td>NaN</td>\n",
       "      <td>2.63</td>\n",
       "    </tr>\n",
       "    <tr>\n",
       "      <th>38056</th>\n",
       "      <td>World</td>\n",
       "      <td>1954</td>\n",
       "      <td>2.685895e+09</td>\n",
       "      <td>NaN</td>\n",
       "      <td>2.69</td>\n",
       "    </tr>\n",
       "  </tbody>\n",
       "</table>\n",
       "</div>"
      ],
      "text/plain": [
       "      entities  years  population__sex_all__age_all__variant_estimates  \\\n",
       "38052    World   1950                                     2.493093e+09   \n",
       "38053    World   1951                                     2.536927e+09   \n",
       "38054    World   1952                                     2.584086e+09   \n",
       "38055    World   1953                                     2.634106e+09   \n",
       "38056    World   1954                                     2.685895e+09   \n",
       "\n",
       "       population__sex_all__age_all__variant_medium  population_billions  \n",
       "38052                                           NaN                 2.49  \n",
       "38053                                           NaN                 2.54  \n",
       "38054                                           NaN                 2.58  \n",
       "38055                                           NaN                 2.63  \n",
       "38056                                           NaN                 2.69  "
      ]
     },
     "execution_count": 15,
     "metadata": {},
     "output_type": "execute_result"
    }
   ],
   "source": [
    "# Umrechnung in Milliarden\n",
    "population_projections_world['population_billions'] = round(population_projections_world['population__sex_all__age_all__variant_estimates'] / 1_000_000_000, 2)\n",
    "population_projections_world.head()"
   ]
  },
  {
   "cell_type": "code",
   "execution_count": 16,
   "metadata": {},
   "outputs": [
    {
     "data": {
      "application/vnd.plotly.v1+json": {
       "config": {
        "plotlyServerURL": "https://plot.ly"
       },
       "data": [
        {
         "line": {
          "color": "#2ecc71",
          "width": 3
         },
         "name": "Historische Daten",
         "type": "scatter",
         "x": {
          "bdata": "ngefB6AHoQeiB6MHpAelB6YHpweoB6kHqgerB6wHrQeuB68HsAexB7IHswe0B7UHtge3B7gHuQe6B7sHvAe9B74HvwfAB8EHwgfDB8QHxQfGB8cHyAfJB8oHywfMB80HzgfPB9AH0QfSB9MH1AfVB9YH1wfYB9kH2gfbB9wH3QfeB98H4AfhB+IH4wfkB+UH5gfnB+gH",
          "dtype": "i2"
         },
         "y": {
          "bdata": "GYFxo9rxA0BP4X1foEsEQJ3buW01rARAdRbwRKYSBUD8muxstnwFQKyEry716wVAcd3H4/9cBkADiN6JKdIGQKU5rzo9SgdAWg0XJkS6B0BfNWkvrx8IQENGiVvahAhA/JW8pKv8CEDEmDvN3ooJQCvc0YOrHQpAuthC/R+tCkCe4znheTsLQEcOx6mMyQtAfQXbG4tcDEArq2r7t/QMQJGUAVu2jg1AdkIG96UoDkD8G1EtZMIOQIqDI//OXQ9AD61f+qj4D0CeJHTPbkgQQKkCN1C1kxBAXyz6rRffEED4Vi6YGysRQFG0SmdieRFAwBwNRVnKEUDD1bDIdx0SQKtbEqdgcxJAvJkLOxDKEkDv1Tua8iATQETrDk3MeRNAYuRsBxHVE0CjbI+z8DIUQPtJcHtmkRRATCrM2w7wFEA9I5CZq08VQNteehfJrBVAfcgwLiIGFkCTM3LovV0WQAGD4bLDsxZAQYOCjxcJF0D7yKPXQ14XQA40jZD7shdANIyXezwHGECOoRV4JFsYQNzdDebSrxhA1dvMDA4FGUA/Rxb21VkZQAzMYEVzrhlAFxTTc3UDGkDJiTexDlkaQP1RVRqRrxpAMqmz8HsHG0AwCJN/uWAbQMhfqxsnuxtA041X8EAWHEAHfOb7lXEcQLQPUQMIzhxAzYS368sqHUBxPDJlxoYdQFL1gZ3I4R1AmuXEtPU7HkADgVTeHJUeQARYYJ9r6x5AJRf0wsM+H0CHlXQOSowfQGa/+OZa0R9AlFIF4PUKIEClE+Pe9y4gQAAAAAAAAPh/",
          "dtype": "f8"
         }
        },
        {
         "line": {
          "color": "rgba(46, 204, 113, 0.3)",
          "dash": "dash",
          "width": 2
         },
         "name": "Prognose",
         "type": "scatter",
         "x": {
          "bdata": "6AfpB+oH6wfsB+0H7gfvB/AH8QfyB/MH9Af1B/YH9wf4B/kH+gf7B/wH/Qf+B/8HAAgBCAIIAwgECAUIBggHCAgICQgKCAsIDAgNCA4IDwgQCBEIEggTCBQIFQgWCBcIGAgZCBoIGwgcCB0IHggfCCAIIQgiCCMIJAglCCYIJwgoCCkIKggrCCwILQguCC8IMAgxCDIIMwg0CA==",
          "dtype": "i2"
         },
         "y": {
          "bdata": "zlcaD+5SIEByGoH8lXYgQGAryYPymSBAFfG37Pm8IEAp0zWBjN8gQLOlRJuuASFAGlfiVWQjIUAO235Iq0QhQLNDv2B+ZSFArfjupdyFIUALT6Mhx6UhQMQI60M6xSFAEUuBBzHkIUA1IRBcowIiQB1bcZ+MICJAdgz/Ueo9IkABVjWruFoiQNSOtZvtdiJAVeeVDn2SIkA3WjEDZa0iQKNX4oWdxyJAxMVUcRjhIkCpcvipzPkiQOEP6/+vESNAWs/38LgoI0DCkMPK4j4jQAMwA20pVCNAoTsr44toI0DpICQVCnwjQEwNu4+mjiNAMxn7g2KgI0BNP9EKRrEjQM/fUVFfwSNAl+uG0LXQI0DLQ67tUN8jQEfNsoI67SNAN4SIpnz6I0Cu3tkFIAckQCTCkdAuEyRApRcxw7EeJECVEimdrSkkQI2JbJ4lNCRAFbZQRh0+JECWcqr0lEckQIQy6N+JUCRAFYPR9vlYJEAIybtQ5GAkQJNtSPJIaCRAeOV42iFvJEALj0xzanUkQKifW9sgeyRAwTptEUGAJEBvJJa1yYQkQELT8Ry6iCRABLiikg+MJEDUj95Uyo4kQJdGspjvkCRAIpsRyYOSJEBLr2qcj5MkQF9sfTgYlCRA9S4qHiGUJECCz2+VsJMkQIDnwG3LkiRA5+dvCneRJEBs8IaAuI8kQHnbRcuTjSRAxYh3kgqLJEACZw0EH4gkQLNgTyzRhCRAzSHwWh6BJECksnrqBX0kQNN74dCGeCRAjx4VuKJzJEB39p95XG4kQFd+4eGyaCRA4OCtIahiJEAQQEkFPlwkQA==",
          "dtype": "f8"
         }
        }
       ],
       "layout": {
        "annotations": [
         {
          "align": "left",
          "bgcolor": "rgba(0,0,0,0.7)",
          "bordercolor": "#2ecc71",
          "borderwidth": 1,
          "font": {
           "color": "white",
           "size": 12
          },
          "showarrow": false,
          "text": "1950: 2.49 Mrd.",
          "x": 1950,
          "xanchor": "left",
          "xshift": 50,
          "y": 2.493092801,
          "yshift": 20
         },
         {
          "align": "left",
          "bgcolor": "rgba(0,0,0,0.7)",
          "bordercolor": "#2ecc71",
          "borderwidth": 1,
          "font": {
           "color": "white",
           "size": 12
          },
          "showarrow": false,
          "text": "2000: 6.17 Mrd.",
          "x": 2000,
          "xanchor": "left",
          "xshift": 50,
          "y": 6.171702952,
          "yshift": -30
         },
         {
          "align": "left",
          "bgcolor": "rgba(0,0,0,0.7)",
          "bordercolor": "#2ecc71",
          "borderwidth": 1,
          "font": {
           "color": "white",
           "size": 12
          },
          "showarrow": false,
          "text": "2023: 8.09 Mrd.",
          "x": 2023,
          "xanchor": "left",
          "xshift": 50,
          "y": 8.091734853,
          "yshift": 30
         },
         {
          "align": "center",
          "arrowhead": 1,
          "bgcolor": "rgba(0,0,0,0.7)",
          "bordercolor": "rgba(46, 204, 113, 0.3)",
          "borderwidth": 1,
          "font": {
           "color": "white",
           "size": 12
          },
          "showarrow": true,
          "text": "Maximum (2084): 10.29 Mrd.",
          "x": 2084,
          "xanchor": "center",
          "xshift": 0,
          "y": 10.289315169,
          "yshift": 5
         }
        ],
        "height": 800,
        "legend": {
         "x": 0.01,
         "xanchor": "left",
         "y": 0.99,
         "yanchor": "top"
        },
        "paper_bgcolor": "rgba(0,0,0,0.95)",
        "plot_bgcolor": "rgba(0,0,0,0.95)",
        "showlegend": true,
        "template": {
         "data": {
          "bar": [
           {
            "error_x": {
             "color": "#f2f5fa"
            },
            "error_y": {
             "color": "#f2f5fa"
            },
            "marker": {
             "line": {
              "color": "rgb(17,17,17)",
              "width": 0.5
             },
             "pattern": {
              "fillmode": "overlay",
              "size": 10,
              "solidity": 0.2
             }
            },
            "type": "bar"
           }
          ],
          "barpolar": [
           {
            "marker": {
             "line": {
              "color": "rgb(17,17,17)",
              "width": 0.5
             },
             "pattern": {
              "fillmode": "overlay",
              "size": 10,
              "solidity": 0.2
             }
            },
            "type": "barpolar"
           }
          ],
          "carpet": [
           {
            "aaxis": {
             "endlinecolor": "#A2B1C6",
             "gridcolor": "#506784",
             "linecolor": "#506784",
             "minorgridcolor": "#506784",
             "startlinecolor": "#A2B1C6"
            },
            "baxis": {
             "endlinecolor": "#A2B1C6",
             "gridcolor": "#506784",
             "linecolor": "#506784",
             "minorgridcolor": "#506784",
             "startlinecolor": "#A2B1C6"
            },
            "type": "carpet"
           }
          ],
          "choropleth": [
           {
            "colorbar": {
             "outlinewidth": 0,
             "ticks": ""
            },
            "type": "choropleth"
           }
          ],
          "contour": [
           {
            "colorbar": {
             "outlinewidth": 0,
             "ticks": ""
            },
            "colorscale": [
             [
              0,
              "#0d0887"
             ],
             [
              0.1111111111111111,
              "#46039f"
             ],
             [
              0.2222222222222222,
              "#7201a8"
             ],
             [
              0.3333333333333333,
              "#9c179e"
             ],
             [
              0.4444444444444444,
              "#bd3786"
             ],
             [
              0.5555555555555556,
              "#d8576b"
             ],
             [
              0.6666666666666666,
              "#ed7953"
             ],
             [
              0.7777777777777778,
              "#fb9f3a"
             ],
             [
              0.8888888888888888,
              "#fdca26"
             ],
             [
              1,
              "#f0f921"
             ]
            ],
            "type": "contour"
           }
          ],
          "contourcarpet": [
           {
            "colorbar": {
             "outlinewidth": 0,
             "ticks": ""
            },
            "type": "contourcarpet"
           }
          ],
          "heatmap": [
           {
            "colorbar": {
             "outlinewidth": 0,
             "ticks": ""
            },
            "colorscale": [
             [
              0,
              "#0d0887"
             ],
             [
              0.1111111111111111,
              "#46039f"
             ],
             [
              0.2222222222222222,
              "#7201a8"
             ],
             [
              0.3333333333333333,
              "#9c179e"
             ],
             [
              0.4444444444444444,
              "#bd3786"
             ],
             [
              0.5555555555555556,
              "#d8576b"
             ],
             [
              0.6666666666666666,
              "#ed7953"
             ],
             [
              0.7777777777777778,
              "#fb9f3a"
             ],
             [
              0.8888888888888888,
              "#fdca26"
             ],
             [
              1,
              "#f0f921"
             ]
            ],
            "type": "heatmap"
           }
          ],
          "histogram": [
           {
            "marker": {
             "pattern": {
              "fillmode": "overlay",
              "size": 10,
              "solidity": 0.2
             }
            },
            "type": "histogram"
           }
          ],
          "histogram2d": [
           {
            "colorbar": {
             "outlinewidth": 0,
             "ticks": ""
            },
            "colorscale": [
             [
              0,
              "#0d0887"
             ],
             [
              0.1111111111111111,
              "#46039f"
             ],
             [
              0.2222222222222222,
              "#7201a8"
             ],
             [
              0.3333333333333333,
              "#9c179e"
             ],
             [
              0.4444444444444444,
              "#bd3786"
             ],
             [
              0.5555555555555556,
              "#d8576b"
             ],
             [
              0.6666666666666666,
              "#ed7953"
             ],
             [
              0.7777777777777778,
              "#fb9f3a"
             ],
             [
              0.8888888888888888,
              "#fdca26"
             ],
             [
              1,
              "#f0f921"
             ]
            ],
            "type": "histogram2d"
           }
          ],
          "histogram2dcontour": [
           {
            "colorbar": {
             "outlinewidth": 0,
             "ticks": ""
            },
            "colorscale": [
             [
              0,
              "#0d0887"
             ],
             [
              0.1111111111111111,
              "#46039f"
             ],
             [
              0.2222222222222222,
              "#7201a8"
             ],
             [
              0.3333333333333333,
              "#9c179e"
             ],
             [
              0.4444444444444444,
              "#bd3786"
             ],
             [
              0.5555555555555556,
              "#d8576b"
             ],
             [
              0.6666666666666666,
              "#ed7953"
             ],
             [
              0.7777777777777778,
              "#fb9f3a"
             ],
             [
              0.8888888888888888,
              "#fdca26"
             ],
             [
              1,
              "#f0f921"
             ]
            ],
            "type": "histogram2dcontour"
           }
          ],
          "mesh3d": [
           {
            "colorbar": {
             "outlinewidth": 0,
             "ticks": ""
            },
            "type": "mesh3d"
           }
          ],
          "parcoords": [
           {
            "line": {
             "colorbar": {
              "outlinewidth": 0,
              "ticks": ""
             }
            },
            "type": "parcoords"
           }
          ],
          "pie": [
           {
            "automargin": true,
            "type": "pie"
           }
          ],
          "scatter": [
           {
            "marker": {
             "line": {
              "color": "#283442"
             }
            },
            "type": "scatter"
           }
          ],
          "scatter3d": [
           {
            "line": {
             "colorbar": {
              "outlinewidth": 0,
              "ticks": ""
             }
            },
            "marker": {
             "colorbar": {
              "outlinewidth": 0,
              "ticks": ""
             }
            },
            "type": "scatter3d"
           }
          ],
          "scattercarpet": [
           {
            "marker": {
             "colorbar": {
              "outlinewidth": 0,
              "ticks": ""
             }
            },
            "type": "scattercarpet"
           }
          ],
          "scattergeo": [
           {
            "marker": {
             "colorbar": {
              "outlinewidth": 0,
              "ticks": ""
             }
            },
            "type": "scattergeo"
           }
          ],
          "scattergl": [
           {
            "marker": {
             "line": {
              "color": "#283442"
             }
            },
            "type": "scattergl"
           }
          ],
          "scattermap": [
           {
            "marker": {
             "colorbar": {
              "outlinewidth": 0,
              "ticks": ""
             }
            },
            "type": "scattermap"
           }
          ],
          "scattermapbox": [
           {
            "marker": {
             "colorbar": {
              "outlinewidth": 0,
              "ticks": ""
             }
            },
            "type": "scattermapbox"
           }
          ],
          "scatterpolar": [
           {
            "marker": {
             "colorbar": {
              "outlinewidth": 0,
              "ticks": ""
             }
            },
            "type": "scatterpolar"
           }
          ],
          "scatterpolargl": [
           {
            "marker": {
             "colorbar": {
              "outlinewidth": 0,
              "ticks": ""
             }
            },
            "type": "scatterpolargl"
           }
          ],
          "scatterternary": [
           {
            "marker": {
             "colorbar": {
              "outlinewidth": 0,
              "ticks": ""
             }
            },
            "type": "scatterternary"
           }
          ],
          "surface": [
           {
            "colorbar": {
             "outlinewidth": 0,
             "ticks": ""
            },
            "colorscale": [
             [
              0,
              "#0d0887"
             ],
             [
              0.1111111111111111,
              "#46039f"
             ],
             [
              0.2222222222222222,
              "#7201a8"
             ],
             [
              0.3333333333333333,
              "#9c179e"
             ],
             [
              0.4444444444444444,
              "#bd3786"
             ],
             [
              0.5555555555555556,
              "#d8576b"
             ],
             [
              0.6666666666666666,
              "#ed7953"
             ],
             [
              0.7777777777777778,
              "#fb9f3a"
             ],
             [
              0.8888888888888888,
              "#fdca26"
             ],
             [
              1,
              "#f0f921"
             ]
            ],
            "type": "surface"
           }
          ],
          "table": [
           {
            "cells": {
             "fill": {
              "color": "#506784"
             },
             "line": {
              "color": "rgb(17,17,17)"
             }
            },
            "header": {
             "fill": {
              "color": "#2a3f5f"
             },
             "line": {
              "color": "rgb(17,17,17)"
             }
            },
            "type": "table"
           }
          ]
         },
         "layout": {
          "annotationdefaults": {
           "arrowcolor": "#f2f5fa",
           "arrowhead": 0,
           "arrowwidth": 1
          },
          "autotypenumbers": "strict",
          "coloraxis": {
           "colorbar": {
            "outlinewidth": 0,
            "ticks": ""
           }
          },
          "colorscale": {
           "diverging": [
            [
             0,
             "#8e0152"
            ],
            [
             0.1,
             "#c51b7d"
            ],
            [
             0.2,
             "#de77ae"
            ],
            [
             0.3,
             "#f1b6da"
            ],
            [
             0.4,
             "#fde0ef"
            ],
            [
             0.5,
             "#f7f7f7"
            ],
            [
             0.6,
             "#e6f5d0"
            ],
            [
             0.7,
             "#b8e186"
            ],
            [
             0.8,
             "#7fbc41"
            ],
            [
             0.9,
             "#4d9221"
            ],
            [
             1,
             "#276419"
            ]
           ],
           "sequential": [
            [
             0,
             "#0d0887"
            ],
            [
             0.1111111111111111,
             "#46039f"
            ],
            [
             0.2222222222222222,
             "#7201a8"
            ],
            [
             0.3333333333333333,
             "#9c179e"
            ],
            [
             0.4444444444444444,
             "#bd3786"
            ],
            [
             0.5555555555555556,
             "#d8576b"
            ],
            [
             0.6666666666666666,
             "#ed7953"
            ],
            [
             0.7777777777777778,
             "#fb9f3a"
            ],
            [
             0.8888888888888888,
             "#fdca26"
            ],
            [
             1,
             "#f0f921"
            ]
           ],
           "sequentialminus": [
            [
             0,
             "#0d0887"
            ],
            [
             0.1111111111111111,
             "#46039f"
            ],
            [
             0.2222222222222222,
             "#7201a8"
            ],
            [
             0.3333333333333333,
             "#9c179e"
            ],
            [
             0.4444444444444444,
             "#bd3786"
            ],
            [
             0.5555555555555556,
             "#d8576b"
            ],
            [
             0.6666666666666666,
             "#ed7953"
            ],
            [
             0.7777777777777778,
             "#fb9f3a"
            ],
            [
             0.8888888888888888,
             "#fdca26"
            ],
            [
             1,
             "#f0f921"
            ]
           ]
          },
          "colorway": [
           "#636efa",
           "#EF553B",
           "#00cc96",
           "#ab63fa",
           "#FFA15A",
           "#19d3f3",
           "#FF6692",
           "#B6E880",
           "#FF97FF",
           "#FECB52"
          ],
          "font": {
           "color": "#f2f5fa"
          },
          "geo": {
           "bgcolor": "rgb(17,17,17)",
           "lakecolor": "rgb(17,17,17)",
           "landcolor": "rgb(17,17,17)",
           "showlakes": true,
           "showland": true,
           "subunitcolor": "#506784"
          },
          "hoverlabel": {
           "align": "left"
          },
          "hovermode": "closest",
          "mapbox": {
           "style": "dark"
          },
          "paper_bgcolor": "rgb(17,17,17)",
          "plot_bgcolor": "rgb(17,17,17)",
          "polar": {
           "angularaxis": {
            "gridcolor": "#506784",
            "linecolor": "#506784",
            "ticks": ""
           },
           "bgcolor": "rgb(17,17,17)",
           "radialaxis": {
            "gridcolor": "#506784",
            "linecolor": "#506784",
            "ticks": ""
           }
          },
          "scene": {
           "xaxis": {
            "backgroundcolor": "rgb(17,17,17)",
            "gridcolor": "#506784",
            "gridwidth": 2,
            "linecolor": "#506784",
            "showbackground": true,
            "ticks": "",
            "zerolinecolor": "#C8D4E3"
           },
           "yaxis": {
            "backgroundcolor": "rgb(17,17,17)",
            "gridcolor": "#506784",
            "gridwidth": 2,
            "linecolor": "#506784",
            "showbackground": true,
            "ticks": "",
            "zerolinecolor": "#C8D4E3"
           },
           "zaxis": {
            "backgroundcolor": "rgb(17,17,17)",
            "gridcolor": "#506784",
            "gridwidth": 2,
            "linecolor": "#506784",
            "showbackground": true,
            "ticks": "",
            "zerolinecolor": "#C8D4E3"
           }
          },
          "shapedefaults": {
           "line": {
            "color": "#f2f5fa"
           }
          },
          "sliderdefaults": {
           "bgcolor": "#C8D4E3",
           "bordercolor": "rgb(17,17,17)",
           "borderwidth": 1,
           "tickwidth": 0
          },
          "ternary": {
           "aaxis": {
            "gridcolor": "#506784",
            "linecolor": "#506784",
            "ticks": ""
           },
           "baxis": {
            "gridcolor": "#506784",
            "linecolor": "#506784",
            "ticks": ""
           },
           "bgcolor": "rgb(17,17,17)",
           "caxis": {
            "gridcolor": "#506784",
            "linecolor": "#506784",
            "ticks": ""
           }
          },
          "title": {
           "x": 0.05
          },
          "updatemenudefaults": {
           "bgcolor": "#506784",
           "borderwidth": 0
          },
          "xaxis": {
           "automargin": true,
           "gridcolor": "#283442",
           "linecolor": "#506784",
           "ticks": "",
           "title": {
            "standoff": 15
           },
           "zerolinecolor": "#283442",
           "zerolinewidth": 2
          },
          "yaxis": {
           "automargin": true,
           "gridcolor": "#283442",
           "linecolor": "#506784",
           "ticks": "",
           "title": {
            "standoff": 15
           },
           "zerolinecolor": "#283442",
           "zerolinewidth": 2
          }
         }
        },
        "title": {
         "font": {
          "size": 24
         },
         "text": "Weltbevölkerung: Historie und Prognose",
         "x": 0.5,
         "xanchor": "center",
         "y": 0.95,
         "yanchor": "top"
        },
        "width": 1200,
        "xaxis": {
         "dtick": 25,
         "range": [
          1950,
          2100
         ],
         "side": "bottom",
         "tickangle": 0,
         "tickfont": {
          "size": 12
         },
         "ticklen": 10,
         "ticks": "outside",
         "title": {
          "standoff": 25,
          "text": "Jahr"
         }
        },
        "yaxis": {
         "dtick": 1,
         "gridwidth": 0.5,
         "range": [
          2,
          11
         ],
         "title": {
          "text": "Bevölkerung (Milliarden)"
         }
        }
       }
      }
     },
     "metadata": {},
     "output_type": "display_data"
    }
   ],
   "source": [
    "import plotly.graph_objects as go\n",
    "\n",
    "# Daten vorbereiten wie zuvor\n",
    "historical_data = population_projections_world[population_projections_world['years'] <= 2024].copy()\n",
    "historical_data['population_billions'] = historical_data['population__sex_all__age_all__variant_estimates'] / 1_000_000_000\n",
    "\n",
    "forecast_data = population_projections_world[population_projections_world['years'] >= 2024].copy()\n",
    "forecast_data['population_billions'] = forecast_data['population__sex_all__age_all__variant_medium'] / 1_000_000_000\n",
    "\n",
    "# Grafik erstellen\n",
    "fig = go.Figure()\n",
    "\n",
    "# Historische Daten (kräftiges Grün)\n",
    "fig.add_trace(go.Scatter(\n",
    "    x=historical_data['years'],\n",
    "    y=historical_data['population_billions'],\n",
    "    name='Historische Daten',\n",
    "    line=dict(color='#2ecc71', width=3)\n",
    "))\n",
    "\n",
    "# Prognosedaten (blasses, gestricheltes Grün)\n",
    "fig.add_trace(go.Scatter(\n",
    "    x=forecast_data['years'],\n",
    "    y=forecast_data['population_billions'],\n",
    "    name='Prognose',\n",
    "    line=dict(color='rgba(46, 204, 113, 0.3)', width=2, dash='dash')\n",
    "))\n",
    "\n",
    "# Layout anpassen\n",
    "fig.update_layout(\n",
    "    title={\n",
    "        'text': 'Weltbevölkerung: Historie und Prognose',\n",
    "        'y': 0.95,\n",
    "        'x': 0.5,\n",
    "        'xanchor': 'center',\n",
    "        'yanchor': 'top',\n",
    "        'font': {'size': 24}\n",
    "    },\n",
    "    xaxis_title=\"Jahr\",\n",
    "    yaxis_title=\"Bevölkerung (Milliarden)\",\n",
    "    template='plotly_dark',\n",
    "    showlegend=True,\n",
    "    legend=dict(\n",
    "        yanchor=\"top\",\n",
    "        y=0.99,\n",
    "        xanchor=\"left\",\n",
    "        x=0.01\n",
    "    ),\n",
    "    height=800,\n",
    "    width=1200,\n",
    "    xaxis=dict(\n",
    "        range=[1950, 2100],\n",
    "        dtick=25,\n",
    "        ticks='outside',        # Tickmarks nach außen\n",
    "        ticklen=10,            # Länge der Tickmarks\n",
    "        tickfont=dict(size=12),\n",
    "        tickangle=0,           # Keine Rotation der Jahre\n",
    "        title_standoff=25,     # Mehr Abstand zwischen Achsentitel und Ticks\n",
    "        side='bottom'          # Position der Achse unten\n",
    "    ),\n",
    "    yaxis=dict(\n",
    "        range=[2, 11],\n",
    "        dtick=1,\n",
    "        gridwidth=0.5,\n",
    "    ),\n",
    "    plot_bgcolor='rgba(0,0,0,0.95)',\n",
    "    paper_bgcolor='rgba(0,0,0,0.95)',\n",
    ")\n",
    "\n",
    "# Spezifische Jahre für Annotationen\n",
    "years_to_annotate = [1950, 2000, 2023]\n",
    "y_shifts = [20, -30, 30]  # Verschiedene y-Verschiebungen für bessere Lesbarkeit\n",
    "x_shifts = [50, 50, 50]   # Horizontale Verschiebung für rechtsbündige Ausrichtung\n",
    "\n",
    "for year, y_shift, x_shift in zip(years_to_annotate, y_shifts, x_shifts):\n",
    "    data_point = historical_data[historical_data['years'] == year]\n",
    "    if not data_point.empty:\n",
    "        fig.add_annotation(\n",
    "            x=year,\n",
    "            y=data_point['population_billions'].iloc[0],\n",
    "            text=f\"{year}: {data_point['population_billions'].iloc[0]:.2f} Mrd.\",\n",
    "            showarrow=False,\n",
    "            font=dict(size=12, color='white'),\n",
    "            bgcolor='rgba(0,0,0,0.7)',\n",
    "            bordercolor='#2ecc71',\n",
    "            borderwidth=1,\n",
    "            yshift=y_shift,\n",
    "            xshift=x_shift,     # Horizontale Verschiebung\n",
    "            align='left',       # Text-Ausrichtung in der Box\n",
    "            xanchor='left'      # Ausrichtung der Box relativ zum Datenpunkt\n",
    "        )\n",
    "\n",
    "# Maximum-Punkt der Prognose - zentriert\n",
    "max_point = forecast_data.loc[forecast_data['population_billions'].idxmax()]\n",
    "fig.add_annotation(\n",
    "    x=max_point['years'],\n",
    "    y=max_point['population_billions'],\n",
    "    text=f\"Maximum ({int(max_point['years'])}): {max_point['population_billions']:.2f} Mrd.\",\n",
    "    showarrow=True,\n",
    "    arrowhead=1,\n",
    "    font=dict(size=12, color='white'),\n",
    "    bgcolor='rgba(0,0,0,0.7)',\n",
    "    bordercolor='rgba(46, 204, 113, 0.3)',\n",
    "    borderwidth=1,\n",
    "    yshift=5,        # Vertikale Verschiebung nach oben\n",
    "    xshift=0,         # Keine horizontale Verschiebung\n",
    "    align='center',   # Text-Ausrichtung in der Box zentriert\n",
    "    xanchor='center'  # Box zentriert über dem Datenpunkt\n",
    ")\n",
    "\n",
    "# Anzeigen der Grafik\n",
    "fig.show()"
   ]
  },
  {
   "cell_type": "markdown",
   "metadata": {},
   "source": [
    "## Beispiel: China"
   ]
  },
  {
   "cell_type": "code",
   "execution_count": 52,
   "metadata": {},
   "outputs": [],
   "source": [
    "population_projections = charts.get_data(\"population-with-un-projections\")"
   ]
  },
  {
   "cell_type": "code",
   "execution_count": 53,
   "metadata": {},
   "outputs": [],
   "source": [
    "population_projections_china = population_projections[population_projections['entities'] == 'China'].copy()"
   ]
  },
  {
   "cell_type": "code",
   "execution_count": 54,
   "metadata": {},
   "outputs": [
    {
     "data": {
      "text/html": [
       "<div>\n",
       "<style scoped>\n",
       "    .dataframe tbody tr th:only-of-type {\n",
       "        vertical-align: middle;\n",
       "    }\n",
       "\n",
       "    .dataframe tbody tr th {\n",
       "        vertical-align: top;\n",
       "    }\n",
       "\n",
       "    .dataframe thead th {\n",
       "        text-align: right;\n",
       "    }\n",
       "</style>\n",
       "<table border=\"1\" class=\"dataframe\">\n",
       "  <thead>\n",
       "    <tr style=\"text-align: right;\">\n",
       "      <th></th>\n",
       "      <th>entities</th>\n",
       "      <th>years</th>\n",
       "      <th>population__sex_all__age_all__variant_estimates</th>\n",
       "      <th>population__sex_all__age_all__variant_medium</th>\n",
       "      <th>population_billions</th>\n",
       "    </tr>\n",
       "  </thead>\n",
       "  <tbody>\n",
       "    <tr>\n",
       "      <th>6795</th>\n",
       "      <td>China</td>\n",
       "      <td>1950</td>\n",
       "      <td>544044304.0</td>\n",
       "      <td>NaN</td>\n",
       "      <td>0.54</td>\n",
       "    </tr>\n",
       "    <tr>\n",
       "      <th>6796</th>\n",
       "      <td>China</td>\n",
       "      <td>1951</td>\n",
       "      <td>553758189.0</td>\n",
       "      <td>NaN</td>\n",
       "      <td>0.55</td>\n",
       "    </tr>\n",
       "    <tr>\n",
       "      <th>6797</th>\n",
       "      <td>China</td>\n",
       "      <td>1952</td>\n",
       "      <td>565131382.0</td>\n",
       "      <td>NaN</td>\n",
       "      <td>0.57</td>\n",
       "    </tr>\n",
       "    <tr>\n",
       "      <th>6798</th>\n",
       "      <td>China</td>\n",
       "      <td>1953</td>\n",
       "      <td>577557087.0</td>\n",
       "      <td>NaN</td>\n",
       "      <td>0.58</td>\n",
       "    </tr>\n",
       "    <tr>\n",
       "      <th>6799</th>\n",
       "      <td>China</td>\n",
       "      <td>1954</td>\n",
       "      <td>590113816.0</td>\n",
       "      <td>NaN</td>\n",
       "      <td>0.59</td>\n",
       "    </tr>\n",
       "  </tbody>\n",
       "</table>\n",
       "</div>"
      ],
      "text/plain": [
       "     entities  years  population__sex_all__age_all__variant_estimates  \\\n",
       "6795    China   1950                                      544044304.0   \n",
       "6796    China   1951                                      553758189.0   \n",
       "6797    China   1952                                      565131382.0   \n",
       "6798    China   1953                                      577557087.0   \n",
       "6799    China   1954                                      590113816.0   \n",
       "\n",
       "      population__sex_all__age_all__variant_medium  population_billions  \n",
       "6795                                           NaN                 0.54  \n",
       "6796                                           NaN                 0.55  \n",
       "6797                                           NaN                 0.57  \n",
       "6798                                           NaN                 0.58  \n",
       "6799                                           NaN                 0.59  "
      ]
     },
     "execution_count": 54,
     "metadata": {},
     "output_type": "execute_result"
    }
   ],
   "source": [
    "# Umrechnung in Milliarden\n",
    "population_projections_china['population_billions'] = round(population_projections_china['population__sex_all__age_all__variant_estimates'] / 1_000_000_000, 2)\n",
    "population_projections_china.head()"
   ]
  },
  {
   "cell_type": "code",
   "execution_count": 58,
   "metadata": {},
   "outputs": [
    {
     "data": {
      "application/vnd.plotly.v1+json": {
       "config": {
        "plotlyServerURL": "https://plot.ly"
       },
       "data": [
        {
         "line": {
          "color": "#2ecc71",
          "width": 3
         },
         "name": "Historische Daten (China)",
         "type": "scatter",
         "x": {
          "bdata": "ngefB6AHoQeiB6MHpAelB6YHpweoB6kHqgerB6wHrQeuB68HsAexB7IHswe0B7UHtge3B7gHuQe6B7sHvAe9B74HvwfAB8EHwgfDB8QHxQfGB8cHyAfJB8oHywfMB80HzgfPB9AH0QfSB9MH1AfVB9YH1wfYB9kH2gfbB9wH3QfeB98H4AfhB+IH4wfkB+UH5gfnBw==",
          "dtype": "i2"
         },
         "y": {
          "bdata": "oimomc9o4T/BtfQXY7jhP9tDdGiOFeI/6p0HAFl74j+LaJReNuLiP2EeJbtBUOM/o2Ii+di64z9vWB2w4CvkP92ZqxRyneQ/wDrQO/zi5D81FOZZI/TkP+iND4oY/OQ/w5tWhkhI5T9mBmHW2uflPz4Y7fu0jeY/JNM+qTgm5z/Y36IrwsHnP8qRtyRTWug/72nfwAr+6D9Ut2kiIqvpP9Dj+u6LWOo/FKmEtZ4C6z9XXu2GP6PrP8E+mucRPuw/p5k/vVHP7D9e2nUR1FDtP9rgDwKcxe0/wDoXEYgx7j/VS0LY35juPzy/SU9oBO8/JjyrSRN27z97khOkVO3vP+ug2CuoN/A/F0PCwgx38D+8Uzmhm7PwP6QlA/749PA/YfCgQVk88T/y+7A+G4rxP4SLwTUK2PE/WGWks9Mk8j/HrYQZE3XyPzXbxrOMu/I/UV4zEgT08j+/ZBP7LCjzPzKCw5QTWPM/l06nGauF8z/RZrEh87HzP1xt0ii12/M/IurEOXgD9D+b80Lwrin0PwlO4Eo0UPQ/tm8oW6h19D8pnaiiAZf0P80mjb9XtvQ/MOMfFmfV9D/Jd6r13vX0P7ZHOsa/FvU/zMriPYg29T+NtZ6lVFf1P129CQz5evU/4y5d6f6f9T+tjFoilsP1P4flWqqO6fU/Cz8DrWoQ9j9kII0SDTX2P4br/biQVvY/dybU1v929j87UFE8AZn2P/br0q9CtPY/gaJROL3G9j9e2SaRVNH2P00Irtav0vY/cllhB4nN9j/XtGxc6ML2Pw==",
          "dtype": "f8"
         }
        },
        {
         "line": {
          "color": "rgba(46, 204, 113, 0.3)",
          "dash": "dash",
          "width": 2
         },
         "name": "Prognose (China)",
         "type": "scatter",
         "x": {
          "bdata": "6AfpB+oH6wfsB+0H7gfvB/AH8QfyB/MH9Af1B/YH9wf4B/kH+gf7B/wH/Qf+B/8HAAgBCAIIAwgECAUIBggHCAgICQgKCAsIDAgNCA4IDwgQCBEIEggTCBQIFQgWCBcIGAgZCBoIGwgcCB0IHggfCCAIIQgiCCMIJAglCCYIJwgoCCkIKggrCCwILQguCC8IMAgxCDIIMwg0CA==",
          "dtype": "i2"
         },
         "y": {
          "bdata": "WuWVLYq19j+f6utUVKj2P/3na8FLm/Y/idy98AuO9j+cIHUxiX/2P4Aw3vm/b/Y/qsfCf9Ze9j/USSNXy0z2P3H+jveWOfY/5GJEVkIl9j97Cs834Q/2P43CfBmP+fU/ocmvM0bi9T86G1BBDsr1P2aIIUEKsfU/x5bC3B6X9T/R48JELXz1P7S3kTs3YPU/Pt0ORzZD9T+ULIBZPCX1P+twHpU1BvU/IU6zgtfl9D+bowhV3MP0P16hp7I8oPQ/ZxDidNl69D/ZTd8he1P0P+2rStkkKvQ/KC/Uj73+8z+Q3eQ7IdHzP5qPfSaBofM/rRabAApw8z+MnQxoyzzzP8UQJOLyB/M/vFuJ28nR8j8QkisTg5ryP9fLOAtQYvI/GsFeEnsp8j+9i4DVVPDxPwjWmcQet/E/b9jhqA9+8T+ddvsjQUXxP3vjWqPUDPE/tA/QgvLU8D8ryt+clZ3wP7JUgdTSZvA/P/VjIacw8D9OSpxwCvbvP8p0LBK6i+8/gzfe/Aoi7z/E2h/1xbjuP1NfoOjdT+4/V5yIgybn7T8bfVX5YX7tP4lQ8/V/Fe0/RExZ62Os7D+cki1E50LsP+AWrVUb2es/WAZWhzxv6z9G6IM/pQXrP4KlikeBnOo/1X4XKLwz6j/Jl4WzscvpPw858krWZOk/FIp39zX/6D9xfUtF0proP88Wt6HHN+g/+KebXj7W5z9WGzamNHbnP/U5SYNzF+c/G+kF0te55j+21OtdVl3mP86fQ9TVAeY/J9HXmzSn5T9vlaaPYE3lPygutUhU9OQ/iCA5Xw2c5D9kYV8djUTkPw==",
          "dtype": "f8"
         }
        }
       ],
       "layout": {
        "annotations": [
         {
          "align": "left",
          "bgcolor": "rgba(0,0,0,0.7)",
          "bordercolor": "#2ecc71",
          "borderwidth": 1,
          "font": {
           "color": "white",
           "size": 12
          },
          "showarrow": false,
          "text": "1950: 0.54 Mrd.",
          "x": 1950,
          "xanchor": "left",
          "xshift": 50,
          "y": 0.544044304,
          "yshift": 20
         },
         {
          "align": "left",
          "bgcolor": "rgba(0,0,0,0.7)",
          "bordercolor": "#2ecc71",
          "borderwidth": 1,
          "font": {
           "color": "white",
           "size": 12
          },
          "showarrow": false,
          "text": "2000: 1.27 Mrd.",
          "x": 2000,
          "xanchor": "left",
          "xshift": 50,
          "y": 1.26958112,
          "yshift": -30
         },
         {
          "align": "left",
          "bgcolor": "rgba(0,0,0,0.7)",
          "bordercolor": "#2ecc71",
          "borderwidth": 1,
          "font": {
           "color": "white",
           "size": 12
          },
          "showarrow": false,
          "text": "2023: 1.42 Mrd.",
          "x": 2023,
          "xanchor": "left",
          "xshift": 50,
          "y": 1.422584878,
          "yshift": 30
         },
         {
          "align": "right",
          "bgcolor": "rgba(0,0,0,0.7)",
          "bordercolor": "rgba(46, 204, 113, 0.3)",
          "borderwidth": 1,
          "font": {
           "color": "white",
           "size": 12
          },
          "showarrow": false,
          "text": "2100: 0.63 Mrd.",
          "x": 2100,
          "xanchor": "right",
          "xshift": -50,
          "y": 0.63336807,
          "yshift": 15
         }
        ],
        "height": 800,
        "legend": {
         "x": 0.01,
         "xanchor": "left",
         "y": 0.99,
         "yanchor": "top"
        },
        "paper_bgcolor": "rgba(0,0,0,0.95)",
        "plot_bgcolor": "rgba(0,0,0,0.95)",
        "showlegend": true,
        "template": {
         "data": {
          "bar": [
           {
            "error_x": {
             "color": "#f2f5fa"
            },
            "error_y": {
             "color": "#f2f5fa"
            },
            "marker": {
             "line": {
              "color": "rgb(17,17,17)",
              "width": 0.5
             },
             "pattern": {
              "fillmode": "overlay",
              "size": 10,
              "solidity": 0.2
             }
            },
            "type": "bar"
           }
          ],
          "barpolar": [
           {
            "marker": {
             "line": {
              "color": "rgb(17,17,17)",
              "width": 0.5
             },
             "pattern": {
              "fillmode": "overlay",
              "size": 10,
              "solidity": 0.2
             }
            },
            "type": "barpolar"
           }
          ],
          "carpet": [
           {
            "aaxis": {
             "endlinecolor": "#A2B1C6",
             "gridcolor": "#506784",
             "linecolor": "#506784",
             "minorgridcolor": "#506784",
             "startlinecolor": "#A2B1C6"
            },
            "baxis": {
             "endlinecolor": "#A2B1C6",
             "gridcolor": "#506784",
             "linecolor": "#506784",
             "minorgridcolor": "#506784",
             "startlinecolor": "#A2B1C6"
            },
            "type": "carpet"
           }
          ],
          "choropleth": [
           {
            "colorbar": {
             "outlinewidth": 0,
             "ticks": ""
            },
            "type": "choropleth"
           }
          ],
          "contour": [
           {
            "colorbar": {
             "outlinewidth": 0,
             "ticks": ""
            },
            "colorscale": [
             [
              0,
              "#0d0887"
             ],
             [
              0.1111111111111111,
              "#46039f"
             ],
             [
              0.2222222222222222,
              "#7201a8"
             ],
             [
              0.3333333333333333,
              "#9c179e"
             ],
             [
              0.4444444444444444,
              "#bd3786"
             ],
             [
              0.5555555555555556,
              "#d8576b"
             ],
             [
              0.6666666666666666,
              "#ed7953"
             ],
             [
              0.7777777777777778,
              "#fb9f3a"
             ],
             [
              0.8888888888888888,
              "#fdca26"
             ],
             [
              1,
              "#f0f921"
             ]
            ],
            "type": "contour"
           }
          ],
          "contourcarpet": [
           {
            "colorbar": {
             "outlinewidth": 0,
             "ticks": ""
            },
            "type": "contourcarpet"
           }
          ],
          "heatmap": [
           {
            "colorbar": {
             "outlinewidth": 0,
             "ticks": ""
            },
            "colorscale": [
             [
              0,
              "#0d0887"
             ],
             [
              0.1111111111111111,
              "#46039f"
             ],
             [
              0.2222222222222222,
              "#7201a8"
             ],
             [
              0.3333333333333333,
              "#9c179e"
             ],
             [
              0.4444444444444444,
              "#bd3786"
             ],
             [
              0.5555555555555556,
              "#d8576b"
             ],
             [
              0.6666666666666666,
              "#ed7953"
             ],
             [
              0.7777777777777778,
              "#fb9f3a"
             ],
             [
              0.8888888888888888,
              "#fdca26"
             ],
             [
              1,
              "#f0f921"
             ]
            ],
            "type": "heatmap"
           }
          ],
          "histogram": [
           {
            "marker": {
             "pattern": {
              "fillmode": "overlay",
              "size": 10,
              "solidity": 0.2
             }
            },
            "type": "histogram"
           }
          ],
          "histogram2d": [
           {
            "colorbar": {
             "outlinewidth": 0,
             "ticks": ""
            },
            "colorscale": [
             [
              0,
              "#0d0887"
             ],
             [
              0.1111111111111111,
              "#46039f"
             ],
             [
              0.2222222222222222,
              "#7201a8"
             ],
             [
              0.3333333333333333,
              "#9c179e"
             ],
             [
              0.4444444444444444,
              "#bd3786"
             ],
             [
              0.5555555555555556,
              "#d8576b"
             ],
             [
              0.6666666666666666,
              "#ed7953"
             ],
             [
              0.7777777777777778,
              "#fb9f3a"
             ],
             [
              0.8888888888888888,
              "#fdca26"
             ],
             [
              1,
              "#f0f921"
             ]
            ],
            "type": "histogram2d"
           }
          ],
          "histogram2dcontour": [
           {
            "colorbar": {
             "outlinewidth": 0,
             "ticks": ""
            },
            "colorscale": [
             [
              0,
              "#0d0887"
             ],
             [
              0.1111111111111111,
              "#46039f"
             ],
             [
              0.2222222222222222,
              "#7201a8"
             ],
             [
              0.3333333333333333,
              "#9c179e"
             ],
             [
              0.4444444444444444,
              "#bd3786"
             ],
             [
              0.5555555555555556,
              "#d8576b"
             ],
             [
              0.6666666666666666,
              "#ed7953"
             ],
             [
              0.7777777777777778,
              "#fb9f3a"
             ],
             [
              0.8888888888888888,
              "#fdca26"
             ],
             [
              1,
              "#f0f921"
             ]
            ],
            "type": "histogram2dcontour"
           }
          ],
          "mesh3d": [
           {
            "colorbar": {
             "outlinewidth": 0,
             "ticks": ""
            },
            "type": "mesh3d"
           }
          ],
          "parcoords": [
           {
            "line": {
             "colorbar": {
              "outlinewidth": 0,
              "ticks": ""
             }
            },
            "type": "parcoords"
           }
          ],
          "pie": [
           {
            "automargin": true,
            "type": "pie"
           }
          ],
          "scatter": [
           {
            "marker": {
             "line": {
              "color": "#283442"
             }
            },
            "type": "scatter"
           }
          ],
          "scatter3d": [
           {
            "line": {
             "colorbar": {
              "outlinewidth": 0,
              "ticks": ""
             }
            },
            "marker": {
             "colorbar": {
              "outlinewidth": 0,
              "ticks": ""
             }
            },
            "type": "scatter3d"
           }
          ],
          "scattercarpet": [
           {
            "marker": {
             "colorbar": {
              "outlinewidth": 0,
              "ticks": ""
             }
            },
            "type": "scattercarpet"
           }
          ],
          "scattergeo": [
           {
            "marker": {
             "colorbar": {
              "outlinewidth": 0,
              "ticks": ""
             }
            },
            "type": "scattergeo"
           }
          ],
          "scattergl": [
           {
            "marker": {
             "line": {
              "color": "#283442"
             }
            },
            "type": "scattergl"
           }
          ],
          "scattermap": [
           {
            "marker": {
             "colorbar": {
              "outlinewidth": 0,
              "ticks": ""
             }
            },
            "type": "scattermap"
           }
          ],
          "scattermapbox": [
           {
            "marker": {
             "colorbar": {
              "outlinewidth": 0,
              "ticks": ""
             }
            },
            "type": "scattermapbox"
           }
          ],
          "scatterpolar": [
           {
            "marker": {
             "colorbar": {
              "outlinewidth": 0,
              "ticks": ""
             }
            },
            "type": "scatterpolar"
           }
          ],
          "scatterpolargl": [
           {
            "marker": {
             "colorbar": {
              "outlinewidth": 0,
              "ticks": ""
             }
            },
            "type": "scatterpolargl"
           }
          ],
          "scatterternary": [
           {
            "marker": {
             "colorbar": {
              "outlinewidth": 0,
              "ticks": ""
             }
            },
            "type": "scatterternary"
           }
          ],
          "surface": [
           {
            "colorbar": {
             "outlinewidth": 0,
             "ticks": ""
            },
            "colorscale": [
             [
              0,
              "#0d0887"
             ],
             [
              0.1111111111111111,
              "#46039f"
             ],
             [
              0.2222222222222222,
              "#7201a8"
             ],
             [
              0.3333333333333333,
              "#9c179e"
             ],
             [
              0.4444444444444444,
              "#bd3786"
             ],
             [
              0.5555555555555556,
              "#d8576b"
             ],
             [
              0.6666666666666666,
              "#ed7953"
             ],
             [
              0.7777777777777778,
              "#fb9f3a"
             ],
             [
              0.8888888888888888,
              "#fdca26"
             ],
             [
              1,
              "#f0f921"
             ]
            ],
            "type": "surface"
           }
          ],
          "table": [
           {
            "cells": {
             "fill": {
              "color": "#506784"
             },
             "line": {
              "color": "rgb(17,17,17)"
             }
            },
            "header": {
             "fill": {
              "color": "#2a3f5f"
             },
             "line": {
              "color": "rgb(17,17,17)"
             }
            },
            "type": "table"
           }
          ]
         },
         "layout": {
          "annotationdefaults": {
           "arrowcolor": "#f2f5fa",
           "arrowhead": 0,
           "arrowwidth": 1
          },
          "autotypenumbers": "strict",
          "coloraxis": {
           "colorbar": {
            "outlinewidth": 0,
            "ticks": ""
           }
          },
          "colorscale": {
           "diverging": [
            [
             0,
             "#8e0152"
            ],
            [
             0.1,
             "#c51b7d"
            ],
            [
             0.2,
             "#de77ae"
            ],
            [
             0.3,
             "#f1b6da"
            ],
            [
             0.4,
             "#fde0ef"
            ],
            [
             0.5,
             "#f7f7f7"
            ],
            [
             0.6,
             "#e6f5d0"
            ],
            [
             0.7,
             "#b8e186"
            ],
            [
             0.8,
             "#7fbc41"
            ],
            [
             0.9,
             "#4d9221"
            ],
            [
             1,
             "#276419"
            ]
           ],
           "sequential": [
            [
             0,
             "#0d0887"
            ],
            [
             0.1111111111111111,
             "#46039f"
            ],
            [
             0.2222222222222222,
             "#7201a8"
            ],
            [
             0.3333333333333333,
             "#9c179e"
            ],
            [
             0.4444444444444444,
             "#bd3786"
            ],
            [
             0.5555555555555556,
             "#d8576b"
            ],
            [
             0.6666666666666666,
             "#ed7953"
            ],
            [
             0.7777777777777778,
             "#fb9f3a"
            ],
            [
             0.8888888888888888,
             "#fdca26"
            ],
            [
             1,
             "#f0f921"
            ]
           ],
           "sequentialminus": [
            [
             0,
             "#0d0887"
            ],
            [
             0.1111111111111111,
             "#46039f"
            ],
            [
             0.2222222222222222,
             "#7201a8"
            ],
            [
             0.3333333333333333,
             "#9c179e"
            ],
            [
             0.4444444444444444,
             "#bd3786"
            ],
            [
             0.5555555555555556,
             "#d8576b"
            ],
            [
             0.6666666666666666,
             "#ed7953"
            ],
            [
             0.7777777777777778,
             "#fb9f3a"
            ],
            [
             0.8888888888888888,
             "#fdca26"
            ],
            [
             1,
             "#f0f921"
            ]
           ]
          },
          "colorway": [
           "#636efa",
           "#EF553B",
           "#00cc96",
           "#ab63fa",
           "#FFA15A",
           "#19d3f3",
           "#FF6692",
           "#B6E880",
           "#FF97FF",
           "#FECB52"
          ],
          "font": {
           "color": "#f2f5fa"
          },
          "geo": {
           "bgcolor": "rgb(17,17,17)",
           "lakecolor": "rgb(17,17,17)",
           "landcolor": "rgb(17,17,17)",
           "showlakes": true,
           "showland": true,
           "subunitcolor": "#506784"
          },
          "hoverlabel": {
           "align": "left"
          },
          "hovermode": "closest",
          "mapbox": {
           "style": "dark"
          },
          "paper_bgcolor": "rgb(17,17,17)",
          "plot_bgcolor": "rgb(17,17,17)",
          "polar": {
           "angularaxis": {
            "gridcolor": "#506784",
            "linecolor": "#506784",
            "ticks": ""
           },
           "bgcolor": "rgb(17,17,17)",
           "radialaxis": {
            "gridcolor": "#506784",
            "linecolor": "#506784",
            "ticks": ""
           }
          },
          "scene": {
           "xaxis": {
            "backgroundcolor": "rgb(17,17,17)",
            "gridcolor": "#506784",
            "gridwidth": 2,
            "linecolor": "#506784",
            "showbackground": true,
            "ticks": "",
            "zerolinecolor": "#C8D4E3"
           },
           "yaxis": {
            "backgroundcolor": "rgb(17,17,17)",
            "gridcolor": "#506784",
            "gridwidth": 2,
            "linecolor": "#506784",
            "showbackground": true,
            "ticks": "",
            "zerolinecolor": "#C8D4E3"
           },
           "zaxis": {
            "backgroundcolor": "rgb(17,17,17)",
            "gridcolor": "#506784",
            "gridwidth": 2,
            "linecolor": "#506784",
            "showbackground": true,
            "ticks": "",
            "zerolinecolor": "#C8D4E3"
           }
          },
          "shapedefaults": {
           "line": {
            "color": "#f2f5fa"
           }
          },
          "sliderdefaults": {
           "bgcolor": "#C8D4E3",
           "bordercolor": "rgb(17,17,17)",
           "borderwidth": 1,
           "tickwidth": 0
          },
          "ternary": {
           "aaxis": {
            "gridcolor": "#506784",
            "linecolor": "#506784",
            "ticks": ""
           },
           "baxis": {
            "gridcolor": "#506784",
            "linecolor": "#506784",
            "ticks": ""
           },
           "bgcolor": "rgb(17,17,17)",
           "caxis": {
            "gridcolor": "#506784",
            "linecolor": "#506784",
            "ticks": ""
           }
          },
          "title": {
           "x": 0.05
          },
          "updatemenudefaults": {
           "bgcolor": "#506784",
           "borderwidth": 0
          },
          "xaxis": {
           "automargin": true,
           "gridcolor": "#283442",
           "linecolor": "#506784",
           "ticks": "",
           "title": {
            "standoff": 15
           },
           "zerolinecolor": "#283442",
           "zerolinewidth": 2
          },
          "yaxis": {
           "automargin": true,
           "gridcolor": "#283442",
           "linecolor": "#506784",
           "ticks": "",
           "title": {
            "standoff": 15
           },
           "zerolinecolor": "#283442",
           "zerolinewidth": 2
          }
         }
        },
        "title": {
         "font": {
          "size": 24
         },
         "text": "Bevölkerung China: Historie und Prognose",
         "x": 0.5,
         "xanchor": "center",
         "y": 0.95,
         "yanchor": "top"
        },
        "width": 1200,
        "xaxis": {
         "dtick": 25,
         "range": [
          1950,
          2100
         ],
         "side": "bottom",
         "tickangle": 0,
         "tickfont": {
          "size": 12
         },
         "ticklen": 10,
         "ticks": "outside",
         "title": {
          "standoff": 25,
          "text": "Jahr"
         }
        },
        "yaxis": {
         "dtick": 0.2,
         "gridwidth": 0.5,
         "range": [
          0,
          1.6
         ],
         "title": {
          "text": "Bevölkerung (Milliarden)"
         }
        }
       }
      }
     },
     "metadata": {},
     "output_type": "display_data"
    }
   ],
   "source": [
    "import plotly.graph_objects as go\n",
    "\n",
    "# --- Start of streamlined plotting code ---\n",
    "\n",
    "# Define known column names\n",
    "hist_pop_col = 'population__sex_all__age_all__variant_estimates'\n",
    "forecast_pop_col = 'population__sex_all__age_all__variant_medium'\n",
    "\n",
    "# Prepare data directly\n",
    "historical_data = population_projections_china[population_projections_china['years'] <= 2024].copy()\n",
    "historical_data['population_billions'] = historical_data[hist_pop_col] / 1_000_000_000\n",
    "historical_data.dropna(subset=['population_billions'], inplace=True)\n",
    "\n",
    "forecast_data = population_projections_china[population_projections_china['years'] >= 2024].copy()\n",
    "forecast_data['population_billions'] = forecast_data[forecast_pop_col] / 1_000_000_000\n",
    "forecast_data.dropna(subset=['population_billions'], inplace=True)\n",
    "\n",
    "# Create figure\n",
    "fig = go.Figure()\n",
    "\n",
    "# Add historical data trace (if data exists)\n",
    "if not historical_data.empty:\n",
    "    fig.add_trace(go.Scatter(\n",
    "        x=historical_data['years'],\n",
    "        y=historical_data['population_billions'],\n",
    "        name='Historische Daten (China)',\n",
    "        line=dict(color='#2ecc71', width=3)\n",
    "    ))\n",
    "\n",
    "# Add forecast data trace (if data exists)\n",
    "if not forecast_data.empty:\n",
    "    fig.add_trace(go.Scatter(\n",
    "        x=forecast_data['years'],\n",
    "        y=forecast_data['population_billions'],\n",
    "        name='Prognose (China)',\n",
    "        line=dict(color='rgba(46, 204, 113, 0.3)', width=2, dash='dash')\n",
    "    ))\n",
    "\n",
    "# Configure layout\n",
    "fig.update_layout(\n",
    "    title={\n",
    "        'text': 'Bevölkerung China: Historie und Prognose',\n",
    "        'y': 0.95, 'x': 0.5, 'xanchor': 'center', 'yanchor': 'top',\n",
    "        'font': {'size': 24}\n",
    "    },\n",
    "    xaxis_title=\"Jahr\",\n",
    "    yaxis_title=\"Bevölkerung (Milliarden)\",\n",
    "    template='plotly_dark',\n",
    "    showlegend=True,\n",
    "    legend=dict(yanchor=\"top\", y=0.99, xanchor=\"left\", x=0.01),\n",
    "    height=800,\n",
    "    width=1200,\n",
    "    xaxis=dict(\n",
    "        range=[1950, 2100], dtick=25, ticks='outside', ticklen=10,\n",
    "        tickfont=dict(size=12), tickangle=0, title_standoff=25, side='bottom'\n",
    "    ),\n",
    "    yaxis=dict(range=[0, 1.6], dtick=0.2, gridwidth=0.5),\n",
    "    plot_bgcolor='rgba(0,0,0,0.95)',\n",
    "    paper_bgcolor='rgba(0,0,0,0.95)',\n",
    ")\n",
    "\n",
    "# Add historical annotations\n",
    "if not historical_data.empty:\n",
    "    years_to_annotate_hist = [1950, 2000, 2023] # Keep 2023 here as it's historical peak\n",
    "    y_shifts_hist = [20, -30, 30]\n",
    "    x_shifts_hist = [50, 50, 50] # Adjusted x_shift for 2023 to avoid overlap if needed\n",
    "    for year, y_shift, x_shift in zip(years_to_annotate_hist, y_shifts_hist, x_shifts_hist):\n",
    "        data_point = historical_data[historical_data['years'] == year]\n",
    "        if not data_point.empty and pd.notna(data_point['population_billions'].iloc[0]):\n",
    "            fig.add_annotation(\n",
    "                x=year, y=data_point['population_billions'].iloc[0],\n",
    "                text=f\"{year}: {data_point['population_billions'].iloc[0]:.2f} Mrd.\",\n",
    "                showarrow=False, font=dict(size=12, color='white'),\n",
    "                bgcolor='rgba(0,0,0,0.7)', bordercolor='#2ecc71', borderwidth=1,\n",
    "                yshift=y_shift, xshift=x_shift, align='left', xanchor='left'\n",
    "            )\n",
    "\n",
    "# Add forecast annotation for 2100\n",
    "if not forecast_data.empty:\n",
    "    year_2100_data = forecast_data[forecast_data['years'] == 2100]\n",
    "    if not year_2100_data.empty and pd.notna(year_2100_data['population_billions'].iloc[0]):\n",
    "        pop_2100 = year_2100_data['population_billions'].iloc[0]\n",
    "        fig.add_annotation(\n",
    "            x=2100, y=pop_2100,\n",
    "            text=f\"2100: {pop_2100:.2f} Mrd.\",\n",
    "            showarrow=False, font=dict(size=12, color='white'),\n",
    "            bgcolor='rgba(0,0,0,0.7)', bordercolor='rgba(46, 204, 113, 0.3)', borderwidth=1, # Use forecast color\n",
    "            yshift=15,      # Position adjustment\n",
    "            xshift=-50,     # Position adjustment (negative for left alignment)\n",
    "            align='right',  # Text alignment\n",
    "            xanchor='right' # Anchor point\n",
    "        )\n",
    "\n",
    "\n",
    "# --- REMOVED Maximum point annotation block ---\n",
    "# if not forecast_data.empty and forecast_data['population_billions'].notna().any():\n",
    "#    try:\n",
    "#        max_point_idx = forecast_data['population_billions'].idxmax()\n",
    "#        max_point = forecast_data.loc[max_point_idx]\n",
    "#        fig.add_annotation(\n",
    "#            x=max_point['years'], y=max_point['population_billions'],\n",
    "#            text=f\"Maximum ({int(max_point['years'])}): {max_point['population_billions']:.2f} Mrd.\",\n",
    "#            showarrow=True, arrowhead=1, font=dict(size=12, color='white'),\n",
    "#            bgcolor='rgba(0,0,0,0.7)', bordercolor='rgba(46, 204, 113, 0.3)', borderwidth=1,\n",
    "#            yshift=5, xshift=0, align='center', xanchor='center'\n",
    "#        )\n",
    "#    except ValueError:\n",
    "#         pass\n",
    "\n",
    "# Show plot\n",
    "fig.show()\n",
    "\n",
    "# --- End of streamlined plotting code ---"
   ]
  },
  {
   "cell_type": "markdown",
   "metadata": {},
   "source": [
    "**Fazit:** China geht also quasi zurück zu 1950  \n",
    "**Überlegung:** Wie könnte ich das grafisch und in einem überzeugenden Vergleich anstellen --> Working-Age von Ländern"
   ]
  },
  {
   "cell_type": "markdown",
   "metadata": {},
   "source": [
    "# Working-Age Daten"
   ]
  },
  {
   "cell_type": "code",
   "execution_count": 75,
   "metadata": {},
   "outputs": [
    {
     "data": {
      "text/html": [
       "<div>\n",
       "<style scoped>\n",
       "    .dataframe tbody tr th:only-of-type {\n",
       "        vertical-align: middle;\n",
       "    }\n",
       "\n",
       "    .dataframe tbody tr th {\n",
       "        vertical-align: top;\n",
       "    }\n",
       "\n",
       "    .dataframe thead th {\n",
       "        text-align: right;\n",
       "    }\n",
       "</style>\n",
       "<table border=\"1\" class=\"dataframe\">\n",
       "  <thead>\n",
       "    <tr style=\"text-align: right;\">\n",
       "      <th></th>\n",
       "      <th>entities</th>\n",
       "      <th>years</th>\n",
       "      <th>population__sex_all__age_65plus__variant_estimates</th>\n",
       "      <th>population__sex_all__age_65plus__variant_medium</th>\n",
       "      <th>population__sex_all__age_15_64__variant_estimates</th>\n",
       "      <th>population__sex_all__age_15_64__variant_medium</th>\n",
       "      <th>population__sex_all__age_0_14__variant_estimates</th>\n",
       "      <th>population__sex_all__age_0_14__variant_medium</th>\n",
       "    </tr>\n",
       "  </thead>\n",
       "  <tbody>\n",
       "    <tr>\n",
       "      <th>0</th>\n",
       "      <td>Afghanistan</td>\n",
       "      <td>1950</td>\n",
       "      <td>221568.0</td>\n",
       "      <td>NaN</td>\n",
       "      <td>4362892.0</td>\n",
       "      <td>NaN</td>\n",
       "      <td>3191673.0</td>\n",
       "      <td>NaN</td>\n",
       "    </tr>\n",
       "    <tr>\n",
       "      <th>1</th>\n",
       "      <td>Afghanistan</td>\n",
       "      <td>1951</td>\n",
       "      <td>225314.0</td>\n",
       "      <td>NaN</td>\n",
       "      <td>4417702.0</td>\n",
       "      <td>NaN</td>\n",
       "      <td>3236279.0</td>\n",
       "      <td>NaN</td>\n",
       "    </tr>\n",
       "    <tr>\n",
       "      <th>2</th>\n",
       "      <td>Afghanistan</td>\n",
       "      <td>1952</td>\n",
       "      <td>228844.0</td>\n",
       "      <td>NaN</td>\n",
       "      <td>4474793.0</td>\n",
       "      <td>NaN</td>\n",
       "      <td>3284100.0</td>\n",
       "      <td>NaN</td>\n",
       "    </tr>\n",
       "    <tr>\n",
       "      <th>3</th>\n",
       "      <td>Afghanistan</td>\n",
       "      <td>1953</td>\n",
       "      <td>232091.0</td>\n",
       "      <td>NaN</td>\n",
       "      <td>4531190.0</td>\n",
       "      <td>NaN</td>\n",
       "      <td>3333375.0</td>\n",
       "      <td>NaN</td>\n",
       "    </tr>\n",
       "    <tr>\n",
       "      <th>4</th>\n",
       "      <td>Afghanistan</td>\n",
       "      <td>1954</td>\n",
       "      <td>235121.0</td>\n",
       "      <td>NaN</td>\n",
       "      <td>4586963.0</td>\n",
       "      <td>NaN</td>\n",
       "      <td>3385826.0</td>\n",
       "      <td>NaN</td>\n",
       "    </tr>\n",
       "  </tbody>\n",
       "</table>\n",
       "</div>"
      ],
      "text/plain": [
       "      entities  years  population__sex_all__age_65plus__variant_estimates  \\\n",
       "0  Afghanistan   1950                                           221568.0    \n",
       "1  Afghanistan   1951                                           225314.0    \n",
       "2  Afghanistan   1952                                           228844.0    \n",
       "3  Afghanistan   1953                                           232091.0    \n",
       "4  Afghanistan   1954                                           235121.0    \n",
       "\n",
       "   population__sex_all__age_65plus__variant_medium  \\\n",
       "0                                              NaN   \n",
       "1                                              NaN   \n",
       "2                                              NaN   \n",
       "3                                              NaN   \n",
       "4                                              NaN   \n",
       "\n",
       "   population__sex_all__age_15_64__variant_estimates  \\\n",
       "0                                          4362892.0   \n",
       "1                                          4417702.0   \n",
       "2                                          4474793.0   \n",
       "3                                          4531190.0   \n",
       "4                                          4586963.0   \n",
       "\n",
       "   population__sex_all__age_15_64__variant_medium  \\\n",
       "0                                             NaN   \n",
       "1                                             NaN   \n",
       "2                                             NaN   \n",
       "3                                             NaN   \n",
       "4                                             NaN   \n",
       "\n",
       "   population__sex_all__age_0_14__variant_estimates  \\\n",
       "0                                         3191673.0   \n",
       "1                                         3236279.0   \n",
       "2                                         3284100.0   \n",
       "3                                         3333375.0   \n",
       "4                                         3385826.0   \n",
       "\n",
       "   population__sex_all__age_0_14__variant_medium  \n",
       "0                                            NaN  \n",
       "1                                            NaN  \n",
       "2                                            NaN  \n",
       "3                                            NaN  \n",
       "4                                            NaN  "
      ]
     },
     "execution_count": 75,
     "metadata": {},
     "output_type": "execute_result"
    }
   ],
   "source": [
    "working_age_df = charts.get_data(\"population-young-working-elderly-with-projections\")\n",
    "working_age_df.head()"
   ]
  },
  {
   "cell_type": "code",
   "execution_count": 78,
   "metadata": {},
   "outputs": [
    {
     "name": "stdout",
     "output_type": "stream",
     "text": [
      "Working-Age Population Comparison (Millions): 2023-2050\n"
     ]
    },
    {
     "data": {
      "text/html": [
       "<div>\n",
       "<style scoped>\n",
       "    .dataframe tbody tr th:only-of-type {\n",
       "        vertical-align: middle;\n",
       "    }\n",
       "\n",
       "    .dataframe tbody tr th {\n",
       "        vertical-align: top;\n",
       "    }\n",
       "\n",
       "    .dataframe thead th {\n",
       "        text-align: right;\n",
       "    }\n",
       "</style>\n",
       "<table border=\"1\" class=\"dataframe\">\n",
       "  <thead>\n",
       "    <tr style=\"text-align: right;\">\n",
       "      <th></th>\n",
       "      <th>China_Pop</th>\n",
       "      <th>China_Cumul_Change</th>\n",
       "      <th>United States_Pop</th>\n",
       "      <th>United States_Cumul_Change</th>\n",
       "    </tr>\n",
       "    <tr>\n",
       "      <th>years</th>\n",
       "      <th></th>\n",
       "      <th></th>\n",
       "      <th></th>\n",
       "      <th></th>\n",
       "    </tr>\n",
       "  </thead>\n",
       "  <tbody>\n",
       "    <tr>\n",
       "      <th>2023</th>\n",
       "      <td>982.93</td>\n",
       "      <td>0.00</td>\n",
       "      <td>223.17</td>\n",
       "      <td>0.00</td>\n",
       "    </tr>\n",
       "    <tr>\n",
       "      <th>2024</th>\n",
       "      <td>983.97</td>\n",
       "      <td>1.05</td>\n",
       "      <td>223.65</td>\n",
       "      <td>0.48</td>\n",
       "    </tr>\n",
       "    <tr>\n",
       "      <th>2025</th>\n",
       "      <td>986.75</td>\n",
       "      <td>3.83</td>\n",
       "      <td>224.04</td>\n",
       "      <td>0.87</td>\n",
       "    </tr>\n",
       "    <tr>\n",
       "      <th>2026</th>\n",
       "      <td>989.97</td>\n",
       "      <td>7.05</td>\n",
       "      <td>224.27</td>\n",
       "      <td>1.10</td>\n",
       "    </tr>\n",
       "    <tr>\n",
       "      <th>2027</th>\n",
       "      <td>990.48</td>\n",
       "      <td>7.56</td>\n",
       "      <td>224.47</td>\n",
       "      <td>1.30</td>\n",
       "    </tr>\n",
       "    <tr>\n",
       "      <th>2028</th>\n",
       "      <td>985.07</td>\n",
       "      <td>2.15</td>\n",
       "      <td>224.70</td>\n",
       "      <td>1.53</td>\n",
       "    </tr>\n",
       "    <tr>\n",
       "      <th>2029</th>\n",
       "      <td>978.17</td>\n",
       "      <td>-4.75</td>\n",
       "      <td>224.98</td>\n",
       "      <td>1.81</td>\n",
       "    </tr>\n",
       "    <tr>\n",
       "      <th>2030</th>\n",
       "      <td>971.98</td>\n",
       "      <td>-10.95</td>\n",
       "      <td>225.36</td>\n",
       "      <td>2.19</td>\n",
       "    </tr>\n",
       "    <tr>\n",
       "      <th>2031</th>\n",
       "      <td>965.74</td>\n",
       "      <td>-17.18</td>\n",
       "      <td>225.85</td>\n",
       "      <td>2.69</td>\n",
       "    </tr>\n",
       "    <tr>\n",
       "      <th>2032</th>\n",
       "      <td>960.67</td>\n",
       "      <td>-22.26</td>\n",
       "      <td>226.38</td>\n",
       "      <td>3.21</td>\n",
       "    </tr>\n",
       "    <tr>\n",
       "      <th>2033</th>\n",
       "      <td>953.07</td>\n",
       "      <td>-29.86</td>\n",
       "      <td>226.86</td>\n",
       "      <td>3.69</td>\n",
       "    </tr>\n",
       "    <tr>\n",
       "      <th>2034</th>\n",
       "      <td>942.25</td>\n",
       "      <td>-40.68</td>\n",
       "      <td>227.26</td>\n",
       "      <td>4.09</td>\n",
       "    </tr>\n",
       "    <tr>\n",
       "      <th>2035</th>\n",
       "      <td>929.61</td>\n",
       "      <td>-53.32</td>\n",
       "      <td>227.46</td>\n",
       "      <td>4.29</td>\n",
       "    </tr>\n",
       "    <tr>\n",
       "      <th>2036</th>\n",
       "      <td>915.23</td>\n",
       "      <td>-67.69</td>\n",
       "      <td>227.61</td>\n",
       "      <td>4.44</td>\n",
       "    </tr>\n",
       "    <tr>\n",
       "      <th>2037</th>\n",
       "      <td>900.62</td>\n",
       "      <td>-82.30</td>\n",
       "      <td>228.00</td>\n",
       "      <td>4.83</td>\n",
       "    </tr>\n",
       "    <tr>\n",
       "      <th>2038</th>\n",
       "      <td>885.90</td>\n",
       "      <td>-97.02</td>\n",
       "      <td>228.57</td>\n",
       "      <td>5.40</td>\n",
       "    </tr>\n",
       "    <tr>\n",
       "      <th>2039</th>\n",
       "      <td>871.91</td>\n",
       "      <td>-111.02</td>\n",
       "      <td>229.11</td>\n",
       "      <td>5.94</td>\n",
       "    </tr>\n",
       "    <tr>\n",
       "      <th>2040</th>\n",
       "      <td>859.48</td>\n",
       "      <td>-123.45</td>\n",
       "      <td>229.62</td>\n",
       "      <td>6.46</td>\n",
       "    </tr>\n",
       "    <tr>\n",
       "      <th>2041</th>\n",
       "      <td>848.26</td>\n",
       "      <td>-134.67</td>\n",
       "      <td>230.13</td>\n",
       "      <td>6.96</td>\n",
       "    </tr>\n",
       "    <tr>\n",
       "      <th>2042</th>\n",
       "      <td>837.96</td>\n",
       "      <td>-144.97</td>\n",
       "      <td>230.56</td>\n",
       "      <td>7.39</td>\n",
       "    </tr>\n",
       "    <tr>\n",
       "      <th>2043</th>\n",
       "      <td>828.21</td>\n",
       "      <td>-154.72</td>\n",
       "      <td>230.92</td>\n",
       "      <td>7.76</td>\n",
       "    </tr>\n",
       "    <tr>\n",
       "      <th>2044</th>\n",
       "      <td>817.97</td>\n",
       "      <td>-164.95</td>\n",
       "      <td>231.21</td>\n",
       "      <td>8.04</td>\n",
       "    </tr>\n",
       "    <tr>\n",
       "      <th>2045</th>\n",
       "      <td>807.02</td>\n",
       "      <td>-175.90</td>\n",
       "      <td>231.40</td>\n",
       "      <td>8.23</td>\n",
       "    </tr>\n",
       "    <tr>\n",
       "      <th>2046</th>\n",
       "      <td>795.41</td>\n",
       "      <td>-187.52</td>\n",
       "      <td>231.55</td>\n",
       "      <td>8.38</td>\n",
       "    </tr>\n",
       "    <tr>\n",
       "      <th>2047</th>\n",
       "      <td>782.61</td>\n",
       "      <td>-200.32</td>\n",
       "      <td>231.69</td>\n",
       "      <td>8.52</td>\n",
       "    </tr>\n",
       "    <tr>\n",
       "      <th>2048</th>\n",
       "      <td>770.13</td>\n",
       "      <td>-212.80</td>\n",
       "      <td>231.86</td>\n",
       "      <td>8.69</td>\n",
       "    </tr>\n",
       "    <tr>\n",
       "      <th>2049</th>\n",
       "      <td>758.22</td>\n",
       "      <td>-224.70</td>\n",
       "      <td>232.05</td>\n",
       "      <td>8.88</td>\n",
       "    </tr>\n",
       "    <tr>\n",
       "      <th>2050</th>\n",
       "      <td>745.29</td>\n",
       "      <td>-237.63</td>\n",
       "      <td>232.25</td>\n",
       "      <td>9.08</td>\n",
       "    </tr>\n",
       "  </tbody>\n",
       "</table>\n",
       "</div>"
      ],
      "text/plain": [
       "       China_Pop  China_Cumul_Change  United States_Pop  \\\n",
       "years                                                     \n",
       "2023      982.93                0.00             223.17   \n",
       "2024      983.97                1.05             223.65   \n",
       "2025      986.75                3.83             224.04   \n",
       "2026      989.97                7.05             224.27   \n",
       "2027      990.48                7.56             224.47   \n",
       "2028      985.07                2.15             224.70   \n",
       "2029      978.17               -4.75             224.98   \n",
       "2030      971.98              -10.95             225.36   \n",
       "2031      965.74              -17.18             225.85   \n",
       "2032      960.67              -22.26             226.38   \n",
       "2033      953.07              -29.86             226.86   \n",
       "2034      942.25              -40.68             227.26   \n",
       "2035      929.61              -53.32             227.46   \n",
       "2036      915.23              -67.69             227.61   \n",
       "2037      900.62              -82.30             228.00   \n",
       "2038      885.90              -97.02             228.57   \n",
       "2039      871.91             -111.02             229.11   \n",
       "2040      859.48             -123.45             229.62   \n",
       "2041      848.26             -134.67             230.13   \n",
       "2042      837.96             -144.97             230.56   \n",
       "2043      828.21             -154.72             230.92   \n",
       "2044      817.97             -164.95             231.21   \n",
       "2045      807.02             -175.90             231.40   \n",
       "2046      795.41             -187.52             231.55   \n",
       "2047      782.61             -200.32             231.69   \n",
       "2048      770.13             -212.80             231.86   \n",
       "2049      758.22             -224.70             232.05   \n",
       "2050      745.29             -237.63             232.25   \n",
       "\n",
       "       United States_Cumul_Change  \n",
       "years                              \n",
       "2023                         0.00  \n",
       "2024                         0.48  \n",
       "2025                         0.87  \n",
       "2026                         1.10  \n",
       "2027                         1.30  \n",
       "2028                         1.53  \n",
       "2029                         1.81  \n",
       "2030                         2.19  \n",
       "2031                         2.69  \n",
       "2032                         3.21  \n",
       "2033                         3.69  \n",
       "2034                         4.09  \n",
       "2035                         4.29  \n",
       "2036                         4.44  \n",
       "2037                         4.83  \n",
       "2038                         5.40  \n",
       "2039                         5.94  \n",
       "2040                         6.46  \n",
       "2041                         6.96  \n",
       "2042                         7.39  \n",
       "2043                         7.76  \n",
       "2044                         8.04  \n",
       "2045                         8.23  \n",
       "2046                         8.38  \n",
       "2047                         8.52  \n",
       "2048                         8.69  \n",
       "2049                         8.88  \n",
       "2050                         9.08  "
      ]
     },
     "execution_count": 78,
     "metadata": {},
     "output_type": "execute_result"
    }
   ],
   "source": [
    "import pandas as pd\n",
    "import numpy as np\n",
    "\n",
    "# --- Start of Code ---\n",
    "\n",
    "# Define target entities and years\n",
    "target_entities = ['China', 'United States']\n",
    "start_year = 2023\n",
    "end_year = 2050\n",
    "\n",
    "# Filter for relevant entities and years\n",
    "df_filtered = working_age_df[\n",
    "    (working_age_df['entities'].isin(target_entities)) &\n",
    "    (working_age_df['years'] >= start_year) &\n",
    "    (working_age_df['years'] <= end_year)\n",
    "].copy()\n",
    "\n",
    "# Define column names\n",
    "est_col = 'population__sex_all__age_15_64__variant_estimates'\n",
    "med_col = 'population__sex_all__age_15_64__variant_medium'\n",
    "\n",
    "# --- Data Preparation ---\n",
    "# Create a unified population column (using estimates for 2023, medium for forecast)\n",
    "# Convert to millions directly\n",
    "df_filtered['working_pop_millions'] = np.where(\n",
    "    df_filtered['years'] == start_year,\n",
    "    df_filtered[est_col] / 1_000_000, # Use estimates for start year\n",
    "    df_filtered[med_col] / 1_000_000  # Use medium forecast for subsequent years\n",
    ")\n",
    "\n",
    "# Sort for accurate cumulative calculation\n",
    "df_filtered.sort_values(by=['entities', 'years'], inplace=True)\n",
    "\n",
    "# Calculate cumulative change since start_year for each country\n",
    "# Group by country, calculate diff, then cumulative sum\n",
    "df_filtered['yearly_change'] = df_filtered.groupby('entities')['working_pop_millions'].diff()\n",
    "df_filtered['cumulative_change_millions'] = df_filtered.groupby('entities')['yearly_change'].cumsum().fillna(0)\n",
    "\n",
    "# Select and pivot the table\n",
    "comparison_df = df_filtered.pivot_table(\n",
    "    index='years',\n",
    "    columns='entities',\n",
    "    values=['working_pop_millions', 'cumulative_change_millions']\n",
    ")\n",
    "\n",
    "# Flatten the multi-level column index for better readability\n",
    "comparison_df.columns = [f\"{col[1]}_{col[0].replace('_millions', '').replace('working_pop','Pop').replace('cumulative_change','Cumul_Change')}\" for col in comparison_df.columns]\n",
    "\n",
    "# Reorder columns for clarity (optional)\n",
    "comparison_df = comparison_df[[\n",
    "    'China_Pop', 'China_Cumul_Change', \n",
    "    'United States_Pop', 'United States_Cumul_Change'\n",
    "]]\n",
    "\n",
    "# Round the values for display\n",
    "comparison_df = comparison_df.round(2)\n",
    "\n",
    "# Display the resulting DataFrame\n",
    "print(f\"Working-Age Population Comparison (Millions): {start_year}-{end_year}\")\n",
    "comparison_df\n",
    "\n",
    "# --- End of Code ---"
   ]
  },
  {
   "cell_type": "markdown",
   "metadata": {},
   "source": [
    "Im 2050 hat ``China eine kumulative Veränderung von -237 Millionen an Working-Age Personen``, was dem entspricht was die komplette USA zum Stand 2023 hat... Crazy"
   ]
  },
  {
   "cell_type": "markdown",
   "metadata": {},
   "source": [
    "## Geburtenrate"
   ]
  },
  {
   "cell_type": "code",
   "execution_count": 17,
   "metadata": {},
   "outputs": [
    {
     "data": {
      "text/html": [
       "<div>\n",
       "<style scoped>\n",
       "    .dataframe tbody tr th:only-of-type {\n",
       "        vertical-align: middle;\n",
       "    }\n",
       "\n",
       "    .dataframe tbody tr th {\n",
       "        vertical-align: top;\n",
       "    }\n",
       "\n",
       "    .dataframe thead th {\n",
       "        text-align: right;\n",
       "    }\n",
       "</style>\n",
       "<table border=\"1\" class=\"dataframe\">\n",
       "  <thead>\n",
       "    <tr style=\"text-align: right;\">\n",
       "      <th></th>\n",
       "      <th>entities</th>\n",
       "      <th>years</th>\n",
       "      <th>children_per_woman_un</th>\n",
       "    </tr>\n",
       "  </thead>\n",
       "  <tbody>\n",
       "    <tr>\n",
       "      <th>0</th>\n",
       "      <td>Afghanistan</td>\n",
       "      <td>1950</td>\n",
       "      <td>7.248</td>\n",
       "    </tr>\n",
       "    <tr>\n",
       "      <th>1</th>\n",
       "      <td>Afghanistan</td>\n",
       "      <td>1951</td>\n",
       "      <td>7.260</td>\n",
       "    </tr>\n",
       "    <tr>\n",
       "      <th>2</th>\n",
       "      <td>Afghanistan</td>\n",
       "      <td>1952</td>\n",
       "      <td>7.260</td>\n",
       "    </tr>\n",
       "    <tr>\n",
       "      <th>3</th>\n",
       "      <td>Afghanistan</td>\n",
       "      <td>1953</td>\n",
       "      <td>7.266</td>\n",
       "    </tr>\n",
       "    <tr>\n",
       "      <th>4</th>\n",
       "      <td>Afghanistan</td>\n",
       "      <td>1954</td>\n",
       "      <td>7.254</td>\n",
       "    </tr>\n",
       "  </tbody>\n",
       "</table>\n",
       "</div>"
      ],
      "text/plain": [
       "      entities  years  children_per_woman_un\n",
       "0  Afghanistan   1950                  7.248\n",
       "1  Afghanistan   1951                  7.260\n",
       "2  Afghanistan   1952                  7.260\n",
       "3  Afghanistan   1953                  7.266\n",
       "4  Afghanistan   1954                  7.254"
      ]
     },
     "execution_count": 17,
     "metadata": {},
     "output_type": "execute_result"
    }
   ],
   "source": [
    "fertility_rate = charts.get_data(\"children-per-woman-un\")\n",
    "fertility_rate.head()"
   ]
  },
  {
   "cell_type": "code",
   "execution_count": 18,
   "metadata": {},
   "outputs": [
    {
     "data": {
      "text/html": [
       "<div>\n",
       "<style scoped>\n",
       "    .dataframe tbody tr th:only-of-type {\n",
       "        vertical-align: middle;\n",
       "    }\n",
       "\n",
       "    .dataframe tbody tr th {\n",
       "        vertical-align: top;\n",
       "    }\n",
       "\n",
       "    .dataframe thead th {\n",
       "        text-align: right;\n",
       "    }\n",
       "</style>\n",
       "<table border=\"1\" class=\"dataframe\">\n",
       "  <thead>\n",
       "    <tr style=\"text-align: right;\">\n",
       "      <th></th>\n",
       "      <th>entities</th>\n",
       "      <th>years</th>\n",
       "      <th>children_per_woman_un</th>\n",
       "    </tr>\n",
       "  </thead>\n",
       "  <tbody>\n",
       "    <tr>\n",
       "      <th>3256</th>\n",
       "      <td>China</td>\n",
       "      <td>1950</td>\n",
       "      <td>5.813</td>\n",
       "    </tr>\n",
       "    <tr>\n",
       "      <th>3257</th>\n",
       "      <td>China</td>\n",
       "      <td>1951</td>\n",
       "      <td>5.699</td>\n",
       "    </tr>\n",
       "    <tr>\n",
       "      <th>3258</th>\n",
       "      <td>China</td>\n",
       "      <td>1952</td>\n",
       "      <td>6.472</td>\n",
       "    </tr>\n",
       "    <tr>\n",
       "      <th>3259</th>\n",
       "      <td>China</td>\n",
       "      <td>1953</td>\n",
       "      <td>6.042</td>\n",
       "    </tr>\n",
       "    <tr>\n",
       "      <th>3260</th>\n",
       "      <td>China</td>\n",
       "      <td>1954</td>\n",
       "      <td>6.278</td>\n",
       "    </tr>\n",
       "    <tr>\n",
       "      <th>...</th>\n",
       "      <td>...</td>\n",
       "      <td>...</td>\n",
       "      <td>...</td>\n",
       "    </tr>\n",
       "    <tr>\n",
       "      <th>3325</th>\n",
       "      <td>China</td>\n",
       "      <td>2019</td>\n",
       "      <td>1.496</td>\n",
       "    </tr>\n",
       "    <tr>\n",
       "      <th>3326</th>\n",
       "      <td>China</td>\n",
       "      <td>2020</td>\n",
       "      <td>1.236</td>\n",
       "    </tr>\n",
       "    <tr>\n",
       "      <th>3327</th>\n",
       "      <td>China</td>\n",
       "      <td>2021</td>\n",
       "      <td>1.117</td>\n",
       "    </tr>\n",
       "    <tr>\n",
       "      <th>3328</th>\n",
       "      <td>China</td>\n",
       "      <td>2022</td>\n",
       "      <td>1.034</td>\n",
       "    </tr>\n",
       "    <tr>\n",
       "      <th>3329</th>\n",
       "      <td>China</td>\n",
       "      <td>2023</td>\n",
       "      <td>0.999</td>\n",
       "    </tr>\n",
       "  </tbody>\n",
       "</table>\n",
       "<p>74 rows × 3 columns</p>\n",
       "</div>"
      ],
      "text/plain": [
       "     entities  years  children_per_woman_un\n",
       "3256    China   1950                  5.813\n",
       "3257    China   1951                  5.699\n",
       "3258    China   1952                  6.472\n",
       "3259    China   1953                  6.042\n",
       "3260    China   1954                  6.278\n",
       "...       ...    ...                    ...\n",
       "3325    China   2019                  1.496\n",
       "3326    China   2020                  1.236\n",
       "3327    China   2021                  1.117\n",
       "3328    China   2022                  1.034\n",
       "3329    China   2023                  0.999\n",
       "\n",
       "[74 rows x 3 columns]"
      ]
     },
     "execution_count": 18,
     "metadata": {},
     "output_type": "execute_result"
    }
   ],
   "source": [
    "fertility_rate[fertility_rate['entities'] == 'China']"
   ]
  },
  {
   "cell_type": "code",
   "execution_count": 19,
   "metadata": {},
   "outputs": [
    {
     "data": {
      "text/html": [
       "<div>\n",
       "<style scoped>\n",
       "    .dataframe tbody tr th:only-of-type {\n",
       "        vertical-align: middle;\n",
       "    }\n",
       "\n",
       "    .dataframe tbody tr th {\n",
       "        vertical-align: top;\n",
       "    }\n",
       "\n",
       "    .dataframe thead th {\n",
       "        text-align: right;\n",
       "    }\n",
       "</style>\n",
       "<table border=\"1\" class=\"dataframe\">\n",
       "  <thead>\n",
       "    <tr style=\"text-align: right;\">\n",
       "      <th></th>\n",
       "      <th>years</th>\n",
       "      <th>children_per_woman_un</th>\n",
       "    </tr>\n",
       "  </thead>\n",
       "  <tbody>\n",
       "    <tr>\n",
       "      <th>count</th>\n",
       "      <td>18722.00000</td>\n",
       "      <td>18722.000000</td>\n",
       "    </tr>\n",
       "    <tr>\n",
       "      <th>mean</th>\n",
       "      <td>1986.50000</td>\n",
       "      <td>3.961614</td>\n",
       "    </tr>\n",
       "    <tr>\n",
       "      <th>std</th>\n",
       "      <td>21.36058</td>\n",
       "      <td>2.005870</td>\n",
       "    </tr>\n",
       "    <tr>\n",
       "      <th>min</th>\n",
       "      <td>1950.00000</td>\n",
       "      <td>0.662000</td>\n",
       "    </tr>\n",
       "    <tr>\n",
       "      <th>25%</th>\n",
       "      <td>1968.00000</td>\n",
       "      <td>2.131250</td>\n",
       "    </tr>\n",
       "    <tr>\n",
       "      <th>50%</th>\n",
       "      <td>1986.50000</td>\n",
       "      <td>3.521000</td>\n",
       "    </tr>\n",
       "    <tr>\n",
       "      <th>75%</th>\n",
       "      <td>2005.00000</td>\n",
       "      <td>5.899750</td>\n",
       "    </tr>\n",
       "    <tr>\n",
       "      <th>max</th>\n",
       "      <td>2023.00000</td>\n",
       "      <td>8.864000</td>\n",
       "    </tr>\n",
       "  </tbody>\n",
       "</table>\n",
       "</div>"
      ],
      "text/plain": [
       "             years  children_per_woman_un\n",
       "count  18722.00000           18722.000000\n",
       "mean    1986.50000               3.961614\n",
       "std       21.36058               2.005870\n",
       "min     1950.00000               0.662000\n",
       "25%     1968.00000               2.131250\n",
       "50%     1986.50000               3.521000\n",
       "75%     2005.00000               5.899750\n",
       "max     2023.00000               8.864000"
      ]
     },
     "execution_count": 19,
     "metadata": {},
     "output_type": "execute_result"
    }
   ],
   "source": [
    "fertility_rate.describe()"
   ]
  },
  {
   "cell_type": "code",
   "execution_count": 20,
   "metadata": {},
   "outputs": [],
   "source": [
    "# Berechnen des Rückgangs der Geburtenraten für jedes Land\n",
    "def calculate_fertility_decline(df):\n",
    "    # Gruppieren nach Ländern\n",
    "    countries = df['entities'].unique()\n",
    "    decline_data = []\n",
    "    \n",
    "    for country in countries:\n",
    "        country_data = df[df['entities'] == country].sort_values('years')\n",
    "        \n",
    "        # Prüfen, ob genügend Daten vorhanden sind\n",
    "        if len(country_data) > 10:  # Mindestens 10 Datenpunkte für eine sinnvolle Analyse\n",
    "            # Frühester und spätester verfügbarer Wert\n",
    "            earliest = country_data.iloc[0]\n",
    "            latest = country_data.iloc[-1]\n",
    "            \n",
    "            # Berechnen des absoluten und prozentualen Rückgangs\n",
    "            absolute_decline = earliest['children_per_woman_un'] - latest['children_per_woman_un']\n",
    "            percent_decline = (absolute_decline / earliest['children_per_woman_un']) * 100\n",
    "            \n",
    "            # Zeitraum\n",
    "            year_span = latest['years'] - earliest['years']\n",
    "            \n",
    "            # Durchschnittlicher jährlicher Rückgang\n",
    "            annual_decline = absolute_decline / year_span if year_span > 0 else 0\n",
    "            \n",
    "            decline_data.append({\n",
    "                'country': country,\n",
    "                'start_year': earliest['years'],\n",
    "                'end_year': latest['years'],\n",
    "                'start_rate': earliest['children_per_woman_un'],\n",
    "                'end_rate': latest['children_per_woman_un'],\n",
    "                'absolute_decline': absolute_decline,\n",
    "                'percent_decline': percent_decline,\n",
    "                'year_span': year_span,\n",
    "                'annual_decline': annual_decline\n",
    "            })\n",
    "    \n",
    "    return pd.DataFrame(decline_data)\n",
    "\n",
    "# Berechnen des Rückgangs\n",
    "decline_df = calculate_fertility_decline(fertility_rate)"
   ]
  },
  {
   "cell_type": "code",
   "execution_count": 21,
   "metadata": {},
   "outputs": [
    {
     "name": "stdout",
     "output_type": "stream",
     "text": [
      "Top 5 Länder mit dem größten absoluten Rückgang der Geburtenrate:\n"
     ]
    },
    {
     "data": {
      "text/html": [
       "<div>\n",
       "<style scoped>\n",
       "    .dataframe tbody tr th:only-of-type {\n",
       "        vertical-align: middle;\n",
       "    }\n",
       "\n",
       "    .dataframe tbody tr th {\n",
       "        vertical-align: top;\n",
       "    }\n",
       "\n",
       "    .dataframe thead th {\n",
       "        text-align: right;\n",
       "    }\n",
       "</style>\n",
       "<table border=\"1\" class=\"dataframe\">\n",
       "  <thead>\n",
       "    <tr style=\"text-align: right;\">\n",
       "      <th></th>\n",
       "      <th>country</th>\n",
       "      <th>start_year</th>\n",
       "      <th>end_year</th>\n",
       "      <th>start_rate</th>\n",
       "      <th>end_rate</th>\n",
       "      <th>absolute_decline</th>\n",
       "    </tr>\n",
       "  </thead>\n",
       "  <tbody>\n",
       "    <tr>\n",
       "      <th>221</th>\n",
       "      <td>Taiwan</td>\n",
       "      <td>1950</td>\n",
       "      <td>2023</td>\n",
       "      <td>6.481</td>\n",
       "      <td>0.870</td>\n",
       "      <td>5.611</td>\n",
       "    </tr>\n",
       "    <tr>\n",
       "      <th>116</th>\n",
       "      <td>Kuwait</td>\n",
       "      <td>1950</td>\n",
       "      <td>2023</td>\n",
       "      <td>7.115</td>\n",
       "      <td>1.525</td>\n",
       "      <td>5.590</td>\n",
       "    </tr>\n",
       "    <tr>\n",
       "      <th>247</th>\n",
       "      <td>Wallis and Futuna</td>\n",
       "      <td>1950</td>\n",
       "      <td>2023</td>\n",
       "      <td>6.947</td>\n",
       "      <td>1.410</td>\n",
       "      <td>5.537</td>\n",
       "    </tr>\n",
       "    <tr>\n",
       "      <th>196</th>\n",
       "      <td>Saint Vincent and the Grenadines</td>\n",
       "      <td>1950</td>\n",
       "      <td>2023</td>\n",
       "      <td>7.285</td>\n",
       "      <td>1.775</td>\n",
       "      <td>5.510</td>\n",
       "    </tr>\n",
       "    <tr>\n",
       "      <th>17</th>\n",
       "      <td>Bahrain</td>\n",
       "      <td>1950</td>\n",
       "      <td>2023</td>\n",
       "      <td>7.290</td>\n",
       "      <td>1.824</td>\n",
       "      <td>5.466</td>\n",
       "    </tr>\n",
       "  </tbody>\n",
       "</table>\n",
       "</div>"
      ],
      "text/plain": [
       "                              country  start_year  end_year  start_rate  \\\n",
       "221                            Taiwan        1950      2023       6.481   \n",
       "116                            Kuwait        1950      2023       7.115   \n",
       "247                 Wallis and Futuna        1950      2023       6.947   \n",
       "196  Saint Vincent and the Grenadines        1950      2023       7.285   \n",
       "17                            Bahrain        1950      2023       7.290   \n",
       "\n",
       "     end_rate  absolute_decline  \n",
       "221     0.870             5.611  \n",
       "116     1.525             5.590  \n",
       "247     1.410             5.537  \n",
       "196     1.775             5.510  \n",
       "17      1.824             5.466  "
      ]
     },
     "execution_count": 21,
     "metadata": {},
     "output_type": "execute_result"
    }
   ],
   "source": [
    "# Sortieren nach absolutem Rückgang (absteigend)\n",
    "top_absolute_decline = decline_df.sort_values('absolute_decline', ascending=False).head(5)\n",
    "print(\"Top 5 Länder mit dem größten absoluten Rückgang der Geburtenrate:\")\n",
    "top_absolute_decline[['country', 'start_year', 'end_year', 'start_rate', 'end_rate', 'absolute_decline']]"
   ]
  },
  {
   "cell_type": "code",
   "execution_count": 22,
   "metadata": {},
   "outputs": [
    {
     "name": "stdout",
     "output_type": "stream",
     "text": [
      "\n",
      "Top 5 Länder mit dem größten prozentualen Rückgang der Geburtenrate:\n"
     ]
    },
    {
     "data": {
      "text/html": [
       "<div>\n",
       "<style scoped>\n",
       "    .dataframe tbody tr th:only-of-type {\n",
       "        vertical-align: middle;\n",
       "    }\n",
       "\n",
       "    .dataframe tbody tr th {\n",
       "        vertical-align: top;\n",
       "    }\n",
       "\n",
       "    .dataframe thead th {\n",
       "        text-align: right;\n",
       "    }\n",
       "</style>\n",
       "<table border=\"1\" class=\"dataframe\">\n",
       "  <thead>\n",
       "    <tr style=\"text-align: right;\">\n",
       "      <th></th>\n",
       "      <th>country</th>\n",
       "      <th>start_year</th>\n",
       "      <th>end_year</th>\n",
       "      <th>start_rate</th>\n",
       "      <th>end_rate</th>\n",
       "      <th>percent_decline</th>\n",
       "    </tr>\n",
       "  </thead>\n",
       "  <tbody>\n",
       "    <tr>\n",
       "      <th>212</th>\n",
       "      <td>South Korea</td>\n",
       "      <td>1950</td>\n",
       "      <td>2023</td>\n",
       "      <td>6.063</td>\n",
       "      <td>0.720</td>\n",
       "      <td>88.124691</td>\n",
       "    </tr>\n",
       "    <tr>\n",
       "      <th>134</th>\n",
       "      <td>Macao</td>\n",
       "      <td>1950</td>\n",
       "      <td>2023</td>\n",
       "      <td>5.554</td>\n",
       "      <td>0.662</td>\n",
       "      <td>88.080663</td>\n",
       "    </tr>\n",
       "    <tr>\n",
       "      <th>221</th>\n",
       "      <td>Taiwan</td>\n",
       "      <td>1950</td>\n",
       "      <td>2023</td>\n",
       "      <td>6.481</td>\n",
       "      <td>0.870</td>\n",
       "      <td>86.576146</td>\n",
       "    </tr>\n",
       "    <tr>\n",
       "      <th>205</th>\n",
       "      <td>Singapore</td>\n",
       "      <td>1950</td>\n",
       "      <td>2023</td>\n",
       "      <td>6.225</td>\n",
       "      <td>0.943</td>\n",
       "      <td>84.851406</td>\n",
       "    </tr>\n",
       "    <tr>\n",
       "      <th>97</th>\n",
       "      <td>Hong Kong</td>\n",
       "      <td>1950</td>\n",
       "      <td>2023</td>\n",
       "      <td>4.255</td>\n",
       "      <td>0.717</td>\n",
       "      <td>83.149236</td>\n",
       "    </tr>\n",
       "  </tbody>\n",
       "</table>\n",
       "</div>"
      ],
      "text/plain": [
       "         country  start_year  end_year  start_rate  end_rate  percent_decline\n",
       "212  South Korea        1950      2023       6.063     0.720        88.124691\n",
       "134        Macao        1950      2023       5.554     0.662        88.080663\n",
       "221       Taiwan        1950      2023       6.481     0.870        86.576146\n",
       "205    Singapore        1950      2023       6.225     0.943        84.851406\n",
       "97     Hong Kong        1950      2023       4.255     0.717        83.149236"
      ]
     },
     "execution_count": 22,
     "metadata": {},
     "output_type": "execute_result"
    }
   ],
   "source": [
    "# Sortieren nach prozentualem Rückgang (absteigend)\n",
    "top_percent_decline = decline_df.sort_values('percent_decline', ascending=False).head(5)\n",
    "print(\"\\nTop 5 Länder mit dem größten prozentualen Rückgang der Geburtenrate:\")\n",
    "top_percent_decline[['country', 'start_year', 'end_year', 'start_rate', 'end_rate', 'percent_decline']]"
   ]
  },
  {
   "cell_type": "code",
   "execution_count": 23,
   "metadata": {},
   "outputs": [
    {
     "name": "stdout",
     "output_type": "stream",
     "text": [
      "\n",
      "Top 5 Länder mit dem schnellsten jährlichen Rückgang der Geburtenrate:\n"
     ]
    },
    {
     "data": {
      "text/html": [
       "<div>\n",
       "<style scoped>\n",
       "    .dataframe tbody tr th:only-of-type {\n",
       "        vertical-align: middle;\n",
       "    }\n",
       "\n",
       "    .dataframe tbody tr th {\n",
       "        vertical-align: top;\n",
       "    }\n",
       "\n",
       "    .dataframe thead th {\n",
       "        text-align: right;\n",
       "    }\n",
       "</style>\n",
       "<table border=\"1\" class=\"dataframe\">\n",
       "  <thead>\n",
       "    <tr style=\"text-align: right;\">\n",
       "      <th></th>\n",
       "      <th>country</th>\n",
       "      <th>start_year</th>\n",
       "      <th>end_year</th>\n",
       "      <th>start_rate</th>\n",
       "      <th>end_rate</th>\n",
       "      <th>annual_decline</th>\n",
       "    </tr>\n",
       "  </thead>\n",
       "  <tbody>\n",
       "    <tr>\n",
       "      <th>221</th>\n",
       "      <td>Taiwan</td>\n",
       "      <td>1950</td>\n",
       "      <td>2023</td>\n",
       "      <td>6.481</td>\n",
       "      <td>0.870</td>\n",
       "      <td>0.076863</td>\n",
       "    </tr>\n",
       "    <tr>\n",
       "      <th>116</th>\n",
       "      <td>Kuwait</td>\n",
       "      <td>1950</td>\n",
       "      <td>2023</td>\n",
       "      <td>7.115</td>\n",
       "      <td>1.525</td>\n",
       "      <td>0.076575</td>\n",
       "    </tr>\n",
       "    <tr>\n",
       "      <th>247</th>\n",
       "      <td>Wallis and Futuna</td>\n",
       "      <td>1950</td>\n",
       "      <td>2023</td>\n",
       "      <td>6.947</td>\n",
       "      <td>1.410</td>\n",
       "      <td>0.075849</td>\n",
       "    </tr>\n",
       "    <tr>\n",
       "      <th>196</th>\n",
       "      <td>Saint Vincent and the Grenadines</td>\n",
       "      <td>1950</td>\n",
       "      <td>2023</td>\n",
       "      <td>7.285</td>\n",
       "      <td>1.775</td>\n",
       "      <td>0.075479</td>\n",
       "    </tr>\n",
       "    <tr>\n",
       "      <th>17</th>\n",
       "      <td>Bahrain</td>\n",
       "      <td>1950</td>\n",
       "      <td>2023</td>\n",
       "      <td>7.290</td>\n",
       "      <td>1.824</td>\n",
       "      <td>0.074877</td>\n",
       "    </tr>\n",
       "  </tbody>\n",
       "</table>\n",
       "</div>"
      ],
      "text/plain": [
       "                              country  start_year  end_year  start_rate  \\\n",
       "221                            Taiwan        1950      2023       6.481   \n",
       "116                            Kuwait        1950      2023       7.115   \n",
       "247                 Wallis and Futuna        1950      2023       6.947   \n",
       "196  Saint Vincent and the Grenadines        1950      2023       7.285   \n",
       "17                            Bahrain        1950      2023       7.290   \n",
       "\n",
       "     end_rate  annual_decline  \n",
       "221     0.870        0.076863  \n",
       "116     1.525        0.076575  \n",
       "247     1.410        0.075849  \n",
       "196     1.775        0.075479  \n",
       "17      1.824        0.074877  "
      ]
     },
     "execution_count": 23,
     "metadata": {},
     "output_type": "execute_result"
    }
   ],
   "source": [
    "# Sortieren nach jährlichem Rückgang (absteigend)\n",
    "top_annual_decline = decline_df.sort_values('annual_decline', ascending=False).head(5)\n",
    "print(\"\\nTop 5 Länder mit dem schnellsten jährlichen Rückgang der Geburtenrate:\")\n",
    "top_annual_decline[['country', 'start_year', 'end_year', 'start_rate', 'end_rate', 'annual_decline']]"
   ]
  },
  {
   "cell_type": "markdown",
   "metadata": {},
   "source": [
    "### TOP5 min() FTR"
   ]
  },
  {
   "cell_type": "code",
   "execution_count": 24,
   "metadata": {},
   "outputs": [
    {
     "name": "stdout",
     "output_type": "stream",
     "text": [
      "Top 5 Länder mit den niedrigsten Geburtenraten im Jahr 2023:\n",
      "1. Macao: 0.66 Kinder pro Frau\n",
      "2. Hong Kong: 0.72 Kinder pro Frau\n",
      "3. South Korea: 0.72 Kinder pro Frau\n",
      "4. Saint Barthelemy: 0.80 Kinder pro Frau\n",
      "5. Taiwan: 0.87 Kinder pro Frau\n"
     ]
    },
    {
     "data": {
      "application/vnd.plotly.v1+json": {
       "config": {
        "plotlyServerURL": "https://plot.ly"
       },
       "data": [
        {
         "hovertemplate": "entities=%{x}<br>children_per_woman_un=%{y}<extra></extra>",
         "legendgroup": "Macao",
         "marker": {
          "color": "rgb(127, 60, 141)",
          "pattern": {
           "shape": ""
          }
         },
         "name": "Macao",
         "orientation": "v",
         "showlegend": true,
         "textposition": "outside",
         "texttemplate": "%{y:.2f}",
         "type": "bar",
         "x": [
          "Macao"
         ],
         "xaxis": "x",
         "y": {
          "bdata": "yXa+nxov5T8=",
          "dtype": "f8"
         },
         "yaxis": "y"
        },
        {
         "hovertemplate": "entities=%{x}<br>children_per_woman_un=%{y}<extra></extra>",
         "legendgroup": "Hong Kong",
         "marker": {
          "color": "rgb(17, 165, 121)",
          "pattern": {
           "shape": ""
          }
         },
         "name": "Hong Kong",
         "orientation": "v",
         "showlegend": true,
         "textposition": "outside",
         "texttemplate": "%{y:.2f}",
         "type": "bar",
         "x": [
          "Hong Kong"
         ],
         "xaxis": "x",
         "y": {
          "bdata": "i2zn+6nx5j8=",
          "dtype": "f8"
         },
         "yaxis": "y"
        },
        {
         "hovertemplate": "entities=%{x}<br>children_per_woman_un=%{y}<extra></extra>",
         "legendgroup": "South Korea",
         "marker": {
          "color": "rgb(57, 105, 172)",
          "pattern": {
           "shape": ""
          }
         },
         "name": "South Korea",
         "orientation": "v",
         "showlegend": true,
         "textposition": "outside",
         "texttemplate": "%{y:.2f}",
         "type": "bar",
         "x": [
          "South Korea"
         ],
         "xaxis": "x",
         "y": {
          "bdata": "CtejcD0K5z8=",
          "dtype": "f8"
         },
         "yaxis": "y"
        },
        {
         "hovertemplate": "entities=%{x}<br>children_per_woman_un=%{y}<extra></extra>",
         "legendgroup": "Saint Barthelemy",
         "marker": {
          "color": "rgb(242, 183, 1)",
          "pattern": {
           "shape": ""
          }
         },
         "name": "Saint Barthelemy",
         "orientation": "v",
         "showlegend": true,
         "textposition": "outside",
         "texttemplate": "%{y:.2f}",
         "type": "bar",
         "x": [
          "Saint Barthelemy"
         ],
         "xaxis": "x",
         "y": {
          "bdata": "bxKDwMqh6T8=",
          "dtype": "f8"
         },
         "yaxis": "y"
        },
        {
         "hovertemplate": "entities=%{x}<br>children_per_woman_un=%{y}<extra></extra>",
         "legendgroup": "Taiwan",
         "marker": {
          "color": "rgb(231, 63, 116)",
          "pattern": {
           "shape": ""
          }
         },
         "name": "Taiwan",
         "orientation": "v",
         "showlegend": true,
         "textposition": "outside",
         "texttemplate": "%{y:.2f}",
         "type": "bar",
         "x": [
          "Taiwan"
         ],
         "xaxis": "x",
         "y": {
          "bdata": "16NwPQrX6z8=",
          "dtype": "f8"
         },
         "yaxis": "y"
        }
       ],
       "layout": {
        "barmode": "relative",
        "height": 600,
        "legend": {
         "title": {
          "text": "entities"
         },
         "tracegroupgap": 0
        },
        "showlegend": false,
        "template": {
         "data": {
          "bar": [
           {
            "error_x": {
             "color": "#f2f5fa"
            },
            "error_y": {
             "color": "#f2f5fa"
            },
            "marker": {
             "line": {
              "color": "rgb(17,17,17)",
              "width": 0.5
             },
             "pattern": {
              "fillmode": "overlay",
              "size": 10,
              "solidity": 0.2
             }
            },
            "type": "bar"
           }
          ],
          "barpolar": [
           {
            "marker": {
             "line": {
              "color": "rgb(17,17,17)",
              "width": 0.5
             },
             "pattern": {
              "fillmode": "overlay",
              "size": 10,
              "solidity": 0.2
             }
            },
            "type": "barpolar"
           }
          ],
          "carpet": [
           {
            "aaxis": {
             "endlinecolor": "#A2B1C6",
             "gridcolor": "#506784",
             "linecolor": "#506784",
             "minorgridcolor": "#506784",
             "startlinecolor": "#A2B1C6"
            },
            "baxis": {
             "endlinecolor": "#A2B1C6",
             "gridcolor": "#506784",
             "linecolor": "#506784",
             "minorgridcolor": "#506784",
             "startlinecolor": "#A2B1C6"
            },
            "type": "carpet"
           }
          ],
          "choropleth": [
           {
            "colorbar": {
             "outlinewidth": 0,
             "ticks": ""
            },
            "type": "choropleth"
           }
          ],
          "contour": [
           {
            "colorbar": {
             "outlinewidth": 0,
             "ticks": ""
            },
            "colorscale": [
             [
              0,
              "#0d0887"
             ],
             [
              0.1111111111111111,
              "#46039f"
             ],
             [
              0.2222222222222222,
              "#7201a8"
             ],
             [
              0.3333333333333333,
              "#9c179e"
             ],
             [
              0.4444444444444444,
              "#bd3786"
             ],
             [
              0.5555555555555556,
              "#d8576b"
             ],
             [
              0.6666666666666666,
              "#ed7953"
             ],
             [
              0.7777777777777778,
              "#fb9f3a"
             ],
             [
              0.8888888888888888,
              "#fdca26"
             ],
             [
              1,
              "#f0f921"
             ]
            ],
            "type": "contour"
           }
          ],
          "contourcarpet": [
           {
            "colorbar": {
             "outlinewidth": 0,
             "ticks": ""
            },
            "type": "contourcarpet"
           }
          ],
          "heatmap": [
           {
            "colorbar": {
             "outlinewidth": 0,
             "ticks": ""
            },
            "colorscale": [
             [
              0,
              "#0d0887"
             ],
             [
              0.1111111111111111,
              "#46039f"
             ],
             [
              0.2222222222222222,
              "#7201a8"
             ],
             [
              0.3333333333333333,
              "#9c179e"
             ],
             [
              0.4444444444444444,
              "#bd3786"
             ],
             [
              0.5555555555555556,
              "#d8576b"
             ],
             [
              0.6666666666666666,
              "#ed7953"
             ],
             [
              0.7777777777777778,
              "#fb9f3a"
             ],
             [
              0.8888888888888888,
              "#fdca26"
             ],
             [
              1,
              "#f0f921"
             ]
            ],
            "type": "heatmap"
           }
          ],
          "histogram": [
           {
            "marker": {
             "pattern": {
              "fillmode": "overlay",
              "size": 10,
              "solidity": 0.2
             }
            },
            "type": "histogram"
           }
          ],
          "histogram2d": [
           {
            "colorbar": {
             "outlinewidth": 0,
             "ticks": ""
            },
            "colorscale": [
             [
              0,
              "#0d0887"
             ],
             [
              0.1111111111111111,
              "#46039f"
             ],
             [
              0.2222222222222222,
              "#7201a8"
             ],
             [
              0.3333333333333333,
              "#9c179e"
             ],
             [
              0.4444444444444444,
              "#bd3786"
             ],
             [
              0.5555555555555556,
              "#d8576b"
             ],
             [
              0.6666666666666666,
              "#ed7953"
             ],
             [
              0.7777777777777778,
              "#fb9f3a"
             ],
             [
              0.8888888888888888,
              "#fdca26"
             ],
             [
              1,
              "#f0f921"
             ]
            ],
            "type": "histogram2d"
           }
          ],
          "histogram2dcontour": [
           {
            "colorbar": {
             "outlinewidth": 0,
             "ticks": ""
            },
            "colorscale": [
             [
              0,
              "#0d0887"
             ],
             [
              0.1111111111111111,
              "#46039f"
             ],
             [
              0.2222222222222222,
              "#7201a8"
             ],
             [
              0.3333333333333333,
              "#9c179e"
             ],
             [
              0.4444444444444444,
              "#bd3786"
             ],
             [
              0.5555555555555556,
              "#d8576b"
             ],
             [
              0.6666666666666666,
              "#ed7953"
             ],
             [
              0.7777777777777778,
              "#fb9f3a"
             ],
             [
              0.8888888888888888,
              "#fdca26"
             ],
             [
              1,
              "#f0f921"
             ]
            ],
            "type": "histogram2dcontour"
           }
          ],
          "mesh3d": [
           {
            "colorbar": {
             "outlinewidth": 0,
             "ticks": ""
            },
            "type": "mesh3d"
           }
          ],
          "parcoords": [
           {
            "line": {
             "colorbar": {
              "outlinewidth": 0,
              "ticks": ""
             }
            },
            "type": "parcoords"
           }
          ],
          "pie": [
           {
            "automargin": true,
            "type": "pie"
           }
          ],
          "scatter": [
           {
            "marker": {
             "line": {
              "color": "#283442"
             }
            },
            "type": "scatter"
           }
          ],
          "scatter3d": [
           {
            "line": {
             "colorbar": {
              "outlinewidth": 0,
              "ticks": ""
             }
            },
            "marker": {
             "colorbar": {
              "outlinewidth": 0,
              "ticks": ""
             }
            },
            "type": "scatter3d"
           }
          ],
          "scattercarpet": [
           {
            "marker": {
             "colorbar": {
              "outlinewidth": 0,
              "ticks": ""
             }
            },
            "type": "scattercarpet"
           }
          ],
          "scattergeo": [
           {
            "marker": {
             "colorbar": {
              "outlinewidth": 0,
              "ticks": ""
             }
            },
            "type": "scattergeo"
           }
          ],
          "scattergl": [
           {
            "marker": {
             "line": {
              "color": "#283442"
             }
            },
            "type": "scattergl"
           }
          ],
          "scattermap": [
           {
            "marker": {
             "colorbar": {
              "outlinewidth": 0,
              "ticks": ""
             }
            },
            "type": "scattermap"
           }
          ],
          "scattermapbox": [
           {
            "marker": {
             "colorbar": {
              "outlinewidth": 0,
              "ticks": ""
             }
            },
            "type": "scattermapbox"
           }
          ],
          "scatterpolar": [
           {
            "marker": {
             "colorbar": {
              "outlinewidth": 0,
              "ticks": ""
             }
            },
            "type": "scatterpolar"
           }
          ],
          "scatterpolargl": [
           {
            "marker": {
             "colorbar": {
              "outlinewidth": 0,
              "ticks": ""
             }
            },
            "type": "scatterpolargl"
           }
          ],
          "scatterternary": [
           {
            "marker": {
             "colorbar": {
              "outlinewidth": 0,
              "ticks": ""
             }
            },
            "type": "scatterternary"
           }
          ],
          "surface": [
           {
            "colorbar": {
             "outlinewidth": 0,
             "ticks": ""
            },
            "colorscale": [
             [
              0,
              "#0d0887"
             ],
             [
              0.1111111111111111,
              "#46039f"
             ],
             [
              0.2222222222222222,
              "#7201a8"
             ],
             [
              0.3333333333333333,
              "#9c179e"
             ],
             [
              0.4444444444444444,
              "#bd3786"
             ],
             [
              0.5555555555555556,
              "#d8576b"
             ],
             [
              0.6666666666666666,
              "#ed7953"
             ],
             [
              0.7777777777777778,
              "#fb9f3a"
             ],
             [
              0.8888888888888888,
              "#fdca26"
             ],
             [
              1,
              "#f0f921"
             ]
            ],
            "type": "surface"
           }
          ],
          "table": [
           {
            "cells": {
             "fill": {
              "color": "#506784"
             },
             "line": {
              "color": "rgb(17,17,17)"
             }
            },
            "header": {
             "fill": {
              "color": "#2a3f5f"
             },
             "line": {
              "color": "rgb(17,17,17)"
             }
            },
            "type": "table"
           }
          ]
         },
         "layout": {
          "annotationdefaults": {
           "arrowcolor": "#f2f5fa",
           "arrowhead": 0,
           "arrowwidth": 1
          },
          "autotypenumbers": "strict",
          "coloraxis": {
           "colorbar": {
            "outlinewidth": 0,
            "ticks": ""
           }
          },
          "colorscale": {
           "diverging": [
            [
             0,
             "#8e0152"
            ],
            [
             0.1,
             "#c51b7d"
            ],
            [
             0.2,
             "#de77ae"
            ],
            [
             0.3,
             "#f1b6da"
            ],
            [
             0.4,
             "#fde0ef"
            ],
            [
             0.5,
             "#f7f7f7"
            ],
            [
             0.6,
             "#e6f5d0"
            ],
            [
             0.7,
             "#b8e186"
            ],
            [
             0.8,
             "#7fbc41"
            ],
            [
             0.9,
             "#4d9221"
            ],
            [
             1,
             "#276419"
            ]
           ],
           "sequential": [
            [
             0,
             "#0d0887"
            ],
            [
             0.1111111111111111,
             "#46039f"
            ],
            [
             0.2222222222222222,
             "#7201a8"
            ],
            [
             0.3333333333333333,
             "#9c179e"
            ],
            [
             0.4444444444444444,
             "#bd3786"
            ],
            [
             0.5555555555555556,
             "#d8576b"
            ],
            [
             0.6666666666666666,
             "#ed7953"
            ],
            [
             0.7777777777777778,
             "#fb9f3a"
            ],
            [
             0.8888888888888888,
             "#fdca26"
            ],
            [
             1,
             "#f0f921"
            ]
           ],
           "sequentialminus": [
            [
             0,
             "#0d0887"
            ],
            [
             0.1111111111111111,
             "#46039f"
            ],
            [
             0.2222222222222222,
             "#7201a8"
            ],
            [
             0.3333333333333333,
             "#9c179e"
            ],
            [
             0.4444444444444444,
             "#bd3786"
            ],
            [
             0.5555555555555556,
             "#d8576b"
            ],
            [
             0.6666666666666666,
             "#ed7953"
            ],
            [
             0.7777777777777778,
             "#fb9f3a"
            ],
            [
             0.8888888888888888,
             "#fdca26"
            ],
            [
             1,
             "#f0f921"
            ]
           ]
          },
          "colorway": [
           "#636efa",
           "#EF553B",
           "#00cc96",
           "#ab63fa",
           "#FFA15A",
           "#19d3f3",
           "#FF6692",
           "#B6E880",
           "#FF97FF",
           "#FECB52"
          ],
          "font": {
           "color": "#f2f5fa"
          },
          "geo": {
           "bgcolor": "rgb(17,17,17)",
           "lakecolor": "rgb(17,17,17)",
           "landcolor": "rgb(17,17,17)",
           "showlakes": true,
           "showland": true,
           "subunitcolor": "#506784"
          },
          "hoverlabel": {
           "align": "left"
          },
          "hovermode": "closest",
          "mapbox": {
           "style": "dark"
          },
          "paper_bgcolor": "rgb(17,17,17)",
          "plot_bgcolor": "rgb(17,17,17)",
          "polar": {
           "angularaxis": {
            "gridcolor": "#506784",
            "linecolor": "#506784",
            "ticks": ""
           },
           "bgcolor": "rgb(17,17,17)",
           "radialaxis": {
            "gridcolor": "#506784",
            "linecolor": "#506784",
            "ticks": ""
           }
          },
          "scene": {
           "xaxis": {
            "backgroundcolor": "rgb(17,17,17)",
            "gridcolor": "#506784",
            "gridwidth": 2,
            "linecolor": "#506784",
            "showbackground": true,
            "ticks": "",
            "zerolinecolor": "#C8D4E3"
           },
           "yaxis": {
            "backgroundcolor": "rgb(17,17,17)",
            "gridcolor": "#506784",
            "gridwidth": 2,
            "linecolor": "#506784",
            "showbackground": true,
            "ticks": "",
            "zerolinecolor": "#C8D4E3"
           },
           "zaxis": {
            "backgroundcolor": "rgb(17,17,17)",
            "gridcolor": "#506784",
            "gridwidth": 2,
            "linecolor": "#506784",
            "showbackground": true,
            "ticks": "",
            "zerolinecolor": "#C8D4E3"
           }
          },
          "shapedefaults": {
           "line": {
            "color": "#f2f5fa"
           }
          },
          "sliderdefaults": {
           "bgcolor": "#C8D4E3",
           "bordercolor": "rgb(17,17,17)",
           "borderwidth": 1,
           "tickwidth": 0
          },
          "ternary": {
           "aaxis": {
            "gridcolor": "#506784",
            "linecolor": "#506784",
            "ticks": ""
           },
           "baxis": {
            "gridcolor": "#506784",
            "linecolor": "#506784",
            "ticks": ""
           },
           "bgcolor": "rgb(17,17,17)",
           "caxis": {
            "gridcolor": "#506784",
            "linecolor": "#506784",
            "ticks": ""
           }
          },
          "title": {
           "x": 0.05
          },
          "updatemenudefaults": {
           "bgcolor": "#506784",
           "borderwidth": 0
          },
          "xaxis": {
           "automargin": true,
           "gridcolor": "#283442",
           "linecolor": "#506784",
           "ticks": "",
           "title": {
            "standoff": 15
           },
           "zerolinecolor": "#283442",
           "zerolinewidth": 2
          },
          "yaxis": {
           "automargin": true,
           "gridcolor": "#283442",
           "linecolor": "#506784",
           "ticks": "",
           "title": {
            "standoff": 15
           },
           "zerolinecolor": "#283442",
           "zerolinewidth": 2
          }
         }
        },
        "title": {
         "font": {
          "size": 24
         },
         "text": "Länder mit den niedrigsten Geburtenraten (2023)",
         "x": 0.5,
         "xanchor": "center",
         "y": 0.95,
         "yanchor": "top"
        },
        "width": 1000,
        "xaxis": {
         "anchor": "y",
         "categoryarray": [
          "Macao",
          "Hong Kong",
          "South Korea",
          "Saint Barthelemy",
          "Taiwan"
         ],
         "categoryorder": "array",
         "domain": [
          0,
          1
         ],
         "title": {
          "text": "Land"
         }
        },
        "yaxis": {
         "anchor": "x",
         "domain": [
          0,
          1
         ],
         "range": [
          0,
          0.9570000000000001
         ],
         "title": {
          "text": "Geburtenrate pro Frau"
         }
        }
       }
      }
     },
     "metadata": {},
     "output_type": "display_data"
    },
    {
     "data": {
      "application/vnd.plotly.v1+json": {
       "config": {
        "plotlyServerURL": "https://plot.ly"
       },
       "data": [
        {
         "hovertemplate": "entities=Hong Kong<br>years=%{x}<br>children_per_woman_un=%{y}<extra></extra>",
         "legendgroup": "Hong Kong",
         "line": {
          "color": "rgb(17, 165, 121)",
          "dash": "solid"
         },
         "marker": {
          "symbol": "circle"
         },
         "mode": "lines",
         "name": "Hong Kong",
         "orientation": "v",
         "showlegend": true,
         "type": "scatter",
         "x": {
          "bdata": "ngefB6AHoQeiB6MHpAelB6YHpweoB6kHqgerB6wHrQeuB68HsAexB7IHswe0B7UHtge3B7gHuQe6B7sHvAe9B74HvwfAB8EHwgfDB8QHxQfGB8cHyAfJB8oHywfMB80HzgfPB9AH0QfSB9MH1AfVB9YH1wfYB9kH2gfbB9wH3QfeB98H4AfhB+IH4wfkB+UH5gfnBw==",
          "dtype": "i2"
         },
         "xaxis": "x",
         "y": {
          "bdata": "hetRuB4FEUBMN4lBYGURQHWTGARWjhFAaJHtfD+1EUDy0k1iENgRQDMzMzMzMxJAj8L1KFyPEkBaZDvfTw0TQIXrUbgehRNAy6FFtvP9E0DXo3A9ClcUQJMYBFYOrRRAaJHtfD+1FEDP91PjpZsUQNejcD0KVxRA/tR46SaxE0BCYOXQItsRQMuhRbbzfRBA3SQGgZVDDkCYbhKDwMoMQEoMAiuHFgtAMzMzMzMzC0DVeOkmMQgKQBSuR+F6FAlAbxKDwMqhB0BqvHSTGAQFQJHtfD81XgNAEFg5tMh2AkCkcD0K16MBQFYOLbKd7wBAsHJoke18AEBzaJHtfD//P8HKoUW28/0/7FG4HoXr+z9cj8L1KFz5P6rx0k1iEPg/qMZLN4lB9j8GgZVDi2z1P6abxCCwcvY/dZMYBFYO9T+6SQwCK4f0P2IQWDm0yPQ/WDm0yHa+9T9YObTIdr71PxfZzvdT4/U/d76fGi/d9D9zaJHtfD/zPyuHFtnO9/E/ZmZmZmZm8D8CK4cW2c7vPzvfT42XbvA/6SYxCKwc7j9t5/up8dLtPyGwcmiR7ew/Rrbz/dR47T85tMh2vp/uPy/dJAaBle8/exSuR+F68D93vp8aL93wP83MzMzMzPA/7FG4HoXr8T+TGARWDi3yPx1aZDvfT/M/PQrXo3A99D+e76fGSzfzP28Sg8DKofM/SOF6FK5H8z+TGARWDi3yP8dLN4lBYPE/4XoUrkfh8D8lBoGVQ4vsP0w3iUFg5eg/Di2yne+n5j+LbOf7qfHmPw==",
          "dtype": "f8"
         },
         "yaxis": "y"
        },
        {
         "hovertemplate": "entities=Macao<br>years=%{x}<br>children_per_woman_un=%{y}<extra></extra>",
         "legendgroup": "Macao",
         "line": {
          "color": "rgb(127, 60, 141)",
          "dash": "solid"
         },
         "marker": {
          "symbol": "circle"
         },
         "mode": "lines",
         "name": "Macao",
         "orientation": "v",
         "showlegend": true,
         "type": "scatter",
         "x": {
          "bdata": "ngefB6AHoQeiB6MHpAelB6YHpweoB6kHqgerB6wHrQeuB68HsAexB7IHswe0B7UHtge3B7gHuQe6B7sHvAe9B74HvwfAB8EHwgfDB8QHxQfGB8cHyAfJB8oHywfMB80HzgfPB9AH0QfSB9MH1AfVB9YH1wfYB9kH2gfbB9wH3QfeB98H4AfhB+IH4wfkB+UH5gfnBw==",
          "dtype": "i2"
         },
         "xaxis": "x",
         "y": {
          "bdata": "nu+nxks3FkCPwvUoXA8WQKJFtvP91BVAL90kBoGVFUAMAiuHFlkVQHWTGARWDhVA001iEFi5FECR7Xw/NV4UQLByaJHt/BNATmIQWDm0E0CHFtnO99MTQBkEVg4tshJA30+Nl26SEUCcxCCwcugQQCUGgZVDiw9AwcqhRbbzDEDwp8ZLN4kKQOkmMQisHAhAd76fGi/dBEDb+X5qvHQCQESLbOf7qQBAgZVDi2zn/z8K16NwPQr/P7ByaJHtfP0/GQRWDi2y+z93vp8aL934P+F6FK5H4fY/qMZLN4lB9j/NzMzMzMz2P0jhehSuR/k/GQRWDi2y+z8v3SQGgZX9P6wcWmQ73/8/YhBYObTIAEApXI/C9SgBQOF6FK5H4QFAUI2XbhKDAUB7FK5H4XoAQAIrhxbZzv0/9ihcj8L1/D/y0k1iEFj7P9ejcD0K1/k/jZduEoPA+D/wp8ZLN4n3P0w3iUFg5fY/rBxaZDvf9T/P91PjpZv0P0jhehSuR/M/AiuHFtnO8T9mZmZmZmbwP0Jg5dAi2+0/CtejcD0K6z+YbhKDwMrpP/Cnxks3iek/GQRWDi2y6T8v3SQGgZXrP3E9CtejcO0/i2zn+6nx7j/b+X5qvHTvP4GVQ4ts5+8/zczMzMzM8D+q8dJNYhDyP0oMAiuHFvM/ZmZmZmZm8j8v3SQGgZXzPxKDwMqhRfI/aJHtfD818j/n+6nx0k3wP8UgsHJoke0/wcqhRbbz7T8GgZVDi2zrP05iEFg5tOg/yXa+nxov5T/Jdr6fGi/lPw==",
          "dtype": "f8"
         },
         "yaxis": "y"
        },
        {
         "hovertemplate": "entities=Saint Barthelemy<br>years=%{x}<br>children_per_woman_un=%{y}<extra></extra>",
         "legendgroup": "Saint Barthelemy",
         "line": {
          "color": "rgb(242, 183, 1)",
          "dash": "solid"
         },
         "marker": {
          "symbol": "circle"
         },
         "mode": "lines",
         "name": "Saint Barthelemy",
         "orientation": "v",
         "showlegend": true,
         "type": "scatter",
         "x": {
          "bdata": "ngefB6AHoQeiB6MHpAelB6YHpweoB6kHqgerB6wHrQeuB68HsAexB7IHswe0B7UHtge3B7gHuQe6B7sHvAe9B74HvwfAB8EHwgfDB8QHxQfGB8cHyAfJB8oHywfMB80HzgfPB9AH0QfSB9MH1AfVB9YH1wfYB9kH2gfbB9wH3QfeB98H4AfhB+IH4wfkB+UH5gfnBw==",
          "dtype": "i2"
         },
         "xaxis": "x",
         "y": {
          "bdata": "+FPjpZvECUC6SQwCK4cJQH0/NV66SQlAYOXQItv5CECkcD0K16MIQCcxCKwcWghAAAAAAAAACEBvEoPAyqEHQKjGSzeJQQdAVg4tsp3vBkDRItv5fmoGQPYoXI/C9QVAZmZmZmZmBUCYbhKDwMoEQMl2vp8aLwRAWmQ730+NA0DsUbgehesCQOf7qfHSTQJAjZduEoPAAUAIrBxaZDsBQIPAyqFFtgBAyXa+nxovAEDy0k1iEFj/P1K4HoXrUf4/CtejcD0K/T956SYxCKz6Pylcj8L1KPg/exSuR+F69j+YbhKDwMr1P5ZDi2zn+/U/y6FFtvP99j+kcD0K16P4PxSuR+F6FPo/16NwPQrX+T8GgZVDi2z5P6AaL90kBvk/+n5qvHST+D++nxov3ST4P1pkO99Pjfc/YOXQItv59j/6fmq8dJP2P1K4HoXrUfY/vp8aL90k9j+WQ4ts5/v1P8HKoUW28/U/7FG4HoXr9T+BlUOLbOf1PyuHFtnO9/U/fT81XrpJ9j9g5dAi2/n2P0Jg5dAi2/c//Knx0k1i+D/P91PjpZv4P/yp8dJNYvg/001iEFg5+D/Xo3A9Ctf3PzMzMzMzM/c/ZmZmZmZm9j9xPQrXo3D1P8/3U+Olm/Q/1XjpJjEI9D8X2c73U+PzP+xRuB6F6/M/cT0K16Nw8T8ZBFYOLbLtP6JFtvP91PA/tvP91Hjp7j8X2c73U+PpP2Q730+Nl+Y/sHJoke185z+oxks3iUHoP3e+nxov3eg/c2iR7Xw/6T9vEoPAyqHpPw==",
          "dtype": "f8"
         },
         "yaxis": "y"
        },
        {
         "hovertemplate": "entities=South Korea<br>years=%{x}<br>children_per_woman_un=%{y}<extra></extra>",
         "legendgroup": "South Korea",
         "line": {
          "color": "rgb(57, 105, 172)",
          "dash": "solid"
         },
         "marker": {
          "symbol": "circle"
         },
         "mode": "lines",
         "name": "South Korea",
         "orientation": "v",
         "showlegend": true,
         "type": "scatter",
         "x": {
          "bdata": "ngefB6AHoQeiB6MHpAelB6YHpweoB6kHqgerB6wHrQeuB68HsAexB7IHswe0B7UHtge3B7gHuQe6B7sHvAe9B74HvwfAB8EHwgfDB8QHxQfGB8cHyAfJB8oHywfMB80HzgfPB9AH0QfSB9MH1AfVB9YH1wfYB9kH2gfbB9wH3QfeB98H4AfhB+IH4wfkB+UH5gfnBw==",
          "dtype": "i2"
         },
         "xaxis": "x",
         "y": {
          "bdata": "jZduEoNAGEBCYOXQIlsYQLByaJHtfBhAyXa+nxqvGEAZBFYOLbIYQJMYBFYOrRhAMzMzMzOzGECDwMqhRbYYQM/3U+OlmxhA/Knx0k1iGEBg5dAi2/kXQIPAyqFFNhdAc2iR7Xw/FkC8dJMYBFYVQBKDwMqhRRRAPzVeukmME0BU46WbxCATQPYoXI/CdRJACtejcD0KEkB9PzVeuskRQLx0kxgE1hFA8KfGSzcJEUAUrkfhehQQQAaBlUOLbA5AcT0K16NwDEAbL90kBoEKQMHKoUW28whAbxKDwMqhB0BkO99PjZcFQJZDi2zn+wVArBxaZDvfBUAnMQisHFoFQKabxCCwcgNAN4lBYOXQAEAdWmQ730/9P0jhehSuR/s/K4cW2c73+T+JQWDl0CL5PyGwcmiR7fg/oBov3SQG+T/ZzvdT46X5PwisHFpkO/s/AiuHFtnO+z8hsHJoke36P7gehetRuPo/vHSTGARW+j8v3SQGgZX5P+F6FK5H4fg/wcqhRbbz9z8bL90kBoH3P0a28/3UePc/Rrbz/dR49T9vEoPAyqHzP8l2vp8aL/M/ObTIdr6f8j/Xo3A9CtfxP1K4HoXrUfI/cT0K16Nw8z8K16NwPQrzPwwCK4cW2fI/BFYOLbKd8z9U46WbxCD0P/yp8dJNYvQ/sp3vp8ZL8z/0/dR46SbzPwisHFpkO/M/PQrXo3A98j+PwvUoXI/wPzvfT42Xbu4//tR46SYx7D+WQ4ts5/vpP3WTGARWDuk/9ihcj8L16D8K16NwPQrnPw==",
          "dtype": "f8"
         },
         "yaxis": "y"
        },
        {
         "hovertemplate": "entities=Taiwan<br>years=%{x}<br>children_per_woman_un=%{y}<extra></extra>",
         "legendgroup": "Taiwan",
         "line": {
          "color": "rgb(231, 63, 116)",
          "dash": "solid"
         },
         "marker": {
          "symbol": "circle"
         },
         "mode": "lines",
         "name": "Taiwan",
         "orientation": "v",
         "showlegend": true,
         "type": "scatter",
         "x": {
          "bdata": "ngefB6AHoQeiB6MHpAelB6YHpweoB6kHqgerB6wHrQeuB68HsAexB7IHswe0B7UHtge3B7gHuQe6B7sHvAe9B74HvwfAB8EHwgfDB8QHxQfGB8cHyAfJB8oHywfMB80HzgfPB9AH0QfSB9MH1AfVB9YH1wfYB9kH2gfbB9wH3QfeB98H4AfhB+IH4wfkB+UH5gfnBw==",
          "dtype": "i2"
         },
         "xaxis": "x",
         "y": {
          "bdata": "BoGVQ4vsGUA/NV66SYwaQHNoke18vxpA001iEFi5GkA5tMh2vp8aQPLSTWIQWBpA2/l+arz0GUC8dJMYBFYZQARWDi2ynRhA+FPjpZvEF0DZzvdT4yUXQESLbOf7qRZApHA9CtcjFkA/NV66SYwVQAIrhxbZzhRAYOXQItv5E0DpJjEIrBwTQIlBYOXQIhJAexSuR+F6EUAj2/l+arwQQAIrhxbZzg9AYhBYObTIDUCwcmiR7XwLQMuhRbbz/QlAg8DKoUW2CEBiEFg5tMgHQNV46SYxCAhAgZVDi2znBUBxPQrXo3AFQClcj8L1KAVAPQrXo3A9BEA5tMh2vp8DQARWDi2ynQJAO99PjZduAUCR7Xw/NV4AQL6fGi/dJP4/hetRuB6F+z9xPQrXo3D7PwwCK4cW2fw/F9nO91Pj+z9kO99PjZf8P1YOLbKd7/s/gZVDi2zn+z8Sg8DKoUX8P7x0kxgEVvw/UI2XbhKD/D8QWDm0yHb8Py2yne+nxvs/Di2yne+n+D+6SQwCK4f4P1pkO99Pjfc/EFg5tMh29j8IrBxaZDv1PyuHFtnO9/M/9ihcj8L18j9U46WbxCDyPxfZzvdT4/E/bxKDwMqh8T/LoUW28/3wPxSuR+F6FPA/HVpkO99P7T+LbOf7qfHwPzVeukkMAvM/FK5H4XoU8j9kO99PjZfyP/YoXI/C9fI/I9v5fmq88j9WDi2yne/xPzMzMzMzM/E/uB6F61G48D+uR+F6FK7vPzMzMzMzM+8/16NwPQrX6z/Xo3A9CtfrPw==",
          "dtype": "f8"
         },
         "yaxis": "y"
        }
       ],
       "layout": {
        "height": 600,
        "legend": {
         "title": {
          "text": "Land"
         },
         "tracegroupgap": 0
        },
        "template": {
         "data": {
          "bar": [
           {
            "error_x": {
             "color": "#f2f5fa"
            },
            "error_y": {
             "color": "#f2f5fa"
            },
            "marker": {
             "line": {
              "color": "rgb(17,17,17)",
              "width": 0.5
             },
             "pattern": {
              "fillmode": "overlay",
              "size": 10,
              "solidity": 0.2
             }
            },
            "type": "bar"
           }
          ],
          "barpolar": [
           {
            "marker": {
             "line": {
              "color": "rgb(17,17,17)",
              "width": 0.5
             },
             "pattern": {
              "fillmode": "overlay",
              "size": 10,
              "solidity": 0.2
             }
            },
            "type": "barpolar"
           }
          ],
          "carpet": [
           {
            "aaxis": {
             "endlinecolor": "#A2B1C6",
             "gridcolor": "#506784",
             "linecolor": "#506784",
             "minorgridcolor": "#506784",
             "startlinecolor": "#A2B1C6"
            },
            "baxis": {
             "endlinecolor": "#A2B1C6",
             "gridcolor": "#506784",
             "linecolor": "#506784",
             "minorgridcolor": "#506784",
             "startlinecolor": "#A2B1C6"
            },
            "type": "carpet"
           }
          ],
          "choropleth": [
           {
            "colorbar": {
             "outlinewidth": 0,
             "ticks": ""
            },
            "type": "choropleth"
           }
          ],
          "contour": [
           {
            "colorbar": {
             "outlinewidth": 0,
             "ticks": ""
            },
            "colorscale": [
             [
              0,
              "#0d0887"
             ],
             [
              0.1111111111111111,
              "#46039f"
             ],
             [
              0.2222222222222222,
              "#7201a8"
             ],
             [
              0.3333333333333333,
              "#9c179e"
             ],
             [
              0.4444444444444444,
              "#bd3786"
             ],
             [
              0.5555555555555556,
              "#d8576b"
             ],
             [
              0.6666666666666666,
              "#ed7953"
             ],
             [
              0.7777777777777778,
              "#fb9f3a"
             ],
             [
              0.8888888888888888,
              "#fdca26"
             ],
             [
              1,
              "#f0f921"
             ]
            ],
            "type": "contour"
           }
          ],
          "contourcarpet": [
           {
            "colorbar": {
             "outlinewidth": 0,
             "ticks": ""
            },
            "type": "contourcarpet"
           }
          ],
          "heatmap": [
           {
            "colorbar": {
             "outlinewidth": 0,
             "ticks": ""
            },
            "colorscale": [
             [
              0,
              "#0d0887"
             ],
             [
              0.1111111111111111,
              "#46039f"
             ],
             [
              0.2222222222222222,
              "#7201a8"
             ],
             [
              0.3333333333333333,
              "#9c179e"
             ],
             [
              0.4444444444444444,
              "#bd3786"
             ],
             [
              0.5555555555555556,
              "#d8576b"
             ],
             [
              0.6666666666666666,
              "#ed7953"
             ],
             [
              0.7777777777777778,
              "#fb9f3a"
             ],
             [
              0.8888888888888888,
              "#fdca26"
             ],
             [
              1,
              "#f0f921"
             ]
            ],
            "type": "heatmap"
           }
          ],
          "histogram": [
           {
            "marker": {
             "pattern": {
              "fillmode": "overlay",
              "size": 10,
              "solidity": 0.2
             }
            },
            "type": "histogram"
           }
          ],
          "histogram2d": [
           {
            "colorbar": {
             "outlinewidth": 0,
             "ticks": ""
            },
            "colorscale": [
             [
              0,
              "#0d0887"
             ],
             [
              0.1111111111111111,
              "#46039f"
             ],
             [
              0.2222222222222222,
              "#7201a8"
             ],
             [
              0.3333333333333333,
              "#9c179e"
             ],
             [
              0.4444444444444444,
              "#bd3786"
             ],
             [
              0.5555555555555556,
              "#d8576b"
             ],
             [
              0.6666666666666666,
              "#ed7953"
             ],
             [
              0.7777777777777778,
              "#fb9f3a"
             ],
             [
              0.8888888888888888,
              "#fdca26"
             ],
             [
              1,
              "#f0f921"
             ]
            ],
            "type": "histogram2d"
           }
          ],
          "histogram2dcontour": [
           {
            "colorbar": {
             "outlinewidth": 0,
             "ticks": ""
            },
            "colorscale": [
             [
              0,
              "#0d0887"
             ],
             [
              0.1111111111111111,
              "#46039f"
             ],
             [
              0.2222222222222222,
              "#7201a8"
             ],
             [
              0.3333333333333333,
              "#9c179e"
             ],
             [
              0.4444444444444444,
              "#bd3786"
             ],
             [
              0.5555555555555556,
              "#d8576b"
             ],
             [
              0.6666666666666666,
              "#ed7953"
             ],
             [
              0.7777777777777778,
              "#fb9f3a"
             ],
             [
              0.8888888888888888,
              "#fdca26"
             ],
             [
              1,
              "#f0f921"
             ]
            ],
            "type": "histogram2dcontour"
           }
          ],
          "mesh3d": [
           {
            "colorbar": {
             "outlinewidth": 0,
             "ticks": ""
            },
            "type": "mesh3d"
           }
          ],
          "parcoords": [
           {
            "line": {
             "colorbar": {
              "outlinewidth": 0,
              "ticks": ""
             }
            },
            "type": "parcoords"
           }
          ],
          "pie": [
           {
            "automargin": true,
            "type": "pie"
           }
          ],
          "scatter": [
           {
            "marker": {
             "line": {
              "color": "#283442"
             }
            },
            "type": "scatter"
           }
          ],
          "scatter3d": [
           {
            "line": {
             "colorbar": {
              "outlinewidth": 0,
              "ticks": ""
             }
            },
            "marker": {
             "colorbar": {
              "outlinewidth": 0,
              "ticks": ""
             }
            },
            "type": "scatter3d"
           }
          ],
          "scattercarpet": [
           {
            "marker": {
             "colorbar": {
              "outlinewidth": 0,
              "ticks": ""
             }
            },
            "type": "scattercarpet"
           }
          ],
          "scattergeo": [
           {
            "marker": {
             "colorbar": {
              "outlinewidth": 0,
              "ticks": ""
             }
            },
            "type": "scattergeo"
           }
          ],
          "scattergl": [
           {
            "marker": {
             "line": {
              "color": "#283442"
             }
            },
            "type": "scattergl"
           }
          ],
          "scattermap": [
           {
            "marker": {
             "colorbar": {
              "outlinewidth": 0,
              "ticks": ""
             }
            },
            "type": "scattermap"
           }
          ],
          "scattermapbox": [
           {
            "marker": {
             "colorbar": {
              "outlinewidth": 0,
              "ticks": ""
             }
            },
            "type": "scattermapbox"
           }
          ],
          "scatterpolar": [
           {
            "marker": {
             "colorbar": {
              "outlinewidth": 0,
              "ticks": ""
             }
            },
            "type": "scatterpolar"
           }
          ],
          "scatterpolargl": [
           {
            "marker": {
             "colorbar": {
              "outlinewidth": 0,
              "ticks": ""
             }
            },
            "type": "scatterpolargl"
           }
          ],
          "scatterternary": [
           {
            "marker": {
             "colorbar": {
              "outlinewidth": 0,
              "ticks": ""
             }
            },
            "type": "scatterternary"
           }
          ],
          "surface": [
           {
            "colorbar": {
             "outlinewidth": 0,
             "ticks": ""
            },
            "colorscale": [
             [
              0,
              "#0d0887"
             ],
             [
              0.1111111111111111,
              "#46039f"
             ],
             [
              0.2222222222222222,
              "#7201a8"
             ],
             [
              0.3333333333333333,
              "#9c179e"
             ],
             [
              0.4444444444444444,
              "#bd3786"
             ],
             [
              0.5555555555555556,
              "#d8576b"
             ],
             [
              0.6666666666666666,
              "#ed7953"
             ],
             [
              0.7777777777777778,
              "#fb9f3a"
             ],
             [
              0.8888888888888888,
              "#fdca26"
             ],
             [
              1,
              "#f0f921"
             ]
            ],
            "type": "surface"
           }
          ],
          "table": [
           {
            "cells": {
             "fill": {
              "color": "#506784"
             },
             "line": {
              "color": "rgb(17,17,17)"
             }
            },
            "header": {
             "fill": {
              "color": "#2a3f5f"
             },
             "line": {
              "color": "rgb(17,17,17)"
             }
            },
            "type": "table"
           }
          ]
         },
         "layout": {
          "annotationdefaults": {
           "arrowcolor": "#f2f5fa",
           "arrowhead": 0,
           "arrowwidth": 1
          },
          "autotypenumbers": "strict",
          "coloraxis": {
           "colorbar": {
            "outlinewidth": 0,
            "ticks": ""
           }
          },
          "colorscale": {
           "diverging": [
            [
             0,
             "#8e0152"
            ],
            [
             0.1,
             "#c51b7d"
            ],
            [
             0.2,
             "#de77ae"
            ],
            [
             0.3,
             "#f1b6da"
            ],
            [
             0.4,
             "#fde0ef"
            ],
            [
             0.5,
             "#f7f7f7"
            ],
            [
             0.6,
             "#e6f5d0"
            ],
            [
             0.7,
             "#b8e186"
            ],
            [
             0.8,
             "#7fbc41"
            ],
            [
             0.9,
             "#4d9221"
            ],
            [
             1,
             "#276419"
            ]
           ],
           "sequential": [
            [
             0,
             "#0d0887"
            ],
            [
             0.1111111111111111,
             "#46039f"
            ],
            [
             0.2222222222222222,
             "#7201a8"
            ],
            [
             0.3333333333333333,
             "#9c179e"
            ],
            [
             0.4444444444444444,
             "#bd3786"
            ],
            [
             0.5555555555555556,
             "#d8576b"
            ],
            [
             0.6666666666666666,
             "#ed7953"
            ],
            [
             0.7777777777777778,
             "#fb9f3a"
            ],
            [
             0.8888888888888888,
             "#fdca26"
            ],
            [
             1,
             "#f0f921"
            ]
           ],
           "sequentialminus": [
            [
             0,
             "#0d0887"
            ],
            [
             0.1111111111111111,
             "#46039f"
            ],
            [
             0.2222222222222222,
             "#7201a8"
            ],
            [
             0.3333333333333333,
             "#9c179e"
            ],
            [
             0.4444444444444444,
             "#bd3786"
            ],
            [
             0.5555555555555556,
             "#d8576b"
            ],
            [
             0.6666666666666666,
             "#ed7953"
            ],
            [
             0.7777777777777778,
             "#fb9f3a"
            ],
            [
             0.8888888888888888,
             "#fdca26"
            ],
            [
             1,
             "#f0f921"
            ]
           ]
          },
          "colorway": [
           "#636efa",
           "#EF553B",
           "#00cc96",
           "#ab63fa",
           "#FFA15A",
           "#19d3f3",
           "#FF6692",
           "#B6E880",
           "#FF97FF",
           "#FECB52"
          ],
          "font": {
           "color": "#f2f5fa"
          },
          "geo": {
           "bgcolor": "rgb(17,17,17)",
           "lakecolor": "rgb(17,17,17)",
           "landcolor": "rgb(17,17,17)",
           "showlakes": true,
           "showland": true,
           "subunitcolor": "#506784"
          },
          "hoverlabel": {
           "align": "left"
          },
          "hovermode": "closest",
          "mapbox": {
           "style": "dark"
          },
          "paper_bgcolor": "rgb(17,17,17)",
          "plot_bgcolor": "rgb(17,17,17)",
          "polar": {
           "angularaxis": {
            "gridcolor": "#506784",
            "linecolor": "#506784",
            "ticks": ""
           },
           "bgcolor": "rgb(17,17,17)",
           "radialaxis": {
            "gridcolor": "#506784",
            "linecolor": "#506784",
            "ticks": ""
           }
          },
          "scene": {
           "xaxis": {
            "backgroundcolor": "rgb(17,17,17)",
            "gridcolor": "#506784",
            "gridwidth": 2,
            "linecolor": "#506784",
            "showbackground": true,
            "ticks": "",
            "zerolinecolor": "#C8D4E3"
           },
           "yaxis": {
            "backgroundcolor": "rgb(17,17,17)",
            "gridcolor": "#506784",
            "gridwidth": 2,
            "linecolor": "#506784",
            "showbackground": true,
            "ticks": "",
            "zerolinecolor": "#C8D4E3"
           },
           "zaxis": {
            "backgroundcolor": "rgb(17,17,17)",
            "gridcolor": "#506784",
            "gridwidth": 2,
            "linecolor": "#506784",
            "showbackground": true,
            "ticks": "",
            "zerolinecolor": "#C8D4E3"
           }
          },
          "shapedefaults": {
           "line": {
            "color": "#f2f5fa"
           }
          },
          "sliderdefaults": {
           "bgcolor": "#C8D4E3",
           "bordercolor": "rgb(17,17,17)",
           "borderwidth": 1,
           "tickwidth": 0
          },
          "ternary": {
           "aaxis": {
            "gridcolor": "#506784",
            "linecolor": "#506784",
            "ticks": ""
           },
           "baxis": {
            "gridcolor": "#506784",
            "linecolor": "#506784",
            "ticks": ""
           },
           "bgcolor": "rgb(17,17,17)",
           "caxis": {
            "gridcolor": "#506784",
            "linecolor": "#506784",
            "ticks": ""
           }
          },
          "title": {
           "x": 0.05
          },
          "updatemenudefaults": {
           "bgcolor": "#506784",
           "borderwidth": 0
          },
          "xaxis": {
           "automargin": true,
           "gridcolor": "#283442",
           "linecolor": "#506784",
           "ticks": "",
           "title": {
            "standoff": 15
           },
           "zerolinecolor": "#283442",
           "zerolinewidth": 2
          },
          "yaxis": {
           "automargin": true,
           "gridcolor": "#283442",
           "linecolor": "#506784",
           "ticks": "",
           "title": {
            "standoff": 15
           },
           "zerolinecolor": "#283442",
           "zerolinewidth": 2
          }
         }
        },
        "title": {
         "font": {
          "size": 24
         },
         "text": "Historische Entwicklung der Geburtenraten",
         "x": 0.5,
         "xanchor": "center",
         "y": 0.95,
         "yanchor": "top"
        },
        "width": 1000,
        "xaxis": {
         "anchor": "y",
         "domain": [
          0,
          1
         ],
         "title": {
          "text": "Jahr"
         }
        },
        "yaxis": {
         "anchor": "x",
         "domain": [
          0,
          1
         ],
         "title": {
          "text": "Geburtenrate pro Frau"
         }
        }
       }
      }
     },
     "metadata": {},
     "output_type": "display_data"
    }
   ],
   "source": [
    "# Filtern der Daten für das Jahr 2023\n",
    "fertility_2023 = fertility_rate[fertility_rate['years'] == 2023].copy()\n",
    "\n",
    "# Sortieren nach Geburtenrate (aufsteigend)\n",
    "lowest_fertility_2023 = fertility_2023.sort_values('children_per_woman_un').head(5)\n",
    "\n",
    "# Anzeigen der Ergebnisse\n",
    "print(\"Top 5 Länder mit den niedrigsten Geburtenraten im Jahr 2023:\")\n",
    "for i, (index, row) in enumerate(lowest_fertility_2023.iterrows(), 1):\n",
    "    print(f\"{i}. {row['entities']}: {row['children_per_woman_un']:.2f} Kinder pro Frau\")\n",
    "\n",
    "# Definieren einer konsistenten Farbpalette für die Länder\n",
    "top5_lowest_countries = lowest_fertility_2023['entities'].tolist()\n",
    "color_palette = px.colors.qualitative.Bold[:len(top5_lowest_countries)]\n",
    "color_map = dict(zip(top5_lowest_countries, color_palette))\n",
    "\n",
    "# Visualisierung der Top 5 Länder mit den niedrigsten Geburtenraten\n",
    "fig = px.bar(\n",
    "    lowest_fertility_2023,\n",
    "    x='entities',\n",
    "    y='children_per_woman_un',\n",
    "    color='entities',  # Nach Ländern färben\n",
    "    title='Länder mit den niedrigsten Geburtenraten (2023)',\n",
    "    template='plotly_dark',\n",
    "    color_discrete_map=color_map  # Konsistente Farben verwenden\n",
    ")\n",
    "\n",
    "# Layout anpassen\n",
    "fig.update_layout(\n",
    "    title={\n",
    "        'text': 'Länder mit den niedrigsten Geburtenraten (2023)',\n",
    "        'y': 0.95,\n",
    "        'x': 0.5,\n",
    "        'xanchor': 'center',\n",
    "        'yanchor': 'top',\n",
    "        'font': {'size': 24}\n",
    "    },\n",
    "    xaxis_title=\"Land\",\n",
    "    yaxis_title=\"Geburtenrate pro Frau\",\n",
    "    height=600,\n",
    "    width=1000,\n",
    "    showlegend=False  # Legende ausblenden, da die Länder bereits auf der x-Achse stehen\n",
    ")\n",
    "\n",
    "# Werte über den Balken anzeigen\n",
    "fig.update_traces(\n",
    "    texttemplate='%{y:.2f}',\n",
    "    textposition='outside'\n",
    ")\n",
    "\n",
    "# Y-Achse bei 0 beginnen lassen\n",
    "fig.update_yaxes(range=[0, max(lowest_fertility_2023['children_per_woman_un']) * 1.1])\n",
    "\n",
    "# Anzeigen der Grafik\n",
    "fig.show()\n",
    "\n",
    "# Zusätzlich: Zeitliche Entwicklung dieser 5 Länder\n",
    "historical_data = fertility_rate[fertility_rate['entities'].isin(top5_lowest_countries)]\n",
    "\n",
    "# Liniendiagramm für die historische Entwicklung\n",
    "fig_historical = px.line(\n",
    "    historical_data,\n",
    "    x='years',\n",
    "    y='children_per_woman_un',\n",
    "    color='entities',\n",
    "    title='Historische Entwicklung der Geburtenraten in Ländern mit den niedrigsten Werten (2023)',\n",
    "    template='plotly_dark',\n",
    "    color_discrete_map=color_map  # Dieselbe Farbzuordnung wie im Balkendiagramm\n",
    ")\n",
    "\n",
    "# Layout anpassen\n",
    "fig_historical.update_layout(\n",
    "    title={\n",
    "        'text': 'Historische Entwicklung der Geburtenraten',\n",
    "        'y': 0.95,\n",
    "        'x': 0.5,\n",
    "        'xanchor': 'center',\n",
    "        'yanchor': 'top',\n",
    "        'font': {'size': 24}\n",
    "    },\n",
    "    xaxis_title=\"Jahr\",\n",
    "    yaxis_title=\"Geburtenrate pro Frau\",\n",
    "    legend_title=\"Land\",\n",
    "    height=600,\n",
    "    width=1000\n",
    ")\n",
    "\n",
    "# Anzeigen der Grafik\n",
    "fig_historical.show()"
   ]
  },
  {
   "cell_type": "markdown",
   "metadata": {},
   "source": [
    "### TOP2 MIN, MAX + MEDIAN FTR"
   ]
  },
  {
   "cell_type": "code",
   "execution_count": 46,
   "metadata": {},
   "outputs": [
    {
     "name": "stdout",
     "output_type": "stream",
     "text": [
      "Top 2 Länder mit den niedrigsten Geburtenraten im Jahr 2023:\n",
      "1. Macao: 0.66 Kinder pro Frau\n",
      "2. Hong Kong: 0.72 Kinder pro Frau\n",
      "\n",
      "Land mit der Median-Geburtenrate im Jahr 2023:\n",
      "Sri Lanka: 1.97 Kinder pro Frau\n",
      "\n",
      "Top 2 Länder mit den höchsten Geburtenraten im Jahr 2023:\n",
      "1. Somalia: 6.13 Kinder pro Frau\n",
      "2. Chad: 6.12 Kinder pro Frau\n"
     ]
    },
    {
     "data": {
      "application/vnd.plotly.v1+json": {
       "config": {
        "plotlyServerURL": "https://plot.ly"
       },
       "data": [
        {
         "hovertemplate": "entities=%{x}<br>children_per_woman_un=%{y}<extra></extra>",
         "legendgroup": "Macao",
         "marker": {
          "color": "rgb(127, 60, 141)",
          "pattern": {
           "shape": ""
          }
         },
         "name": "Macao",
         "orientation": "v",
         "showlegend": true,
         "textposition": "outside",
         "texttemplate": "%{y:.2f}",
         "type": "bar",
         "x": [
          "Macao"
         ],
         "xaxis": "x",
         "y": {
          "bdata": "yXa+nxov5T8=",
          "dtype": "f8"
         },
         "yaxis": "y"
        },
        {
         "hovertemplate": "entities=%{x}<br>children_per_woman_un=%{y}<extra></extra>",
         "legendgroup": "Hong Kong",
         "marker": {
          "color": "rgb(17, 165, 121)",
          "pattern": {
           "shape": ""
          }
         },
         "name": "Hong Kong",
         "orientation": "v",
         "showlegend": true,
         "textposition": "outside",
         "texttemplate": "%{y:.2f}",
         "type": "bar",
         "x": [
          "Hong Kong"
         ],
         "xaxis": "x",
         "y": {
          "bdata": "i2zn+6nx5j8=",
          "dtype": "f8"
         },
         "yaxis": "y"
        },
        {
         "hovertemplate": "entities=%{x}<br>children_per_woman_un=%{y}<extra></extra>",
         "legendgroup": "Sri Lanka",
         "marker": {
          "color": "rgb(57, 105, 172)",
          "pattern": {
           "shape": ""
          }
         },
         "name": "Sri Lanka",
         "orientation": "v",
         "showlegend": true,
         "textposition": "outside",
         "texttemplate": "%{y:.2f}",
         "type": "bar",
         "x": [
          "Sri Lanka"
         ],
         "xaxis": "x",
         "y": {
          "bdata": "L90kBoGV/z8=",
          "dtype": "f8"
         },
         "yaxis": "y"
        },
        {
         "hovertemplate": "entities=%{x}<br>children_per_woman_un=%{y}<extra></extra>",
         "legendgroup": "Somalia",
         "marker": {
          "color": "rgb(242, 183, 1)",
          "pattern": {
           "shape": ""
          }
         },
         "name": "Somalia",
         "orientation": "v",
         "showlegend": true,
         "textposition": "outside",
         "texttemplate": "%{y:.2f}",
         "type": "bar",
         "x": [
          "Somalia"
         ],
         "xaxis": "x",
         "y": {
          "bdata": "ukkMAiuHGEA=",
          "dtype": "f8"
         },
         "yaxis": "y"
        },
        {
         "hovertemplate": "entities=%{x}<br>children_per_woman_un=%{y}<extra></extra>",
         "legendgroup": "Chad",
         "marker": {
          "color": "rgb(231, 63, 116)",
          "pattern": {
           "shape": ""
          }
         },
         "name": "Chad",
         "orientation": "v",
         "showlegend": true,
         "textposition": "outside",
         "texttemplate": "%{y:.2f}",
         "type": "bar",
         "x": [
          "Chad"
         ],
         "xaxis": "x",
         "y": {
          "bdata": "exSuR+F6GEA=",
          "dtype": "f8"
         },
         "yaxis": "y"
        }
       ],
       "layout": {
        "barmode": "relative",
        "height": 600,
        "legend": {
         "title": {
          "text": "Land"
         },
         "tracegroupgap": 0
        },
        "showlegend": false,
        "template": {
         "data": {
          "bar": [
           {
            "error_x": {
             "color": "#f2f5fa"
            },
            "error_y": {
             "color": "#f2f5fa"
            },
            "marker": {
             "line": {
              "color": "rgb(17,17,17)",
              "width": 0.5
             },
             "pattern": {
              "fillmode": "overlay",
              "size": 10,
              "solidity": 0.2
             }
            },
            "type": "bar"
           }
          ],
          "barpolar": [
           {
            "marker": {
             "line": {
              "color": "rgb(17,17,17)",
              "width": 0.5
             },
             "pattern": {
              "fillmode": "overlay",
              "size": 10,
              "solidity": 0.2
             }
            },
            "type": "barpolar"
           }
          ],
          "carpet": [
           {
            "aaxis": {
             "endlinecolor": "#A2B1C6",
             "gridcolor": "#506784",
             "linecolor": "#506784",
             "minorgridcolor": "#506784",
             "startlinecolor": "#A2B1C6"
            },
            "baxis": {
             "endlinecolor": "#A2B1C6",
             "gridcolor": "#506784",
             "linecolor": "#506784",
             "minorgridcolor": "#506784",
             "startlinecolor": "#A2B1C6"
            },
            "type": "carpet"
           }
          ],
          "choropleth": [
           {
            "colorbar": {
             "outlinewidth": 0,
             "ticks": ""
            },
            "type": "choropleth"
           }
          ],
          "contour": [
           {
            "colorbar": {
             "outlinewidth": 0,
             "ticks": ""
            },
            "colorscale": [
             [
              0,
              "#0d0887"
             ],
             [
              0.1111111111111111,
              "#46039f"
             ],
             [
              0.2222222222222222,
              "#7201a8"
             ],
             [
              0.3333333333333333,
              "#9c179e"
             ],
             [
              0.4444444444444444,
              "#bd3786"
             ],
             [
              0.5555555555555556,
              "#d8576b"
             ],
             [
              0.6666666666666666,
              "#ed7953"
             ],
             [
              0.7777777777777778,
              "#fb9f3a"
             ],
             [
              0.8888888888888888,
              "#fdca26"
             ],
             [
              1,
              "#f0f921"
             ]
            ],
            "type": "contour"
           }
          ],
          "contourcarpet": [
           {
            "colorbar": {
             "outlinewidth": 0,
             "ticks": ""
            },
            "type": "contourcarpet"
           }
          ],
          "heatmap": [
           {
            "colorbar": {
             "outlinewidth": 0,
             "ticks": ""
            },
            "colorscale": [
             [
              0,
              "#0d0887"
             ],
             [
              0.1111111111111111,
              "#46039f"
             ],
             [
              0.2222222222222222,
              "#7201a8"
             ],
             [
              0.3333333333333333,
              "#9c179e"
             ],
             [
              0.4444444444444444,
              "#bd3786"
             ],
             [
              0.5555555555555556,
              "#d8576b"
             ],
             [
              0.6666666666666666,
              "#ed7953"
             ],
             [
              0.7777777777777778,
              "#fb9f3a"
             ],
             [
              0.8888888888888888,
              "#fdca26"
             ],
             [
              1,
              "#f0f921"
             ]
            ],
            "type": "heatmap"
           }
          ],
          "histogram": [
           {
            "marker": {
             "pattern": {
              "fillmode": "overlay",
              "size": 10,
              "solidity": 0.2
             }
            },
            "type": "histogram"
           }
          ],
          "histogram2d": [
           {
            "colorbar": {
             "outlinewidth": 0,
             "ticks": ""
            },
            "colorscale": [
             [
              0,
              "#0d0887"
             ],
             [
              0.1111111111111111,
              "#46039f"
             ],
             [
              0.2222222222222222,
              "#7201a8"
             ],
             [
              0.3333333333333333,
              "#9c179e"
             ],
             [
              0.4444444444444444,
              "#bd3786"
             ],
             [
              0.5555555555555556,
              "#d8576b"
             ],
             [
              0.6666666666666666,
              "#ed7953"
             ],
             [
              0.7777777777777778,
              "#fb9f3a"
             ],
             [
              0.8888888888888888,
              "#fdca26"
             ],
             [
              1,
              "#f0f921"
             ]
            ],
            "type": "histogram2d"
           }
          ],
          "histogram2dcontour": [
           {
            "colorbar": {
             "outlinewidth": 0,
             "ticks": ""
            },
            "colorscale": [
             [
              0,
              "#0d0887"
             ],
             [
              0.1111111111111111,
              "#46039f"
             ],
             [
              0.2222222222222222,
              "#7201a8"
             ],
             [
              0.3333333333333333,
              "#9c179e"
             ],
             [
              0.4444444444444444,
              "#bd3786"
             ],
             [
              0.5555555555555556,
              "#d8576b"
             ],
             [
              0.6666666666666666,
              "#ed7953"
             ],
             [
              0.7777777777777778,
              "#fb9f3a"
             ],
             [
              0.8888888888888888,
              "#fdca26"
             ],
             [
              1,
              "#f0f921"
             ]
            ],
            "type": "histogram2dcontour"
           }
          ],
          "mesh3d": [
           {
            "colorbar": {
             "outlinewidth": 0,
             "ticks": ""
            },
            "type": "mesh3d"
           }
          ],
          "parcoords": [
           {
            "line": {
             "colorbar": {
              "outlinewidth": 0,
              "ticks": ""
             }
            },
            "type": "parcoords"
           }
          ],
          "pie": [
           {
            "automargin": true,
            "type": "pie"
           }
          ],
          "scatter": [
           {
            "marker": {
             "line": {
              "color": "#283442"
             }
            },
            "type": "scatter"
           }
          ],
          "scatter3d": [
           {
            "line": {
             "colorbar": {
              "outlinewidth": 0,
              "ticks": ""
             }
            },
            "marker": {
             "colorbar": {
              "outlinewidth": 0,
              "ticks": ""
             }
            },
            "type": "scatter3d"
           }
          ],
          "scattercarpet": [
           {
            "marker": {
             "colorbar": {
              "outlinewidth": 0,
              "ticks": ""
             }
            },
            "type": "scattercarpet"
           }
          ],
          "scattergeo": [
           {
            "marker": {
             "colorbar": {
              "outlinewidth": 0,
              "ticks": ""
             }
            },
            "type": "scattergeo"
           }
          ],
          "scattergl": [
           {
            "marker": {
             "line": {
              "color": "#283442"
             }
            },
            "type": "scattergl"
           }
          ],
          "scattermap": [
           {
            "marker": {
             "colorbar": {
              "outlinewidth": 0,
              "ticks": ""
             }
            },
            "type": "scattermap"
           }
          ],
          "scattermapbox": [
           {
            "marker": {
             "colorbar": {
              "outlinewidth": 0,
              "ticks": ""
             }
            },
            "type": "scattermapbox"
           }
          ],
          "scatterpolar": [
           {
            "marker": {
             "colorbar": {
              "outlinewidth": 0,
              "ticks": ""
             }
            },
            "type": "scatterpolar"
           }
          ],
          "scatterpolargl": [
           {
            "marker": {
             "colorbar": {
              "outlinewidth": 0,
              "ticks": ""
             }
            },
            "type": "scatterpolargl"
           }
          ],
          "scatterternary": [
           {
            "marker": {
             "colorbar": {
              "outlinewidth": 0,
              "ticks": ""
             }
            },
            "type": "scatterternary"
           }
          ],
          "surface": [
           {
            "colorbar": {
             "outlinewidth": 0,
             "ticks": ""
            },
            "colorscale": [
             [
              0,
              "#0d0887"
             ],
             [
              0.1111111111111111,
              "#46039f"
             ],
             [
              0.2222222222222222,
              "#7201a8"
             ],
             [
              0.3333333333333333,
              "#9c179e"
             ],
             [
              0.4444444444444444,
              "#bd3786"
             ],
             [
              0.5555555555555556,
              "#d8576b"
             ],
             [
              0.6666666666666666,
              "#ed7953"
             ],
             [
              0.7777777777777778,
              "#fb9f3a"
             ],
             [
              0.8888888888888888,
              "#fdca26"
             ],
             [
              1,
              "#f0f921"
             ]
            ],
            "type": "surface"
           }
          ],
          "table": [
           {
            "cells": {
             "fill": {
              "color": "#506784"
             },
             "line": {
              "color": "rgb(17,17,17)"
             }
            },
            "header": {
             "fill": {
              "color": "#2a3f5f"
             },
             "line": {
              "color": "rgb(17,17,17)"
             }
            },
            "type": "table"
           }
          ]
         },
         "layout": {
          "annotationdefaults": {
           "arrowcolor": "#f2f5fa",
           "arrowhead": 0,
           "arrowwidth": 1
          },
          "autotypenumbers": "strict",
          "coloraxis": {
           "colorbar": {
            "outlinewidth": 0,
            "ticks": ""
           }
          },
          "colorscale": {
           "diverging": [
            [
             0,
             "#8e0152"
            ],
            [
             0.1,
             "#c51b7d"
            ],
            [
             0.2,
             "#de77ae"
            ],
            [
             0.3,
             "#f1b6da"
            ],
            [
             0.4,
             "#fde0ef"
            ],
            [
             0.5,
             "#f7f7f7"
            ],
            [
             0.6,
             "#e6f5d0"
            ],
            [
             0.7,
             "#b8e186"
            ],
            [
             0.8,
             "#7fbc41"
            ],
            [
             0.9,
             "#4d9221"
            ],
            [
             1,
             "#276419"
            ]
           ],
           "sequential": [
            [
             0,
             "#0d0887"
            ],
            [
             0.1111111111111111,
             "#46039f"
            ],
            [
             0.2222222222222222,
             "#7201a8"
            ],
            [
             0.3333333333333333,
             "#9c179e"
            ],
            [
             0.4444444444444444,
             "#bd3786"
            ],
            [
             0.5555555555555556,
             "#d8576b"
            ],
            [
             0.6666666666666666,
             "#ed7953"
            ],
            [
             0.7777777777777778,
             "#fb9f3a"
            ],
            [
             0.8888888888888888,
             "#fdca26"
            ],
            [
             1,
             "#f0f921"
            ]
           ],
           "sequentialminus": [
            [
             0,
             "#0d0887"
            ],
            [
             0.1111111111111111,
             "#46039f"
            ],
            [
             0.2222222222222222,
             "#7201a8"
            ],
            [
             0.3333333333333333,
             "#9c179e"
            ],
            [
             0.4444444444444444,
             "#bd3786"
            ],
            [
             0.5555555555555556,
             "#d8576b"
            ],
            [
             0.6666666666666666,
             "#ed7953"
            ],
            [
             0.7777777777777778,
             "#fb9f3a"
            ],
            [
             0.8888888888888888,
             "#fdca26"
            ],
            [
             1,
             "#f0f921"
            ]
           ]
          },
          "colorway": [
           "#636efa",
           "#EF553B",
           "#00cc96",
           "#ab63fa",
           "#FFA15A",
           "#19d3f3",
           "#FF6692",
           "#B6E880",
           "#FF97FF",
           "#FECB52"
          ],
          "font": {
           "color": "#f2f5fa"
          },
          "geo": {
           "bgcolor": "rgb(17,17,17)",
           "lakecolor": "rgb(17,17,17)",
           "landcolor": "rgb(17,17,17)",
           "showlakes": true,
           "showland": true,
           "subunitcolor": "#506784"
          },
          "hoverlabel": {
           "align": "left"
          },
          "hovermode": "closest",
          "mapbox": {
           "style": "dark"
          },
          "paper_bgcolor": "rgb(17,17,17)",
          "plot_bgcolor": "rgb(17,17,17)",
          "polar": {
           "angularaxis": {
            "gridcolor": "#506784",
            "linecolor": "#506784",
            "ticks": ""
           },
           "bgcolor": "rgb(17,17,17)",
           "radialaxis": {
            "gridcolor": "#506784",
            "linecolor": "#506784",
            "ticks": ""
           }
          },
          "scene": {
           "xaxis": {
            "backgroundcolor": "rgb(17,17,17)",
            "gridcolor": "#506784",
            "gridwidth": 2,
            "linecolor": "#506784",
            "showbackground": true,
            "ticks": "",
            "zerolinecolor": "#C8D4E3"
           },
           "yaxis": {
            "backgroundcolor": "rgb(17,17,17)",
            "gridcolor": "#506784",
            "gridwidth": 2,
            "linecolor": "#506784",
            "showbackground": true,
            "ticks": "",
            "zerolinecolor": "#C8D4E3"
           },
           "zaxis": {
            "backgroundcolor": "rgb(17,17,17)",
            "gridcolor": "#506784",
            "gridwidth": 2,
            "linecolor": "#506784",
            "showbackground": true,
            "ticks": "",
            "zerolinecolor": "#C8D4E3"
           }
          },
          "shapedefaults": {
           "line": {
            "color": "#f2f5fa"
           }
          },
          "sliderdefaults": {
           "bgcolor": "#C8D4E3",
           "bordercolor": "rgb(17,17,17)",
           "borderwidth": 1,
           "tickwidth": 0
          },
          "ternary": {
           "aaxis": {
            "gridcolor": "#506784",
            "linecolor": "#506784",
            "ticks": ""
           },
           "baxis": {
            "gridcolor": "#506784",
            "linecolor": "#506784",
            "ticks": ""
           },
           "bgcolor": "rgb(17,17,17)",
           "caxis": {
            "gridcolor": "#506784",
            "linecolor": "#506784",
            "ticks": ""
           }
          },
          "title": {
           "x": 0.05
          },
          "updatemenudefaults": {
           "bgcolor": "#506784",
           "borderwidth": 0
          },
          "xaxis": {
           "automargin": true,
           "gridcolor": "#283442",
           "linecolor": "#506784",
           "ticks": "",
           "title": {
            "standoff": 15
           },
           "zerolinecolor": "#283442",
           "zerolinewidth": 2
          },
          "yaxis": {
           "automargin": true,
           "gridcolor": "#283442",
           "linecolor": "#506784",
           "ticks": "",
           "title": {
            "standoff": 15
           },
           "zerolinecolor": "#283442",
           "zerolinewidth": 2
          }
         }
        },
        "title": {
         "font": {
          "size": 24
         },
         "text": "2 Tiefst- / Median / 2 Höchstwerte (2023)",
         "x": 0.5,
         "xanchor": "center",
         "y": 0.95,
         "yanchor": "top"
        },
        "width": 1000,
        "xaxis": {
         "anchor": "y",
         "categoryarray": [
          "Macao",
          "Hong Kong",
          "Sri Lanka",
          "Somalia",
          "Chad"
         ],
         "categoryorder": "array",
         "domain": [
          0,
          1
         ],
         "title": {
          "text": "Land"
         }
        },
        "yaxis": {
         "anchor": "x",
         "domain": [
          0,
          1
         ],
         "range": [
          0,
          6.7452000000000005
         ],
         "title": {
          "text": "Geburtenrate pro Frau"
         }
        }
       }
      }
     },
     "metadata": {},
     "output_type": "display_data"
    },
    {
     "data": {
      "application/vnd.plotly.v1+json": {
       "config": {
        "plotlyServerURL": "https://plot.ly"
       },
       "data": [
        {
         "hovertemplate": "entities=Chad<br>years=%{x}<br>children_per_woman_un=%{y}<extra></extra>",
         "legendgroup": "Chad",
         "line": {
          "color": "rgb(231, 63, 116)",
          "dash": "solid"
         },
         "marker": {
          "symbol": "circle"
         },
         "mode": "lines",
         "name": "Chad",
         "orientation": "v",
         "showlegend": true,
         "type": "scatter",
         "x": {
          "bdata": "ngefB6AHoQeiB6MHpAelB6YHpweoB6kHqgerB6wHrQeuB68HsAexB7IHswe0B7UHtge3B7gHuQe6B7sHvAe9B74HvwfAB8EHwgfDB8QHxQfGB8cHyAfJB8oHywfMB80HzgfPB9AH0QfSB9MH1AfVB9YH1wfYB9kH2gfbB9wH3QfeB98H4AfhB+IH4wfkB+UH5gfnBw==",
          "dtype": "i2"
         },
         "xaxis": "x",
         "y": {
          "bdata": "c2iR7Xw/GEBiEFg5tEgYQFyPwvUoXBhAVg4tsp1vGEBqvHSTGIQYQH9qvHSTmBhAkxgEVg6tGEDD9Shcj8IYQNejcD0K1xhA7FG4HoXrGEAAAAAAAAAZQN9PjZduEhlApHA9CtcjGUBOYhBYOTQZQBKDwMqhRRlADAIrhxZZGUCmm8QgsHIZQN9PjZdukhlA7nw/NV66GUCcxCCwcugZQOkmMQisHBpAhxbZzvdTGkBmZmZmZmYbQGDl0CLbeRtA2/l+arx0G0AbL90kBoEbQN9PjZdukhtAL90kBoGVG0Cq8dJNYpAbQB+F61G4nhtAbxKDwMqhG0D4U+Olm8QbQPLSTWIQ2BtA0SLb+X7qG0CPwvUoXA8cQNnO91PjJRxA+FPjpZtEHEDsUbgehWscQARWDi2ynRxAWDm0yHa+HEDHSzeJQeAcQCUGgZVDCx1AyXa+nxovHUAMAiuHFlkdQD0K16NwPR1AKVyPwvUoHUBeukkMAisdQH9qvHSTGB1AqvHSTWIQHUA/NV66SQwdQOXQItv5/hxABoGVQ4vsHEDn+6nx0s0cQJ7vp8ZLtxxApHA9CtejHEDwp8ZLN4kcQEa28/3UeBxAke18PzVeHECNl24Sg0AcQC/dJAaBFRxA9ihcj8L1G0CYbhKDwMobQB+F61G4nhtAQmDl0CJbG0A5tMh2vh8bQG3n+6nx0hpAy6FFtvN9GkDZzvdT4yUaQEJg5dAi2xlA2c73U+OlGUD8qfHSTWIZQIXrUbgeBRlAXI/C9SjcGEB7FK5H4XoYQA==",
          "dtype": "f8"
         },
         "yaxis": "y"
        },
        {
         "hovertemplate": "entities=Hong Kong<br>years=%{x}<br>children_per_woman_un=%{y}<extra></extra>",
         "legendgroup": "Hong Kong",
         "line": {
          "color": "rgb(17, 165, 121)",
          "dash": "solid"
         },
         "marker": {
          "symbol": "circle"
         },
         "mode": "lines",
         "name": "Hong Kong",
         "orientation": "v",
         "showlegend": true,
         "type": "scatter",
         "x": {
          "bdata": "ngefB6AHoQeiB6MHpAelB6YHpweoB6kHqgerB6wHrQeuB68HsAexB7IHswe0B7UHtge3B7gHuQe6B7sHvAe9B74HvwfAB8EHwgfDB8QHxQfGB8cHyAfJB8oHywfMB80HzgfPB9AH0QfSB9MH1AfVB9YH1wfYB9kH2gfbB9wH3QfeB98H4AfhB+IH4wfkB+UH5gfnBw==",
          "dtype": "i2"
         },
         "xaxis": "x",
         "y": {
          "bdata": "hetRuB4FEUBMN4lBYGURQHWTGARWjhFAaJHtfD+1EUDy0k1iENgRQDMzMzMzMxJAj8L1KFyPEkBaZDvfTw0TQIXrUbgehRNAy6FFtvP9E0DXo3A9ClcUQJMYBFYOrRRAaJHtfD+1FEDP91PjpZsUQNejcD0KVxRA/tR46SaxE0BCYOXQItsRQMuhRbbzfRBA3SQGgZVDDkCYbhKDwMoMQEoMAiuHFgtAMzMzMzMzC0DVeOkmMQgKQBSuR+F6FAlAbxKDwMqhB0BqvHSTGAQFQJHtfD81XgNAEFg5tMh2AkCkcD0K16MBQFYOLbKd7wBAsHJoke18AEBzaJHtfD//P8HKoUW28/0/7FG4HoXr+z9cj8L1KFz5P6rx0k1iEPg/qMZLN4lB9j8GgZVDi2z1P6abxCCwcvY/dZMYBFYO9T+6SQwCK4f0P2IQWDm0yPQ/WDm0yHa+9T9YObTIdr71PxfZzvdT4/U/d76fGi/d9D9zaJHtfD/zPyuHFtnO9/E/ZmZmZmZm8D8CK4cW2c7vPzvfT42XbvA/6SYxCKwc7j9t5/up8dLtPyGwcmiR7ew/Rrbz/dR47T85tMh2vp/uPy/dJAaBle8/exSuR+F68D93vp8aL93wP83MzMzMzPA/7FG4HoXr8T+TGARWDi3yPx1aZDvfT/M/PQrXo3A99D+e76fGSzfzP28Sg8DKofM/SOF6FK5H8z+TGARWDi3yP8dLN4lBYPE/4XoUrkfh8D8lBoGVQ4vsP0w3iUFg5eg/Di2yne+n5j+LbOf7qfHmPw==",
          "dtype": "f8"
         },
         "yaxis": "y"
        },
        {
         "hovertemplate": "entities=Macao<br>years=%{x}<br>children_per_woman_un=%{y}<extra></extra>",
         "legendgroup": "Macao",
         "line": {
          "color": "rgb(127, 60, 141)",
          "dash": "solid"
         },
         "marker": {
          "symbol": "circle"
         },
         "mode": "lines",
         "name": "Macao",
         "orientation": "v",
         "showlegend": true,
         "type": "scatter",
         "x": {
          "bdata": "ngefB6AHoQeiB6MHpAelB6YHpweoB6kHqgerB6wHrQeuB68HsAexB7IHswe0B7UHtge3B7gHuQe6B7sHvAe9B74HvwfAB8EHwgfDB8QHxQfGB8cHyAfJB8oHywfMB80HzgfPB9AH0QfSB9MH1AfVB9YH1wfYB9kH2gfbB9wH3QfeB98H4AfhB+IH4wfkB+UH5gfnBw==",
          "dtype": "i2"
         },
         "xaxis": "x",
         "y": {
          "bdata": "nu+nxks3FkCPwvUoXA8WQKJFtvP91BVAL90kBoGVFUAMAiuHFlkVQHWTGARWDhVA001iEFi5FECR7Xw/NV4UQLByaJHt/BNATmIQWDm0E0CHFtnO99MTQBkEVg4tshJA30+Nl26SEUCcxCCwcugQQCUGgZVDiw9AwcqhRbbzDEDwp8ZLN4kKQOkmMQisHAhAd76fGi/dBEDb+X5qvHQCQESLbOf7qQBAgZVDi2zn/z8K16NwPQr/P7ByaJHtfP0/GQRWDi2y+z93vp8aL934P+F6FK5H4fY/qMZLN4lB9j/NzMzMzMz2P0jhehSuR/k/GQRWDi2y+z8v3SQGgZX9P6wcWmQ73/8/YhBYObTIAEApXI/C9SgBQOF6FK5H4QFAUI2XbhKDAUB7FK5H4XoAQAIrhxbZzv0/9ihcj8L1/D/y0k1iEFj7P9ejcD0K1/k/jZduEoPA+D/wp8ZLN4n3P0w3iUFg5fY/rBxaZDvf9T/P91PjpZv0P0jhehSuR/M/AiuHFtnO8T9mZmZmZmbwP0Jg5dAi2+0/CtejcD0K6z+YbhKDwMrpP/Cnxks3iek/GQRWDi2y6T8v3SQGgZXrP3E9CtejcO0/i2zn+6nx7j/b+X5qvHTvP4GVQ4ts5+8/zczMzMzM8D+q8dJNYhDyP0oMAiuHFvM/ZmZmZmZm8j8v3SQGgZXzPxKDwMqhRfI/aJHtfD818j/n+6nx0k3wP8UgsHJoke0/wcqhRbbz7T8GgZVDi2zrP05iEFg5tOg/yXa+nxov5T/Jdr6fGi/lPw==",
          "dtype": "f8"
         },
         "yaxis": "y"
        },
        {
         "hovertemplate": "entities=Somalia<br>years=%{x}<br>children_per_woman_un=%{y}<extra></extra>",
         "legendgroup": "Somalia",
         "line": {
          "color": "rgb(242, 183, 1)",
          "dash": "solid"
         },
         "marker": {
          "symbol": "circle"
         },
         "mode": "lines",
         "name": "Somalia",
         "orientation": "v",
         "showlegend": true,
         "type": "scatter",
         "x": {
          "bdata": "ngefB6AHoQeiB6MHpAelB6YHpweoB6kHqgerB6wHrQeuB68HsAexB7IHswe0B7UHtge3B7gHuQe6B7sHvAe9B74HvwfAB8EHwgfDB8QHxQfGB8cHyAfJB8oHywfMB80HzgfPB9AH0QfSB9MH1AfVB9YH1wfYB9kH2gfbB9wH3QfeB98H4AfhB+IH4wfkB+UH5gfnBw==",
          "dtype": "i2"
         },
         "xaxis": "x",
         "y": {
          "bdata": "y6FFtvP9HEDl0CLb+f4cQAAAAAAAAB1AGy/dJAYBHUAbL90kBgEdQBsv3SQGAR1AAAAAAAAAHUAAAAAAAAAdQAAAAAAAAB1AAAAAAAAAHUAAAAAAAAAdQDVeukkMAh1AhetRuB4FHUDVeOkmMQgdQCUGgZVDCx1AJQaBlUMLHUC6SQwCKwcdQMuhRbbz/RxABoGVQ4vsHEC8dJMYBNYcQO58PzVeuhxAtMh2vp+aHEBGtvP91HgcQPLSTWIQWBxA7nw/NV46HEBvEoPAyiEcQKrx0k1iEBxAarx0kxgEHECF61G4HoUcQL6fGi/dpBxAg8DKoUW2HECcxCCwcugcQDVeukkMAh1Az/dT46UbHUAzMzMzMzMdQAIrhxbZTh1ATDeJQWBlHUDLoUW2830dQGQ730+Nlx1AGQRWDi2yHUDD9Shcj8IdQOF6FK5H4R1AAAAAAAAAHkC0yHa+nxoeQJMYBFYOLR5Abef7qfFSHkCWQ4ts53seQNnO91PjpR5AObTIdr6fHkBU46WbxKAeQBSuR+F6lB5AJQaBlUOLHkAbL90kBoEeQLbz/dR4aR5AEoPAyqFFHkDP91PjpRseQPYoXI/C9R1AhxbZzvfTHUApXI/C9agdQBsv3SQGgR1AfT81XrpJHUDfT42XbhIdQPLSTWIQ2BxAj8L1KFyPHEBYObTIdj4cQGZmZmZm5htAUI2XbhKDG0Cq8dJNYhAbQNnO91PjpRpAPQrXo3A9GkAdWmQ7388ZQLbz/dR4aRlAhetRuB4FGUC6SQwCK4cYQA==",
          "dtype": "f8"
         },
         "yaxis": "y"
        },
        {
         "hovertemplate": "entities=Sri Lanka<br>years=%{x}<br>children_per_woman_un=%{y}<extra></extra>",
         "legendgroup": "Sri Lanka",
         "line": {
          "color": "rgb(57, 105, 172)",
          "dash": "solid"
         },
         "marker": {
          "symbol": "circle"
         },
         "mode": "lines",
         "name": "Sri Lanka",
         "orientation": "v",
         "showlegend": true,
         "type": "scatter",
         "x": {
          "bdata": "ngefB6AHoQeiB6MHpAelB6YHpweoB6kHqgerB6wHrQeuB68HsAexB7IHswe0B7UHtge3B7gHuQe6B7sHvAe9B74HvwfAB8EHwgfDB8QHxQfGB8cHyAfJB8oHywfMB80HzgfPB9AH0QfSB9MH1AfVB9YH1wfYB9kH2gfbB9wH3QfeB98H4AfhB+IH4wfkB+UH5gfnBw==",
          "dtype": "i2"
         },
         "xaxis": "x",
         "y": {
          "bdata": "DAIrhxbZFUDy0k1iENgVQNNNYhBYuRVA30+Nl26SFUBmZmZmZmYVQAisHFpkOxVAPzVeukkMFUAMAiuHFlkVQARWDi2ynRVADi2yne+nFUCcxCCwcmgVQPYoXI/C9RRAaJHtfD+1FEBGtvP91HgUQO58PzVeOhRAI9v5fmq8E0AdWmQ7308TQNnO91PjJRNAbxKDwMqhEkDl0CLb+f4RQD81XrpJjBFAqvHSTWIQEUA5tMh2vp8QQBsv3SQGARBA16NwPQrXDkC6SQwCK4cOQN0kBoGVQw5AIbByaJHtDUB7FK5H4XoOQPp+arx0kw5AzczMzMzMDUD+1HjpJjENQI/C9ShcjwpAtvP91HjpCEA/NV66SQwIQClcj8L1KAdAi2zn+6nxBUD0/dR46SYFQIXrUbgehQRAObTIdr6fBECHFtnO91MEQOkmMQisHARATDeJQWDlA0AbL90kBoEDQD0K16NwPQNAbef7qfHSAkBI4XoUrkcCQLgehetRuAFASgwCK4cWAUCJQWDl0CIBQE5iEFg5tAFA3SQGgZVDAkB7FK5H4XoCQJzEILByaAJAXrpJDAIrAkC0yHa+nxoCQLx0kxgEVgJAXI/C9ShcAkBCYOXQItsBQDvfT42XbgFA30+Nl24SAUD0/dR46SYBQPyp8dJNYgFABoGVQ4tsAUDfT42XbhIBQLgehetRuABA5dAi2/l+AEAnMQisHFoAQN0kBoGVQwBAkxgEVg4tAEB1kxgEVg4AQOxRuB6F6/8/WDm0yHa+/z8v3SQGgZX/Pw==",
          "dtype": "f8"
         },
         "yaxis": "y"
        }
       ],
       "layout": {
        "height": 700,
        "legend": {
         "title": {
          "text": "Land"
         },
         "tracegroupgap": 0
        },
        "template": {
         "data": {
          "bar": [
           {
            "error_x": {
             "color": "#f2f5fa"
            },
            "error_y": {
             "color": "#f2f5fa"
            },
            "marker": {
             "line": {
              "color": "rgb(17,17,17)",
              "width": 0.5
             },
             "pattern": {
              "fillmode": "overlay",
              "size": 10,
              "solidity": 0.2
             }
            },
            "type": "bar"
           }
          ],
          "barpolar": [
           {
            "marker": {
             "line": {
              "color": "rgb(17,17,17)",
              "width": 0.5
             },
             "pattern": {
              "fillmode": "overlay",
              "size": 10,
              "solidity": 0.2
             }
            },
            "type": "barpolar"
           }
          ],
          "carpet": [
           {
            "aaxis": {
             "endlinecolor": "#A2B1C6",
             "gridcolor": "#506784",
             "linecolor": "#506784",
             "minorgridcolor": "#506784",
             "startlinecolor": "#A2B1C6"
            },
            "baxis": {
             "endlinecolor": "#A2B1C6",
             "gridcolor": "#506784",
             "linecolor": "#506784",
             "minorgridcolor": "#506784",
             "startlinecolor": "#A2B1C6"
            },
            "type": "carpet"
           }
          ],
          "choropleth": [
           {
            "colorbar": {
             "outlinewidth": 0,
             "ticks": ""
            },
            "type": "choropleth"
           }
          ],
          "contour": [
           {
            "colorbar": {
             "outlinewidth": 0,
             "ticks": ""
            },
            "colorscale": [
             [
              0,
              "#0d0887"
             ],
             [
              0.1111111111111111,
              "#46039f"
             ],
             [
              0.2222222222222222,
              "#7201a8"
             ],
             [
              0.3333333333333333,
              "#9c179e"
             ],
             [
              0.4444444444444444,
              "#bd3786"
             ],
             [
              0.5555555555555556,
              "#d8576b"
             ],
             [
              0.6666666666666666,
              "#ed7953"
             ],
             [
              0.7777777777777778,
              "#fb9f3a"
             ],
             [
              0.8888888888888888,
              "#fdca26"
             ],
             [
              1,
              "#f0f921"
             ]
            ],
            "type": "contour"
           }
          ],
          "contourcarpet": [
           {
            "colorbar": {
             "outlinewidth": 0,
             "ticks": ""
            },
            "type": "contourcarpet"
           }
          ],
          "heatmap": [
           {
            "colorbar": {
             "outlinewidth": 0,
             "ticks": ""
            },
            "colorscale": [
             [
              0,
              "#0d0887"
             ],
             [
              0.1111111111111111,
              "#46039f"
             ],
             [
              0.2222222222222222,
              "#7201a8"
             ],
             [
              0.3333333333333333,
              "#9c179e"
             ],
             [
              0.4444444444444444,
              "#bd3786"
             ],
             [
              0.5555555555555556,
              "#d8576b"
             ],
             [
              0.6666666666666666,
              "#ed7953"
             ],
             [
              0.7777777777777778,
              "#fb9f3a"
             ],
             [
              0.8888888888888888,
              "#fdca26"
             ],
             [
              1,
              "#f0f921"
             ]
            ],
            "type": "heatmap"
           }
          ],
          "histogram": [
           {
            "marker": {
             "pattern": {
              "fillmode": "overlay",
              "size": 10,
              "solidity": 0.2
             }
            },
            "type": "histogram"
           }
          ],
          "histogram2d": [
           {
            "colorbar": {
             "outlinewidth": 0,
             "ticks": ""
            },
            "colorscale": [
             [
              0,
              "#0d0887"
             ],
             [
              0.1111111111111111,
              "#46039f"
             ],
             [
              0.2222222222222222,
              "#7201a8"
             ],
             [
              0.3333333333333333,
              "#9c179e"
             ],
             [
              0.4444444444444444,
              "#bd3786"
             ],
             [
              0.5555555555555556,
              "#d8576b"
             ],
             [
              0.6666666666666666,
              "#ed7953"
             ],
             [
              0.7777777777777778,
              "#fb9f3a"
             ],
             [
              0.8888888888888888,
              "#fdca26"
             ],
             [
              1,
              "#f0f921"
             ]
            ],
            "type": "histogram2d"
           }
          ],
          "histogram2dcontour": [
           {
            "colorbar": {
             "outlinewidth": 0,
             "ticks": ""
            },
            "colorscale": [
             [
              0,
              "#0d0887"
             ],
             [
              0.1111111111111111,
              "#46039f"
             ],
             [
              0.2222222222222222,
              "#7201a8"
             ],
             [
              0.3333333333333333,
              "#9c179e"
             ],
             [
              0.4444444444444444,
              "#bd3786"
             ],
             [
              0.5555555555555556,
              "#d8576b"
             ],
             [
              0.6666666666666666,
              "#ed7953"
             ],
             [
              0.7777777777777778,
              "#fb9f3a"
             ],
             [
              0.8888888888888888,
              "#fdca26"
             ],
             [
              1,
              "#f0f921"
             ]
            ],
            "type": "histogram2dcontour"
           }
          ],
          "mesh3d": [
           {
            "colorbar": {
             "outlinewidth": 0,
             "ticks": ""
            },
            "type": "mesh3d"
           }
          ],
          "parcoords": [
           {
            "line": {
             "colorbar": {
              "outlinewidth": 0,
              "ticks": ""
             }
            },
            "type": "parcoords"
           }
          ],
          "pie": [
           {
            "automargin": true,
            "type": "pie"
           }
          ],
          "scatter": [
           {
            "marker": {
             "line": {
              "color": "#283442"
             }
            },
            "type": "scatter"
           }
          ],
          "scatter3d": [
           {
            "line": {
             "colorbar": {
              "outlinewidth": 0,
              "ticks": ""
             }
            },
            "marker": {
             "colorbar": {
              "outlinewidth": 0,
              "ticks": ""
             }
            },
            "type": "scatter3d"
           }
          ],
          "scattercarpet": [
           {
            "marker": {
             "colorbar": {
              "outlinewidth": 0,
              "ticks": ""
             }
            },
            "type": "scattercarpet"
           }
          ],
          "scattergeo": [
           {
            "marker": {
             "colorbar": {
              "outlinewidth": 0,
              "ticks": ""
             }
            },
            "type": "scattergeo"
           }
          ],
          "scattergl": [
           {
            "marker": {
             "line": {
              "color": "#283442"
             }
            },
            "type": "scattergl"
           }
          ],
          "scattermap": [
           {
            "marker": {
             "colorbar": {
              "outlinewidth": 0,
              "ticks": ""
             }
            },
            "type": "scattermap"
           }
          ],
          "scattermapbox": [
           {
            "marker": {
             "colorbar": {
              "outlinewidth": 0,
              "ticks": ""
             }
            },
            "type": "scattermapbox"
           }
          ],
          "scatterpolar": [
           {
            "marker": {
             "colorbar": {
              "outlinewidth": 0,
              "ticks": ""
             }
            },
            "type": "scatterpolar"
           }
          ],
          "scatterpolargl": [
           {
            "marker": {
             "colorbar": {
              "outlinewidth": 0,
              "ticks": ""
             }
            },
            "type": "scatterpolargl"
           }
          ],
          "scatterternary": [
           {
            "marker": {
             "colorbar": {
              "outlinewidth": 0,
              "ticks": ""
             }
            },
            "type": "scatterternary"
           }
          ],
          "surface": [
           {
            "colorbar": {
             "outlinewidth": 0,
             "ticks": ""
            },
            "colorscale": [
             [
              0,
              "#0d0887"
             ],
             [
              0.1111111111111111,
              "#46039f"
             ],
             [
              0.2222222222222222,
              "#7201a8"
             ],
             [
              0.3333333333333333,
              "#9c179e"
             ],
             [
              0.4444444444444444,
              "#bd3786"
             ],
             [
              0.5555555555555556,
              "#d8576b"
             ],
             [
              0.6666666666666666,
              "#ed7953"
             ],
             [
              0.7777777777777778,
              "#fb9f3a"
             ],
             [
              0.8888888888888888,
              "#fdca26"
             ],
             [
              1,
              "#f0f921"
             ]
            ],
            "type": "surface"
           }
          ],
          "table": [
           {
            "cells": {
             "fill": {
              "color": "#506784"
             },
             "line": {
              "color": "rgb(17,17,17)"
             }
            },
            "header": {
             "fill": {
              "color": "#2a3f5f"
             },
             "line": {
              "color": "rgb(17,17,17)"
             }
            },
            "type": "table"
           }
          ]
         },
         "layout": {
          "annotationdefaults": {
           "arrowcolor": "#f2f5fa",
           "arrowhead": 0,
           "arrowwidth": 1
          },
          "autotypenumbers": "strict",
          "coloraxis": {
           "colorbar": {
            "outlinewidth": 0,
            "ticks": ""
           }
          },
          "colorscale": {
           "diverging": [
            [
             0,
             "#8e0152"
            ],
            [
             0.1,
             "#c51b7d"
            ],
            [
             0.2,
             "#de77ae"
            ],
            [
             0.3,
             "#f1b6da"
            ],
            [
             0.4,
             "#fde0ef"
            ],
            [
             0.5,
             "#f7f7f7"
            ],
            [
             0.6,
             "#e6f5d0"
            ],
            [
             0.7,
             "#b8e186"
            ],
            [
             0.8,
             "#7fbc41"
            ],
            [
             0.9,
             "#4d9221"
            ],
            [
             1,
             "#276419"
            ]
           ],
           "sequential": [
            [
             0,
             "#0d0887"
            ],
            [
             0.1111111111111111,
             "#46039f"
            ],
            [
             0.2222222222222222,
             "#7201a8"
            ],
            [
             0.3333333333333333,
             "#9c179e"
            ],
            [
             0.4444444444444444,
             "#bd3786"
            ],
            [
             0.5555555555555556,
             "#d8576b"
            ],
            [
             0.6666666666666666,
             "#ed7953"
            ],
            [
             0.7777777777777778,
             "#fb9f3a"
            ],
            [
             0.8888888888888888,
             "#fdca26"
            ],
            [
             1,
             "#f0f921"
            ]
           ],
           "sequentialminus": [
            [
             0,
             "#0d0887"
            ],
            [
             0.1111111111111111,
             "#46039f"
            ],
            [
             0.2222222222222222,
             "#7201a8"
            ],
            [
             0.3333333333333333,
             "#9c179e"
            ],
            [
             0.4444444444444444,
             "#bd3786"
            ],
            [
             0.5555555555555556,
             "#d8576b"
            ],
            [
             0.6666666666666666,
             "#ed7953"
            ],
            [
             0.7777777777777778,
             "#fb9f3a"
            ],
            [
             0.8888888888888888,
             "#fdca26"
            ],
            [
             1,
             "#f0f921"
            ]
           ]
          },
          "colorway": [
           "#636efa",
           "#EF553B",
           "#00cc96",
           "#ab63fa",
           "#FFA15A",
           "#19d3f3",
           "#FF6692",
           "#B6E880",
           "#FF97FF",
           "#FECB52"
          ],
          "font": {
           "color": "#f2f5fa"
          },
          "geo": {
           "bgcolor": "rgb(17,17,17)",
           "lakecolor": "rgb(17,17,17)",
           "landcolor": "rgb(17,17,17)",
           "showlakes": true,
           "showland": true,
           "subunitcolor": "#506784"
          },
          "hoverlabel": {
           "align": "left"
          },
          "hovermode": "closest",
          "mapbox": {
           "style": "dark"
          },
          "paper_bgcolor": "rgb(17,17,17)",
          "plot_bgcolor": "rgb(17,17,17)",
          "polar": {
           "angularaxis": {
            "gridcolor": "#506784",
            "linecolor": "#506784",
            "ticks": ""
           },
           "bgcolor": "rgb(17,17,17)",
           "radialaxis": {
            "gridcolor": "#506784",
            "linecolor": "#506784",
            "ticks": ""
           }
          },
          "scene": {
           "xaxis": {
            "backgroundcolor": "rgb(17,17,17)",
            "gridcolor": "#506784",
            "gridwidth": 2,
            "linecolor": "#506784",
            "showbackground": true,
            "ticks": "",
            "zerolinecolor": "#C8D4E3"
           },
           "yaxis": {
            "backgroundcolor": "rgb(17,17,17)",
            "gridcolor": "#506784",
            "gridwidth": 2,
            "linecolor": "#506784",
            "showbackground": true,
            "ticks": "",
            "zerolinecolor": "#C8D4E3"
           },
           "zaxis": {
            "backgroundcolor": "rgb(17,17,17)",
            "gridcolor": "#506784",
            "gridwidth": 2,
            "linecolor": "#506784",
            "showbackground": true,
            "ticks": "",
            "zerolinecolor": "#C8D4E3"
           }
          },
          "shapedefaults": {
           "line": {
            "color": "#f2f5fa"
           }
          },
          "sliderdefaults": {
           "bgcolor": "#C8D4E3",
           "bordercolor": "rgb(17,17,17)",
           "borderwidth": 1,
           "tickwidth": 0
          },
          "ternary": {
           "aaxis": {
            "gridcolor": "#506784",
            "linecolor": "#506784",
            "ticks": ""
           },
           "baxis": {
            "gridcolor": "#506784",
            "linecolor": "#506784",
            "ticks": ""
           },
           "bgcolor": "rgb(17,17,17)",
           "caxis": {
            "gridcolor": "#506784",
            "linecolor": "#506784",
            "ticks": ""
           }
          },
          "title": {
           "x": 0.05
          },
          "updatemenudefaults": {
           "bgcolor": "#506784",
           "borderwidth": 0
          },
          "xaxis": {
           "automargin": true,
           "gridcolor": "#283442",
           "linecolor": "#506784",
           "ticks": "",
           "title": {
            "standoff": 15
           },
           "zerolinecolor": "#283442",
           "zerolinewidth": 2
          },
          "yaxis": {
           "automargin": true,
           "gridcolor": "#283442",
           "linecolor": "#506784",
           "ticks": "",
           "title": {
            "standoff": 15
           },
           "zerolinecolor": "#283442",
           "zerolinewidth": 2
          }
         }
        },
        "title": {
         "font": {
          "size": 24
         },
         "text": "Historische Entwicklung",
         "x": 0.5,
         "xanchor": "center",
         "y": 0.95,
         "yanchor": "top"
        },
        "width": 1200,
        "xaxis": {
         "anchor": "y",
         "domain": [
          0,
          1
         ],
         "title": {
          "text": "Jahr"
         }
        },
        "yaxis": {
         "anchor": "x",
         "domain": [
          0,
          1
         ],
         "title": {
          "text": "Geburtenrate pro Frau"
         }
        }
       }
      }
     },
     "metadata": {},
     "output_type": "display_data"
    }
   ],
   "source": [
    "# Filtern der Daten für das Jahr 2023\n",
    "fertility_2023 = fertility_rate[fertility_rate['years'] == 2023].copy()\n",
    "\n",
    "# Sortieren nach Geburtenrate (aufsteigend für niedrigste, absteigend für höchste)\n",
    "lowest_fertility_2023 = fertility_2023.sort_values('children_per_woman_un').head(2)\n",
    "highest_fertility_2023 = fertility_2023.sort_values('children_per_woman_un', ascending=False).head(2)\n",
    "\n",
    "# Berechnen des Medians und Finden des Landes mit der Median-Geburtenrate\n",
    "median_fertility = fertility_2023['children_per_woman_un'].median()\n",
    "median_country_idx = (fertility_2023['children_per_woman_un'] - median_fertility).abs().idxmin()\n",
    "median_country = fertility_2023.loc[median_country_idx:median_country_idx].copy()\n",
    "\n",
    "# Kombinieren der Daten\n",
    "comparison_data = pd.concat([lowest_fertility_2023, median_country, highest_fertility_2023])\n",
    "\n",
    "# Kategorie hinzufügen\n",
    "comparison_data['category'] = ['Niedrigste', 'Niedrigste', 'Median', 'Höchste', 'Höchste']\n",
    "\n",
    "# Anzeigen der Ergebnisse\n",
    "print(\"Top 2 Länder mit den niedrigsten Geburtenraten im Jahr 2023:\")\n",
    "for i, (index, row) in enumerate(lowest_fertility_2023.iterrows(), 1):\n",
    "    print(f\"{i}. {row['entities']}: {row['children_per_woman_un']:.2f} Kinder pro Frau\")\n",
    "\n",
    "print(\"\\nLand mit der Median-Geburtenrate im Jahr 2023:\")\n",
    "print(f\"{median_country['entities'].iloc[0]}: {median_country['children_per_woman_un'].iloc[0]:.2f} Kinder pro Frau\")\n",
    "\n",
    "print(\"\\nTop 2 Länder mit den höchsten Geburtenraten im Jahr 2023:\")\n",
    "for i, (index, row) in enumerate(highest_fertility_2023.iterrows(), 1):\n",
    "    print(f\"{i}. {row['entities']}: {row['children_per_woman_un']:.2f} Kinder pro Frau\")\n",
    "\n",
    "# Definieren einer konsistenten Farbpalette für die Länder\n",
    "selected_countries = comparison_data['entities'].tolist()\n",
    "color_palette = px.colors.qualitative.Bold[:len(selected_countries)]\n",
    "color_map = dict(zip(selected_countries, color_palette))\n",
    "\n",
    "# Visualisierung der Vergleichsdaten\n",
    "fig = px.bar(\n",
    "    comparison_data,\n",
    "    x='entities',\n",
    "    y='children_per_woman_un',\n",
    "    color='entities',  # Nach Ländern färben statt nach Kategorie\n",
    "    title='2 Tiefst- / Median / 2 Höchstwerte (2023)',\n",
    "    template='plotly_dark',\n",
    "    color_discrete_map=color_map  # Konsistente Farben verwenden\n",
    ")\n",
    "\n",
    "# Layout anpassen\n",
    "fig.update_layout(\n",
    "    title={\n",
    "        'text': '2 Tiefst- / Median / 2 Höchstwerte (2023)',\n",
    "        'y': 0.95,\n",
    "        'x': 0.5,\n",
    "        'xanchor': 'center',\n",
    "        'yanchor': 'top',\n",
    "        'font': {'size': 24}\n",
    "    },\n",
    "    xaxis_title=\"Land\",\n",
    "    yaxis_title=\"Geburtenrate pro Frau\",\n",
    "    legend_title=\"Land\",\n",
    "    height=600,\n",
    "    width=1000,\n",
    "    showlegend=False  # Legende im Balkendiagramm ausblenden, da die Länder bereits auf der x-Achse stehen\n",
    ")\n",
    "\n",
    "# Werte über den Balken anzeigen\n",
    "fig.update_traces(\n",
    "    texttemplate='%{y:.2f}',\n",
    "    textposition='outside'\n",
    ")\n",
    "\n",
    "# Y-Achse bei 0 beginnen lassen\n",
    "fig.update_yaxes(range=[0, max(comparison_data['children_per_woman_un']) * 1.1])\n",
    "\n",
    "# Anzeigen der Grafik\n",
    "fig.show()\n",
    "\n",
    "# Historische Entwicklung dieser 5 Länder\n",
    "historical_data = fertility_rate[fertility_rate['entities'].isin(selected_countries)]\n",
    "\n",
    "# Liniendiagramm für die historische Entwicklung\n",
    "fig_historical = px.line(\n",
    "    historical_data,\n",
    "    x='years',\n",
    "    y='children_per_woman_un',\n",
    "    color='entities',\n",
    "    title='Historische Entwicklung',\n",
    "    template='plotly_dark',\n",
    "    color_discrete_map=color_map  # Dieselbe Farbzuordnung wie im Balkendiagramm\n",
    ")\n",
    "\n",
    "# Layout anpassen\n",
    "fig_historical.update_layout(\n",
    "    title={\n",
    "        'text': 'Historische Entwicklung',\n",
    "        'y': 0.95,\n",
    "        'x': 0.5,\n",
    "        'xanchor': 'center',\n",
    "        'yanchor': 'top',\n",
    "        'font': {'size': 24}\n",
    "    },\n",
    "    xaxis_title=\"Jahr\",\n",
    "    yaxis_title=\"Geburtenrate pro Frau\",\n",
    "    legend_title=\"Land\",\n",
    "    height=700,\n",
    "    width=1200\n",
    ")\n",
    "\n",
    "# Anzeigen der Grafik\n",
    "fig_historical.show()"
   ]
  },
  {
   "cell_type": "markdown",
   "metadata": {},
   "source": [
    "### WORLD FTR"
   ]
  },
  {
   "cell_type": "code",
   "execution_count": 26,
   "metadata": {},
   "outputs": [
    {
     "data": {
      "text/html": [
       "<div>\n",
       "<style scoped>\n",
       "    .dataframe tbody tr th:only-of-type {\n",
       "        vertical-align: middle;\n",
       "    }\n",
       "\n",
       "    .dataframe tbody tr th {\n",
       "        vertical-align: top;\n",
       "    }\n",
       "\n",
       "    .dataframe thead th {\n",
       "        text-align: right;\n",
       "    }\n",
       "</style>\n",
       "<table border=\"1\" class=\"dataframe\">\n",
       "  <thead>\n",
       "    <tr style=\"text-align: right;\">\n",
       "      <th></th>\n",
       "      <th>entities</th>\n",
       "      <th>years</th>\n",
       "      <th>children_per_woman_un</th>\n",
       "    </tr>\n",
       "  </thead>\n",
       "  <tbody>\n",
       "    <tr>\n",
       "      <th>18426</th>\n",
       "      <td>World</td>\n",
       "      <td>1950</td>\n",
       "      <td>4.852</td>\n",
       "    </tr>\n",
       "    <tr>\n",
       "      <th>18427</th>\n",
       "      <td>World</td>\n",
       "      <td>1951</td>\n",
       "      <td>4.816</td>\n",
       "    </tr>\n",
       "    <tr>\n",
       "      <th>18428</th>\n",
       "      <td>World</td>\n",
       "      <td>1952</td>\n",
       "      <td>5.001</td>\n",
       "    </tr>\n",
       "    <tr>\n",
       "      <th>18429</th>\n",
       "      <td>World</td>\n",
       "      <td>1953</td>\n",
       "      <td>4.922</td>\n",
       "    </tr>\n",
       "    <tr>\n",
       "      <th>18430</th>\n",
       "      <td>World</td>\n",
       "      <td>1954</td>\n",
       "      <td>4.998</td>\n",
       "    </tr>\n",
       "  </tbody>\n",
       "</table>\n",
       "</div>"
      ],
      "text/plain": [
       "      entities  years  children_per_woman_un\n",
       "18426    World   1950                  4.852\n",
       "18427    World   1951                  4.816\n",
       "18428    World   1952                  5.001\n",
       "18429    World   1953                  4.922\n",
       "18430    World   1954                  4.998"
      ]
     },
     "execution_count": 26,
     "metadata": {},
     "output_type": "execute_result"
    }
   ],
   "source": [
    "fertility_rate_world = fertility_rate[fertility_rate['entities'] == 'World']\n",
    "fertility_rate_world.head()"
   ]
  },
  {
   "cell_type": "code",
   "execution_count": 43,
   "metadata": {},
   "outputs": [
    {
     "data": {
      "application/vnd.plotly.v1+json": {
       "config": {
        "plotlyServerURL": "https://plot.ly"
       },
       "data": [
        {
         "hovertemplate": "years=%{x}<br>TFR Welt=%{y}<extra></extra>",
         "legendgroup": "",
         "line": {
          "color": "rgb(252, 222, 156)",
          "dash": "solid"
         },
         "marker": {
          "symbol": "circle"
         },
         "mode": "lines",
         "name": "",
         "orientation": "v",
         "showlegend": false,
         "type": "scatter",
         "x": {
          "bdata": "ngefB6AHoQeiB6MHpAelB6YHpweoB6kHqgerB6wHrQeuB68HsAexB7IHswe0B7UHtge3B7gHuQe6B7sHvAe9B74HvwfAB8EHwgfDB8QHxQfGB8cHyAfJB8oHywfMB80HzgfPB9AH0QfSB9MH1AfVB9YH1wfYB9kH2gfbB9wH3QfeB98H4AfhB+IH4wfkB+UH5gfnBw==",
          "dtype": "i2"
         },
         "xaxis": "x",
         "y": {
          "bdata": "nMQgsHJoE0DdJAaBlUMTQBsv3SQGARRA46WbxCCwE0DLoUW28/0TQFCNl24SAxRA001iEFi5E0ASg8DKoUUUQO58PzVeuhNA9ihcj8L1EkBiEFg5tMgSQGIQWDm0SBJASgwCK4cWFEAIrBxaZDsVQMuhRbbzfRRAYhBYObRIFEDy0k1iENgTQJzEILByaBNAJzEIrBzaE0AQWDm0yHYTQM3MzMzMTBNAnu+nxku3EkCuR+F6FC4SQESLbOf7qRFA8KfGSzcJEUBSuB6F61EQQJhuEoPAyg9AzczMzMzMDkCyne+nxksOQF66SQwCKw5AwcqhRbbzDUDjpZvEILANQBkEVg4tsg1A2c73U+OlDEAGgZVDi2wMQB+F61G4HgxA1XjpJjEIDEACK4cW2c4LQB+F61G4HgtALbKd76fGCkB7FK5H4XoKQD81XrpJDAlAJzEIrBxaCEDXo3A9CtcHQBBYObTIdgdA6SYxCKwcB0D4U+Olm8QGQEa28/3UeAZAaJHtfD81BkAAAAAAAAAGQNV46SYxCAZAg8DKoUW2BUBGtvP91HgFQBKDwMqhRQVAkxgEVg4tBUAK16NwPQoFQAAAAAAAAAVAlkOLbOf7BEA1XrpJDAIFQCuHFtnO9wRAN4lBYOXQBEBOYhBYObQEQEJg5dAi2wRA+n5qvHSTBEBQjZduEoMEQLKd76fGSwRAfT81XrpJBEDVeOkmMQgEQOXQItv5fgNAkxgEVg4tA0D6fmq8dJMCQIcW2c73UwJAH4XrUbgeAkA1XrpJDAICQA==",
          "dtype": "f8"
         },
         "yaxis": "y"
        },
        {
         "line": {
          "color": "lightblue"
         },
         "mode": "lines",
         "name": "Schweiz",
         "type": "scatter",
         "x": {
          "bdata": "ngefB6AHoQeiB6MHpAelB6YHpweoB6kHqgerB6wHrQeuB68HsAexB7IHswe0B7UHtge3B7gHuQe6B7sHvAe9B74HvwfAB8EHwgfDB8QHxQfGB8cHyAfJB8oHywfMB80HzgfPB9AH0QfSB9MH1AfVB9YH1wfYB9kH2gfbB9wH3QfeB98H4AfhB+IH4wfkB+UH5gfnBw==",
          "dtype": "i2"
         },
         "y": {
          "bdata": "/tR46SYxA0BGtvP91HgCQGQ730+NlwJAvHSTGARWAkCyne+nxksCQEa28/3UeAJAd76fGi/dAkB9PzVeukkDQHNoke18PwNA/Knx0k1iA0C6SQwCK4cDQIlBYOXQIgRApHA9CtejBEBeukkMAisFQNNNYhBYOQVAGQRWDi2yBEAAAAAAAAAEQPT91HjpJgNAHVpkO99PAkC6SQwCK4cBQG3n+6nx0gBASOF6FK5HAEDP91PjpZv+P/YoXI/C9fw/RIts5/up+z9t5/up8dL5PyPb+X5qvPg/ppvEILBy+D9/arx0kxj4P+f7qfHSTfg/jZduEoPA+D/jpZvEILD4P2IQWDm0yPg/fT81XrpJ+D+R7Xw/NV74P2iR7Xw/Nfg/0SLb+X5q+D+oxks3iUH4P8uhRbbz/fg/NV66SQwC+T9zaJHtfD/5Px1aZDvfT/k/9P3UeOkm+T8pXI/C9Sj4PwIrhxbZzvc/2c73U+Ol9z/ByqFFtvP3P28Sg8DKofc/Gy/dJAaB9z+uR+F6FK73Py2yne+nxvc/aJHtfD819j9U46WbxCD2P+kmMQisHPY/JQaBlUOL9j8OLbKd76f2P7bz/dR46fY/CKwcWmQ79z/ZzvdT46X3P6wcWmQ73/c/EoPAyqFF+D9oke18PzX4P1K4HoXrUfg/001iEFg5+D8lBoGVQ4v4P2Q730+Nl/g/pHA9Ctej+D/n+6nx0k34P2iR7Xw/Nfg/2c73U+Ol9z/b+X5qvHT3P9Ei2/l+avg/UrgehetR9j8hsHJoke32Pw==",
          "dtype": "f8"
         }
        }
       ],
       "layout": {
        "annotations": [
         {
          "align": "center",
          "arrowcolor": "#fb9f3a",
          "arrowhead": 2,
          "arrowsize": 1,
          "arrowwidth": 2,
          "ax": 0,
          "ay": -30,
          "bgcolor": "rgba(0,0,0,0.7)",
          "bordercolor": "#fb9f3a",
          "borderwidth": 1,
          "font": {
           "color": "white",
           "size": 12
          },
          "showarrow": true,
          "text": "Welt 1963: 5.31",
          "x": 1963,
          "xanchor": "center",
          "xshift": 0,
          "y": 5.308,
          "yshift": 30
         },
         {
          "align": "center",
          "arrowcolor": "#fb9f3a",
          "arrowhead": 2,
          "arrowsize": 1,
          "arrowwidth": 2,
          "ax": 0,
          "ay": -30,
          "bgcolor": "rgba(0,0,0,0.7)",
          "bordercolor": "#fb9f3a",
          "borderwidth": 1,
          "font": {
           "color": "white",
           "size": 12
          },
          "showarrow": true,
          "text": "Welt 2000: 2.75",
          "x": 2000,
          "xanchor": "center",
          "xshift": 0,
          "y": 2.754,
          "yshift": 30
         },
         {
          "align": "center",
          "arrowcolor": "#fb9f3a",
          "arrowhead": 2,
          "arrowsize": 1,
          "arrowwidth": 2,
          "ax": 0,
          "ay": -30,
          "bgcolor": "rgba(0,0,0,0.7)",
          "bordercolor": "#fb9f3a",
          "borderwidth": 1,
          "font": {
           "color": "white",
           "size": 12
          },
          "showarrow": true,
          "text": "Welt 2010: 2.60",
          "x": 2010,
          "xanchor": "center",
          "xshift": 0,
          "y": 2.602,
          "yshift": 30
         },
         {
          "align": "center",
          "arrowcolor": "#fb9f3a",
          "arrowhead": 2,
          "arrowsize": 1,
          "arrowwidth": 2,
          "ax": 0,
          "ay": -30,
          "bgcolor": "rgba(0,0,0,0.7)",
          "bordercolor": "#fb9f3a",
          "borderwidth": 1,
          "font": {
           "color": "white",
           "size": 12
          },
          "showarrow": true,
          "text": "Welt 2023: 2.25",
          "x": 2023,
          "xanchor": "center",
          "xshift": 0,
          "y": 2.251,
          "yshift": 30
         },
         {
          "align": "center",
          "arrowcolor": "lightblue",
          "arrowhead": 2,
          "arrowsize": 1,
          "arrowwidth": 2,
          "ax": 0,
          "ay": 30,
          "bgcolor": "rgba(0,0,0,0.7)",
          "bordercolor": "lightblue",
          "borderwidth": 1,
          "font": {
           "color": "white",
           "size": 12
          },
          "showarrow": true,
          "text": "CH 1963: 2.65",
          "x": 1963,
          "xanchor": "center",
          "xshift": 0,
          "y": 2.646,
          "yshift": -30
         },
         {
          "align": "center",
          "arrowcolor": "lightblue",
          "arrowhead": 2,
          "arrowsize": 1,
          "arrowwidth": 2,
          "ax": 0,
          "ay": 30,
          "bgcolor": "rgba(0,0,0,0.7)",
          "bordercolor": "lightblue",
          "borderwidth": 1,
          "font": {
           "color": "white",
           "size": 12
          },
          "showarrow": true,
          "text": "CH 2000: 1.49",
          "x": 2000,
          "xanchor": "center",
          "xshift": 0,
          "y": 1.486,
          "yshift": -30
         },
         {
          "align": "center",
          "arrowcolor": "lightblue",
          "arrowhead": 2,
          "arrowsize": 1,
          "arrowwidth": 2,
          "ax": 0,
          "ay": 30,
          "bgcolor": "rgba(0,0,0,0.7)",
          "bordercolor": "lightblue",
          "borderwidth": 1,
          "font": {
           "color": "white",
           "size": 12
          },
          "showarrow": true,
          "text": "CH 2010: 1.52",
          "x": 2010,
          "xanchor": "center",
          "xshift": 0,
          "y": 1.517,
          "yshift": -30
         },
         {
          "align": "center",
          "arrowcolor": "lightblue",
          "arrowhead": 2,
          "arrowsize": 1,
          "arrowwidth": 2,
          "ax": 0,
          "ay": 30,
          "bgcolor": "rgba(0,0,0,0.7)",
          "bordercolor": "lightblue",
          "borderwidth": 1,
          "font": {
           "color": "white",
           "size": 12
          },
          "showarrow": true,
          "text": "CH 2023: 1.43",
          "x": 2023,
          "xanchor": "center",
          "xshift": 0,
          "y": 1.433,
          "yshift": -30
         }
        ],
        "height": 800,
        "legend": {
         "tracegroupgap": 0
        },
        "margin": {
         "t": 60
        },
        "showlegend": false,
        "template": {
         "data": {
          "bar": [
           {
            "error_x": {
             "color": "#f2f5fa"
            },
            "error_y": {
             "color": "#f2f5fa"
            },
            "marker": {
             "line": {
              "color": "rgb(17,17,17)",
              "width": 0.5
             },
             "pattern": {
              "fillmode": "overlay",
              "size": 10,
              "solidity": 0.2
             }
            },
            "type": "bar"
           }
          ],
          "barpolar": [
           {
            "marker": {
             "line": {
              "color": "rgb(17,17,17)",
              "width": 0.5
             },
             "pattern": {
              "fillmode": "overlay",
              "size": 10,
              "solidity": 0.2
             }
            },
            "type": "barpolar"
           }
          ],
          "carpet": [
           {
            "aaxis": {
             "endlinecolor": "#A2B1C6",
             "gridcolor": "#506784",
             "linecolor": "#506784",
             "minorgridcolor": "#506784",
             "startlinecolor": "#A2B1C6"
            },
            "baxis": {
             "endlinecolor": "#A2B1C6",
             "gridcolor": "#506784",
             "linecolor": "#506784",
             "minorgridcolor": "#506784",
             "startlinecolor": "#A2B1C6"
            },
            "type": "carpet"
           }
          ],
          "choropleth": [
           {
            "colorbar": {
             "outlinewidth": 0,
             "ticks": ""
            },
            "type": "choropleth"
           }
          ],
          "contour": [
           {
            "colorbar": {
             "outlinewidth": 0,
             "ticks": ""
            },
            "colorscale": [
             [
              0,
              "#0d0887"
             ],
             [
              0.1111111111111111,
              "#46039f"
             ],
             [
              0.2222222222222222,
              "#7201a8"
             ],
             [
              0.3333333333333333,
              "#9c179e"
             ],
             [
              0.4444444444444444,
              "#bd3786"
             ],
             [
              0.5555555555555556,
              "#d8576b"
             ],
             [
              0.6666666666666666,
              "#ed7953"
             ],
             [
              0.7777777777777778,
              "#fb9f3a"
             ],
             [
              0.8888888888888888,
              "#fdca26"
             ],
             [
              1,
              "#f0f921"
             ]
            ],
            "type": "contour"
           }
          ],
          "contourcarpet": [
           {
            "colorbar": {
             "outlinewidth": 0,
             "ticks": ""
            },
            "type": "contourcarpet"
           }
          ],
          "heatmap": [
           {
            "colorbar": {
             "outlinewidth": 0,
             "ticks": ""
            },
            "colorscale": [
             [
              0,
              "#0d0887"
             ],
             [
              0.1111111111111111,
              "#46039f"
             ],
             [
              0.2222222222222222,
              "#7201a8"
             ],
             [
              0.3333333333333333,
              "#9c179e"
             ],
             [
              0.4444444444444444,
              "#bd3786"
             ],
             [
              0.5555555555555556,
              "#d8576b"
             ],
             [
              0.6666666666666666,
              "#ed7953"
             ],
             [
              0.7777777777777778,
              "#fb9f3a"
             ],
             [
              0.8888888888888888,
              "#fdca26"
             ],
             [
              1,
              "#f0f921"
             ]
            ],
            "type": "heatmap"
           }
          ],
          "histogram": [
           {
            "marker": {
             "pattern": {
              "fillmode": "overlay",
              "size": 10,
              "solidity": 0.2
             }
            },
            "type": "histogram"
           }
          ],
          "histogram2d": [
           {
            "colorbar": {
             "outlinewidth": 0,
             "ticks": ""
            },
            "colorscale": [
             [
              0,
              "#0d0887"
             ],
             [
              0.1111111111111111,
              "#46039f"
             ],
             [
              0.2222222222222222,
              "#7201a8"
             ],
             [
              0.3333333333333333,
              "#9c179e"
             ],
             [
              0.4444444444444444,
              "#bd3786"
             ],
             [
              0.5555555555555556,
              "#d8576b"
             ],
             [
              0.6666666666666666,
              "#ed7953"
             ],
             [
              0.7777777777777778,
              "#fb9f3a"
             ],
             [
              0.8888888888888888,
              "#fdca26"
             ],
             [
              1,
              "#f0f921"
             ]
            ],
            "type": "histogram2d"
           }
          ],
          "histogram2dcontour": [
           {
            "colorbar": {
             "outlinewidth": 0,
             "ticks": ""
            },
            "colorscale": [
             [
              0,
              "#0d0887"
             ],
             [
              0.1111111111111111,
              "#46039f"
             ],
             [
              0.2222222222222222,
              "#7201a8"
             ],
             [
              0.3333333333333333,
              "#9c179e"
             ],
             [
              0.4444444444444444,
              "#bd3786"
             ],
             [
              0.5555555555555556,
              "#d8576b"
             ],
             [
              0.6666666666666666,
              "#ed7953"
             ],
             [
              0.7777777777777778,
              "#fb9f3a"
             ],
             [
              0.8888888888888888,
              "#fdca26"
             ],
             [
              1,
              "#f0f921"
             ]
            ],
            "type": "histogram2dcontour"
           }
          ],
          "mesh3d": [
           {
            "colorbar": {
             "outlinewidth": 0,
             "ticks": ""
            },
            "type": "mesh3d"
           }
          ],
          "parcoords": [
           {
            "line": {
             "colorbar": {
              "outlinewidth": 0,
              "ticks": ""
             }
            },
            "type": "parcoords"
           }
          ],
          "pie": [
           {
            "automargin": true,
            "type": "pie"
           }
          ],
          "scatter": [
           {
            "marker": {
             "line": {
              "color": "#283442"
             }
            },
            "type": "scatter"
           }
          ],
          "scatter3d": [
           {
            "line": {
             "colorbar": {
              "outlinewidth": 0,
              "ticks": ""
             }
            },
            "marker": {
             "colorbar": {
              "outlinewidth": 0,
              "ticks": ""
             }
            },
            "type": "scatter3d"
           }
          ],
          "scattercarpet": [
           {
            "marker": {
             "colorbar": {
              "outlinewidth": 0,
              "ticks": ""
             }
            },
            "type": "scattercarpet"
           }
          ],
          "scattergeo": [
           {
            "marker": {
             "colorbar": {
              "outlinewidth": 0,
              "ticks": ""
             }
            },
            "type": "scattergeo"
           }
          ],
          "scattergl": [
           {
            "marker": {
             "line": {
              "color": "#283442"
             }
            },
            "type": "scattergl"
           }
          ],
          "scattermap": [
           {
            "marker": {
             "colorbar": {
              "outlinewidth": 0,
              "ticks": ""
             }
            },
            "type": "scattermap"
           }
          ],
          "scattermapbox": [
           {
            "marker": {
             "colorbar": {
              "outlinewidth": 0,
              "ticks": ""
             }
            },
            "type": "scattermapbox"
           }
          ],
          "scatterpolar": [
           {
            "marker": {
             "colorbar": {
              "outlinewidth": 0,
              "ticks": ""
             }
            },
            "type": "scatterpolar"
           }
          ],
          "scatterpolargl": [
           {
            "marker": {
             "colorbar": {
              "outlinewidth": 0,
              "ticks": ""
             }
            },
            "type": "scatterpolargl"
           }
          ],
          "scatterternary": [
           {
            "marker": {
             "colorbar": {
              "outlinewidth": 0,
              "ticks": ""
             }
            },
            "type": "scatterternary"
           }
          ],
          "surface": [
           {
            "colorbar": {
             "outlinewidth": 0,
             "ticks": ""
            },
            "colorscale": [
             [
              0,
              "#0d0887"
             ],
             [
              0.1111111111111111,
              "#46039f"
             ],
             [
              0.2222222222222222,
              "#7201a8"
             ],
             [
              0.3333333333333333,
              "#9c179e"
             ],
             [
              0.4444444444444444,
              "#bd3786"
             ],
             [
              0.5555555555555556,
              "#d8576b"
             ],
             [
              0.6666666666666666,
              "#ed7953"
             ],
             [
              0.7777777777777778,
              "#fb9f3a"
             ],
             [
              0.8888888888888888,
              "#fdca26"
             ],
             [
              1,
              "#f0f921"
             ]
            ],
            "type": "surface"
           }
          ],
          "table": [
           {
            "cells": {
             "fill": {
              "color": "#506784"
             },
             "line": {
              "color": "rgb(17,17,17)"
             }
            },
            "header": {
             "fill": {
              "color": "#2a3f5f"
             },
             "line": {
              "color": "rgb(17,17,17)"
             }
            },
            "type": "table"
           }
          ]
         },
         "layout": {
          "annotationdefaults": {
           "arrowcolor": "#f2f5fa",
           "arrowhead": 0,
           "arrowwidth": 1
          },
          "autotypenumbers": "strict",
          "coloraxis": {
           "colorbar": {
            "outlinewidth": 0,
            "ticks": ""
           }
          },
          "colorscale": {
           "diverging": [
            [
             0,
             "#8e0152"
            ],
            [
             0.1,
             "#c51b7d"
            ],
            [
             0.2,
             "#de77ae"
            ],
            [
             0.3,
             "#f1b6da"
            ],
            [
             0.4,
             "#fde0ef"
            ],
            [
             0.5,
             "#f7f7f7"
            ],
            [
             0.6,
             "#e6f5d0"
            ],
            [
             0.7,
             "#b8e186"
            ],
            [
             0.8,
             "#7fbc41"
            ],
            [
             0.9,
             "#4d9221"
            ],
            [
             1,
             "#276419"
            ]
           ],
           "sequential": [
            [
             0,
             "#0d0887"
            ],
            [
             0.1111111111111111,
             "#46039f"
            ],
            [
             0.2222222222222222,
             "#7201a8"
            ],
            [
             0.3333333333333333,
             "#9c179e"
            ],
            [
             0.4444444444444444,
             "#bd3786"
            ],
            [
             0.5555555555555556,
             "#d8576b"
            ],
            [
             0.6666666666666666,
             "#ed7953"
            ],
            [
             0.7777777777777778,
             "#fb9f3a"
            ],
            [
             0.8888888888888888,
             "#fdca26"
            ],
            [
             1,
             "#f0f921"
            ]
           ],
           "sequentialminus": [
            [
             0,
             "#0d0887"
            ],
            [
             0.1111111111111111,
             "#46039f"
            ],
            [
             0.2222222222222222,
             "#7201a8"
            ],
            [
             0.3333333333333333,
             "#9c179e"
            ],
            [
             0.4444444444444444,
             "#bd3786"
            ],
            [
             0.5555555555555556,
             "#d8576b"
            ],
            [
             0.6666666666666666,
             "#ed7953"
            ],
            [
             0.7777777777777778,
             "#fb9f3a"
            ],
            [
             0.8888888888888888,
             "#fdca26"
            ],
            [
             1,
             "#f0f921"
            ]
           ]
          },
          "colorway": [
           "#636efa",
           "#EF553B",
           "#00cc96",
           "#ab63fa",
           "#FFA15A",
           "#19d3f3",
           "#FF6692",
           "#B6E880",
           "#FF97FF",
           "#FECB52"
          ],
          "font": {
           "color": "#f2f5fa"
          },
          "geo": {
           "bgcolor": "rgb(17,17,17)",
           "lakecolor": "rgb(17,17,17)",
           "landcolor": "rgb(17,17,17)",
           "showlakes": true,
           "showland": true,
           "subunitcolor": "#506784"
          },
          "hoverlabel": {
           "align": "left"
          },
          "hovermode": "closest",
          "mapbox": {
           "style": "dark"
          },
          "paper_bgcolor": "rgb(17,17,17)",
          "plot_bgcolor": "rgb(17,17,17)",
          "polar": {
           "angularaxis": {
            "gridcolor": "#506784",
            "linecolor": "#506784",
            "ticks": ""
           },
           "bgcolor": "rgb(17,17,17)",
           "radialaxis": {
            "gridcolor": "#506784",
            "linecolor": "#506784",
            "ticks": ""
           }
          },
          "scene": {
           "xaxis": {
            "backgroundcolor": "rgb(17,17,17)",
            "gridcolor": "#506784",
            "gridwidth": 2,
            "linecolor": "#506784",
            "showbackground": true,
            "ticks": "",
            "zerolinecolor": "#C8D4E3"
           },
           "yaxis": {
            "backgroundcolor": "rgb(17,17,17)",
            "gridcolor": "#506784",
            "gridwidth": 2,
            "linecolor": "#506784",
            "showbackground": true,
            "ticks": "",
            "zerolinecolor": "#C8D4E3"
           },
           "zaxis": {
            "backgroundcolor": "rgb(17,17,17)",
            "gridcolor": "#506784",
            "gridwidth": 2,
            "linecolor": "#506784",
            "showbackground": true,
            "ticks": "",
            "zerolinecolor": "#C8D4E3"
           }
          },
          "shapedefaults": {
           "line": {
            "color": "#f2f5fa"
           }
          },
          "sliderdefaults": {
           "bgcolor": "#C8D4E3",
           "bordercolor": "rgb(17,17,17)",
           "borderwidth": 1,
           "tickwidth": 0
          },
          "ternary": {
           "aaxis": {
            "gridcolor": "#506784",
            "linecolor": "#506784",
            "ticks": ""
           },
           "baxis": {
            "gridcolor": "#506784",
            "linecolor": "#506784",
            "ticks": ""
           },
           "bgcolor": "rgb(17,17,17)",
           "caxis": {
            "gridcolor": "#506784",
            "linecolor": "#506784",
            "ticks": ""
           }
          },
          "title": {
           "x": 0.05
          },
          "updatemenudefaults": {
           "bgcolor": "#506784",
           "borderwidth": 0
          },
          "xaxis": {
           "automargin": true,
           "gridcolor": "#283442",
           "linecolor": "#506784",
           "ticks": "",
           "title": {
            "standoff": 15
           },
           "zerolinecolor": "#283442",
           "zerolinewidth": 2
          },
          "yaxis": {
           "automargin": true,
           "gridcolor": "#283442",
           "linecolor": "#506784",
           "ticks": "",
           "title": {
            "standoff": 15
           },
           "zerolinecolor": "#283442",
           "zerolinewidth": 2
          }
         }
        },
        "title": {
         "font": {
          "size": 24
         },
         "text": "Gesamtfruchtbarkeitsrate: Welt vs. Schweiz",
         "x": 0.5,
         "xanchor": "center",
         "y": 0.95,
         "yanchor": "top"
        },
        "width": 1200,
        "xaxis": {
         "anchor": "y",
         "domain": [
          0,
          1
         ],
         "side": "bottom",
         "tickfont": {
          "size": 12
         },
         "ticklen": 10,
         "ticks": "outside",
         "title": {
          "standoff": 25,
          "text": "Jahr"
         }
        },
        "yaxis": {
         "anchor": "x",
         "domain": [
          0,
          1
         ],
         "title": {
          "text": "Kinder pro Frau"
         }
        }
       }
      }
     },
     "metadata": {},
     "output_type": "display_data"
    }
   ],
   "source": [
    "import plotly.express as px\n",
    "import plotly.graph_objects as go\n",
    "import pandas as pd # Falls noch nicht importiert\n",
    "\n",
    "# Annahme: Dein DataFrame heisst 'fertility_rate' und enthält die Daten\n",
    "# Filtern der Daten für Welt und Schweiz\n",
    "fertility_rate_world = fertility_rate[fertility_rate['entities'] == 'World'].copy()\n",
    "fertility_rate_switzerland = fertility_rate[fertility_rate['entities'] == 'Switzerland'].copy()\n",
    "\n",
    "# Erstellen des Plotly-Diagramms für die Welt\n",
    "fig = px.line(fertility_rate_world,\n",
    "              x='years',\n",
    "              y='children_per_woman_un',\n",
    "              template='plotly_dark',\n",
    "              labels={'children_per_woman_un': 'TFR Welt'},\n",
    "              color_discrete_sequence=px.colors.sequential.Sunsetdark)\n",
    "\n",
    "# Hinzufügen der Linie für die Schweiz\n",
    "fig.add_trace(go.Scatter(x=fertility_rate_switzerland['years'],\n",
    "                         y=fertility_rate_switzerland['children_per_woman_un'],\n",
    "                         mode='lines',\n",
    "                         name='Schweiz', # Name wird nicht angezeigt, da Legende aus\n",
    "                         line=dict(color='lightblue'))) # Eigene Farbe für Schweiz\n",
    "\n",
    "# Anpassen der Achsenbeschriftungen und Layout\n",
    "fig.update_layout(\n",
    "    title={\n",
    "        'text': 'Gesamtfruchtbarkeitsrate: Welt vs. Schweiz',\n",
    "        'y': 0.95,\n",
    "        'x': 0.5,\n",
    "        'xanchor': 'center',\n",
    "        'yanchor': 'top',\n",
    "        'font': {'size': 24}\n",
    "    },\n",
    "    xaxis_title=\"Jahr\",\n",
    "    yaxis_title=\"Kinder pro Frau\",\n",
    "    template='plotly_dark',\n",
    "    height=800,\n",
    "    width=1200,\n",
    "    xaxis=dict(\n",
    "        ticks='outside',\n",
    "        ticklen=10,\n",
    "        tickfont=dict(size=12),\n",
    "        title_standoff=25,\n",
    "        side='bottom'\n",
    "    ),\n",
    "    showlegend=False # Legende entfernen\n",
    ")\n",
    "\n",
    "# Spezifische Jahre für Annotationen\n",
    "years_to_annotate = [1963, 2000, 2010, 2023]\n",
    "world_y_shifts = [30, 30, 30, 30]  # Positive Verschiebung für Welt\n",
    "switzerland_y_shifts = [-30, -30, -30, -30] # Negative Verschiebung für Schweiz\n",
    "\n",
    "# Annotationen für Welt hinzufügen\n",
    "for year, y_shift in zip(years_to_annotate, world_y_shifts):\n",
    "    data_point = fertility_rate_world[fertility_rate_world['years'] == year]\n",
    "    if not data_point.empty:\n",
    "        fig.add_annotation(\n",
    "            x=year,\n",
    "            y=data_point['children_per_woman_un'].iloc[0],\n",
    "            text=f\"Welt {year}: {data_point['children_per_woman_un'].iloc[0]:.2f}\",\n",
    "            showarrow=True,\n",
    "            arrowhead=2,\n",
    "            arrowsize=1,\n",
    "            arrowwidth=2,\n",
    "            arrowcolor='#fb9f3a',    # Pfeilfarbe Welt (Orange/Gelb)\n",
    "            font=dict(size=12, color='white'),\n",
    "            bgcolor='rgba(0,0,0,0.7)',\n",
    "            bordercolor='#fb9f3a',\n",
    "            borderwidth=1,\n",
    "            yshift=y_shift,          # Positive Verschiebung\n",
    "            xshift=0,\n",
    "            align='center',\n",
    "            xanchor='center',\n",
    "            ax=0,\n",
    "            ay=-y_shift\n",
    "        )\n",
    "\n",
    "# Annotationen für Schweiz hinzufügen\n",
    "for year, y_shift in zip(years_to_annotate, switzerland_y_shifts):\n",
    "    data_point = fertility_rate_switzerland[fertility_rate_switzerland['years'] == year]\n",
    "    if not data_point.empty:\n",
    "        fig.add_annotation(\n",
    "            x=year,\n",
    "            y=data_point['children_per_woman_un'].iloc[0],\n",
    "            text=f\"CH {year}: {data_point['children_per_woman_un'].iloc[0]:.2f}\", # Text angepasst\n",
    "            showarrow=True,\n",
    "            arrowhead=2,\n",
    "            arrowsize=1,\n",
    "            arrowwidth=2,\n",
    "            arrowcolor='lightblue',    # Pfeilfarbe Schweiz\n",
    "            font=dict(size=12, color='white'),\n",
    "            bgcolor='rgba(0,0,0,0.7)',\n",
    "            bordercolor='lightblue',   # Randfarbe Schweiz\n",
    "            borderwidth=1,\n",
    "            yshift=y_shift,          # Negative Verschiebung\n",
    "            xshift=0,\n",
    "            align='center',\n",
    "            xanchor='center',\n",
    "            ax=0,\n",
    "            ay=-y_shift             # Pfeil zeigt von unten nach oben auf den Punkt\n",
    "        )\n",
    "\n",
    "\n",
    "# Anzeigen des Diagramms\n",
    "fig.show()"
   ]
  },
  {
   "cell_type": "code",
   "execution_count": 28,
   "metadata": {},
   "outputs": [
    {
     "name": "stdout",
     "output_type": "stream",
     "text": [
      "Bei TFR = 1.8\n",
      "Anzahl Generationen bis Halbierung: 6.578813478960585\n",
      "Halbierungszeit in Jahren: 164.47033697401463\n",
      "\n",
      "Bei TFR = 0.8\n",
      "Anzahl Generationen bis Halbierung: 0.7564707973660301\n",
      "Halbierungszeit in Jahren: 18.91176993415075\n"
     ]
    }
   ],
   "source": [
    "import math\n",
    "\n",
    "# Gegebene Startpopulation (China)\n",
    "population_initial = 1422584937\n",
    "\n",
    "# Annahmen\n",
    "generation_time = 25  # Jahre pro Generation\n",
    "\n",
    "# Funktion zur Berechnung der Halbierung in Generationen und Jahren\n",
    "def halbierungszeit(TFR):\n",
    "    R = TFR / 2.0\n",
    "    n = math.log(0.5) / math.log(R)\n",
    "    years = n * generation_time\n",
    "    return n, years\n",
    "\n",
    "# Beispiel 1: TFR = 1.3\n",
    "TFR_1 = 1.8\n",
    "n1, years1 = halbierungszeit(TFR_1)\n",
    "print(\"Bei TFR =\", TFR_1)\n",
    "print(\"Anzahl Generationen bis Halbierung:\", n1)\n",
    "print(\"Halbierungszeit in Jahren:\", years1)\n",
    "\n",
    "# Beispiel 2: TFR = 1.59\n",
    "TFR_2 = 0.8\n",
    "n2, years2 = halbierungszeit(TFR_2)\n",
    "print(\"\\nBei TFR =\", TFR_2)\n",
    "print(\"Anzahl Generationen bis Halbierung:\", n2)\n",
    "print(\"Halbierungszeit in Jahren:\", years2)\n"
   ]
  },
  {
   "cell_type": "markdown",
   "metadata": {},
   "source": [
    "**Fazit**\n",
    "\n",
    "- Wenn man alle Faktoren (Altersverteilung, Sterblichkeit, Migration, altersabhängige Fertilität, etc.) berücksichtigen will, kommt man um ein `Cohort-Component-Modell (bzw. Leslie-Matrix-Modell)` nicht herum.\n",
    "- Eine **einfache Gleichung existiert nicht, weil die Realität zu komplex ist**. Stattdessen iteriert man das Modell über mehrere Zeitschritte, oft in 1- oder 5-Jahres-Intervallen.\n",
    "- Genau solche Modelle werden von Institutionen wie der UN, der Weltbank oder nationalen Statistikämtern genutzt, um Bevölkerungsprognosen bis 2100 oder darüber hinaus zu erstellen."
   ]
  },
  {
   "cell_type": "markdown",
   "metadata": {},
   "source": [
    "## Verteilung Alter"
   ]
  },
  {
   "cell_type": "code",
   "execution_count": 29,
   "metadata": {},
   "outputs": [],
   "source": [
    "median_df = charts.get_data(\"median-age\")\n",
    "popl_by_age_with_projections_df = charts.get_data(\"population-by-age-group-with-projections\")\n",
    "male_popl_by_age_df = charts.get_data(\"male-population-by-age-group\")\n",
    "female_popl_by_age_df = charts.get_data(\"female-population-by-age-group\")"
   ]
  },
  {
   "cell_type": "code",
   "execution_count": 30,
   "metadata": {},
   "outputs": [
    {
     "data": {
      "text/html": [
       "<div>\n",
       "<style scoped>\n",
       "    .dataframe tbody tr th:only-of-type {\n",
       "        vertical-align: middle;\n",
       "    }\n",
       "\n",
       "    .dataframe tbody tr th {\n",
       "        vertical-align: top;\n",
       "    }\n",
       "\n",
       "    .dataframe thead th {\n",
       "        text-align: right;\n",
       "    }\n",
       "</style>\n",
       "<table border=\"1\" class=\"dataframe\">\n",
       "  <thead>\n",
       "    <tr style=\"text-align: right;\">\n",
       "      <th></th>\n",
       "      <th>entities</th>\n",
       "      <th>years</th>\n",
       "      <th>median_age__sex_all__age_all__variant_estimates</th>\n",
       "      <th>median_age__sex_all__age_all__variant_medium</th>\n",
       "    </tr>\n",
       "  </thead>\n",
       "  <tbody>\n",
       "    <tr>\n",
       "      <th>0</th>\n",
       "      <td>Afghanistan</td>\n",
       "      <td>1950</td>\n",
       "      <td>18.395</td>\n",
       "      <td>NaN</td>\n",
       "    </tr>\n",
       "    <tr>\n",
       "      <th>1</th>\n",
       "      <td>Afghanistan</td>\n",
       "      <td>1951</td>\n",
       "      <td>18.370</td>\n",
       "      <td>NaN</td>\n",
       "    </tr>\n",
       "    <tr>\n",
       "      <th>2</th>\n",
       "      <td>Afghanistan</td>\n",
       "      <td>1952</td>\n",
       "      <td>18.333</td>\n",
       "      <td>NaN</td>\n",
       "    </tr>\n",
       "    <tr>\n",
       "      <th>3</th>\n",
       "      <td>Afghanistan</td>\n",
       "      <td>1953</td>\n",
       "      <td>18.289</td>\n",
       "      <td>NaN</td>\n",
       "    </tr>\n",
       "    <tr>\n",
       "      <th>4</th>\n",
       "      <td>Afghanistan</td>\n",
       "      <td>1954</td>\n",
       "      <td>18.239</td>\n",
       "      <td>NaN</td>\n",
       "    </tr>\n",
       "  </tbody>\n",
       "</table>\n",
       "</div>"
      ],
      "text/plain": [
       "      entities  years  median_age__sex_all__age_all__variant_estimates  \\\n",
       "0  Afghanistan   1950                                           18.395   \n",
       "1  Afghanistan   1951                                           18.370   \n",
       "2  Afghanistan   1952                                           18.333   \n",
       "3  Afghanistan   1953                                           18.289   \n",
       "4  Afghanistan   1954                                           18.239   \n",
       "\n",
       "   median_age__sex_all__age_all__variant_medium  \n",
       "0                                           NaN  \n",
       "1                                           NaN  \n",
       "2                                           NaN  \n",
       "3                                           NaN  \n",
       "4                                           NaN  "
      ]
     },
     "execution_count": 30,
     "metadata": {},
     "output_type": "execute_result"
    }
   ],
   "source": [
    "median_df.head()"
   ]
  },
  {
   "cell_type": "code",
   "execution_count": 31,
   "metadata": {},
   "outputs": [
    {
     "data": {
      "text/html": [
       "<div>\n",
       "<style scoped>\n",
       "    .dataframe tbody tr th:only-of-type {\n",
       "        vertical-align: middle;\n",
       "    }\n",
       "\n",
       "    .dataframe tbody tr th {\n",
       "        vertical-align: top;\n",
       "    }\n",
       "\n",
       "    .dataframe thead th {\n",
       "        text-align: right;\n",
       "    }\n",
       "</style>\n",
       "<table border=\"1\" class=\"dataframe\">\n",
       "  <thead>\n",
       "    <tr style=\"text-align: right;\">\n",
       "      <th></th>\n",
       "      <th>entities</th>\n",
       "      <th>years</th>\n",
       "      <th>population__sex_all__age_all__variant_estimates</th>\n",
       "      <th>population__sex_all__age_all__variant_medium</th>\n",
       "      <th>population__sex_all__age_65plus__variant_estimates</th>\n",
       "      <th>population__sex_all__age_65plus__variant_medium</th>\n",
       "      <th>population__sex_all__age_25_64__variant_estimates</th>\n",
       "      <th>population__sex_all__age_25_64__variant_medium</th>\n",
       "      <th>population__sex_all__age_0_24__variant_medium</th>\n",
       "      <th>population__sex_all__age_0_24__variant_estimates</th>\n",
       "      <th>population__sex_all__age_0_14__variant_estimates</th>\n",
       "      <th>population__sex_all__age_0_14__variant_medium</th>\n",
       "      <th>population__sex_all__age_0_4__variant_estimates</th>\n",
       "      <th>population__sex_all__age_0_4__variant_medium</th>\n",
       "    </tr>\n",
       "  </thead>\n",
       "  <tbody>\n",
       "    <tr>\n",
       "      <th>0</th>\n",
       "      <td>Afghanistan</td>\n",
       "      <td>1950</td>\n",
       "      <td>7776133.0</td>\n",
       "      <td>NaN</td>\n",
       "      <td>221568.0</td>\n",
       "      <td>NaN</td>\n",
       "      <td>2881732.0</td>\n",
       "      <td>NaN</td>\n",
       "      <td>NaN</td>\n",
       "      <td>4672833.0</td>\n",
       "      <td>3191673.0</td>\n",
       "      <td>NaN</td>\n",
       "      <td>1300029.0</td>\n",
       "      <td>NaN</td>\n",
       "    </tr>\n",
       "    <tr>\n",
       "      <th>1</th>\n",
       "      <td>Afghanistan</td>\n",
       "      <td>1951</td>\n",
       "      <td>7879295.0</td>\n",
       "      <td>NaN</td>\n",
       "      <td>225314.0</td>\n",
       "      <td>NaN</td>\n",
       "      <td>2914311.0</td>\n",
       "      <td>NaN</td>\n",
       "      <td>NaN</td>\n",
       "      <td>4739670.0</td>\n",
       "      <td>3236279.0</td>\n",
       "      <td>NaN</td>\n",
       "      <td>1304860.0</td>\n",
       "      <td>NaN</td>\n",
       "    </tr>\n",
       "    <tr>\n",
       "      <th>2</th>\n",
       "      <td>Afghanistan</td>\n",
       "      <td>1952</td>\n",
       "      <td>7987737.0</td>\n",
       "      <td>NaN</td>\n",
       "      <td>228844.0</td>\n",
       "      <td>NaN</td>\n",
       "      <td>2948420.0</td>\n",
       "      <td>NaN</td>\n",
       "      <td>NaN</td>\n",
       "      <td>4810473.0</td>\n",
       "      <td>3284100.0</td>\n",
       "      <td>NaN</td>\n",
       "      <td>1312384.0</td>\n",
       "      <td>NaN</td>\n",
       "    </tr>\n",
       "    <tr>\n",
       "      <th>3</th>\n",
       "      <td>Afghanistan</td>\n",
       "      <td>1953</td>\n",
       "      <td>8096656.0</td>\n",
       "      <td>NaN</td>\n",
       "      <td>232091.0</td>\n",
       "      <td>NaN</td>\n",
       "      <td>2982312.0</td>\n",
       "      <td>NaN</td>\n",
       "      <td>NaN</td>\n",
       "      <td>4882253.0</td>\n",
       "      <td>3333375.0</td>\n",
       "      <td>NaN</td>\n",
       "      <td>1324539.0</td>\n",
       "      <td>NaN</td>\n",
       "    </tr>\n",
       "    <tr>\n",
       "      <th>4</th>\n",
       "      <td>Afghanistan</td>\n",
       "      <td>1954</td>\n",
       "      <td>8207910.0</td>\n",
       "      <td>NaN</td>\n",
       "      <td>235121.0</td>\n",
       "      <td>NaN</td>\n",
       "      <td>3016433.0</td>\n",
       "      <td>NaN</td>\n",
       "      <td>NaN</td>\n",
       "      <td>4956356.0</td>\n",
       "      <td>3385826.0</td>\n",
       "      <td>NaN</td>\n",
       "      <td>1342583.0</td>\n",
       "      <td>NaN</td>\n",
       "    </tr>\n",
       "  </tbody>\n",
       "</table>\n",
       "</div>"
      ],
      "text/plain": [
       "      entities  years  population__sex_all__age_all__variant_estimates  \\\n",
       "0  Afghanistan   1950                                        7776133.0   \n",
       "1  Afghanistan   1951                                        7879295.0   \n",
       "2  Afghanistan   1952                                        7987737.0   \n",
       "3  Afghanistan   1953                                        8096656.0   \n",
       "4  Afghanistan   1954                                        8207910.0   \n",
       "\n",
       "   population__sex_all__age_all__variant_medium  \\\n",
       "0                                           NaN   \n",
       "1                                           NaN   \n",
       "2                                           NaN   \n",
       "3                                           NaN   \n",
       "4                                           NaN   \n",
       "\n",
       "   population__sex_all__age_65plus__variant_estimates  \\\n",
       "0                                           221568.0    \n",
       "1                                           225314.0    \n",
       "2                                           228844.0    \n",
       "3                                           232091.0    \n",
       "4                                           235121.0    \n",
       "\n",
       "   population__sex_all__age_65plus__variant_medium  \\\n",
       "0                                              NaN   \n",
       "1                                              NaN   \n",
       "2                                              NaN   \n",
       "3                                              NaN   \n",
       "4                                              NaN   \n",
       "\n",
       "   population__sex_all__age_25_64__variant_estimates  \\\n",
       "0                                          2881732.0   \n",
       "1                                          2914311.0   \n",
       "2                                          2948420.0   \n",
       "3                                          2982312.0   \n",
       "4                                          3016433.0   \n",
       "\n",
       "   population__sex_all__age_25_64__variant_medium  \\\n",
       "0                                             NaN   \n",
       "1                                             NaN   \n",
       "2                                             NaN   \n",
       "3                                             NaN   \n",
       "4                                             NaN   \n",
       "\n",
       "   population__sex_all__age_0_24__variant_medium  \\\n",
       "0                                            NaN   \n",
       "1                                            NaN   \n",
       "2                                            NaN   \n",
       "3                                            NaN   \n",
       "4                                            NaN   \n",
       "\n",
       "   population__sex_all__age_0_24__variant_estimates  \\\n",
       "0                                         4672833.0   \n",
       "1                                         4739670.0   \n",
       "2                                         4810473.0   \n",
       "3                                         4882253.0   \n",
       "4                                         4956356.0   \n",
       "\n",
       "   population__sex_all__age_0_14__variant_estimates  \\\n",
       "0                                         3191673.0   \n",
       "1                                         3236279.0   \n",
       "2                                         3284100.0   \n",
       "3                                         3333375.0   \n",
       "4                                         3385826.0   \n",
       "\n",
       "   population__sex_all__age_0_14__variant_medium  \\\n",
       "0                                            NaN   \n",
       "1                                            NaN   \n",
       "2                                            NaN   \n",
       "3                                            NaN   \n",
       "4                                            NaN   \n",
       "\n",
       "   population__sex_all__age_0_4__variant_estimates  \\\n",
       "0                                        1300029.0   \n",
       "1                                        1304860.0   \n",
       "2                                        1312384.0   \n",
       "3                                        1324539.0   \n",
       "4                                        1342583.0   \n",
       "\n",
       "   population__sex_all__age_0_4__variant_medium  \n",
       "0                                           NaN  \n",
       "1                                           NaN  \n",
       "2                                           NaN  \n",
       "3                                           NaN  \n",
       "4                                           NaN  "
      ]
     },
     "execution_count": 31,
     "metadata": {},
     "output_type": "execute_result"
    }
   ],
   "source": [
    "popl_by_age_with_projections_df.head()"
   ]
  },
  {
   "cell_type": "markdown",
   "metadata": {},
   "source": [
    "---\n",
    "### Median"
   ]
  },
  {
   "cell_type": "code",
   "execution_count": 32,
   "metadata": {},
   "outputs": [
    {
     "data": {
      "text/html": [
       "<div>\n",
       "<style scoped>\n",
       "    .dataframe tbody tr th:only-of-type {\n",
       "        vertical-align: middle;\n",
       "    }\n",
       "\n",
       "    .dataframe tbody tr th {\n",
       "        vertical-align: top;\n",
       "    }\n",
       "\n",
       "    .dataframe thead th {\n",
       "        text-align: right;\n",
       "    }\n",
       "</style>\n",
       "<table border=\"1\" class=\"dataframe\">\n",
       "  <thead>\n",
       "    <tr style=\"text-align: right;\">\n",
       "      <th></th>\n",
       "      <th>entities</th>\n",
       "      <th>years</th>\n",
       "      <th>median_age__sex_all__age_all__variant_estimates</th>\n",
       "      <th>median_age__sex_all__age_all__variant_medium</th>\n",
       "    </tr>\n",
       "  </thead>\n",
       "  <tbody>\n",
       "    <tr>\n",
       "      <th>0</th>\n",
       "      <td>Afghanistan</td>\n",
       "      <td>1950</td>\n",
       "      <td>18.395</td>\n",
       "      <td>NaN</td>\n",
       "    </tr>\n",
       "    <tr>\n",
       "      <th>1</th>\n",
       "      <td>Afghanistan</td>\n",
       "      <td>1951</td>\n",
       "      <td>18.370</td>\n",
       "      <td>NaN</td>\n",
       "    </tr>\n",
       "    <tr>\n",
       "      <th>2</th>\n",
       "      <td>Afghanistan</td>\n",
       "      <td>1952</td>\n",
       "      <td>18.333</td>\n",
       "      <td>NaN</td>\n",
       "    </tr>\n",
       "    <tr>\n",
       "      <th>3</th>\n",
       "      <td>Afghanistan</td>\n",
       "      <td>1953</td>\n",
       "      <td>18.289</td>\n",
       "      <td>NaN</td>\n",
       "    </tr>\n",
       "    <tr>\n",
       "      <th>4</th>\n",
       "      <td>Afghanistan</td>\n",
       "      <td>1954</td>\n",
       "      <td>18.239</td>\n",
       "      <td>NaN</td>\n",
       "    </tr>\n",
       "  </tbody>\n",
       "</table>\n",
       "</div>"
      ],
      "text/plain": [
       "      entities  years  median_age__sex_all__age_all__variant_estimates  \\\n",
       "0  Afghanistan   1950                                           18.395   \n",
       "1  Afghanistan   1951                                           18.370   \n",
       "2  Afghanistan   1952                                           18.333   \n",
       "3  Afghanistan   1953                                           18.289   \n",
       "4  Afghanistan   1954                                           18.239   \n",
       "\n",
       "   median_age__sex_all__age_all__variant_medium  \n",
       "0                                           NaN  \n",
       "1                                           NaN  \n",
       "2                                           NaN  \n",
       "3                                           NaN  \n",
       "4                                           NaN  "
      ]
     },
     "execution_count": 32,
     "metadata": {},
     "output_type": "execute_result"
    }
   ],
   "source": [
    "median_df.head()"
   ]
  },
  {
   "cell_type": "code",
   "execution_count": 33,
   "metadata": {},
   "outputs": [
    {
     "data": {
      "text/html": [
       "<div>\n",
       "<style scoped>\n",
       "    .dataframe tbody tr th:only-of-type {\n",
       "        vertical-align: middle;\n",
       "    }\n",
       "\n",
       "    .dataframe tbody tr th {\n",
       "        vertical-align: top;\n",
       "    }\n",
       "\n",
       "    .dataframe thead th {\n",
       "        text-align: right;\n",
       "    }\n",
       "</style>\n",
       "<table border=\"1\" class=\"dataframe\">\n",
       "  <thead>\n",
       "    <tr style=\"text-align: right;\">\n",
       "      <th></th>\n",
       "      <th>entities</th>\n",
       "      <th>years</th>\n",
       "      <th>median_age__sex_all__age_all__variant_estimates</th>\n",
       "      <th>median_age__sex_all__age_all__variant_medium</th>\n",
       "    </tr>\n",
       "  </thead>\n",
       "  <tbody>\n",
       "    <tr>\n",
       "      <th>222</th>\n",
       "      <td>Africa (UN)</td>\n",
       "      <td>2021</td>\n",
       "      <td>18.769</td>\n",
       "      <td>NaN</td>\n",
       "    </tr>\n",
       "    <tr>\n",
       "      <th>223</th>\n",
       "      <td>Africa (UN)</td>\n",
       "      <td>2022</td>\n",
       "      <td>18.894</td>\n",
       "      <td>NaN</td>\n",
       "    </tr>\n",
       "    <tr>\n",
       "      <th>224</th>\n",
       "      <td>Africa (UN)</td>\n",
       "      <td>2023</td>\n",
       "      <td>19.032</td>\n",
       "      <td>NaN</td>\n",
       "    </tr>\n",
       "    <tr>\n",
       "      <th>225</th>\n",
       "      <td>Africa (UN)</td>\n",
       "      <td>2024</td>\n",
       "      <td>NaN</td>\n",
       "      <td>19.174</td>\n",
       "    </tr>\n",
       "    <tr>\n",
       "      <th>226</th>\n",
       "      <td>Africa (UN)</td>\n",
       "      <td>2025</td>\n",
       "      <td>NaN</td>\n",
       "      <td>19.321</td>\n",
       "    </tr>\n",
       "    <tr>\n",
       "      <th>...</th>\n",
       "      <td>...</td>\n",
       "      <td>...</td>\n",
       "      <td>...</td>\n",
       "      <td>...</td>\n",
       "    </tr>\n",
       "    <tr>\n",
       "      <th>297</th>\n",
       "      <td>Africa (UN)</td>\n",
       "      <td>2096</td>\n",
       "      <td>NaN</td>\n",
       "      <td>34.329</td>\n",
       "    </tr>\n",
       "    <tr>\n",
       "      <th>298</th>\n",
       "      <td>Africa (UN)</td>\n",
       "      <td>2097</td>\n",
       "      <td>NaN</td>\n",
       "      <td>34.516</td>\n",
       "    </tr>\n",
       "    <tr>\n",
       "      <th>299</th>\n",
       "      <td>Africa (UN)</td>\n",
       "      <td>2098</td>\n",
       "      <td>NaN</td>\n",
       "      <td>34.700</td>\n",
       "    </tr>\n",
       "    <tr>\n",
       "      <th>300</th>\n",
       "      <td>Africa (UN)</td>\n",
       "      <td>2099</td>\n",
       "      <td>NaN</td>\n",
       "      <td>34.883</td>\n",
       "    </tr>\n",
       "    <tr>\n",
       "      <th>301</th>\n",
       "      <td>Africa (UN)</td>\n",
       "      <td>2100</td>\n",
       "      <td>NaN</td>\n",
       "      <td>35.064</td>\n",
       "    </tr>\n",
       "  </tbody>\n",
       "</table>\n",
       "<p>80 rows × 4 columns</p>\n",
       "</div>"
      ],
      "text/plain": [
       "        entities  years  median_age__sex_all__age_all__variant_estimates  \\\n",
       "222  Africa (UN)   2021                                           18.769   \n",
       "223  Africa (UN)   2022                                           18.894   \n",
       "224  Africa (UN)   2023                                           19.032   \n",
       "225  Africa (UN)   2024                                              NaN   \n",
       "226  Africa (UN)   2025                                              NaN   \n",
       "..           ...    ...                                              ...   \n",
       "297  Africa (UN)   2096                                              NaN   \n",
       "298  Africa (UN)   2097                                              NaN   \n",
       "299  Africa (UN)   2098                                              NaN   \n",
       "300  Africa (UN)   2099                                              NaN   \n",
       "301  Africa (UN)   2100                                              NaN   \n",
       "\n",
       "     median_age__sex_all__age_all__variant_medium  \n",
       "222                                           NaN  \n",
       "223                                           NaN  \n",
       "224                                           NaN  \n",
       "225                                        19.174  \n",
       "226                                        19.321  \n",
       "..                                            ...  \n",
       "297                                        34.329  \n",
       "298                                        34.516  \n",
       "299                                        34.700  \n",
       "300                                        34.883  \n",
       "301                                        35.064  \n",
       "\n",
       "[80 rows x 4 columns]"
      ]
     },
     "execution_count": 33,
     "metadata": {},
     "output_type": "execute_result"
    }
   ],
   "source": [
    "africa_df = median_df[median_df['entities'] == 'Africa (UN)']\n",
    "africa_df[africa_df['years'] > 2020]"
   ]
  },
  {
   "cell_type": "code",
   "execution_count": 34,
   "metadata": {},
   "outputs": [
    {
     "data": {
      "text/plain": [
       "array([1950, 1951, 1952, 1953, 1954, 1955, 1956, 1957, 1958, 1959, 1960,\n",
       "       1961, 1962, 1963, 1964, 1965, 1966, 1967, 1968, 1969, 1970, 1971,\n",
       "       1972, 1973, 1974, 1975, 1976, 1977, 1978, 1979, 1980, 1981, 1982,\n",
       "       1983, 1984, 1985, 1986, 1987, 1988, 1989, 1990, 1991, 1992, 1993,\n",
       "       1994, 1995, 1996, 1997, 1998, 1999, 2000, 2001, 2002, 2003, 2004,\n",
       "       2005, 2006, 2007, 2008, 2009, 2010, 2011, 2012, 2013, 2014, 2015,\n",
       "       2016, 2017, 2018, 2019, 2020, 2021, 2022, 2023, 2024, 2025, 2026,\n",
       "       2027, 2028, 2029, 2030, 2031, 2032, 2033, 2034, 2035, 2036, 2037,\n",
       "       2038, 2039, 2040, 2041, 2042, 2043, 2044, 2045, 2046, 2047, 2048,\n",
       "       2049, 2050, 2051, 2052, 2053, 2054, 2055, 2056, 2057, 2058, 2059,\n",
       "       2060, 2061, 2062, 2063, 2064, 2065, 2066, 2067, 2068, 2069, 2070,\n",
       "       2071, 2072, 2073, 2074, 2075, 2076, 2077, 2078, 2079, 2080, 2081,\n",
       "       2082, 2083, 2084, 2085, 2086, 2087, 2088, 2089, 2090, 2091, 2092,\n",
       "       2093, 2094, 2095, 2096, 2097, 2098, 2099, 2100])"
      ]
     },
     "execution_count": 34,
     "metadata": {},
     "output_type": "execute_result"
    }
   ],
   "source": [
    "median_df['years'].unique()"
   ]
  },
  {
   "cell_type": "code",
   "execution_count": 35,
   "metadata": {},
   "outputs": [
    {
     "data": {
      "text/plain": [
       "array(['Afghanistan', 'Africa (UN)', 'Albania', 'Algeria',\n",
       "       'American Samoa', 'Andorra', 'Angola', 'Anguilla',\n",
       "       'Antigua and Barbuda', 'Argentina', 'Armenia', 'Aruba',\n",
       "       'Asia (UN)', 'Australia', 'Austria', 'Azerbaijan', 'Bahamas',\n",
       "       'Bahrain', 'Bangladesh', 'Barbados', 'Belarus', 'Belgium',\n",
       "       'Belize', 'Benin', 'Bermuda', 'Bhutan', 'Bolivia',\n",
       "       'Bonaire Sint Eustatius and Saba', 'Bosnia and Herzegovina',\n",
       "       'Botswana', 'Brazil', 'British Virgin Islands', 'Brunei',\n",
       "       'Bulgaria', 'Burkina Faso', 'Burundi', 'Cambodia', 'Cameroon',\n",
       "       'Canada', 'Cape Verde', 'Cayman Islands',\n",
       "       'Central African Republic', 'Chad', 'Chile', 'China', 'Colombia',\n",
       "       'Comoros', 'Congo', 'Cook Islands', 'Costa Rica', \"Cote d'Ivoire\",\n",
       "       'Croatia', 'Cuba', 'Curacao', 'Cyprus', 'Czechia',\n",
       "       'Democratic Republic of Congo', 'Denmark', 'Djibouti', 'Dominica',\n",
       "       'Dominican Republic', 'East Timor', 'Ecuador', 'Egypt',\n",
       "       'El Salvador', 'Equatorial Guinea', 'Eritrea', 'Estonia',\n",
       "       'Eswatini', 'Ethiopia', 'Europe (UN)', 'Falkland Islands',\n",
       "       'Faroe Islands', 'Fiji', 'Finland', 'France', 'French Guiana',\n",
       "       'French Polynesia', 'Gabon', 'Gambia', 'Georgia', 'Germany',\n",
       "       'Ghana', 'Gibraltar', 'Greece', 'Greenland', 'Grenada',\n",
       "       'Guadeloupe', 'Guam', 'Guatemala', 'Guernsey', 'Guinea',\n",
       "       'Guinea-Bissau', 'Guyana', 'Haiti', 'High-income countries',\n",
       "       'Honduras', 'Hong Kong', 'Hungary', 'Iceland', 'India',\n",
       "       'Indonesia', 'Iran', 'Iraq', 'Ireland', 'Isle of Man', 'Israel',\n",
       "       'Italy', 'Jamaica', 'Japan', 'Jersey', 'Jordan', 'Kazakhstan',\n",
       "       'Kenya', 'Kiribati', 'Kosovo', 'Kuwait', 'Kyrgyzstan', 'Laos',\n",
       "       'Latin America and the Caribbean (UN)', 'Latvia',\n",
       "       'Least developed countries', 'Lebanon', 'Lesotho',\n",
       "       'Less developed regions',\n",
       "       'Less developed regions, excluding China',\n",
       "       'Less developed regions, excluding least developed countries',\n",
       "       'Liberia', 'Libya', 'Liechtenstein', 'Lithuania',\n",
       "       'Low-income countries', 'Lower-middle-income countries',\n",
       "       'Luxembourg', 'Macao', 'Madagascar', 'Malawi', 'Malaysia',\n",
       "       'Maldives', 'Mali', 'Malta', 'Marshall Islands', 'Martinique',\n",
       "       'Mauritania', 'Mauritius', 'Mayotte', 'Mexico',\n",
       "       'Micronesia (country)', 'Moldova', 'Monaco', 'Mongolia',\n",
       "       'Montenegro', 'Montserrat', 'More developed regions', 'Morocco',\n",
       "       'Mozambique', 'Myanmar', 'Namibia', 'Nauru', 'Nepal',\n",
       "       'Netherlands', 'New Caledonia', 'New Zealand', 'Nicaragua',\n",
       "       'Niger', 'Nigeria', 'Niue', 'North Korea', 'North Macedonia',\n",
       "       'Northern America (UN)', 'Northern Mariana Islands', 'Norway',\n",
       "       'Oceania (UN)', 'Oman', 'Pakistan', 'Palau', 'Palestine', 'Panama',\n",
       "       'Papua New Guinea', 'Paraguay', 'Peru', 'Philippines', 'Poland',\n",
       "       'Portugal', 'Puerto Rico', 'Qatar', 'Reunion', 'Romania', 'Russia',\n",
       "       'Rwanda', 'Saint Barthelemy', 'Saint Helena',\n",
       "       'Saint Kitts and Nevis', 'Saint Lucia',\n",
       "       'Saint Martin (French part)', 'Saint Pierre and Miquelon',\n",
       "       'Saint Vincent and the Grenadines', 'Samoa', 'San Marino',\n",
       "       'Sao Tome and Principe', 'Saudi Arabia', 'Senegal', 'Serbia',\n",
       "       'Seychelles', 'Sierra Leone', 'Singapore',\n",
       "       'Sint Maarten (Dutch part)', 'Slovakia', 'Slovenia',\n",
       "       'Solomon Islands', 'Somalia', 'South Africa', 'South Korea',\n",
       "       'South Sudan', 'Spain', 'Sri Lanka', 'Sudan', 'Suriname', 'Sweden',\n",
       "       'Switzerland', 'Syria', 'Taiwan', 'Tajikistan', 'Tanzania',\n",
       "       'Thailand', 'Togo', 'Tokelau', 'Tonga', 'Trinidad and Tobago',\n",
       "       'Tunisia', 'Turkey', 'Turkmenistan', 'Turks and Caicos Islands',\n",
       "       'Tuvalu', 'Uganda', 'Ukraine', 'United Arab Emirates',\n",
       "       'United Kingdom', 'United States', 'United States Virgin Islands',\n",
       "       'Upper-middle-income countries', 'Uruguay', 'Uzbekistan',\n",
       "       'Vanuatu', 'Vatican', 'Venezuela', 'Vietnam', 'Wallis and Futuna',\n",
       "       'Western Sahara', 'World', 'Yemen', 'Zambia', 'Zimbabwe'],\n",
       "      dtype=object)"
      ]
     },
     "execution_count": 35,
     "metadata": {},
     "output_type": "execute_result"
    }
   ],
   "source": [
    "median_df['entities'].unique()"
   ]
  },
  {
   "cell_type": "code",
   "execution_count": 36,
   "metadata": {},
   "outputs": [
    {
     "data": {
      "application/vnd.plotly.v1+json": {
       "config": {
        "plotlyServerURL": "https://plot.ly"
       },
       "data": [
        {
         "hovertemplate": "Region=%{x}<br>Jahr=1950<br>Medianes Alter (Jahre)=%{y}<br>custom_text=%{text}<extra></extra>",
         "legendgroup": "Africa (UN)",
         "marker": {
          "color": "#636efa",
          "pattern": {
           "shape": ""
          }
         },
         "name": "Africa (UN)",
         "orientation": "v",
         "showlegend": true,
         "text": [
          "18.1"
         ],
         "textposition": "outside",
         "type": "bar",
         "x": [
          "Africa (UN)"
         ],
         "xaxis": "x",
         "y": {
          "bdata": "CKwcWmQbMkA=",
          "dtype": "f8"
         },
         "yaxis": "y"
        },
        {
         "hovertemplate": "Region=%{x}<br>Jahr=1950<br>Medianes Alter (Jahre)=%{y}<br>custom_text=%{text}<extra></extra>",
         "legendgroup": "Asia (UN)",
         "marker": {
          "color": "#EF553B",
          "pattern": {
           "shape": ""
          }
         },
         "name": "Asia (UN)",
         "orientation": "v",
         "showlegend": true,
         "text": [
          "20.6"
         ],
         "textposition": "outside",
         "type": "bar",
         "x": [
          "Asia (UN)"
         ],
         "xaxis": "x",
         "y": {
          "bdata": "5/up8dKNNEA=",
          "dtype": "f8"
         },
         "yaxis": "y"
        },
        {
         "hovertemplate": "Region=%{x}<br>Jahr=1950<br>Medianes Alter (Jahre)=%{y}<br>custom_text=%{text}<extra></extra>",
         "legendgroup": "Europe (UN)",
         "marker": {
          "color": "#00cc96",
          "pattern": {
           "shape": ""
          }
         },
         "name": "Europe (UN)",
         "orientation": "v",
         "showlegend": true,
         "text": [
          "27.6"
         ],
         "textposition": "outside",
         "type": "bar",
         "x": [
          "Europe (UN)"
         ],
         "xaxis": "x",
         "y": {
          "bdata": "d76fGi+dO0A=",
          "dtype": "f8"
         },
         "yaxis": "y"
        },
        {
         "hovertemplate": "Region=%{x}<br>Jahr=1950<br>Medianes Alter (Jahre)=%{y}<br>custom_text=%{text}<extra></extra>",
         "legendgroup": "United States",
         "marker": {
          "color": "#ab63fa",
          "pattern": {
           "shape": ""
          }
         },
         "name": "United States",
         "orientation": "v",
         "showlegend": true,
         "text": [
          "29.0"
         ],
         "textposition": "outside",
         "type": "bar",
         "x": [
          "United States"
         ],
         "xaxis": "x",
         "y": {
          "bdata": "g8DKoUX2PEA=",
          "dtype": "f8"
         },
         "yaxis": "y"
        }
       ],
       "frames": [
        {
         "data": [
          {
           "hovertemplate": "Region=%{x}<br>Jahr=1950<br>Medianes Alter (Jahre)=%{y}<br>custom_text=%{text}<extra></extra>",
           "legendgroup": "Africa (UN)",
           "marker": {
            "color": "#636efa",
            "pattern": {
             "shape": ""
            }
           },
           "name": "Africa (UN)",
           "orientation": "v",
           "showlegend": true,
           "text": [
            "18.1"
           ],
           "textposition": "auto",
           "type": "bar",
           "x": [
            "Africa (UN)"
           ],
           "xaxis": "x",
           "y": {
            "bdata": "CKwcWmQbMkA=",
            "dtype": "f8"
           },
           "yaxis": "y"
          },
          {
           "hovertemplate": "Region=%{x}<br>Jahr=1950<br>Medianes Alter (Jahre)=%{y}<br>custom_text=%{text}<extra></extra>",
           "legendgroup": "Asia (UN)",
           "marker": {
            "color": "#EF553B",
            "pattern": {
             "shape": ""
            }
           },
           "name": "Asia (UN)",
           "orientation": "v",
           "showlegend": true,
           "text": [
            "20.6"
           ],
           "textposition": "auto",
           "type": "bar",
           "x": [
            "Asia (UN)"
           ],
           "xaxis": "x",
           "y": {
            "bdata": "5/up8dKNNEA=",
            "dtype": "f8"
           },
           "yaxis": "y"
          },
          {
           "hovertemplate": "Region=%{x}<br>Jahr=1950<br>Medianes Alter (Jahre)=%{y}<br>custom_text=%{text}<extra></extra>",
           "legendgroup": "Europe (UN)",
           "marker": {
            "color": "#00cc96",
            "pattern": {
             "shape": ""
            }
           },
           "name": "Europe (UN)",
           "orientation": "v",
           "showlegend": true,
           "text": [
            "27.6"
           ],
           "textposition": "auto",
           "type": "bar",
           "x": [
            "Europe (UN)"
           ],
           "xaxis": "x",
           "y": {
            "bdata": "d76fGi+dO0A=",
            "dtype": "f8"
           },
           "yaxis": "y"
          },
          {
           "hovertemplate": "Region=%{x}<br>Jahr=1950<br>Medianes Alter (Jahre)=%{y}<br>custom_text=%{text}<extra></extra>",
           "legendgroup": "United States",
           "marker": {
            "color": "#ab63fa",
            "pattern": {
             "shape": ""
            }
           },
           "name": "United States",
           "orientation": "v",
           "showlegend": true,
           "text": [
            "29.0"
           ],
           "textposition": "auto",
           "type": "bar",
           "x": [
            "United States"
           ],
           "xaxis": "x",
           "y": {
            "bdata": "g8DKoUX2PEA=",
            "dtype": "f8"
           },
           "yaxis": "y"
          }
         ],
         "name": "1950"
        },
        {
         "data": [
          {
           "hovertemplate": "Region=%{x}<br>Jahr=1951<br>Medianes Alter (Jahre)=%{y}<br>custom_text=%{text}<extra></extra>",
           "legendgroup": "Africa (UN)",
           "marker": {
            "color": "#636efa",
            "pattern": {
             "shape": ""
            }
           },
           "name": "Africa (UN)",
           "orientation": "v",
           "showlegend": true,
           "text": [
            "18.1"
           ],
           "textposition": "auto",
           "type": "bar",
           "x": [
            "Africa (UN)"
           ],
           "xaxis": "x",
           "y": {
            "bdata": "tMh2vp8aMkA=",
            "dtype": "f8"
           },
           "yaxis": "y"
          },
          {
           "hovertemplate": "Region=%{x}<br>Jahr=1951<br>Medianes Alter (Jahre)=%{y}<br>custom_text=%{text}<extra></extra>",
           "legendgroup": "Asia (UN)",
           "marker": {
            "color": "#EF553B",
            "pattern": {
             "shape": ""
            }
           },
           "name": "Asia (UN)",
           "orientation": "v",
           "showlegend": true,
           "text": [
            "20.5"
           ],
           "textposition": "auto",
           "type": "bar",
           "x": [
            "Asia (UN)"
           ],
           "xaxis": "x",
           "y": {
            "bdata": "wcqhRbZzNEA=",
            "dtype": "f8"
           },
           "yaxis": "y"
          },
          {
           "hovertemplate": "Region=%{x}<br>Jahr=1951<br>Medianes Alter (Jahre)=%{y}<br>custom_text=%{text}<extra></extra>",
           "legendgroup": "Europe (UN)",
           "marker": {
            "color": "#00cc96",
            "pattern": {
             "shape": ""
            }
           },
           "name": "Europe (UN)",
           "orientation": "v",
           "showlegend": true,
           "text": [
            "27.7"
           ],
           "textposition": "auto",
           "type": "bar",
           "x": [
            "Europe (UN)"
           ],
           "xaxis": "x",
           "y": {
            "bdata": "exSuR+G6O0A=",
            "dtype": "f8"
           },
           "yaxis": "y"
          },
          {
           "hovertemplate": "Region=%{x}<br>Jahr=1951<br>Medianes Alter (Jahre)=%{y}<br>custom_text=%{text}<extra></extra>",
           "legendgroup": "United States",
           "marker": {
            "color": "#ab63fa",
            "pattern": {
             "shape": ""
            }
           },
           "name": "United States",
           "orientation": "v",
           "showlegend": true,
           "text": [
            "29.0"
           ],
           "textposition": "auto",
           "type": "bar",
           "x": [
            "United States"
           ],
           "xaxis": "x",
           "y": {
            "bdata": "ke18PzX+PEA=",
            "dtype": "f8"
           },
           "yaxis": "y"
          }
         ],
         "name": "1951"
        },
        {
         "data": [
          {
           "hovertemplate": "Region=%{x}<br>Jahr=1952<br>Medianes Alter (Jahre)=%{y}<br>custom_text=%{text}<extra></extra>",
           "legendgroup": "Africa (UN)",
           "marker": {
            "color": "#636efa",
            "pattern": {
             "shape": ""
            }
           },
           "name": "Africa (UN)",
           "orientation": "v",
           "showlegend": true,
           "text": [
            "18.1"
           ],
           "textposition": "auto",
           "type": "bar",
           "x": [
            "Africa (UN)"
           ],
           "xaxis": "x",
           "y": {
            "bdata": "g8DKoUUWMkA=",
            "dtype": "f8"
           },
           "yaxis": "y"
          },
          {
           "hovertemplate": "Region=%{x}<br>Jahr=1952<br>Medianes Alter (Jahre)=%{y}<br>custom_text=%{text}<extra></extra>",
           "legendgroup": "Asia (UN)",
           "marker": {
            "color": "#EF553B",
            "pattern": {
             "shape": ""
            }
           },
           "name": "Asia (UN)",
           "orientation": "v",
           "showlegend": true,
           "text": [
            "20.3"
           ],
           "textposition": "auto",
           "type": "bar",
           "x": [
            "Asia (UN)"
           ],
           "xaxis": "x",
           "y": {
            "bdata": "vHSTGARWNEA=",
            "dtype": "f8"
           },
           "yaxis": "y"
          },
          {
           "hovertemplate": "Region=%{x}<br>Jahr=1952<br>Medianes Alter (Jahre)=%{y}<br>custom_text=%{text}<extra></extra>",
           "legendgroup": "Europe (UN)",
           "marker": {
            "color": "#00cc96",
            "pattern": {
             "shape": ""
            }
           },
           "name": "Europe (UN)",
           "orientation": "v",
           "showlegend": true,
           "text": [
            "27.9"
           ],
           "textposition": "auto",
           "type": "bar",
           "x": [
            "Europe (UN)"
           ],
           "xaxis": "x",
           "y": {
            "bdata": "rBxaZDvfO0A=",
            "dtype": "f8"
           },
           "yaxis": "y"
          },
          {
           "hovertemplate": "Region=%{x}<br>Jahr=1952<br>Medianes Alter (Jahre)=%{y}<br>custom_text=%{text}<extra></extra>",
           "legendgroup": "United States",
           "marker": {
            "color": "#ab63fa",
            "pattern": {
             "shape": ""
            }
           },
           "name": "United States",
           "orientation": "v",
           "showlegend": true,
           "text": [
            "29.0"
           ],
           "textposition": "auto",
           "type": "bar",
           "x": [
            "United States"
           ],
           "xaxis": "x",
           "y": {
            "bdata": "hetRuB4FPUA=",
            "dtype": "f8"
           },
           "yaxis": "y"
          }
         ],
         "name": "1952"
        },
        {
         "data": [
          {
           "hovertemplate": "Region=%{x}<br>Jahr=1953<br>Medianes Alter (Jahre)=%{y}<br>custom_text=%{text}<extra></extra>",
           "legendgroup": "Africa (UN)",
           "marker": {
            "color": "#636efa",
            "pattern": {
             "shape": ""
            }
           },
           "name": "Africa (UN)",
           "orientation": "v",
           "showlegend": true,
           "text": [
            "18.1"
           ],
           "textposition": "auto",
           "type": "bar",
           "x": [
            "Africa (UN)"
           ],
           "xaxis": "x",
           "y": {
            "bdata": "WmQ7308NMkA=",
            "dtype": "f8"
           },
           "yaxis": "y"
          },
          {
           "hovertemplate": "Region=%{x}<br>Jahr=1953<br>Medianes Alter (Jahre)=%{y}<br>custom_text=%{text}<extra></extra>",
           "legendgroup": "Asia (UN)",
           "marker": {
            "color": "#EF553B",
            "pattern": {
             "shape": ""
            }
           },
           "name": "Asia (UN)",
           "orientation": "v",
           "showlegend": true,
           "text": [
            "20.2"
           ],
           "textposition": "auto",
           "type": "bar",
           "x": [
            "Asia (UN)"
           ],
           "xaxis": "x",
           "y": {
            "bdata": "2/l+arw0NEA=",
            "dtype": "f8"
           },
           "yaxis": "y"
          },
          {
           "hovertemplate": "Region=%{x}<br>Jahr=1953<br>Medianes Alter (Jahre)=%{y}<br>custom_text=%{text}<extra></extra>",
           "legendgroup": "Europe (UN)",
           "marker": {
            "color": "#00cc96",
            "pattern": {
             "shape": ""
            }
           },
           "name": "Europe (UN)",
           "orientation": "v",
           "showlegend": true,
           "text": [
            "28.0"
           ],
           "textposition": "auto",
           "type": "bar",
           "x": [
            "Europe (UN)"
           ],
           "xaxis": "x",
           "y": {
            "bdata": "gZVDi2wHPEA=",
            "dtype": "f8"
           },
           "yaxis": "y"
          },
          {
           "hovertemplate": "Region=%{x}<br>Jahr=1953<br>Medianes Alter (Jahre)=%{y}<br>custom_text=%{text}<extra></extra>",
           "legendgroup": "United States",
           "marker": {
            "color": "#ab63fa",
            "pattern": {
             "shape": ""
            }
           },
           "name": "United States",
           "orientation": "v",
           "showlegend": true,
           "text": [
            "29.0"
           ],
           "textposition": "auto",
           "type": "bar",
           "x": [
            "United States"
           ],
           "xaxis": "x",
           "y": {
            "bdata": "Di2yne8HPUA=",
            "dtype": "f8"
           },
           "yaxis": "y"
          }
         ],
         "name": "1953"
        },
        {
         "data": [
          {
           "hovertemplate": "Region=%{x}<br>Jahr=1954<br>Medianes Alter (Jahre)=%{y}<br>custom_text=%{text}<extra></extra>",
           "legendgroup": "Africa (UN)",
           "marker": {
            "color": "#636efa",
            "pattern": {
             "shape": ""
            }
           },
           "name": "Africa (UN)",
           "orientation": "v",
           "showlegend": true,
           "text": [
            "18.0"
           ],
           "textposition": "auto",
           "type": "bar",
           "x": [
            "Africa (UN)"
           ],
           "xaxis": "x",
           "y": {
            "bdata": "x0s3iUEAMkA=",
            "dtype": "f8"
           },
           "yaxis": "y"
          },
          {
           "hovertemplate": "Region=%{x}<br>Jahr=1954<br>Medianes Alter (Jahre)=%{y}<br>custom_text=%{text}<extra></extra>",
           "legendgroup": "Asia (UN)",
           "marker": {
            "color": "#EF553B",
            "pattern": {
             "shape": ""
            }
           },
           "name": "Asia (UN)",
           "orientation": "v",
           "showlegend": true,
           "text": [
            "20.1"
           ],
           "textposition": "auto",
           "type": "bar",
           "x": [
            "Asia (UN)"
           ],
           "xaxis": "x",
           "y": {
            "bdata": "Rrbz/dQYNEA=",
            "dtype": "f8"
           },
           "yaxis": "y"
          },
          {
           "hovertemplate": "Region=%{x}<br>Jahr=1954<br>Medianes Alter (Jahre)=%{y}<br>custom_text=%{text}<extra></extra>",
           "legendgroup": "Europe (UN)",
           "marker": {
            "color": "#00cc96",
            "pattern": {
             "shape": ""
            }
           },
           "name": "Europe (UN)",
           "orientation": "v",
           "showlegend": true,
           "text": [
            "28.2"
           ],
           "textposition": "auto",
           "type": "bar",
           "x": [
            "Europe (UN)"
           ],
           "xaxis": "x",
           "y": {
            "bdata": "xSCwcmgxPEA=",
            "dtype": "f8"
           },
           "yaxis": "y"
          },
          {
           "hovertemplate": "Region=%{x}<br>Jahr=1954<br>Medianes Alter (Jahre)=%{y}<br>custom_text=%{text}<extra></extra>",
           "legendgroup": "United States",
           "marker": {
            "color": "#ab63fa",
            "pattern": {
             "shape": ""
            }
           },
           "name": "United States",
           "orientation": "v",
           "showlegend": true,
           "text": [
            "29.0"
           ],
           "textposition": "auto",
           "type": "bar",
           "x": [
            "United States"
           ],
           "xaxis": "x",
           "y": {
            "bdata": "+FPjpZsEPUA=",
            "dtype": "f8"
           },
           "yaxis": "y"
          }
         ],
         "name": "1954"
        },
        {
         "data": [
          {
           "hovertemplate": "Region=%{x}<br>Jahr=1955<br>Medianes Alter (Jahre)=%{y}<br>custom_text=%{text}<extra></extra>",
           "legendgroup": "Africa (UN)",
           "marker": {
            "color": "#636efa",
            "pattern": {
             "shape": ""
            }
           },
           "name": "Africa (UN)",
           "orientation": "v",
           "showlegend": true,
           "text": [
            "17.9"
           ],
           "textposition": "auto",
           "type": "bar",
           "x": [
            "Africa (UN)"
           ],
           "xaxis": "x",
           "y": {
            "bdata": "46WbxCDwMUA=",
            "dtype": "f8"
           },
           "yaxis": "y"
          },
          {
           "hovertemplate": "Region=%{x}<br>Jahr=1955<br>Medianes Alter (Jahre)=%{y}<br>custom_text=%{text}<extra></extra>",
           "legendgroup": "Asia (UN)",
           "marker": {
            "color": "#EF553B",
            "pattern": {
             "shape": ""
            }
           },
           "name": "Asia (UN)",
           "orientation": "v",
           "showlegend": true,
           "text": [
            "20.0"
           ],
           "textposition": "auto",
           "type": "bar",
           "x": [
            "Asia (UN)"
           ],
           "xaxis": "x",
           "y": {
            "bdata": "sHJoke38M0A=",
            "dtype": "f8"
           },
           "yaxis": "y"
          },
          {
           "hovertemplate": "Region=%{x}<br>Jahr=1955<br>Medianes Alter (Jahre)=%{y}<br>custom_text=%{text}<extra></extra>",
           "legendgroup": "Europe (UN)",
           "marker": {
            "color": "#00cc96",
            "pattern": {
             "shape": ""
            }
           },
           "name": "Europe (UN)",
           "orientation": "v",
           "showlegend": true,
           "text": [
            "28.4"
           ],
           "textposition": "auto",
           "type": "bar",
           "x": [
            "Europe (UN)"
           ],
           "xaxis": "x",
           "y": {
            "bdata": "c2iR7XxfPEA=",
            "dtype": "f8"
           },
           "yaxis": "y"
          },
          {
           "hovertemplate": "Region=%{x}<br>Jahr=1955<br>Medianes Alter (Jahre)=%{y}<br>custom_text=%{text}<extra></extra>",
           "legendgroup": "United States",
           "marker": {
            "color": "#ab63fa",
            "pattern": {
             "shape": ""
            }
           },
           "name": "United States",
           "orientation": "v",
           "showlegend": true,
           "text": [
            "29.0"
           ],
           "textposition": "auto",
           "type": "bar",
           "x": [
            "United States"
           ],
           "xaxis": "x",
           "y": {
            "bdata": "z/dT46X7PEA=",
            "dtype": "f8"
           },
           "yaxis": "y"
          }
         ],
         "name": "1955"
        },
        {
         "data": [
          {
           "hovertemplate": "Region=%{x}<br>Jahr=1956<br>Medianes Alter (Jahre)=%{y}<br>custom_text=%{text}<extra></extra>",
           "legendgroup": "Africa (UN)",
           "marker": {
            "color": "#636efa",
            "pattern": {
             "shape": ""
            }
           },
           "name": "Africa (UN)",
           "orientation": "v",
           "showlegend": true,
           "text": [
            "17.9"
           ],
           "textposition": "auto",
           "type": "bar",
           "x": [
            "Africa (UN)"
           ],
           "xaxis": "x",
           "y": {
            "bdata": "y6FFtvPdMUA=",
            "dtype": "f8"
           },
           "yaxis": "y"
          },
          {
           "hovertemplate": "Region=%{x}<br>Jahr=1956<br>Medianes Alter (Jahre)=%{y}<br>custom_text=%{text}<extra></extra>",
           "legendgroup": "Asia (UN)",
           "marker": {
            "color": "#EF553B",
            "pattern": {
             "shape": ""
            }
           },
           "name": "Asia (UN)",
           "orientation": "v",
           "showlegend": true,
           "text": [
            "19.9"
           ],
           "textposition": "auto",
           "type": "bar",
           "x": [
            "Asia (UN)"
           ],
           "xaxis": "x",
           "y": {
            "bdata": "UI2XbhLjM0A=",
            "dtype": "f8"
           },
           "yaxis": "y"
          },
          {
           "hovertemplate": "Region=%{x}<br>Jahr=1956<br>Medianes Alter (Jahre)=%{y}<br>custom_text=%{text}<extra></extra>",
           "legendgroup": "Europe (UN)",
           "marker": {
            "color": "#00cc96",
            "pattern": {
             "shape": ""
            }
           },
           "name": "Europe (UN)",
           "orientation": "v",
           "showlegend": true,
           "text": [
            "28.6"
           ],
           "textposition": "auto",
           "type": "bar",
           "x": [
            "Europe (UN)"
           ],
           "xaxis": "x",
           "y": {
            "bdata": "yXa+nxqPPEA=",
            "dtype": "f8"
           },
           "yaxis": "y"
          },
          {
           "hovertemplate": "Region=%{x}<br>Jahr=1956<br>Medianes Alter (Jahre)=%{y}<br>custom_text=%{text}<extra></extra>",
           "legendgroup": "United States",
           "marker": {
            "color": "#ab63fa",
            "pattern": {
             "shape": ""
            }
           },
           "name": "United States",
           "orientation": "v",
           "showlegend": true,
           "text": [
            "28.9"
           ],
           "textposition": "auto",
           "type": "bar",
           "x": [
            "United States"
           ],
           "xaxis": "x",
           "y": {
            "bdata": "KVyPwvXoPEA=",
            "dtype": "f8"
           },
           "yaxis": "y"
          }
         ],
         "name": "1956"
        },
        {
         "data": [
          {
           "hovertemplate": "Region=%{x}<br>Jahr=1957<br>Medianes Alter (Jahre)=%{y}<br>custom_text=%{text}<extra></extra>",
           "legendgroup": "Africa (UN)",
           "marker": {
            "color": "#636efa",
            "pattern": {
             "shape": ""
            }
           },
           "name": "Africa (UN)",
           "orientation": "v",
           "showlegend": true,
           "text": [
            "17.8"
           ],
           "textposition": "auto",
           "type": "bar",
           "x": [
            "Africa (UN)"
           ],
           "xaxis": "x",
           "y": {
            "bdata": "fT81XrrJMUA=",
            "dtype": "f8"
           },
           "yaxis": "y"
          },
          {
           "hovertemplate": "Region=%{x}<br>Jahr=1957<br>Medianes Alter (Jahre)=%{y}<br>custom_text=%{text}<extra></extra>",
           "legendgroup": "Asia (UN)",
           "marker": {
            "color": "#EF553B",
            "pattern": {
             "shape": ""
            }
           },
           "name": "Asia (UN)",
           "orientation": "v",
           "showlegend": true,
           "text": [
            "19.8"
           ],
           "textposition": "auto",
           "type": "bar",
           "x": [
            "Asia (UN)"
           ],
           "xaxis": "x",
           "y": {
            "bdata": "TDeJQWDFM0A=",
            "dtype": "f8"
           },
           "yaxis": "y"
          },
          {
           "hovertemplate": "Region=%{x}<br>Jahr=1957<br>Medianes Alter (Jahre)=%{y}<br>custom_text=%{text}<extra></extra>",
           "legendgroup": "Europe (UN)",
           "marker": {
            "color": "#00cc96",
            "pattern": {
             "shape": ""
            }
           },
           "name": "Europe (UN)",
           "orientation": "v",
           "showlegend": true,
           "text": [
            "28.8"
           ],
           "textposition": "auto",
           "type": "bar",
           "x": [
            "Europe (UN)"
           ],
           "xaxis": "x",
           "y": {
            "bdata": "NV66SQzCPEA=",
            "dtype": "f8"
           },
           "yaxis": "y"
          },
          {
           "hovertemplate": "Region=%{x}<br>Jahr=1957<br>Medianes Alter (Jahre)=%{y}<br>custom_text=%{text}<extra></extra>",
           "legendgroup": "United States",
           "marker": {
            "color": "#ab63fa",
            "pattern": {
             "shape": ""
            }
           },
           "name": "United States",
           "orientation": "v",
           "showlegend": true,
           "text": [
            "28.8"
           ],
           "textposition": "auto",
           "type": "bar",
           "x": [
            "United States"
           ],
           "xaxis": "x",
           "y": {
            "bdata": "WmQ730/NPEA=",
            "dtype": "f8"
           },
           "yaxis": "y"
          }
         ],
         "name": "1957"
        },
        {
         "data": [
          {
           "hovertemplate": "Region=%{x}<br>Jahr=1958<br>Medianes Alter (Jahre)=%{y}<br>custom_text=%{text}<extra></extra>",
           "legendgroup": "Africa (UN)",
           "marker": {
            "color": "#636efa",
            "pattern": {
             "shape": ""
            }
           },
           "name": "Africa (UN)",
           "orientation": "v",
           "showlegend": true,
           "text": [
            "17.7"
           ],
           "textposition": "auto",
           "type": "bar",
           "x": [
            "Africa (UN)"
           ],
           "xaxis": "x",
           "y": {
            "bdata": "UrgeheuxMUA=",
            "dtype": "f8"
           },
           "yaxis": "y"
          },
          {
           "hovertemplate": "Region=%{x}<br>Jahr=1958<br>Medianes Alter (Jahre)=%{y}<br>custom_text=%{text}<extra></extra>",
           "legendgroup": "Asia (UN)",
           "marker": {
            "color": "#EF553B",
            "pattern": {
             "shape": ""
            }
           },
           "name": "Asia (UN)",
           "orientation": "v",
           "showlegend": true,
           "text": [
            "19.6"
           ],
           "textposition": "auto",
           "type": "bar",
           "x": [
            "Asia (UN)"
           ],
           "xaxis": "x",
           "y": {
            "bdata": "2c73U+OlM0A=",
            "dtype": "f8"
           },
           "yaxis": "y"
          },
          {
           "hovertemplate": "Region=%{x}<br>Jahr=1958<br>Medianes Alter (Jahre)=%{y}<br>custom_text=%{text}<extra></extra>",
           "legendgroup": "Europe (UN)",
           "marker": {
            "color": "#00cc96",
            "pattern": {
             "shape": ""
            }
           },
           "name": "Europe (UN)",
           "orientation": "v",
           "showlegend": true,
           "text": [
            "28.9"
           ],
           "textposition": "auto",
           "type": "bar",
           "x": [
            "Europe (UN)"
           ],
           "xaxis": "x",
           "y": {
            "bdata": "AiuHFtnuPEA=",
            "dtype": "f8"
           },
           "yaxis": "y"
          },
          {
           "hovertemplate": "Region=%{x}<br>Jahr=1958<br>Medianes Alter (Jahre)=%{y}<br>custom_text=%{text}<extra></extra>",
           "legendgroup": "United States",
           "marker": {
            "color": "#ab63fa",
            "pattern": {
             "shape": ""
            }
           },
           "name": "United States",
           "orientation": "v",
           "showlegend": true,
           "text": [
            "28.7"
           ],
           "textposition": "auto",
           "type": "bar",
           "x": [
            "United States"
           ],
           "xaxis": "x",
           "y": {
            "bdata": "Di2yne+nPEA=",
            "dtype": "f8"
           },
           "yaxis": "y"
          }
         ],
         "name": "1958"
        },
        {
         "data": [
          {
           "hovertemplate": "Region=%{x}<br>Jahr=1959<br>Medianes Alter (Jahre)=%{y}<br>custom_text=%{text}<extra></extra>",
           "legendgroup": "Africa (UN)",
           "marker": {
            "color": "#636efa",
            "pattern": {
             "shape": ""
            }
           },
           "name": "Africa (UN)",
           "orientation": "v",
           "showlegend": true,
           "text": [
            "17.6"
           ],
           "textposition": "auto",
           "type": "bar",
           "x": [
            "Africa (UN)"
           ],
           "xaxis": "x",
           "y": {
            "bdata": "16NwPQqXMUA=",
            "dtype": "f8"
           },
           "yaxis": "y"
          },
          {
           "hovertemplate": "Region=%{x}<br>Jahr=1959<br>Medianes Alter (Jahre)=%{y}<br>custom_text=%{text}<extra></extra>",
           "legendgroup": "Asia (UN)",
           "marker": {
            "color": "#EF553B",
            "pattern": {
             "shape": ""
            }
           },
           "name": "Asia (UN)",
           "orientation": "v",
           "showlegend": true,
           "text": [
            "19.6"
           ],
           "textposition": "auto",
           "type": "bar",
           "x": [
            "Asia (UN)"
           ],
           "xaxis": "x",
           "y": {
            "bdata": "2/l+aryUM0A=",
            "dtype": "f8"
           },
           "yaxis": "y"
          },
          {
           "hovertemplate": "Region=%{x}<br>Jahr=1959<br>Medianes Alter (Jahre)=%{y}<br>custom_text=%{text}<extra></extra>",
           "legendgroup": "Europe (UN)",
           "marker": {
            "color": "#00cc96",
            "pattern": {
             "shape": ""
            }
           },
           "name": "Europe (UN)",
           "orientation": "v",
           "showlegend": true,
           "text": [
            "29.1"
           ],
           "textposition": "auto",
           "type": "bar",
           "x": [
            "Europe (UN)"
           ],
           "xaxis": "x",
           "y": {
            "bdata": "Rrbz/dQYPUA=",
            "dtype": "f8"
           },
           "yaxis": "y"
          },
          {
           "hovertemplate": "Region=%{x}<br>Jahr=1959<br>Medianes Alter (Jahre)=%{y}<br>custom_text=%{text}<extra></extra>",
           "legendgroup": "United States",
           "marker": {
            "color": "#ab63fa",
            "pattern": {
             "shape": ""
            }
           },
           "name": "United States",
           "orientation": "v",
           "showlegend": true,
           "text": [
            "28.5"
           ],
           "textposition": "auto",
           "type": "bar",
           "x": [
            "United States"
           ],
           "xaxis": "x",
           "y": {
            "bdata": "DAIrhxZ5PEA=",
            "dtype": "f8"
           },
           "yaxis": "y"
          }
         ],
         "name": "1959"
        },
        {
         "data": [
          {
           "hovertemplate": "Region=%{x}<br>Jahr=1960<br>Medianes Alter (Jahre)=%{y}<br>custom_text=%{text}<extra></extra>",
           "legendgroup": "Africa (UN)",
           "marker": {
            "color": "#636efa",
            "pattern": {
             "shape": ""
            }
           },
           "name": "Africa (UN)",
           "orientation": "v",
           "showlegend": true,
           "text": [
            "17.5"
           ],
           "textposition": "auto",
           "type": "bar",
           "x": [
            "Africa (UN)"
           ],
           "xaxis": "x",
           "y": {
            "bdata": "I9v5fmp8MUA=",
            "dtype": "f8"
           },
           "yaxis": "y"
          },
          {
           "hovertemplate": "Region=%{x}<br>Jahr=1960<br>Medianes Alter (Jahre)=%{y}<br>custom_text=%{text}<extra></extra>",
           "legendgroup": "Asia (UN)",
           "marker": {
            "color": "#EF553B",
            "pattern": {
             "shape": ""
            }
           },
           "name": "Asia (UN)",
           "orientation": "v",
           "showlegend": true,
           "text": [
            "19.6"
           ],
           "textposition": "auto",
           "type": "bar",
           "x": [
            "Asia (UN)"
           ],
           "xaxis": "x",
           "y": {
            "bdata": "Vg4tsp2PM0A=",
            "dtype": "f8"
           },
           "yaxis": "y"
          },
          {
           "hovertemplate": "Region=%{x}<br>Jahr=1960<br>Medianes Alter (Jahre)=%{y}<br>custom_text=%{text}<extra></extra>",
           "legendgroup": "Europe (UN)",
           "marker": {
            "color": "#00cc96",
            "pattern": {
             "shape": ""
            }
           },
           "name": "Europe (UN)",
           "orientation": "v",
           "showlegend": true,
           "text": [
            "29.3"
           ],
           "textposition": "auto",
           "type": "bar",
           "x": [
            "Europe (UN)"
           ],
           "xaxis": "x",
           "y": {
            "bdata": "8KfGSzdJPUA=",
            "dtype": "f8"
           },
           "yaxis": "y"
          },
          {
           "hovertemplate": "Region=%{x}<br>Jahr=1960<br>Medianes Alter (Jahre)=%{y}<br>custom_text=%{text}<extra></extra>",
           "legendgroup": "United States",
           "marker": {
            "color": "#ab63fa",
            "pattern": {
             "shape": ""
            }
           },
           "name": "United States",
           "orientation": "v",
           "showlegend": true,
           "text": [
            "28.3"
           ],
           "textposition": "auto",
           "type": "bar",
           "x": [
            "United States"
           ],
           "xaxis": "x",
           "y": {
            "bdata": "NV66SQxCPEA=",
            "dtype": "f8"
           },
           "yaxis": "y"
          }
         ],
         "name": "1960"
        },
        {
         "data": [
          {
           "hovertemplate": "Region=%{x}<br>Jahr=1961<br>Medianes Alter (Jahre)=%{y}<br>custom_text=%{text}<extra></extra>",
           "legendgroup": "Africa (UN)",
           "marker": {
            "color": "#636efa",
            "pattern": {
             "shape": ""
            }
           },
           "name": "Africa (UN)",
           "orientation": "v",
           "showlegend": true,
           "text": [
            "17.4"
           ],
           "textposition": "auto",
           "type": "bar",
           "x": [
            "Africa (UN)"
           ],
           "xaxis": "x",
           "y": {
            "bdata": "MQisHFpkMUA=",
            "dtype": "f8"
           },
           "yaxis": "y"
          },
          {
           "hovertemplate": "Region=%{x}<br>Jahr=1961<br>Medianes Alter (Jahre)=%{y}<br>custom_text=%{text}<extra></extra>",
           "legendgroup": "Asia (UN)",
           "marker": {
            "color": "#EF553B",
            "pattern": {
             "shape": ""
            }
           },
           "name": "Asia (UN)",
           "orientation": "v",
           "showlegend": true,
           "text": [
            "19.6"
           ],
           "textposition": "auto",
           "type": "bar",
           "x": [
            "Asia (UN)"
           ],
           "xaxis": "x",
           "y": {
            "bdata": "yXa+nxqPM0A=",
            "dtype": "f8"
           },
           "yaxis": "y"
          },
          {
           "hovertemplate": "Region=%{x}<br>Jahr=1961<br>Medianes Alter (Jahre)=%{y}<br>custom_text=%{text}<extra></extra>",
           "legendgroup": "Europe (UN)",
           "marker": {
            "color": "#00cc96",
            "pattern": {
             "shape": ""
            }
           },
           "name": "Europe (UN)",
           "orientation": "v",
           "showlegend": true,
           "text": [
            "29.5"
           ],
           "textposition": "auto",
           "type": "bar",
           "x": [
            "Europe (UN)"
           ],
           "xaxis": "x",
           "y": {
            "bdata": "001iEFh5PUA=",
            "dtype": "f8"
           },
           "yaxis": "y"
          },
          {
           "hovertemplate": "Region=%{x}<br>Jahr=1961<br>Medianes Alter (Jahre)=%{y}<br>custom_text=%{text}<extra></extra>",
           "legendgroup": "United States",
           "marker": {
            "color": "#ab63fa",
            "pattern": {
             "shape": ""
            }
           },
           "name": "United States",
           "orientation": "v",
           "showlegend": true,
           "text": [
            "28.0"
           ],
           "textposition": "auto",
           "type": "bar",
           "x": [
            "United States"
           ],
           "xaxis": "x",
           "y": {
            "bdata": "ObTIdr7/O0A=",
            "dtype": "f8"
           },
           "yaxis": "y"
          }
         ],
         "name": "1961"
        },
        {
         "data": [
          {
           "hovertemplate": "Region=%{x}<br>Jahr=1962<br>Medianes Alter (Jahre)=%{y}<br>custom_text=%{text}<extra></extra>",
           "legendgroup": "Africa (UN)",
           "marker": {
            "color": "#636efa",
            "pattern": {
             "shape": ""
            }
           },
           "name": "Africa (UN)",
           "orientation": "v",
           "showlegend": true,
           "text": [
            "17.3"
           ],
           "textposition": "auto",
           "type": "bar",
           "x": [
            "Africa (UN)"
           ],
           "xaxis": "x",
           "y": {
            "bdata": "AiuHFtlOMUA=",
            "dtype": "f8"
           },
           "yaxis": "y"
          },
          {
           "hovertemplate": "Region=%{x}<br>Jahr=1962<br>Medianes Alter (Jahre)=%{y}<br>custom_text=%{text}<extra></extra>",
           "legendgroup": "Asia (UN)",
           "marker": {
            "color": "#EF553B",
            "pattern": {
             "shape": ""
            }
           },
           "name": "Asia (UN)",
           "orientation": "v",
           "showlegend": true,
           "text": [
            "19.5"
           ],
           "textposition": "auto",
           "type": "bar",
           "x": [
            "Asia (UN)"
           ],
           "xaxis": "x",
           "y": {
            "bdata": "vHSTGAR2M0A=",
            "dtype": "f8"
           },
           "yaxis": "y"
          },
          {
           "hovertemplate": "Region=%{x}<br>Jahr=1962<br>Medianes Alter (Jahre)=%{y}<br>custom_text=%{text}<extra></extra>",
           "legendgroup": "Europe (UN)",
           "marker": {
            "color": "#00cc96",
            "pattern": {
             "shape": ""
            }
           },
           "name": "Europe (UN)",
           "orientation": "v",
           "showlegend": true,
           "text": [
            "29.6"
           ],
           "textposition": "auto",
           "type": "bar",
           "x": [
            "Europe (UN)"
           ],
           "xaxis": "x",
           "y": {
            "bdata": "w/UoXI+iPUA=",
            "dtype": "f8"
           },
           "yaxis": "y"
          },
          {
           "hovertemplate": "Region=%{x}<br>Jahr=1962<br>Medianes Alter (Jahre)=%{y}<br>custom_text=%{text}<extra></extra>",
           "legendgroup": "United States",
           "marker": {
            "color": "#ab63fa",
            "pattern": {
             "shape": ""
            }
           },
           "name": "United States",
           "orientation": "v",
           "showlegend": true,
           "text": [
            "27.7"
           ],
           "textposition": "auto",
           "type": "bar",
           "x": [
            "United States"
           ],
           "xaxis": "x",
           "y": {
            "bdata": "8tJNYhC4O0A=",
            "dtype": "f8"
           },
           "yaxis": "y"
          }
         ],
         "name": "1962"
        },
        {
         "data": [
          {
           "hovertemplate": "Region=%{x}<br>Jahr=1963<br>Medianes Alter (Jahre)=%{y}<br>custom_text=%{text}<extra></extra>",
           "legendgroup": "Africa (UN)",
           "marker": {
            "color": "#636efa",
            "pattern": {
             "shape": ""
            }
           },
           "name": "Africa (UN)",
           "orientation": "v",
           "showlegend": true,
           "text": [
            "17.2"
           ],
           "textposition": "auto",
           "type": "bar",
           "x": [
            "Africa (UN)"
           ],
           "xaxis": "x",
           "y": {
            "bdata": "QmDl0CI7MUA=",
            "dtype": "f8"
           },
           "yaxis": "y"
          },
          {
           "hovertemplate": "Region=%{x}<br>Jahr=1963<br>Medianes Alter (Jahre)=%{y}<br>custom_text=%{text}<extra></extra>",
           "legendgroup": "Asia (UN)",
           "marker": {
            "color": "#EF553B",
            "pattern": {
             "shape": ""
            }
           },
           "name": "Asia (UN)",
           "orientation": "v",
           "showlegend": true,
           "text": [
            "19.2"
           ],
           "textposition": "auto",
           "type": "bar",
           "x": [
            "Asia (UN)"
           ],
           "xaxis": "x",
           "y": {
            "bdata": "hxbZzvczM0A=",
            "dtype": "f8"
           },
           "yaxis": "y"
          },
          {
           "hovertemplate": "Region=%{x}<br>Jahr=1963<br>Medianes Alter (Jahre)=%{y}<br>custom_text=%{text}<extra></extra>",
           "legendgroup": "Europe (UN)",
           "marker": {
            "color": "#00cc96",
            "pattern": {
             "shape": ""
            }
           },
           "name": "Europe (UN)",
           "orientation": "v",
           "showlegend": true,
           "text": [
            "29.7"
           ],
           "textposition": "auto",
           "type": "bar",
           "x": [
            "Europe (UN)"
           ],
           "xaxis": "x",
           "y": {
            "bdata": "y6FFtvO9PUA=",
            "dtype": "f8"
           },
           "yaxis": "y"
          },
          {
           "hovertemplate": "Region=%{x}<br>Jahr=1963<br>Medianes Alter (Jahre)=%{y}<br>custom_text=%{text}<extra></extra>",
           "legendgroup": "United States",
           "marker": {
            "color": "#ab63fa",
            "pattern": {
             "shape": ""
            }
           },
           "name": "United States",
           "orientation": "v",
           "showlegend": true,
           "text": [
            "27.5"
           ],
           "textposition": "auto",
           "type": "bar",
           "x": [
            "United States"
           ],
           "xaxis": "x",
           "y": {
            "bdata": "vHSTGAR2O0A=",
            "dtype": "f8"
           },
           "yaxis": "y"
          }
         ],
         "name": "1963"
        },
        {
         "data": [
          {
           "hovertemplate": "Region=%{x}<br>Jahr=1964<br>Medianes Alter (Jahre)=%{y}<br>custom_text=%{text}<extra></extra>",
           "legendgroup": "Africa (UN)",
           "marker": {
            "color": "#636efa",
            "pattern": {
             "shape": ""
            }
           },
           "name": "Africa (UN)",
           "orientation": "v",
           "showlegend": true,
           "text": [
            "17.2"
           ],
           "textposition": "auto",
           "type": "bar",
           "x": [
            "Africa (UN)"
           ],
           "xaxis": "x",
           "y": {
            "bdata": "RIts5/spMUA=",
            "dtype": "f8"
           },
           "yaxis": "y"
          },
          {
           "hovertemplate": "Region=%{x}<br>Jahr=1964<br>Medianes Alter (Jahre)=%{y}<br>custom_text=%{text}<extra></extra>",
           "legendgroup": "Asia (UN)",
           "marker": {
            "color": "#EF553B",
            "pattern": {
             "shape": ""
            }
           },
           "name": "Asia (UN)",
           "orientation": "v",
           "showlegend": true,
           "text": [
            "18.9"
           ],
           "textposition": "auto",
           "type": "bar",
           "x": [
            "Asia (UN)"
           ],
           "xaxis": "x",
           "y": {
            "bdata": "PzVeuknsMkA=",
            "dtype": "f8"
           },
           "yaxis": "y"
          },
          {
           "hovertemplate": "Region=%{x}<br>Jahr=1964<br>Medianes Alter (Jahre)=%{y}<br>custom_text=%{text}<extra></extra>",
           "legendgroup": "Europe (UN)",
           "marker": {
            "color": "#00cc96",
            "pattern": {
             "shape": ""
            }
           },
           "name": "Europe (UN)",
           "orientation": "v",
           "showlegend": true,
           "text": [
            "29.8"
           ],
           "textposition": "auto",
           "type": "bar",
           "x": [
            "Europe (UN)"
           ],
           "xaxis": "x",
           "y": {
            "bdata": "wcqhRbbTPUA=",
            "dtype": "f8"
           },
           "yaxis": "y"
          },
          {
           "hovertemplate": "Region=%{x}<br>Jahr=1964<br>Medianes Alter (Jahre)=%{y}<br>custom_text=%{text}<extra></extra>",
           "legendgroup": "United States",
           "marker": {
            "color": "#ab63fa",
            "pattern": {
             "shape": ""
            }
           },
           "name": "United States",
           "orientation": "v",
           "showlegend": true,
           "text": [
            "27.2"
           ],
           "textposition": "auto",
           "type": "bar",
           "x": [
            "United States"
           ],
           "xaxis": "x",
           "y": {
            "bdata": "exSuR+E6O0A=",
            "dtype": "f8"
           },
           "yaxis": "y"
          }
         ],
         "name": "1964"
        },
        {
         "data": [
          {
           "hovertemplate": "Region=%{x}<br>Jahr=1965<br>Medianes Alter (Jahre)=%{y}<br>custom_text=%{text}<extra></extra>",
           "legendgroup": "Africa (UN)",
           "marker": {
            "color": "#636efa",
            "pattern": {
             "shape": ""
            }
           },
           "name": "Africa (UN)",
           "orientation": "v",
           "showlegend": true,
           "text": [
            "17.1"
           ],
           "textposition": "auto",
           "type": "bar",
           "x": [
            "Africa (UN)"
           ],
           "xaxis": "x",
           "y": {
            "bdata": "YOXQItsZMUA=",
            "dtype": "f8"
           },
           "yaxis": "y"
          },
          {
           "hovertemplate": "Region=%{x}<br>Jahr=1965<br>Medianes Alter (Jahre)=%{y}<br>custom_text=%{text}<extra></extra>",
           "legendgroup": "Asia (UN)",
           "marker": {
            "color": "#EF553B",
            "pattern": {
             "shape": ""
            }
           },
           "name": "Asia (UN)",
           "orientation": "v",
           "showlegend": true,
           "text": [
            "18.7"
           ],
           "textposition": "auto",
           "type": "bar",
           "x": [
            "Asia (UN)"
           ],
           "xaxis": "x",
           "y": {
            "bdata": "i2zn+6mxMkA=",
            "dtype": "f8"
           },
           "yaxis": "y"
          },
          {
           "hovertemplate": "Region=%{x}<br>Jahr=1965<br>Medianes Alter (Jahre)=%{y}<br>custom_text=%{text}<extra></extra>",
           "legendgroup": "Europe (UN)",
           "marker": {
            "color": "#00cc96",
            "pattern": {
             "shape": ""
            }
           },
           "name": "Europe (UN)",
           "orientation": "v",
           "showlegend": true,
           "text": [
            "29.9"
           ],
           "textposition": "auto",
           "type": "bar",
           "x": [
            "Europe (UN)"
           ],
           "xaxis": "x",
           "y": {
            "bdata": "rkfhehTuPUA=",
            "dtype": "f8"
           },
           "yaxis": "y"
          },
          {
           "hovertemplate": "Region=%{x}<br>Jahr=1965<br>Medianes Alter (Jahre)=%{y}<br>custom_text=%{text}<extra></extra>",
           "legendgroup": "United States",
           "marker": {
            "color": "#ab63fa",
            "pattern": {
             "shape": ""
            }
           },
           "name": "United States",
           "orientation": "v",
           "showlegend": true,
           "text": [
            "27.0"
           ],
           "textposition": "auto",
           "type": "bar",
           "x": [
            "United States"
           ],
           "xaxis": "x",
           "y": {
            "bdata": "8KfGSzcJO0A=",
            "dtype": "f8"
           },
           "yaxis": "y"
          }
         ],
         "name": "1965"
        },
        {
         "data": [
          {
           "hovertemplate": "Region=%{x}<br>Jahr=1966<br>Medianes Alter (Jahre)=%{y}<br>custom_text=%{text}<extra></extra>",
           "legendgroup": "Africa (UN)",
           "marker": {
            "color": "#636efa",
            "pattern": {
             "shape": ""
            }
           },
           "name": "Africa (UN)",
           "orientation": "v",
           "showlegend": true,
           "text": [
            "17.0"
           ],
           "textposition": "auto",
           "type": "bar",
           "x": [
            "Africa (UN)"
           ],
           "xaxis": "x",
           "y": {
            "bdata": "LbKd76cGMUA=",
            "dtype": "f8"
           },
           "yaxis": "y"
          },
          {
           "hovertemplate": "Region=%{x}<br>Jahr=1966<br>Medianes Alter (Jahre)=%{y}<br>custom_text=%{text}<extra></extra>",
           "legendgroup": "Asia (UN)",
           "marker": {
            "color": "#EF553B",
            "pattern": {
             "shape": ""
            }
           },
           "name": "Asia (UN)",
           "orientation": "v",
           "showlegend": true,
           "text": [
            "18.5"
           ],
           "textposition": "auto",
           "type": "bar",
           "x": [
            "Asia (UN)"
           ],
           "xaxis": "x",
           "y": {
            "bdata": "8KfGSzeJMkA=",
            "dtype": "f8"
           },
           "yaxis": "y"
          },
          {
           "hovertemplate": "Region=%{x}<br>Jahr=1966<br>Medianes Alter (Jahre)=%{y}<br>custom_text=%{text}<extra></extra>",
           "legendgroup": "Europe (UN)",
           "marker": {
            "color": "#00cc96",
            "pattern": {
             "shape": ""
            }
           },
           "name": "Europe (UN)",
           "orientation": "v",
           "showlegend": true,
           "text": [
            "30.0"
           ],
           "textposition": "auto",
           "type": "bar",
           "x": [
            "Europe (UN)"
           ],
           "xaxis": "x",
           "y": {
            "bdata": "JQaBlUMLPkA=",
            "dtype": "f8"
           },
           "yaxis": "y"
          },
          {
           "hovertemplate": "Region=%{x}<br>Jahr=1966<br>Medianes Alter (Jahre)=%{y}<br>custom_text=%{text}<extra></extra>",
           "legendgroup": "United States",
           "marker": {
            "color": "#ab63fa",
            "pattern": {
             "shape": ""
            }
           },
           "name": "United States",
           "orientation": "v",
           "showlegend": true,
           "text": [
            "26.9"
           ],
           "textposition": "auto",
           "type": "bar",
           "x": [
            "United States"
           ],
           "xaxis": "x",
           "y": {
            "bdata": "9P3UeOnmOkA=",
            "dtype": "f8"
           },
           "yaxis": "y"
          }
         ],
         "name": "1966"
        },
        {
         "data": [
          {
           "hovertemplate": "Region=%{x}<br>Jahr=1967<br>Medianes Alter (Jahre)=%{y}<br>custom_text=%{text}<extra></extra>",
           "legendgroup": "Africa (UN)",
           "marker": {
            "color": "#636efa",
            "pattern": {
             "shape": ""
            }
           },
           "name": "Africa (UN)",
           "orientation": "v",
           "showlegend": true,
           "text": [
            "16.9"
           ],
           "textposition": "auto",
           "type": "bar",
           "x": [
            "Africa (UN)"
           ],
           "xaxis": "x",
           "y": {
            "bdata": "xSCwcmjxMEA=",
            "dtype": "f8"
           },
           "yaxis": "y"
          },
          {
           "hovertemplate": "Region=%{x}<br>Jahr=1967<br>Medianes Alter (Jahre)=%{y}<br>custom_text=%{text}<extra></extra>",
           "legendgroup": "Asia (UN)",
           "marker": {
            "color": "#EF553B",
            "pattern": {
             "shape": ""
            }
           },
           "name": "Asia (UN)",
           "orientation": "v",
           "showlegend": true,
           "text": [
            "18.4"
           ],
           "textposition": "auto",
           "type": "bar",
           "x": [
            "Asia (UN)"
           ],
           "xaxis": "x",
           "y": {
            "bdata": "GQRWDi1yMkA=",
            "dtype": "f8"
           },
           "yaxis": "y"
          },
          {
           "hovertemplate": "Region=%{x}<br>Jahr=1967<br>Medianes Alter (Jahre)=%{y}<br>custom_text=%{text}<extra></extra>",
           "legendgroup": "Europe (UN)",
           "marker": {
            "color": "#00cc96",
            "pattern": {
             "shape": ""
            }
           },
           "name": "Europe (UN)",
           "orientation": "v",
           "showlegend": true,
           "text": [
            "30.2"
           ],
           "textposition": "auto",
           "type": "bar",
           "x": [
            "Europe (UN)"
           ],
           "xaxis": "x",
           "y": {
            "bdata": "GQRWDi0yPkA=",
            "dtype": "f8"
           },
           "yaxis": "y"
          },
          {
           "hovertemplate": "Region=%{x}<br>Jahr=1967<br>Medianes Alter (Jahre)=%{y}<br>custom_text=%{text}<extra></extra>",
           "legendgroup": "United States",
           "marker": {
            "color": "#ab63fa",
            "pattern": {
             "shape": ""
            }
           },
           "name": "United States",
           "orientation": "v",
           "showlegend": true,
           "text": [
            "26.8"
           ],
           "textposition": "auto",
           "type": "bar",
           "x": [
            "United States"
           ],
           "xaxis": "x",
           "y": {
            "bdata": "kxgEVg7NOkA=",
            "dtype": "f8"
           },
           "yaxis": "y"
          }
         ],
         "name": "1967"
        },
        {
         "data": [
          {
           "hovertemplate": "Region=%{x}<br>Jahr=1968<br>Medianes Alter (Jahre)=%{y}<br>custom_text=%{text}<extra></extra>",
           "legendgroup": "Africa (UN)",
           "marker": {
            "color": "#636efa",
            "pattern": {
             "shape": ""
            }
           },
           "name": "Africa (UN)",
           "orientation": "v",
           "showlegend": true,
           "text": [
            "16.9"
           ],
           "textposition": "auto",
           "type": "bar",
           "x": [
            "Africa (UN)"
           ],
           "xaxis": "x",
           "y": {
            "bdata": "BFYOLbLdMEA=",
            "dtype": "f8"
           },
           "yaxis": "y"
          },
          {
           "hovertemplate": "Region=%{x}<br>Jahr=1968<br>Medianes Alter (Jahre)=%{y}<br>custom_text=%{text}<extra></extra>",
           "legendgroup": "Asia (UN)",
           "marker": {
            "color": "#EF553B",
            "pattern": {
             "shape": ""
            }
           },
           "name": "Asia (UN)",
           "orientation": "v",
           "showlegend": true,
           "text": [
            "18.4"
           ],
           "textposition": "auto",
           "type": "bar",
           "x": [
            "Asia (UN)"
           ],
           "xaxis": "x",
           "y": {
            "bdata": "AAAAAABgMkA=",
            "dtype": "f8"
           },
           "yaxis": "y"
          },
          {
           "hovertemplate": "Region=%{x}<br>Jahr=1968<br>Medianes Alter (Jahre)=%{y}<br>custom_text=%{text}<extra></extra>",
           "legendgroup": "Europe (UN)",
           "marker": {
            "color": "#00cc96",
            "pattern": {
             "shape": ""
            }
           },
           "name": "Europe (UN)",
           "orientation": "v",
           "showlegend": true,
           "text": [
            "30.4"
           ],
           "textposition": "auto",
           "type": "bar",
           "x": [
            "Europe (UN)"
           ],
           "xaxis": "x",
           "y": {
            "bdata": "c2iR7XxfPkA=",
            "dtype": "f8"
           },
           "yaxis": "y"
          },
          {
           "hovertemplate": "Region=%{x}<br>Jahr=1968<br>Medianes Alter (Jahre)=%{y}<br>custom_text=%{text}<extra></extra>",
           "legendgroup": "United States",
           "marker": {
            "color": "#ab63fa",
            "pattern": {
             "shape": ""
            }
           },
           "name": "United States",
           "orientation": "v",
           "showlegend": true,
           "text": [
            "26.7"
           ],
           "textposition": "auto",
           "type": "bar",
           "x": [
            "United States"
           ],
           "xaxis": "x",
           "y": {
            "bdata": "Rrbz/dS4OkA=",
            "dtype": "f8"
           },
           "yaxis": "y"
          }
         ],
         "name": "1968"
        },
        {
         "data": [
          {
           "hovertemplate": "Region=%{x}<br>Jahr=1969<br>Medianes Alter (Jahre)=%{y}<br>custom_text=%{text}<extra></extra>",
           "legendgroup": "Africa (UN)",
           "marker": {
            "color": "#636efa",
            "pattern": {
             "shape": ""
            }
           },
           "name": "Africa (UN)",
           "orientation": "v",
           "showlegend": true,
           "text": [
            "16.8"
           ],
           "textposition": "auto",
           "type": "bar",
           "x": [
            "Africa (UN)"
           ],
           "xaxis": "x",
           "y": {
            "bdata": "7FG4HoXLMEA=",
            "dtype": "f8"
           },
           "yaxis": "y"
          },
          {
           "hovertemplate": "Region=%{x}<br>Jahr=1969<br>Medianes Alter (Jahre)=%{y}<br>custom_text=%{text}<extra></extra>",
           "legendgroup": "Asia (UN)",
           "marker": {
            "color": "#EF553B",
            "pattern": {
             "shape": ""
            }
           },
           "name": "Asia (UN)",
           "orientation": "v",
           "showlegend": true,
           "text": [
            "18.3"
           ],
           "textposition": "auto",
           "type": "bar",
           "x": [
            "Asia (UN)"
           ],
           "xaxis": "x",
           "y": {
            "bdata": "SgwCK4dWMkA=",
            "dtype": "f8"
           },
           "yaxis": "y"
          },
          {
           "hovertemplate": "Region=%{x}<br>Jahr=1969<br>Medianes Alter (Jahre)=%{y}<br>custom_text=%{text}<extra></extra>",
           "legendgroup": "Europe (UN)",
           "marker": {
            "color": "#00cc96",
            "pattern": {
             "shape": ""
            }
           },
           "name": "Europe (UN)",
           "orientation": "v",
           "showlegend": true,
           "text": [
            "30.6"
           ],
           "textposition": "auto",
           "type": "bar",
           "x": [
            "Europe (UN)"
           ],
           "xaxis": "x",
           "y": {
            "bdata": "HVpkO9+PPkA=",
            "dtype": "f8"
           },
           "yaxis": "y"
          },
          {
           "hovertemplate": "Region=%{x}<br>Jahr=1969<br>Medianes Alter (Jahre)=%{y}<br>custom_text=%{text}<extra></extra>",
           "legendgroup": "United States",
           "marker": {
            "color": "#ab63fa",
            "pattern": {
             "shape": ""
            }
           },
           "name": "United States",
           "orientation": "v",
           "showlegend": true,
           "text": [
            "26.7"
           ],
           "textposition": "auto",
           "type": "bar",
           "x": [
            "United States"
           ],
           "xaxis": "x",
           "y": {
            "bdata": "i2zn+6mxOkA=",
            "dtype": "f8"
           },
           "yaxis": "y"
          }
         ],
         "name": "1969"
        },
        {
         "data": [
          {
           "hovertemplate": "Region=%{x}<br>Jahr=1970<br>Medianes Alter (Jahre)=%{y}<br>custom_text=%{text}<extra></extra>",
           "legendgroup": "Africa (UN)",
           "marker": {
            "color": "#636efa",
            "pattern": {
             "shape": ""
            }
           },
           "name": "Africa (UN)",
           "orientation": "v",
           "showlegend": true,
           "text": [
            "16.7"
           ],
           "textposition": "auto",
           "type": "bar",
           "x": [
            "Africa (UN)"
           ],
           "xaxis": "x",
           "y": {
            "bdata": "QmDl0CK7MEA=",
            "dtype": "f8"
           },
           "yaxis": "y"
          },
          {
           "hovertemplate": "Region=%{x}<br>Jahr=1970<br>Medianes Alter (Jahre)=%{y}<br>custom_text=%{text}<extra></extra>",
           "legendgroup": "Asia (UN)",
           "marker": {
            "color": "#EF553B",
            "pattern": {
             "shape": ""
            }
           },
           "name": "Asia (UN)",
           "orientation": "v",
           "showlegend": true,
           "text": [
            "18.3"
           ],
           "textposition": "auto",
           "type": "bar",
           "x": [
            "Asia (UN)"
           ],
           "xaxis": "x",
           "y": {
            "bdata": "Rrbz/dRYMkA=",
            "dtype": "f8"
           },
           "yaxis": "y"
          },
          {
           "hovertemplate": "Region=%{x}<br>Jahr=1970<br>Medianes Alter (Jahre)=%{y}<br>custom_text=%{text}<extra></extra>",
           "legendgroup": "Europe (UN)",
           "marker": {
            "color": "#00cc96",
            "pattern": {
             "shape": ""
            }
           },
           "name": "Europe (UN)",
           "orientation": "v",
           "showlegend": true,
           "text": [
            "30.8"
           ],
           "textposition": "auto",
           "type": "bar",
           "x": [
            "Europe (UN)"
           ],
           "xaxis": "x",
           "y": {
            "bdata": "0SLb+X7KPkA=",
            "dtype": "f8"
           },
           "yaxis": "y"
          },
          {
           "hovertemplate": "Region=%{x}<br>Jahr=1970<br>Medianes Alter (Jahre)=%{y}<br>custom_text=%{text}<extra></extra>",
           "legendgroup": "United States",
           "marker": {
            "color": "#ab63fa",
            "pattern": {
             "shape": ""
            }
           },
           "name": "United States",
           "orientation": "v",
           "showlegend": true,
           "text": [
            "26.7"
           ],
           "textposition": "auto",
           "type": "bar",
           "x": [
            "United States"
           ],
           "xaxis": "x",
           "y": {
            "bdata": "I9v5fmq8OkA=",
            "dtype": "f8"
           },
           "yaxis": "y"
          }
         ],
         "name": "1970"
        },
        {
         "data": [
          {
           "hovertemplate": "Region=%{x}<br>Jahr=1971<br>Medianes Alter (Jahre)=%{y}<br>custom_text=%{text}<extra></extra>",
           "legendgroup": "Africa (UN)",
           "marker": {
            "color": "#636efa",
            "pattern": {
             "shape": ""
            }
           },
           "name": "Africa (UN)",
           "orientation": "v",
           "showlegend": true,
           "text": [
            "16.7"
           ],
           "textposition": "auto",
           "type": "bar",
           "x": [
            "Africa (UN)"
           ],
           "xaxis": "x",
           "y": {
            "bdata": "XrpJDAKrMEA=",
            "dtype": "f8"
           },
           "yaxis": "y"
          },
          {
           "hovertemplate": "Region=%{x}<br>Jahr=1971<br>Medianes Alter (Jahre)=%{y}<br>custom_text=%{text}<extra></extra>",
           "legendgroup": "Asia (UN)",
           "marker": {
            "color": "#EF553B",
            "pattern": {
             "shape": ""
            }
           },
           "name": "Asia (UN)",
           "orientation": "v",
           "showlegend": true,
           "text": [
            "18.4"
           ],
           "textposition": "auto",
           "type": "bar",
           "x": [
            "Asia (UN)"
           ],
           "xaxis": "x",
           "y": {
            "bdata": "arx0kxhkMkA=",
            "dtype": "f8"
           },
           "yaxis": "y"
          },
          {
           "hovertemplate": "Region=%{x}<br>Jahr=1971<br>Medianes Alter (Jahre)=%{y}<br>custom_text=%{text}<extra></extra>",
           "legendgroup": "Europe (UN)",
           "marker": {
            "color": "#00cc96",
            "pattern": {
             "shape": ""
            }
           },
           "name": "Europe (UN)",
           "orientation": "v",
           "showlegend": true,
           "text": [
            "31.0"
           ],
           "textposition": "auto",
           "type": "bar",
           "x": [
            "Europe (UN)"
           ],
           "xaxis": "x",
           "y": {
            "bdata": "PQrXo3D9PkA=",
            "dtype": "f8"
           },
           "yaxis": "y"
          },
          {
           "hovertemplate": "Region=%{x}<br>Jahr=1971<br>Medianes Alter (Jahre)=%{y}<br>custom_text=%{text}<extra></extra>",
           "legendgroup": "United States",
           "marker": {
            "color": "#ab63fa",
            "pattern": {
             "shape": ""
            }
           },
           "name": "United States",
           "orientation": "v",
           "showlegend": true,
           "text": [
            "26.8"
           ],
           "textposition": "auto",
           "type": "bar",
           "x": [
            "United States"
           ],
           "xaxis": "x",
           "y": {
            "bdata": "TmIQWDnUOkA=",
            "dtype": "f8"
           },
           "yaxis": "y"
          }
         ],
         "name": "1971"
        },
        {
         "data": [
          {
           "hovertemplate": "Region=%{x}<br>Jahr=1972<br>Medianes Alter (Jahre)=%{y}<br>custom_text=%{text}<extra></extra>",
           "legendgroup": "Africa (UN)",
           "marker": {
            "color": "#636efa",
            "pattern": {
             "shape": ""
            }
           },
           "name": "Africa (UN)",
           "orientation": "v",
           "showlegend": true,
           "text": [
            "16.6"
           ],
           "textposition": "auto",
           "type": "bar",
           "x": [
            "Africa (UN)"
           ],
           "xaxis": "x",
           "y": {
            "bdata": "z/dT46WbMEA=",
            "dtype": "f8"
           },
           "yaxis": "y"
          },
          {
           "hovertemplate": "Region=%{x}<br>Jahr=1972<br>Medianes Alter (Jahre)=%{y}<br>custom_text=%{text}<extra></extra>",
           "legendgroup": "Asia (UN)",
           "marker": {
            "color": "#EF553B",
            "pattern": {
             "shape": ""
            }
           },
           "name": "Asia (UN)",
           "orientation": "v",
           "showlegend": true,
           "text": [
            "18.5"
           ],
           "textposition": "auto",
           "type": "bar",
           "x": [
            "Asia (UN)"
           ],
           "xaxis": "x",
           "y": {
            "bdata": "Rrbz/dR4MkA=",
            "dtype": "f8"
           },
           "yaxis": "y"
          },
          {
           "hovertemplate": "Region=%{x}<br>Jahr=1972<br>Medianes Alter (Jahre)=%{y}<br>custom_text=%{text}<extra></extra>",
           "legendgroup": "Europe (UN)",
           "marker": {
            "color": "#00cc96",
            "pattern": {
             "shape": ""
            }
           },
           "name": "Europe (UN)",
           "orientation": "v",
           "showlegend": true,
           "text": [
            "31.2"
           ],
           "textposition": "auto",
           "type": "bar",
           "x": [
            "Europe (UN)"
           ],
           "xaxis": "x",
           "y": {
            "bdata": "YhBYObQoP0A=",
            "dtype": "f8"
           },
           "yaxis": "y"
          },
          {
           "hovertemplate": "Region=%{x}<br>Jahr=1972<br>Medianes Alter (Jahre)=%{y}<br>custom_text=%{text}<extra></extra>",
           "legendgroup": "United States",
           "marker": {
            "color": "#ab63fa",
            "pattern": {
             "shape": ""
            }
           },
           "name": "United States",
           "orientation": "v",
           "showlegend": true,
           "text": [
            "27.0"
           ],
           "textposition": "auto",
           "type": "bar",
           "x": [
            "United States"
           ],
           "xaxis": "x",
           "y": {
            "bdata": "TmIQWDn0OkA=",
            "dtype": "f8"
           },
           "yaxis": "y"
          }
         ],
         "name": "1972"
        },
        {
         "data": [
          {
           "hovertemplate": "Region=%{x}<br>Jahr=1973<br>Medianes Alter (Jahre)=%{y}<br>custom_text=%{text}<extra></extra>",
           "legendgroup": "Africa (UN)",
           "marker": {
            "color": "#636efa",
            "pattern": {
             "shape": ""
            }
           },
           "name": "Africa (UN)",
           "orientation": "v",
           "showlegend": true,
           "text": [
            "16.6"
           ],
           "textposition": "auto",
           "type": "bar",
           "x": [
            "Africa (UN)"
           ],
           "xaxis": "x",
           "y": {
            "bdata": "5/up8dKNMEA=",
            "dtype": "f8"
           },
           "yaxis": "y"
          },
          {
           "hovertemplate": "Region=%{x}<br>Jahr=1973<br>Medianes Alter (Jahre)=%{y}<br>custom_text=%{text}<extra></extra>",
           "legendgroup": "Asia (UN)",
           "marker": {
            "color": "#EF553B",
            "pattern": {
             "shape": ""
            }
           },
           "name": "Asia (UN)",
           "orientation": "v",
           "showlegend": true,
           "text": [
            "18.6"
           ],
           "textposition": "auto",
           "type": "bar",
           "x": [
            "Asia (UN)"
           ],
           "xaxis": "x",
           "y": {
            "bdata": "MzMzMzOTMkA=",
            "dtype": "f8"
           },
           "yaxis": "y"
          },
          {
           "hovertemplate": "Region=%{x}<br>Jahr=1973<br>Medianes Alter (Jahre)=%{y}<br>custom_text=%{text}<extra></extra>",
           "legendgroup": "Europe (UN)",
           "marker": {
            "color": "#00cc96",
            "pattern": {
             "shape": ""
            }
           },
           "name": "Europe (UN)",
           "orientation": "v",
           "showlegend": true,
           "text": [
            "31.3"
           ],
           "textposition": "auto",
           "type": "bar",
           "x": [
            "Europe (UN)"
           ],
           "xaxis": "x",
           "y": {
            "bdata": "PzVeuklMP0A=",
            "dtype": "f8"
           },
           "yaxis": "y"
          },
          {
           "hovertemplate": "Region=%{x}<br>Jahr=1973<br>Medianes Alter (Jahre)=%{y}<br>custom_text=%{text}<extra></extra>",
           "legendgroup": "United States",
           "marker": {
            "color": "#ab63fa",
            "pattern": {
             "shape": ""
            }
           },
           "name": "United States",
           "orientation": "v",
           "showlegend": true,
           "text": [
            "27.1"
           ],
           "textposition": "auto",
           "type": "bar",
           "x": [
            "United States"
           ],
           "xaxis": "x",
           "y": {
            "bdata": "8tJNYhAYO0A=",
            "dtype": "f8"
           },
           "yaxis": "y"
          }
         ],
         "name": "1973"
        },
        {
         "data": [
          {
           "hovertemplate": "Region=%{x}<br>Jahr=1974<br>Medianes Alter (Jahre)=%{y}<br>custom_text=%{text}<extra></extra>",
           "legendgroup": "Africa (UN)",
           "marker": {
            "color": "#636efa",
            "pattern": {
             "shape": ""
            }
           },
           "name": "Africa (UN)",
           "orientation": "v",
           "showlegend": true,
           "text": [
            "16.5"
           ],
           "textposition": "auto",
           "type": "bar",
           "x": [
            "Africa (UN)"
           ],
           "xaxis": "x",
           "y": {
            "bdata": "/Knx0k2CMEA=",
            "dtype": "f8"
           },
           "yaxis": "y"
          },
          {
           "hovertemplate": "Region=%{x}<br>Jahr=1974<br>Medianes Alter (Jahre)=%{y}<br>custom_text=%{text}<extra></extra>",
           "legendgroup": "Asia (UN)",
           "marker": {
            "color": "#EF553B",
            "pattern": {
             "shape": ""
            }
           },
           "name": "Asia (UN)",
           "orientation": "v",
           "showlegend": true,
           "text": [
            "18.7"
           ],
           "textposition": "auto",
           "type": "bar",
           "x": [
            "Asia (UN)"
           ],
           "xaxis": "x",
           "y": {
            "bdata": "FK5H4Xq0MkA=",
            "dtype": "f8"
           },
           "yaxis": "y"
          },
          {
           "hovertemplate": "Region=%{x}<br>Jahr=1974<br>Medianes Alter (Jahre)=%{y}<br>custom_text=%{text}<extra></extra>",
           "legendgroup": "Europe (UN)",
           "marker": {
            "color": "#00cc96",
            "pattern": {
             "shape": ""
            }
           },
           "name": "Europe (UN)",
           "orientation": "v",
           "showlegend": true,
           "text": [
            "31.4"
           ],
           "textposition": "auto",
           "type": "bar",
           "x": [
            "Europe (UN)"
           ],
           "xaxis": "x",
           "y": {
            "bdata": "ke18PzVeP0A=",
            "dtype": "f8"
           },
           "yaxis": "y"
          },
          {
           "hovertemplate": "Region=%{x}<br>Jahr=1974<br>Medianes Alter (Jahre)=%{y}<br>custom_text=%{text}<extra></extra>",
           "legendgroup": "United States",
           "marker": {
            "color": "#ab63fa",
            "pattern": {
             "shape": ""
            }
           },
           "name": "United States",
           "orientation": "v",
           "showlegend": true,
           "text": [
            "27.3"
           ],
           "textposition": "auto",
           "type": "bar",
           "x": [
            "United States"
           ],
           "xaxis": "x",
           "y": {
            "bdata": "rkfhehROO0A=",
            "dtype": "f8"
           },
           "yaxis": "y"
          }
         ],
         "name": "1974"
        },
        {
         "data": [
          {
           "hovertemplate": "Region=%{x}<br>Jahr=1975<br>Medianes Alter (Jahre)=%{y}<br>custom_text=%{text}<extra></extra>",
           "legendgroup": "Africa (UN)",
           "marker": {
            "color": "#636efa",
            "pattern": {
             "shape": ""
            }
           },
           "name": "Africa (UN)",
           "orientation": "v",
           "showlegend": true,
           "text": [
            "16.5"
           ],
           "textposition": "auto",
           "type": "bar",
           "x": [
            "Africa (UN)"
           ],
           "xaxis": "x",
           "y": {
            "bdata": "nu+nxkt3MEA=",
            "dtype": "f8"
           },
           "yaxis": "y"
          },
          {
           "hovertemplate": "Region=%{x}<br>Jahr=1975<br>Medianes Alter (Jahre)=%{y}<br>custom_text=%{text}<extra></extra>",
           "legendgroup": "Asia (UN)",
           "marker": {
            "color": "#EF553B",
            "pattern": {
             "shape": ""
            }
           },
           "name": "Asia (UN)",
           "orientation": "v",
           "showlegend": true,
           "text": [
            "18.9"
           ],
           "textposition": "auto",
           "type": "bar",
           "x": [
            "Asia (UN)"
           ],
           "xaxis": "x",
           "y": {
            "bdata": "jZduEoPgMkA=",
            "dtype": "f8"
           },
           "yaxis": "y"
          },
          {
           "hovertemplate": "Region=%{x}<br>Jahr=1975<br>Medianes Alter (Jahre)=%{y}<br>custom_text=%{text}<extra></extra>",
           "legendgroup": "Europe (UN)",
           "marker": {
            "color": "#00cc96",
            "pattern": {
             "shape": ""
            }
           },
           "name": "Europe (UN)",
           "orientation": "v",
           "showlegend": true,
           "text": [
            "31.3"
           ],
           "textposition": "auto",
           "type": "bar",
           "x": [
            "Europe (UN)"
           ],
           "xaxis": "x",
           "y": {
            "bdata": "ZDvfT41XP0A=",
            "dtype": "f8"
           },
           "yaxis": "y"
          },
          {
           "hovertemplate": "Region=%{x}<br>Jahr=1975<br>Medianes Alter (Jahre)=%{y}<br>custom_text=%{text}<extra></extra>",
           "legendgroup": "United States",
           "marker": {
            "color": "#ab63fa",
            "pattern": {
             "shape": ""
            }
           },
           "name": "United States",
           "orientation": "v",
           "showlegend": true,
           "text": [
            "27.6"
           ],
           "textposition": "auto",
           "type": "bar",
           "x": [
            "United States"
           ],
           "xaxis": "x",
           "y": {
            "bdata": "nu+nxkuXO0A=",
            "dtype": "f8"
           },
           "yaxis": "y"
          }
         ],
         "name": "1975"
        },
        {
         "data": [
          {
           "hovertemplate": "Region=%{x}<br>Jahr=1976<br>Medianes Alter (Jahre)=%{y}<br>custom_text=%{text}<extra></extra>",
           "legendgroup": "Africa (UN)",
           "marker": {
            "color": "#636efa",
            "pattern": {
             "shape": ""
            }
           },
           "name": "Africa (UN)",
           "orientation": "v",
           "showlegend": true,
           "text": [
            "16.4"
           ],
           "textposition": "auto",
           "type": "bar",
           "x": [
            "Africa (UN)"
           ],
           "xaxis": "x",
           "y": {
            "bdata": "RIts5/tpMEA=",
            "dtype": "f8"
           },
           "yaxis": "y"
          },
          {
           "hovertemplate": "Region=%{x}<br>Jahr=1976<br>Medianes Alter (Jahre)=%{y}<br>custom_text=%{text}<extra></extra>",
           "legendgroup": "Asia (UN)",
           "marker": {
            "color": "#EF553B",
            "pattern": {
             "shape": ""
            }
           },
           "name": "Asia (UN)",
           "orientation": "v",
           "showlegend": true,
           "text": [
            "19.1"
           ],
           "textposition": "auto",
           "type": "bar",
           "x": [
            "Asia (UN)"
           ],
           "xaxis": "x",
           "y": {
            "bdata": "46WbxCAQM0A=",
            "dtype": "f8"
           },
           "yaxis": "y"
          },
          {
           "hovertemplate": "Region=%{x}<br>Jahr=1976<br>Medianes Alter (Jahre)=%{y}<br>custom_text=%{text}<extra></extra>",
           "legendgroup": "Europe (UN)",
           "marker": {
            "color": "#00cc96",
            "pattern": {
             "shape": ""
            }
           },
           "name": "Europe (UN)",
           "orientation": "v",
           "showlegend": true,
           "text": [
            "31.3"
           ],
           "textposition": "auto",
           "type": "bar",
           "x": [
            "Europe (UN)"
           ],
           "xaxis": "x",
           "y": {
            "bdata": "Di2yne9HP0A=",
            "dtype": "f8"
           },
           "yaxis": "y"
          },
          {
           "hovertemplate": "Region=%{x}<br>Jahr=1976<br>Medianes Alter (Jahre)=%{y}<br>custom_text=%{text}<extra></extra>",
           "legendgroup": "United States",
           "marker": {
            "color": "#ab63fa",
            "pattern": {
             "shape": ""
            }
           },
           "name": "United States",
           "orientation": "v",
           "showlegend": true,
           "text": [
            "27.9"
           ],
           "textposition": "auto",
           "type": "bar",
           "x": [
            "United States"
           ],
           "xaxis": "x",
           "y": {
            "bdata": "PzVeuknsO0A=",
            "dtype": "f8"
           },
           "yaxis": "y"
          }
         ],
         "name": "1976"
        },
        {
         "data": [
          {
           "hovertemplate": "Region=%{x}<br>Jahr=1977<br>Medianes Alter (Jahre)=%{y}<br>custom_text=%{text}<extra></extra>",
           "legendgroup": "Africa (UN)",
           "marker": {
            "color": "#636efa",
            "pattern": {
             "shape": ""
            }
           },
           "name": "Africa (UN)",
           "orientation": "v",
           "showlegend": true,
           "text": [
            "16.4"
           ],
           "textposition": "auto",
           "type": "bar",
           "x": [
            "Africa (UN)"
           ],
           "xaxis": "x",
           "y": {
            "bdata": "WDm0yHZeMEA=",
            "dtype": "f8"
           },
           "yaxis": "y"
          },
          {
           "hovertemplate": "Region=%{x}<br>Jahr=1977<br>Medianes Alter (Jahre)=%{y}<br>custom_text=%{text}<extra></extra>",
           "legendgroup": "Asia (UN)",
           "marker": {
            "color": "#EF553B",
            "pattern": {
             "shape": ""
            }
           },
           "name": "Asia (UN)",
           "orientation": "v",
           "showlegend": true,
           "text": [
            "19.3"
           ],
           "textposition": "auto",
           "type": "bar",
           "x": [
            "Asia (UN)"
           ],
           "xaxis": "x",
           "y": {
            "bdata": "TDeJQWBFM0A=",
            "dtype": "f8"
           },
           "yaxis": "y"
          },
          {
           "hovertemplate": "Region=%{x}<br>Jahr=1977<br>Medianes Alter (Jahre)=%{y}<br>custom_text=%{text}<extra></extra>",
           "legendgroup": "Europe (UN)",
           "marker": {
            "color": "#00cc96",
            "pattern": {
             "shape": ""
            }
           },
           "name": "Europe (UN)",
           "orientation": "v",
           "showlegend": true,
           "text": [
            "31.2"
           ],
           "textposition": "auto",
           "type": "bar",
           "x": [
            "Europe (UN)"
           ],
           "xaxis": "x",
           "y": {
            "bdata": "8tJNYhA4P0A=",
            "dtype": "f8"
           },
           "yaxis": "y"
          },
          {
           "hovertemplate": "Region=%{x}<br>Jahr=1977<br>Medianes Alter (Jahre)=%{y}<br>custom_text=%{text}<extra></extra>",
           "legendgroup": "United States",
           "marker": {
            "color": "#ab63fa",
            "pattern": {
             "shape": ""
            }
           },
           "name": "United States",
           "orientation": "v",
           "showlegend": true,
           "text": [
            "28.2"
           ],
           "textposition": "auto",
           "type": "bar",
           "x": [
            "United States"
           ],
           "xaxis": "x",
           "y": {
            "bdata": "rBxaZDs/PEA=",
            "dtype": "f8"
           },
           "yaxis": "y"
          }
         ],
         "name": "1977"
        },
        {
         "data": [
          {
           "hovertemplate": "Region=%{x}<br>Jahr=1978<br>Medianes Alter (Jahre)=%{y}<br>custom_text=%{text}<extra></extra>",
           "legendgroup": "Africa (UN)",
           "marker": {
            "color": "#636efa",
            "pattern": {
             "shape": ""
            }
           },
           "name": "Africa (UN)",
           "orientation": "v",
           "showlegend": true,
           "text": [
            "16.3"
           ],
           "textposition": "auto",
           "type": "bar",
           "x": [
            "Africa (UN)"
           ],
           "xaxis": "x",
           "y": {
            "bdata": "uB6F61FYMEA=",
            "dtype": "f8"
           },
           "yaxis": "y"
          },
          {
           "hovertemplate": "Region=%{x}<br>Jahr=1978<br>Medianes Alter (Jahre)=%{y}<br>custom_text=%{text}<extra></extra>",
           "legendgroup": "Asia (UN)",
           "marker": {
            "color": "#EF553B",
            "pattern": {
             "shape": ""
            }
           },
           "name": "Asia (UN)",
           "orientation": "v",
           "showlegend": true,
           "text": [
            "19.5"
           ],
           "textposition": "auto",
           "type": "bar",
           "x": [
            "Asia (UN)"
           ],
           "xaxis": "x",
           "y": {
            "bdata": "6SYxCKx8M0A=",
            "dtype": "f8"
           },
           "yaxis": "y"
          },
          {
           "hovertemplate": "Region=%{x}<br>Jahr=1978<br>Medianes Alter (Jahre)=%{y}<br>custom_text=%{text}<extra></extra>",
           "legendgroup": "Europe (UN)",
           "marker": {
            "color": "#00cc96",
            "pattern": {
             "shape": ""
            }
           },
           "name": "Europe (UN)",
           "orientation": "v",
           "showlegend": true,
           "text": [
            "31.2"
           ],
           "textposition": "auto",
           "type": "bar",
           "x": [
            "Europe (UN)"
           ],
           "xaxis": "x",
           "y": {
            "bdata": "H4XrUbg+P0A=",
            "dtype": "f8"
           },
           "yaxis": "y"
          },
          {
           "hovertemplate": "Region=%{x}<br>Jahr=1978<br>Medianes Alter (Jahre)=%{y}<br>custom_text=%{text}<extra></extra>",
           "legendgroup": "United States",
           "marker": {
            "color": "#ab63fa",
            "pattern": {
             "shape": ""
            }
           },
           "name": "United States",
           "orientation": "v",
           "showlegend": true,
           "text": [
            "28.6"
           ],
           "textposition": "auto",
           "type": "bar",
           "x": [
            "United States"
           ],
           "xaxis": "x",
           "y": {
            "bdata": "5/up8dKNPEA=",
            "dtype": "f8"
           },
           "yaxis": "y"
          }
         ],
         "name": "1978"
        },
        {
         "data": [
          {
           "hovertemplate": "Region=%{x}<br>Jahr=1979<br>Medianes Alter (Jahre)=%{y}<br>custom_text=%{text}<extra></extra>",
           "legendgroup": "Africa (UN)",
           "marker": {
            "color": "#636efa",
            "pattern": {
             "shape": ""
            }
           },
           "name": "Africa (UN)",
           "orientation": "v",
           "showlegend": true,
           "text": [
            "16.3"
           ],
           "textposition": "auto",
           "type": "bar",
           "x": [
            "Africa (UN)"
           ],
           "xaxis": "x",
           "y": {
            "bdata": "hxbZzvdTMEA=",
            "dtype": "f8"
           },
           "yaxis": "y"
          },
          {
           "hovertemplate": "Region=%{x}<br>Jahr=1979<br>Medianes Alter (Jahre)=%{y}<br>custom_text=%{text}<extra></extra>",
           "legendgroup": "Asia (UN)",
           "marker": {
            "color": "#EF553B",
            "pattern": {
             "shape": ""
            }
           },
           "name": "Asia (UN)",
           "orientation": "v",
           "showlegend": true,
           "text": [
            "19.7"
           ],
           "textposition": "auto",
           "type": "bar",
           "x": [
            "Asia (UN)"
           ],
           "xaxis": "x",
           "y": {
            "bdata": "PzVeukmsM0A=",
            "dtype": "f8"
           },
           "yaxis": "y"
          },
          {
           "hovertemplate": "Region=%{x}<br>Jahr=1979<br>Medianes Alter (Jahre)=%{y}<br>custom_text=%{text}<extra></extra>",
           "legendgroup": "Europe (UN)",
           "marker": {
            "color": "#00cc96",
            "pattern": {
             "shape": ""
            }
           },
           "name": "Europe (UN)",
           "orientation": "v",
           "showlegend": true,
           "text": [
            "31.4"
           ],
           "textposition": "auto",
           "type": "bar",
           "x": [
            "Europe (UN)"
           ],
           "xaxis": "x",
           "y": {
            "bdata": "rBxaZDtfP0A=",
            "dtype": "f8"
           },
           "yaxis": "y"
          },
          {
           "hovertemplate": "Region=%{x}<br>Jahr=1979<br>Medianes Alter (Jahre)=%{y}<br>custom_text=%{text}<extra></extra>",
           "legendgroup": "United States",
           "marker": {
            "color": "#ab63fa",
            "pattern": {
             "shape": ""
            }
           },
           "name": "United States",
           "orientation": "v",
           "showlegend": true,
           "text": [
            "28.8"
           ],
           "textposition": "auto",
           "type": "bar",
           "x": [
            "United States"
           ],
           "xaxis": "x",
           "y": {
            "bdata": "Rrbz/dTYPEA=",
            "dtype": "f8"
           },
           "yaxis": "y"
          }
         ],
         "name": "1979"
        },
        {
         "data": [
          {
           "hovertemplate": "Region=%{x}<br>Jahr=1980<br>Medianes Alter (Jahre)=%{y}<br>custom_text=%{text}<extra></extra>",
           "legendgroup": "Africa (UN)",
           "marker": {
            "color": "#636efa",
            "pattern": {
             "shape": ""
            }
           },
           "name": "Africa (UN)",
           "orientation": "v",
           "showlegend": true,
           "text": [
            "16.3"
           ],
           "textposition": "auto",
           "type": "bar",
           "x": [
            "Africa (UN)"
           ],
           "xaxis": "x",
           "y": {
            "bdata": "qvHSTWJQMEA=",
            "dtype": "f8"
           },
           "yaxis": "y"
          },
          {
           "hovertemplate": "Region=%{x}<br>Jahr=1980<br>Medianes Alter (Jahre)=%{y}<br>custom_text=%{text}<extra></extra>",
           "legendgroup": "Asia (UN)",
           "marker": {
            "color": "#EF553B",
            "pattern": {
             "shape": ""
            }
           },
           "name": "Asia (UN)",
           "orientation": "v",
           "showlegend": true,
           "text": [
            "19.8"
           ],
           "textposition": "auto",
           "type": "bar",
           "x": [
            "Asia (UN)"
           ],
           "xaxis": "x",
           "y": {
            "bdata": "j8L1KFzPM0A=",
            "dtype": "f8"
           },
           "yaxis": "y"
          },
          {
           "hovertemplate": "Region=%{x}<br>Jahr=1980<br>Medianes Alter (Jahre)=%{y}<br>custom_text=%{text}<extra></extra>",
           "legendgroup": "Europe (UN)",
           "marker": {
            "color": "#00cc96",
            "pattern": {
             "shape": ""
            }
           },
           "name": "Europe (UN)",
           "orientation": "v",
           "showlegend": true,
           "text": [
            "31.5"
           ],
           "textposition": "auto",
           "type": "bar",
           "x": [
            "Europe (UN)"
           ],
           "xaxis": "x",
           "y": {
            "bdata": "LbKd76eGP0A=",
            "dtype": "f8"
           },
           "yaxis": "y"
          },
          {
           "hovertemplate": "Region=%{x}<br>Jahr=1980<br>Medianes Alter (Jahre)=%{y}<br>custom_text=%{text}<extra></extra>",
           "legendgroup": "United States",
           "marker": {
            "color": "#ab63fa",
            "pattern": {
             "shape": ""
            }
           },
           "name": "United States",
           "orientation": "v",
           "showlegend": true,
           "text": [
            "29.1"
           ],
           "textposition": "auto",
           "type": "bar",
           "x": [
            "United States"
           ],
           "xaxis": "x",
           "y": {
            "bdata": "ObTIdr4fPUA=",
            "dtype": "f8"
           },
           "yaxis": "y"
          }
         ],
         "name": "1980"
        },
        {
         "data": [
          {
           "hovertemplate": "Region=%{x}<br>Jahr=1981<br>Medianes Alter (Jahre)=%{y}<br>custom_text=%{text}<extra></extra>",
           "legendgroup": "Africa (UN)",
           "marker": {
            "color": "#636efa",
            "pattern": {
             "shape": ""
            }
           },
           "name": "Africa (UN)",
           "orientation": "v",
           "showlegend": true,
           "text": [
            "16.3"
           ],
           "textposition": "auto",
           "type": "bar",
           "x": [
            "Africa (UN)"
           ],
           "xaxis": "x",
           "y": {
            "bdata": "5/up8dJNMEA=",
            "dtype": "f8"
           },
           "yaxis": "y"
          },
          {
           "hovertemplate": "Region=%{x}<br>Jahr=1981<br>Medianes Alter (Jahre)=%{y}<br>custom_text=%{text}<extra></extra>",
           "legendgroup": "Asia (UN)",
           "marker": {
            "color": "#EF553B",
            "pattern": {
             "shape": ""
            }
           },
           "name": "Asia (UN)",
           "orientation": "v",
           "showlegend": true,
           "text": [
            "19.9"
           ],
           "textposition": "auto",
           "type": "bar",
           "x": [
            "Asia (UN)"
           ],
           "xaxis": "x",
           "y": {
            "bdata": "8KfGSzfpM0A=",
            "dtype": "f8"
           },
           "yaxis": "y"
          },
          {
           "hovertemplate": "Region=%{x}<br>Jahr=1981<br>Medianes Alter (Jahre)=%{y}<br>custom_text=%{text}<extra></extra>",
           "legendgroup": "Europe (UN)",
           "marker": {
            "color": "#00cc96",
            "pattern": {
             "shape": ""
            }
           },
           "name": "Europe (UN)",
           "orientation": "v",
           "showlegend": true,
           "text": [
            "31.7"
           ],
           "textposition": "auto",
           "type": "bar",
           "x": [
            "Europe (UN)"
           ],
           "xaxis": "x",
           "y": {
            "bdata": "/tR46SaxP0A=",
            "dtype": "f8"
           },
           "yaxis": "y"
          },
          {
           "hovertemplate": "Region=%{x}<br>Jahr=1981<br>Medianes Alter (Jahre)=%{y}<br>custom_text=%{text}<extra></extra>",
           "legendgroup": "United States",
           "marker": {
            "color": "#ab63fa",
            "pattern": {
             "shape": ""
            }
           },
           "name": "United States",
           "orientation": "v",
           "showlegend": true,
           "text": [
            "29.4"
           ],
           "textposition": "auto",
           "type": "bar",
           "x": [
            "United States"
           ],
           "xaxis": "x",
           "y": {
            "bdata": "qMZLN4lhPUA=",
            "dtype": "f8"
           },
           "yaxis": "y"
          }
         ],
         "name": "1981"
        },
        {
         "data": [
          {
           "hovertemplate": "Region=%{x}<br>Jahr=1982<br>Medianes Alter (Jahre)=%{y}<br>custom_text=%{text}<extra></extra>",
           "legendgroup": "Africa (UN)",
           "marker": {
            "color": "#636efa",
            "pattern": {
             "shape": ""
            }
           },
           "name": "Africa (UN)",
           "orientation": "v",
           "showlegend": true,
           "text": [
            "16.3"
           ],
           "textposition": "auto",
           "type": "bar",
           "x": [
            "Africa (UN)"
           ],
           "xaxis": "x",
           "y": {
            "bdata": "WmQ7309NMEA=",
            "dtype": "f8"
           },
           "yaxis": "y"
          },
          {
           "hovertemplate": "Region=%{x}<br>Jahr=1982<br>Medianes Alter (Jahre)=%{y}<br>custom_text=%{text}<extra></extra>",
           "legendgroup": "Asia (UN)",
           "marker": {
            "color": "#EF553B",
            "pattern": {
             "shape": ""
            }
           },
           "name": "Asia (UN)",
           "orientation": "v",
           "showlegend": true,
           "text": [
            "20.0"
           ],
           "textposition": "auto",
           "type": "bar",
           "x": [
            "Asia (UN)"
           ],
           "xaxis": "x",
           "y": {
            "bdata": "6SYxCKz8M0A=",
            "dtype": "f8"
           },
           "yaxis": "y"
          },
          {
           "hovertemplate": "Region=%{x}<br>Jahr=1982<br>Medianes Alter (Jahre)=%{y}<br>custom_text=%{text}<extra></extra>",
           "legendgroup": "Europe (UN)",
           "marker": {
            "color": "#00cc96",
            "pattern": {
             "shape": ""
            }
           },
           "name": "Europe (UN)",
           "orientation": "v",
           "showlegend": true,
           "text": [
            "31.9"
           ],
           "textposition": "auto",
           "type": "bar",
           "x": [
            "Europe (UN)"
           ],
           "xaxis": "x",
           "y": {
            "bdata": "/Knx0k3iP0A=",
            "dtype": "f8"
           },
           "yaxis": "y"
          },
          {
           "hovertemplate": "Region=%{x}<br>Jahr=1982<br>Medianes Alter (Jahre)=%{y}<br>custom_text=%{text}<extra></extra>",
           "legendgroup": "United States",
           "marker": {
            "color": "#ab63fa",
            "pattern": {
             "shape": ""
            }
           },
           "name": "United States",
           "orientation": "v",
           "showlegend": true,
           "text": [
            "29.6"
           ],
           "textposition": "auto",
           "type": "bar",
           "x": [
            "United States"
           ],
           "xaxis": "x",
           "y": {
            "bdata": "Gy/dJAahPUA=",
            "dtype": "f8"
           },
           "yaxis": "y"
          }
         ],
         "name": "1982"
        },
        {
         "data": [
          {
           "hovertemplate": "Region=%{x}<br>Jahr=1983<br>Medianes Alter (Jahre)=%{y}<br>custom_text=%{text}<extra></extra>",
           "legendgroup": "Africa (UN)",
           "marker": {
            "color": "#636efa",
            "pattern": {
             "shape": ""
            }
           },
           "name": "Africa (UN)",
           "orientation": "v",
           "showlegend": true,
           "text": [
            "16.3"
           ],
           "textposition": "auto",
           "type": "bar",
           "x": [
            "Africa (UN)"
           ],
           "xaxis": "x",
           "y": {
            "bdata": "46WbxCBQMEA=",
            "dtype": "f8"
           },
           "yaxis": "y"
          },
          {
           "hovertemplate": "Region=%{x}<br>Jahr=1983<br>Medianes Alter (Jahre)=%{y}<br>custom_text=%{text}<extra></extra>",
           "legendgroup": "Asia (UN)",
           "marker": {
            "color": "#EF553B",
            "pattern": {
             "shape": ""
            }
           },
           "name": "Asia (UN)",
           "orientation": "v",
           "showlegend": true,
           "text": [
            "20.1"
           ],
           "textposition": "auto",
           "type": "bar",
           "x": [
            "Asia (UN)"
           ],
           "xaxis": "x",
           "y": {
            "bdata": "VOOlm8QgNEA=",
            "dtype": "f8"
           },
           "yaxis": "y"
          },
          {
           "hovertemplate": "Region=%{x}<br>Jahr=1983<br>Medianes Alter (Jahre)=%{y}<br>custom_text=%{text}<extra></extra>",
           "legendgroup": "Europe (UN)",
           "marker": {
            "color": "#00cc96",
            "pattern": {
             "shape": ""
            }
           },
           "name": "Europe (UN)",
           "orientation": "v",
           "showlegend": true,
           "text": [
            "32.1"
           ],
           "textposition": "auto",
           "type": "bar",
           "x": [
            "Europe (UN)"
           ],
           "xaxis": "x",
           "y": {
            "bdata": "YOXQItsJQEA=",
            "dtype": "f8"
           },
           "yaxis": "y"
          },
          {
           "hovertemplate": "Region=%{x}<br>Jahr=1983<br>Medianes Alter (Jahre)=%{y}<br>custom_text=%{text}<extra></extra>",
           "legendgroup": "United States",
           "marker": {
            "color": "#ab63fa",
            "pattern": {
             "shape": ""
            }
           },
           "name": "United States",
           "orientation": "v",
           "showlegend": true,
           "text": [
            "29.9"
           ],
           "textposition": "auto",
           "type": "bar",
           "x": [
            "United States"
           ],
           "xaxis": "x",
           "y": {
            "bdata": "F9nO91PjPUA=",
            "dtype": "f8"
           },
           "yaxis": "y"
          }
         ],
         "name": "1983"
        },
        {
         "data": [
          {
           "hovertemplate": "Region=%{x}<br>Jahr=1984<br>Medianes Alter (Jahre)=%{y}<br>custom_text=%{text}<extra></extra>",
           "legendgroup": "Africa (UN)",
           "marker": {
            "color": "#636efa",
            "pattern": {
             "shape": ""
            }
           },
           "name": "Africa (UN)",
           "orientation": "v",
           "showlegend": true,
           "text": [
            "16.3"
           ],
           "textposition": "auto",
           "type": "bar",
           "x": [
            "Africa (UN)"
           ],
           "xaxis": "x",
           "y": {
            "bdata": "hxbZzvdTMEA=",
            "dtype": "f8"
           },
           "yaxis": "y"
          },
          {
           "hovertemplate": "Region=%{x}<br>Jahr=1984<br>Medianes Alter (Jahre)=%{y}<br>custom_text=%{text}<extra></extra>",
           "legendgroup": "Asia (UN)",
           "marker": {
            "color": "#EF553B",
            "pattern": {
             "shape": ""
            }
           },
           "name": "Asia (UN)",
           "orientation": "v",
           "showlegend": true,
           "text": [
            "20.4"
           ],
           "textposition": "auto",
           "type": "bar",
           "x": [
            "Asia (UN)"
           ],
           "xaxis": "x",
           "y": {
            "bdata": "ke18PzVeNEA=",
            "dtype": "f8"
           },
           "yaxis": "y"
          },
          {
           "hovertemplate": "Region=%{x}<br>Jahr=1984<br>Medianes Alter (Jahre)=%{y}<br>custom_text=%{text}<extra></extra>",
           "legendgroup": "Europe (UN)",
           "marker": {
            "color": "#00cc96",
            "pattern": {
             "shape": ""
            }
           },
           "name": "Europe (UN)",
           "orientation": "v",
           "showlegend": true,
           "text": [
            "32.3"
           ],
           "textposition": "auto",
           "type": "bar",
           "x": [
            "Europe (UN)"
           ],
           "xaxis": "x",
           "y": {
            "bdata": "Gy/dJAYhQEA=",
            "dtype": "f8"
           },
           "yaxis": "y"
          },
          {
           "hovertemplate": "Region=%{x}<br>Jahr=1984<br>Medianes Alter (Jahre)=%{y}<br>custom_text=%{text}<extra></extra>",
           "legendgroup": "United States",
           "marker": {
            "color": "#ab63fa",
            "pattern": {
             "shape": ""
            }
           },
           "name": "United States",
           "orientation": "v",
           "showlegend": true,
           "text": [
            "30.2"
           ],
           "textposition": "auto",
           "type": "bar",
           "x": [
            "United States"
           ],
           "xaxis": "x",
           "y": {
            "bdata": "8KfGSzcpPkA=",
            "dtype": "f8"
           },
           "yaxis": "y"
          }
         ],
         "name": "1984"
        },
        {
         "data": [
          {
           "hovertemplate": "Region=%{x}<br>Jahr=1985<br>Medianes Alter (Jahre)=%{y}<br>custom_text=%{text}<extra></extra>",
           "legendgroup": "Africa (UN)",
           "marker": {
            "color": "#636efa",
            "pattern": {
             "shape": ""
            }
           },
           "name": "Africa (UN)",
           "orientation": "v",
           "showlegend": true,
           "text": [
            "16.3"
           ],
           "textposition": "auto",
           "type": "bar",
           "x": [
            "Africa (UN)"
           ],
           "xaxis": "x",
           "y": {
            "bdata": "8tJNYhBYMEA=",
            "dtype": "f8"
           },
           "yaxis": "y"
          },
          {
           "hovertemplate": "Region=%{x}<br>Jahr=1985<br>Medianes Alter (Jahre)=%{y}<br>custom_text=%{text}<extra></extra>",
           "legendgroup": "Asia (UN)",
           "marker": {
            "color": "#EF553B",
            "pattern": {
             "shape": ""
            }
           },
           "name": "Asia (UN)",
           "orientation": "v",
           "showlegend": true,
           "text": [
            "20.6"
           ],
           "textposition": "auto",
           "type": "bar",
           "x": [
            "Asia (UN)"
           ],
           "xaxis": "x",
           "y": {
            "bdata": "bxKDwMqhNEA=",
            "dtype": "f8"
           },
           "yaxis": "y"
          },
          {
           "hovertemplate": "Region=%{x}<br>Jahr=1985<br>Medianes Alter (Jahre)=%{y}<br>custom_text=%{text}<extra></extra>",
           "legendgroup": "Europe (UN)",
           "marker": {
            "color": "#00cc96",
            "pattern": {
             "shape": ""
            }
           },
           "name": "Europe (UN)",
           "orientation": "v",
           "showlegend": true,
           "text": [
            "32.4"
           ],
           "textposition": "auto",
           "type": "bar",
           "x": [
            "Europe (UN)"
           ],
           "xaxis": "x",
           "y": {
            "bdata": "001iEFg5QEA=",
            "dtype": "f8"
           },
           "yaxis": "y"
          },
          {
           "hovertemplate": "Region=%{x}<br>Jahr=1985<br>Medianes Alter (Jahre)=%{y}<br>custom_text=%{text}<extra></extra>",
           "legendgroup": "United States",
           "marker": {
            "color": "#ab63fa",
            "pattern": {
             "shape": ""
            }
           },
           "name": "United States",
           "orientation": "v",
           "showlegend": true,
           "text": [
            "30.4"
           ],
           "textposition": "auto",
           "type": "bar",
           "x": [
            "United States"
           ],
           "xaxis": "x",
           "y": {
            "bdata": "i2zn+6lxPkA=",
            "dtype": "f8"
           },
           "yaxis": "y"
          }
         ],
         "name": "1985"
        },
        {
         "data": [
          {
           "hovertemplate": "Region=%{x}<br>Jahr=1986<br>Medianes Alter (Jahre)=%{y}<br>custom_text=%{text}<extra></extra>",
           "legendgroup": "Africa (UN)",
           "marker": {
            "color": "#636efa",
            "pattern": {
             "shape": ""
            }
           },
           "name": "Africa (UN)",
           "orientation": "v",
           "showlegend": true,
           "text": [
            "16.4"
           ],
           "textposition": "auto",
           "type": "bar",
           "x": [
            "Africa (UN)"
           ],
           "xaxis": "x",
           "y": {
            "bdata": "d76fGi9dMEA=",
            "dtype": "f8"
           },
           "yaxis": "y"
          },
          {
           "hovertemplate": "Region=%{x}<br>Jahr=1986<br>Medianes Alter (Jahre)=%{y}<br>custom_text=%{text}<extra></extra>",
           "legendgroup": "Asia (UN)",
           "marker": {
            "color": "#EF553B",
            "pattern": {
             "shape": ""
            }
           },
           "name": "Asia (UN)",
           "orientation": "v",
           "showlegend": true,
           "text": [
            "20.9"
           ],
           "textposition": "auto",
           "type": "bar",
           "x": [
            "Asia (UN)"
           ],
           "xaxis": "x",
           "y": {
            "bdata": "iUFg5dDiNEA=",
            "dtype": "f8"
           },
           "yaxis": "y"
          },
          {
           "hovertemplate": "Region=%{x}<br>Jahr=1986<br>Medianes Alter (Jahre)=%{y}<br>custom_text=%{text}<extra></extra>",
           "legendgroup": "Europe (UN)",
           "marker": {
            "color": "#00cc96",
            "pattern": {
             "shape": ""
            }
           },
           "name": "Europe (UN)",
           "orientation": "v",
           "showlegend": true,
           "text": [
            "32.6"
           ],
           "textposition": "auto",
           "type": "bar",
           "x": [
            "Europe (UN)"
           ],
           "xaxis": "x",
           "y": {
            "bdata": "bxKDwMpRQEA=",
            "dtype": "f8"
           },
           "yaxis": "y"
          },
          {
           "hovertemplate": "Region=%{x}<br>Jahr=1986<br>Medianes Alter (Jahre)=%{y}<br>custom_text=%{text}<extra></extra>",
           "legendgroup": "United States",
           "marker": {
            "color": "#ab63fa",
            "pattern": {
             "shape": ""
            }
           },
           "name": "United States",
           "orientation": "v",
           "showlegend": true,
           "text": [
            "30.7"
           ],
           "textposition": "auto",
           "type": "bar",
           "x": [
            "United States"
           ],
           "xaxis": "x",
           "y": {
            "bdata": "sHJoke28PkA=",
            "dtype": "f8"
           },
           "yaxis": "y"
          }
         ],
         "name": "1986"
        },
        {
         "data": [
          {
           "hovertemplate": "Region=%{x}<br>Jahr=1987<br>Medianes Alter (Jahre)=%{y}<br>custom_text=%{text}<extra></extra>",
           "legendgroup": "Africa (UN)",
           "marker": {
            "color": "#636efa",
            "pattern": {
             "shape": ""
            }
           },
           "name": "Africa (UN)",
           "orientation": "v",
           "showlegend": true,
           "text": [
            "16.4"
           ],
           "textposition": "auto",
           "type": "bar",
           "x": [
            "Africa (UN)"
           ],
           "xaxis": "x",
           "y": {
            "bdata": "3SQGgZVjMEA=",
            "dtype": "f8"
           },
           "yaxis": "y"
          },
          {
           "hovertemplate": "Region=%{x}<br>Jahr=1987<br>Medianes Alter (Jahre)=%{y}<br>custom_text=%{text}<extra></extra>",
           "legendgroup": "Asia (UN)",
           "marker": {
            "color": "#EF553B",
            "pattern": {
             "shape": ""
            }
           },
           "name": "Asia (UN)",
           "orientation": "v",
           "showlegend": true,
           "text": [
            "21.1"
           ],
           "textposition": "auto",
           "type": "bar",
           "x": [
            "Asia (UN)"
           ],
           "xaxis": "x",
           "y": {
            "bdata": "I9v5fmocNUA=",
            "dtype": "f8"
           },
           "yaxis": "y"
          },
          {
           "hovertemplate": "Region=%{x}<br>Jahr=1987<br>Medianes Alter (Jahre)=%{y}<br>custom_text=%{text}<extra></extra>",
           "legendgroup": "Europe (UN)",
           "marker": {
            "color": "#00cc96",
            "pattern": {
             "shape": ""
            }
           },
           "name": "Europe (UN)",
           "orientation": "v",
           "showlegend": true,
           "text": [
            "32.9"
           ],
           "textposition": "auto",
           "type": "bar",
           "x": [
            "Europe (UN)"
           ],
           "xaxis": "x",
           "y": {
            "bdata": "sHJoke1sQEA=",
            "dtype": "f8"
           },
           "yaxis": "y"
          },
          {
           "hovertemplate": "Region=%{x}<br>Jahr=1987<br>Medianes Alter (Jahre)=%{y}<br>custom_text=%{text}<extra></extra>",
           "legendgroup": "United States",
           "marker": {
            "color": "#ab63fa",
            "pattern": {
             "shape": ""
            }
           },
           "name": "United States",
           "orientation": "v",
           "showlegend": true,
           "text": [
            "31.0"
           ],
           "textposition": "auto",
           "type": "bar",
           "x": [
            "United States"
           ],
           "xaxis": "x",
           "y": {
            "bdata": "0SLb+X4KP0A=",
            "dtype": "f8"
           },
           "yaxis": "y"
          }
         ],
         "name": "1987"
        },
        {
         "data": [
          {
           "hovertemplate": "Region=%{x}<br>Jahr=1988<br>Medianes Alter (Jahre)=%{y}<br>custom_text=%{text}<extra></extra>",
           "legendgroup": "Africa (UN)",
           "marker": {
            "color": "#636efa",
            "pattern": {
             "shape": ""
            }
           },
           "name": "Africa (UN)",
           "orientation": "v",
           "showlegend": true,
           "text": [
            "16.4"
           ],
           "textposition": "auto",
           "type": "bar",
           "x": [
            "Africa (UN)"
           ],
           "xaxis": "x",
           "y": {
            "bdata": "BoGVQ4tsMEA=",
            "dtype": "f8"
           },
           "yaxis": "y"
          },
          {
           "hovertemplate": "Region=%{x}<br>Jahr=1988<br>Medianes Alter (Jahre)=%{y}<br>custom_text=%{text}<extra></extra>",
           "legendgroup": "Asia (UN)",
           "marker": {
            "color": "#EF553B",
            "pattern": {
             "shape": ""
            }
           },
           "name": "Asia (UN)",
           "orientation": "v",
           "showlegend": true,
           "text": [
            "21.3"
           ],
           "textposition": "auto",
           "type": "bar",
           "x": [
            "Asia (UN)"
           ],
           "xaxis": "x",
           "y": {
            "bdata": "okW28/1UNUA=",
            "dtype": "f8"
           },
           "yaxis": "y"
          },
          {
           "hovertemplate": "Region=%{x}<br>Jahr=1988<br>Medianes Alter (Jahre)=%{y}<br>custom_text=%{text}<extra></extra>",
           "legendgroup": "Europe (UN)",
           "marker": {
            "color": "#00cc96",
            "pattern": {
             "shape": ""
            }
           },
           "name": "Europe (UN)",
           "orientation": "v",
           "showlegend": true,
           "text": [
            "33.1"
           ],
           "textposition": "auto",
           "type": "bar",
           "x": [
            "Europe (UN)"
           ],
           "xaxis": "x",
           "y": {
            "bdata": "001iEFiJQEA=",
            "dtype": "f8"
           },
           "yaxis": "y"
          },
          {
           "hovertemplate": "Region=%{x}<br>Jahr=1988<br>Medianes Alter (Jahre)=%{y}<br>custom_text=%{text}<extra></extra>",
           "legendgroup": "United States",
           "marker": {
            "color": "#ab63fa",
            "pattern": {
             "shape": ""
            }
           },
           "name": "United States",
           "orientation": "v",
           "showlegend": true,
           "text": [
            "31.3"
           ],
           "textposition": "auto",
           "type": "bar",
           "x": [
            "United States"
           ],
           "xaxis": "x",
           "y": {
            "bdata": "EFg5tMhWP0A=",
            "dtype": "f8"
           },
           "yaxis": "y"
          }
         ],
         "name": "1988"
        },
        {
         "data": [
          {
           "hovertemplate": "Region=%{x}<br>Jahr=1989<br>Medianes Alter (Jahre)=%{y}<br>custom_text=%{text}<extra></extra>",
           "legendgroup": "Africa (UN)",
           "marker": {
            "color": "#636efa",
            "pattern": {
             "shape": ""
            }
           },
           "name": "Africa (UN)",
           "orientation": "v",
           "showlegend": true,
           "text": [
            "16.5"
           ],
           "textposition": "auto",
           "type": "bar",
           "x": [
            "Africa (UN)"
           ],
           "xaxis": "x",
           "y": {
            "bdata": "16NwPQp3MEA=",
            "dtype": "f8"
           },
           "yaxis": "y"
          },
          {
           "hovertemplate": "Region=%{x}<br>Jahr=1989<br>Medianes Alter (Jahre)=%{y}<br>custom_text=%{text}<extra></extra>",
           "legendgroup": "Asia (UN)",
           "marker": {
            "color": "#EF553B",
            "pattern": {
             "shape": ""
            }
           },
           "name": "Asia (UN)",
           "orientation": "v",
           "showlegend": true,
           "text": [
            "21.5"
           ],
           "textposition": "auto",
           "type": "bar",
           "x": [
            "Asia (UN)"
           ],
           "xaxis": "x",
           "y": {
            "bdata": "JQaBlUOLNUA=",
            "dtype": "f8"
           },
           "yaxis": "y"
          },
          {
           "hovertemplate": "Region=%{x}<br>Jahr=1989<br>Medianes Alter (Jahre)=%{y}<br>custom_text=%{text}<extra></extra>",
           "legendgroup": "Europe (UN)",
           "marker": {
            "color": "#00cc96",
            "pattern": {
             "shape": ""
            }
           },
           "name": "Europe (UN)",
           "orientation": "v",
           "showlegend": true,
           "text": [
            "33.3"
           ],
           "textposition": "auto",
           "type": "bar",
           "x": [
            "Europe (UN)"
           ],
           "xaxis": "x",
           "y": {
            "bdata": "16NwPQqnQEA=",
            "dtype": "f8"
           },
           "yaxis": "y"
          },
          {
           "hovertemplate": "Region=%{x}<br>Jahr=1989<br>Medianes Alter (Jahre)=%{y}<br>custom_text=%{text}<extra></extra>",
           "legendgroup": "United States",
           "marker": {
            "color": "#ab63fa",
            "pattern": {
             "shape": ""
            }
           },
           "name": "United States",
           "orientation": "v",
           "showlegend": true,
           "text": [
            "31.6"
           ],
           "textposition": "auto",
           "type": "bar",
           "x": [
            "United States"
           ],
           "xaxis": "x",
           "y": {
            "bdata": "/Knx0k2iP0A=",
            "dtype": "f8"
           },
           "yaxis": "y"
          }
         ],
         "name": "1989"
        },
        {
         "data": [
          {
           "hovertemplate": "Region=%{x}<br>Jahr=1990<br>Medianes Alter (Jahre)=%{y}<br>custom_text=%{text}<extra></extra>",
           "legendgroup": "Africa (UN)",
           "marker": {
            "color": "#636efa",
            "pattern": {
             "shape": ""
            }
           },
           "name": "Africa (UN)",
           "orientation": "v",
           "showlegend": true,
           "text": [
            "16.5"
           ],
           "textposition": "auto",
           "type": "bar",
           "x": [
            "Africa (UN)"
           ],
           "xaxis": "x",
           "y": {
            "bdata": "MQisHFqEMEA=",
            "dtype": "f8"
           },
           "yaxis": "y"
          },
          {
           "hovertemplate": "Region=%{x}<br>Jahr=1990<br>Medianes Alter (Jahre)=%{y}<br>custom_text=%{text}<extra></extra>",
           "legendgroup": "Asia (UN)",
           "marker": {
            "color": "#EF553B",
            "pattern": {
             "shape": ""
            }
           },
           "name": "Asia (UN)",
           "orientation": "v",
           "showlegend": true,
           "text": [
            "21.8"
           ],
           "textposition": "auto",
           "type": "bar",
           "x": [
            "Asia (UN)"
           ],
           "xaxis": "x",
           "y": {
            "bdata": "bxKDwMrBNUA=",
            "dtype": "f8"
           },
           "yaxis": "y"
          },
          {
           "hovertemplate": "Region=%{x}<br>Jahr=1990<br>Medianes Alter (Jahre)=%{y}<br>custom_text=%{text}<extra></extra>",
           "legendgroup": "Europe (UN)",
           "marker": {
            "color": "#00cc96",
            "pattern": {
             "shape": ""
            }
           },
           "name": "Europe (UN)",
           "orientation": "v",
           "showlegend": true,
           "text": [
            "33.6"
           ],
           "textposition": "auto",
           "type": "bar",
           "x": [
            "Europe (UN)"
           ],
           "xaxis": "x",
           "y": {
            "bdata": "16NwPQrHQEA=",
            "dtype": "f8"
           },
           "yaxis": "y"
          },
          {
           "hovertemplate": "Region=%{x}<br>Jahr=1990<br>Medianes Alter (Jahre)=%{y}<br>custom_text=%{text}<extra></extra>",
           "legendgroup": "United States",
           "marker": {
            "color": "#ab63fa",
            "pattern": {
             "shape": ""
            }
           },
           "name": "United States",
           "orientation": "v",
           "showlegend": true,
           "text": [
            "31.9"
           ],
           "textposition": "auto",
           "type": "bar",
           "x": [
            "United States"
           ],
           "xaxis": "x",
           "y": {
            "bdata": "ukkMAivnP0A=",
            "dtype": "f8"
           },
           "yaxis": "y"
          }
         ],
         "name": "1990"
        },
        {
         "data": [
          {
           "hovertemplate": "Region=%{x}<br>Jahr=1991<br>Medianes Alter (Jahre)=%{y}<br>custom_text=%{text}<extra></extra>",
           "legendgroup": "Africa (UN)",
           "marker": {
            "color": "#636efa",
            "pattern": {
             "shape": ""
            }
           },
           "name": "Africa (UN)",
           "orientation": "v",
           "showlegend": true,
           "text": [
            "16.6"
           ],
           "textposition": "auto",
           "type": "bar",
           "x": [
            "Africa (UN)"
           ],
           "xaxis": "x",
           "y": {
            "bdata": "bef7qfGSMEA=",
            "dtype": "f8"
           },
           "yaxis": "y"
          },
          {
           "hovertemplate": "Region=%{x}<br>Jahr=1991<br>Medianes Alter (Jahre)=%{y}<br>custom_text=%{text}<extra></extra>",
           "legendgroup": "Asia (UN)",
           "marker": {
            "color": "#EF553B",
            "pattern": {
             "shape": ""
            }
           },
           "name": "Asia (UN)",
           "orientation": "v",
           "showlegend": true,
           "text": [
            "22.0"
           ],
           "textposition": "auto",
           "type": "bar",
           "x": [
            "Asia (UN)"
           ],
           "xaxis": "x",
           "y": {
            "bdata": "qMZLN4kBNkA=",
            "dtype": "f8"
           },
           "yaxis": "y"
          },
          {
           "hovertemplate": "Region=%{x}<br>Jahr=1991<br>Medianes Alter (Jahre)=%{y}<br>custom_text=%{text}<extra></extra>",
           "legendgroup": "Europe (UN)",
           "marker": {
            "color": "#00cc96",
            "pattern": {
             "shape": ""
            }
           },
           "name": "Europe (UN)",
           "orientation": "v",
           "showlegend": true,
           "text": [
            "33.8"
           ],
           "textposition": "auto",
           "type": "bar",
           "x": [
            "Europe (UN)"
           ],
           "xaxis": "x",
           "y": {
            "bdata": "8KfGSzfpQEA=",
            "dtype": "f8"
           },
           "yaxis": "y"
          },
          {
           "hovertemplate": "Region=%{x}<br>Jahr=1991<br>Medianes Alter (Jahre)=%{y}<br>custom_text=%{text}<extra></extra>",
           "legendgroup": "United States",
           "marker": {
            "color": "#ab63fa",
            "pattern": {
             "shape": ""
            }
           },
           "name": "United States",
           "orientation": "v",
           "showlegend": true,
           "text": [
            "32.1"
           ],
           "textposition": "auto",
           "type": "bar",
           "x": [
            "United States"
           ],
           "xaxis": "x",
           "y": {
            "bdata": "GQRWDi0SQEA=",
            "dtype": "f8"
           },
           "yaxis": "y"
          }
         ],
         "name": "1991"
        },
        {
         "data": [
          {
           "hovertemplate": "Region=%{x}<br>Jahr=1992<br>Medianes Alter (Jahre)=%{y}<br>custom_text=%{text}<extra></extra>",
           "legendgroup": "Africa (UN)",
           "marker": {
            "color": "#636efa",
            "pattern": {
             "shape": ""
            }
           },
           "name": "Africa (UN)",
           "orientation": "v",
           "showlegend": true,
           "text": [
            "16.6"
           ],
           "textposition": "auto",
           "type": "bar",
           "x": [
            "Africa (UN)"
           ],
           "xaxis": "x",
           "y": {
            "bdata": "H4XrUbieMEA=",
            "dtype": "f8"
           },
           "yaxis": "y"
          },
          {
           "hovertemplate": "Region=%{x}<br>Jahr=1992<br>Medianes Alter (Jahre)=%{y}<br>custom_text=%{text}<extra></extra>",
           "legendgroup": "Asia (UN)",
           "marker": {
            "color": "#EF553B",
            "pattern": {
             "shape": ""
            }
           },
           "name": "Asia (UN)",
           "orientation": "v",
           "showlegend": true,
           "text": [
            "22.3"
           ],
           "textposition": "auto",
           "type": "bar",
           "x": [
            "Asia (UN)"
           ],
           "xaxis": "x",
           "y": {
            "bdata": "7FG4HoVLNkA=",
            "dtype": "f8"
           },
           "yaxis": "y"
          },
          {
           "hovertemplate": "Region=%{x}<br>Jahr=1992<br>Medianes Alter (Jahre)=%{y}<br>custom_text=%{text}<extra></extra>",
           "legendgroup": "Europe (UN)",
           "marker": {
            "color": "#00cc96",
            "pattern": {
             "shape": ""
            }
           },
           "name": "Europe (UN)",
           "orientation": "v",
           "showlegend": true,
           "text": [
            "34.1"
           ],
           "textposition": "auto",
           "type": "bar",
           "x": [
            "Europe (UN)"
           ],
           "xaxis": "x",
           "y": {
            "bdata": "rkfhehQOQUA=",
            "dtype": "f8"
           },
           "yaxis": "y"
          },
          {
           "hovertemplate": "Region=%{x}<br>Jahr=1992<br>Medianes Alter (Jahre)=%{y}<br>custom_text=%{text}<extra></extra>",
           "legendgroup": "United States",
           "marker": {
            "color": "#ab63fa",
            "pattern": {
             "shape": ""
            }
           },
           "name": "United States",
           "orientation": "v",
           "showlegend": true,
           "text": [
            "32.4"
           ],
           "textposition": "auto",
           "type": "bar",
           "x": [
            "United States"
           ],
           "xaxis": "x",
           "y": {
            "bdata": "46WbxCAwQEA=",
            "dtype": "f8"
           },
           "yaxis": "y"
          }
         ],
         "name": "1992"
        },
        {
         "data": [
          {
           "hovertemplate": "Region=%{x}<br>Jahr=1993<br>Medianes Alter (Jahre)=%{y}<br>custom_text=%{text}<extra></extra>",
           "legendgroup": "Africa (UN)",
           "marker": {
            "color": "#636efa",
            "pattern": {
             "shape": ""
            }
           },
           "name": "Africa (UN)",
           "orientation": "v",
           "showlegend": true,
           "text": [
            "16.7"
           ],
           "textposition": "auto",
           "type": "bar",
           "x": [
            "Africa (UN)"
           ],
           "xaxis": "x",
           "y": {
            "bdata": "5/up8dKtMEA=",
            "dtype": "f8"
           },
           "yaxis": "y"
          },
          {
           "hovertemplate": "Region=%{x}<br>Jahr=1993<br>Medianes Alter (Jahre)=%{y}<br>custom_text=%{text}<extra></extra>",
           "legendgroup": "Asia (UN)",
           "marker": {
            "color": "#EF553B",
            "pattern": {
             "shape": ""
            }
           },
           "name": "Asia (UN)",
           "orientation": "v",
           "showlegend": true,
           "text": [
            "22.6"
           ],
           "textposition": "auto",
           "type": "bar",
           "x": [
            "Asia (UN)"
           ],
           "xaxis": "x",
           "y": {
            "bdata": "ZDvfT42XNkA=",
            "dtype": "f8"
           },
           "yaxis": "y"
          },
          {
           "hovertemplate": "Region=%{x}<br>Jahr=1993<br>Medianes Alter (Jahre)=%{y}<br>custom_text=%{text}<extra></extra>",
           "legendgroup": "Europe (UN)",
           "marker": {
            "color": "#00cc96",
            "pattern": {
             "shape": ""
            }
           },
           "name": "Europe (UN)",
           "orientation": "v",
           "showlegend": true,
           "text": [
            "34.4"
           ],
           "textposition": "auto",
           "type": "bar",
           "x": [
            "Europe (UN)"
           ],
           "xaxis": "x",
           "y": {
            "bdata": "hxbZzvczQUA=",
            "dtype": "f8"
           },
           "yaxis": "y"
          },
          {
           "hovertemplate": "Region=%{x}<br>Jahr=1993<br>Medianes Alter (Jahre)=%{y}<br>custom_text=%{text}<extra></extra>",
           "legendgroup": "United States",
           "marker": {
            "color": "#ab63fa",
            "pattern": {
             "shape": ""
            }
           },
           "name": "United States",
           "orientation": "v",
           "showlegend": true,
           "text": [
            "32.6"
           ],
           "textposition": "auto",
           "type": "bar",
           "x": [
            "United States"
           ],
           "xaxis": "x",
           "y": {
            "bdata": "O99PjZdOQEA=",
            "dtype": "f8"
           },
           "yaxis": "y"
          }
         ],
         "name": "1993"
        },
        {
         "data": [
          {
           "hovertemplate": "Region=%{x}<br>Jahr=1994<br>Medianes Alter (Jahre)=%{y}<br>custom_text=%{text}<extra></extra>",
           "legendgroup": "Africa (UN)",
           "marker": {
            "color": "#636efa",
            "pattern": {
             "shape": ""
            }
           },
           "name": "Africa (UN)",
           "orientation": "v",
           "showlegend": true,
           "text": [
            "16.7"
           ],
           "textposition": "auto",
           "type": "bar",
           "x": [
            "Africa (UN)"
           ],
           "xaxis": "x",
           "y": {
            "bdata": "rBxaZDu/MEA=",
            "dtype": "f8"
           },
           "yaxis": "y"
          },
          {
           "hovertemplate": "Region=%{x}<br>Jahr=1994<br>Medianes Alter (Jahre)=%{y}<br>custom_text=%{text}<extra></extra>",
           "legendgroup": "Asia (UN)",
           "marker": {
            "color": "#EF553B",
            "pattern": {
             "shape": ""
            }
           },
           "name": "Asia (UN)",
           "orientation": "v",
           "showlegend": true,
           "text": [
            "22.9"
           ],
           "textposition": "auto",
           "type": "bar",
           "x": [
            "Asia (UN)"
           ],
           "xaxis": "x",
           "y": {
            "bdata": "vp8aL93kNkA=",
            "dtype": "f8"
           },
           "yaxis": "y"
          },
          {
           "hovertemplate": "Region=%{x}<br>Jahr=1994<br>Medianes Alter (Jahre)=%{y}<br>custom_text=%{text}<extra></extra>",
           "legendgroup": "Europe (UN)",
           "marker": {
            "color": "#00cc96",
            "pattern": {
             "shape": ""
            }
           },
           "name": "Europe (UN)",
           "orientation": "v",
           "showlegend": true,
           "text": [
            "34.7"
           ],
           "textposition": "auto",
           "type": "bar",
           "x": [
            "Europe (UN)"
           ],
           "xaxis": "x",
           "y": {
            "bdata": "tMh2vp9aQUA=",
            "dtype": "f8"
           },
           "yaxis": "y"
          },
          {
           "hovertemplate": "Region=%{x}<br>Jahr=1994<br>Medianes Alter (Jahre)=%{y}<br>custom_text=%{text}<extra></extra>",
           "legendgroup": "United States",
           "marker": {
            "color": "#ab63fa",
            "pattern": {
             "shape": ""
            }
           },
           "name": "United States",
           "orientation": "v",
           "showlegend": true,
           "text": [
            "32.9"
           ],
           "textposition": "auto",
           "type": "bar",
           "x": [
            "United States"
           ],
           "xaxis": "x",
           "y": {
            "bdata": "WDm0yHZuQEA=",
            "dtype": "f8"
           },
           "yaxis": "y"
          }
         ],
         "name": "1994"
        },
        {
         "data": [
          {
           "hovertemplate": "Region=%{x}<br>Jahr=1995<br>Medianes Alter (Jahre)=%{y}<br>custom_text=%{text}<extra></extra>",
           "legendgroup": "Africa (UN)",
           "marker": {
            "color": "#636efa",
            "pattern": {
             "shape": ""
            }
           },
           "name": "Africa (UN)",
           "orientation": "v",
           "showlegend": true,
           "text": [
            "16.8"
           ],
           "textposition": "auto",
           "type": "bar",
           "x": [
            "Africa (UN)"
           ],
           "xaxis": "x",
           "y": {
            "bdata": "sp3vp8bLMEA=",
            "dtype": "f8"
           },
           "yaxis": "y"
          },
          {
           "hovertemplate": "Region=%{x}<br>Jahr=1995<br>Medianes Alter (Jahre)=%{y}<br>custom_text=%{text}<extra></extra>",
           "legendgroup": "Asia (UN)",
           "marker": {
            "color": "#EF553B",
            "pattern": {
             "shape": ""
            }
           },
           "name": "Asia (UN)",
           "orientation": "v",
           "showlegend": true,
           "text": [
            "23.2"
           ],
           "textposition": "auto",
           "type": "bar",
           "x": [
            "Asia (UN)"
           ],
           "xaxis": "x",
           "y": {
            "bdata": "+n5qvHQzN0A=",
            "dtype": "f8"
           },
           "yaxis": "y"
          },
          {
           "hovertemplate": "Region=%{x}<br>Jahr=1995<br>Medianes Alter (Jahre)=%{y}<br>custom_text=%{text}<extra></extra>",
           "legendgroup": "Europe (UN)",
           "marker": {
            "color": "#00cc96",
            "pattern": {
             "shape": ""
            }
           },
           "name": "Europe (UN)",
           "orientation": "v",
           "showlegend": true,
           "text": [
            "35.0"
           ],
           "textposition": "auto",
           "type": "bar",
           "x": [
            "Europe (UN)"
           ],
           "xaxis": "x",
           "y": {
            "bdata": "jZduEoOAQUA=",
            "dtype": "f8"
           },
           "yaxis": "y"
          },
          {
           "hovertemplate": "Region=%{x}<br>Jahr=1995<br>Medianes Alter (Jahre)=%{y}<br>custom_text=%{text}<extra></extra>",
           "legendgroup": "United States",
           "marker": {
            "color": "#ab63fa",
            "pattern": {
             "shape": ""
            }
           },
           "name": "United States",
           "orientation": "v",
           "showlegend": true,
           "text": [
            "33.1"
           ],
           "textposition": "auto",
           "type": "bar",
           "x": [
            "United States"
           ],
           "xaxis": "x",
           "y": {
            "bdata": "Vg4tsp2PQEA=",
            "dtype": "f8"
           },
           "yaxis": "y"
          }
         ],
         "name": "1995"
        },
        {
         "data": [
          {
           "hovertemplate": "Region=%{x}<br>Jahr=1996<br>Medianes Alter (Jahre)=%{y}<br>custom_text=%{text}<extra></extra>",
           "legendgroup": "Africa (UN)",
           "marker": {
            "color": "#636efa",
            "pattern": {
             "shape": ""
            }
           },
           "name": "Africa (UN)",
           "orientation": "v",
           "showlegend": true,
           "text": [
            "16.8"
           ],
           "textposition": "auto",
           "type": "bar",
           "x": [
            "Africa (UN)"
           ],
           "xaxis": "x",
           "y": {
            "bdata": "i2zn+6nRMEA=",
            "dtype": "f8"
           },
           "yaxis": "y"
          },
          {
           "hovertemplate": "Region=%{x}<br>Jahr=1996<br>Medianes Alter (Jahre)=%{y}<br>custom_text=%{text}<extra></extra>",
           "legendgroup": "Asia (UN)",
           "marker": {
            "color": "#EF553B",
            "pattern": {
             "shape": ""
            }
           },
           "name": "Asia (UN)",
           "orientation": "v",
           "showlegend": true,
           "text": [
            "23.5"
           ],
           "textposition": "auto",
           "type": "bar",
           "x": [
            "Asia (UN)"
           ],
           "xaxis": "x",
           "y": {
            "bdata": "/Knx0k2CN0A=",
            "dtype": "f8"
           },
           "yaxis": "y"
          },
          {
           "hovertemplate": "Region=%{x}<br>Jahr=1996<br>Medianes Alter (Jahre)=%{y}<br>custom_text=%{text}<extra></extra>",
           "legendgroup": "Europe (UN)",
           "marker": {
            "color": "#00cc96",
            "pattern": {
             "shape": ""
            }
           },
           "name": "Europe (UN)",
           "orientation": "v",
           "showlegend": true,
           "text": [
            "35.3"
           ],
           "textposition": "auto",
           "type": "bar",
           "x": [
            "Europe (UN)"
           ],
           "xaxis": "x",
           "y": {
            "bdata": "16NwPQqnQUA=",
            "dtype": "f8"
           },
           "yaxis": "y"
          },
          {
           "hovertemplate": "Region=%{x}<br>Jahr=1996<br>Medianes Alter (Jahre)=%{y}<br>custom_text=%{text}<extra></extra>",
           "legendgroup": "United States",
           "marker": {
            "color": "#ab63fa",
            "pattern": {
             "shape": ""
            }
           },
           "name": "United States",
           "orientation": "v",
           "showlegend": true,
           "text": [
            "33.4"
           ],
           "textposition": "auto",
           "type": "bar",
           "x": [
            "United States"
           ],
           "xaxis": "x",
           "y": {
            "bdata": "cT0K16OwQEA=",
            "dtype": "f8"
           },
           "yaxis": "y"
          }
         ],
         "name": "1996"
        },
        {
         "data": [
          {
           "hovertemplate": "Region=%{x}<br>Jahr=1997<br>Medianes Alter (Jahre)=%{y}<br>custom_text=%{text}<extra></extra>",
           "legendgroup": "Africa (UN)",
           "marker": {
            "color": "#636efa",
            "pattern": {
             "shape": ""
            }
           },
           "name": "Africa (UN)",
           "orientation": "v",
           "showlegend": true,
           "text": [
            "16.9"
           ],
           "textposition": "auto",
           "type": "bar",
           "x": [
            "Africa (UN)"
           ],
           "xaxis": "x",
           "y": {
            "bdata": "exSuR+HaMEA=",
            "dtype": "f8"
           },
           "yaxis": "y"
          },
          {
           "hovertemplate": "Region=%{x}<br>Jahr=1997<br>Medianes Alter (Jahre)=%{y}<br>custom_text=%{text}<extra></extra>",
           "legendgroup": "Asia (UN)",
           "marker": {
            "color": "#EF553B",
            "pattern": {
             "shape": ""
            }
           },
           "name": "Asia (UN)",
           "orientation": "v",
           "showlegend": true,
           "text": [
            "23.8"
           ],
           "textposition": "auto",
           "type": "bar",
           "x": [
            "Asia (UN)"
           ],
           "xaxis": "x",
           "y": {
            "bdata": "/tR46SbRN0A=",
            "dtype": "f8"
           },
           "yaxis": "y"
          },
          {
           "hovertemplate": "Region=%{x}<br>Jahr=1997<br>Medianes Alter (Jahre)=%{y}<br>custom_text=%{text}<extra></extra>",
           "legendgroup": "Europe (UN)",
           "marker": {
            "color": "#00cc96",
            "pattern": {
             "shape": ""
            }
           },
           "name": "Europe (UN)",
           "orientation": "v",
           "showlegend": true,
           "text": [
            "35.6"
           ],
           "textposition": "auto",
           "type": "bar",
           "x": [
            "Europe (UN)"
           ],
           "xaxis": "x",
           "y": {
            "bdata": "HVpkO9/PQUA=",
            "dtype": "f8"
           },
           "yaxis": "y"
          },
          {
           "hovertemplate": "Region=%{x}<br>Jahr=1997<br>Medianes Alter (Jahre)=%{y}<br>custom_text=%{text}<extra></extra>",
           "legendgroup": "United States",
           "marker": {
            "color": "#ab63fa",
            "pattern": {
             "shape": ""
            }
           },
           "name": "United States",
           "orientation": "v",
           "showlegend": true,
           "text": [
            "33.6"
           ],
           "textposition": "auto",
           "type": "bar",
           "x": [
            "United States"
           ],
           "xaxis": "x",
           "y": {
            "bdata": "/tR46SbRQEA=",
            "dtype": "f8"
           },
           "yaxis": "y"
          }
         ],
         "name": "1997"
        },
        {
         "data": [
          {
           "hovertemplate": "Region=%{x}<br>Jahr=1998<br>Medianes Alter (Jahre)=%{y}<br>custom_text=%{text}<extra></extra>",
           "legendgroup": "Africa (UN)",
           "marker": {
            "color": "#636efa",
            "pattern": {
             "shape": ""
            }
           },
           "name": "Africa (UN)",
           "orientation": "v",
           "showlegend": true,
           "text": [
            "16.9"
           ],
           "textposition": "auto",
           "type": "bar",
           "x": [
            "Africa (UN)"
           ],
           "xaxis": "x",
           "y": {
            "bdata": "qvHSTWLwMEA=",
            "dtype": "f8"
           },
           "yaxis": "y"
          },
          {
           "hovertemplate": "Region=%{x}<br>Jahr=1998<br>Medianes Alter (Jahre)=%{y}<br>custom_text=%{text}<extra></extra>",
           "legendgroup": "Asia (UN)",
           "marker": {
            "color": "#EF553B",
            "pattern": {
             "shape": ""
            }
           },
           "name": "Asia (UN)",
           "orientation": "v",
           "showlegend": true,
           "text": [
            "24.1"
           ],
           "textposition": "auto",
           "type": "bar",
           "x": [
            "Asia (UN)"
           ],
           "xaxis": "x",
           "y": {
            "bdata": "jZduEoMgOEA=",
            "dtype": "f8"
           },
           "yaxis": "y"
          },
          {
           "hovertemplate": "Region=%{x}<br>Jahr=1998<br>Medianes Alter (Jahre)=%{y}<br>custom_text=%{text}<extra></extra>",
           "legendgroup": "Europe (UN)",
           "marker": {
            "color": "#00cc96",
            "pattern": {
             "shape": ""
            }
           },
           "name": "Europe (UN)",
           "orientation": "v",
           "showlegend": true,
           "text": [
            "36.0"
           ],
           "textposition": "auto",
           "type": "bar",
           "x": [
            "Europe (UN)"
           ],
           "xaxis": "x",
           "y": {
            "bdata": "lkOLbOf7QUA=",
            "dtype": "f8"
           },
           "yaxis": "y"
          },
          {
           "hovertemplate": "Region=%{x}<br>Jahr=1998<br>Medianes Alter (Jahre)=%{y}<br>custom_text=%{text}<extra></extra>",
           "legendgroup": "United States",
           "marker": {
            "color": "#ab63fa",
            "pattern": {
             "shape": ""
            }
           },
           "name": "United States",
           "orientation": "v",
           "showlegend": true,
           "text": [
            "33.9"
           ],
           "textposition": "auto",
           "type": "bar",
           "x": [
            "United States"
           ],
           "xaxis": "x",
           "y": {
            "bdata": "Vg4tsp3vQEA=",
            "dtype": "f8"
           },
           "yaxis": "y"
          }
         ],
         "name": "1998"
        },
        {
         "data": [
          {
           "hovertemplate": "Region=%{x}<br>Jahr=1999<br>Medianes Alter (Jahre)=%{y}<br>custom_text=%{text}<extra></extra>",
           "legendgroup": "Africa (UN)",
           "marker": {
            "color": "#636efa",
            "pattern": {
             "shape": ""
            }
           },
           "name": "Africa (UN)",
           "orientation": "v",
           "showlegend": true,
           "text": [
            "17.0"
           ],
           "textposition": "auto",
           "type": "bar",
           "x": [
            "Africa (UN)"
           ],
           "xaxis": "x",
           "y": {
            "bdata": "tvP91HgJMUA=",
            "dtype": "f8"
           },
           "yaxis": "y"
          },
          {
           "hovertemplate": "Region=%{x}<br>Jahr=1999<br>Medianes Alter (Jahre)=%{y}<br>custom_text=%{text}<extra></extra>",
           "legendgroup": "Asia (UN)",
           "marker": {
            "color": "#EF553B",
            "pattern": {
             "shape": ""
            }
           },
           "name": "Asia (UN)",
           "orientation": "v",
           "showlegend": true,
           "text": [
            "24.4"
           ],
           "textposition": "auto",
           "type": "bar",
           "x": [
            "Asia (UN)"
           ],
           "xaxis": "x",
           "y": {
            "bdata": "Vg4tsp1vOEA=",
            "dtype": "f8"
           },
           "yaxis": "y"
          },
          {
           "hovertemplate": "Region=%{x}<br>Jahr=1999<br>Medianes Alter (Jahre)=%{y}<br>custom_text=%{text}<extra></extra>",
           "legendgroup": "Europe (UN)",
           "marker": {
            "color": "#00cc96",
            "pattern": {
             "shape": ""
            }
           },
           "name": "Europe (UN)",
           "orientation": "v",
           "showlegend": true,
           "text": [
            "36.3"
           ],
           "textposition": "auto",
           "type": "bar",
           "x": [
            "Europe (UN)"
           ],
           "xaxis": "x",
           "y": {
            "bdata": "1XjpJjEoQkA=",
            "dtype": "f8"
           },
           "yaxis": "y"
          },
          {
           "hovertemplate": "Region=%{x}<br>Jahr=1999<br>Medianes Alter (Jahre)=%{y}<br>custom_text=%{text}<extra></extra>",
           "legendgroup": "United States",
           "marker": {
            "color": "#ab63fa",
            "pattern": {
             "shape": ""
            }
           },
           "name": "United States",
           "orientation": "v",
           "showlegend": true,
           "text": [
            "34.1"
           ],
           "textposition": "auto",
           "type": "bar",
           "x": [
            "United States"
           ],
           "xaxis": "x",
           "y": {
            "bdata": "XI/C9SgMQUA=",
            "dtype": "f8"
           },
           "yaxis": "y"
          }
         ],
         "name": "1999"
        },
        {
         "data": [
          {
           "hovertemplate": "Region=%{x}<br>Jahr=2000<br>Medianes Alter (Jahre)=%{y}<br>custom_text=%{text}<extra></extra>",
           "legendgroup": "Africa (UN)",
           "marker": {
            "color": "#636efa",
            "pattern": {
             "shape": ""
            }
           },
           "name": "Africa (UN)",
           "orientation": "v",
           "showlegend": true,
           "text": [
            "17.1"
           ],
           "textposition": "auto",
           "type": "bar",
           "x": [
            "Africa (UN)"
           ],
           "xaxis": "x",
           "y": {
            "bdata": "Gy/dJAYhMUA=",
            "dtype": "f8"
           },
           "yaxis": "y"
          },
          {
           "hovertemplate": "Region=%{x}<br>Jahr=2000<br>Medianes Alter (Jahre)=%{y}<br>custom_text=%{text}<extra></extra>",
           "legendgroup": "Asia (UN)",
           "marker": {
            "color": "#EF553B",
            "pattern": {
             "shape": ""
            }
           },
           "name": "Asia (UN)",
           "orientation": "v",
           "showlegend": true,
           "text": [
            "24.7"
           ],
           "textposition": "auto",
           "type": "bar",
           "x": [
            "Asia (UN)"
           ],
           "xaxis": "x",
           "y": {
            "bdata": "tMh2vp+6OEA=",
            "dtype": "f8"
           },
           "yaxis": "y"
          },
          {
           "hovertemplate": "Region=%{x}<br>Jahr=2000<br>Medianes Alter (Jahre)=%{y}<br>custom_text=%{text}<extra></extra>",
           "legendgroup": "Europe (UN)",
           "marker": {
            "color": "#00cc96",
            "pattern": {
             "shape": ""
            }
           },
           "name": "Europe (UN)",
           "orientation": "v",
           "showlegend": true,
           "text": [
            "36.6"
           ],
           "textposition": "auto",
           "type": "bar",
           "x": [
            "Europe (UN)"
           ],
           "xaxis": "x",
           "y": {
            "bdata": "Gy/dJAZRQkA=",
            "dtype": "f8"
           },
           "yaxis": "y"
          },
          {
           "hovertemplate": "Region=%{x}<br>Jahr=2000<br>Medianes Alter (Jahre)=%{y}<br>custom_text=%{text}<extra></extra>",
           "legendgroup": "United States",
           "marker": {
            "color": "#ab63fa",
            "pattern": {
             "shape": ""
            }
           },
           "name": "United States",
           "orientation": "v",
           "showlegend": true,
           "text": [
            "34.3"
           ],
           "textposition": "auto",
           "type": "bar",
           "x": [
            "United States"
           ],
           "xaxis": "x",
           "y": {
            "bdata": "aJHtfD8lQUA=",
            "dtype": "f8"
           },
           "yaxis": "y"
          }
         ],
         "name": "2000"
        },
        {
         "data": [
          {
           "hovertemplate": "Region=%{x}<br>Jahr=2001<br>Medianes Alter (Jahre)=%{y}<br>custom_text=%{text}<extra></extra>",
           "legendgroup": "Africa (UN)",
           "marker": {
            "color": "#636efa",
            "pattern": {
             "shape": ""
            }
           },
           "name": "Africa (UN)",
           "orientation": "v",
           "showlegend": true,
           "text": [
            "17.2"
           ],
           "textposition": "auto",
           "type": "bar",
           "x": [
            "Africa (UN)"
           ],
           "xaxis": "x",
           "y": {
            "bdata": "K4cW2c43MUA=",
            "dtype": "f8"
           },
           "yaxis": "y"
          },
          {
           "hovertemplate": "Region=%{x}<br>Jahr=2001<br>Medianes Alter (Jahre)=%{y}<br>custom_text=%{text}<extra></extra>",
           "legendgroup": "Asia (UN)",
           "marker": {
            "color": "#EF553B",
            "pattern": {
             "shape": ""
            }
           },
           "name": "Asia (UN)",
           "orientation": "v",
           "showlegend": true,
           "text": [
            "25.0"
           ],
           "textposition": "auto",
           "type": "bar",
           "x": [
            "Asia (UN)"
           ],
           "xaxis": "x",
           "y": {
            "bdata": "x0s3iUEAOUA=",
            "dtype": "f8"
           },
           "yaxis": "y"
          },
          {
           "hovertemplate": "Region=%{x}<br>Jahr=2001<br>Medianes Alter (Jahre)=%{y}<br>custom_text=%{text}<extra></extra>",
           "legendgroup": "Europe (UN)",
           "marker": {
            "color": "#00cc96",
            "pattern": {
             "shape": ""
            }
           },
           "name": "Europe (UN)",
           "orientation": "v",
           "showlegend": true,
           "text": [
            "36.9"
           ],
           "textposition": "auto",
           "type": "bar",
           "x": [
            "Europe (UN)"
           ],
           "xaxis": "x",
           "y": {
            "bdata": "DAIrhxZ5QkA=",
            "dtype": "f8"
           },
           "yaxis": "y"
          },
          {
           "hovertemplate": "Region=%{x}<br>Jahr=2001<br>Medianes Alter (Jahre)=%{y}<br>custom_text=%{text}<extra></extra>",
           "legendgroup": "United States",
           "marker": {
            "color": "#ab63fa",
            "pattern": {
             "shape": ""
            }
           },
           "name": "United States",
           "orientation": "v",
           "showlegend": true,
           "text": [
            "34.5"
           ],
           "textposition": "auto",
           "type": "bar",
           "x": [
            "United States"
           ],
           "xaxis": "x",
           "y": {
            "bdata": "WmQ73089QUA=",
            "dtype": "f8"
           },
           "yaxis": "y"
          }
         ],
         "name": "2001"
        },
        {
         "data": [
          {
           "hovertemplate": "Region=%{x}<br>Jahr=2002<br>Medianes Alter (Jahre)=%{y}<br>custom_text=%{text}<extra></extra>",
           "legendgroup": "Africa (UN)",
           "marker": {
            "color": "#636efa",
            "pattern": {
             "shape": ""
            }
           },
           "name": "Africa (UN)",
           "orientation": "v",
           "showlegend": true,
           "text": [
            "17.3"
           ],
           "textposition": "auto",
           "type": "bar",
           "x": [
            "Africa (UN)"
           ],
           "xaxis": "x",
           "y": {
            "bdata": "O99PjZdOMUA=",
            "dtype": "f8"
           },
           "yaxis": "y"
          },
          {
           "hovertemplate": "Region=%{x}<br>Jahr=2002<br>Medianes Alter (Jahre)=%{y}<br>custom_text=%{text}<extra></extra>",
           "legendgroup": "Asia (UN)",
           "marker": {
            "color": "#EF553B",
            "pattern": {
             "shape": ""
            }
           },
           "name": "Asia (UN)",
           "orientation": "v",
           "showlegend": true,
           "text": [
            "25.3"
           ],
           "textposition": "auto",
           "type": "bar",
           "x": [
            "Asia (UN)"
           ],
           "xaxis": "x",
           "y": {
            "bdata": "UI2XbhJDOUA=",
            "dtype": "f8"
           },
           "yaxis": "y"
          },
          {
           "hovertemplate": "Region=%{x}<br>Jahr=2002<br>Medianes Alter (Jahre)=%{y}<br>custom_text=%{text}<extra></extra>",
           "legendgroup": "Europe (UN)",
           "marker": {
            "color": "#00cc96",
            "pattern": {
             "shape": ""
            }
           },
           "name": "Europe (UN)",
           "orientation": "v",
           "showlegend": true,
           "text": [
            "37.2"
           ],
           "textposition": "auto",
           "type": "bar",
           "x": [
            "Europe (UN)"
           ],
           "xaxis": "x",
           "y": {
            "bdata": "rkfhehSeQkA=",
            "dtype": "f8"
           },
           "yaxis": "y"
          },
          {
           "hovertemplate": "Region=%{x}<br>Jahr=2002<br>Medianes Alter (Jahre)=%{y}<br>custom_text=%{text}<extra></extra>",
           "legendgroup": "United States",
           "marker": {
            "color": "#ab63fa",
            "pattern": {
             "shape": ""
            }
           },
           "name": "United States",
           "orientation": "v",
           "showlegend": true,
           "text": [
            "34.7"
           ],
           "textposition": "auto",
           "type": "bar",
           "x": [
            "United States"
           ],
           "xaxis": "x",
           "y": {
            "bdata": "vHSTGARWQUA=",
            "dtype": "f8"
           },
           "yaxis": "y"
          }
         ],
         "name": "2002"
        },
        {
         "data": [
          {
           "hovertemplate": "Region=%{x}<br>Jahr=2003<br>Medianes Alter (Jahre)=%{y}<br>custom_text=%{text}<extra></extra>",
           "legendgroup": "Africa (UN)",
           "marker": {
            "color": "#636efa",
            "pattern": {
             "shape": ""
            }
           },
           "name": "Africa (UN)",
           "orientation": "v",
           "showlegend": true,
           "text": [
            "17.4"
           ],
           "textposition": "auto",
           "type": "bar",
           "x": [
            "Africa (UN)"
           ],
           "xaxis": "x",
           "y": {
            "bdata": "hetRuB5lMUA=",
            "dtype": "f8"
           },
           "yaxis": "y"
          },
          {
           "hovertemplate": "Region=%{x}<br>Jahr=2003<br>Medianes Alter (Jahre)=%{y}<br>custom_text=%{text}<extra></extra>",
           "legendgroup": "Asia (UN)",
           "marker": {
            "color": "#EF553B",
            "pattern": {
             "shape": ""
            }
           },
           "name": "Asia (UN)",
           "orientation": "v",
           "showlegend": true,
           "text": [
            "25.5"
           ],
           "textposition": "auto",
           "type": "bar",
           "x": [
            "Asia (UN)"
           ],
           "xaxis": "x",
           "y": {
            "bdata": "+FPjpZuEOUA=",
            "dtype": "f8"
           },
           "yaxis": "y"
          },
          {
           "hovertemplate": "Region=%{x}<br>Jahr=2003<br>Medianes Alter (Jahre)=%{y}<br>custom_text=%{text}<extra></extra>",
           "legendgroup": "Europe (UN)",
           "marker": {
            "color": "#00cc96",
            "pattern": {
             "shape": ""
            }
           },
           "name": "Europe (UN)",
           "orientation": "v",
           "showlegend": true,
           "text": [
            "37.5"
           ],
           "textposition": "auto",
           "type": "bar",
           "x": [
            "Europe (UN)"
           ],
           "xaxis": "x",
           "y": {
            "bdata": "x0s3iUHAQkA=",
            "dtype": "f8"
           },
           "yaxis": "y"
          },
          {
           "hovertemplate": "Region=%{x}<br>Jahr=2003<br>Medianes Alter (Jahre)=%{y}<br>custom_text=%{text}<extra></extra>",
           "legendgroup": "United States",
           "marker": {
            "color": "#ab63fa",
            "pattern": {
             "shape": ""
            }
           },
           "name": "United States",
           "orientation": "v",
           "showlegend": true,
           "text": [
            "34.8"
           ],
           "textposition": "auto",
           "type": "bar",
           "x": [
            "United States"
           ],
           "xaxis": "x",
           "y": {
            "bdata": "XI/C9ShsQUA=",
            "dtype": "f8"
           },
           "yaxis": "y"
          }
         ],
         "name": "2003"
        },
        {
         "data": [
          {
           "hovertemplate": "Region=%{x}<br>Jahr=2004<br>Medianes Alter (Jahre)=%{y}<br>custom_text=%{text}<extra></extra>",
           "legendgroup": "Africa (UN)",
           "marker": {
            "color": "#636efa",
            "pattern": {
             "shape": ""
            }
           },
           "name": "Africa (UN)",
           "orientation": "v",
           "showlegend": true,
           "text": [
            "17.5"
           ],
           "textposition": "auto",
           "type": "bar",
           "x": [
            "Africa (UN)"
           ],
           "xaxis": "x",
           "y": {
            "bdata": "exSuR+F6MUA=",
            "dtype": "f8"
           },
           "yaxis": "y"
          },
          {
           "hovertemplate": "Region=%{x}<br>Jahr=2004<br>Medianes Alter (Jahre)=%{y}<br>custom_text=%{text}<extra></extra>",
           "legendgroup": "Asia (UN)",
           "marker": {
            "color": "#EF553B",
            "pattern": {
             "shape": ""
            }
           },
           "name": "Asia (UN)",
           "orientation": "v",
           "showlegend": true,
           "text": [
            "25.8"
           ],
           "textposition": "auto",
           "type": "bar",
           "x": [
            "Asia (UN)"
           ],
           "xaxis": "x",
           "y": {
            "bdata": "EoPAyqHFOUA=",
            "dtype": "f8"
           },
           "yaxis": "y"
          },
          {
           "hovertemplate": "Region=%{x}<br>Jahr=2004<br>Medianes Alter (Jahre)=%{y}<br>custom_text=%{text}<extra></extra>",
           "legendgroup": "Europe (UN)",
           "marker": {
            "color": "#00cc96",
            "pattern": {
             "shape": ""
            }
           },
           "name": "Europe (UN)",
           "orientation": "v",
           "showlegend": true,
           "text": [
            "37.8"
           ],
           "textposition": "auto",
           "type": "bar",
           "x": [
            "Europe (UN)"
           ],
           "xaxis": "x",
           "y": {
            "bdata": "F9nO91PjQkA=",
            "dtype": "f8"
           },
           "yaxis": "y"
          },
          {
           "hovertemplate": "Region=%{x}<br>Jahr=2004<br>Medianes Alter (Jahre)=%{y}<br>custom_text=%{text}<extra></extra>",
           "legendgroup": "United States",
           "marker": {
            "color": "#ab63fa",
            "pattern": {
             "shape": ""
            }
           },
           "name": "United States",
           "orientation": "v",
           "showlegend": true,
           "text": [
            "35.0"
           ],
           "textposition": "auto",
           "type": "bar",
           "x": [
            "United States"
           ],
           "xaxis": "x",
           "y": {
            "bdata": "/tR46SaBQUA=",
            "dtype": "f8"
           },
           "yaxis": "y"
          }
         ],
         "name": "2004"
        },
        {
         "data": [
          {
           "hovertemplate": "Region=%{x}<br>Jahr=2005<br>Medianes Alter (Jahre)=%{y}<br>custom_text=%{text}<extra></extra>",
           "legendgroup": "Africa (UN)",
           "marker": {
            "color": "#636efa",
            "pattern": {
             "shape": ""
            }
           },
           "name": "Africa (UN)",
           "orientation": "v",
           "showlegend": true,
           "text": [
            "17.6"
           ],
           "textposition": "auto",
           "type": "bar",
           "x": [
            "Africa (UN)"
           ],
           "xaxis": "x",
           "y": {
            "bdata": "AiuHFtmOMUA=",
            "dtype": "f8"
           },
           "yaxis": "y"
          },
          {
           "hovertemplate": "Region=%{x}<br>Jahr=2005<br>Medianes Alter (Jahre)=%{y}<br>custom_text=%{text}<extra></extra>",
           "legendgroup": "Asia (UN)",
           "marker": {
            "color": "#EF553B",
            "pattern": {
             "shape": ""
            }
           },
           "name": "Asia (UN)",
           "orientation": "v",
           "showlegend": true,
           "text": [
            "26.0"
           ],
           "textposition": "auto",
           "type": "bar",
           "x": [
            "Asia (UN)"
           ],
           "xaxis": "x",
           "y": {
            "bdata": "oBov3SQGOkA=",
            "dtype": "f8"
           },
           "yaxis": "y"
          },
          {
           "hovertemplate": "Region=%{x}<br>Jahr=2005<br>Medianes Alter (Jahre)=%{y}<br>custom_text=%{text}<extra></extra>",
           "legendgroup": "Europe (UN)",
           "marker": {
            "color": "#00cc96",
            "pattern": {
             "shape": ""
            }
           },
           "name": "Europe (UN)",
           "orientation": "v",
           "showlegend": true,
           "text": [
            "38.0"
           ],
           "textposition": "auto",
           "type": "bar",
           "x": [
            "Europe (UN)"
           ],
           "xaxis": "x",
           "y": {
            "bdata": "MQisHFoEQ0A=",
            "dtype": "f8"
           },
           "yaxis": "y"
          },
          {
           "hovertemplate": "Region=%{x}<br>Jahr=2005<br>Medianes Alter (Jahre)=%{y}<br>custom_text=%{text}<extra></extra>",
           "legendgroup": "United States",
           "marker": {
            "color": "#ab63fa",
            "pattern": {
             "shape": ""
            }
           },
           "name": "United States",
           "orientation": "v",
           "showlegend": true,
           "text": [
            "35.2"
           ],
           "textposition": "auto",
           "type": "bar",
           "x": [
            "United States"
           ],
           "xaxis": "x",
           "y": {
            "bdata": "ZmZmZmaWQUA=",
            "dtype": "f8"
           },
           "yaxis": "y"
          }
         ],
         "name": "2005"
        },
        {
         "data": [
          {
           "hovertemplate": "Region=%{x}<br>Jahr=2006<br>Medianes Alter (Jahre)=%{y}<br>custom_text=%{text}<extra></extra>",
           "legendgroup": "Africa (UN)",
           "marker": {
            "color": "#636efa",
            "pattern": {
             "shape": ""
            }
           },
           "name": "Africa (UN)",
           "orientation": "v",
           "showlegend": true,
           "text": [
            "17.6"
           ],
           "textposition": "auto",
           "type": "bar",
           "x": [
            "Africa (UN)"
           ],
           "xaxis": "x",
           "y": {
            "bdata": "x0s3iUGgMUA=",
            "dtype": "f8"
           },
           "yaxis": "y"
          },
          {
           "hovertemplate": "Region=%{x}<br>Jahr=2006<br>Medianes Alter (Jahre)=%{y}<br>custom_text=%{text}<extra></extra>",
           "legendgroup": "Asia (UN)",
           "marker": {
            "color": "#EF553B",
            "pattern": {
             "shape": ""
            }
           },
           "name": "Asia (UN)",
           "orientation": "v",
           "showlegend": true,
           "text": [
            "26.3"
           ],
           "textposition": "auto",
           "type": "bar",
           "x": [
            "Asia (UN)"
           ],
           "xaxis": "x",
           "y": {
            "bdata": "RIts5/tJOkA=",
            "dtype": "f8"
           },
           "yaxis": "y"
          },
          {
           "hovertemplate": "Region=%{x}<br>Jahr=2006<br>Medianes Alter (Jahre)=%{y}<br>custom_text=%{text}<extra></extra>",
           "legendgroup": "Europe (UN)",
           "marker": {
            "color": "#00cc96",
            "pattern": {
             "shape": ""
            }
           },
           "name": "Europe (UN)",
           "orientation": "v",
           "showlegend": true,
           "text": [
            "38.3"
           ],
           "textposition": "auto",
           "type": "bar",
           "x": [
            "Europe (UN)"
           ],
           "xaxis": "x",
           "y": {
            "bdata": "EFg5tMgmQ0A=",
            "dtype": "f8"
           },
           "yaxis": "y"
          },
          {
           "hovertemplate": "Region=%{x}<br>Jahr=2006<br>Medianes Alter (Jahre)=%{y}<br>custom_text=%{text}<extra></extra>",
           "legendgroup": "United States",
           "marker": {
            "color": "#ab63fa",
            "pattern": {
             "shape": ""
            }
           },
           "name": "United States",
           "orientation": "v",
           "showlegend": true,
           "text": [
            "35.4"
           ],
           "textposition": "auto",
           "type": "bar",
           "x": [
            "United States"
           ],
           "xaxis": "x",
           "y": {
            "bdata": "kxgEVg6tQUA=",
            "dtype": "f8"
           },
           "yaxis": "y"
          }
         ],
         "name": "2006"
        },
        {
         "data": [
          {
           "hovertemplate": "Region=%{x}<br>Jahr=2007<br>Medianes Alter (Jahre)=%{y}<br>custom_text=%{text}<extra></extra>",
           "legendgroup": "Africa (UN)",
           "marker": {
            "color": "#636efa",
            "pattern": {
             "shape": ""
            }
           },
           "name": "Africa (UN)",
           "orientation": "v",
           "showlegend": true,
           "text": [
            "17.7"
           ],
           "textposition": "auto",
           "type": "bar",
           "x": [
            "Africa (UN)"
           ],
           "xaxis": "x",
           "y": {
            "bdata": "HVpkO9+vMUA=",
            "dtype": "f8"
           },
           "yaxis": "y"
          },
          {
           "hovertemplate": "Region=%{x}<br>Jahr=2007<br>Medianes Alter (Jahre)=%{y}<br>custom_text=%{text}<extra></extra>",
           "legendgroup": "Asia (UN)",
           "marker": {
            "color": "#EF553B",
            "pattern": {
             "shape": ""
            }
           },
           "name": "Asia (UN)",
           "orientation": "v",
           "showlegend": true,
           "text": [
            "26.6"
           ],
           "textposition": "auto",
           "type": "bar",
           "x": [
            "Asia (UN)"
           ],
           "xaxis": "x",
           "y": {
            "bdata": "N4lBYOWQOkA=",
            "dtype": "f8"
           },
           "yaxis": "y"
          },
          {
           "hovertemplate": "Region=%{x}<br>Jahr=2007<br>Medianes Alter (Jahre)=%{y}<br>custom_text=%{text}<extra></extra>",
           "legendgroup": "Europe (UN)",
           "marker": {
            "color": "#00cc96",
            "pattern": {
             "shape": ""
            }
           },
           "name": "Europe (UN)",
           "orientation": "v",
           "showlegend": true,
           "text": [
            "38.6"
           ],
           "textposition": "auto",
           "type": "bar",
           "x": [
            "Europe (UN)"
           ],
           "xaxis": "x",
           "y": {
            "bdata": "uB6F61FIQ0A=",
            "dtype": "f8"
           },
           "yaxis": "y"
          },
          {
           "hovertemplate": "Region=%{x}<br>Jahr=2007<br>Medianes Alter (Jahre)=%{y}<br>custom_text=%{text}<extra></extra>",
           "legendgroup": "United States",
           "marker": {
            "color": "#ab63fa",
            "pattern": {
             "shape": ""
            }
           },
           "name": "United States",
           "orientation": "v",
           "showlegend": true,
           "text": [
            "35.5"
           ],
           "textposition": "auto",
           "type": "bar",
           "x": [
            "United States"
           ],
           "xaxis": "x",
           "y": {
            "bdata": "hxbZzvfDQUA=",
            "dtype": "f8"
           },
           "yaxis": "y"
          }
         ],
         "name": "2007"
        },
        {
         "data": [
          {
           "hovertemplate": "Region=%{x}<br>Jahr=2008<br>Medianes Alter (Jahre)=%{y}<br>custom_text=%{text}<extra></extra>",
           "legendgroup": "Africa (UN)",
           "marker": {
            "color": "#636efa",
            "pattern": {
             "shape": ""
            }
           },
           "name": "Africa (UN)",
           "orientation": "v",
           "showlegend": true,
           "text": [
            "17.7"
           ],
           "textposition": "auto",
           "type": "bar",
           "x": [
            "Africa (UN)"
           ],
           "xaxis": "x",
           "y": {
            "bdata": "c2iR7Xy/MUA=",
            "dtype": "f8"
           },
           "yaxis": "y"
          },
          {
           "hovertemplate": "Region=%{x}<br>Jahr=2008<br>Medianes Alter (Jahre)=%{y}<br>custom_text=%{text}<extra></extra>",
           "legendgroup": "Asia (UN)",
           "marker": {
            "color": "#EF553B",
            "pattern": {
             "shape": ""
            }
           },
           "name": "Asia (UN)",
           "orientation": "v",
           "showlegend": true,
           "text": [
            "26.8"
           ],
           "textposition": "auto",
           "type": "bar",
           "x": [
            "Asia (UN)"
           ],
           "xaxis": "x",
           "y": {
            "bdata": "uB6F61HYOkA=",
            "dtype": "f8"
           },
           "yaxis": "y"
          },
          {
           "hovertemplate": "Region=%{x}<br>Jahr=2008<br>Medianes Alter (Jahre)=%{y}<br>custom_text=%{text}<extra></extra>",
           "legendgroup": "Europe (UN)",
           "marker": {
            "color": "#00cc96",
            "pattern": {
             "shape": ""
            }
           },
           "name": "Europe (UN)",
           "orientation": "v",
           "showlegend": true,
           "text": [
            "38.8"
           ],
           "textposition": "auto",
           "type": "bar",
           "x": [
            "Europe (UN)"
           ],
           "xaxis": "x",
           "y": {
            "bdata": "EoPAyqFlQ0A=",
            "dtype": "f8"
           },
           "yaxis": "y"
          },
          {
           "hovertemplate": "Region=%{x}<br>Jahr=2008<br>Medianes Alter (Jahre)=%{y}<br>custom_text=%{text}<extra></extra>",
           "legendgroup": "United States",
           "marker": {
            "color": "#ab63fa",
            "pattern": {
             "shape": ""
            }
           },
           "name": "United States",
           "orientation": "v",
           "showlegend": true,
           "text": [
            "35.7"
           ],
           "textposition": "auto",
           "type": "bar",
           "x": [
            "United States"
           ],
           "xaxis": "x",
           "y": {
            "bdata": "1XjpJjHYQUA=",
            "dtype": "f8"
           },
           "yaxis": "y"
          }
         ],
         "name": "2008"
        },
        {
         "data": [
          {
           "hovertemplate": "Region=%{x}<br>Jahr=2009<br>Medianes Alter (Jahre)=%{y}<br>custom_text=%{text}<extra></extra>",
           "legendgroup": "Africa (UN)",
           "marker": {
            "color": "#636efa",
            "pattern": {
             "shape": ""
            }
           },
           "name": "Africa (UN)",
           "orientation": "v",
           "showlegend": true,
           "text": [
            "17.8"
           ],
           "textposition": "auto",
           "type": "bar",
           "x": [
            "Africa (UN)"
           ],
           "xaxis": "x",
           "y": {
            "bdata": "yXa+nxrPMUA=",
            "dtype": "f8"
           },
           "yaxis": "y"
          },
          {
           "hovertemplate": "Region=%{x}<br>Jahr=2009<br>Medianes Alter (Jahre)=%{y}<br>custom_text=%{text}<extra></extra>",
           "legendgroup": "Asia (UN)",
           "marker": {
            "color": "#EF553B",
            "pattern": {
             "shape": ""
            }
           },
           "name": "Asia (UN)",
           "orientation": "v",
           "showlegend": true,
           "text": [
            "27.1"
           ],
           "textposition": "auto",
           "type": "bar",
           "x": [
            "Asia (UN)"
           ],
           "xaxis": "x",
           "y": {
            "bdata": "c2iR7XwfO0A=",
            "dtype": "f8"
           },
           "yaxis": "y"
          },
          {
           "hovertemplate": "Region=%{x}<br>Jahr=2009<br>Medianes Alter (Jahre)=%{y}<br>custom_text=%{text}<extra></extra>",
           "legendgroup": "Europe (UN)",
           "marker": {
            "color": "#00cc96",
            "pattern": {
             "shape": ""
            }
           },
           "name": "Europe (UN)",
           "orientation": "v",
           "showlegend": true,
           "text": [
            "39.0"
           ],
           "textposition": "auto",
           "type": "bar",
           "x": [
            "Europe (UN)"
           ],
           "xaxis": "x",
           "y": {
            "bdata": "bef7qfGCQ0A=",
            "dtype": "f8"
           },
           "yaxis": "y"
          },
          {
           "hovertemplate": "Region=%{x}<br>Jahr=2009<br>Medianes Alter (Jahre)=%{y}<br>custom_text=%{text}<extra></extra>",
           "legendgroup": "United States",
           "marker": {
            "color": "#ab63fa",
            "pattern": {
             "shape": ""
            }
           },
           "name": "United States",
           "orientation": "v",
           "showlegend": true,
           "text": [
            "35.8"
           ],
           "textposition": "auto",
           "type": "bar",
           "x": [
            "United States"
           ],
           "xaxis": "x",
           "y": {
            "bdata": "f2q8dJPoQUA=",
            "dtype": "f8"
           },
           "yaxis": "y"
          }
         ],
         "name": "2009"
        },
        {
         "data": [
          {
           "hovertemplate": "Region=%{x}<br>Jahr=2010<br>Medianes Alter (Jahre)=%{y}<br>custom_text=%{text}<extra></extra>",
           "legendgroup": "Africa (UN)",
           "marker": {
            "color": "#636efa",
            "pattern": {
             "shape": ""
            }
           },
           "name": "Africa (UN)",
           "orientation": "v",
           "showlegend": true,
           "text": [
            "17.9"
           ],
           "textposition": "auto",
           "type": "bar",
           "x": [
            "Africa (UN)"
           ],
           "xaxis": "x",
           "y": {
            "bdata": "y6FFtvPdMUA=",
            "dtype": "f8"
           },
           "yaxis": "y"
          },
          {
           "hovertemplate": "Region=%{x}<br>Jahr=2010<br>Medianes Alter (Jahre)=%{y}<br>custom_text=%{text}<extra></extra>",
           "legendgroup": "Asia (UN)",
           "marker": {
            "color": "#EF553B",
            "pattern": {
             "shape": ""
            }
           },
           "name": "Asia (UN)",
           "orientation": "v",
           "showlegend": true,
           "text": [
            "27.4"
           ],
           "textposition": "auto",
           "type": "bar",
           "x": [
            "Asia (UN)"
           ],
           "xaxis": "x",
           "y": {
            "bdata": "fT81XrppO0A=",
            "dtype": "f8"
           },
           "yaxis": "y"
          },
          {
           "hovertemplate": "Region=%{x}<br>Jahr=2010<br>Medianes Alter (Jahre)=%{y}<br>custom_text=%{text}<extra></extra>",
           "legendgroup": "Europe (UN)",
           "marker": {
            "color": "#00cc96",
            "pattern": {
             "shape": ""
            }
           },
           "name": "Europe (UN)",
           "orientation": "v",
           "showlegend": true,
           "text": [
            "39.3"
           ],
           "textposition": "auto",
           "type": "bar",
           "x": [
            "Europe (UN)"
           ],
           "xaxis": "x",
           "y": {
            "bdata": "Gy/dJAahQ0A=",
            "dtype": "f8"
           },
           "yaxis": "y"
          },
          {
           "hovertemplate": "Region=%{x}<br>Jahr=2010<br>Medianes Alter (Jahre)=%{y}<br>custom_text=%{text}<extra></extra>",
           "legendgroup": "United States",
           "marker": {
            "color": "#ab63fa",
            "pattern": {
             "shape": ""
            }
           },
           "name": "United States",
           "orientation": "v",
           "showlegend": true,
           "text": [
            "35.9"
           ],
           "textposition": "auto",
           "type": "bar",
           "x": [
            "United States"
           ],
           "xaxis": "x",
           "y": {
            "bdata": "9ihcj8L1QUA=",
            "dtype": "f8"
           },
           "yaxis": "y"
          }
         ],
         "name": "2010"
        },
        {
         "data": [
          {
           "hovertemplate": "Region=%{x}<br>Jahr=2011<br>Medianes Alter (Jahre)=%{y}<br>custom_text=%{text}<extra></extra>",
           "legendgroup": "Africa (UN)",
           "marker": {
            "color": "#636efa",
            "pattern": {
             "shape": ""
            }
           },
           "name": "Africa (UN)",
           "orientation": "v",
           "showlegend": true,
           "text": [
            "17.9"
           ],
           "textposition": "auto",
           "type": "bar",
           "x": [
            "Africa (UN)"
           ],
           "xaxis": "x",
           "y": {
            "bdata": "zczMzMzsMUA=",
            "dtype": "f8"
           },
           "yaxis": "y"
          },
          {
           "hovertemplate": "Region=%{x}<br>Jahr=2011<br>Medianes Alter (Jahre)=%{y}<br>custom_text=%{text}<extra></extra>",
           "legendgroup": "Asia (UN)",
           "marker": {
            "color": "#EF553B",
            "pattern": {
             "shape": ""
            }
           },
           "name": "Asia (UN)",
           "orientation": "v",
           "showlegend": true,
           "text": [
            "27.7"
           ],
           "textposition": "auto",
           "type": "bar",
           "x": [
            "Asia (UN)"
           ],
           "xaxis": "x",
           "y": {
            "bdata": "L90kBoG1O0A=",
            "dtype": "f8"
           },
           "yaxis": "y"
          },
          {
           "hovertemplate": "Region=%{x}<br>Jahr=2011<br>Medianes Alter (Jahre)=%{y}<br>custom_text=%{text}<extra></extra>",
           "legendgroup": "Europe (UN)",
           "marker": {
            "color": "#00cc96",
            "pattern": {
             "shape": ""
            }
           },
           "name": "Europe (UN)",
           "orientation": "v",
           "showlegend": true,
           "text": [
            "39.5"
           ],
           "textposition": "auto",
           "type": "bar",
           "x": [
            "Europe (UN)"
           ],
           "xaxis": "x",
           "y": {
            "bdata": "jZduEoPAQ0A=",
            "dtype": "f8"
           },
           "yaxis": "y"
          },
          {
           "hovertemplate": "Region=%{x}<br>Jahr=2011<br>Medianes Alter (Jahre)=%{y}<br>custom_text=%{text}<extra></extra>",
           "legendgroup": "United States",
           "marker": {
            "color": "#ab63fa",
            "pattern": {
             "shape": ""
            }
           },
           "name": "United States",
           "orientation": "v",
           "showlegend": true,
           "text": [
            "36.0"
           ],
           "textposition": "auto",
           "type": "bar",
           "x": [
            "United States"
           ],
           "xaxis": "x",
           "y": {
            "bdata": "Gy/dJAYBQkA=",
            "dtype": "f8"
           },
           "yaxis": "y"
          }
         ],
         "name": "2011"
        },
        {
         "data": [
          {
           "hovertemplate": "Region=%{x}<br>Jahr=2012<br>Medianes Alter (Jahre)=%{y}<br>custom_text=%{text}<extra></extra>",
           "legendgroup": "Africa (UN)",
           "marker": {
            "color": "#636efa",
            "pattern": {
             "shape": ""
            }
           },
           "name": "Africa (UN)",
           "orientation": "v",
           "showlegend": true,
           "text": [
            "18.0"
           ],
           "textposition": "auto",
           "type": "bar",
           "x": [
            "Africa (UN)"
           ],
           "xaxis": "x",
           "y": {
            "bdata": "I9v5fmr8MUA=",
            "dtype": "f8"
           },
           "yaxis": "y"
          },
          {
           "hovertemplate": "Region=%{x}<br>Jahr=2012<br>Medianes Alter (Jahre)=%{y}<br>custom_text=%{text}<extra></extra>",
           "legendgroup": "Asia (UN)",
           "marker": {
            "color": "#EF553B",
            "pattern": {
             "shape": ""
            }
           },
           "name": "Asia (UN)",
           "orientation": "v",
           "showlegend": true,
           "text": [
            "28.0"
           ],
           "textposition": "auto",
           "type": "bar",
           "x": [
            "Asia (UN)"
           ],
           "xaxis": "x",
           "y": {
            "bdata": "c2iR7Xz/O0A=",
            "dtype": "f8"
           },
           "yaxis": "y"
          },
          {
           "hovertemplate": "Region=%{x}<br>Jahr=2012<br>Medianes Alter (Jahre)=%{y}<br>custom_text=%{text}<extra></extra>",
           "legendgroup": "Europe (UN)",
           "marker": {
            "color": "#00cc96",
            "pattern": {
             "shape": ""
            }
           },
           "name": "Europe (UN)",
           "orientation": "v",
           "showlegend": true,
           "text": [
            "39.8"
           ],
           "textposition": "auto",
           "type": "bar",
           "x": [
            "Europe (UN)"
           ],
           "xaxis": "x",
           "y": {
            "bdata": "UrgehevhQ0A=",
            "dtype": "f8"
           },
           "yaxis": "y"
          },
          {
           "hovertemplate": "Region=%{x}<br>Jahr=2012<br>Medianes Alter (Jahre)=%{y}<br>custom_text=%{text}<extra></extra>",
           "legendgroup": "United States",
           "marker": {
            "color": "#ab63fa",
            "pattern": {
             "shape": ""
            }
           },
           "name": "United States",
           "orientation": "v",
           "showlegend": true,
           "text": [
            "36.1"
           ],
           "textposition": "auto",
           "type": "bar",
           "x": [
            "United States"
           ],
           "xaxis": "x",
           "y": {
            "bdata": "7FG4HoULQkA=",
            "dtype": "f8"
           },
           "yaxis": "y"
          }
         ],
         "name": "2012"
        },
        {
         "data": [
          {
           "hovertemplate": "Region=%{x}<br>Jahr=2013<br>Medianes Alter (Jahre)=%{y}<br>custom_text=%{text}<extra></extra>",
           "legendgroup": "Africa (UN)",
           "marker": {
            "color": "#636efa",
            "pattern": {
             "shape": ""
            }
           },
           "name": "Africa (UN)",
           "orientation": "v",
           "showlegend": true,
           "text": [
            "18.1"
           ],
           "textposition": "auto",
           "type": "bar",
           "x": [
            "Africa (UN)"
           ],
           "xaxis": "x",
           "y": {
            "bdata": "zczMzMwMMkA=",
            "dtype": "f8"
           },
           "yaxis": "y"
          },
          {
           "hovertemplate": "Region=%{x}<br>Jahr=2013<br>Medianes Alter (Jahre)=%{y}<br>custom_text=%{text}<extra></extra>",
           "legendgroup": "Asia (UN)",
           "marker": {
            "color": "#EF553B",
            "pattern": {
             "shape": ""
            }
           },
           "name": "Asia (UN)",
           "orientation": "v",
           "showlegend": true,
           "text": [
            "28.3"
           ],
           "textposition": "auto",
           "type": "bar",
           "x": [
            "Asia (UN)"
           ],
           "xaxis": "x",
           "y": {
            "bdata": "YhBYObRIPEA=",
            "dtype": "f8"
           },
           "yaxis": "y"
          },
          {
           "hovertemplate": "Region=%{x}<br>Jahr=2013<br>Medianes Alter (Jahre)=%{y}<br>custom_text=%{text}<extra></extra>",
           "legendgroup": "Europe (UN)",
           "marker": {
            "color": "#00cc96",
            "pattern": {
             "shape": ""
            }
           },
           "name": "Europe (UN)",
           "orientation": "v",
           "showlegend": true,
           "text": [
            "40.0"
           ],
           "textposition": "auto",
           "type": "bar",
           "x": [
            "Europe (UN)"
           ],
           "xaxis": "x",
           "y": {
            "bdata": "NV66SQwCREA=",
            "dtype": "f8"
           },
           "yaxis": "y"
          },
          {
           "hovertemplate": "Region=%{x}<br>Jahr=2013<br>Medianes Alter (Jahre)=%{y}<br>custom_text=%{text}<extra></extra>",
           "legendgroup": "United States",
           "marker": {
            "color": "#ab63fa",
            "pattern": {
             "shape": ""
            }
           },
           "name": "United States",
           "orientation": "v",
           "showlegend": true,
           "text": [
            "36.2"
           ],
           "textposition": "auto",
           "type": "bar",
           "x": [
            "United States"
           ],
           "xaxis": "x",
           "y": {
            "bdata": "ZmZmZmYWQkA=",
            "dtype": "f8"
           },
           "yaxis": "y"
          }
         ],
         "name": "2013"
        },
        {
         "data": [
          {
           "hovertemplate": "Region=%{x}<br>Jahr=2014<br>Medianes Alter (Jahre)=%{y}<br>custom_text=%{text}<extra></extra>",
           "legendgroup": "Africa (UN)",
           "marker": {
            "color": "#636efa",
            "pattern": {
             "shape": ""
            }
           },
           "name": "Africa (UN)",
           "orientation": "v",
           "showlegend": true,
           "text": [
            "18.1"
           ],
           "textposition": "auto",
           "type": "bar",
           "x": [
            "Africa (UN)"
           ],
           "xaxis": "x",
           "y": {
            "bdata": "I9v5fmocMkA=",
            "dtype": "f8"
           },
           "yaxis": "y"
          },
          {
           "hovertemplate": "Region=%{x}<br>Jahr=2014<br>Medianes Alter (Jahre)=%{y}<br>custom_text=%{text}<extra></extra>",
           "legendgroup": "Asia (UN)",
           "marker": {
            "color": "#EF553B",
            "pattern": {
             "shape": ""
            }
           },
           "name": "Asia (UN)",
           "orientation": "v",
           "showlegend": true,
           "text": [
            "28.6"
           ],
           "textposition": "auto",
           "type": "bar",
           "x": [
            "Asia (UN)"
           ],
           "xaxis": "x",
           "y": {
            "bdata": "okW28/2UPEA=",
            "dtype": "f8"
           },
           "yaxis": "y"
          },
          {
           "hovertemplate": "Region=%{x}<br>Jahr=2014<br>Medianes Alter (Jahre)=%{y}<br>custom_text=%{text}<extra></extra>",
           "legendgroup": "Europe (UN)",
           "marker": {
            "color": "#00cc96",
            "pattern": {
             "shape": ""
            }
           },
           "name": "Europe (UN)",
           "orientation": "v",
           "showlegend": true,
           "text": [
            "40.2"
           ],
           "textposition": "auto",
           "type": "bar",
           "x": [
            "Europe (UN)"
           ],
           "xaxis": "x",
           "y": {
            "bdata": "rBxaZDsfREA=",
            "dtype": "f8"
           },
           "yaxis": "y"
          },
          {
           "hovertemplate": "Region=%{x}<br>Jahr=2014<br>Medianes Alter (Jahre)=%{y}<br>custom_text=%{text}<extra></extra>",
           "legendgroup": "United States",
           "marker": {
            "color": "#ab63fa",
            "pattern": {
             "shape": ""
            }
           },
           "name": "United States",
           "orientation": "v",
           "showlegend": true,
           "text": [
            "36.3"
           ],
           "textposition": "auto",
           "type": "bar",
           "x": [
            "United States"
           ],
           "xaxis": "x",
           "y": {
            "bdata": "UI2XbhIjQkA=",
            "dtype": "f8"
           },
           "yaxis": "y"
          }
         ],
         "name": "2014"
        },
        {
         "data": [
          {
           "hovertemplate": "Region=%{x}<br>Jahr=2015<br>Medianes Alter (Jahre)=%{y}<br>custom_text=%{text}<extra></extra>",
           "legendgroup": "Africa (UN)",
           "marker": {
            "color": "#636efa",
            "pattern": {
             "shape": ""
            }
           },
           "name": "Africa (UN)",
           "orientation": "v",
           "showlegend": true,
           "text": [
            "18.2"
           ],
           "textposition": "auto",
           "type": "bar",
           "x": [
            "Africa (UN)"
           ],
           "xaxis": "x",
           "y": {
            "bdata": "BoGVQ4ssMkA=",
            "dtype": "f8"
           },
           "yaxis": "y"
          },
          {
           "hovertemplate": "Region=%{x}<br>Jahr=2015<br>Medianes Alter (Jahre)=%{y}<br>custom_text=%{text}<extra></extra>",
           "legendgroup": "Asia (UN)",
           "marker": {
            "color": "#EF553B",
            "pattern": {
             "shape": ""
            }
           },
           "name": "Asia (UN)",
           "orientation": "v",
           "showlegend": true,
           "text": [
            "28.9"
           ],
           "textposition": "auto",
           "type": "bar",
           "x": [
            "Asia (UN)"
           ],
           "xaxis": "x",
           "y": {
            "bdata": "EoPAyqHlPEA=",
            "dtype": "f8"
           },
           "yaxis": "y"
          },
          {
           "hovertemplate": "Region=%{x}<br>Jahr=2015<br>Medianes Alter (Jahre)=%{y}<br>custom_text=%{text}<extra></extra>",
           "legendgroup": "Europe (UN)",
           "marker": {
            "color": "#00cc96",
            "pattern": {
             "shape": ""
            }
           },
           "name": "Europe (UN)",
           "orientation": "v",
           "showlegend": true,
           "text": [
            "40.4"
           ],
           "textposition": "auto",
           "type": "bar",
           "x": [
            "Europe (UN)"
           ],
           "xaxis": "x",
           "y": {
            "bdata": "Rrbz/dQ4REA=",
            "dtype": "f8"
           },
           "yaxis": "y"
          },
          {
           "hovertemplate": "Region=%{x}<br>Jahr=2015<br>Medianes Alter (Jahre)=%{y}<br>custom_text=%{text}<extra></extra>",
           "legendgroup": "United States",
           "marker": {
            "color": "#ab63fa",
            "pattern": {
             "shape": ""
            }
           },
           "name": "United States",
           "orientation": "v",
           "showlegend": true,
           "text": [
            "36.4"
           ],
           "textposition": "auto",
           "type": "bar",
           "x": [
            "United States"
           ],
           "xaxis": "x",
           "y": {
            "bdata": "qMZLN4kxQkA=",
            "dtype": "f8"
           },
           "yaxis": "y"
          }
         ],
         "name": "2015"
        },
        {
         "data": [
          {
           "hovertemplate": "Region=%{x}<br>Jahr=2016<br>Medianes Alter (Jahre)=%{y}<br>custom_text=%{text}<extra></extra>",
           "legendgroup": "Africa (UN)",
           "marker": {
            "color": "#636efa",
            "pattern": {
             "shape": ""
            }
           },
           "name": "Africa (UN)",
           "orientation": "v",
           "showlegend": true,
           "text": [
            "18.2"
           ],
           "textposition": "auto",
           "type": "bar",
           "x": [
            "Africa (UN)"
           ],
           "xaxis": "x",
           "y": {
            "bdata": "BFYOLbI9MkA=",
            "dtype": "f8"
           },
           "yaxis": "y"
          },
          {
           "hovertemplate": "Region=%{x}<br>Jahr=2016<br>Medianes Alter (Jahre)=%{y}<br>custom_text=%{text}<extra></extra>",
           "legendgroup": "Asia (UN)",
           "marker": {
            "color": "#EF553B",
            "pattern": {
             "shape": ""
            }
           },
           "name": "Asia (UN)",
           "orientation": "v",
           "showlegend": true,
           "text": [
            "29.2"
           ],
           "textposition": "auto",
           "type": "bar",
           "x": [
            "Asia (UN)"
           ],
           "xaxis": "x",
           "y": {
            "bdata": "f2q8dJM4PUA=",
            "dtype": "f8"
           },
           "yaxis": "y"
          },
          {
           "hovertemplate": "Region=%{x}<br>Jahr=2016<br>Medianes Alter (Jahre)=%{y}<br>custom_text=%{text}<extra></extra>",
           "legendgroup": "Europe (UN)",
           "marker": {
            "color": "#00cc96",
            "pattern": {
             "shape": ""
            }
           },
           "name": "Europe (UN)",
           "orientation": "v",
           "showlegend": true,
           "text": [
            "40.6"
           ],
           "textposition": "auto",
           "type": "bar",
           "x": [
            "Europe (UN)"
           ],
           "xaxis": "x",
           "y": {
            "bdata": "cT0K16NQREA=",
            "dtype": "f8"
           },
           "yaxis": "y"
          },
          {
           "hovertemplate": "Region=%{x}<br>Jahr=2016<br>Medianes Alter (Jahre)=%{y}<br>custom_text=%{text}<extra></extra>",
           "legendgroup": "United States",
           "marker": {
            "color": "#ab63fa",
            "pattern": {
             "shape": ""
            }
           },
           "name": "United States",
           "orientation": "v",
           "showlegend": true,
           "text": [
            "36.5"
           ],
           "textposition": "auto",
           "type": "bar",
           "x": [
            "United States"
           ],
           "xaxis": "x",
           "y": {
            "bdata": "/tR46SZBQkA=",
            "dtype": "f8"
           },
           "yaxis": "y"
          }
         ],
         "name": "2016"
        },
        {
         "data": [
          {
           "hovertemplate": "Region=%{x}<br>Jahr=2017<br>Medianes Alter (Jahre)=%{y}<br>custom_text=%{text}<extra></extra>",
           "legendgroup": "Africa (UN)",
           "marker": {
            "color": "#636efa",
            "pattern": {
             "shape": ""
            }
           },
           "name": "Africa (UN)",
           "orientation": "v",
           "showlegend": true,
           "text": [
            "18.3"
           ],
           "textposition": "auto",
           "type": "bar",
           "x": [
            "Africa (UN)"
           ],
           "xaxis": "x",
           "y": {
            "bdata": "UrgehetRMkA=",
            "dtype": "f8"
           },
           "yaxis": "y"
          },
          {
           "hovertemplate": "Region=%{x}<br>Jahr=2017<br>Medianes Alter (Jahre)=%{y}<br>custom_text=%{text}<extra></extra>",
           "legendgroup": "Asia (UN)",
           "marker": {
            "color": "#EF553B",
            "pattern": {
             "shape": ""
            }
           },
           "name": "Asia (UN)",
           "orientation": "v",
           "showlegend": true,
           "text": [
            "29.5"
           ],
           "textposition": "auto",
           "type": "bar",
           "x": [
            "Asia (UN)"
           ],
           "xaxis": "x",
           "y": {
            "bdata": "PzVeukmMPUA=",
            "dtype": "f8"
           },
           "yaxis": "y"
          },
          {
           "hovertemplate": "Region=%{x}<br>Jahr=2017<br>Medianes Alter (Jahre)=%{y}<br>custom_text=%{text}<extra></extra>",
           "legendgroup": "Europe (UN)",
           "marker": {
            "color": "#00cc96",
            "pattern": {
             "shape": ""
            }
           },
           "name": "Europe (UN)",
           "orientation": "v",
           "showlegend": true,
           "text": [
            "40.8"
           ],
           "textposition": "auto",
           "type": "bar",
           "x": [
            "Europe (UN)"
           ],
           "xaxis": "x",
           "y": {
            "bdata": "XrpJDAJrREA=",
            "dtype": "f8"
           },
           "yaxis": "y"
          },
          {
           "hovertemplate": "Region=%{x}<br>Jahr=2017<br>Medianes Alter (Jahre)=%{y}<br>custom_text=%{text}<extra></extra>",
           "legendgroup": "United States",
           "marker": {
            "color": "#ab63fa",
            "pattern": {
             "shape": ""
            }
           },
           "name": "United States",
           "orientation": "v",
           "showlegend": true,
           "text": [
            "36.6"
           ],
           "textposition": "auto",
           "type": "bar",
           "x": [
            "United States"
           ],
           "xaxis": "x",
           "y": {
            "bdata": "MzMzMzNTQkA=",
            "dtype": "f8"
           },
           "yaxis": "y"
          }
         ],
         "name": "2017"
        },
        {
         "data": [
          {
           "hovertemplate": "Region=%{x}<br>Jahr=2018<br>Medianes Alter (Jahre)=%{y}<br>custom_text=%{text}<extra></extra>",
           "legendgroup": "Africa (UN)",
           "marker": {
            "color": "#636efa",
            "pattern": {
             "shape": ""
            }
           },
           "name": "Africa (UN)",
           "orientation": "v",
           "showlegend": true,
           "text": [
            "18.4"
           ],
           "textposition": "auto",
           "type": "bar",
           "x": [
            "Africa (UN)"
           ],
           "xaxis": "x",
           "y": {
            "bdata": "sp3vp8ZrMkA=",
            "dtype": "f8"
           },
           "yaxis": "y"
          },
          {
           "hovertemplate": "Region=%{x}<br>Jahr=2018<br>Medianes Alter (Jahre)=%{y}<br>custom_text=%{text}<extra></extra>",
           "legendgroup": "Asia (UN)",
           "marker": {
            "color": "#EF553B",
            "pattern": {
             "shape": ""
            }
           },
           "name": "Asia (UN)",
           "orientation": "v",
           "showlegend": true,
           "text": [
            "29.9"
           ],
           "textposition": "auto",
           "type": "bar",
           "x": [
            "Asia (UN)"
           ],
           "xaxis": "x",
           "y": {
            "bdata": "3SQGgZXjPUA=",
            "dtype": "f8"
           },
           "yaxis": "y"
          },
          {
           "hovertemplate": "Region=%{x}<br>Jahr=2018<br>Medianes Alter (Jahre)=%{y}<br>custom_text=%{text}<extra></extra>",
           "legendgroup": "Europe (UN)",
           "marker": {
            "color": "#00cc96",
            "pattern": {
             "shape": ""
            }
           },
           "name": "Europe (UN)",
           "orientation": "v",
           "showlegend": true,
           "text": [
            "41.1"
           ],
           "textposition": "auto",
           "type": "bar",
           "x": [
            "Europe (UN)"
           ],
           "xaxis": "x",
           "y": {
            "bdata": "16NwPQqHREA=",
            "dtype": "f8"
           },
           "yaxis": "y"
          },
          {
           "hovertemplate": "Region=%{x}<br>Jahr=2018<br>Medianes Alter (Jahre)=%{y}<br>custom_text=%{text}<extra></extra>",
           "legendgroup": "United States",
           "marker": {
            "color": "#ab63fa",
            "pattern": {
             "shape": ""
            }
           },
           "name": "United States",
           "orientation": "v",
           "showlegend": true,
           "text": [
            "36.8"
           ],
           "textposition": "auto",
           "type": "bar",
           "x": [
            "United States"
           ],
           "xaxis": "x",
           "y": {
            "bdata": "YhBYObRoQkA=",
            "dtype": "f8"
           },
           "yaxis": "y"
          }
         ],
         "name": "2018"
        },
        {
         "data": [
          {
           "hovertemplate": "Region=%{x}<br>Jahr=2019<br>Medianes Alter (Jahre)=%{y}<br>custom_text=%{text}<extra></extra>",
           "legendgroup": "Africa (UN)",
           "marker": {
            "color": "#636efa",
            "pattern": {
             "shape": ""
            }
           },
           "name": "Africa (UN)",
           "orientation": "v",
           "showlegend": true,
           "text": [
            "18.5"
           ],
           "textposition": "auto",
           "type": "bar",
           "x": [
            "Africa (UN)"
           ],
           "xaxis": "x",
           "y": {
            "bdata": "1XjpJjGIMkA=",
            "dtype": "f8"
           },
           "yaxis": "y"
          },
          {
           "hovertemplate": "Region=%{x}<br>Jahr=2019<br>Medianes Alter (Jahre)=%{y}<br>custom_text=%{text}<extra></extra>",
           "legendgroup": "Asia (UN)",
           "marker": {
            "color": "#EF553B",
            "pattern": {
             "shape": ""
            }
           },
           "name": "Asia (UN)",
           "orientation": "v",
           "showlegend": true,
           "text": [
            "30.2"
           ],
           "textposition": "auto",
           "type": "bar",
           "x": [
            "Asia (UN)"
           ],
           "xaxis": "x",
           "y": {
            "bdata": "ke18PzU+PkA=",
            "dtype": "f8"
           },
           "yaxis": "y"
          },
          {
           "hovertemplate": "Region=%{x}<br>Jahr=2019<br>Medianes Alter (Jahre)=%{y}<br>custom_text=%{text}<extra></extra>",
           "legendgroup": "Europe (UN)",
           "marker": {
            "color": "#00cc96",
            "pattern": {
             "shape": ""
            }
           },
           "name": "Europe (UN)",
           "orientation": "v",
           "showlegend": true,
           "text": [
            "41.3"
           ],
           "textposition": "auto",
           "type": "bar",
           "x": [
            "Europe (UN)"
           ],
           "xaxis": "x",
           "y": {
            "bdata": "pHA9CtejREA=",
            "dtype": "f8"
           },
           "yaxis": "y"
          },
          {
           "hovertemplate": "Region=%{x}<br>Jahr=2019<br>Medianes Alter (Jahre)=%{y}<br>custom_text=%{text}<extra></extra>",
           "legendgroup": "United States",
           "marker": {
            "color": "#ab63fa",
            "pattern": {
             "shape": ""
            }
           },
           "name": "United States",
           "orientation": "v",
           "showlegend": true,
           "text": [
            "37.0"
           ],
           "textposition": "auto",
           "type": "bar",
           "x": [
            "United States"
           ],
           "xaxis": "x",
           "y": {
            "bdata": "x0s3iUGAQkA=",
            "dtype": "f8"
           },
           "yaxis": "y"
          }
         ],
         "name": "2019"
        },
        {
         "data": [
          {
           "hovertemplate": "Region=%{x}<br>Jahr=2020<br>Medianes Alter (Jahre)=%{y}<br>custom_text=%{text}<extra></extra>",
           "legendgroup": "Africa (UN)",
           "marker": {
            "color": "#636efa",
            "pattern": {
             "shape": ""
            }
           },
           "name": "Africa (UN)",
           "orientation": "v",
           "showlegend": true,
           "text": [
            "18.6"
           ],
           "textposition": "auto",
           "type": "bar",
           "x": [
            "Africa (UN)"
           ],
           "xaxis": "x",
           "y": {
            "bdata": "oBov3SSmMkA=",
            "dtype": "f8"
           },
           "yaxis": "y"
          },
          {
           "hovertemplate": "Region=%{x}<br>Jahr=2020<br>Medianes Alter (Jahre)=%{y}<br>custom_text=%{text}<extra></extra>",
           "legendgroup": "Asia (UN)",
           "marker": {
            "color": "#EF553B",
            "pattern": {
             "shape": ""
            }
           },
           "name": "Asia (UN)",
           "orientation": "v",
           "showlegend": true,
           "text": [
            "30.6"
           ],
           "textposition": "auto",
           "type": "bar",
           "x": [
            "Asia (UN)"
           ],
           "xaxis": "x",
           "y": {
            "bdata": "tMh2vp+aPkA=",
            "dtype": "f8"
           },
           "yaxis": "y"
          },
          {
           "hovertemplate": "Region=%{x}<br>Jahr=2020<br>Medianes Alter (Jahre)=%{y}<br>custom_text=%{text}<extra></extra>",
           "legendgroup": "Europe (UN)",
           "marker": {
            "color": "#00cc96",
            "pattern": {
             "shape": ""
            }
           },
           "name": "Europe (UN)",
           "orientation": "v",
           "showlegend": true,
           "text": [
            "41.5"
           ],
           "textposition": "auto",
           "type": "bar",
           "x": [
            "Europe (UN)"
           ],
           "xaxis": "x",
           "y": {
            "bdata": "c2iR7Xy/REA=",
            "dtype": "f8"
           },
           "yaxis": "y"
          },
          {
           "hovertemplate": "Region=%{x}<br>Jahr=2020<br>Medianes Alter (Jahre)=%{y}<br>custom_text=%{text}<extra></extra>",
           "legendgroup": "United States",
           "marker": {
            "color": "#ab63fa",
            "pattern": {
             "shape": ""
            }
           },
           "name": "United States",
           "orientation": "v",
           "showlegend": true,
           "text": [
            "37.2"
           ],
           "textposition": "auto",
           "type": "bar",
           "x": [
            "United States"
           ],
           "xaxis": "x",
           "y": {
            "bdata": "sHJoke2cQkA=",
            "dtype": "f8"
           },
           "yaxis": "y"
          }
         ],
         "name": "2020"
        },
        {
         "data": [
          {
           "hovertemplate": "Region=%{x}<br>Jahr=2021<br>Medianes Alter (Jahre)=%{y}<br>custom_text=%{text}<extra></extra>",
           "legendgroup": "Africa (UN)",
           "marker": {
            "color": "#636efa",
            "pattern": {
             "shape": ""
            }
           },
           "name": "Africa (UN)",
           "orientation": "v",
           "showlegend": true,
           "text": [
            "18.8"
           ],
           "textposition": "auto",
           "type": "bar",
           "x": [
            "Africa (UN)"
           ],
           "xaxis": "x",
           "y": {
            "bdata": "vp8aL93EMkA=",
            "dtype": "f8"
           },
           "yaxis": "y"
          },
          {
           "hovertemplate": "Region=%{x}<br>Jahr=2021<br>Medianes Alter (Jahre)=%{y}<br>custom_text=%{text}<extra></extra>",
           "legendgroup": "Asia (UN)",
           "marker": {
            "color": "#EF553B",
            "pattern": {
             "shape": ""
            }
           },
           "name": "Asia (UN)",
           "orientation": "v",
           "showlegend": true,
           "text": [
            "31.0"
           ],
           "textposition": "auto",
           "type": "bar",
           "x": [
            "Asia (UN)"
           ],
           "xaxis": "x",
           "y": {
            "bdata": "okW28/30PkA=",
            "dtype": "f8"
           },
           "yaxis": "y"
          },
          {
           "hovertemplate": "Region=%{x}<br>Jahr=2021<br>Medianes Alter (Jahre)=%{y}<br>custom_text=%{text}<extra></extra>",
           "legendgroup": "Europe (UN)",
           "marker": {
            "color": "#00cc96",
            "pattern": {
             "shape": ""
            }
           },
           "name": "Europe (UN)",
           "orientation": "v",
           "showlegend": true,
           "text": [
            "41.7"
           ],
           "textposition": "auto",
           "type": "bar",
           "x": [
            "Europe (UN)"
           ],
           "xaxis": "x",
           "y": {
            "bdata": "KVyPwvXYREA=",
            "dtype": "f8"
           },
           "yaxis": "y"
          },
          {
           "hovertemplate": "Region=%{x}<br>Jahr=2021<br>Medianes Alter (Jahre)=%{y}<br>custom_text=%{text}<extra></extra>",
           "legendgroup": "United States",
           "marker": {
            "color": "#ab63fa",
            "pattern": {
             "shape": ""
            }
           },
           "name": "United States",
           "orientation": "v",
           "showlegend": true,
           "text": [
            "37.5"
           ],
           "textposition": "auto",
           "type": "bar",
           "x": [
            "United States"
           ],
           "xaxis": "x",
           "y": {
            "bdata": "z/dT46W7QkA=",
            "dtype": "f8"
           },
           "yaxis": "y"
          }
         ],
         "name": "2021"
        },
        {
         "data": [
          {
           "hovertemplate": "Region=%{x}<br>Jahr=2022<br>Medianes Alter (Jahre)=%{y}<br>custom_text=%{text}<extra></extra>",
           "legendgroup": "Africa (UN)",
           "marker": {
            "color": "#636efa",
            "pattern": {
             "shape": ""
            }
           },
           "name": "Africa (UN)",
           "orientation": "v",
           "showlegend": true,
           "text": [
            "18.9"
           ],
           "textposition": "auto",
           "type": "bar",
           "x": [
            "Africa (UN)"
           ],
           "xaxis": "x",
           "y": {
            "bdata": "vp8aL93kMkA=",
            "dtype": "f8"
           },
           "yaxis": "y"
          },
          {
           "hovertemplate": "Region=%{x}<br>Jahr=2022<br>Medianes Alter (Jahre)=%{y}<br>custom_text=%{text}<extra></extra>",
           "legendgroup": "Asia (UN)",
           "marker": {
            "color": "#EF553B",
            "pattern": {
             "shape": ""
            }
           },
           "name": "Asia (UN)",
           "orientation": "v",
           "showlegend": true,
           "text": [
            "31.3"
           ],
           "textposition": "auto",
           "type": "bar",
           "x": [
            "Asia (UN)"
           ],
           "xaxis": "x",
           "y": {
            "bdata": "9ihcj8JVP0A=",
            "dtype": "f8"
           },
           "yaxis": "y"
          },
          {
           "hovertemplate": "Region=%{x}<br>Jahr=2022<br>Medianes Alter (Jahre)=%{y}<br>custom_text=%{text}<extra></extra>",
           "legendgroup": "Europe (UN)",
           "marker": {
            "color": "#00cc96",
            "pattern": {
             "shape": ""
            }
           },
           "name": "Europe (UN)",
           "orientation": "v",
           "showlegend": true,
           "text": [
            "41.9"
           ],
           "textposition": "auto",
           "type": "bar",
           "x": [
            "Europe (UN)"
           ],
           "xaxis": "x",
           "y": {
            "bdata": "SgwCK4f2REA=",
            "dtype": "f8"
           },
           "yaxis": "y"
          },
          {
           "hovertemplate": "Region=%{x}<br>Jahr=2022<br>Medianes Alter (Jahre)=%{y}<br>custom_text=%{text}<extra></extra>",
           "legendgroup": "United States",
           "marker": {
            "color": "#ab63fa",
            "pattern": {
             "shape": ""
            }
           },
           "name": "United States",
           "orientation": "v",
           "showlegend": true,
           "text": [
            "37.7"
           ],
           "textposition": "auto",
           "type": "bar",
           "x": [
            "United States"
           ],
           "xaxis": "x",
           "y": {
            "bdata": "XI/C9SjcQkA=",
            "dtype": "f8"
           },
           "yaxis": "y"
          }
         ],
         "name": "2022"
        },
        {
         "data": [
          {
           "hovertemplate": "Region=%{x}<br>Jahr=2023<br>Medianes Alter (Jahre)=%{y}<br>custom_text=%{text}<extra></extra>",
           "legendgroup": "Africa (UN)",
           "marker": {
            "color": "#636efa",
            "pattern": {
             "shape": ""
            }
           },
           "name": "Africa (UN)",
           "orientation": "v",
           "showlegend": true,
           "text": [
            "19.0"
           ],
           "textposition": "auto",
           "type": "bar",
           "x": [
            "Africa (UN)"
           ],
           "xaxis": "x",
           "y": {
            "bdata": "1XjpJjEIM0A=",
            "dtype": "f8"
           },
           "yaxis": "y"
          },
          {
           "hovertemplate": "Region=%{x}<br>Jahr=2023<br>Medianes Alter (Jahre)=%{y}<br>custom_text=%{text}<extra></extra>",
           "legendgroup": "Asia (UN)",
           "marker": {
            "color": "#EF553B",
            "pattern": {
             "shape": ""
            }
           },
           "name": "Asia (UN)",
           "orientation": "v",
           "showlegend": true,
           "text": [
            "31.7"
           ],
           "textposition": "auto",
           "type": "bar",
           "x": [
            "Asia (UN)"
           ],
           "xaxis": "x",
           "y": {
            "bdata": "6SYxCKy8P0A=",
            "dtype": "f8"
           },
           "yaxis": "y"
          },
          {
           "hovertemplate": "Region=%{x}<br>Jahr=2023<br>Medianes Alter (Jahre)=%{y}<br>custom_text=%{text}<extra></extra>",
           "legendgroup": "Europe (UN)",
           "marker": {
            "color": "#00cc96",
            "pattern": {
             "shape": ""
            }
           },
           "name": "Europe (UN)",
           "orientation": "v",
           "showlegend": true,
           "text": [
            "42.2"
           ],
           "textposition": "auto",
           "type": "bar",
           "x": [
            "Europe (UN)"
           ],
           "xaxis": "x",
           "y": {
            "bdata": "IbByaJEdRUA=",
            "dtype": "f8"
           },
           "yaxis": "y"
          },
          {
           "hovertemplate": "Region=%{x}<br>Jahr=2023<br>Medianes Alter (Jahre)=%{y}<br>custom_text=%{text}<extra></extra>",
           "legendgroup": "United States",
           "marker": {
            "color": "#ab63fa",
            "pattern": {
             "shape": ""
            }
           },
           "name": "United States",
           "orientation": "v",
           "showlegend": true,
           "text": [
            "38.0"
           ],
           "textposition": "auto",
           "type": "bar",
           "x": [
            "United States"
           ],
           "xaxis": "x",
           "y": {
            "bdata": "bef7qfECQ0A=",
            "dtype": "f8"
           },
           "yaxis": "y"
          }
         ],
         "name": "2023"
        },
        {
         "data": [
          {
           "hovertemplate": "Region=%{x}<br>Jahr=2024<br>Medianes Alter (Jahre)=%{y}<br>custom_text=%{text}<extra></extra>",
           "legendgroup": "Africa (UN)",
           "marker": {
            "color": "#636efa",
            "pattern": {
             "shape": ""
            }
           },
           "name": "Africa (UN)",
           "orientation": "v",
           "showlegend": true,
           "text": [
            "19.2<br><span style='color:#edeaa8;font-size:12px'>Projected</span>"
           ],
           "textposition": "auto",
           "type": "bar",
           "x": [
            "Africa (UN)"
           ],
           "xaxis": "x",
           "y": {
            "bdata": "BoGVQ4ssM0A=",
            "dtype": "f8"
           },
           "yaxis": "y"
          },
          {
           "hovertemplate": "Region=%{x}<br>Jahr=2024<br>Medianes Alter (Jahre)=%{y}<br>custom_text=%{text}<extra></extra>",
           "legendgroup": "Asia (UN)",
           "marker": {
            "color": "#EF553B",
            "pattern": {
             "shape": ""
            }
           },
           "name": "Asia (UN)",
           "orientation": "v",
           "showlegend": true,
           "text": [
            "32.1<br><span style='color:#edeaa8;font-size:12px'>Projected</span>"
           ],
           "textposition": "auto",
           "type": "bar",
           "x": [
            "Asia (UN)"
           ],
           "xaxis": "x",
           "y": {
            "bdata": "AAAAAAAQQEA=",
            "dtype": "f8"
           },
           "yaxis": "y"
          },
          {
           "hovertemplate": "Region=%{x}<br>Jahr=2024<br>Medianes Alter (Jahre)=%{y}<br>custom_text=%{text}<extra></extra>",
           "legendgroup": "Europe (UN)",
           "marker": {
            "color": "#00cc96",
            "pattern": {
             "shape": ""
            }
           },
           "name": "Europe (UN)",
           "orientation": "v",
           "showlegend": true,
           "text": [
            "42.5<br><span style='color:#edeaa8;font-size:12px'>Projected</span>"
           ],
           "textposition": "auto",
           "type": "bar",
           "x": [
            "Europe (UN)"
           ],
           "xaxis": "x",
           "y": {
            "bdata": "wcqhRbZDRUA=",
            "dtype": "f8"
           },
           "yaxis": "y"
          },
          {
           "hovertemplate": "Region=%{x}<br>Jahr=2024<br>Medianes Alter (Jahre)=%{y}<br>custom_text=%{text}<extra></extra>",
           "legendgroup": "United States",
           "marker": {
            "color": "#ab63fa",
            "pattern": {
             "shape": ""
            }
           },
           "name": "United States",
           "orientation": "v",
           "showlegend": true,
           "text": [
            "38.3<br><span style='color:#edeaa8;font-size:12px'>Projected</span>"
           ],
           "textposition": "auto",
           "type": "bar",
           "x": [
            "United States"
           ],
           "xaxis": "x",
           "y": {
            "bdata": "okW28/0kQ0A=",
            "dtype": "f8"
           },
           "yaxis": "y"
          }
         ],
         "name": "2024"
        },
        {
         "data": [
          {
           "hovertemplate": "Region=%{x}<br>Jahr=2025<br>Medianes Alter (Jahre)=%{y}<br>custom_text=%{text}<extra></extra>",
           "legendgroup": "Africa (UN)",
           "marker": {
            "color": "#636efa",
            "pattern": {
             "shape": ""
            }
           },
           "name": "Africa (UN)",
           "orientation": "v",
           "showlegend": true,
           "text": [
            "19.3<br><span style='color:#edeaa8;font-size:12px'>Projected</span>"
           ],
           "textposition": "auto",
           "type": "bar",
           "x": [
            "Africa (UN)"
           ],
           "xaxis": "x",
           "y": {
            "bdata": "GQRWDi1SM0A=",
            "dtype": "f8"
           },
           "yaxis": "y"
          },
          {
           "hovertemplate": "Region=%{x}<br>Jahr=2025<br>Medianes Alter (Jahre)=%{y}<br>custom_text=%{text}<extra></extra>",
           "legendgroup": "Asia (UN)",
           "marker": {
            "color": "#EF553B",
            "pattern": {
             "shape": ""
            }
           },
           "name": "Asia (UN)",
           "orientation": "v",
           "showlegend": true,
           "text": [
            "32.5<br><span style='color:#edeaa8;font-size:12px'>Projected</span>"
           ],
           "textposition": "auto",
           "type": "bar",
           "x": [
            "Asia (UN)"
           ],
           "xaxis": "x",
           "y": {
            "bdata": "H4XrUbg+QEA=",
            "dtype": "f8"
           },
           "yaxis": "y"
          },
          {
           "hovertemplate": "Region=%{x}<br>Jahr=2025<br>Medianes Alter (Jahre)=%{y}<br>custom_text=%{text}<extra></extra>",
           "legendgroup": "Europe (UN)",
           "marker": {
            "color": "#00cc96",
            "pattern": {
             "shape": ""
            }
           },
           "name": "Europe (UN)",
           "orientation": "v",
           "showlegend": true,
           "text": [
            "42.8<br><span style='color:#edeaa8;font-size:12px'>Projected</span>"
           ],
           "textposition": "auto",
           "type": "bar",
           "x": [
            "Europe (UN)"
           ],
           "xaxis": "x",
           "y": {
            "bdata": "EoPAyqFlRUA=",
            "dtype": "f8"
           },
           "yaxis": "y"
          },
          {
           "hovertemplate": "Region=%{x}<br>Jahr=2025<br>Medianes Alter (Jahre)=%{y}<br>custom_text=%{text}<extra></extra>",
           "legendgroup": "United States",
           "marker": {
            "color": "#ab63fa",
            "pattern": {
             "shape": ""
            }
           },
           "name": "United States",
           "orientation": "v",
           "showlegend": true,
           "text": [
            "38.5<br><span style='color:#edeaa8;font-size:12px'>Projected</span>"
           ],
           "textposition": "auto",
           "type": "bar",
           "x": [
            "United States"
           ],
           "xaxis": "x",
           "y": {
            "bdata": "46WbxCBAQ0A=",
            "dtype": "f8"
           },
           "yaxis": "y"
          }
         ],
         "name": "2025"
        },
        {
         "data": [
          {
           "hovertemplate": "Region=%{x}<br>Jahr=2026<br>Medianes Alter (Jahre)=%{y}<br>custom_text=%{text}<extra></extra>",
           "legendgroup": "Africa (UN)",
           "marker": {
            "color": "#636efa",
            "pattern": {
             "shape": ""
            }
           },
           "name": "Africa (UN)",
           "orientation": "v",
           "showlegend": true,
           "text": [
            "19.5<br><span style='color:#edeaa8;font-size:12px'>Projected</span>"
           ],
           "textposition": "auto",
           "type": "bar",
           "x": [
            "Africa (UN)"
           ],
           "xaxis": "x",
           "y": {
            "bdata": "QmDl0CJ7M0A=",
            "dtype": "f8"
           },
           "yaxis": "y"
          },
          {
           "hovertemplate": "Region=%{x}<br>Jahr=2026<br>Medianes Alter (Jahre)=%{y}<br>custom_text=%{text}<extra></extra>",
           "legendgroup": "Asia (UN)",
           "marker": {
            "color": "#EF553B",
            "pattern": {
             "shape": ""
            }
           },
           "name": "Asia (UN)",
           "orientation": "v",
           "showlegend": true,
           "text": [
            "32.8<br><span style='color:#edeaa8;font-size:12px'>Projected</span>"
           ],
           "textposition": "auto",
           "type": "bar",
           "x": [
            "Asia (UN)"
           ],
           "xaxis": "x",
           "y": {
            "bdata": "eekmMQhsQEA=",
            "dtype": "f8"
           },
           "yaxis": "y"
          },
          {
           "hovertemplate": "Region=%{x}<br>Jahr=2026<br>Medianes Alter (Jahre)=%{y}<br>custom_text=%{text}<extra></extra>",
           "legendgroup": "Europe (UN)",
           "marker": {
            "color": "#00cc96",
            "pattern": {
             "shape": ""
            }
           },
           "name": "Europe (UN)",
           "orientation": "v",
           "showlegend": true,
           "text": [
            "43.1<br><span style='color:#edeaa8;font-size:12px'>Projected</span>"
           ],
           "textposition": "auto",
           "type": "bar",
           "x": [
            "Europe (UN)"
           ],
           "xaxis": "x",
           "y": {
            "bdata": "ukkMAiuHRUA=",
            "dtype": "f8"
           },
           "yaxis": "y"
          },
          {
           "hovertemplate": "Region=%{x}<br>Jahr=2026<br>Medianes Alter (Jahre)=%{y}<br>custom_text=%{text}<extra></extra>",
           "legendgroup": "United States",
           "marker": {
            "color": "#ab63fa",
            "pattern": {
             "shape": ""
            }
           },
           "name": "United States",
           "orientation": "v",
           "showlegend": true,
           "text": [
            "38.7<br><span style='color:#edeaa8;font-size:12px'>Projected</span>"
           ],
           "textposition": "auto",
           "type": "bar",
           "x": [
            "United States"
           ],
           "xaxis": "x",
           "y": {
            "bdata": "JQaBlUNbQ0A=",
            "dtype": "f8"
           },
           "yaxis": "y"
          }
         ],
         "name": "2026"
        },
        {
         "data": [
          {
           "hovertemplate": "Region=%{x}<br>Jahr=2027<br>Medianes Alter (Jahre)=%{y}<br>custom_text=%{text}<extra></extra>",
           "legendgroup": "Africa (UN)",
           "marker": {
            "color": "#636efa",
            "pattern": {
             "shape": ""
            }
           },
           "name": "Africa (UN)",
           "orientation": "v",
           "showlegend": true,
           "text": [
            "19.6<br><span style='color:#edeaa8;font-size:12px'>Projected</span>"
           ],
           "textposition": "auto",
           "type": "bar",
           "x": [
            "Africa (UN)"
           ],
           "xaxis": "x",
           "y": {
            "bdata": "oBov3SSmM0A=",
            "dtype": "f8"
           },
           "yaxis": "y"
          },
          {
           "hovertemplate": "Region=%{x}<br>Jahr=2027<br>Medianes Alter (Jahre)=%{y}<br>custom_text=%{text}<extra></extra>",
           "legendgroup": "Asia (UN)",
           "marker": {
            "color": "#EF553B",
            "pattern": {
             "shape": ""
            }
           },
           "name": "Asia (UN)",
           "orientation": "v",
           "showlegend": true,
           "text": [
            "33.2<br><span style='color:#edeaa8;font-size:12px'>Projected</span>"
           ],
           "textposition": "auto",
           "type": "bar",
           "x": [
            "Asia (UN)"
           ],
           "xaxis": "x",
           "y": {
            "bdata": "nMQgsHKYQEA=",
            "dtype": "f8"
           },
           "yaxis": "y"
          },
          {
           "hovertemplate": "Region=%{x}<br>Jahr=2027<br>Medianes Alter (Jahre)=%{y}<br>custom_text=%{text}<extra></extra>",
           "legendgroup": "Europe (UN)",
           "marker": {
            "color": "#00cc96",
            "pattern": {
             "shape": ""
            }
           },
           "name": "Europe (UN)",
           "orientation": "v",
           "showlegend": true,
           "text": [
            "43.3<br><span style='color:#edeaa8;font-size:12px'>Projected</span>"
           ],
           "textposition": "auto",
           "type": "bar",
           "x": [
            "Europe (UN)"
           ],
           "xaxis": "x",
           "y": {
            "bdata": "7nw/NV6qRUA=",
            "dtype": "f8"
           },
           "yaxis": "y"
          },
          {
           "hovertemplate": "Region=%{x}<br>Jahr=2027<br>Medianes Alter (Jahre)=%{y}<br>custom_text=%{text}<extra></extra>",
           "legendgroup": "United States",
           "marker": {
            "color": "#ab63fa",
            "pattern": {
             "shape": ""
            }
           },
           "name": "United States",
           "orientation": "v",
           "showlegend": true,
           "text": [
            "38.9<br><span style='color:#edeaa8;font-size:12px'>Projected</span>"
           ],
           "textposition": "auto",
           "type": "bar",
           "x": [
            "United States"
           ],
           "xaxis": "x",
           "y": {
            "bdata": "oBov3SR2Q0A=",
            "dtype": "f8"
           },
           "yaxis": "y"
          }
         ],
         "name": "2027"
        },
        {
         "data": [
          {
           "hovertemplate": "Region=%{x}<br>Jahr=2028<br>Medianes Alter (Jahre)=%{y}<br>custom_text=%{text}<extra></extra>",
           "legendgroup": "Africa (UN)",
           "marker": {
            "color": "#636efa",
            "pattern": {
             "shape": ""
            }
           },
           "name": "Africa (UN)",
           "orientation": "v",
           "showlegend": true,
           "text": [
            "19.8<br><span style='color:#edeaa8;font-size:12px'>Projected</span>"
           ],
           "textposition": "auto",
           "type": "bar",
           "x": [
            "Africa (UN)"
           ],
           "xaxis": "x",
           "y": {
            "bdata": "bef7qfHSM0A=",
            "dtype": "f8"
           },
           "yaxis": "y"
          },
          {
           "hovertemplate": "Region=%{x}<br>Jahr=2028<br>Medianes Alter (Jahre)=%{y}<br>custom_text=%{text}<extra></extra>",
           "legendgroup": "Asia (UN)",
           "marker": {
            "color": "#EF553B",
            "pattern": {
             "shape": ""
            }
           },
           "name": "Asia (UN)",
           "orientation": "v",
           "showlegend": true,
           "text": [
            "33.5<br><span style='color:#edeaa8;font-size:12px'>Projected</span>"
           ],
           "textposition": "auto",
           "type": "bar",
           "x": [
            "Asia (UN)"
           ],
           "xaxis": "x",
           "y": {
            "bdata": "arx0kxjEQEA=",
            "dtype": "f8"
           },
           "yaxis": "y"
          },
          {
           "hovertemplate": "Region=%{x}<br>Jahr=2028<br>Medianes Alter (Jahre)=%{y}<br>custom_text=%{text}<extra></extra>",
           "legendgroup": "Europe (UN)",
           "marker": {
            "color": "#00cc96",
            "pattern": {
             "shape": ""
            }
           },
           "name": "Europe (UN)",
           "orientation": "v",
           "showlegend": true,
           "text": [
            "43.6<br><span style='color:#edeaa8;font-size:12px'>Projected</span>"
           ],
           "textposition": "auto",
           "type": "bar",
           "x": [
            "Europe (UN)"
           ],
           "xaxis": "x",
           "y": {
            "bdata": "PQrXo3DNRUA=",
            "dtype": "f8"
           },
           "yaxis": "y"
          },
          {
           "hovertemplate": "Region=%{x}<br>Jahr=2028<br>Medianes Alter (Jahre)=%{y}<br>custom_text=%{text}<extra></extra>",
           "legendgroup": "United States",
           "marker": {
            "color": "#ab63fa",
            "pattern": {
             "shape": ""
            }
           },
           "name": "United States",
           "orientation": "v",
           "showlegend": true,
           "text": [
            "39.1<br><span style='color:#edeaa8;font-size:12px'>Projected</span>"
           ],
           "textposition": "auto",
           "type": "bar",
           "x": [
            "United States"
           ],
           "xaxis": "x",
           "y": {
            "bdata": "N4lBYOWQQ0A=",
            "dtype": "f8"
           },
           "yaxis": "y"
          }
         ],
         "name": "2028"
        },
        {
         "data": [
          {
           "hovertemplate": "Region=%{x}<br>Jahr=2029<br>Medianes Alter (Jahre)=%{y}<br>custom_text=%{text}<extra></extra>",
           "legendgroup": "Africa (UN)",
           "marker": {
            "color": "#636efa",
            "pattern": {
             "shape": ""
            }
           },
           "name": "Africa (UN)",
           "orientation": "v",
           "showlegend": true,
           "text": [
            "20.0<br><span style='color:#edeaa8;font-size:12px'>Projected</span>"
           ],
           "textposition": "auto",
           "type": "bar",
           "x": [
            "Africa (UN)"
           ],
           "xaxis": "x",
           "y": {
            "bdata": "4XoUrkcBNEA=",
            "dtype": "f8"
           },
           "yaxis": "y"
          },
          {
           "hovertemplate": "Region=%{x}<br>Jahr=2029<br>Medianes Alter (Jahre)=%{y}<br>custom_text=%{text}<extra></extra>",
           "legendgroup": "Asia (UN)",
           "marker": {
            "color": "#EF553B",
            "pattern": {
             "shape": ""
            }
           },
           "name": "Asia (UN)",
           "orientation": "v",
           "showlegend": true,
           "text": [
            "33.9<br><span style='color:#edeaa8;font-size:12px'>Projected</span>"
           ],
           "textposition": "auto",
           "type": "bar",
           "x": [
            "Asia (UN)"
           ],
           "xaxis": "x",
           "y": {
            "bdata": "yXa+nxrvQEA=",
            "dtype": "f8"
           },
           "yaxis": "y"
          },
          {
           "hovertemplate": "Region=%{x}<br>Jahr=2029<br>Medianes Alter (Jahre)=%{y}<br>custom_text=%{text}<extra></extra>",
           "legendgroup": "Europe (UN)",
           "marker": {
            "color": "#00cc96",
            "pattern": {
             "shape": ""
            }
           },
           "name": "Europe (UN)",
           "orientation": "v",
           "showlegend": true,
           "text": [
            "43.9<br><span style='color:#edeaa8;font-size:12px'>Projected</span>"
           ],
           "textposition": "auto",
           "type": "bar",
           "x": [
            "Europe (UN)"
           ],
           "xaxis": "x",
           "y": {
            "bdata": "jZduEoPwRUA=",
            "dtype": "f8"
           },
           "yaxis": "y"
          },
          {
           "hovertemplate": "Region=%{x}<br>Jahr=2029<br>Medianes Alter (Jahre)=%{y}<br>custom_text=%{text}<extra></extra>",
           "legendgroup": "United States",
           "marker": {
            "color": "#ab63fa",
            "pattern": {
             "shape": ""
            }
           },
           "name": "United States",
           "orientation": "v",
           "showlegend": true,
           "text": [
            "39.3<br><span style='color:#edeaa8;font-size:12px'>Projected</span>"
           ],
           "textposition": "auto",
           "type": "bar",
           "x": [
            "United States"
           ],
           "xaxis": "x",
           "y": {
            "bdata": "eekmMQisQ0A=",
            "dtype": "f8"
           },
           "yaxis": "y"
          }
         ],
         "name": "2029"
        },
        {
         "data": [
          {
           "hovertemplate": "Region=%{x}<br>Jahr=2030<br>Medianes Alter (Jahre)=%{y}<br>custom_text=%{text}<extra></extra>",
           "legendgroup": "Africa (UN)",
           "marker": {
            "color": "#636efa",
            "pattern": {
             "shape": ""
            }
           },
           "name": "Africa (UN)",
           "orientation": "v",
           "showlegend": true,
           "text": [
            "20.2<br><span style='color:#edeaa8;font-size:12px'>Projected</span>"
           ],
           "textposition": "auto",
           "type": "bar",
           "x": [
            "Africa (UN)"
           ],
           "xaxis": "x",
           "y": {
            "bdata": "xSCwcmgxNEA=",
            "dtype": "f8"
           },
           "yaxis": "y"
          },
          {
           "hovertemplate": "Region=%{x}<br>Jahr=2030<br>Medianes Alter (Jahre)=%{y}<br>custom_text=%{text}<extra></extra>",
           "legendgroup": "Asia (UN)",
           "marker": {
            "color": "#EF553B",
            "pattern": {
             "shape": ""
            }
           },
           "name": "Asia (UN)",
           "orientation": "v",
           "showlegend": true,
           "text": [
            "34.2<br><span style='color:#edeaa8;font-size:12px'>Projected</span>"
           ],
           "textposition": "auto",
           "type": "bar",
           "x": [
            "Asia (UN)"
           ],
           "xaxis": "x",
           "y": {
            "bdata": "8KfGSzcZQUA=",
            "dtype": "f8"
           },
           "yaxis": "y"
          },
          {
           "hovertemplate": "Region=%{x}<br>Jahr=2030<br>Medianes Alter (Jahre)=%{y}<br>custom_text=%{text}<extra></extra>",
           "legendgroup": "Europe (UN)",
           "marker": {
            "color": "#00cc96",
            "pattern": {
             "shape": ""
            }
           },
           "name": "Europe (UN)",
           "orientation": "v",
           "showlegend": true,
           "text": [
            "44.2<br><span style='color:#edeaa8;font-size:12px'>Projected</span>"
           ],
           "textposition": "auto",
           "type": "bar",
           "x": [
            "Europe (UN)"
           ],
           "xaxis": "x",
           "y": {
            "bdata": "3SQGgZUTRkA=",
            "dtype": "f8"
           },
           "yaxis": "y"
          },
          {
           "hovertemplate": "Region=%{x}<br>Jahr=2030<br>Medianes Alter (Jahre)=%{y}<br>custom_text=%{text}<extra></extra>",
           "legendgroup": "United States",
           "marker": {
            "color": "#ab63fa",
            "pattern": {
             "shape": ""
            }
           },
           "name": "United States",
           "orientation": "v",
           "showlegend": true,
           "text": [
            "39.6<br><span style='color:#edeaa8;font-size:12px'>Projected</span>"
           ],
           "textposition": "auto",
           "type": "bar",
           "x": [
            "United States"
           ],
           "xaxis": "x",
           "y": {
            "bdata": "K4cW2c7HQ0A=",
            "dtype": "f8"
           },
           "yaxis": "y"
          }
         ],
         "name": "2030"
        },
        {
         "data": [
          {
           "hovertemplate": "Region=%{x}<br>Jahr=2031<br>Medianes Alter (Jahre)=%{y}<br>custom_text=%{text}<extra></extra>",
           "legendgroup": "Africa (UN)",
           "marker": {
            "color": "#636efa",
            "pattern": {
             "shape": ""
            }
           },
           "name": "Africa (UN)",
           "orientation": "v",
           "showlegend": true,
           "text": [
            "20.4<br><span style='color:#edeaa8;font-size:12px'>Projected</span>"
           ],
           "textposition": "auto",
           "type": "bar",
           "x": [
            "Africa (UN)"
           ],
           "xaxis": "x",
           "y": {
            "bdata": "iUFg5dBiNEA=",
            "dtype": "f8"
           },
           "yaxis": "y"
          },
          {
           "hovertemplate": "Region=%{x}<br>Jahr=2031<br>Medianes Alter (Jahre)=%{y}<br>custom_text=%{text}<extra></extra>",
           "legendgroup": "Asia (UN)",
           "marker": {
            "color": "#EF553B",
            "pattern": {
             "shape": ""
            }
           },
           "name": "Asia (UN)",
           "orientation": "v",
           "showlegend": true,
           "text": [
            "34.5<br><span style='color:#edeaa8;font-size:12px'>Projected</span>"
           ],
           "textposition": "auto",
           "type": "bar",
           "x": [
            "Asia (UN)"
           ],
           "xaxis": "x",
           "y": {
            "bdata": "ppvEILBCQUA=",
            "dtype": "f8"
           },
           "yaxis": "y"
          },
          {
           "hovertemplate": "Region=%{x}<br>Jahr=2031<br>Medianes Alter (Jahre)=%{y}<br>custom_text=%{text}<extra></extra>",
           "legendgroup": "Europe (UN)",
           "marker": {
            "color": "#00cc96",
            "pattern": {
             "shape": ""
            }
           },
           "name": "Europe (UN)",
           "orientation": "v",
           "showlegend": true,
           "text": [
            "44.4<br><span style='color:#edeaa8;font-size:12px'>Projected</span>"
           ],
           "textposition": "auto",
           "type": "bar",
           "x": [
            "Europe (UN)"
           ],
           "xaxis": "x",
           "y": {
            "bdata": "16NwPQo3RkA=",
            "dtype": "f8"
           },
           "yaxis": "y"
          },
          {
           "hovertemplate": "Region=%{x}<br>Jahr=2031<br>Medianes Alter (Jahre)=%{y}<br>custom_text=%{text}<extra></extra>",
           "legendgroup": "United States",
           "marker": {
            "color": "#ab63fa",
            "pattern": {
             "shape": ""
            }
           },
           "name": "United States",
           "orientation": "v",
           "showlegend": true,
           "text": [
            "39.8<br><span style='color:#edeaa8;font-size:12px'>Projected</span>"
           ],
           "textposition": "auto",
           "type": "bar",
           "x": [
            "United States"
           ],
           "xaxis": "x",
           "y": {
            "bdata": "+n5qvHTjQ0A=",
            "dtype": "f8"
           },
           "yaxis": "y"
          }
         ],
         "name": "2031"
        },
        {
         "data": [
          {
           "hovertemplate": "Region=%{x}<br>Jahr=2032<br>Medianes Alter (Jahre)=%{y}<br>custom_text=%{text}<extra></extra>",
           "legendgroup": "Africa (UN)",
           "marker": {
            "color": "#636efa",
            "pattern": {
             "shape": ""
            }
           },
           "name": "Africa (UN)",
           "orientation": "v",
           "showlegend": true,
           "text": [
            "20.6<br><span style='color:#edeaa8;font-size:12px'>Projected</span>"
           ],
           "textposition": "auto",
           "type": "bar",
           "x": [
            "Africa (UN)"
           ],
           "xaxis": "x",
           "y": {
            "bdata": "L90kBoGVNEA=",
            "dtype": "f8"
           },
           "yaxis": "y"
          },
          {
           "hovertemplate": "Region=%{x}<br>Jahr=2032<br>Medianes Alter (Jahre)=%{y}<br>custom_text=%{text}<extra></extra>",
           "legendgroup": "Asia (UN)",
           "marker": {
            "color": "#EF553B",
            "pattern": {
             "shape": ""
            }
           },
           "name": "Asia (UN)",
           "orientation": "v",
           "showlegend": true,
           "text": [
            "34.8<br><span style='color:#edeaa8;font-size:12px'>Projected</span>"
           ],
           "textposition": "auto",
           "type": "bar",
           "x": [
            "Asia (UN)"
           ],
           "xaxis": "x",
           "y": {
            "bdata": "QmDl0CJrQUA=",
            "dtype": "f8"
           },
           "yaxis": "y"
          },
          {
           "hovertemplate": "Region=%{x}<br>Jahr=2032<br>Medianes Alter (Jahre)=%{y}<br>custom_text=%{text}<extra></extra>",
           "legendgroup": "Europe (UN)",
           "marker": {
            "color": "#00cc96",
            "pattern": {
             "shape": ""
            }
           },
           "name": "Europe (UN)",
           "orientation": "v",
           "showlegend": true,
           "text": [
            "44.7<br><span style='color:#edeaa8;font-size:12px'>Projected</span>"
           ],
           "textposition": "auto",
           "type": "bar",
           "x": [
            "Europe (UN)"
           ],
           "xaxis": "x",
           "y": {
            "bdata": "7nw/NV5aRkA=",
            "dtype": "f8"
           },
           "yaxis": "y"
          },
          {
           "hovertemplate": "Region=%{x}<br>Jahr=2032<br>Medianes Alter (Jahre)=%{y}<br>custom_text=%{text}<extra></extra>",
           "legendgroup": "United States",
           "marker": {
            "color": "#ab63fa",
            "pattern": {
             "shape": ""
            }
           },
           "name": "United States",
           "orientation": "v",
           "showlegend": true,
           "text": [
            "40.0<br><span style='color:#edeaa8;font-size:12px'>Projected</span>"
           ],
           "textposition": "auto",
           "type": "bar",
           "x": [
            "United States"
           ],
           "xaxis": "x",
           "y": {
            "bdata": "5/up8dL9Q0A=",
            "dtype": "f8"
           },
           "yaxis": "y"
          }
         ],
         "name": "2032"
        },
        {
         "data": [
          {
           "hovertemplate": "Region=%{x}<br>Jahr=2033<br>Medianes Alter (Jahre)=%{y}<br>custom_text=%{text}<extra></extra>",
           "legendgroup": "Africa (UN)",
           "marker": {
            "color": "#636efa",
            "pattern": {
             "shape": ""
            }
           },
           "name": "Africa (UN)",
           "orientation": "v",
           "showlegend": true,
           "text": [
            "20.8<br><span style='color:#edeaa8;font-size:12px'>Projected</span>"
           ],
           "textposition": "auto",
           "type": "bar",
           "x": [
            "Africa (UN)"
           ],
           "xaxis": "x",
           "y": {
            "bdata": "8KfGSzfJNEA=",
            "dtype": "f8"
           },
           "yaxis": "y"
          },
          {
           "hovertemplate": "Region=%{x}<br>Jahr=2033<br>Medianes Alter (Jahre)=%{y}<br>custom_text=%{text}<extra></extra>",
           "legendgroup": "Asia (UN)",
           "marker": {
            "color": "#EF553B",
            "pattern": {
             "shape": ""
            }
           },
           "name": "Asia (UN)",
           "orientation": "v",
           "showlegend": true,
           "text": [
            "35.1<br><span style='color:#edeaa8;font-size:12px'>Projected</span>"
           ],
           "textposition": "auto",
           "type": "bar",
           "x": [
            "Asia (UN)"
           ],
           "xaxis": "x",
           "y": {
            "bdata": "iUFg5dCSQUA=",
            "dtype": "f8"
           },
           "yaxis": "y"
          },
          {
           "hovertemplate": "Region=%{x}<br>Jahr=2033<br>Medianes Alter (Jahre)=%{y}<br>custom_text=%{text}<extra></extra>",
           "legendgroup": "Europe (UN)",
           "marker": {
            "color": "#00cc96",
            "pattern": {
             "shape": ""
            }
           },
           "name": "Europe (UN)",
           "orientation": "v",
           "showlegend": true,
           "text": [
            "45.0<br><span style='color:#edeaa8;font-size:12px'>Projected</span>"
           ],
           "textposition": "auto",
           "type": "bar",
           "x": [
            "Europe (UN)"
           ],
           "xaxis": "x",
           "y": {
            "bdata": "zczMzMx8RkA=",
            "dtype": "f8"
           },
           "yaxis": "y"
          },
          {
           "hovertemplate": "Region=%{x}<br>Jahr=2033<br>Medianes Alter (Jahre)=%{y}<br>custom_text=%{text}<extra></extra>",
           "legendgroup": "United States",
           "marker": {
            "color": "#ab63fa",
            "pattern": {
             "shape": ""
            }
           },
           "name": "United States",
           "orientation": "v",
           "showlegend": true,
           "text": [
            "40.2<br><span style='color:#edeaa8;font-size:12px'>Projected</span>"
           ],
           "textposition": "auto",
           "type": "bar",
           "x": [
            "United States"
           ],
           "xaxis": "x",
           "y": {
            "bdata": "L90kBoEVREA=",
            "dtype": "f8"
           },
           "yaxis": "y"
          }
         ],
         "name": "2033"
        },
        {
         "data": [
          {
           "hovertemplate": "Region=%{x}<br>Jahr=2034<br>Medianes Alter (Jahre)=%{y}<br>custom_text=%{text}<extra></extra>",
           "legendgroup": "Africa (UN)",
           "marker": {
            "color": "#636efa",
            "pattern": {
             "shape": ""
            }
           },
           "name": "Africa (UN)",
           "orientation": "v",
           "showlegend": true,
           "text": [
            "21.0<br><span style='color:#edeaa8;font-size:12px'>Projected</span>"
           ],
           "textposition": "auto",
           "type": "bar",
           "x": [
            "Africa (UN)"
           ],
           "xaxis": "x",
           "y": {
            "bdata": "PQrXo3D9NEA=",
            "dtype": "f8"
           },
           "yaxis": "y"
          },
          {
           "hovertemplate": "Region=%{x}<br>Jahr=2034<br>Medianes Alter (Jahre)=%{y}<br>custom_text=%{text}<extra></extra>",
           "legendgroup": "Asia (UN)",
           "marker": {
            "color": "#EF553B",
            "pattern": {
             "shape": ""
            }
           },
           "name": "Asia (UN)",
           "orientation": "v",
           "showlegend": true,
           "text": [
            "35.4<br><span style='color:#edeaa8;font-size:12px'>Projected</span>"
           ],
           "textposition": "auto",
           "type": "bar",
           "x": [
            "Asia (UN)"
           ],
           "xaxis": "x",
           "y": {
            "bdata": "001iEFi5QUA=",
            "dtype": "f8"
           },
           "yaxis": "y"
          },
          {
           "hovertemplate": "Region=%{x}<br>Jahr=2034<br>Medianes Alter (Jahre)=%{y}<br>custom_text=%{text}<extra></extra>",
           "legendgroup": "Europe (UN)",
           "marker": {
            "color": "#00cc96",
            "pattern": {
             "shape": ""
            }
           },
           "name": "Europe (UN)",
           "orientation": "v",
           "showlegend": true,
           "text": [
            "45.2<br><span style='color:#edeaa8;font-size:12px'>Projected</span>"
           ],
           "textposition": "auto",
           "type": "bar",
           "x": [
            "Europe (UN)"
           ],
           "xaxis": "x",
           "y": {
            "bdata": "y6FFtvOdRkA=",
            "dtype": "f8"
           },
           "yaxis": "y"
          },
          {
           "hovertemplate": "Region=%{x}<br>Jahr=2034<br>Medianes Alter (Jahre)=%{y}<br>custom_text=%{text}<extra></extra>",
           "legendgroup": "United States",
           "marker": {
            "color": "#ab63fa",
            "pattern": {
             "shape": ""
            }
           },
           "name": "United States",
           "orientation": "v",
           "showlegend": true,
           "text": [
            "40.3<br><span style='color:#edeaa8;font-size:12px'>Projected</span>"
           ],
           "textposition": "auto",
           "type": "bar",
           "x": [
            "United States"
           ],
           "xaxis": "x",
           "y": {
            "bdata": "RIts5/spREA=",
            "dtype": "f8"
           },
           "yaxis": "y"
          }
         ],
         "name": "2034"
        },
        {
         "data": [
          {
           "hovertemplate": "Region=%{x}<br>Jahr=2035<br>Medianes Alter (Jahre)=%{y}<br>custom_text=%{text}<extra></extra>",
           "legendgroup": "Africa (UN)",
           "marker": {
            "color": "#636efa",
            "pattern": {
             "shape": ""
            }
           },
           "name": "Africa (UN)",
           "orientation": "v",
           "showlegend": true,
           "text": [
            "21.2<br><span style='color:#edeaa8;font-size:12px'>Projected</span>"
           ],
           "textposition": "auto",
           "type": "bar",
           "x": [
            "Africa (UN)"
           ],
           "xaxis": "x",
           "y": {
            "bdata": "30+Nl24yNUA=",
            "dtype": "f8"
           },
           "yaxis": "y"
          },
          {
           "hovertemplate": "Region=%{x}<br>Jahr=2035<br>Medianes Alter (Jahre)=%{y}<br>custom_text=%{text}<extra></extra>",
           "legendgroup": "Asia (UN)",
           "marker": {
            "color": "#EF553B",
            "pattern": {
             "shape": ""
            }
           },
           "name": "Asia (UN)",
           "orientation": "v",
           "showlegend": true,
           "text": [
            "35.7<br><span style='color:#edeaa8;font-size:12px'>Projected</span>"
           ],
           "textposition": "auto",
           "type": "bar",
           "x": [
            "Asia (UN)"
           ],
           "xaxis": "x",
           "y": {
            "bdata": "yXa+nxrfQUA=",
            "dtype": "f8"
           },
           "yaxis": "y"
          },
          {
           "hovertemplate": "Region=%{x}<br>Jahr=2035<br>Medianes Alter (Jahre)=%{y}<br>custom_text=%{text}<extra></extra>",
           "legendgroup": "Europe (UN)",
           "marker": {
            "color": "#00cc96",
            "pattern": {
             "shape": ""
            }
           },
           "name": "Europe (UN)",
           "orientation": "v",
           "showlegend": true,
           "text": [
            "45.5<br><span style='color:#edeaa8;font-size:12px'>Projected</span>"
           ],
           "textposition": "auto",
           "type": "bar",
           "x": [
            "Europe (UN)"
           ],
           "xaxis": "x",
           "y": {
            "bdata": "WmQ730+9RkA=",
            "dtype": "f8"
           },
           "yaxis": "y"
          },
          {
           "hovertemplate": "Region=%{x}<br>Jahr=2035<br>Medianes Alter (Jahre)=%{y}<br>custom_text=%{text}<extra></extra>",
           "legendgroup": "United States",
           "marker": {
            "color": "#ab63fa",
            "pattern": {
             "shape": ""
            }
           },
           "name": "United States",
           "orientation": "v",
           "showlegend": true,
           "text": [
            "40.5<br><span style='color:#edeaa8;font-size:12px'>Projected</span>"
           ],
           "textposition": "auto",
           "type": "bar",
           "x": [
            "United States"
           ],
           "xaxis": "x",
           "y": {
            "bdata": "JQaBlUM7REA=",
            "dtype": "f8"
           },
           "yaxis": "y"
          }
         ],
         "name": "2035"
        },
        {
         "data": [
          {
           "hovertemplate": "Region=%{x}<br>Jahr=2036<br>Medianes Alter (Jahre)=%{y}<br>custom_text=%{text}<extra></extra>",
           "legendgroup": "Africa (UN)",
           "marker": {
            "color": "#636efa",
            "pattern": {
             "shape": ""
            }
           },
           "name": "Africa (UN)",
           "orientation": "v",
           "showlegend": true,
           "text": [
            "21.4<br><span style='color:#edeaa8;font-size:12px'>Projected</span>"
           ],
           "textposition": "auto",
           "type": "bar",
           "x": [
            "Africa (UN)"
           ],
           "xaxis": "x",
           "y": {
            "bdata": "1XjpJjFoNUA=",
            "dtype": "f8"
           },
           "yaxis": "y"
          },
          {
           "hovertemplate": "Region=%{x}<br>Jahr=2036<br>Medianes Alter (Jahre)=%{y}<br>custom_text=%{text}<extra></extra>",
           "legendgroup": "Asia (UN)",
           "marker": {
            "color": "#EF553B",
            "pattern": {
             "shape": ""
            }
           },
           "name": "Asia (UN)",
           "orientation": "v",
           "showlegend": true,
           "text": [
            "36.0<br><span style='color:#edeaa8;font-size:12px'>Projected</span>"
           ],
           "textposition": "auto",
           "type": "bar",
           "x": [
            "Asia (UN)"
           ],
           "xaxis": "x",
           "y": {
            "bdata": "arx0kxgEQkA=",
            "dtype": "f8"
           },
           "yaxis": "y"
          },
          {
           "hovertemplate": "Region=%{x}<br>Jahr=2036<br>Medianes Alter (Jahre)=%{y}<br>custom_text=%{text}<extra></extra>",
           "legendgroup": "Europe (UN)",
           "marker": {
            "color": "#00cc96",
            "pattern": {
             "shape": ""
            }
           },
           "name": "Europe (UN)",
           "orientation": "v",
           "showlegend": true,
           "text": [
            "45.7<br><span style='color:#edeaa8;font-size:12px'>Projected</span>"
           ],
           "textposition": "auto",
           "type": "bar",
           "x": [
            "Europe (UN)"
           ],
           "xaxis": "x",
           "y": {
            "bdata": "QmDl0CLbRkA=",
            "dtype": "f8"
           },
           "yaxis": "y"
          },
          {
           "hovertemplate": "Region=%{x}<br>Jahr=2036<br>Medianes Alter (Jahre)=%{y}<br>custom_text=%{text}<extra></extra>",
           "legendgroup": "United States",
           "marker": {
            "color": "#ab63fa",
            "pattern": {
             "shape": ""
            }
           },
           "name": "United States",
           "orientation": "v",
           "showlegend": true,
           "text": [
            "40.6<br><span style='color:#edeaa8;font-size:12px'>Projected</span>"
           ],
           "textposition": "auto",
           "type": "bar",
           "x": [
            "United States"
           ],
           "xaxis": "x",
           "y": {
            "bdata": "tvP91HhJREA=",
            "dtype": "f8"
           },
           "yaxis": "y"
          }
         ],
         "name": "2036"
        },
        {
         "data": [
          {
           "hovertemplate": "Region=%{x}<br>Jahr=2037<br>Medianes Alter (Jahre)=%{y}<br>custom_text=%{text}<extra></extra>",
           "legendgroup": "Africa (UN)",
           "marker": {
            "color": "#636efa",
            "pattern": {
             "shape": ""
            }
           },
           "name": "Africa (UN)",
           "orientation": "v",
           "showlegend": true,
           "text": [
            "21.6<br><span style='color:#edeaa8;font-size:12px'>Projected</span>"
           ],
           "textposition": "auto",
           "type": "bar",
           "x": [
            "Africa (UN)"
           ],
           "xaxis": "x",
           "y": {
            "bdata": "ke18PzWeNUA=",
            "dtype": "f8"
           },
           "yaxis": "y"
          },
          {
           "hovertemplate": "Region=%{x}<br>Jahr=2037<br>Medianes Alter (Jahre)=%{y}<br>custom_text=%{text}<extra></extra>",
           "legendgroup": "Asia (UN)",
           "marker": {
            "color": "#EF553B",
            "pattern": {
             "shape": ""
            }
           },
           "name": "Asia (UN)",
           "orientation": "v",
           "showlegend": true,
           "text": [
            "36.3<br><span style='color:#edeaa8;font-size:12px'>Projected</span>"
           ],
           "textposition": "auto",
           "type": "bar",
           "x": [
            "Asia (UN)"
           ],
           "xaxis": "x",
           "y": {
            "bdata": "DAIrhxYpQkA=",
            "dtype": "f8"
           },
           "yaxis": "y"
          },
          {
           "hovertemplate": "Region=%{x}<br>Jahr=2037<br>Medianes Alter (Jahre)=%{y}<br>custom_text=%{text}<extra></extra>",
           "legendgroup": "Europe (UN)",
           "marker": {
            "color": "#00cc96",
            "pattern": {
             "shape": ""
            }
           },
           "name": "Europe (UN)",
           "orientation": "v",
           "showlegend": true,
           "text": [
            "45.9<br><span style='color:#edeaa8;font-size:12px'>Projected</span>"
           ],
           "textposition": "auto",
           "type": "bar",
           "x": [
            "Europe (UN)"
           ],
           "xaxis": "x",
           "y": {
            "bdata": "9P3UeOn2RkA=",
            "dtype": "f8"
           },
           "yaxis": "y"
          },
          {
           "hovertemplate": "Region=%{x}<br>Jahr=2037<br>Medianes Alter (Jahre)=%{y}<br>custom_text=%{text}<extra></extra>",
           "legendgroup": "United States",
           "marker": {
            "color": "#ab63fa",
            "pattern": {
             "shape": ""
            }
           },
           "name": "United States",
           "orientation": "v",
           "showlegend": true,
           "text": [
            "40.7<br><span style='color:#edeaa8;font-size:12px'>Projected</span>"
           ],
           "textposition": "auto",
           "type": "bar",
           "x": [
            "United States"
           ],
           "xaxis": "x",
           "y": {
            "bdata": "FK5H4XpUREA=",
            "dtype": "f8"
           },
           "yaxis": "y"
          }
         ],
         "name": "2037"
        },
        {
         "data": [
          {
           "hovertemplate": "Region=%{x}<br>Jahr=2038<br>Medianes Alter (Jahre)=%{y}<br>custom_text=%{text}<extra></extra>",
           "legendgroup": "Africa (UN)",
           "marker": {
            "color": "#636efa",
            "pattern": {
             "shape": ""
            }
           },
           "name": "Africa (UN)",
           "orientation": "v",
           "showlegend": true,
           "text": [
            "21.8<br><span style='color:#edeaa8;font-size:12px'>Projected</span>"
           ],
           "textposition": "auto",
           "type": "bar",
           "x": [
            "Africa (UN)"
           ],
           "xaxis": "x",
           "y": {
            "bdata": "2/l+arzUNUA=",
            "dtype": "f8"
           },
           "yaxis": "y"
          },
          {
           "hovertemplate": "Region=%{x}<br>Jahr=2038<br>Medianes Alter (Jahre)=%{y}<br>custom_text=%{text}<extra></extra>",
           "legendgroup": "Asia (UN)",
           "marker": {
            "color": "#EF553B",
            "pattern": {
             "shape": ""
            }
           },
           "name": "Asia (UN)",
           "orientation": "v",
           "showlegend": true,
           "text": [
            "36.6<br><span style='color:#edeaa8;font-size:12px'>Projected</span>"
           ],
           "textposition": "auto",
           "type": "bar",
           "x": [
            "Asia (UN)"
           ],
           "xaxis": "x",
           "y": {
            "bdata": "rkfhehROQkA=",
            "dtype": "f8"
           },
           "yaxis": "y"
          },
          {
           "hovertemplate": "Region=%{x}<br>Jahr=2038<br>Medianes Alter (Jahre)=%{y}<br>custom_text=%{text}<extra></extra>",
           "legendgroup": "Europe (UN)",
           "marker": {
            "color": "#00cc96",
            "pattern": {
             "shape": ""
            }
           },
           "name": "Europe (UN)",
           "orientation": "v",
           "showlegend": true,
           "text": [
            "46.1<br><span style='color:#edeaa8;font-size:12px'>Projected</span>"
           ],
           "textposition": "auto",
           "type": "bar",
           "x": [
            "Europe (UN)"
           ],
           "xaxis": "x",
           "y": {
            "bdata": "c2iR7XwPR0A=",
            "dtype": "f8"
           },
           "yaxis": "y"
          },
          {
           "hovertemplate": "Region=%{x}<br>Jahr=2038<br>Medianes Alter (Jahre)=%{y}<br>custom_text=%{text}<extra></extra>",
           "legendgroup": "United States",
           "marker": {
            "color": "#ab63fa",
            "pattern": {
             "shape": ""
            }
           },
           "name": "United States",
           "orientation": "v",
           "showlegend": true,
           "text": [
            "40.7<br><span style='color:#edeaa8;font-size:12px'>Projected</span>"
           ],
           "textposition": "auto",
           "type": "bar",
           "x": [
            "United States"
           ],
           "xaxis": "x",
           "y": {
            "bdata": "kxgEVg5dREA=",
            "dtype": "f8"
           },
           "yaxis": "y"
          }
         ],
         "name": "2038"
        },
        {
         "data": [
          {
           "hovertemplate": "Region=%{x}<br>Jahr=2039<br>Medianes Alter (Jahre)=%{y}<br>custom_text=%{text}<extra></extra>",
           "legendgroup": "Africa (UN)",
           "marker": {
            "color": "#636efa",
            "pattern": {
             "shape": ""
            }
           },
           "name": "Africa (UN)",
           "orientation": "v",
           "showlegend": true,
           "text": [
            "22.0<br><span style='color:#edeaa8;font-size:12px'>Projected</span>"
           ],
           "textposition": "auto",
           "type": "bar",
           "x": [
            "Africa (UN)"
           ],
           "xaxis": "x",
           "y": {
            "bdata": "XrpJDAILNkA=",
            "dtype": "f8"
           },
           "yaxis": "y"
          },
          {
           "hovertemplate": "Region=%{x}<br>Jahr=2039<br>Medianes Alter (Jahre)=%{y}<br>custom_text=%{text}<extra></extra>",
           "legendgroup": "Asia (UN)",
           "marker": {
            "color": "#EF553B",
            "pattern": {
             "shape": ""
            }
           },
           "name": "Asia (UN)",
           "orientation": "v",
           "showlegend": true,
           "text": [
            "36.9<br><span style='color:#edeaa8;font-size:12px'>Projected</span>"
           ],
           "textposition": "auto",
           "type": "bar",
           "x": [
            "Asia (UN)"
           ],
           "xaxis": "x",
           "y": {
            "bdata": "30+Nl25yQkA=",
            "dtype": "f8"
           },
           "yaxis": "y"
          },
          {
           "hovertemplate": "Region=%{x}<br>Jahr=2039<br>Medianes Alter (Jahre)=%{y}<br>custom_text=%{text}<extra></extra>",
           "legendgroup": "Europe (UN)",
           "marker": {
            "color": "#00cc96",
            "pattern": {
             "shape": ""
            }
           },
           "name": "Europe (UN)",
           "orientation": "v",
           "showlegend": true,
           "text": [
            "46.3<br><span style='color:#edeaa8;font-size:12px'>Projected</span>"
           ],
           "textposition": "auto",
           "type": "bar",
           "x": [
            "Europe (UN)"
           ],
           "xaxis": "x",
           "y": {
            "bdata": "+n5qvHQjR0A=",
            "dtype": "f8"
           },
           "yaxis": "y"
          },
          {
           "hovertemplate": "Region=%{x}<br>Jahr=2039<br>Medianes Alter (Jahre)=%{y}<br>custom_text=%{text}<extra></extra>",
           "legendgroup": "United States",
           "marker": {
            "color": "#ab63fa",
            "pattern": {
             "shape": ""
            }
           },
           "name": "United States",
           "orientation": "v",
           "showlegend": true,
           "text": [
            "40.8<br><span style='color:#edeaa8;font-size:12px'>Projected</span>"
           ],
           "textposition": "auto",
           "type": "bar",
           "x": [
            "United States"
           ],
           "xaxis": "x",
           "y": {
            "bdata": "pHA9CtdjREA=",
            "dtype": "f8"
           },
           "yaxis": "y"
          }
         ],
         "name": "2039"
        },
        {
         "data": [
          {
           "hovertemplate": "Region=%{x}<br>Jahr=2040<br>Medianes Alter (Jahre)=%{y}<br>custom_text=%{text}<extra></extra>",
           "legendgroup": "Africa (UN)",
           "marker": {
            "color": "#636efa",
            "pattern": {
             "shape": ""
            }
           },
           "name": "Africa (UN)",
           "orientation": "v",
           "showlegend": true,
           "text": [
            "22.3<br><span style='color:#edeaa8;font-size:12px'>Projected</span>"
           ],
           "textposition": "auto",
           "type": "bar",
           "x": [
            "Africa (UN)"
           ],
           "xaxis": "x",
           "y": {
            "bdata": "Gy/dJAZBNkA=",
            "dtype": "f8"
           },
           "yaxis": "y"
          },
          {
           "hovertemplate": "Region=%{x}<br>Jahr=2040<br>Medianes Alter (Jahre)=%{y}<br>custom_text=%{text}<extra></extra>",
           "legendgroup": "Asia (UN)",
           "marker": {
            "color": "#EF553B",
            "pattern": {
             "shape": ""
            }
           },
           "name": "Asia (UN)",
           "orientation": "v",
           "showlegend": true,
           "text": [
            "37.2<br><span style='color:#edeaa8;font-size:12px'>Projected</span>"
           ],
           "textposition": "auto",
           "type": "bar",
           "x": [
            "Asia (UN)"
           ],
           "xaxis": "x",
           "y": {
            "bdata": "EoPAyqGVQkA=",
            "dtype": "f8"
           },
           "yaxis": "y"
          },
          {
           "hovertemplate": "Region=%{x}<br>Jahr=2040<br>Medianes Alter (Jahre)=%{y}<br>custom_text=%{text}<extra></extra>",
           "legendgroup": "Europe (UN)",
           "marker": {
            "color": "#00cc96",
            "pattern": {
             "shape": ""
            }
           },
           "name": "Europe (UN)",
           "orientation": "v",
           "showlegend": true,
           "text": [
            "46.4<br><span style='color:#edeaa8;font-size:12px'>Projected</span>"
           ],
           "textposition": "auto",
           "type": "bar",
           "x": [
            "Europe (UN)"
           ],
           "xaxis": "x",
           "y": {
            "bdata": "UrgehesxR0A=",
            "dtype": "f8"
           },
           "yaxis": "y"
          },
          {
           "hovertemplate": "Region=%{x}<br>Jahr=2040<br>Medianes Alter (Jahre)=%{y}<br>custom_text=%{text}<extra></extra>",
           "legendgroup": "United States",
           "marker": {
            "color": "#ab63fa",
            "pattern": {
             "shape": ""
            }
           },
           "name": "United States",
           "orientation": "v",
           "showlegend": true,
           "text": [
            "40.8<br><span style='color:#edeaa8;font-size:12px'>Projected</span>"
           ],
           "textposition": "auto",
           "type": "bar",
           "x": [
            "United States"
           ],
           "xaxis": "x",
           "y": {
            "bdata": "CtejcD1qREA=",
            "dtype": "f8"
           },
           "yaxis": "y"
          }
         ],
         "name": "2040"
        },
        {
         "data": [
          {
           "hovertemplate": "Region=%{x}<br>Jahr=2041<br>Medianes Alter (Jahre)=%{y}<br>custom_text=%{text}<extra></extra>",
           "legendgroup": "Africa (UN)",
           "marker": {
            "color": "#636efa",
            "pattern": {
             "shape": ""
            }
           },
           "name": "Africa (UN)",
           "orientation": "v",
           "showlegend": true,
           "text": [
            "22.5<br><span style='color:#edeaa8;font-size:12px'>Projected</span>"
           ],
           "textposition": "auto",
           "type": "bar",
           "x": [
            "Africa (UN)"
           ],
           "xaxis": "x",
           "y": {
            "bdata": "16NwPQp3NkA=",
            "dtype": "f8"
           },
           "yaxis": "y"
          },
          {
           "hovertemplate": "Region=%{x}<br>Jahr=2041<br>Medianes Alter (Jahre)=%{y}<br>custom_text=%{text}<extra></extra>",
           "legendgroup": "Asia (UN)",
           "marker": {
            "color": "#EF553B",
            "pattern": {
             "shape": ""
            }
           },
           "name": "Asia (UN)",
           "orientation": "v",
           "showlegend": true,
           "text": [
            "37.4<br><span style='color:#edeaa8;font-size:12px'>Projected</span>"
           ],
           "textposition": "auto",
           "type": "bar",
           "x": [
            "Asia (UN)"
           ],
           "xaxis": "x",
           "y": {
            "bdata": "1XjpJjG4QkA=",
            "dtype": "f8"
           },
           "yaxis": "y"
          },
          {
           "hovertemplate": "Region=%{x}<br>Jahr=2041<br>Medianes Alter (Jahre)=%{y}<br>custom_text=%{text}<extra></extra>",
           "legendgroup": "Europe (UN)",
           "marker": {
            "color": "#00cc96",
            "pattern": {
             "shape": ""
            }
           },
           "name": "Europe (UN)",
           "orientation": "v",
           "showlegend": true,
           "text": [
            "46.5<br><span style='color:#edeaa8;font-size:12px'>Projected</span>"
           ],
           "textposition": "auto",
           "type": "bar",
           "x": [
            "Europe (UN)"
           ],
           "xaxis": "x",
           "y": {
            "bdata": "mG4Sg8A6R0A=",
            "dtype": "f8"
           },
           "yaxis": "y"
          },
          {
           "hovertemplate": "Region=%{x}<br>Jahr=2041<br>Medianes Alter (Jahre)=%{y}<br>custom_text=%{text}<extra></extra>",
           "legendgroup": "United States",
           "marker": {
            "color": "#ab63fa",
            "pattern": {
             "shape": ""
            }
           },
           "name": "United States",
           "orientation": "v",
           "showlegend": true,
           "text": [
            "40.9<br><span style='color:#edeaa8;font-size:12px'>Projected</span>"
           ],
           "textposition": "auto",
           "type": "bar",
           "x": [
            "United States"
           ],
           "xaxis": "x",
           "y": {
            "bdata": "Gy/dJAZxREA=",
            "dtype": "f8"
           },
           "yaxis": "y"
          }
         ],
         "name": "2041"
        },
        {
         "data": [
          {
           "hovertemplate": "Region=%{x}<br>Jahr=2042<br>Medianes Alter (Jahre)=%{y}<br>custom_text=%{text}<extra></extra>",
           "legendgroup": "Africa (UN)",
           "marker": {
            "color": "#636efa",
            "pattern": {
             "shape": ""
            }
           },
           "name": "Africa (UN)",
           "orientation": "v",
           "showlegend": true,
           "text": [
            "22.7<br><span style='color:#edeaa8;font-size:12px'>Projected</span>"
           ],
           "textposition": "auto",
           "type": "bar",
           "x": [
            "Africa (UN)"
           ],
           "xaxis": "x",
           "y": {
            "bdata": "zczMzMysNkA=",
            "dtype": "f8"
           },
           "yaxis": "y"
          },
          {
           "hovertemplate": "Region=%{x}<br>Jahr=2042<br>Medianes Alter (Jahre)=%{y}<br>custom_text=%{text}<extra></extra>",
           "legendgroup": "Asia (UN)",
           "marker": {
            "color": "#EF553B",
            "pattern": {
             "shape": ""
            }
           },
           "name": "Asia (UN)",
           "orientation": "v",
           "showlegend": true,
           "text": [
            "37.7<br><span style='color:#edeaa8;font-size:12px'>Projected</span>"
           ],
           "textposition": "auto",
           "type": "bar",
           "x": [
            "Asia (UN)"
           ],
           "xaxis": "x",
           "y": {
            "bdata": "JzEIrBzaQkA=",
            "dtype": "f8"
           },
           "yaxis": "y"
          },
          {
           "hovertemplate": "Region=%{x}<br>Jahr=2042<br>Medianes Alter (Jahre)=%{y}<br>custom_text=%{text}<extra></extra>",
           "legendgroup": "Europe (UN)",
           "marker": {
            "color": "#00cc96",
            "pattern": {
             "shape": ""
            }
           },
           "name": "Europe (UN)",
           "orientation": "v",
           "showlegend": true,
           "text": [
            "46.5<br><span style='color:#edeaa8;font-size:12px'>Projected</span>"
           ],
           "textposition": "auto",
           "type": "bar",
           "x": [
            "Europe (UN)"
           ],
           "xaxis": "x",
           "y": {
            "bdata": "yXa+nxo/R0A=",
            "dtype": "f8"
           },
           "yaxis": "y"
          },
          {
           "hovertemplate": "Region=%{x}<br>Jahr=2042<br>Medianes Alter (Jahre)=%{y}<br>custom_text=%{text}<extra></extra>",
           "legendgroup": "United States",
           "marker": {
            "color": "#ab63fa",
            "pattern": {
             "shape": ""
            }
           },
           "name": "United States",
           "orientation": "v",
           "showlegend": true,
           "text": [
            "40.9<br><span style='color:#edeaa8;font-size:12px'>Projected</span>"
           ],
           "textposition": "auto",
           "type": "bar",
           "x": [
            "United States"
           ],
           "xaxis": "x",
           "y": {
            "bdata": "DAIrhxZ5REA=",
            "dtype": "f8"
           },
           "yaxis": "y"
          }
         ],
         "name": "2042"
        },
        {
         "data": [
          {
           "hovertemplate": "Region=%{x}<br>Jahr=2043<br>Medianes Alter (Jahre)=%{y}<br>custom_text=%{text}<extra></extra>",
           "legendgroup": "Africa (UN)",
           "marker": {
            "color": "#636efa",
            "pattern": {
             "shape": ""
            }
           },
           "name": "Africa (UN)",
           "orientation": "v",
           "showlegend": true,
           "text": [
            "22.9<br><span style='color:#edeaa8;font-size:12px'>Projected</span>"
           ],
           "textposition": "auto",
           "type": "bar",
           "x": [
            "Africa (UN)"
           ],
           "xaxis": "x",
           "y": {
            "bdata": "/Knx0k3iNkA=",
            "dtype": "f8"
           },
           "yaxis": "y"
          },
          {
           "hovertemplate": "Region=%{x}<br>Jahr=2043<br>Medianes Alter (Jahre)=%{y}<br>custom_text=%{text}<extra></extra>",
           "legendgroup": "Asia (UN)",
           "marker": {
            "color": "#EF553B",
            "pattern": {
             "shape": ""
            }
           },
           "name": "Asia (UN)",
           "orientation": "v",
           "showlegend": true,
           "text": [
            "38.0<br><span style='color:#edeaa8;font-size:12px'>Projected</span>"
           ],
           "textposition": "auto",
           "type": "bar",
           "x": [
            "Asia (UN)"
           ],
           "xaxis": "x",
           "y": {
            "bdata": "sp3vp8b7QkA=",
            "dtype": "f8"
           },
           "yaxis": "y"
          },
          {
           "hovertemplate": "Region=%{x}<br>Jahr=2043<br>Medianes Alter (Jahre)=%{y}<br>custom_text=%{text}<extra></extra>",
           "legendgroup": "Europe (UN)",
           "marker": {
            "color": "#00cc96",
            "pattern": {
             "shape": ""
            }
           },
           "name": "Europe (UN)",
           "orientation": "v",
           "showlegend": true,
           "text": [
            "46.5<br><span style='color:#edeaa8;font-size:12px'>Projected</span>"
           ],
           "textposition": "auto",
           "type": "bar",
           "x": [
            "Europe (UN)"
           ],
           "xaxis": "x",
           "y": {
            "bdata": "46WbxCBAR0A=",
            "dtype": "f8"
           },
           "yaxis": "y"
          },
          {
           "hovertemplate": "Region=%{x}<br>Jahr=2043<br>Medianes Alter (Jahre)=%{y}<br>custom_text=%{text}<extra></extra>",
           "legendgroup": "United States",
           "marker": {
            "color": "#ab63fa",
            "pattern": {
             "shape": ""
            }
           },
           "name": "United States",
           "orientation": "v",
           "showlegend": true,
           "text": [
            "41.0<br><span style='color:#edeaa8;font-size:12px'>Projected</span>"
           ],
           "textposition": "auto",
           "type": "bar",
           "x": [
            "United States"
           ],
           "xaxis": "x",
           "y": {
            "bdata": "/Knx0k2CREA=",
            "dtype": "f8"
           },
           "yaxis": "y"
          }
         ],
         "name": "2043"
        },
        {
         "data": [
          {
           "hovertemplate": "Region=%{x}<br>Jahr=2044<br>Medianes Alter (Jahre)=%{y}<br>custom_text=%{text}<extra></extra>",
           "legendgroup": "Africa (UN)",
           "marker": {
            "color": "#636efa",
            "pattern": {
             "shape": ""
            }
           },
           "name": "Africa (UN)",
           "orientation": "v",
           "showlegend": true,
           "text": [
            "23.1<br><span style='color:#edeaa8;font-size:12px'>Projected</span>"
           ],
           "textposition": "auto",
           "type": "bar",
           "x": [
            "Africa (UN)"
           ],
           "xaxis": "x",
           "y": {
            "bdata": "K4cW2c4XN0A=",
            "dtype": "f8"
           },
           "yaxis": "y"
          },
          {
           "hovertemplate": "Region=%{x}<br>Jahr=2044<br>Medianes Alter (Jahre)=%{y}<br>custom_text=%{text}<extra></extra>",
           "legendgroup": "Asia (UN)",
           "marker": {
            "color": "#EF553B",
            "pattern": {
             "shape": ""
            }
           },
           "name": "Asia (UN)",
           "orientation": "v",
           "showlegend": true,
           "text": [
            "38.2<br><span style='color:#edeaa8;font-size:12px'>Projected</span>"
           ],
           "textposition": "auto",
           "type": "bar",
           "x": [
            "Asia (UN)"
           ],
           "xaxis": "x",
           "y": {
            "bdata": "sHJoke0cQ0A=",
            "dtype": "f8"
           },
           "yaxis": "y"
          },
          {
           "hovertemplate": "Region=%{x}<br>Jahr=2044<br>Medianes Alter (Jahre)=%{y}<br>custom_text=%{text}<extra></extra>",
           "legendgroup": "Europe (UN)",
           "marker": {
            "color": "#00cc96",
            "pattern": {
             "shape": ""
            }
           },
           "name": "Europe (UN)",
           "orientation": "v",
           "showlegend": true,
           "text": [
            "46.5<br><span style='color:#edeaa8;font-size:12px'>Projected</span>"
           ],
           "textposition": "auto",
           "type": "bar",
           "x": [
            "Europe (UN)"
           ],
           "xaxis": "x",
           "y": {
            "bdata": "ke18PzU+R0A=",
            "dtype": "f8"
           },
           "yaxis": "y"
          },
          {
           "hovertemplate": "Region=%{x}<br>Jahr=2044<br>Medianes Alter (Jahre)=%{y}<br>custom_text=%{text}<extra></extra>",
           "legendgroup": "United States",
           "marker": {
            "color": "#ab63fa",
            "pattern": {
             "shape": ""
            }
           },
           "name": "United States",
           "orientation": "v",
           "showlegend": true,
           "text": [
            "41.1<br><span style='color:#edeaa8;font-size:12px'>Projected</span>"
           ],
           "textposition": "auto",
           "type": "bar",
           "x": [
            "United States"
           ],
           "xaxis": "x",
           "y": {
            "bdata": "lkOLbOeLREA=",
            "dtype": "f8"
           },
           "yaxis": "y"
          }
         ],
         "name": "2044"
        },
        {
         "data": [
          {
           "hovertemplate": "Region=%{x}<br>Jahr=2045<br>Medianes Alter (Jahre)=%{y}<br>custom_text=%{text}<extra></extra>",
           "legendgroup": "Africa (UN)",
           "marker": {
            "color": "#636efa",
            "pattern": {
             "shape": ""
            }
           },
           "name": "Africa (UN)",
           "orientation": "v",
           "showlegend": true,
           "text": [
            "23.3<br><span style='color:#edeaa8;font-size:12px'>Projected</span>"
           ],
           "textposition": "auto",
           "type": "bar",
           "x": [
            "Africa (UN)"
           ],
           "xaxis": "x",
           "y": {
            "bdata": "IbByaJFNN0A=",
            "dtype": "f8"
           },
           "yaxis": "y"
          },
          {
           "hovertemplate": "Region=%{x}<br>Jahr=2045<br>Medianes Alter (Jahre)=%{y}<br>custom_text=%{text}<extra></extra>",
           "legendgroup": "Asia (UN)",
           "marker": {
            "color": "#EF553B",
            "pattern": {
             "shape": ""
            }
           },
           "name": "Asia (UN)",
           "orientation": "v",
           "showlegend": true,
           "text": [
            "38.5<br><span style='color:#edeaa8;font-size:12px'>Projected</span>"
           ],
           "textposition": "auto",
           "type": "bar",
           "x": [
            "Asia (UN)"
           ],
           "xaxis": "x",
           "y": {
            "bdata": "rkfhehQ+Q0A=",
            "dtype": "f8"
           },
           "yaxis": "y"
          },
          {
           "hovertemplate": "Region=%{x}<br>Jahr=2045<br>Medianes Alter (Jahre)=%{y}<br>custom_text=%{text}<extra></extra>",
           "legendgroup": "Europe (UN)",
           "marker": {
            "color": "#00cc96",
            "pattern": {
             "shape": ""
            }
           },
           "name": "Europe (UN)",
           "orientation": "v",
           "showlegend": true,
           "text": [
            "46.5<br><span style='color:#edeaa8;font-size:12px'>Projected</span>"
           ],
           "textposition": "auto",
           "type": "bar",
           "x": [
            "Europe (UN)"
           ],
           "xaxis": "x",
           "y": {
            "bdata": "CtejcD06R0A=",
            "dtype": "f8"
           },
           "yaxis": "y"
          },
          {
           "hovertemplate": "Region=%{x}<br>Jahr=2045<br>Medianes Alter (Jahre)=%{y}<br>custom_text=%{text}<extra></extra>",
           "legendgroup": "United States",
           "marker": {
            "color": "#ab63fa",
            "pattern": {
             "shape": ""
            }
           },
           "name": "United States",
           "orientation": "v",
           "showlegend": true,
           "text": [
            "41.2<br><span style='color:#edeaa8;font-size:12px'>Projected</span>"
           ],
           "textposition": "auto",
           "type": "bar",
           "x": [
            "United States"
           ],
           "xaxis": "x",
           "y": {
            "bdata": "nu+nxkuXREA=",
            "dtype": "f8"
           },
           "yaxis": "y"
          }
         ],
         "name": "2045"
        },
        {
         "data": [
          {
           "hovertemplate": "Region=%{x}<br>Jahr=2046<br>Medianes Alter (Jahre)=%{y}<br>custom_text=%{text}<extra></extra>",
           "legendgroup": "Africa (UN)",
           "marker": {
            "color": "#636efa",
            "pattern": {
             "shape": ""
            }
           },
           "name": "Africa (UN)",
           "orientation": "v",
           "showlegend": true,
           "text": [
            "23.5<br><span style='color:#edeaa8;font-size:12px'>Projected</span>"
           ],
           "textposition": "auto",
           "type": "bar",
           "x": [
            "Africa (UN)"
           ],
           "xaxis": "x",
           "y": {
            "bdata": "pHA9CteDN0A=",
            "dtype": "f8"
           },
           "yaxis": "y"
          },
          {
           "hovertemplate": "Region=%{x}<br>Jahr=2046<br>Medianes Alter (Jahre)=%{y}<br>custom_text=%{text}<extra></extra>",
           "legendgroup": "Asia (UN)",
           "marker": {
            "color": "#EF553B",
            "pattern": {
             "shape": ""
            }
           },
           "name": "Asia (UN)",
           "orientation": "v",
           "showlegend": true,
           "text": [
            "38.7<br><span style='color:#edeaa8;font-size:12px'>Projected</span>"
           ],
           "textposition": "auto",
           "type": "bar",
           "x": [
            "Asia (UN)"
           ],
           "xaxis": "x",
           "y": {
            "bdata": "rBxaZDtfQ0A=",
            "dtype": "f8"
           },
           "yaxis": "y"
          },
          {
           "hovertemplate": "Region=%{x}<br>Jahr=2046<br>Medianes Alter (Jahre)=%{y}<br>custom_text=%{text}<extra></extra>",
           "legendgroup": "Europe (UN)",
           "marker": {
            "color": "#00cc96",
            "pattern": {
             "shape": ""
            }
           },
           "name": "Europe (UN)",
           "orientation": "v",
           "showlegend": true,
           "text": [
            "46.4<br><span style='color:#edeaa8;font-size:12px'>Projected</span>"
           ],
           "textposition": "auto",
           "type": "bar",
           "x": [
            "Europe (UN)"
           ],
           "xaxis": "x",
           "y": {
            "bdata": "MQisHFo0R0A=",
            "dtype": "f8"
           },
           "yaxis": "y"
          },
          {
           "hovertemplate": "Region=%{x}<br>Jahr=2046<br>Medianes Alter (Jahre)=%{y}<br>custom_text=%{text}<extra></extra>",
           "legendgroup": "United States",
           "marker": {
            "color": "#ab63fa",
            "pattern": {
             "shape": ""
            }
           },
           "name": "United States",
           "orientation": "v",
           "showlegend": true,
           "text": [
            "41.3<br><span style='color:#edeaa8;font-size:12px'>Projected</span>"
           ],
           "textposition": "auto",
           "type": "bar",
           "x": [
            "United States"
           ],
           "xaxis": "x",
           "y": {
            "bdata": "2/l+arykREA=",
            "dtype": "f8"
           },
           "yaxis": "y"
          }
         ],
         "name": "2046"
        },
        {
         "data": [
          {
           "hovertemplate": "Region=%{x}<br>Jahr=2047<br>Medianes Alter (Jahre)=%{y}<br>custom_text=%{text}<extra></extra>",
           "legendgroup": "Africa (UN)",
           "marker": {
            "color": "#636efa",
            "pattern": {
             "shape": ""
            }
           },
           "name": "Africa (UN)",
           "orientation": "v",
           "showlegend": true,
           "text": [
            "23.7<br><span style='color:#edeaa8;font-size:12px'>Projected</span>"
           ],
           "textposition": "auto",
           "type": "bar",
           "x": [
            "Africa (UN)"
           ],
           "xaxis": "x",
           "y": {
            "bdata": "tMh2vp+6N0A=",
            "dtype": "f8"
           },
           "yaxis": "y"
          },
          {
           "hovertemplate": "Region=%{x}<br>Jahr=2047<br>Medianes Alter (Jahre)=%{y}<br>custom_text=%{text}<extra></extra>",
           "legendgroup": "Asia (UN)",
           "marker": {
            "color": "#EF553B",
            "pattern": {
             "shape": ""
            }
           },
           "name": "Asia (UN)",
           "orientation": "v",
           "showlegend": true,
           "text": [
            "39.0<br><span style='color:#edeaa8;font-size:12px'>Projected</span>"
           ],
           "textposition": "auto",
           "type": "bar",
           "x": [
            "Asia (UN)"
           ],
           "xaxis": "x",
           "y": {
            "bdata": "VOOlm8SAQ0A=",
            "dtype": "f8"
           },
           "yaxis": "y"
          },
          {
           "hovertemplate": "Region=%{x}<br>Jahr=2047<br>Medianes Alter (Jahre)=%{y}<br>custom_text=%{text}<extra></extra>",
           "legendgroup": "Europe (UN)",
           "marker": {
            "color": "#00cc96",
            "pattern": {
             "shape": ""
            }
           },
           "name": "Europe (UN)",
           "orientation": "v",
           "showlegend": true,
           "text": [
            "46.4<br><span style='color:#edeaa8;font-size:12px'>Projected</span>"
           ],
           "textposition": "auto",
           "type": "bar",
           "x": [
            "Europe (UN)"
           ],
           "xaxis": "x",
           "y": {
            "bdata": "IbByaJEtR0A=",
            "dtype": "f8"
           },
           "yaxis": "y"
          },
          {
           "hovertemplate": "Region=%{x}<br>Jahr=2047<br>Medianes Alter (Jahre)=%{y}<br>custom_text=%{text}<extra></extra>",
           "legendgroup": "United States",
           "marker": {
            "color": "#ab63fa",
            "pattern": {
             "shape": ""
            }
           },
           "name": "United States",
           "orientation": "v",
           "showlegend": true,
           "text": [
            "41.4<br><span style='color:#edeaa8;font-size:12px'>Projected</span>"
           ],
           "textposition": "auto",
           "type": "bar",
           "x": [
            "United States"
           ],
           "xaxis": "x",
           "y": {
            "bdata": "arx0kxi0REA=",
            "dtype": "f8"
           },
           "yaxis": "y"
          }
         ],
         "name": "2047"
        },
        {
         "data": [
          {
           "hovertemplate": "Region=%{x}<br>Jahr=2048<br>Medianes Alter (Jahre)=%{y}<br>custom_text=%{text}<extra></extra>",
           "legendgroup": "Africa (UN)",
           "marker": {
            "color": "#636efa",
            "pattern": {
             "shape": ""
            }
           },
           "name": "Africa (UN)",
           "orientation": "v",
           "showlegend": true,
           "text": [
            "23.9<br><span style='color:#edeaa8;font-size:12px'>Projected</span>"
           ],
           "textposition": "auto",
           "type": "bar",
           "x": [
            "Africa (UN)"
           ],
           "xaxis": "x",
           "y": {
            "bdata": "i2zn+6nxN0A=",
            "dtype": "f8"
           },
           "yaxis": "y"
          },
          {
           "hovertemplate": "Region=%{x}<br>Jahr=2048<br>Medianes Alter (Jahre)=%{y}<br>custom_text=%{text}<extra></extra>",
           "legendgroup": "Asia (UN)",
           "marker": {
            "color": "#EF553B",
            "pattern": {
             "shape": ""
            }
           },
           "name": "Asia (UN)",
           "orientation": "v",
           "showlegend": true,
           "text": [
            "39.3<br><span style='color:#edeaa8;font-size:12px'>Projected</span>"
           ],
           "textposition": "auto",
           "type": "bar",
           "x": [
            "Asia (UN)"
           ],
           "xaxis": "x",
           "y": {
            "bdata": "bef7qfGiQ0A=",
            "dtype": "f8"
           },
           "yaxis": "y"
          },
          {
           "hovertemplate": "Region=%{x}<br>Jahr=2048<br>Medianes Alter (Jahre)=%{y}<br>custom_text=%{text}<extra></extra>",
           "legendgroup": "Europe (UN)",
           "marker": {
            "color": "#00cc96",
            "pattern": {
             "shape": ""
            }
           },
           "name": "Europe (UN)",
           "orientation": "v",
           "showlegend": true,
           "text": [
            "46.3<br><span style='color:#edeaa8;font-size:12px'>Projected</span>"
           ],
           "textposition": "auto",
           "type": "bar",
           "x": [
            "Europe (UN)"
           ],
           "xaxis": "x",
           "y": {
            "bdata": "EFg5tMgmR0A=",
            "dtype": "f8"
           },
           "yaxis": "y"
          },
          {
           "hovertemplate": "Region=%{x}<br>Jahr=2048<br>Medianes Alter (Jahre)=%{y}<br>custom_text=%{text}<extra></extra>",
           "legendgroup": "United States",
           "marker": {
            "color": "#ab63fa",
            "pattern": {
             "shape": ""
            }
           },
           "name": "United States",
           "orientation": "v",
           "showlegend": true,
           "text": [
            "41.5<br><span style='color:#edeaa8;font-size:12px'>Projected</span>"
           ],
           "textposition": "auto",
           "type": "bar",
           "x": [
            "United States"
           ],
           "xaxis": "x",
           "y": {
            "bdata": "TDeJQWDFREA=",
            "dtype": "f8"
           },
           "yaxis": "y"
          }
         ],
         "name": "2048"
        },
        {
         "data": [
          {
           "hovertemplate": "Region=%{x}<br>Jahr=2049<br>Medianes Alter (Jahre)=%{y}<br>custom_text=%{text}<extra></extra>",
           "legendgroup": "Africa (UN)",
           "marker": {
            "color": "#636efa",
            "pattern": {
             "shape": ""
            }
           },
           "name": "Africa (UN)",
           "orientation": "v",
           "showlegend": true,
           "text": [
            "24.2<br><span style='color:#edeaa8;font-size:12px'>Projected</span>"
           ],
           "textposition": "auto",
           "type": "bar",
           "x": [
            "Africa (UN)"
           ],
           "xaxis": "x",
           "y": {
            "bdata": "tvP91HgpOEA=",
            "dtype": "f8"
           },
           "yaxis": "y"
          },
          {
           "hovertemplate": "Region=%{x}<br>Jahr=2049<br>Medianes Alter (Jahre)=%{y}<br>custom_text=%{text}<extra></extra>",
           "legendgroup": "Asia (UN)",
           "marker": {
            "color": "#EF553B",
            "pattern": {
             "shape": ""
            }
           },
           "name": "Asia (UN)",
           "orientation": "v",
           "showlegend": true,
           "text": [
            "39.5<br><span style='color:#edeaa8;font-size:12px'>Projected</span>"
           ],
           "textposition": "auto",
           "type": "bar",
           "x": [
            "Asia (UN)"
           ],
           "xaxis": "x",
           "y": {
            "bdata": "2c73U+PFQ0A=",
            "dtype": "f8"
           },
           "yaxis": "y"
          },
          {
           "hovertemplate": "Region=%{x}<br>Jahr=2049<br>Medianes Alter (Jahre)=%{y}<br>custom_text=%{text}<extra></extra>",
           "legendgroup": "Europe (UN)",
           "marker": {
            "color": "#00cc96",
            "pattern": {
             "shape": ""
            }
           },
           "name": "Europe (UN)",
           "orientation": "v",
           "showlegend": true,
           "text": [
            "46.2<br><span style='color:#edeaa8;font-size:12px'>Projected</span>"
           ],
           "textposition": "auto",
           "type": "bar",
           "x": [
            "Europe (UN)"
           ],
           "xaxis": "x",
           "y": {
            "bdata": "AAAAAAAgR0A=",
            "dtype": "f8"
           },
           "yaxis": "y"
          },
          {
           "hovertemplate": "Region=%{x}<br>Jahr=2049<br>Medianes Alter (Jahre)=%{y}<br>custom_text=%{text}<extra></extra>",
           "legendgroup": "United States",
           "marker": {
            "color": "#ab63fa",
            "pattern": {
             "shape": ""
            }
           },
           "name": "United States",
           "orientation": "v",
           "showlegend": true,
           "text": [
            "41.7<br><span style='color:#edeaa8;font-size:12px'>Projected</span>"
           ],
           "textposition": "auto",
           "type": "bar",
           "x": [
            "United States"
           ],
           "xaxis": "x",
           "y": {
            "bdata": "KVyPwvXYREA=",
            "dtype": "f8"
           },
           "yaxis": "y"
          }
         ],
         "name": "2049"
        },
        {
         "data": [
          {
           "hovertemplate": "Region=%{x}<br>Jahr=2050<br>Medianes Alter (Jahre)=%{y}<br>custom_text=%{text}<extra></extra>",
           "legendgroup": "Africa (UN)",
           "marker": {
            "color": "#636efa",
            "pattern": {
             "shape": ""
            }
           },
           "name": "Africa (UN)",
           "orientation": "v",
           "showlegend": true,
           "text": [
            "24.4<br><span style='color:#edeaa8;font-size:12px'>Projected</span>"
           ],
           "textposition": "auto",
           "type": "bar",
           "x": [
            "Africa (UN)"
           ],
           "xaxis": "x",
           "y": {
            "bdata": "bxKDwMphOEA=",
            "dtype": "f8"
           },
           "yaxis": "y"
          },
          {
           "hovertemplate": "Region=%{x}<br>Jahr=2050<br>Medianes Alter (Jahre)=%{y}<br>custom_text=%{text}<extra></extra>",
           "legendgroup": "Asia (UN)",
           "marker": {
            "color": "#EF553B",
            "pattern": {
             "shape": ""
            }
           },
           "name": "Asia (UN)",
           "orientation": "v",
           "showlegend": true,
           "text": [
            "39.8<br><span style='color:#edeaa8;font-size:12px'>Projected</span>"
           ],
           "textposition": "auto",
           "type": "bar",
           "x": [
            "Asia (UN)"
           ],
           "xaxis": "x",
           "y": {
            "bdata": "8KfGSzfpQ0A=",
            "dtype": "f8"
           },
           "yaxis": "y"
          },
          {
           "hovertemplate": "Region=%{x}<br>Jahr=2050<br>Medianes Alter (Jahre)=%{y}<br>custom_text=%{text}<extra></extra>",
           "legendgroup": "Europe (UN)",
           "marker": {
            "color": "#00cc96",
            "pattern": {
             "shape": ""
            }
           },
           "name": "Europe (UN)",
           "orientation": "v",
           "showlegend": true,
           "text": [
            "46.2<br><span style='color:#edeaa8;font-size:12px'>Projected</span>"
           ],
           "textposition": "auto",
           "type": "bar",
           "x": [
            "Europe (UN)"
           ],
           "xaxis": "x",
           "y": {
            "bdata": "sp3vp8YbR0A=",
            "dtype": "f8"
           },
           "yaxis": "y"
          },
          {
           "hovertemplate": "Region=%{x}<br>Jahr=2050<br>Medianes Alter (Jahre)=%{y}<br>custom_text=%{text}<extra></extra>",
           "legendgroup": "United States",
           "marker": {
            "color": "#ab63fa",
            "pattern": {
             "shape": ""
            }
           },
           "name": "United States",
           "orientation": "v",
           "showlegend": true,
           "text": [
            "41.9<br><span style='color:#edeaa8;font-size:12px'>Projected</span>"
           ],
           "textposition": "auto",
           "type": "bar",
           "x": [
            "United States"
           ],
           "xaxis": "x",
           "y": {
            "bdata": "rkfhehTuREA=",
            "dtype": "f8"
           },
           "yaxis": "y"
          }
         ],
         "name": "2050"
        },
        {
         "data": [
          {
           "hovertemplate": "Region=%{x}<br>Jahr=2051<br>Medianes Alter (Jahre)=%{y}<br>custom_text=%{text}<extra></extra>",
           "legendgroup": "Africa (UN)",
           "marker": {
            "color": "#636efa",
            "pattern": {
             "shape": ""
            }
           },
           "name": "Africa (UN)",
           "orientation": "v",
           "showlegend": true,
           "text": [
            "24.6<br><span style='color:#edeaa8;font-size:12px'>Projected</span>"
           ],
           "textposition": "auto",
           "type": "bar",
           "x": [
            "Africa (UN)"
           ],
           "xaxis": "x",
           "y": {
            "bdata": "7nw/NV6aOEA=",
            "dtype": "f8"
           },
           "yaxis": "y"
          },
          {
           "hovertemplate": "Region=%{x}<br>Jahr=2051<br>Medianes Alter (Jahre)=%{y}<br>custom_text=%{text}<extra></extra>",
           "legendgroup": "Asia (UN)",
           "marker": {
            "color": "#EF553B",
            "pattern": {
             "shape": ""
            }
           },
           "name": "Asia (UN)",
           "orientation": "v",
           "showlegend": true,
           "text": [
            "40.1<br><span style='color:#edeaa8;font-size:12px'>Projected</span>"
           ],
           "textposition": "auto",
           "type": "bar",
           "x": [
            "Asia (UN)"
           ],
           "xaxis": "x",
           "y": {
            "bdata": "zczMzMwMREA=",
            "dtype": "f8"
           },
           "yaxis": "y"
          },
          {
           "hovertemplate": "Region=%{x}<br>Jahr=2051<br>Medianes Alter (Jahre)=%{y}<br>custom_text=%{text}<extra></extra>",
           "legendgroup": "Europe (UN)",
           "marker": {
            "color": "#00cc96",
            "pattern": {
             "shape": ""
            }
           },
           "name": "Europe (UN)",
           "orientation": "v",
           "showlegend": true,
           "text": [
            "46.2<br><span style='color:#edeaa8;font-size:12px'>Projected</span>"
           ],
           "textposition": "auto",
           "type": "bar",
           "x": [
            "Europe (UN)"
           ],
           "xaxis": "x",
           "y": {
            "bdata": "JQaBlUMbR0A=",
            "dtype": "f8"
           },
           "yaxis": "y"
          },
          {
           "hovertemplate": "Region=%{x}<br>Jahr=2051<br>Medianes Alter (Jahre)=%{y}<br>custom_text=%{text}<extra></extra>",
           "legendgroup": "United States",
           "marker": {
            "color": "#ab63fa",
            "pattern": {
             "shape": ""
            }
           },
           "name": "United States",
           "orientation": "v",
           "showlegend": true,
           "text": [
            "42.0<br><span style='color:#edeaa8;font-size:12px'>Projected</span>"
           ],
           "textposition": "auto",
           "type": "bar",
           "x": [
            "United States"
           ],
           "xaxis": "x",
           "y": {
            "bdata": "bef7qfECRUA=",
            "dtype": "f8"
           },
           "yaxis": "y"
          }
         ],
         "name": "2051"
        },
        {
         "data": [
          {
           "hovertemplate": "Region=%{x}<br>Jahr=2052<br>Medianes Alter (Jahre)=%{y}<br>custom_text=%{text}<extra></extra>",
           "legendgroup": "Africa (UN)",
           "marker": {
            "color": "#636efa",
            "pattern": {
             "shape": ""
            }
           },
           "name": "Africa (UN)",
           "orientation": "v",
           "showlegend": true,
           "text": [
            "24.8<br><span style='color:#edeaa8;font-size:12px'>Projected</span>"
           ],
           "textposition": "auto",
           "type": "bar",
           "x": [
            "Africa (UN)"
           ],
           "xaxis": "x",
           "y": {
            "bdata": "bef7qfHSOEA=",
            "dtype": "f8"
           },
           "yaxis": "y"
          },
          {
           "hovertemplate": "Region=%{x}<br>Jahr=2052<br>Medianes Alter (Jahre)=%{y}<br>custom_text=%{text}<extra></extra>",
           "legendgroup": "Asia (UN)",
           "marker": {
            "color": "#EF553B",
            "pattern": {
             "shape": ""
            }
           },
           "name": "Asia (UN)",
           "orientation": "v",
           "showlegend": true,
           "text": [
            "40.4<br><span style='color:#edeaa8;font-size:12px'>Projected</span>"
           ],
           "textposition": "auto",
           "type": "bar",
           "x": [
            "Asia (UN)"
           ],
           "xaxis": "x",
           "y": {
            "bdata": "x0s3iUEwREA=",
            "dtype": "f8"
           },
           "yaxis": "y"
          },
          {
           "hovertemplate": "Region=%{x}<br>Jahr=2052<br>Medianes Alter (Jahre)=%{y}<br>custom_text=%{text}<extra></extra>",
           "legendgroup": "Europe (UN)",
           "marker": {
            "color": "#00cc96",
            "pattern": {
             "shape": ""
            }
           },
           "name": "Europe (UN)",
           "orientation": "v",
           "showlegend": true,
           "text": [
            "46.2<br><span style='color:#edeaa8;font-size:12px'>Projected</span>"
           ],
           "textposition": "auto",
           "type": "bar",
           "x": [
            "Europe (UN)"
           ],
           "xaxis": "x",
           "y": {
            "bdata": "rkfhehQeR0A=",
            "dtype": "f8"
           },
           "yaxis": "y"
          },
          {
           "hovertemplate": "Region=%{x}<br>Jahr=2052<br>Medianes Alter (Jahre)=%{y}<br>custom_text=%{text}<extra></extra>",
           "legendgroup": "United States",
           "marker": {
            "color": "#ab63fa",
            "pattern": {
             "shape": ""
            }
           },
           "name": "United States",
           "orientation": "v",
           "showlegend": true,
           "text": [
            "42.2<br><span style='color:#edeaa8;font-size:12px'>Projected</span>"
           ],
           "textposition": "auto",
           "type": "bar",
           "x": [
            "United States"
           ],
           "xaxis": "x",
           "y": {
            "bdata": "LbKd76cWRUA=",
            "dtype": "f8"
           },
           "yaxis": "y"
          }
         ],
         "name": "2052"
        },
        {
         "data": [
          {
           "hovertemplate": "Region=%{x}<br>Jahr=2053<br>Medianes Alter (Jahre)=%{y}<br>custom_text=%{text}<extra></extra>",
           "legendgroup": "Africa (UN)",
           "marker": {
            "color": "#636efa",
            "pattern": {
             "shape": ""
            }
           },
           "name": "Africa (UN)",
           "orientation": "v",
           "showlegend": true,
           "text": [
            "25.0<br><span style='color:#edeaa8;font-size:12px'>Projected</span>"
           ],
           "textposition": "auto",
           "type": "bar",
           "x": [
            "Africa (UN)"
           ],
           "xaxis": "x",
           "y": {
            "bdata": "sp3vp8YLOUA=",
            "dtype": "f8"
           },
           "yaxis": "y"
          },
          {
           "hovertemplate": "Region=%{x}<br>Jahr=2053<br>Medianes Alter (Jahre)=%{y}<br>custom_text=%{text}<extra></extra>",
           "legendgroup": "Asia (UN)",
           "marker": {
            "color": "#EF553B",
            "pattern": {
             "shape": ""
            }
           },
           "name": "Asia (UN)",
           "orientation": "v",
           "showlegend": true,
           "text": [
            "40.7<br><span style='color:#edeaa8;font-size:12px'>Projected</span>"
           ],
           "textposition": "auto",
           "type": "bar",
           "x": [
            "Asia (UN)"
           ],
           "xaxis": "x",
           "y": {
            "bdata": "TmIQWDlUREA=",
            "dtype": "f8"
           },
           "yaxis": "y"
          },
          {
           "hovertemplate": "Region=%{x}<br>Jahr=2053<br>Medianes Alter (Jahre)=%{y}<br>custom_text=%{text}<extra></extra>",
           "legendgroup": "Europe (UN)",
           "marker": {
            "color": "#00cc96",
            "pattern": {
             "shape": ""
            }
           },
           "name": "Europe (UN)",
           "orientation": "v",
           "showlegend": true,
           "text": [
            "46.3<br><span style='color:#edeaa8;font-size:12px'>Projected</span>"
           ],
           "textposition": "auto",
           "type": "bar",
           "x": [
            "Europe (UN)"
           ],
           "xaxis": "x",
           "y": {
            "bdata": "3SQGgZUjR0A=",
            "dtype": "f8"
           },
           "yaxis": "y"
          },
          {
           "hovertemplate": "Region=%{x}<br>Jahr=2053<br>Medianes Alter (Jahre)=%{y}<br>custom_text=%{text}<extra></extra>",
           "legendgroup": "United States",
           "marker": {
            "color": "#ab63fa",
            "pattern": {
             "shape": ""
            }
           },
           "name": "United States",
           "orientation": "v",
           "showlegend": true,
           "text": [
            "42.3<br><span style='color:#edeaa8;font-size:12px'>Projected</span>"
           ],
           "textposition": "auto",
           "type": "bar",
           "x": [
            "United States"
           ],
           "xaxis": "x",
           "y": {
            "bdata": "nMQgsHIoRUA=",
            "dtype": "f8"
           },
           "yaxis": "y"
          }
         ],
         "name": "2053"
        },
        {
         "data": [
          {
           "hovertemplate": "Region=%{x}<br>Jahr=2054<br>Medianes Alter (Jahre)=%{y}<br>custom_text=%{text}<extra></extra>",
           "legendgroup": "Africa (UN)",
           "marker": {
            "color": "#636efa",
            "pattern": {
             "shape": ""
            }
           },
           "name": "Africa (UN)",
           "orientation": "v",
           "showlegend": true,
           "text": [
            "25.3<br><span style='color:#edeaa8;font-size:12px'>Projected</span>"
           ],
           "textposition": "auto",
           "type": "bar",
           "x": [
            "Africa (UN)"
           ],
           "xaxis": "x",
           "y": {
            "bdata": "vp8aL91EOUA=",
            "dtype": "f8"
           },
           "yaxis": "y"
          },
          {
           "hovertemplate": "Region=%{x}<br>Jahr=2054<br>Medianes Alter (Jahre)=%{y}<br>custom_text=%{text}<extra></extra>",
           "legendgroup": "Asia (UN)",
           "marker": {
            "color": "#EF553B",
            "pattern": {
             "shape": ""
            }
           },
           "name": "Asia (UN)",
           "orientation": "v",
           "showlegend": true,
           "text": [
            "40.9<br><span style='color:#edeaa8;font-size:12px'>Projected</span>"
           ],
           "textposition": "auto",
           "type": "bar",
           "x": [
            "Asia (UN)"
           ],
           "xaxis": "x",
           "y": {
            "bdata": "KVyPwvV4REA=",
            "dtype": "f8"
           },
           "yaxis": "y"
          },
          {
           "hovertemplate": "Region=%{x}<br>Jahr=2054<br>Medianes Alter (Jahre)=%{y}<br>custom_text=%{text}<extra></extra>",
           "legendgroup": "Europe (UN)",
           "marker": {
            "color": "#00cc96",
            "pattern": {
             "shape": ""
            }
           },
           "name": "Europe (UN)",
           "orientation": "v",
           "showlegend": true,
           "text": [
            "46.3<br><span style='color:#edeaa8;font-size:12px'>Projected</span>"
           ],
           "textposition": "auto",
           "type": "bar",
           "x": [
            "Europe (UN)"
           ],
           "xaxis": "x",
           "y": {
            "bdata": "I9v5fmosR0A=",
            "dtype": "f8"
           },
           "yaxis": "y"
          },
          {
           "hovertemplate": "Region=%{x}<br>Jahr=2054<br>Medianes Alter (Jahre)=%{y}<br>custom_text=%{text}<extra></extra>",
           "legendgroup": "United States",
           "marker": {
            "color": "#ab63fa",
            "pattern": {
             "shape": ""
            }
           },
           "name": "United States",
           "orientation": "v",
           "showlegend": true,
           "text": [
            "42.4<br><span style='color:#edeaa8;font-size:12px'>Projected</span>"
           ],
           "textposition": "auto",
           "type": "bar",
           "x": [
            "United States"
           ],
           "xaxis": "x",
           "y": {
            "bdata": "Rrbz/dQ4RUA=",
            "dtype": "f8"
           },
           "yaxis": "y"
          }
         ],
         "name": "2054"
        },
        {
         "data": [
          {
           "hovertemplate": "Region=%{x}<br>Jahr=2055<br>Medianes Alter (Jahre)=%{y}<br>custom_text=%{text}<extra></extra>",
           "legendgroup": "Africa (UN)",
           "marker": {
            "color": "#636efa",
            "pattern": {
             "shape": ""
            }
           },
           "name": "Africa (UN)",
           "orientation": "v",
           "showlegend": true,
           "text": [
            "25.5<br><span style='color:#edeaa8;font-size:12px'>Projected</span>"
           ],
           "textposition": "auto",
           "type": "bar",
           "x": [
            "Africa (UN)"
           ],
           "xaxis": "x",
           "y": {
            "bdata": "WDm0yHZ+OUA=",
            "dtype": "f8"
           },
           "yaxis": "y"
          },
          {
           "hovertemplate": "Region=%{x}<br>Jahr=2055<br>Medianes Alter (Jahre)=%{y}<br>custom_text=%{text}<extra></extra>",
           "legendgroup": "Asia (UN)",
           "marker": {
            "color": "#EF553B",
            "pattern": {
             "shape": ""
            }
           },
           "name": "Asia (UN)",
           "orientation": "v",
           "showlegend": true,
           "text": [
            "41.2<br><span style='color:#edeaa8;font-size:12px'>Projected</span>"
           ],
           "textposition": "auto",
           "type": "bar",
           "x": [
            "Asia (UN)"
           ],
           "xaxis": "x",
           "y": {
            "bdata": "IbByaJGdREA=",
            "dtype": "f8"
           },
           "yaxis": "y"
          },
          {
           "hovertemplate": "Region=%{x}<br>Jahr=2055<br>Medianes Alter (Jahre)=%{y}<br>custom_text=%{text}<extra></extra>",
           "legendgroup": "Europe (UN)",
           "marker": {
            "color": "#00cc96",
            "pattern": {
             "shape": ""
            }
           },
           "name": "Europe (UN)",
           "orientation": "v",
           "showlegend": true,
           "text": [
            "46.4<br><span style='color:#edeaa8;font-size:12px'>Projected</span>"
           ],
           "textposition": "auto",
           "type": "bar",
           "x": [
            "Europe (UN)"
           ],
           "xaxis": "x",
           "y": {
            "bdata": "YhBYObQ4R0A=",
            "dtype": "f8"
           },
           "yaxis": "y"
          },
          {
           "hovertemplate": "Region=%{x}<br>Jahr=2055<br>Medianes Alter (Jahre)=%{y}<br>custom_text=%{text}<extra></extra>",
           "legendgroup": "United States",
           "marker": {
            "color": "#ab63fa",
            "pattern": {
             "shape": ""
            }
           },
           "name": "United States",
           "orientation": "v",
           "showlegend": true,
           "text": [
            "42.6<br><span style='color:#edeaa8;font-size:12px'>Projected</span>"
           ],
           "textposition": "auto",
           "type": "bar",
           "x": [
            "United States"
           ],
           "xaxis": "x",
           "y": {
            "bdata": "nMQgsHJIRUA=",
            "dtype": "f8"
           },
           "yaxis": "y"
          }
         ],
         "name": "2055"
        },
        {
         "data": [
          {
           "hovertemplate": "Region=%{x}<br>Jahr=2056<br>Medianes Alter (Jahre)=%{y}<br>custom_text=%{text}<extra></extra>",
           "legendgroup": "Africa (UN)",
           "marker": {
            "color": "#636efa",
            "pattern": {
             "shape": ""
            }
           },
           "name": "Africa (UN)",
           "orientation": "v",
           "showlegend": true,
           "text": [
            "25.7<br><span style='color:#edeaa8;font-size:12px'>Projected</span>"
           ],
           "textposition": "auto",
           "type": "bar",
           "x": [
            "Africa (UN)"
           ],
           "xaxis": "x",
           "y": {
            "bdata": "8tJNYhC4OUA=",
            "dtype": "f8"
           },
           "yaxis": "y"
          },
          {
           "hovertemplate": "Region=%{x}<br>Jahr=2056<br>Medianes Alter (Jahre)=%{y}<br>custom_text=%{text}<extra></extra>",
           "legendgroup": "Asia (UN)",
           "marker": {
            "color": "#EF553B",
            "pattern": {
             "shape": ""
            }
           },
           "name": "Asia (UN)",
           "orientation": "v",
           "showlegend": true,
           "text": [
            "41.5<br><span style='color:#edeaa8;font-size:12px'>Projected</span>"
           ],
           "textposition": "auto",
           "type": "bar",
           "x": [
            "Asia (UN)"
           ],
           "xaxis": "x",
           "y": {
            "bdata": "/tR46SbBREA=",
            "dtype": "f8"
           },
           "yaxis": "y"
          },
          {
           "hovertemplate": "Region=%{x}<br>Jahr=2056<br>Medianes Alter (Jahre)=%{y}<br>custom_text=%{text}<extra></extra>",
           "legendgroup": "Europe (UN)",
           "marker": {
            "color": "#00cc96",
            "pattern": {
             "shape": ""
            }
           },
           "name": "Europe (UN)",
           "orientation": "v",
           "showlegend": true,
           "text": [
            "46.6<br><span style='color:#edeaa8;font-size:12px'>Projected</span>"
           ],
           "textposition": "auto",
           "type": "bar",
           "x": [
            "Europe (UN)"
           ],
           "xaxis": "x",
           "y": {
            "bdata": "ZDvfT41HR0A=",
            "dtype": "f8"
           },
           "yaxis": "y"
          },
          {
           "hovertemplate": "Region=%{x}<br>Jahr=2056<br>Medianes Alter (Jahre)=%{y}<br>custom_text=%{text}<extra></extra>",
           "legendgroup": "United States",
           "marker": {
            "color": "#ab63fa",
            "pattern": {
             "shape": ""
            }
           },
           "name": "United States",
           "orientation": "v",
           "showlegend": true,
           "text": [
            "42.7<br><span style='color:#edeaa8;font-size:12px'>Projected</span>"
           ],
           "textposition": "auto",
           "type": "bar",
           "x": [
            "United States"
           ],
           "xaxis": "x",
           "y": {
            "bdata": "ZDvfT41XRUA=",
            "dtype": "f8"
           },
           "yaxis": "y"
          }
         ],
         "name": "2056"
        },
        {
         "data": [
          {
           "hovertemplate": "Region=%{x}<br>Jahr=2057<br>Medianes Alter (Jahre)=%{y}<br>custom_text=%{text}<extra></extra>",
           "legendgroup": "Africa (UN)",
           "marker": {
            "color": "#636efa",
            "pattern": {
             "shape": ""
            }
           },
           "name": "Africa (UN)",
           "orientation": "v",
           "showlegend": true,
           "text": [
            "25.9<br><span style='color:#edeaa8;font-size:12px'>Projected</span>"
           ],
           "textposition": "auto",
           "type": "bar",
           "x": [
            "Africa (UN)"
           ],
           "xaxis": "x",
           "y": {
            "bdata": "i2zn+6nxOUA=",
            "dtype": "f8"
           },
           "yaxis": "y"
          },
          {
           "hovertemplate": "Region=%{x}<br>Jahr=2057<br>Medianes Alter (Jahre)=%{y}<br>custom_text=%{text}<extra></extra>",
           "legendgroup": "Asia (UN)",
           "marker": {
            "color": "#EF553B",
            "pattern": {
             "shape": ""
            }
           },
           "name": "Asia (UN)",
           "orientation": "v",
           "showlegend": true,
           "text": [
            "41.8<br><span style='color:#edeaa8;font-size:12px'>Projected</span>"
           ],
           "textposition": "auto",
           "type": "bar",
           "x": [
            "Asia (UN)"
           ],
           "xaxis": "x",
           "y": {
            "bdata": "3SQGgZXjREA=",
            "dtype": "f8"
           },
           "yaxis": "y"
          },
          {
           "hovertemplate": "Region=%{x}<br>Jahr=2057<br>Medianes Alter (Jahre)=%{y}<br>custom_text=%{text}<extra></extra>",
           "legendgroup": "Europe (UN)",
           "marker": {
            "color": "#00cc96",
            "pattern": {
             "shape": ""
            }
           },
           "name": "Europe (UN)",
           "orientation": "v",
           "showlegend": true,
           "text": [
            "46.7<br><span style='color:#edeaa8;font-size:12px'>Projected</span>"
           ],
           "textposition": "auto",
           "type": "bar",
           "x": [
            "Europe (UN)"
           ],
           "xaxis": "x",
           "y": {
            "bdata": "nu+nxktXR0A=",
            "dtype": "f8"
           },
           "yaxis": "y"
          },
          {
           "hovertemplate": "Region=%{x}<br>Jahr=2057<br>Medianes Alter (Jahre)=%{y}<br>custom_text=%{text}<extra></extra>",
           "legendgroup": "United States",
           "marker": {
            "color": "#ab63fa",
            "pattern": {
             "shape": ""
            }
           },
           "name": "United States",
           "orientation": "v",
           "showlegend": true,
           "text": [
            "42.8<br><span style='color:#edeaa8;font-size:12px'>Projected</span>"
           ],
           "textposition": "auto",
           "type": "bar",
           "x": [
            "United States"
           ],
           "xaxis": "x",
           "y": {
            "bdata": "vHSTGARmRUA=",
            "dtype": "f8"
           },
           "yaxis": "y"
          }
         ],
         "name": "2057"
        },
        {
         "data": [
          {
           "hovertemplate": "Region=%{x}<br>Jahr=2058<br>Medianes Alter (Jahre)=%{y}<br>custom_text=%{text}<extra></extra>",
           "legendgroup": "Africa (UN)",
           "marker": {
            "color": "#636efa",
            "pattern": {
             "shape": ""
            }
           },
           "name": "Africa (UN)",
           "orientation": "v",
           "showlegend": true,
           "text": [
            "26.2<br><span style='color:#edeaa8;font-size:12px'>Projected</span>"
           ],
           "textposition": "auto",
           "type": "bar",
           "x": [
            "Africa (UN)"
           ],
           "xaxis": "x",
           "y": {
            "bdata": "sp3vp8YrOkA=",
            "dtype": "f8"
           },
           "yaxis": "y"
          },
          {
           "hovertemplate": "Region=%{x}<br>Jahr=2058<br>Medianes Alter (Jahre)=%{y}<br>custom_text=%{text}<extra></extra>",
           "legendgroup": "Asia (UN)",
           "marker": {
            "color": "#EF553B",
            "pattern": {
             "shape": ""
            }
           },
           "name": "Asia (UN)",
           "orientation": "v",
           "showlegend": true,
           "text": [
            "42.0<br><span style='color:#edeaa8;font-size:12px'>Projected</span>"
           ],
           "textposition": "auto",
           "type": "bar",
           "x": [
            "Asia (UN)"
           ],
           "xaxis": "x",
           "y": {
            "bdata": "aJHtfD8FRUA=",
            "dtype": "f8"
           },
           "yaxis": "y"
          },
          {
           "hovertemplate": "Region=%{x}<br>Jahr=2058<br>Medianes Alter (Jahre)=%{y}<br>custom_text=%{text}<extra></extra>",
           "legendgroup": "Europe (UN)",
           "marker": {
            "color": "#00cc96",
            "pattern": {
             "shape": ""
            }
           },
           "name": "Europe (UN)",
           "orientation": "v",
           "showlegend": true,
           "text": [
            "46.8<br><span style='color:#edeaa8;font-size:12px'>Projected</span>"
           ],
           "textposition": "auto",
           "type": "bar",
           "x": [
            "Europe (UN)"
           ],
           "xaxis": "x",
           "y": {
            "bdata": "9P3UeOlmR0A=",
            "dtype": "f8"
           },
           "yaxis": "y"
          },
          {
           "hovertemplate": "Region=%{x}<br>Jahr=2058<br>Medianes Alter (Jahre)=%{y}<br>custom_text=%{text}<extra></extra>",
           "legendgroup": "United States",
           "marker": {
            "color": "#ab63fa",
            "pattern": {
             "shape": ""
            }
           },
           "name": "United States",
           "orientation": "v",
           "showlegend": true,
           "text": [
            "42.9<br><span style='color:#edeaa8;font-size:12px'>Projected</span>"
           ],
           "textposition": "auto",
           "type": "bar",
           "x": [
            "United States"
           ],
           "xaxis": "x",
           "y": {
            "bdata": "MQisHFp0RUA=",
            "dtype": "f8"
           },
           "yaxis": "y"
          }
         ],
         "name": "2058"
        },
        {
         "data": [
          {
           "hovertemplate": "Region=%{x}<br>Jahr=2059<br>Medianes Alter (Jahre)=%{y}<br>custom_text=%{text}<extra></extra>",
           "legendgroup": "Africa (UN)",
           "marker": {
            "color": "#636efa",
            "pattern": {
             "shape": ""
            }
           },
           "name": "Africa (UN)",
           "orientation": "v",
           "showlegend": true,
           "text": [
            "26.4<br><span style='color:#edeaa8;font-size:12px'>Projected</span>"
           ],
           "textposition": "auto",
           "type": "bar",
           "x": [
            "Africa (UN)"
           ],
           "xaxis": "x",
           "y": {
            "bdata": "EoPAyqFlOkA=",
            "dtype": "f8"
           },
           "yaxis": "y"
          },
          {
           "hovertemplate": "Region=%{x}<br>Jahr=2059<br>Medianes Alter (Jahre)=%{y}<br>custom_text=%{text}<extra></extra>",
           "legendgroup": "Asia (UN)",
           "marker": {
            "color": "#EF553B",
            "pattern": {
             "shape": ""
            }
           },
           "name": "Asia (UN)",
           "orientation": "v",
           "showlegend": true,
           "text": [
            "42.3<br><span style='color:#edeaa8;font-size:12px'>Projected</span>"
           ],
           "textposition": "auto",
           "type": "bar",
           "x": [
            "Asia (UN)"
           ],
           "xaxis": "x",
           "y": {
            "bdata": "SgwCK4cmRUA=",
            "dtype": "f8"
           },
           "yaxis": "y"
          },
          {
           "hovertemplate": "Region=%{x}<br>Jahr=2059<br>Medianes Alter (Jahre)=%{y}<br>custom_text=%{text}<extra></extra>",
           "legendgroup": "Europe (UN)",
           "marker": {
            "color": "#00cc96",
            "pattern": {
             "shape": ""
            }
           },
           "name": "Europe (UN)",
           "orientation": "v",
           "showlegend": true,
           "text": [
            "46.9<br><span style='color:#edeaa8;font-size:12px'>Projected</span>"
           ],
           "textposition": "auto",
           "type": "bar",
           "x": [
            "Europe (UN)"
           ],
           "xaxis": "x",
           "y": {
            "bdata": "9P3UeOl2R0A=",
            "dtype": "f8"
           },
           "yaxis": "y"
          },
          {
           "hovertemplate": "Region=%{x}<br>Jahr=2059<br>Medianes Alter (Jahre)=%{y}<br>custom_text=%{text}<extra></extra>",
           "legendgroup": "United States",
           "marker": {
            "color": "#ab63fa",
            "pattern": {
             "shape": ""
            }
           },
           "name": "United States",
           "orientation": "v",
           "showlegend": true,
           "text": [
            "43.0<br><span style='color:#edeaa8;font-size:12px'>Projected</span>"
           ],
           "textposition": "auto",
           "type": "bar",
           "x": [
            "United States"
           ],
           "xaxis": "x",
           "y": {
            "bdata": "bef7qfGCRUA=",
            "dtype": "f8"
           },
           "yaxis": "y"
          }
         ],
         "name": "2059"
        },
        {
         "data": [
          {
           "hovertemplate": "Region=%{x}<br>Jahr=2060<br>Medianes Alter (Jahre)=%{y}<br>custom_text=%{text}<extra></extra>",
           "legendgroup": "Africa (UN)",
           "marker": {
            "color": "#636efa",
            "pattern": {
             "shape": ""
            }
           },
           "name": "Africa (UN)",
           "orientation": "v",
           "showlegend": true,
           "text": [
            "26.6<br><span style='color:#edeaa8;font-size:12px'>Projected</span>"
           ],
           "textposition": "auto",
           "type": "bar",
           "x": [
            "Africa (UN)"
           ],
           "xaxis": "x",
           "y": {
            "bdata": "ObTIdr6fOkA=",
            "dtype": "f8"
           },
           "yaxis": "y"
          },
          {
           "hovertemplate": "Region=%{x}<br>Jahr=2060<br>Medianes Alter (Jahre)=%{y}<br>custom_text=%{text}<extra></extra>",
           "legendgroup": "Asia (UN)",
           "marker": {
            "color": "#EF553B",
            "pattern": {
             "shape": ""
            }
           },
           "name": "Asia (UN)",
           "orientation": "v",
           "showlegend": true,
           "text": [
            "42.6<br><span style='color:#edeaa8;font-size:12px'>Projected</span>"
           ],
           "textposition": "auto",
           "type": "bar",
           "x": [
            "Asia (UN)"
           ],
           "xaxis": "x",
           "y": {
            "bdata": "SOF6FK5HRUA=",
            "dtype": "f8"
           },
           "yaxis": "y"
          },
          {
           "hovertemplate": "Region=%{x}<br>Jahr=2060<br>Medianes Alter (Jahre)=%{y}<br>custom_text=%{text}<extra></extra>",
           "legendgroup": "Europe (UN)",
           "marker": {
            "color": "#00cc96",
            "pattern": {
             "shape": ""
            }
           },
           "name": "Europe (UN)",
           "orientation": "v",
           "showlegend": true,
           "text": [
            "47.1<br><span style='color:#edeaa8;font-size:12px'>Projected</span>"
           ],
           "textposition": "auto",
           "type": "bar",
           "x": [
            "Europe (UN)"
           ],
           "xaxis": "x",
           "y": {
            "bdata": "Di2yne+HR0A=",
            "dtype": "f8"
           },
           "yaxis": "y"
          },
          {
           "hovertemplate": "Region=%{x}<br>Jahr=2060<br>Medianes Alter (Jahre)=%{y}<br>custom_text=%{text}<extra></extra>",
           "legendgroup": "United States",
           "marker": {
            "color": "#ab63fa",
            "pattern": {
             "shape": ""
            }
           },
           "name": "United States",
           "orientation": "v",
           "showlegend": true,
           "text": [
            "43.1<br><span style='color:#edeaa8;font-size:12px'>Projected</span>"
           ],
           "textposition": "auto",
           "type": "bar",
           "x": [
            "United States"
           ],
           "xaxis": "x",
           "y": {
            "bdata": "4XoUrkeRRUA=",
            "dtype": "f8"
           },
           "yaxis": "y"
          }
         ],
         "name": "2060"
        },
        {
         "data": [
          {
           "hovertemplate": "Region=%{x}<br>Jahr=2061<br>Medianes Alter (Jahre)=%{y}<br>custom_text=%{text}<extra></extra>",
           "legendgroup": "Africa (UN)",
           "marker": {
            "color": "#636efa",
            "pattern": {
             "shape": ""
            }
           },
           "name": "Africa (UN)",
           "orientation": "v",
           "showlegend": true,
           "text": [
            "26.9<br><span style='color:#edeaa8;font-size:12px'>Projected</span>"
           ],
           "textposition": "auto",
           "type": "bar",
           "x": [
            "Africa (UN)"
           ],
           "xaxis": "x",
           "y": {
            "bdata": "mpmZmZnZOkA=",
            "dtype": "f8"
           },
           "yaxis": "y"
          },
          {
           "hovertemplate": "Region=%{x}<br>Jahr=2061<br>Medianes Alter (Jahre)=%{y}<br>custom_text=%{text}<extra></extra>",
           "legendgroup": "Asia (UN)",
           "marker": {
            "color": "#EF553B",
            "pattern": {
             "shape": ""
            }
           },
           "name": "Asia (UN)",
           "orientation": "v",
           "showlegend": true,
           "text": [
            "42.8<br><span style='color:#edeaa8;font-size:12px'>Projected</span>"
           ],
           "textposition": "auto",
           "type": "bar",
           "x": [
            "Asia (UN)"
           ],
           "xaxis": "x",
           "y": {
            "bdata": "ZDvfT41nRUA=",
            "dtype": "f8"
           },
           "yaxis": "y"
          },
          {
           "hovertemplate": "Region=%{x}<br>Jahr=2061<br>Medianes Alter (Jahre)=%{y}<br>custom_text=%{text}<extra></extra>",
           "legendgroup": "Europe (UN)",
           "marker": {
            "color": "#00cc96",
            "pattern": {
             "shape": ""
            }
           },
           "name": "Europe (UN)",
           "orientation": "v",
           "showlegend": true,
           "text": [
            "47.2<br><span style='color:#edeaa8;font-size:12px'>Projected</span>"
           ],
           "textposition": "auto",
           "type": "bar",
           "x": [
            "Europe (UN)"
           ],
           "xaxis": "x",
           "y": {
            "bdata": "KVyPwvWYR0A=",
            "dtype": "f8"
           },
           "yaxis": "y"
          },
          {
           "hovertemplate": "Region=%{x}<br>Jahr=2061<br>Medianes Alter (Jahre)=%{y}<br>custom_text=%{text}<extra></extra>",
           "legendgroup": "United States",
           "marker": {
            "color": "#ab63fa",
            "pattern": {
             "shape": ""
            }
           },
           "name": "United States",
           "orientation": "v",
           "showlegend": true,
           "text": [
            "43.2<br><span style='color:#edeaa8;font-size:12px'>Projected</span>"
           ],
           "textposition": "auto",
           "type": "bar",
           "x": [
            "United States"
           ],
           "xaxis": "x",
           "y": {
            "bdata": "rkfhehSeRUA=",
            "dtype": "f8"
           },
           "yaxis": "y"
          }
         ],
         "name": "2061"
        },
        {
         "data": [
          {
           "hovertemplate": "Region=%{x}<br>Jahr=2062<br>Medianes Alter (Jahre)=%{y}<br>custom_text=%{text}<extra></extra>",
           "legendgroup": "Africa (UN)",
           "marker": {
            "color": "#636efa",
            "pattern": {
             "shape": ""
            }
           },
           "name": "Africa (UN)",
           "orientation": "v",
           "showlegend": true,
           "text": [
            "27.1<br><span style='color:#edeaa8;font-size:12px'>Projected</span>"
           ],
           "textposition": "auto",
           "type": "bar",
           "x": [
            "Africa (UN)"
           ],
           "xaxis": "x",
           "y": {
            "bdata": "hxbZzvcTO0A=",
            "dtype": "f8"
           },
           "yaxis": "y"
          },
          {
           "hovertemplate": "Region=%{x}<br>Jahr=2062<br>Medianes Alter (Jahre)=%{y}<br>custom_text=%{text}<extra></extra>",
           "legendgroup": "Asia (UN)",
           "marker": {
            "color": "#EF553B",
            "pattern": {
             "shape": ""
            }
           },
           "name": "Asia (UN)",
           "orientation": "v",
           "showlegend": true,
           "text": [
            "43.0<br><span style='color:#edeaa8;font-size:12px'>Projected</span>"
           ],
           "textposition": "auto",
           "type": "bar",
           "x": [
            "Asia (UN)"
           ],
           "xaxis": "x",
           "y": {
            "bdata": "okW28/2ERUA=",
            "dtype": "f8"
           },
           "yaxis": "y"
          },
          {
           "hovertemplate": "Region=%{x}<br>Jahr=2062<br>Medianes Alter (Jahre)=%{y}<br>custom_text=%{text}<extra></extra>",
           "legendgroup": "Europe (UN)",
           "marker": {
            "color": "#00cc96",
            "pattern": {
             "shape": ""
            }
           },
           "name": "Europe (UN)",
           "orientation": "v",
           "showlegend": true,
           "text": [
            "47.3<br><span style='color:#edeaa8;font-size:12px'>Projected</span>"
           ],
           "textposition": "auto",
           "type": "bar",
           "x": [
            "Europe (UN)"
           ],
           "xaxis": "x",
           "y": {
            "bdata": "YOXQItupR0A=",
            "dtype": "f8"
           },
           "yaxis": "y"
          },
          {
           "hovertemplate": "Region=%{x}<br>Jahr=2062<br>Medianes Alter (Jahre)=%{y}<br>custom_text=%{text}<extra></extra>",
           "legendgroup": "United States",
           "marker": {
            "color": "#ab63fa",
            "pattern": {
             "shape": ""
            }
           },
           "name": "United States",
           "orientation": "v",
           "showlegend": true,
           "text": [
            "43.3<br><span style='color:#edeaa8;font-size:12px'>Projected</span>"
           ],
           "textposition": "auto",
           "type": "bar",
           "x": [
            "United States"
           ],
           "xaxis": "x",
           "y": {
            "bdata": "Rrbz/dSoRUA=",
            "dtype": "f8"
           },
           "yaxis": "y"
          }
         ],
         "name": "2062"
        },
        {
         "data": [
          {
           "hovertemplate": "Region=%{x}<br>Jahr=2063<br>Medianes Alter (Jahre)=%{y}<br>custom_text=%{text}<extra></extra>",
           "legendgroup": "Africa (UN)",
           "marker": {
            "color": "#636efa",
            "pattern": {
             "shape": ""
            }
           },
           "name": "Africa (UN)",
           "orientation": "v",
           "showlegend": true,
           "text": [
            "27.3<br><span style='color:#edeaa8;font-size:12px'>Projected</span>"
           ],
           "textposition": "auto",
           "type": "bar",
           "x": [
            "Africa (UN)"
           ],
           "xaxis": "x",
           "y": {
            "bdata": "rkfhehROO0A=",
            "dtype": "f8"
           },
           "yaxis": "y"
          },
          {
           "hovertemplate": "Region=%{x}<br>Jahr=2063<br>Medianes Alter (Jahre)=%{y}<br>custom_text=%{text}<extra></extra>",
           "legendgroup": "Asia (UN)",
           "marker": {
            "color": "#EF553B",
            "pattern": {
             "shape": ""
            }
           },
           "name": "Asia (UN)",
           "orientation": "v",
           "showlegend": true,
           "text": [
            "43.2<br><span style='color:#edeaa8;font-size:12px'>Projected</span>"
           ],
           "textposition": "auto",
           "type": "bar",
           "x": [
            "Asia (UN)"
           ],
           "xaxis": "x",
           "y": {
            "bdata": "HVpkO9+fRUA=",
            "dtype": "f8"
           },
           "yaxis": "y"
          },
          {
           "hovertemplate": "Region=%{x}<br>Jahr=2063<br>Medianes Alter (Jahre)=%{y}<br>custom_text=%{text}<extra></extra>",
           "legendgroup": "Europe (UN)",
           "marker": {
            "color": "#00cc96",
            "pattern": {
             "shape": ""
            }
           },
           "name": "Europe (UN)",
           "orientation": "v",
           "showlegend": true,
           "text": [
            "47.5<br><span style='color:#edeaa8;font-size:12px'>Projected</span>"
           ],
           "textposition": "auto",
           "type": "bar",
           "x": [
            "Europe (UN)"
           ],
           "xaxis": "x",
           "y": {
            "bdata": "0SLb+X66R0A=",
            "dtype": "f8"
           },
           "yaxis": "y"
          },
          {
           "hovertemplate": "Region=%{x}<br>Jahr=2063<br>Medianes Alter (Jahre)=%{y}<br>custom_text=%{text}<extra></extra>",
           "legendgroup": "United States",
           "marker": {
            "color": "#ab63fa",
            "pattern": {
             "shape": ""
            }
           },
           "name": "United States",
           "orientation": "v",
           "showlegend": true,
           "text": [
            "43.4<br><span style='color:#edeaa8;font-size:12px'>Projected</span>"
           ],
           "textposition": "auto",
           "type": "bar",
           "x": [
            "United States"
           ],
           "xaxis": "x",
           "y": {
            "bdata": "NV66SQyyRUA=",
            "dtype": "f8"
           },
           "yaxis": "y"
          }
         ],
         "name": "2063"
        },
        {
         "data": [
          {
           "hovertemplate": "Region=%{x}<br>Jahr=2064<br>Medianes Alter (Jahre)=%{y}<br>custom_text=%{text}<extra></extra>",
           "legendgroup": "Africa (UN)",
           "marker": {
            "color": "#636efa",
            "pattern": {
             "shape": ""
            }
           },
           "name": "Africa (UN)",
           "orientation": "v",
           "showlegend": true,
           "text": [
            "27.5<br><span style='color:#edeaa8;font-size:12px'>Projected</span>"
           ],
           "textposition": "auto",
           "type": "bar",
           "x": [
            "Africa (UN)"
           ],
           "xaxis": "x",
           "y": {
            "bdata": "nMQgsHKIO0A=",
            "dtype": "f8"
           },
           "yaxis": "y"
          },
          {
           "hovertemplate": "Region=%{x}<br>Jahr=2064<br>Medianes Alter (Jahre)=%{y}<br>custom_text=%{text}<extra></extra>",
           "legendgroup": "Asia (UN)",
           "marker": {
            "color": "#EF553B",
            "pattern": {
             "shape": ""
            }
           },
           "name": "Asia (UN)",
           "orientation": "v",
           "showlegend": true,
           "text": [
            "43.4<br><span style='color:#edeaa8;font-size:12px'>Projected</span>"
           ],
           "textposition": "auto",
           "type": "bar",
           "x": [
            "Asia (UN)"
           ],
           "xaxis": "x",
           "y": {
            "bdata": "ZDvfT423RUA=",
            "dtype": "f8"
           },
           "yaxis": "y"
          },
          {
           "hovertemplate": "Region=%{x}<br>Jahr=2064<br>Medianes Alter (Jahre)=%{y}<br>custom_text=%{text}<extra></extra>",
           "legendgroup": "Europe (UN)",
           "marker": {
            "color": "#00cc96",
            "pattern": {
             "shape": ""
            }
           },
           "name": "Europe (UN)",
           "orientation": "v",
           "showlegend": true,
           "text": [
            "47.6<br><span style='color:#edeaa8;font-size:12px'>Projected</span>"
           ],
           "textposition": "auto",
           "type": "bar",
           "x": [
            "Europe (UN)"
           ],
           "xaxis": "x",
           "y": {
            "bdata": "CKwcWmTLR0A=",
            "dtype": "f8"
           },
           "yaxis": "y"
          },
          {
           "hovertemplate": "Region=%{x}<br>Jahr=2064<br>Medianes Alter (Jahre)=%{y}<br>custom_text=%{text}<extra></extra>",
           "legendgroup": "United States",
           "marker": {
            "color": "#ab63fa",
            "pattern": {
             "shape": ""
            }
           },
           "name": "United States",
           "orientation": "v",
           "showlegend": true,
           "text": [
            "43.4<br><span style='color:#edeaa8;font-size:12px'>Projected</span>"
           ],
           "textposition": "auto",
           "type": "bar",
           "x": [
            "United States"
           ],
           "xaxis": "x",
           "y": {
            "bdata": "tvP91Hi5RUA=",
            "dtype": "f8"
           },
           "yaxis": "y"
          }
         ],
         "name": "2064"
        },
        {
         "data": [
          {
           "hovertemplate": "Region=%{x}<br>Jahr=2065<br>Medianes Alter (Jahre)=%{y}<br>custom_text=%{text}<extra></extra>",
           "legendgroup": "Africa (UN)",
           "marker": {
            "color": "#636efa",
            "pattern": {
             "shape": ""
            }
           },
           "name": "Africa (UN)",
           "orientation": "v",
           "showlegend": true,
           "text": [
            "27.8<br><span style='color:#edeaa8;font-size:12px'>Projected</span>"
           ],
           "textposition": "auto",
           "type": "bar",
           "x": [
            "Africa (UN)"
           ],
           "xaxis": "x",
           "y": {
            "bdata": "w/UoXI/CO0A=",
            "dtype": "f8"
           },
           "yaxis": "y"
          },
          {
           "hovertemplate": "Region=%{x}<br>Jahr=2065<br>Medianes Alter (Jahre)=%{y}<br>custom_text=%{text}<extra></extra>",
           "legendgroup": "Asia (UN)",
           "marker": {
            "color": "#EF553B",
            "pattern": {
             "shape": ""
            }
           },
           "name": "Asia (UN)",
           "orientation": "v",
           "showlegend": true,
           "text": [
            "43.6<br><span style='color:#edeaa8;font-size:12px'>Projected</span>"
           ],
           "textposition": "auto",
           "type": "bar",
           "x": [
            "Asia (UN)"
           ],
           "xaxis": "x",
           "y": {
            "bdata": "7FG4HoXLRUA=",
            "dtype": "f8"
           },
           "yaxis": "y"
          },
          {
           "hovertemplate": "Region=%{x}<br>Jahr=2065<br>Medianes Alter (Jahre)=%{y}<br>custom_text=%{text}<extra></extra>",
           "legendgroup": "Europe (UN)",
           "marker": {
            "color": "#00cc96",
            "pattern": {
             "shape": ""
            }
           },
           "name": "Europe (UN)",
           "orientation": "v",
           "showlegend": true,
           "text": [
            "47.7<br><span style='color:#edeaa8;font-size:12px'>Projected</span>"
           ],
           "textposition": "auto",
           "type": "bar",
           "x": [
            "Europe (UN)"
           ],
           "xaxis": "x",
           "y": {
            "bdata": "lkOLbOfbR0A=",
            "dtype": "f8"
           },
           "yaxis": "y"
          },
          {
           "hovertemplate": "Region=%{x}<br>Jahr=2065<br>Medianes Alter (Jahre)=%{y}<br>custom_text=%{text}<extra></extra>",
           "legendgroup": "United States",
           "marker": {
            "color": "#ab63fa",
            "pattern": {
             "shape": ""
            }
           },
           "name": "United States",
           "orientation": "v",
           "showlegend": true,
           "text": [
            "43.5<br><span style='color:#edeaa8;font-size:12px'>Projected</span>"
           ],
           "textposition": "auto",
           "type": "bar",
           "x": [
            "United States"
           ],
           "xaxis": "x",
           "y": {
            "bdata": "yXa+nxq/RUA=",
            "dtype": "f8"
           },
           "yaxis": "y"
          }
         ],
         "name": "2065"
        },
        {
         "data": [
          {
           "hovertemplate": "Region=%{x}<br>Jahr=2066<br>Medianes Alter (Jahre)=%{y}<br>custom_text=%{text}<extra></extra>",
           "legendgroup": "Africa (UN)",
           "marker": {
            "color": "#636efa",
            "pattern": {
             "shape": ""
            }
           },
           "name": "Africa (UN)",
           "orientation": "v",
           "showlegend": true,
           "text": [
            "28.0<br><span style='color:#edeaa8;font-size:12px'>Projected</span>"
           ],
           "textposition": "auto",
           "type": "bar",
           "x": [
            "Africa (UN)"
           ],
           "xaxis": "x",
           "y": {
            "bdata": "6SYxCKz8O0A=",
            "dtype": "f8"
           },
           "yaxis": "y"
          },
          {
           "hovertemplate": "Region=%{x}<br>Jahr=2066<br>Medianes Alter (Jahre)=%{y}<br>custom_text=%{text}<extra></extra>",
           "legendgroup": "Asia (UN)",
           "marker": {
            "color": "#EF553B",
            "pattern": {
             "shape": ""
            }
           },
           "name": "Asia (UN)",
           "orientation": "v",
           "showlegend": true,
           "text": [
            "43.7<br><span style='color:#edeaa8;font-size:12px'>Projected</span>"
           ],
           "textposition": "auto",
           "type": "bar",
           "x": [
            "Asia (UN)"
           ],
           "xaxis": "x",
           "y": {
            "bdata": "XI/C9SjcRUA=",
            "dtype": "f8"
           },
           "yaxis": "y"
          },
          {
           "hovertemplate": "Region=%{x}<br>Jahr=2066<br>Medianes Alter (Jahre)=%{y}<br>custom_text=%{text}<extra></extra>",
           "legendgroup": "Europe (UN)",
           "marker": {
            "color": "#00cc96",
            "pattern": {
             "shape": ""
            }
           },
           "name": "Europe (UN)",
           "orientation": "v",
           "showlegend": true,
           "text": [
            "47.8<br><span style='color:#edeaa8;font-size:12px'>Projected</span>"
           ],
           "textposition": "auto",
           "type": "bar",
           "x": [
            "Europe (UN)"
           ],
           "xaxis": "x",
           "y": {
            "bdata": "fT81XrrpR0A=",
            "dtype": "f8"
           },
           "yaxis": "y"
          },
          {
           "hovertemplate": "Region=%{x}<br>Jahr=2066<br>Medianes Alter (Jahre)=%{y}<br>custom_text=%{text}<extra></extra>",
           "legendgroup": "United States",
           "marker": {
            "color": "#ab63fa",
            "pattern": {
             "shape": ""
            }
           },
           "name": "United States",
           "orientation": "v",
           "showlegend": true,
           "text": [
            "43.5<br><span style='color:#edeaa8;font-size:12px'>Projected</span>"
           ],
           "textposition": "auto",
           "type": "bar",
           "x": [
            "United States"
           ],
           "xaxis": "x",
           "y": {
            "bdata": "okW28/3ERUA=",
            "dtype": "f8"
           },
           "yaxis": "y"
          }
         ],
         "name": "2066"
        },
        {
         "data": [
          {
           "hovertemplate": "Region=%{x}<br>Jahr=2067<br>Medianes Alter (Jahre)=%{y}<br>custom_text=%{text}<extra></extra>",
           "legendgroup": "Africa (UN)",
           "marker": {
            "color": "#636efa",
            "pattern": {
             "shape": ""
            }
           },
           "name": "Africa (UN)",
           "orientation": "v",
           "showlegend": true,
           "text": [
            "28.2<br><span style='color:#edeaa8;font-size:12px'>Projected</span>"
           ],
           "textposition": "auto",
           "type": "bar",
           "x": [
            "Africa (UN)"
           ],
           "xaxis": "x",
           "y": {
            "bdata": "EFg5tMg2PEA=",
            "dtype": "f8"
           },
           "yaxis": "y"
          },
          {
           "hovertemplate": "Region=%{x}<br>Jahr=2067<br>Medianes Alter (Jahre)=%{y}<br>custom_text=%{text}<extra></extra>",
           "legendgroup": "Asia (UN)",
           "marker": {
            "color": "#EF553B",
            "pattern": {
             "shape": ""
            }
           },
           "name": "Asia (UN)",
           "orientation": "v",
           "showlegend": true,
           "text": [
            "43.8<br><span style='color:#edeaa8;font-size:12px'>Projected</span>"
           ],
           "textposition": "auto",
           "type": "bar",
           "x": [
            "Asia (UN)"
           ],
           "xaxis": "x",
           "y": {
            "bdata": "XrpJDALrRUA=",
            "dtype": "f8"
           },
           "yaxis": "y"
          },
          {
           "hovertemplate": "Region=%{x}<br>Jahr=2067<br>Medianes Alter (Jahre)=%{y}<br>custom_text=%{text}<extra></extra>",
           "legendgroup": "Europe (UN)",
           "marker": {
            "color": "#00cc96",
            "pattern": {
             "shape": ""
            }
           },
           "name": "Europe (UN)",
           "orientation": "v",
           "showlegend": true,
           "text": [
            "47.9<br><span style='color:#edeaa8;font-size:12px'>Projected</span>"
           ],
           "textposition": "auto",
           "type": "bar",
           "x": [
            "Europe (UN)"
           ],
           "xaxis": "x",
           "y": {
            "bdata": "pHA9CtfzR0A=",
            "dtype": "f8"
           },
           "yaxis": "y"
          },
          {
           "hovertemplate": "Region=%{x}<br>Jahr=2067<br>Medianes Alter (Jahre)=%{y}<br>custom_text=%{text}<extra></extra>",
           "legendgroup": "United States",
           "marker": {
            "color": "#ab63fa",
            "pattern": {
             "shape": ""
            }
           },
           "name": "United States",
           "orientation": "v",
           "showlegend": true,
           "text": [
            "43.6<br><span style='color:#edeaa8;font-size:12px'>Projected</span>"
           ],
           "textposition": "auto",
           "type": "bar",
           "x": [
            "United States"
           ],
           "xaxis": "x",
           "y": {
            "bdata": "z/dT46XLRUA=",
            "dtype": "f8"
           },
           "yaxis": "y"
          }
         ],
         "name": "2067"
        },
        {
         "data": [
          {
           "hovertemplate": "Region=%{x}<br>Jahr=2068<br>Medianes Alter (Jahre)=%{y}<br>custom_text=%{text}<extra></extra>",
           "legendgroup": "Africa (UN)",
           "marker": {
            "color": "#636efa",
            "pattern": {
             "shape": ""
            }
           },
           "name": "Africa (UN)",
           "orientation": "v",
           "showlegend": true,
           "text": [
            "28.4<br><span style='color:#edeaa8;font-size:12px'>Projected</span>"
           ],
           "textposition": "auto",
           "type": "bar",
           "x": [
            "Africa (UN)"
           ],
           "xaxis": "x",
           "y": {
            "bdata": "cT0K16NwPEA=",
            "dtype": "f8"
           },
           "yaxis": "y"
          },
          {
           "hovertemplate": "Region=%{x}<br>Jahr=2068<br>Medianes Alter (Jahre)=%{y}<br>custom_text=%{text}<extra></extra>",
           "legendgroup": "Asia (UN)",
           "marker": {
            "color": "#EF553B",
            "pattern": {
             "shape": ""
            }
           },
           "name": "Asia (UN)",
           "orientation": "v",
           "showlegend": true,
           "text": [
            "43.9<br><span style='color:#edeaa8;font-size:12px'>Projected</span>"
           ],
           "textposition": "auto",
           "type": "bar",
           "x": [
            "Asia (UN)"
           ],
           "xaxis": "x",
           "y": {
            "bdata": "nMQgsHL4RUA=",
            "dtype": "f8"
           },
           "yaxis": "y"
          },
          {
           "hovertemplate": "Region=%{x}<br>Jahr=2068<br>Medianes Alter (Jahre)=%{y}<br>custom_text=%{text}<extra></extra>",
           "legendgroup": "Europe (UN)",
           "marker": {
            "color": "#00cc96",
            "pattern": {
             "shape": ""
            }
           },
           "name": "Europe (UN)",
           "orientation": "v",
           "showlegend": true,
           "text": [
            "48.0<br><span style='color:#edeaa8;font-size:12px'>Projected</span>"
           ],
           "textposition": "auto",
           "type": "bar",
           "x": [
            "Europe (UN)"
           ],
           "xaxis": "x",
           "y": {
            "bdata": "QmDl0CL7R0A=",
            "dtype": "f8"
           },
           "yaxis": "y"
          },
          {
           "hovertemplate": "Region=%{x}<br>Jahr=2068<br>Medianes Alter (Jahre)=%{y}<br>custom_text=%{text}<extra></extra>",
           "legendgroup": "United States",
           "marker": {
            "color": "#ab63fa",
            "pattern": {
             "shape": ""
            }
           },
           "name": "United States",
           "orientation": "v",
           "showlegend": true,
           "text": [
            "43.6<br><span style='color:#edeaa8;font-size:12px'>Projected</span>"
           ],
           "textposition": "auto",
           "type": "bar",
           "x": [
            "United States"
           ],
           "xaxis": "x",
           "y": {
            "bdata": "qMZLN4nRRUA=",
            "dtype": "f8"
           },
           "yaxis": "y"
          }
         ],
         "name": "2068"
        },
        {
         "data": [
          {
           "hovertemplate": "Region=%{x}<br>Jahr=2069<br>Medianes Alter (Jahre)=%{y}<br>custom_text=%{text}<extra></extra>",
           "legendgroup": "Africa (UN)",
           "marker": {
            "color": "#636efa",
            "pattern": {
             "shape": ""
            }
           },
           "name": "Africa (UN)",
           "orientation": "v",
           "showlegend": true,
           "text": [
            "28.7<br><span style='color:#edeaa8;font-size:12px'>Projected</span>"
           ],
           "textposition": "auto",
           "type": "bar",
           "x": [
            "Africa (UN)"
           ],
           "xaxis": "x",
           "y": {
            "bdata": "mG4Sg8CqPEA=",
            "dtype": "f8"
           },
           "yaxis": "y"
          },
          {
           "hovertemplate": "Region=%{x}<br>Jahr=2069<br>Medianes Alter (Jahre)=%{y}<br>custom_text=%{text}<extra></extra>",
           "legendgroup": "Asia (UN)",
           "marker": {
            "color": "#EF553B",
            "pattern": {
             "shape": ""
            }
           },
           "name": "Asia (UN)",
           "orientation": "v",
           "showlegend": true,
           "text": [
            "44.0<br><span style='color:#edeaa8;font-size:12px'>Projected</span>"
           ],
           "textposition": "auto",
           "type": "bar",
           "x": [
            "Asia (UN)"
           ],
           "xaxis": "x",
           "y": {
            "bdata": "TDeJQWAFRkA=",
            "dtype": "f8"
           },
           "yaxis": "y"
          },
          {
           "hovertemplate": "Region=%{x}<br>Jahr=2069<br>Medianes Alter (Jahre)=%{y}<br>custom_text=%{text}<extra></extra>",
           "legendgroup": "Europe (UN)",
           "marker": {
            "color": "#00cc96",
            "pattern": {
             "shape": ""
            }
           },
           "name": "Europe (UN)",
           "orientation": "v",
           "showlegend": true,
           "text": [
            "48.0<br><span style='color:#edeaa8;font-size:12px'>Projected</span>"
           ],
           "textposition": "auto",
           "type": "bar",
           "x": [
            "Europe (UN)"
           ],
           "xaxis": "x",
           "y": {
            "bdata": "ObTIdr7/R0A=",
            "dtype": "f8"
           },
           "yaxis": "y"
          },
          {
           "hovertemplate": "Region=%{x}<br>Jahr=2069<br>Medianes Alter (Jahre)=%{y}<br>custom_text=%{text}<extra></extra>",
           "legendgroup": "United States",
           "marker": {
            "color": "#ab63fa",
            "pattern": {
             "shape": ""
            }
           },
           "name": "United States",
           "orientation": "v",
           "showlegend": true,
           "text": [
            "43.7<br><span style='color:#edeaa8;font-size:12px'>Projected</span>"
           ],
           "textposition": "auto",
           "type": "bar",
           "x": [
            "United States"
           ],
           "xaxis": "x",
           "y": {
            "bdata": "SgwCK4fWRUA=",
            "dtype": "f8"
           },
           "yaxis": "y"
          }
         ],
         "name": "2069"
        },
        {
         "data": [
          {
           "hovertemplate": "Region=%{x}<br>Jahr=2070<br>Medianes Alter (Jahre)=%{y}<br>custom_text=%{text}<extra></extra>",
           "legendgroup": "Africa (UN)",
           "marker": {
            "color": "#636efa",
            "pattern": {
             "shape": ""
            }
           },
           "name": "Africa (UN)",
           "orientation": "v",
           "showlegend": true,
           "text": [
            "28.9<br><span style='color:#edeaa8;font-size:12px'>Projected</span>"
           ],
           "textposition": "auto",
           "type": "bar",
           "x": [
            "Africa (UN)"
           ],
           "xaxis": "x",
           "y": {
            "bdata": "+FPjpZvkPEA=",
            "dtype": "f8"
           },
           "yaxis": "y"
          },
          {
           "hovertemplate": "Region=%{x}<br>Jahr=2070<br>Medianes Alter (Jahre)=%{y}<br>custom_text=%{text}<extra></extra>",
           "legendgroup": "Asia (UN)",
           "marker": {
            "color": "#EF553B",
            "pattern": {
             "shape": ""
            }
           },
           "name": "Asia (UN)",
           "orientation": "v",
           "showlegend": true,
           "text": [
            "44.1<br><span style='color:#edeaa8;font-size:12px'>Projected</span>"
           ],
           "textposition": "auto",
           "type": "bar",
           "x": [
            "Asia (UN)"
           ],
           "xaxis": "x",
           "y": {
            "bdata": "bxKDwMoRRkA=",
            "dtype": "f8"
           },
           "yaxis": "y"
          },
          {
           "hovertemplate": "Region=%{x}<br>Jahr=2070<br>Medianes Alter (Jahre)=%{y}<br>custom_text=%{text}<extra></extra>",
           "legendgroup": "Europe (UN)",
           "marker": {
            "color": "#00cc96",
            "pattern": {
             "shape": ""
            }
           },
           "name": "Europe (UN)",
           "orientation": "v",
           "showlegend": true,
           "text": [
            "48.0<br><span style='color:#edeaa8;font-size:12px'>Projected</span>"
           ],
           "textposition": "auto",
           "type": "bar",
           "x": [
            "Europe (UN)"
           ],
           "xaxis": "x",
           "y": {
            "bdata": "MzMzMzMDSEA=",
            "dtype": "f8"
           },
           "yaxis": "y"
          },
          {
           "hovertemplate": "Region=%{x}<br>Jahr=2070<br>Medianes Alter (Jahre)=%{y}<br>custom_text=%{text}<extra></extra>",
           "legendgroup": "United States",
           "marker": {
            "color": "#ab63fa",
            "pattern": {
             "shape": ""
            }
           },
           "name": "United States",
           "orientation": "v",
           "showlegend": true,
           "text": [
            "43.7<br><span style='color:#edeaa8;font-size:12px'>Projected</span>"
           ],
           "textposition": "auto",
           "type": "bar",
           "x": [
            "United States"
           ],
           "xaxis": "x",
           "y": {
            "bdata": "7FG4HoXbRUA=",
            "dtype": "f8"
           },
           "yaxis": "y"
          }
         ],
         "name": "2070"
        },
        {
         "data": [
          {
           "hovertemplate": "Region=%{x}<br>Jahr=2071<br>Medianes Alter (Jahre)=%{y}<br>custom_text=%{text}<extra></extra>",
           "legendgroup": "Africa (UN)",
           "marker": {
            "color": "#636efa",
            "pattern": {
             "shape": ""
            }
           },
           "name": "Africa (UN)",
           "orientation": "v",
           "showlegend": true,
           "text": [
            "29.1<br><span style='color:#edeaa8;font-size:12px'>Projected</span>"
           ],
           "textposition": "auto",
           "type": "bar",
           "x": [
            "Africa (UN)"
           ],
           "xaxis": "x",
           "y": {
            "bdata": "WDm0yHYePUA=",
            "dtype": "f8"
           },
           "yaxis": "y"
          },
          {
           "hovertemplate": "Region=%{x}<br>Jahr=2071<br>Medianes Alter (Jahre)=%{y}<br>custom_text=%{text}<extra></extra>",
           "legendgroup": "Asia (UN)",
           "marker": {
            "color": "#EF553B",
            "pattern": {
             "shape": ""
            }
           },
           "name": "Asia (UN)",
           "orientation": "v",
           "showlegend": true,
           "text": [
            "44.2<br><span style='color:#edeaa8;font-size:12px'>Projected</span>"
           ],
           "textposition": "auto",
           "type": "bar",
           "x": [
            "Asia (UN)"
           ],
           "xaxis": "x",
           "y": {
            "bdata": "y6FFtvMdRkA=",
            "dtype": "f8"
           },
           "yaxis": "y"
          },
          {
           "hovertemplate": "Region=%{x}<br>Jahr=2071<br>Medianes Alter (Jahre)=%{y}<br>custom_text=%{text}<extra></extra>",
           "legendgroup": "Europe (UN)",
           "marker": {
            "color": "#00cc96",
            "pattern": {
             "shape": ""
            }
           },
           "name": "Europe (UN)",
           "orientation": "v",
           "showlegend": true,
           "text": [
            "48.0<br><span style='color:#edeaa8;font-size:12px'>Projected</span>"
           ],
           "textposition": "auto",
           "type": "bar",
           "x": [
            "Europe (UN)"
           ],
           "xaxis": "x",
           "y": {
            "bdata": "arx0kxgESEA=",
            "dtype": "f8"
           },
           "yaxis": "y"
          },
          {
           "hovertemplate": "Region=%{x}<br>Jahr=2071<br>Medianes Alter (Jahre)=%{y}<br>custom_text=%{text}<extra></extra>",
           "legendgroup": "United States",
           "marker": {
            "color": "#ab63fa",
            "pattern": {
             "shape": ""
            }
           },
           "name": "United States",
           "orientation": "v",
           "showlegend": true,
           "text": [
            "43.8<br><span style='color:#edeaa8;font-size:12px'>Projected</span>"
           ],
           "textposition": "auto",
           "type": "bar",
           "x": [
            "United States"
           ],
           "xaxis": "x",
           "y": {
            "bdata": "x0s3iUHgRUA=",
            "dtype": "f8"
           },
           "yaxis": "y"
          }
         ],
         "name": "2071"
        },
        {
         "data": [
          {
           "hovertemplate": "Region=%{x}<br>Jahr=2072<br>Medianes Alter (Jahre)=%{y}<br>custom_text=%{text}<extra></extra>",
           "legendgroup": "Africa (UN)",
           "marker": {
            "color": "#636efa",
            "pattern": {
             "shape": ""
            }
           },
           "name": "Africa (UN)",
           "orientation": "v",
           "showlegend": true,
           "text": [
            "29.3<br><span style='color:#edeaa8;font-size:12px'>Projected</span>"
           ],
           "textposition": "auto",
           "type": "bar",
           "x": [
            "Africa (UN)"
           ],
           "xaxis": "x",
           "y": {
            "bdata": "K4cW2c5XPUA=",
            "dtype": "f8"
           },
           "yaxis": "y"
          },
          {
           "hovertemplate": "Region=%{x}<br>Jahr=2072<br>Medianes Alter (Jahre)=%{y}<br>custom_text=%{text}<extra></extra>",
           "legendgroup": "Asia (UN)",
           "marker": {
            "color": "#EF553B",
            "pattern": {
             "shape": ""
            }
           },
           "name": "Asia (UN)",
           "orientation": "v",
           "showlegend": true,
           "text": [
            "44.3<br><span style='color:#edeaa8;font-size:12px'>Projected</span>"
           ],
           "textposition": "auto",
           "type": "bar",
           "x": [
            "Asia (UN)"
           ],
           "xaxis": "x",
           "y": {
            "bdata": "mpmZmZkpRkA=",
            "dtype": "f8"
           },
           "yaxis": "y"
          },
          {
           "hovertemplate": "Region=%{x}<br>Jahr=2072<br>Medianes Alter (Jahre)=%{y}<br>custom_text=%{text}<extra></extra>",
           "legendgroup": "Europe (UN)",
           "marker": {
            "color": "#00cc96",
            "pattern": {
             "shape": ""
            }
           },
           "name": "Europe (UN)",
           "orientation": "v",
           "showlegend": true,
           "text": [
            "48.0<br><span style='color:#edeaa8;font-size:12px'>Projected</span>"
           ],
           "textposition": "auto",
           "type": "bar",
           "x": [
            "Europe (UN)"
           ],
           "xaxis": "x",
           "y": {
            "bdata": "cT0K16MASEA=",
            "dtype": "f8"
           },
           "yaxis": "y"
          },
          {
           "hovertemplate": "Region=%{x}<br>Jahr=2072<br>Medianes Alter (Jahre)=%{y}<br>custom_text=%{text}<extra></extra>",
           "legendgroup": "United States",
           "marker": {
            "color": "#ab63fa",
            "pattern": {
             "shape": ""
            }
           },
           "name": "United States",
           "orientation": "v",
           "showlegend": true,
           "text": [
            "43.8<br><span style='color:#edeaa8;font-size:12px'>Projected</span>"
           ],
           "textposition": "auto",
           "type": "bar",
           "x": [
            "United States"
           ],
           "xaxis": "x",
           "y": {
            "bdata": "okW28/3kRUA=",
            "dtype": "f8"
           },
           "yaxis": "y"
          }
         ],
         "name": "2072"
        },
        {
         "data": [
          {
           "hovertemplate": "Region=%{x}<br>Jahr=2073<br>Medianes Alter (Jahre)=%{y}<br>custom_text=%{text}<extra></extra>",
           "legendgroup": "Africa (UN)",
           "marker": {
            "color": "#636efa",
            "pattern": {
             "shape": ""
            }
           },
           "name": "Africa (UN)",
           "orientation": "v",
           "showlegend": true,
           "text": [
            "29.6<br><span style='color:#edeaa8;font-size:12px'>Projected</span>"
           ],
           "textposition": "auto",
           "type": "bar",
           "x": [
            "Africa (UN)"
           ],
           "xaxis": "x",
           "y": {
            "bdata": "xSCwcmiRPUA=",
            "dtype": "f8"
           },
           "yaxis": "y"
          },
          {
           "hovertemplate": "Region=%{x}<br>Jahr=2073<br>Medianes Alter (Jahre)=%{y}<br>custom_text=%{text}<extra></extra>",
           "legendgroup": "Asia (UN)",
           "marker": {
            "color": "#EF553B",
            "pattern": {
             "shape": ""
            }
           },
           "name": "Asia (UN)",
           "orientation": "v",
           "showlegend": true,
           "text": [
            "44.4<br><span style='color:#edeaa8;font-size:12px'>Projected</span>"
           ],
           "textposition": "auto",
           "type": "bar",
           "x": [
            "Asia (UN)"
           ],
           "xaxis": "x",
           "y": {
            "bdata": "okW28/00RkA=",
            "dtype": "f8"
           },
           "yaxis": "y"
          },
          {
           "hovertemplate": "Region=%{x}<br>Jahr=2073<br>Medianes Alter (Jahre)=%{y}<br>custom_text=%{text}<extra></extra>",
           "legendgroup": "Europe (UN)",
           "marker": {
            "color": "#00cc96",
            "pattern": {
             "shape": ""
            }
           },
           "name": "Europe (UN)",
           "orientation": "v",
           "showlegend": true,
           "text": [
            "48.0<br><span style='color:#edeaa8;font-size:12px'>Projected</span>"
           ],
           "textposition": "auto",
           "type": "bar",
           "x": [
            "Europe (UN)"
           ],
           "xaxis": "x",
           "y": {
            "bdata": "7FG4HoX7R0A=",
            "dtype": "f8"
           },
           "yaxis": "y"
          },
          {
           "hovertemplate": "Region=%{x}<br>Jahr=2073<br>Medianes Alter (Jahre)=%{y}<br>custom_text=%{text}<extra></extra>",
           "legendgroup": "United States",
           "marker": {
            "color": "#ab63fa",
            "pattern": {
             "shape": ""
            }
           },
           "name": "United States",
           "orientation": "v",
           "showlegend": true,
           "text": [
            "43.8<br><span style='color:#edeaa8;font-size:12px'>Projected</span>"
           ],
           "textposition": "auto",
           "type": "bar",
           "x": [
            "United States"
           ],
           "xaxis": "x",
           "y": {
            "bdata": "fT81XrrpRUA=",
            "dtype": "f8"
           },
           "yaxis": "y"
          }
         ],
         "name": "2073"
        },
        {
         "data": [
          {
           "hovertemplate": "Region=%{x}<br>Jahr=2074<br>Medianes Alter (Jahre)=%{y}<br>custom_text=%{text}<extra></extra>",
           "legendgroup": "Africa (UN)",
           "marker": {
            "color": "#636efa",
            "pattern": {
             "shape": ""
            }
           },
           "name": "Africa (UN)",
           "orientation": "v",
           "showlegend": true,
           "text": [
            "29.8<br><span style='color:#edeaa8;font-size:12px'>Projected</span>"
           ],
           "textposition": "auto",
           "type": "bar",
           "x": [
            "Africa (UN)"
           ],
           "xaxis": "x",
           "y": {
            "bdata": "0SLb+X7KPUA=",
            "dtype": "f8"
           },
           "yaxis": "y"
          },
          {
           "hovertemplate": "Region=%{x}<br>Jahr=2074<br>Medianes Alter (Jahre)=%{y}<br>custom_text=%{text}<extra></extra>",
           "legendgroup": "Asia (UN)",
           "marker": {
            "color": "#EF553B",
            "pattern": {
             "shape": ""
            }
           },
           "name": "Asia (UN)",
           "orientation": "v",
           "showlegend": true,
           "text": [
            "44.5<br><span style='color:#edeaa8;font-size:12px'>Projected</span>"
           ],
           "textposition": "auto",
           "type": "bar",
           "x": [
            "Asia (UN)"
           ],
           "xaxis": "x",
           "y": {
            "bdata": "AAAAAABARkA=",
            "dtype": "f8"
           },
           "yaxis": "y"
          },
          {
           "hovertemplate": "Region=%{x}<br>Jahr=2074<br>Medianes Alter (Jahre)=%{y}<br>custom_text=%{text}<extra></extra>",
           "legendgroup": "Europe (UN)",
           "marker": {
            "color": "#00cc96",
            "pattern": {
             "shape": ""
            }
           },
           "name": "Europe (UN)",
           "orientation": "v",
           "showlegend": true,
           "text": [
            "47.9<br><span style='color:#edeaa8;font-size:12px'>Projected</span>"
           ],
           "textposition": "auto",
           "type": "bar",
           "x": [
            "Europe (UN)"
           ],
           "xaxis": "x",
           "y": {
            "bdata": "9ihcj8L1R0A=",
            "dtype": "f8"
           },
           "yaxis": "y"
          },
          {
           "hovertemplate": "Region=%{x}<br>Jahr=2074<br>Medianes Alter (Jahre)=%{y}<br>custom_text=%{text}<extra></extra>",
           "legendgroup": "United States",
           "marker": {
            "color": "#ab63fa",
            "pattern": {
             "shape": ""
            }
           },
           "name": "United States",
           "orientation": "v",
           "showlegend": true,
           "text": [
            "43.9<br><span style='color:#edeaa8;font-size:12px'>Projected</span>"
           ],
           "textposition": "auto",
           "type": "bar",
           "x": [
            "United States"
           ],
           "xaxis": "x",
           "y": {
            "bdata": "WDm0yHbuRUA=",
            "dtype": "f8"
           },
           "yaxis": "y"
          }
         ],
         "name": "2074"
        },
        {
         "data": [
          {
           "hovertemplate": "Region=%{x}<br>Jahr=2075<br>Medianes Alter (Jahre)=%{y}<br>custom_text=%{text}<extra></extra>",
           "legendgroup": "Africa (UN)",
           "marker": {
            "color": "#636efa",
            "pattern": {
             "shape": ""
            }
           },
           "name": "Africa (UN)",
           "orientation": "v",
           "showlegend": true,
           "text": [
            "30.0<br><span style='color:#edeaa8;font-size:12px'>Projected</span>"
           ],
           "textposition": "auto",
           "type": "bar",
           "x": [
            "Africa (UN)"
           ],
           "xaxis": "x",
           "y": {
            "bdata": "F9nO91MDPkA=",
            "dtype": "f8"
           },
           "yaxis": "y"
          },
          {
           "hovertemplate": "Region=%{x}<br>Jahr=2075<br>Medianes Alter (Jahre)=%{y}<br>custom_text=%{text}<extra></extra>",
           "legendgroup": "Asia (UN)",
           "marker": {
            "color": "#EF553B",
            "pattern": {
             "shape": ""
            }
           },
           "name": "Asia (UN)",
           "orientation": "v",
           "showlegend": true,
           "text": [
            "44.6<br><span style='color:#edeaa8;font-size:12px'>Projected</span>"
           ],
           "textposition": "auto",
           "type": "bar",
           "x": [
            "Asia (UN)"
           ],
           "xaxis": "x",
           "y": {
            "bdata": "XrpJDAJLRkA=",
            "dtype": "f8"
           },
           "yaxis": "y"
          },
          {
           "hovertemplate": "Region=%{x}<br>Jahr=2075<br>Medianes Alter (Jahre)=%{y}<br>custom_text=%{text}<extra></extra>",
           "legendgroup": "Europe (UN)",
           "marker": {
            "color": "#00cc96",
            "pattern": {
             "shape": ""
            }
           },
           "name": "Europe (UN)",
           "orientation": "v",
           "showlegend": true,
           "text": [
            "47.9<br><span style='color:#edeaa8;font-size:12px'>Projected</span>"
           ],
           "textposition": "auto",
           "type": "bar",
           "x": [
            "Europe (UN)"
           ],
           "xaxis": "x",
           "y": {
            "bdata": "5dAi2/nuR0A=",
            "dtype": "f8"
           },
           "yaxis": "y"
          },
          {
           "hovertemplate": "Region=%{x}<br>Jahr=2075<br>Medianes Alter (Jahre)=%{y}<br>custom_text=%{text}<extra></extra>",
           "legendgroup": "United States",
           "marker": {
            "color": "#ab63fa",
            "pattern": {
             "shape": ""
            }
           },
           "name": "United States",
           "orientation": "v",
           "showlegend": true,
           "text": [
            "43.9<br><span style='color:#edeaa8;font-size:12px'>Projected</span>"
           ],
           "textposition": "auto",
           "type": "bar",
           "x": [
            "United States"
           ],
           "xaxis": "x",
           "y": {
            "bdata": "MzMzMzPzRUA=",
            "dtype": "f8"
           },
           "yaxis": "y"
          }
         ],
         "name": "2075"
        },
        {
         "data": [
          {
           "hovertemplate": "Region=%{x}<br>Jahr=2076<br>Medianes Alter (Jahre)=%{y}<br>custom_text=%{text}<extra></extra>",
           "legendgroup": "Africa (UN)",
           "marker": {
            "color": "#636efa",
            "pattern": {
             "shape": ""
            }
           },
           "name": "Africa (UN)",
           "orientation": "v",
           "showlegend": true,
           "text": [
            "30.2<br><span style='color:#edeaa8;font-size:12px'>Projected</span>"
           ],
           "textposition": "auto",
           "type": "bar",
           "x": [
            "Africa (UN)"
           ],
           "xaxis": "x",
           "y": {
            "bdata": "XI/C9Sg8PkA=",
            "dtype": "f8"
           },
           "yaxis": "y"
          },
          {
           "hovertemplate": "Region=%{x}<br>Jahr=2076<br>Medianes Alter (Jahre)=%{y}<br>custom_text=%{text}<extra></extra>",
           "legendgroup": "Asia (UN)",
           "marker": {
            "color": "#EF553B",
            "pattern": {
             "shape": ""
            }
           },
           "name": "Asia (UN)",
           "orientation": "v",
           "showlegend": true,
           "text": [
            "44.7<br><span style='color:#edeaa8;font-size:12px'>Projected</span>"
           ],
           "textposition": "auto",
           "type": "bar",
           "x": [
            "Asia (UN)"
           ],
           "xaxis": "x",
           "y": {
            "bdata": "9ihcj8JVRkA=",
            "dtype": "f8"
           },
           "yaxis": "y"
          },
          {
           "hovertemplate": "Region=%{x}<br>Jahr=2076<br>Medianes Alter (Jahre)=%{y}<br>custom_text=%{text}<extra></extra>",
           "legendgroup": "Europe (UN)",
           "marker": {
            "color": "#00cc96",
            "pattern": {
             "shape": ""
            }
           },
           "name": "Europe (UN)",
           "orientation": "v",
           "showlegend": true,
           "text": [
            "47.8<br><span style='color:#edeaa8;font-size:12px'>Projected</span>"
           ],
           "textposition": "auto",
           "type": "bar",
           "x": [
            "Europe (UN)"
           ],
           "xaxis": "x",
           "y": {
            "bdata": "gZVDi2znR0A=",
            "dtype": "f8"
           },
           "yaxis": "y"
          },
          {
           "hovertemplate": "Region=%{x}<br>Jahr=2076<br>Medianes Alter (Jahre)=%{y}<br>custom_text=%{text}<extra></extra>",
           "legendgroup": "United States",
           "marker": {
            "color": "#ab63fa",
            "pattern": {
             "shape": ""
            }
           },
           "name": "United States",
           "orientation": "v",
           "showlegend": true,
           "text": [
            "43.9<br><span style='color:#edeaa8;font-size:12px'>Projected</span>"
           ],
           "textposition": "auto",
           "type": "bar",
           "x": [
            "United States"
           ],
           "xaxis": "x",
           "y": {
            "bdata": "K4cW2c73RUA=",
            "dtype": "f8"
           },
           "yaxis": "y"
          }
         ],
         "name": "2076"
        },
        {
         "data": [
          {
           "hovertemplate": "Region=%{x}<br>Jahr=2077<br>Medianes Alter (Jahre)=%{y}<br>custom_text=%{text}<extra></extra>",
           "legendgroup": "Africa (UN)",
           "marker": {
            "color": "#636efa",
            "pattern": {
             "shape": ""
            }
           },
           "name": "Africa (UN)",
           "orientation": "v",
           "showlegend": true,
           "text": [
            "30.5<br><span style='color:#edeaa8;font-size:12px'>Projected</span>"
           ],
           "textposition": "auto",
           "type": "bar",
           "x": [
            "Africa (UN)"
           ],
           "xaxis": "x",
           "y": {
            "bdata": "TmIQWDl0PkA=",
            "dtype": "f8"
           },
           "yaxis": "y"
          },
          {
           "hovertemplate": "Region=%{x}<br>Jahr=2077<br>Medianes Alter (Jahre)=%{y}<br>custom_text=%{text}<extra></extra>",
           "legendgroup": "Asia (UN)",
           "marker": {
            "color": "#EF553B",
            "pattern": {
             "shape": ""
            }
           },
           "name": "Asia (UN)",
           "orientation": "v",
           "showlegend": true,
           "text": [
            "44.8<br><span style='color:#edeaa8;font-size:12px'>Projected</span>"
           ],
           "textposition": "auto",
           "type": "bar",
           "x": [
            "Asia (UN)"
           ],
           "xaxis": "x",
           "y": {
            "bdata": "qvHSTWJgRkA=",
            "dtype": "f8"
           },
           "yaxis": "y"
          },
          {
           "hovertemplate": "Region=%{x}<br>Jahr=2077<br>Medianes Alter (Jahre)=%{y}<br>custom_text=%{text}<extra></extra>",
           "legendgroup": "Europe (UN)",
           "marker": {
            "color": "#00cc96",
            "pattern": {
             "shape": ""
            }
           },
           "name": "Europe (UN)",
           "orientation": "v",
           "showlegend": true,
           "text": [
            "47.7<br><span style='color:#edeaa8;font-size:12px'>Projected</span>"
           ],
           "textposition": "auto",
           "type": "bar",
           "x": [
            "Europe (UN)"
           ],
           "xaxis": "x",
           "y": {
            "bdata": "ObTIdr7fR0A=",
            "dtype": "f8"
           },
           "yaxis": "y"
          },
          {
           "hovertemplate": "Region=%{x}<br>Jahr=2077<br>Medianes Alter (Jahre)=%{y}<br>custom_text=%{text}<extra></extra>",
           "legendgroup": "United States",
           "marker": {
            "color": "#ab63fa",
            "pattern": {
             "shape": ""
            }
           },
           "name": "United States",
           "orientation": "v",
           "showlegend": true,
           "text": [
            "44.0<br><span style='color:#edeaa8;font-size:12px'>Projected</span>"
           ],
           "textposition": "auto",
           "type": "bar",
           "x": [
            "United States"
           ],
           "xaxis": "x",
           "y": {
            "bdata": "kxgEVg79RUA=",
            "dtype": "f8"
           },
           "yaxis": "y"
          }
         ],
         "name": "2077"
        },
        {
         "data": [
          {
           "hovertemplate": "Region=%{x}<br>Jahr=2078<br>Medianes Alter (Jahre)=%{y}<br>custom_text=%{text}<extra></extra>",
           "legendgroup": "Africa (UN)",
           "marker": {
            "color": "#636efa",
            "pattern": {
             "shape": ""
            }
           },
           "name": "Africa (UN)",
           "orientation": "v",
           "showlegend": true,
           "text": [
            "30.7<br><span style='color:#edeaa8;font-size:12px'>Projected</span>"
           ],
           "textposition": "auto",
           "type": "bar",
           "x": [
            "Africa (UN)"
           ],
           "xaxis": "x",
           "y": {
            "bdata": "PzVeukmsPkA=",
            "dtype": "f8"
           },
           "yaxis": "y"
          },
          {
           "hovertemplate": "Region=%{x}<br>Jahr=2078<br>Medianes Alter (Jahre)=%{y}<br>custom_text=%{text}<extra></extra>",
           "legendgroup": "Asia (UN)",
           "marker": {
            "color": "#EF553B",
            "pattern": {
             "shape": ""
            }
           },
           "name": "Asia (UN)",
           "orientation": "v",
           "showlegend": true,
           "text": [
            "44.8<br><span style='color:#edeaa8;font-size:12px'>Projected</span>"
           ],
           "textposition": "auto",
           "type": "bar",
           "x": [
            "Asia (UN)"
           ],
           "xaxis": "x",
           "y": {
            "bdata": "QmDl0CJrRkA=",
            "dtype": "f8"
           },
           "yaxis": "y"
          },
          {
           "hovertemplate": "Region=%{x}<br>Jahr=2078<br>Medianes Alter (Jahre)=%{y}<br>custom_text=%{text}<extra></extra>",
           "legendgroup": "Europe (UN)",
           "marker": {
            "color": "#00cc96",
            "pattern": {
             "shape": ""
            }
           },
           "name": "Europe (UN)",
           "orientation": "v",
           "showlegend": true,
           "text": [
            "47.7<br><span style='color:#edeaa8;font-size:12px'>Projected</span>"
           ],
           "textposition": "auto",
           "type": "bar",
           "x": [
            "Europe (UN)"
           ],
           "xaxis": "x",
           "y": {
            "bdata": "8tJNYhDYR0A=",
            "dtype": "f8"
           },
           "yaxis": "y"
          },
          {
           "hovertemplate": "Region=%{x}<br>Jahr=2078<br>Medianes Alter (Jahre)=%{y}<br>custom_text=%{text}<extra></extra>",
           "legendgroup": "United States",
           "marker": {
            "color": "#ab63fa",
            "pattern": {
             "shape": ""
            }
           },
           "name": "United States",
           "orientation": "v",
           "showlegend": true,
           "text": [
            "44.0<br><span style='color:#edeaa8;font-size:12px'>Projected</span>"
           ],
           "textposition": "auto",
           "type": "bar",
           "x": [
            "United States"
           ],
           "xaxis": "x",
           "y": {
            "bdata": "ppvEILACRkA=",
            "dtype": "f8"
           },
           "yaxis": "y"
          }
         ],
         "name": "2078"
        },
        {
         "data": [
          {
           "hovertemplate": "Region=%{x}<br>Jahr=2079<br>Medianes Alter (Jahre)=%{y}<br>custom_text=%{text}<extra></extra>",
           "legendgroup": "Africa (UN)",
           "marker": {
            "color": "#636efa",
            "pattern": {
             "shape": ""
            }
           },
           "name": "Africa (UN)",
           "orientation": "v",
           "showlegend": true,
           "text": [
            "30.9<br><span style='color:#edeaa8;font-size:12px'>Projected</span>"
           ],
           "textposition": "auto",
           "type": "bar",
           "x": [
            "Africa (UN)"
           ],
           "xaxis": "x",
           "y": {
            "bdata": "pHA9CtfjPkA=",
            "dtype": "f8"
           },
           "yaxis": "y"
          },
          {
           "hovertemplate": "Region=%{x}<br>Jahr=2079<br>Medianes Alter (Jahre)=%{y}<br>custom_text=%{text}<extra></extra>",
           "legendgroup": "Asia (UN)",
           "marker": {
            "color": "#EF553B",
            "pattern": {
             "shape": ""
            }
           },
           "name": "Asia (UN)",
           "orientation": "v",
           "showlegend": true,
           "text": [
            "44.9<br><span style='color:#edeaa8;font-size:12px'>Projected</span>"
           ],
           "textposition": "auto",
           "type": "bar",
           "x": [
            "Asia (UN)"
           ],
           "xaxis": "x",
           "y": {
            "bdata": "9ihcj8J1RkA=",
            "dtype": "f8"
           },
           "yaxis": "y"
          },
          {
           "hovertemplate": "Region=%{x}<br>Jahr=2079<br>Medianes Alter (Jahre)=%{y}<br>custom_text=%{text}<extra></extra>",
           "legendgroup": "Europe (UN)",
           "marker": {
            "color": "#00cc96",
            "pattern": {
             "shape": ""
            }
           },
           "name": "Europe (UN)",
           "orientation": "v",
           "showlegend": true,
           "text": [
            "47.6<br><span style='color:#edeaa8;font-size:12px'>Projected</span>"
           ],
           "textposition": "auto",
           "type": "bar",
           "x": [
            "Europe (UN)"
           ],
           "xaxis": "x",
           "y": {
            "bdata": "N4lBYOXQR0A=",
            "dtype": "f8"
           },
           "yaxis": "y"
          },
          {
           "hovertemplate": "Region=%{x}<br>Jahr=2079<br>Medianes Alter (Jahre)=%{y}<br>custom_text=%{text}<extra></extra>",
           "legendgroup": "United States",
           "marker": {
            "color": "#ab63fa",
            "pattern": {
             "shape": ""
            }
           },
           "name": "United States",
           "orientation": "v",
           "showlegend": true,
           "text": [
            "44.1<br><span style='color:#edeaa8;font-size:12px'>Projected</span>"
           ],
           "textposition": "auto",
           "type": "bar",
           "x": [
            "United States"
           ],
           "xaxis": "x",
           "y": {
            "bdata": "KVyPwvUIRkA=",
            "dtype": "f8"
           },
           "yaxis": "y"
          }
         ],
         "name": "2079"
        },
        {
         "data": [
          {
           "hovertemplate": "Region=%{x}<br>Jahr=2080<br>Medianes Alter (Jahre)=%{y}<br>custom_text=%{text}<extra></extra>",
           "legendgroup": "Africa (UN)",
           "marker": {
            "color": "#636efa",
            "pattern": {
             "shape": ""
            }
           },
           "name": "Africa (UN)",
           "orientation": "v",
           "showlegend": true,
           "text": [
            "31.1<br><span style='color:#edeaa8;font-size:12px'>Projected</span>"
           ],
           "textposition": "auto",
           "type": "bar",
           "x": [
            "Africa (UN)"
           ],
           "xaxis": "x",
           "y": {
            "bdata": "CKwcWmQbP0A=",
            "dtype": "f8"
           },
           "yaxis": "y"
          },
          {
           "hovertemplate": "Region=%{x}<br>Jahr=2080<br>Medianes Alter (Jahre)=%{y}<br>custom_text=%{text}<extra></extra>",
           "legendgroup": "Asia (UN)",
           "marker": {
            "color": "#EF553B",
            "pattern": {
             "shape": ""
            }
           },
           "name": "Asia (UN)",
           "orientation": "v",
           "showlegend": true,
           "text": [
            "45.0<br><span style='color:#edeaa8;font-size:12px'>Projected</span>"
           ],
           "textposition": "auto",
           "type": "bar",
           "x": [
            "Asia (UN)"
           ],
           "xaxis": "x",
           "y": {
            "bdata": "qvHSTWKARkA=",
            "dtype": "f8"
           },
           "yaxis": "y"
          },
          {
           "hovertemplate": "Region=%{x}<br>Jahr=2080<br>Medianes Alter (Jahre)=%{y}<br>custom_text=%{text}<extra></extra>",
           "legendgroup": "Europe (UN)",
           "marker": {
            "color": "#00cc96",
            "pattern": {
             "shape": ""
            }
           },
           "name": "Europe (UN)",
           "orientation": "v",
           "showlegend": true,
           "text": [
            "47.6<br><span style='color:#edeaa8;font-size:12px'>Projected</span>"
           ],
           "textposition": "auto",
           "type": "bar",
           "x": [
            "Europe (UN)"
           ],
           "xaxis": "x",
           "y": {
            "bdata": "7nw/NV7KR0A=",
            "dtype": "f8"
           },
           "yaxis": "y"
          },
          {
           "hovertemplate": "Region=%{x}<br>Jahr=2080<br>Medianes Alter (Jahre)=%{y}<br>custom_text=%{text}<extra></extra>",
           "legendgroup": "United States",
           "marker": {
            "color": "#ab63fa",
            "pattern": {
             "shape": ""
            }
           },
           "name": "United States",
           "orientation": "v",
           "showlegend": true,
           "text": [
            "44.1<br><span style='color:#edeaa8;font-size:12px'>Projected</span>"
           ],
           "textposition": "auto",
           "type": "bar",
           "x": [
            "United States"
           ],
           "xaxis": "x",
           "y": {
            "bdata": "HVpkO98PRkA=",
            "dtype": "f8"
           },
           "yaxis": "y"
          }
         ],
         "name": "2080"
        },
        {
         "data": [
          {
           "hovertemplate": "Region=%{x}<br>Jahr=2081<br>Medianes Alter (Jahre)=%{y}<br>custom_text=%{text}<extra></extra>",
           "legendgroup": "Africa (UN)",
           "marker": {
            "color": "#636efa",
            "pattern": {
             "shape": ""
            }
           },
           "name": "Africa (UN)",
           "orientation": "v",
           "showlegend": true,
           "text": [
            "31.3<br><span style='color:#edeaa8;font-size:12px'>Projected</span>"
           ],
           "textposition": "auto",
           "type": "bar",
           "x": [
            "Africa (UN)"
           ],
           "xaxis": "x",
           "y": {
            "bdata": "GQRWDi1SP0A=",
            "dtype": "f8"
           },
           "yaxis": "y"
          },
          {
           "hovertemplate": "Region=%{x}<br>Jahr=2081<br>Medianes Alter (Jahre)=%{y}<br>custom_text=%{text}<extra></extra>",
           "legendgroup": "Asia (UN)",
           "marker": {
            "color": "#EF553B",
            "pattern": {
             "shape": ""
            }
           },
           "name": "Asia (UN)",
           "orientation": "v",
           "showlegend": true,
           "text": [
            "45.1<br><span style='color:#edeaa8;font-size:12px'>Projected</span>"
           ],
           "textposition": "auto",
           "type": "bar",
           "x": [
            "Asia (UN)"
           ],
           "xaxis": "x",
           "y": {
            "bdata": "JQaBlUOLRkA=",
            "dtype": "f8"
           },
           "yaxis": "y"
          },
          {
           "hovertemplate": "Region=%{x}<br>Jahr=2081<br>Medianes Alter (Jahre)=%{y}<br>custom_text=%{text}<extra></extra>",
           "legendgroup": "Europe (UN)",
           "marker": {
            "color": "#00cc96",
            "pattern": {
             "shape": ""
            }
           },
           "name": "Europe (UN)",
           "orientation": "v",
           "showlegend": true,
           "text": [
            "47.5<br><span style='color:#edeaa8;font-size:12px'>Projected</span>"
           ],
           "textposition": "auto",
           "type": "bar",
           "x": [
            "Europe (UN)"
           ],
           "xaxis": "x",
           "y": {
            "bdata": "2/l+arzER0A=",
            "dtype": "f8"
           },
           "yaxis": "y"
          },
          {
           "hovertemplate": "Region=%{x}<br>Jahr=2081<br>Medianes Alter (Jahre)=%{y}<br>custom_text=%{text}<extra></extra>",
           "legendgroup": "United States",
           "marker": {
            "color": "#ab63fa",
            "pattern": {
             "shape": ""
            }
           },
           "name": "United States",
           "orientation": "v",
           "showlegend": true,
           "text": [
            "44.2<br><span style='color:#edeaa8;font-size:12px'>Projected</span>"
           ],
           "textposition": "auto",
           "type": "bar",
           "x": [
            "United States"
           ],
           "xaxis": "x",
           "y": {
            "bdata": "16NwPQoXRkA=",
            "dtype": "f8"
           },
           "yaxis": "y"
          }
         ],
         "name": "2081"
        },
        {
         "data": [
          {
           "hovertemplate": "Region=%{x}<br>Jahr=2082<br>Medianes Alter (Jahre)=%{y}<br>custom_text=%{text}<extra></extra>",
           "legendgroup": "Africa (UN)",
           "marker": {
            "color": "#636efa",
            "pattern": {
             "shape": ""
            }
           },
           "name": "Africa (UN)",
           "orientation": "v",
           "showlegend": true,
           "text": [
            "31.5<br><span style='color:#edeaa8;font-size:12px'>Projected</span>"
           ],
           "textposition": "auto",
           "type": "bar",
           "x": [
            "Africa (UN)"
           ],
           "xaxis": "x",
           "y": {
            "bdata": "YhBYObSIP0A=",
            "dtype": "f8"
           },
           "yaxis": "y"
          },
          {
           "hovertemplate": "Region=%{x}<br>Jahr=2082<br>Medianes Alter (Jahre)=%{y}<br>custom_text=%{text}<extra></extra>",
           "legendgroup": "Asia (UN)",
           "marker": {
            "color": "#EF553B",
            "pattern": {
             "shape": ""
            }
           },
           "name": "Asia (UN)",
           "orientation": "v",
           "showlegend": true,
           "text": [
            "45.2<br><span style='color:#edeaa8;font-size:12px'>Projected</span>"
           ],
           "textposition": "auto",
           "type": "bar",
           "x": [
            "Asia (UN)"
           ],
           "xaxis": "x",
           "y": {
            "bdata": "SgwCK4eWRkA=",
            "dtype": "f8"
           },
           "yaxis": "y"
          },
          {
           "hovertemplate": "Region=%{x}<br>Jahr=2082<br>Medianes Alter (Jahre)=%{y}<br>custom_text=%{text}<extra></extra>",
           "legendgroup": "Europe (UN)",
           "marker": {
            "color": "#00cc96",
            "pattern": {
             "shape": ""
            }
           },
           "name": "Europe (UN)",
           "orientation": "v",
           "showlegend": true,
           "text": [
            "47.5<br><span style='color:#edeaa8;font-size:12px'>Projected</span>"
           ],
           "textposition": "auto",
           "type": "bar",
           "x": [
            "Europe (UN)"
           ],
           "xaxis": "x",
           "y": {
            "bdata": "jZduEoPAR0A=",
            "dtype": "f8"
           },
           "yaxis": "y"
          },
          {
           "hovertemplate": "Region=%{x}<br>Jahr=2082<br>Medianes Alter (Jahre)=%{y}<br>custom_text=%{text}<extra></extra>",
           "legendgroup": "United States",
           "marker": {
            "color": "#ab63fa",
            "pattern": {
             "shape": ""
            }
           },
           "name": "United States",
           "orientation": "v",
           "showlegend": true,
           "text": [
            "44.2<br><span style='color:#edeaa8;font-size:12px'>Projected</span>"
           ],
           "textposition": "auto",
           "type": "bar",
           "x": [
            "United States"
           ],
           "xaxis": "x",
           "y": {
            "bdata": "H4XrUbgeRkA=",
            "dtype": "f8"
           },
           "yaxis": "y"
          }
         ],
         "name": "2082"
        },
        {
         "data": [
          {
           "hovertemplate": "Region=%{x}<br>Jahr=2083<br>Medianes Alter (Jahre)=%{y}<br>custom_text=%{text}<extra></extra>",
           "legendgroup": "Africa (UN)",
           "marker": {
            "color": "#636efa",
            "pattern": {
             "shape": ""
            }
           },
           "name": "Africa (UN)",
           "orientation": "v",
           "showlegend": true,
           "text": [
            "31.7<br><span style='color:#edeaa8;font-size:12px'>Projected</span>"
           ],
           "textposition": "auto",
           "type": "bar",
           "x": [
            "Africa (UN)"
           ],
           "xaxis": "x",
           "y": {
            "bdata": "H4XrUbi+P0A=",
            "dtype": "f8"
           },
           "yaxis": "y"
          },
          {
           "hovertemplate": "Region=%{x}<br>Jahr=2083<br>Medianes Alter (Jahre)=%{y}<br>custom_text=%{text}<extra></extra>",
           "legendgroup": "Asia (UN)",
           "marker": {
            "color": "#EF553B",
            "pattern": {
             "shape": ""
            }
           },
           "name": "Asia (UN)",
           "orientation": "v",
           "showlegend": true,
           "text": [
            "45.3<br><span style='color:#edeaa8;font-size:12px'>Projected</span>"
           ],
           "textposition": "auto",
           "type": "bar",
           "x": [
            "Asia (UN)"
           ],
           "xaxis": "x",
           "y": {
            "bdata": "bxKDwMqhRkA=",
            "dtype": "f8"
           },
           "yaxis": "y"
          },
          {
           "hovertemplate": "Region=%{x}<br>Jahr=2083<br>Medianes Alter (Jahre)=%{y}<br>custom_text=%{text}<extra></extra>",
           "legendgroup": "Europe (UN)",
           "marker": {
            "color": "#00cc96",
            "pattern": {
             "shape": ""
            }
           },
           "name": "Europe (UN)",
           "orientation": "v",
           "showlegend": true,
           "text": [
            "47.5<br><span style='color:#edeaa8;font-size:12px'>Projected</span>"
           ],
           "textposition": "auto",
           "type": "bar",
           "x": [
            "Europe (UN)"
           ],
           "xaxis": "x",
           "y": {
            "bdata": "rkfhehS+R0A=",
            "dtype": "f8"
           },
           "yaxis": "y"
          },
          {
           "hovertemplate": "Region=%{x}<br>Jahr=2083<br>Medianes Alter (Jahre)=%{y}<br>custom_text=%{text}<extra></extra>",
           "legendgroup": "United States",
           "marker": {
            "color": "#ab63fa",
            "pattern": {
             "shape": ""
            }
           },
           "name": "United States",
           "orientation": "v",
           "showlegend": true,
           "text": [
            "44.3<br><span style='color:#edeaa8;font-size:12px'>Projected</span>"
           ],
           "textposition": "auto",
           "type": "bar",
           "x": [
            "United States"
           ],
           "xaxis": "x",
           "y": {
            "bdata": "16NwPQonRkA=",
            "dtype": "f8"
           },
           "yaxis": "y"
          }
         ],
         "name": "2083"
        },
        {
         "data": [
          {
           "hovertemplate": "Region=%{x}<br>Jahr=2084<br>Medianes Alter (Jahre)=%{y}<br>custom_text=%{text}<extra></extra>",
           "legendgroup": "Africa (UN)",
           "marker": {
            "color": "#636efa",
            "pattern": {
             "shape": ""
            }
           },
           "name": "Africa (UN)",
           "orientation": "v",
           "showlegend": true,
           "text": [
            "32.0<br><span style='color:#edeaa8;font-size:12px'>Projected</span>"
           ],
           "textposition": "auto",
           "type": "bar",
           "x": [
            "Africa (UN)"
           ],
           "xaxis": "x",
           "y": {
            "bdata": "FK5H4Xr0P0A=",
            "dtype": "f8"
           },
           "yaxis": "y"
          },
          {
           "hovertemplate": "Region=%{x}<br>Jahr=2084<br>Medianes Alter (Jahre)=%{y}<br>custom_text=%{text}<extra></extra>",
           "legendgroup": "Asia (UN)",
           "marker": {
            "color": "#EF553B",
            "pattern": {
             "shape": ""
            }
           },
           "name": "Asia (UN)",
           "orientation": "v",
           "showlegend": true,
           "text": [
            "45.4<br><span style='color:#edeaa8;font-size:12px'>Projected</span>"
           ],
           "textposition": "auto",
           "type": "bar",
           "x": [
            "Asia (UN)"
           ],
           "xaxis": "x",
           "y": {
            "bdata": "PQrXo3CtRkA=",
            "dtype": "f8"
           },
           "yaxis": "y"
          },
          {
           "hovertemplate": "Region=%{x}<br>Jahr=2084<br>Medianes Alter (Jahre)=%{y}<br>custom_text=%{text}<extra></extra>",
           "legendgroup": "Europe (UN)",
           "marker": {
            "color": "#00cc96",
            "pattern": {
             "shape": ""
            }
           },
           "name": "Europe (UN)",
           "orientation": "v",
           "showlegend": true,
           "text": [
            "47.5<br><span style='color:#edeaa8;font-size:12px'>Projected</span>"
           ],
           "textposition": "auto",
           "type": "bar",
           "x": [
            "Europe (UN)"
           ],
           "xaxis": "x",
           "y": {
            "bdata": "PQrXo3C9R0A=",
            "dtype": "f8"
           },
           "yaxis": "y"
          },
          {
           "hovertemplate": "Region=%{x}<br>Jahr=2084<br>Medianes Alter (Jahre)=%{y}<br>custom_text=%{text}<extra></extra>",
           "legendgroup": "United States",
           "marker": {
            "color": "#ab63fa",
            "pattern": {
             "shape": ""
            }
           },
           "name": "United States",
           "orientation": "v",
           "showlegend": true,
           "text": [
            "44.4<br><span style='color:#edeaa8;font-size:12px'>Projected</span>"
           ],
           "textposition": "auto",
           "type": "bar",
           "x": [
            "United States"
           ],
           "xaxis": "x",
           "y": {
            "bdata": "AAAAAAAwRkA=",
            "dtype": "f8"
           },
           "yaxis": "y"
          }
         ],
         "name": "2084"
        },
        {
         "data": [
          {
           "hovertemplate": "Region=%{x}<br>Jahr=2085<br>Medianes Alter (Jahre)=%{y}<br>custom_text=%{text}<extra></extra>",
           "legendgroup": "Africa (UN)",
           "marker": {
            "color": "#636efa",
            "pattern": {
             "shape": ""
            }
           },
           "name": "Africa (UN)",
           "orientation": "v",
           "showlegend": true,
           "text": [
            "32.2<br><span style='color:#edeaa8;font-size:12px'>Projected</span>"
           ],
           "textposition": "auto",
           "type": "bar",
           "x": [
            "Africa (UN)"
           ],
           "xaxis": "x",
           "y": {
            "bdata": "2/l+arwUQEA=",
            "dtype": "f8"
           },
           "yaxis": "y"
          },
          {
           "hovertemplate": "Region=%{x}<br>Jahr=2085<br>Medianes Alter (Jahre)=%{y}<br>custom_text=%{text}<extra></extra>",
           "legendgroup": "Asia (UN)",
           "marker": {
            "color": "#EF553B",
            "pattern": {
             "shape": ""
            }
           },
           "name": "Asia (UN)",
           "orientation": "v",
           "showlegend": true,
           "text": [
            "45.4<br><span style='color:#edeaa8;font-size:12px'>Projected</span>"
           ],
           "textposition": "auto",
           "type": "bar",
           "x": [
            "Asia (UN)"
           ],
           "xaxis": "x",
           "y": {
            "bdata": "8KfGSze5RkA=",
            "dtype": "f8"
           },
           "yaxis": "y"
          },
          {
           "hovertemplate": "Region=%{x}<br>Jahr=2085<br>Medianes Alter (Jahre)=%{y}<br>custom_text=%{text}<extra></extra>",
           "legendgroup": "Europe (UN)",
           "marker": {
            "color": "#00cc96",
            "pattern": {
             "shape": ""
            }
           },
           "name": "Europe (UN)",
           "orientation": "v",
           "showlegend": true,
           "text": [
            "47.5<br><span style='color:#edeaa8;font-size:12px'>Projected</span>"
           ],
           "textposition": "auto",
           "type": "bar",
           "x": [
            "Europe (UN)"
           ],
           "xaxis": "x",
           "y": {
            "bdata": "5dAi2/m+R0A=",
            "dtype": "f8"
           },
           "yaxis": "y"
          },
          {
           "hovertemplate": "Region=%{x}<br>Jahr=2085<br>Medianes Alter (Jahre)=%{y}<br>custom_text=%{text}<extra></extra>",
           "legendgroup": "United States",
           "marker": {
            "color": "#ab63fa",
            "pattern": {
             "shape": ""
            }
           },
           "name": "United States",
           "orientation": "v",
           "showlegend": true,
           "text": [
            "44.5<br><span style='color:#edeaa8;font-size:12px'>Projected</span>"
           ],
           "textposition": "auto",
           "type": "bar",
           "x": [
            "United States"
           ],
           "xaxis": "x",
           "y": {
            "bdata": "fT81Xro5RkA=",
            "dtype": "f8"
           },
           "yaxis": "y"
          }
         ],
         "name": "2085"
        },
        {
         "data": [
          {
           "hovertemplate": "Region=%{x}<br>Jahr=2086<br>Medianes Alter (Jahre)=%{y}<br>custom_text=%{text}<extra></extra>",
           "legendgroup": "Africa (UN)",
           "marker": {
            "color": "#636efa",
            "pattern": {
             "shape": ""
            }
           },
           "name": "Africa (UN)",
           "orientation": "v",
           "showlegend": true,
           "text": [
            "32.4<br><span style='color:#edeaa8;font-size:12px'>Projected</span>"
           ],
           "textposition": "auto",
           "type": "bar",
           "x": [
            "Africa (UN)"
           ],
           "xaxis": "x",
           "y": {
            "bdata": "yXa+nxovQEA=",
            "dtype": "f8"
           },
           "yaxis": "y"
          },
          {
           "hovertemplate": "Region=%{x}<br>Jahr=2086<br>Medianes Alter (Jahre)=%{y}<br>custom_text=%{text}<extra></extra>",
           "legendgroup": "Asia (UN)",
           "marker": {
            "color": "#EF553B",
            "pattern": {
             "shape": ""
            }
           },
           "name": "Asia (UN)",
           "orientation": "v",
           "showlegend": true,
           "text": [
            "45.5<br><span style='color:#edeaa8;font-size:12px'>Projected</span>"
           ],
           "textposition": "auto",
           "type": "bar",
           "x": [
            "Asia (UN)"
           ],
           "xaxis": "x",
           "y": {
            "bdata": "aJHtfD/FRkA=",
            "dtype": "f8"
           },
           "yaxis": "y"
          },
          {
           "hovertemplate": "Region=%{x}<br>Jahr=2086<br>Medianes Alter (Jahre)=%{y}<br>custom_text=%{text}<extra></extra>",
           "legendgroup": "Europe (UN)",
           "marker": {
            "color": "#00cc96",
            "pattern": {
             "shape": ""
            }
           },
           "name": "Europe (UN)",
           "orientation": "v",
           "showlegend": true,
           "text": [
            "47.5<br><span style='color:#edeaa8;font-size:12px'>Projected</span>"
           ],
           "textposition": "auto",
           "type": "bar",
           "x": [
            "Europe (UN)"
           ],
           "xaxis": "x",
           "y": {
            "bdata": "/Knx0k3CR0A=",
            "dtype": "f8"
           },
           "yaxis": "y"
          },
          {
           "hovertemplate": "Region=%{x}<br>Jahr=2086<br>Medianes Alter (Jahre)=%{y}<br>custom_text=%{text}<extra></extra>",
           "legendgroup": "United States",
           "marker": {
            "color": "#ab63fa",
            "pattern": {
             "shape": ""
            }
           },
           "name": "United States",
           "orientation": "v",
           "showlegend": true,
           "text": [
            "44.5<br><span style='color:#edeaa8;font-size:12px'>Projected</span>"
           ],
           "textposition": "auto",
           "type": "bar",
           "x": [
            "United States"
           ],
           "xaxis": "x",
           "y": {
            "bdata": "pHA9CtdDRkA=",
            "dtype": "f8"
           },
           "yaxis": "y"
          }
         ],
         "name": "2086"
        },
        {
         "data": [
          {
           "hovertemplate": "Region=%{x}<br>Jahr=2087<br>Medianes Alter (Jahre)=%{y}<br>custom_text=%{text}<extra></extra>",
           "legendgroup": "Africa (UN)",
           "marker": {
            "color": "#636efa",
            "pattern": {
             "shape": ""
            }
           },
           "name": "Africa (UN)",
           "orientation": "v",
           "showlegend": true,
           "text": [
            "32.6<br><span style='color:#edeaa8;font-size:12px'>Projected</span>"
           ],
           "textposition": "auto",
           "type": "bar",
           "x": [
            "Africa (UN)"
           ],
           "xaxis": "x",
           "y": {
            "bdata": "8KfGSzdJQEA=",
            "dtype": "f8"
           },
           "yaxis": "y"
          },
          {
           "hovertemplate": "Region=%{x}<br>Jahr=2087<br>Medianes Alter (Jahre)=%{y}<br>custom_text=%{text}<extra></extra>",
           "legendgroup": "Asia (UN)",
           "marker": {
            "color": "#EF553B",
            "pattern": {
             "shape": ""
            }
           },
           "name": "Asia (UN)",
           "orientation": "v",
           "showlegend": true,
           "text": [
            "45.6<br><span style='color:#edeaa8;font-size:12px'>Projected</span>"
           ],
           "textposition": "auto",
           "type": "bar",
           "x": [
            "Asia (UN)"
           ],
           "xaxis": "x",
           "y": {
            "bdata": "qMZLN4nRRkA=",
            "dtype": "f8"
           },
           "yaxis": "y"
          },
          {
           "hovertemplate": "Region=%{x}<br>Jahr=2087<br>Medianes Alter (Jahre)=%{y}<br>custom_text=%{text}<extra></extra>",
           "legendgroup": "Europe (UN)",
           "marker": {
            "color": "#00cc96",
            "pattern": {
             "shape": ""
            }
           },
           "name": "Europe (UN)",
           "orientation": "v",
           "showlegend": true,
           "text": [
            "47.6<br><span style='color:#edeaa8;font-size:12px'>Projected</span>"
           ],
           "textposition": "auto",
           "type": "bar",
           "x": [
            "Europe (UN)"
           ],
           "xaxis": "x",
           "y": {
            "bdata": "ZDvfT43HR0A=",
            "dtype": "f8"
           },
           "yaxis": "y"
          },
          {
           "hovertemplate": "Region=%{x}<br>Jahr=2087<br>Medianes Alter (Jahre)=%{y}<br>custom_text=%{text}<extra></extra>",
           "legendgroup": "United States",
           "marker": {
            "color": "#ab63fa",
            "pattern": {
             "shape": ""
            }
           },
           "name": "United States",
           "orientation": "v",
           "showlegend": true,
           "text": [
            "44.6<br><span style='color:#edeaa8;font-size:12px'>Projected</span>"
           ],
           "textposition": "auto",
           "type": "bar",
           "x": [
            "United States"
           ],
           "xaxis": "x",
           "y": {
            "bdata": "5/up8dJNRkA=",
            "dtype": "f8"
           },
           "yaxis": "y"
          }
         ],
         "name": "2087"
        },
        {
         "data": [
          {
           "hovertemplate": "Region=%{x}<br>Jahr=2088<br>Medianes Alter (Jahre)=%{y}<br>custom_text=%{text}<extra></extra>",
           "legendgroup": "Africa (UN)",
           "marker": {
            "color": "#636efa",
            "pattern": {
             "shape": ""
            }
           },
           "name": "Africa (UN)",
           "orientation": "v",
           "showlegend": true,
           "text": [
            "32.8<br><span style='color:#edeaa8;font-size:12px'>Projected</span>"
           ],
           "textposition": "auto",
           "type": "bar",
           "x": [
            "Africa (UN)"
           ],
           "xaxis": "x",
           "y": {
            "bdata": "UI2XbhJjQEA=",
            "dtype": "f8"
           },
           "yaxis": "y"
          },
          {
           "hovertemplate": "Region=%{x}<br>Jahr=2088<br>Medianes Alter (Jahre)=%{y}<br>custom_text=%{text}<extra></extra>",
           "legendgroup": "Asia (UN)",
           "marker": {
            "color": "#EF553B",
            "pattern": {
             "shape": ""
            }
           },
           "name": "Asia (UN)",
           "orientation": "v",
           "showlegend": true,
           "text": [
            "45.7<br><span style='color:#edeaa8;font-size:12px'>Projected</span>"
           ],
           "textposition": "auto",
           "type": "bar",
           "x": [
            "Asia (UN)"
           ],
           "xaxis": "x",
           "y": {
            "bdata": "rkfhehTeRkA=",
            "dtype": "f8"
           },
           "yaxis": "y"
          },
          {
           "hovertemplate": "Region=%{x}<br>Jahr=2088<br>Medianes Alter (Jahre)=%{y}<br>custom_text=%{text}<extra></extra>",
           "legendgroup": "Europe (UN)",
           "marker": {
            "color": "#00cc96",
            "pattern": {
             "shape": ""
            }
           },
           "name": "Europe (UN)",
           "orientation": "v",
           "showlegend": true,
           "text": [
            "47.6<br><span style='color:#edeaa8;font-size:12px'>Projected</span>"
           ],
           "textposition": "auto",
           "type": "bar",
           "x": [
            "Europe (UN)"
           ],
           "xaxis": "x",
           "y": {
            "bdata": "dZMYBFbOR0A=",
            "dtype": "f8"
           },
           "yaxis": "y"
          },
          {
           "hovertemplate": "Region=%{x}<br>Jahr=2088<br>Medianes Alter (Jahre)=%{y}<br>custom_text=%{text}<extra></extra>",
           "legendgroup": "United States",
           "marker": {
            "color": "#ab63fa",
            "pattern": {
             "shape": ""
            }
           },
           "name": "United States",
           "orientation": "v",
           "showlegend": true,
           "text": [
            "44.7<br><span style='color:#edeaa8;font-size:12px'>Projected</span>"
           ],
           "textposition": "auto",
           "type": "bar",
           "x": [
            "United States"
           ],
           "xaxis": "x",
           "y": {
            "bdata": "ZDvfT41XRkA=",
            "dtype": "f8"
           },
           "yaxis": "y"
          }
         ],
         "name": "2088"
        },
        {
         "data": [
          {
           "hovertemplate": "Region=%{x}<br>Jahr=2089<br>Medianes Alter (Jahre)=%{y}<br>custom_text=%{text}<extra></extra>",
           "legendgroup": "Africa (UN)",
           "marker": {
            "color": "#636efa",
            "pattern": {
             "shape": ""
            }
           },
           "name": "Africa (UN)",
           "orientation": "v",
           "showlegend": true,
           "text": [
            "33.0<br><span style='color:#edeaa8;font-size:12px'>Projected</span>"
           ],
           "textposition": "auto",
           "type": "bar",
           "x": [
            "Africa (UN)"
           ],
           "xaxis": "x",
           "y": {
            "bdata": "zczMzMx8QEA=",
            "dtype": "f8"
           },
           "yaxis": "y"
          },
          {
           "hovertemplate": "Region=%{x}<br>Jahr=2089<br>Medianes Alter (Jahre)=%{y}<br>custom_text=%{text}<extra></extra>",
           "legendgroup": "Asia (UN)",
           "marker": {
            "color": "#EF553B",
            "pattern": {
             "shape": ""
            }
           },
           "name": "Asia (UN)",
           "orientation": "v",
           "showlegend": true,
           "text": [
            "45.8<br><span style='color:#edeaa8;font-size:12px'>Projected</span>"
           ],
           "textposition": "auto",
           "type": "bar",
           "x": [
            "Asia (UN)"
           ],
           "xaxis": "x",
           "y": {
            "bdata": "tMh2vp/qRkA=",
            "dtype": "f8"
           },
           "yaxis": "y"
          },
          {
           "hovertemplate": "Region=%{x}<br>Jahr=2089<br>Medianes Alter (Jahre)=%{y}<br>custom_text=%{text}<extra></extra>",
           "legendgroup": "Europe (UN)",
           "marker": {
            "color": "#00cc96",
            "pattern": {
             "shape": ""
            }
           },
           "name": "Europe (UN)",
           "orientation": "v",
           "showlegend": true,
           "text": [
            "47.7<br><span style='color:#edeaa8;font-size:12px'>Projected</span>"
           ],
           "textposition": "auto",
           "type": "bar",
           "x": [
            "Europe (UN)"
           ],
           "xaxis": "x",
           "y": {
            "bdata": "LbKd76fWR0A=",
            "dtype": "f8"
           },
           "yaxis": "y"
          },
          {
           "hovertemplate": "Region=%{x}<br>Jahr=2089<br>Medianes Alter (Jahre)=%{y}<br>custom_text=%{text}<extra></extra>",
           "legendgroup": "United States",
           "marker": {
            "color": "#ab63fa",
            "pattern": {
             "shape": ""
            }
           },
           "name": "United States",
           "orientation": "v",
           "showlegend": true,
           "text": [
            "44.8<br><span style='color:#edeaa8;font-size:12px'>Projected</span>"
           ],
           "textposition": "auto",
           "type": "bar",
           "x": [
            "United States"
           ],
           "xaxis": "x",
           "y": {
            "bdata": "/tR46SZhRkA=",
            "dtype": "f8"
           },
           "yaxis": "y"
          }
         ],
         "name": "2089"
        },
        {
         "data": [
          {
           "hovertemplate": "Region=%{x}<br>Jahr=2090<br>Medianes Alter (Jahre)=%{y}<br>custom_text=%{text}<extra></extra>",
           "legendgroup": "Africa (UN)",
           "marker": {
            "color": "#636efa",
            "pattern": {
             "shape": ""
            }
           },
           "name": "Africa (UN)",
           "orientation": "v",
           "showlegend": true,
           "text": [
            "33.2<br><span style='color:#edeaa8;font-size:12px'>Projected</span>"
           ],
           "textposition": "auto",
           "type": "bar",
           "x": [
            "Africa (UN)"
           ],
           "xaxis": "x",
           "y": {
            "bdata": "oBov3SSWQEA=",
            "dtype": "f8"
           },
           "yaxis": "y"
          },
          {
           "hovertemplate": "Region=%{x}<br>Jahr=2090<br>Medianes Alter (Jahre)=%{y}<br>custom_text=%{text}<extra></extra>",
           "legendgroup": "Asia (UN)",
           "marker": {
            "color": "#EF553B",
            "pattern": {
             "shape": ""
            }
           },
           "name": "Asia (UN)",
           "orientation": "v",
           "showlegend": true,
           "text": [
            "45.9<br><span style='color:#edeaa8;font-size:12px'>Projected</span>"
           ],
           "textposition": "auto",
           "type": "bar",
           "x": [
            "Asia (UN)"
           ],
           "xaxis": "x",
           "y": {
            "bdata": "nu+nxkv3RkA=",
            "dtype": "f8"
           },
           "yaxis": "y"
          },
          {
           "hovertemplate": "Region=%{x}<br>Jahr=2090<br>Medianes Alter (Jahre)=%{y}<br>custom_text=%{text}<extra></extra>",
           "legendgroup": "Europe (UN)",
           "marker": {
            "color": "#00cc96",
            "pattern": {
             "shape": ""
            }
           },
           "name": "Europe (UN)",
           "orientation": "v",
           "showlegend": true,
           "text": [
            "47.8<br><span style='color:#edeaa8;font-size:12px'>Projected</span>"
           ],
           "textposition": "auto",
           "type": "bar",
           "x": [
            "Europe (UN)"
           ],
           "xaxis": "x",
           "y": {
            "bdata": "cT0K16PgR0A=",
            "dtype": "f8"
           },
           "yaxis": "y"
          },
          {
           "hovertemplate": "Region=%{x}<br>Jahr=2090<br>Medianes Alter (Jahre)=%{y}<br>custom_text=%{text}<extra></extra>",
           "legendgroup": "United States",
           "marker": {
            "color": "#ab63fa",
            "pattern": {
             "shape": ""
            }
           },
           "name": "United States",
           "orientation": "v",
           "showlegend": true,
           "text": [
            "44.8<br><span style='color:#edeaa8;font-size:12px'>Projected</span>"
           ],
           "textposition": "auto",
           "type": "bar",
           "x": [
            "United States"
           ],
           "xaxis": "x",
           "y": {
            "bdata": "mG4Sg8BqRkA=",
            "dtype": "f8"
           },
           "yaxis": "y"
          }
         ],
         "name": "2090"
        },
        {
         "data": [
          {
           "hovertemplate": "Region=%{x}<br>Jahr=2091<br>Medianes Alter (Jahre)=%{y}<br>custom_text=%{text}<extra></extra>",
           "legendgroup": "Africa (UN)",
           "marker": {
            "color": "#636efa",
            "pattern": {
             "shape": ""
            }
           },
           "name": "Africa (UN)",
           "orientation": "v",
           "showlegend": true,
           "text": [
            "33.4<br><span style='color:#edeaa8;font-size:12px'>Projected</span>"
           ],
           "textposition": "auto",
           "type": "bar",
           "x": [
            "Africa (UN)"
           ],
           "xaxis": "x",
           "y": {
            "bdata": "j8L1KFyvQEA=",
            "dtype": "f8"
           },
           "yaxis": "y"
          },
          {
           "hovertemplate": "Region=%{x}<br>Jahr=2091<br>Medianes Alter (Jahre)=%{y}<br>custom_text=%{text}<extra></extra>",
           "legendgroup": "Asia (UN)",
           "marker": {
            "color": "#EF553B",
            "pattern": {
             "shape": ""
            }
           },
           "name": "Asia (UN)",
           "orientation": "v",
           "showlegend": true,
           "text": [
            "46.0<br><span style='color:#edeaa8;font-size:12px'>Projected</span>"
           ],
           "textposition": "auto",
           "type": "bar",
           "x": [
            "Asia (UN)"
           ],
           "xaxis": "x",
           "y": {
            "bdata": "pHA9CtcDR0A=",
            "dtype": "f8"
           },
           "yaxis": "y"
          },
          {
           "hovertemplate": "Region=%{x}<br>Jahr=2091<br>Medianes Alter (Jahre)=%{y}<br>custom_text=%{text}<extra></extra>",
           "legendgroup": "Europe (UN)",
           "marker": {
            "color": "#00cc96",
            "pattern": {
             "shape": ""
            }
           },
           "name": "Europe (UN)",
           "orientation": "v",
           "showlegend": true,
           "text": [
            "47.8<br><span style='color:#edeaa8;font-size:12px'>Projected</span>"
           ],
           "textposition": "auto",
           "type": "bar",
           "x": [
            "Europe (UN)"
           ],
           "xaxis": "x",
           "y": {
            "bdata": "7FG4HoXrR0A=",
            "dtype": "f8"
           },
           "yaxis": "y"
          },
          {
           "hovertemplate": "Region=%{x}<br>Jahr=2091<br>Medianes Alter (Jahre)=%{y}<br>custom_text=%{text}<extra></extra>",
           "legendgroup": "United States",
           "marker": {
            "color": "#ab63fa",
            "pattern": {
             "shape": ""
            }
           },
           "name": "United States",
           "orientation": "v",
           "showlegend": true,
           "text": [
            "44.9<br><span style='color:#edeaa8;font-size:12px'>Projected</span>"
           ],
           "textposition": "auto",
           "type": "bar",
           "x": [
            "United States"
           ],
           "xaxis": "x",
           "y": {
            "bdata": "hxbZzvdzRkA=",
            "dtype": "f8"
           },
           "yaxis": "y"
          }
         ],
         "name": "2091"
        },
        {
         "data": [
          {
           "hovertemplate": "Region=%{x}<br>Jahr=2092<br>Medianes Alter (Jahre)=%{y}<br>custom_text=%{text}<extra></extra>",
           "legendgroup": "Africa (UN)",
           "marker": {
            "color": "#636efa",
            "pattern": {
             "shape": ""
            }
           },
           "name": "Africa (UN)",
           "orientation": "v",
           "showlegend": true,
           "text": [
            "33.6<br><span style='color:#edeaa8;font-size:12px'>Projected</span>"
           ],
           "textposition": "auto",
           "type": "bar",
           "x": [
            "Africa (UN)"
           ],
           "xaxis": "x",
           "y": {
            "bdata": "uB6F61HIQEA=",
            "dtype": "f8"
           },
           "yaxis": "y"
          },
          {
           "hovertemplate": "Region=%{x}<br>Jahr=2092<br>Medianes Alter (Jahre)=%{y}<br>custom_text=%{text}<extra></extra>",
           "legendgroup": "Asia (UN)",
           "marker": {
            "color": "#EF553B",
            "pattern": {
             "shape": ""
            }
           },
           "name": "Asia (UN)",
           "orientation": "v",
           "showlegend": true,
           "text": [
            "46.1<br><span style='color:#edeaa8;font-size:12px'>Projected</span>"
           ],
           "textposition": "auto",
           "type": "bar",
           "x": [
            "Asia (UN)"
           ],
           "xaxis": "x",
           "y": {
            "bdata": "qvHSTWIQR0A=",
            "dtype": "f8"
           },
           "yaxis": "y"
          },
          {
           "hovertemplate": "Region=%{x}<br>Jahr=2092<br>Medianes Alter (Jahre)=%{y}<br>custom_text=%{text}<extra></extra>",
           "legendgroup": "Europe (UN)",
           "marker": {
            "color": "#00cc96",
            "pattern": {
             "shape": ""
            }
           },
           "name": "Europe (UN)",
           "orientation": "v",
           "showlegend": true,
           "text": [
            "47.9<br><span style='color:#edeaa8;font-size:12px'>Projected</span>"
           ],
           "textposition": "auto",
           "type": "bar",
           "x": [
            "Europe (UN)"
           ],
           "xaxis": "x",
           "y": {
            "bdata": "nu+nxkv3R0A=",
            "dtype": "f8"
           },
           "yaxis": "y"
          },
          {
           "hovertemplate": "Region=%{x}<br>Jahr=2092<br>Medianes Alter (Jahre)=%{y}<br>custom_text=%{text}<extra></extra>",
           "legendgroup": "United States",
           "marker": {
            "color": "#ab63fa",
            "pattern": {
             "shape": ""
            }
           },
           "name": "United States",
           "orientation": "v",
           "showlegend": true,
           "text": [
            "45.0<br><span style='color:#edeaa8;font-size:12px'>Projected</span>"
           ],
           "textposition": "auto",
           "type": "bar",
           "x": [
            "United States"
           ],
           "xaxis": "x",
           "y": {
            "bdata": "6SYxCKx8RkA=",
            "dtype": "f8"
           },
           "yaxis": "y"
          }
         ],
         "name": "2092"
        },
        {
         "data": [
          {
           "hovertemplate": "Region=%{x}<br>Jahr=2093<br>Medianes Alter (Jahre)=%{y}<br>custom_text=%{text}<extra></extra>",
           "legendgroup": "Africa (UN)",
           "marker": {
            "color": "#636efa",
            "pattern": {
             "shape": ""
            }
           },
           "name": "Africa (UN)",
           "orientation": "v",
           "showlegend": true,
           "text": [
            "33.8<br><span style='color:#edeaa8;font-size:12px'>Projected</span>"
           ],
           "textposition": "auto",
           "type": "bar",
           "x": [
            "Africa (UN)"
           ],
           "xaxis": "x",
           "y": {
            "bdata": "/tR46SbhQEA=",
            "dtype": "f8"
           },
           "yaxis": "y"
          },
          {
           "hovertemplate": "Region=%{x}<br>Jahr=2093<br>Medianes Alter (Jahre)=%{y}<br>custom_text=%{text}<extra></extra>",
           "legendgroup": "Asia (UN)",
           "marker": {
            "color": "#EF553B",
            "pattern": {
             "shape": ""
            }
           },
           "name": "Asia (UN)",
           "orientation": "v",
           "showlegend": true,
           "text": [
            "46.2<br><span style='color:#edeaa8;font-size:12px'>Projected</span>"
           ],
           "textposition": "auto",
           "type": "bar",
           "x": [
            "Asia (UN)"
           ],
           "xaxis": "x",
           "y": {
            "bdata": "6SYxCKwcR0A=",
            "dtype": "f8"
           },
           "yaxis": "y"
          },
          {
           "hovertemplate": "Region=%{x}<br>Jahr=2093<br>Medianes Alter (Jahre)=%{y}<br>custom_text=%{text}<extra></extra>",
           "legendgroup": "Europe (UN)",
           "marker": {
            "color": "#00cc96",
            "pattern": {
             "shape": ""
            }
           },
           "name": "Europe (UN)",
           "orientation": "v",
           "showlegend": true,
           "text": [
            "48.0<br><span style='color:#edeaa8;font-size:12px'>Projected</span>"
           ],
           "textposition": "auto",
           "type": "bar",
           "x": [
            "Europe (UN)"
           ],
           "xaxis": "x",
           "y": {
            "bdata": "3SQGgZUDSEA=",
            "dtype": "f8"
           },
           "yaxis": "y"
          },
          {
           "hovertemplate": "Region=%{x}<br>Jahr=2093<br>Medianes Alter (Jahre)=%{y}<br>custom_text=%{text}<extra></extra>",
           "legendgroup": "United States",
           "marker": {
            "color": "#ab63fa",
            "pattern": {
             "shape": ""
            }
           },
           "name": "United States",
           "orientation": "v",
           "showlegend": true,
           "text": [
            "45.0<br><span style='color:#edeaa8;font-size:12px'>Projected</span>"
           ],
           "textposition": "auto",
           "type": "bar",
           "x": [
            "United States"
           ],
           "xaxis": "x",
           "y": {
            "bdata": "2/l+aryERkA=",
            "dtype": "f8"
           },
           "yaxis": "y"
          }
         ],
         "name": "2093"
        },
        {
         "data": [
          {
           "hovertemplate": "Region=%{x}<br>Jahr=2094<br>Medianes Alter (Jahre)=%{y}<br>custom_text=%{text}<extra></extra>",
           "legendgroup": "Africa (UN)",
           "marker": {
            "color": "#636efa",
            "pattern": {
             "shape": ""
            }
           },
           "name": "Africa (UN)",
           "orientation": "v",
           "showlegend": true,
           "text": [
            "34.0<br><span style='color:#edeaa8;font-size:12px'>Projected</span>"
           ],
           "textposition": "auto",
           "type": "bar",
           "x": [
            "Africa (UN)"
           ],
           "xaxis": "x",
           "y": {
            "bdata": "fT81Xrr5QEA=",
            "dtype": "f8"
           },
           "yaxis": "y"
          },
          {
           "hovertemplate": "Region=%{x}<br>Jahr=2094<br>Medianes Alter (Jahre)=%{y}<br>custom_text=%{text}<extra></extra>",
           "legendgroup": "Asia (UN)",
           "marker": {
            "color": "#EF553B",
            "pattern": {
             "shape": ""
            }
           },
           "name": "Asia (UN)",
           "orientation": "v",
           "showlegend": true,
           "text": [
            "46.3<br><span style='color:#edeaa8;font-size:12px'>Projected</span>"
           ],
           "textposition": "auto",
           "type": "bar",
           "x": [
            "Asia (UN)"
           ],
           "xaxis": "x",
           "y": {
            "bdata": "f2q8dJMoR0A=",
            "dtype": "f8"
           },
           "yaxis": "y"
          },
          {
           "hovertemplate": "Region=%{x}<br>Jahr=2094<br>Medianes Alter (Jahre)=%{y}<br>custom_text=%{text}<extra></extra>",
           "legendgroup": "Europe (UN)",
           "marker": {
            "color": "#00cc96",
            "pattern": {
             "shape": ""
            }
           },
           "name": "Europe (UN)",
           "orientation": "v",
           "showlegend": true,
           "text": [
            "48.1<br><span style='color:#edeaa8;font-size:12px'>Projected</span>"
           ],
           "textposition": "auto",
           "type": "bar",
           "x": [
            "Europe (UN)"
           ],
           "xaxis": "x",
           "y": {
            "bdata": "AAAAAAAQSEA=",
            "dtype": "f8"
           },
           "yaxis": "y"
          },
          {
           "hovertemplate": "Region=%{x}<br>Jahr=2094<br>Medianes Alter (Jahre)=%{y}<br>custom_text=%{text}<extra></extra>",
           "legendgroup": "United States",
           "marker": {
            "color": "#ab63fa",
            "pattern": {
             "shape": ""
            }
           },
           "name": "United States",
           "orientation": "v",
           "showlegend": true,
           "text": [
            "45.1<br><span style='color:#edeaa8;font-size:12px'>Projected</span>"
           ],
           "textposition": "auto",
           "type": "bar",
           "x": [
            "United States"
           ],
           "xaxis": "x",
           "y": {
            "bdata": "eekmMQiMRkA=",
            "dtype": "f8"
           },
           "yaxis": "y"
          }
         ],
         "name": "2094"
        },
        {
         "data": [
          {
           "hovertemplate": "Region=%{x}<br>Jahr=2095<br>Medianes Alter (Jahre)=%{y}<br>custom_text=%{text}<extra></extra>",
           "legendgroup": "Africa (UN)",
           "marker": {
            "color": "#636efa",
            "pattern": {
             "shape": ""
            }
           },
           "name": "Africa (UN)",
           "orientation": "v",
           "showlegend": true,
           "text": [
            "34.1<br><span style='color:#edeaa8;font-size:12px'>Projected</span>"
           ],
           "textposition": "auto",
           "type": "bar",
           "x": [
            "Africa (UN)"
           ],
           "xaxis": "x",
           "y": {
            "bdata": "NV66SQwSQUA=",
            "dtype": "f8"
           },
           "yaxis": "y"
          },
          {
           "hovertemplate": "Region=%{x}<br>Jahr=2095<br>Medianes Alter (Jahre)=%{y}<br>custom_text=%{text}<extra></extra>",
           "legendgroup": "Asia (UN)",
           "marker": {
            "color": "#EF553B",
            "pattern": {
             "shape": ""
            }
           },
           "name": "Asia (UN)",
           "orientation": "v",
           "showlegend": true,
           "text": [
            "46.4<br><span style='color:#edeaa8;font-size:12px'>Projected</span>"
           ],
           "textposition": "auto",
           "type": "bar",
           "x": [
            "Asia (UN)"
           ],
           "xaxis": "x",
           "y": {
            "bdata": "hxbZzvczR0A=",
            "dtype": "f8"
           },
           "yaxis": "y"
          },
          {
           "hovertemplate": "Region=%{x}<br>Jahr=2095<br>Medianes Alter (Jahre)=%{y}<br>custom_text=%{text}<extra></extra>",
           "legendgroup": "Europe (UN)",
           "marker": {
            "color": "#00cc96",
            "pattern": {
             "shape": ""
            }
           },
           "name": "Europe (UN)",
           "orientation": "v",
           "showlegend": true,
           "text": [
            "48.2<br><span style='color:#edeaa8;font-size:12px'>Projected</span>"
           ],
           "textposition": "auto",
           "type": "bar",
           "x": [
            "Europe (UN)"
           ],
           "xaxis": "x",
           "y": {
            "bdata": "PzVeukkcSEA=",
            "dtype": "f8"
           },
           "yaxis": "y"
          },
          {
           "hovertemplate": "Region=%{x}<br>Jahr=2095<br>Medianes Alter (Jahre)=%{y}<br>custom_text=%{text}<extra></extra>",
           "legendgroup": "United States",
           "marker": {
            "color": "#ab63fa",
            "pattern": {
             "shape": ""
            }
           },
           "name": "United States",
           "orientation": "v",
           "showlegend": true,
           "text": [
            "45.1<br><span style='color:#edeaa8;font-size:12px'>Projected</span>"
           ],
           "textposition": "auto",
           "type": "bar",
           "x": [
            "United States"
           ],
           "xaxis": "x",
           "y": {
            "bdata": "w/UoXI+SRkA=",
            "dtype": "f8"
           },
           "yaxis": "y"
          }
         ],
         "name": "2095"
        },
        {
         "data": [
          {
           "hovertemplate": "Region=%{x}<br>Jahr=2096<br>Medianes Alter (Jahre)=%{y}<br>custom_text=%{text}<extra></extra>",
           "legendgroup": "Africa (UN)",
           "marker": {
            "color": "#636efa",
            "pattern": {
             "shape": ""
            }
           },
           "name": "Africa (UN)",
           "orientation": "v",
           "showlegend": true,
           "text": [
            "34.3<br><span style='color:#edeaa8;font-size:12px'>Projected</span>"
           ],
           "textposition": "auto",
           "type": "bar",
           "x": [
            "Africa (UN)"
           ],
           "xaxis": "x",
           "y": {
            "bdata": "JzEIrBwqQUA=",
            "dtype": "f8"
           },
           "yaxis": "y"
          },
          {
           "hovertemplate": "Region=%{x}<br>Jahr=2096<br>Medianes Alter (Jahre)=%{y}<br>custom_text=%{text}<extra></extra>",
           "legendgroup": "Asia (UN)",
           "marker": {
            "color": "#EF553B",
            "pattern": {
             "shape": ""
            }
           },
           "name": "Asia (UN)",
           "orientation": "v",
           "showlegend": true,
           "text": [
            "46.5<br><span style='color:#edeaa8;font-size:12px'>Projected</span>"
           ],
           "textposition": "auto",
           "type": "bar",
           "x": [
            "Asia (UN)"
           ],
           "xaxis": "x",
           "y": {
            "bdata": "AiuHFtk+R0A=",
            "dtype": "f8"
           },
           "yaxis": "y"
          },
          {
           "hovertemplate": "Region=%{x}<br>Jahr=2096<br>Medianes Alter (Jahre)=%{y}<br>custom_text=%{text}<extra></extra>",
           "legendgroup": "Europe (UN)",
           "marker": {
            "color": "#00cc96",
            "pattern": {
             "shape": ""
            }
           },
           "name": "Europe (UN)",
           "orientation": "v",
           "showlegend": true,
           "text": [
            "48.3<br><span style='color:#edeaa8;font-size:12px'>Projected</span>"
           ],
           "textposition": "auto",
           "type": "bar",
           "x": [
            "Europe (UN)"
           ],
           "xaxis": "x",
           "y": {
            "bdata": "uB6F61EoSEA=",
            "dtype": "f8"
           },
           "yaxis": "y"
          },
          {
           "hovertemplate": "Region=%{x}<br>Jahr=2096<br>Medianes Alter (Jahre)=%{y}<br>custom_text=%{text}<extra></extra>",
           "legendgroup": "United States",
           "marker": {
            "color": "#ab63fa",
            "pattern": {
             "shape": ""
            }
           },
           "name": "United States",
           "orientation": "v",
           "showlegend": true,
           "text": [
            "45.2<br><span style='color:#edeaa8;font-size:12px'>Projected</span>"
           ],
           "textposition": "auto",
           "type": "bar",
           "x": [
            "United States"
           ],
           "xaxis": "x",
           "y": {
            "bdata": "nMQgsHKYRkA=",
            "dtype": "f8"
           },
           "yaxis": "y"
          }
         ],
         "name": "2096"
        },
        {
         "data": [
          {
           "hovertemplate": "Region=%{x}<br>Jahr=2097<br>Medianes Alter (Jahre)=%{y}<br>custom_text=%{text}<extra></extra>",
           "legendgroup": "Africa (UN)",
           "marker": {
            "color": "#636efa",
            "pattern": {
             "shape": ""
            }
           },
           "name": "Africa (UN)",
           "orientation": "v",
           "showlegend": true,
           "text": [
            "34.5<br><span style='color:#edeaa8;font-size:12px'>Projected</span>"
           ],
           "textposition": "auto",
           "type": "bar",
           "x": [
            "Africa (UN)"
           ],
           "xaxis": "x",
           "y": {
            "bdata": "NV66SQxCQUA=",
            "dtype": "f8"
           },
           "yaxis": "y"
          },
          {
           "hovertemplate": "Region=%{x}<br>Jahr=2097<br>Medianes Alter (Jahre)=%{y}<br>custom_text=%{text}<extra></extra>",
           "legendgroup": "Asia (UN)",
           "marker": {
            "color": "#EF553B",
            "pattern": {
             "shape": ""
            }
           },
           "name": "Asia (UN)",
           "orientation": "v",
           "showlegend": true,
           "text": [
            "46.6<br><span style='color:#edeaa8;font-size:12px'>Projected</span>"
           ],
           "textposition": "auto",
           "type": "bar",
           "x": [
            "Asia (UN)"
           ],
           "xaxis": "x",
           "y": {
            "bdata": "KVyPwvVIR0A=",
            "dtype": "f8"
           },
           "yaxis": "y"
          },
          {
           "hovertemplate": "Region=%{x}<br>Jahr=2097<br>Medianes Alter (Jahre)=%{y}<br>custom_text=%{text}<extra></extra>",
           "legendgroup": "Europe (UN)",
           "marker": {
            "color": "#00cc96",
            "pattern": {
             "shape": ""
            }
           },
           "name": "Europe (UN)",
           "orientation": "v",
           "showlegend": true,
           "text": [
            "48.4<br><span style='color:#edeaa8;font-size:12px'>Projected</span>"
           ],
           "textposition": "auto",
           "type": "bar",
           "x": [
            "Europe (UN)"
           ],
           "xaxis": "x",
           "y": {
            "bdata": "wcqhRbYzSEA=",
            "dtype": "f8"
           },
           "yaxis": "y"
          },
          {
           "hovertemplate": "Region=%{x}<br>Jahr=2097<br>Medianes Alter (Jahre)=%{y}<br>custom_text=%{text}<extra></extra>",
           "legendgroup": "United States",
           "marker": {
            "color": "#ab63fa",
            "pattern": {
             "shape": ""
            }
           },
           "name": "United States",
           "orientation": "v",
           "showlegend": true,
           "text": [
            "45.2<br><span style='color:#edeaa8;font-size:12px'>Projected</span>"
           ],
           "textposition": "auto",
           "type": "bar",
           "x": [
            "United States"
           ],
           "xaxis": "x",
           "y": {
            "bdata": "IbByaJGdRkA=",
            "dtype": "f8"
           },
           "yaxis": "y"
          }
         ],
         "name": "2097"
        },
        {
         "data": [
          {
           "hovertemplate": "Region=%{x}<br>Jahr=2098<br>Medianes Alter (Jahre)=%{y}<br>custom_text=%{text}<extra></extra>",
           "legendgroup": "Africa (UN)",
           "marker": {
            "color": "#636efa",
            "pattern": {
             "shape": ""
            }
           },
           "name": "Africa (UN)",
           "orientation": "v",
           "showlegend": true,
           "text": [
            "34.7<br><span style='color:#edeaa8;font-size:12px'>Projected</span>"
           ],
           "textposition": "auto",
           "type": "bar",
           "x": [
            "Africa (UN)"
           ],
           "xaxis": "x",
           "y": {
            "bdata": "mpmZmZlZQUA=",
            "dtype": "f8"
           },
           "yaxis": "y"
          },
          {
           "hovertemplate": "Region=%{x}<br>Jahr=2098<br>Medianes Alter (Jahre)=%{y}<br>custom_text=%{text}<extra></extra>",
           "legendgroup": "Asia (UN)",
           "marker": {
            "color": "#EF553B",
            "pattern": {
             "shape": ""
            }
           },
           "name": "Asia (UN)",
           "orientation": "v",
           "showlegend": true,
           "text": [
            "46.6<br><span style='color:#edeaa8;font-size:12px'>Projected</span>"
           ],
           "textposition": "auto",
           "type": "bar",
           "x": [
            "Asia (UN)"
           ],
           "xaxis": "x",
           "y": {
            "bdata": "30+Nl25SR0A=",
            "dtype": "f8"
           },
           "yaxis": "y"
          },
          {
           "hovertemplate": "Region=%{x}<br>Jahr=2098<br>Medianes Alter (Jahre)=%{y}<br>custom_text=%{text}<extra></extra>",
           "legendgroup": "Europe (UN)",
           "marker": {
            "color": "#00cc96",
            "pattern": {
             "shape": ""
            }
           },
           "name": "Europe (UN)",
           "orientation": "v",
           "showlegend": true,
           "text": [
            "48.5<br><span style='color:#edeaa8;font-size:12px'>Projected</span>"
           ],
           "textposition": "auto",
           "type": "bar",
           "x": [
            "Europe (UN)"
           ],
           "xaxis": "x",
           "y": {
            "bdata": "rkfhehQ+SEA=",
            "dtype": "f8"
           },
           "yaxis": "y"
          },
          {
           "hovertemplate": "Region=%{x}<br>Jahr=2098<br>Medianes Alter (Jahre)=%{y}<br>custom_text=%{text}<extra></extra>",
           "legendgroup": "United States",
           "marker": {
            "color": "#ab63fa",
            "pattern": {
             "shape": ""
            }
           },
           "name": "United States",
           "orientation": "v",
           "showlegend": true,
           "text": [
            "45.3<br><span style='color:#edeaa8;font-size:12px'>Projected</span>"
           ],
           "textposition": "auto",
           "type": "bar",
           "x": [
            "United States"
           ],
           "xaxis": "x",
           "y": {
            "bdata": "NV66SQyiRkA=",
            "dtype": "f8"
           },
           "yaxis": "y"
          }
         ],
         "name": "2098"
        },
        {
         "data": [
          {
           "hovertemplate": "Region=%{x}<br>Jahr=2099<br>Medianes Alter (Jahre)=%{y}<br>custom_text=%{text}<extra></extra>",
           "legendgroup": "Africa (UN)",
           "marker": {
            "color": "#636efa",
            "pattern": {
             "shape": ""
            }
           },
           "name": "Africa (UN)",
           "orientation": "v",
           "showlegend": true,
           "text": [
            "34.9<br><span style='color:#edeaa8;font-size:12px'>Projected</span>"
           ],
           "textposition": "auto",
           "type": "bar",
           "x": [
            "Africa (UN)"
           ],
           "xaxis": "x",
           "y": {
            "bdata": "Gy/dJAZxQUA=",
            "dtype": "f8"
           },
           "yaxis": "y"
          },
          {
           "hovertemplate": "Region=%{x}<br>Jahr=2099<br>Medianes Alter (Jahre)=%{y}<br>custom_text=%{text}<extra></extra>",
           "legendgroup": "Asia (UN)",
           "marker": {
            "color": "#EF553B",
            "pattern": {
             "shape": ""
            }
           },
           "name": "Asia (UN)",
           "orientation": "v",
           "showlegend": true,
           "text": [
            "46.7<br><span style='color:#edeaa8;font-size:12px'>Projected</span>"
           ],
           "textposition": "auto",
           "type": "bar",
           "x": [
            "Asia (UN)"
           ],
           "xaxis": "x",
           "y": {
            "bdata": "XrpJDAJbR0A=",
            "dtype": "f8"
           },
           "yaxis": "y"
          },
          {
           "hovertemplate": "Region=%{x}<br>Jahr=2099<br>Medianes Alter (Jahre)=%{y}<br>custom_text=%{text}<extra></extra>",
           "legendgroup": "Europe (UN)",
           "marker": {
            "color": "#00cc96",
            "pattern": {
             "shape": ""
            }
           },
           "name": "Europe (UN)",
           "orientation": "v",
           "showlegend": true,
           "text": [
            "48.6<br><span style='color:#edeaa8;font-size:12px'>Projected</span>"
           ],
           "textposition": "auto",
           "type": "bar",
           "x": [
            "Europe (UN)"
           ],
           "xaxis": "x",
           "y": {
            "bdata": "nu+nxktHSEA=",
            "dtype": "f8"
           },
           "yaxis": "y"
          },
          {
           "hovertemplate": "Region=%{x}<br>Jahr=2099<br>Medianes Alter (Jahre)=%{y}<br>custom_text=%{text}<extra></extra>",
           "legendgroup": "United States",
           "marker": {
            "color": "#ab63fa",
            "pattern": {
             "shape": ""
            }
           },
           "name": "United States",
           "orientation": "v",
           "showlegend": true,
           "text": [
            "45.3<br><span style='color:#edeaa8;font-size:12px'>Projected</span>"
           ],
           "textposition": "auto",
           "type": "bar",
           "x": [
            "United States"
           ],
           "xaxis": "x",
           "y": {
            "bdata": "vHSTGASmRkA=",
            "dtype": "f8"
           },
           "yaxis": "y"
          }
         ],
         "name": "2099"
        },
        {
         "data": [
          {
           "hovertemplate": "Region=%{x}<br>Jahr=2100<br>Medianes Alter (Jahre)=%{y}<br>custom_text=%{text}<extra></extra>",
           "legendgroup": "Africa (UN)",
           "marker": {
            "color": "#636efa",
            "pattern": {
             "shape": ""
            }
           },
           "name": "Africa (UN)",
           "orientation": "v",
           "showlegend": true,
           "text": [
            "35.1<br><span style='color:#edeaa8;font-size:12px'>Projected</span>"
           ],
           "textposition": "auto",
           "type": "bar",
           "x": [
            "Africa (UN)"
           ],
           "xaxis": "x",
           "y": {
            "bdata": "1XjpJjGIQUA=",
            "dtype": "f8"
           },
           "yaxis": "y"
          },
          {
           "hovertemplate": "Region=%{x}<br>Jahr=2100<br>Medianes Alter (Jahre)=%{y}<br>custom_text=%{text}<extra></extra>",
           "legendgroup": "Asia (UN)",
           "marker": {
            "color": "#EF553B",
            "pattern": {
             "shape": ""
            }
           },
           "name": "Asia (UN)",
           "orientation": "v",
           "showlegend": true,
           "text": [
            "46.8<br><span style='color:#edeaa8;font-size:12px'>Projected</span>"
           ],
           "textposition": "auto",
           "type": "bar",
           "x": [
            "Asia (UN)"
           ],
           "xaxis": "x",
           "y": {
            "bdata": "iUFg5dBiR0A=",
            "dtype": "f8"
           },
           "yaxis": "y"
          },
          {
           "hovertemplate": "Region=%{x}<br>Jahr=2100<br>Medianes Alter (Jahre)=%{y}<br>custom_text=%{text}<extra></extra>",
           "legendgroup": "Europe (UN)",
           "marker": {
            "color": "#00cc96",
            "pattern": {
             "shape": ""
            }
           },
           "name": "Europe (UN)",
           "orientation": "v",
           "showlegend": true,
           "text": [
            "48.6<br><span style='color:#edeaa8;font-size:12px'>Projected</span>"
           ],
           "textposition": "auto",
           "type": "bar",
           "x": [
            "Europe (UN)"
           ],
           "xaxis": "x",
           "y": {
            "bdata": "rBxaZDtPSEA=",
            "dtype": "f8"
           },
           "yaxis": "y"
          },
          {
           "hovertemplate": "Region=%{x}<br>Jahr=2100<br>Medianes Alter (Jahre)=%{y}<br>custom_text=%{text}<extra></extra>",
           "legendgroup": "United States",
           "marker": {
            "color": "#ab63fa",
            "pattern": {
             "shape": ""
            }
           },
           "name": "United States",
           "orientation": "v",
           "showlegend": true,
           "text": [
            "45.3<br><span style='color:#edeaa8;font-size:12px'>Projected</span>"
           ],
           "textposition": "auto",
           "type": "bar",
           "x": [
            "United States"
           ],
           "xaxis": "x",
           "y": {
            "bdata": "tvP91HipRkA=",
            "dtype": "f8"
           },
           "yaxis": "y"
          }
         ],
         "name": "2100"
        }
       ],
       "layout": {
        "barmode": "relative",
        "font": {
         "size": 14
        },
        "height": 600,
        "legend": {
         "title": {
          "text": "Region"
         },
         "tracegroupgap": 0
        },
        "sliders": [
         {
          "active": 0,
          "currentvalue": {
           "prefix": "Jahr="
          },
          "len": 0.9,
          "pad": {
           "b": 10,
           "t": 60
          },
          "steps": [
           {
            "args": [
             [
              "1950"
             ],
             {
              "frame": {
               "duration": 0,
               "redraw": true
              },
              "fromcurrent": true,
              "mode": "immediate",
              "transition": {
               "duration": 0,
               "easing": "linear"
              }
             }
            ],
            "label": "1950",
            "method": "animate"
           },
           {
            "args": [
             [
              "1951"
             ],
             {
              "frame": {
               "duration": 0,
               "redraw": true
              },
              "fromcurrent": true,
              "mode": "immediate",
              "transition": {
               "duration": 0,
               "easing": "linear"
              }
             }
            ],
            "label": "1951",
            "method": "animate"
           },
           {
            "args": [
             [
              "1952"
             ],
             {
              "frame": {
               "duration": 0,
               "redraw": true
              },
              "fromcurrent": true,
              "mode": "immediate",
              "transition": {
               "duration": 0,
               "easing": "linear"
              }
             }
            ],
            "label": "1952",
            "method": "animate"
           },
           {
            "args": [
             [
              "1953"
             ],
             {
              "frame": {
               "duration": 0,
               "redraw": true
              },
              "fromcurrent": true,
              "mode": "immediate",
              "transition": {
               "duration": 0,
               "easing": "linear"
              }
             }
            ],
            "label": "1953",
            "method": "animate"
           },
           {
            "args": [
             [
              "1954"
             ],
             {
              "frame": {
               "duration": 0,
               "redraw": true
              },
              "fromcurrent": true,
              "mode": "immediate",
              "transition": {
               "duration": 0,
               "easing": "linear"
              }
             }
            ],
            "label": "1954",
            "method": "animate"
           },
           {
            "args": [
             [
              "1955"
             ],
             {
              "frame": {
               "duration": 0,
               "redraw": true
              },
              "fromcurrent": true,
              "mode": "immediate",
              "transition": {
               "duration": 0,
               "easing": "linear"
              }
             }
            ],
            "label": "1955",
            "method": "animate"
           },
           {
            "args": [
             [
              "1956"
             ],
             {
              "frame": {
               "duration": 0,
               "redraw": true
              },
              "fromcurrent": true,
              "mode": "immediate",
              "transition": {
               "duration": 0,
               "easing": "linear"
              }
             }
            ],
            "label": "1956",
            "method": "animate"
           },
           {
            "args": [
             [
              "1957"
             ],
             {
              "frame": {
               "duration": 0,
               "redraw": true
              },
              "fromcurrent": true,
              "mode": "immediate",
              "transition": {
               "duration": 0,
               "easing": "linear"
              }
             }
            ],
            "label": "1957",
            "method": "animate"
           },
           {
            "args": [
             [
              "1958"
             ],
             {
              "frame": {
               "duration": 0,
               "redraw": true
              },
              "fromcurrent": true,
              "mode": "immediate",
              "transition": {
               "duration": 0,
               "easing": "linear"
              }
             }
            ],
            "label": "1958",
            "method": "animate"
           },
           {
            "args": [
             [
              "1959"
             ],
             {
              "frame": {
               "duration": 0,
               "redraw": true
              },
              "fromcurrent": true,
              "mode": "immediate",
              "transition": {
               "duration": 0,
               "easing": "linear"
              }
             }
            ],
            "label": "1959",
            "method": "animate"
           },
           {
            "args": [
             [
              "1960"
             ],
             {
              "frame": {
               "duration": 0,
               "redraw": true
              },
              "fromcurrent": true,
              "mode": "immediate",
              "transition": {
               "duration": 0,
               "easing": "linear"
              }
             }
            ],
            "label": "1960",
            "method": "animate"
           },
           {
            "args": [
             [
              "1961"
             ],
             {
              "frame": {
               "duration": 0,
               "redraw": true
              },
              "fromcurrent": true,
              "mode": "immediate",
              "transition": {
               "duration": 0,
               "easing": "linear"
              }
             }
            ],
            "label": "1961",
            "method": "animate"
           },
           {
            "args": [
             [
              "1962"
             ],
             {
              "frame": {
               "duration": 0,
               "redraw": true
              },
              "fromcurrent": true,
              "mode": "immediate",
              "transition": {
               "duration": 0,
               "easing": "linear"
              }
             }
            ],
            "label": "1962",
            "method": "animate"
           },
           {
            "args": [
             [
              "1963"
             ],
             {
              "frame": {
               "duration": 0,
               "redraw": true
              },
              "fromcurrent": true,
              "mode": "immediate",
              "transition": {
               "duration": 0,
               "easing": "linear"
              }
             }
            ],
            "label": "1963",
            "method": "animate"
           },
           {
            "args": [
             [
              "1964"
             ],
             {
              "frame": {
               "duration": 0,
               "redraw": true
              },
              "fromcurrent": true,
              "mode": "immediate",
              "transition": {
               "duration": 0,
               "easing": "linear"
              }
             }
            ],
            "label": "1964",
            "method": "animate"
           },
           {
            "args": [
             [
              "1965"
             ],
             {
              "frame": {
               "duration": 0,
               "redraw": true
              },
              "fromcurrent": true,
              "mode": "immediate",
              "transition": {
               "duration": 0,
               "easing": "linear"
              }
             }
            ],
            "label": "1965",
            "method": "animate"
           },
           {
            "args": [
             [
              "1966"
             ],
             {
              "frame": {
               "duration": 0,
               "redraw": true
              },
              "fromcurrent": true,
              "mode": "immediate",
              "transition": {
               "duration": 0,
               "easing": "linear"
              }
             }
            ],
            "label": "1966",
            "method": "animate"
           },
           {
            "args": [
             [
              "1967"
             ],
             {
              "frame": {
               "duration": 0,
               "redraw": true
              },
              "fromcurrent": true,
              "mode": "immediate",
              "transition": {
               "duration": 0,
               "easing": "linear"
              }
             }
            ],
            "label": "1967",
            "method": "animate"
           },
           {
            "args": [
             [
              "1968"
             ],
             {
              "frame": {
               "duration": 0,
               "redraw": true
              },
              "fromcurrent": true,
              "mode": "immediate",
              "transition": {
               "duration": 0,
               "easing": "linear"
              }
             }
            ],
            "label": "1968",
            "method": "animate"
           },
           {
            "args": [
             [
              "1969"
             ],
             {
              "frame": {
               "duration": 0,
               "redraw": true
              },
              "fromcurrent": true,
              "mode": "immediate",
              "transition": {
               "duration": 0,
               "easing": "linear"
              }
             }
            ],
            "label": "1969",
            "method": "animate"
           },
           {
            "args": [
             [
              "1970"
             ],
             {
              "frame": {
               "duration": 0,
               "redraw": true
              },
              "fromcurrent": true,
              "mode": "immediate",
              "transition": {
               "duration": 0,
               "easing": "linear"
              }
             }
            ],
            "label": "1970",
            "method": "animate"
           },
           {
            "args": [
             [
              "1971"
             ],
             {
              "frame": {
               "duration": 0,
               "redraw": true
              },
              "fromcurrent": true,
              "mode": "immediate",
              "transition": {
               "duration": 0,
               "easing": "linear"
              }
             }
            ],
            "label": "1971",
            "method": "animate"
           },
           {
            "args": [
             [
              "1972"
             ],
             {
              "frame": {
               "duration": 0,
               "redraw": true
              },
              "fromcurrent": true,
              "mode": "immediate",
              "transition": {
               "duration": 0,
               "easing": "linear"
              }
             }
            ],
            "label": "1972",
            "method": "animate"
           },
           {
            "args": [
             [
              "1973"
             ],
             {
              "frame": {
               "duration": 0,
               "redraw": true
              },
              "fromcurrent": true,
              "mode": "immediate",
              "transition": {
               "duration": 0,
               "easing": "linear"
              }
             }
            ],
            "label": "1973",
            "method": "animate"
           },
           {
            "args": [
             [
              "1974"
             ],
             {
              "frame": {
               "duration": 0,
               "redraw": true
              },
              "fromcurrent": true,
              "mode": "immediate",
              "transition": {
               "duration": 0,
               "easing": "linear"
              }
             }
            ],
            "label": "1974",
            "method": "animate"
           },
           {
            "args": [
             [
              "1975"
             ],
             {
              "frame": {
               "duration": 0,
               "redraw": true
              },
              "fromcurrent": true,
              "mode": "immediate",
              "transition": {
               "duration": 0,
               "easing": "linear"
              }
             }
            ],
            "label": "1975",
            "method": "animate"
           },
           {
            "args": [
             [
              "1976"
             ],
             {
              "frame": {
               "duration": 0,
               "redraw": true
              },
              "fromcurrent": true,
              "mode": "immediate",
              "transition": {
               "duration": 0,
               "easing": "linear"
              }
             }
            ],
            "label": "1976",
            "method": "animate"
           },
           {
            "args": [
             [
              "1977"
             ],
             {
              "frame": {
               "duration": 0,
               "redraw": true
              },
              "fromcurrent": true,
              "mode": "immediate",
              "transition": {
               "duration": 0,
               "easing": "linear"
              }
             }
            ],
            "label": "1977",
            "method": "animate"
           },
           {
            "args": [
             [
              "1978"
             ],
             {
              "frame": {
               "duration": 0,
               "redraw": true
              },
              "fromcurrent": true,
              "mode": "immediate",
              "transition": {
               "duration": 0,
               "easing": "linear"
              }
             }
            ],
            "label": "1978",
            "method": "animate"
           },
           {
            "args": [
             [
              "1979"
             ],
             {
              "frame": {
               "duration": 0,
               "redraw": true
              },
              "fromcurrent": true,
              "mode": "immediate",
              "transition": {
               "duration": 0,
               "easing": "linear"
              }
             }
            ],
            "label": "1979",
            "method": "animate"
           },
           {
            "args": [
             [
              "1980"
             ],
             {
              "frame": {
               "duration": 0,
               "redraw": true
              },
              "fromcurrent": true,
              "mode": "immediate",
              "transition": {
               "duration": 0,
               "easing": "linear"
              }
             }
            ],
            "label": "1980",
            "method": "animate"
           },
           {
            "args": [
             [
              "1981"
             ],
             {
              "frame": {
               "duration": 0,
               "redraw": true
              },
              "fromcurrent": true,
              "mode": "immediate",
              "transition": {
               "duration": 0,
               "easing": "linear"
              }
             }
            ],
            "label": "1981",
            "method": "animate"
           },
           {
            "args": [
             [
              "1982"
             ],
             {
              "frame": {
               "duration": 0,
               "redraw": true
              },
              "fromcurrent": true,
              "mode": "immediate",
              "transition": {
               "duration": 0,
               "easing": "linear"
              }
             }
            ],
            "label": "1982",
            "method": "animate"
           },
           {
            "args": [
             [
              "1983"
             ],
             {
              "frame": {
               "duration": 0,
               "redraw": true
              },
              "fromcurrent": true,
              "mode": "immediate",
              "transition": {
               "duration": 0,
               "easing": "linear"
              }
             }
            ],
            "label": "1983",
            "method": "animate"
           },
           {
            "args": [
             [
              "1984"
             ],
             {
              "frame": {
               "duration": 0,
               "redraw": true
              },
              "fromcurrent": true,
              "mode": "immediate",
              "transition": {
               "duration": 0,
               "easing": "linear"
              }
             }
            ],
            "label": "1984",
            "method": "animate"
           },
           {
            "args": [
             [
              "1985"
             ],
             {
              "frame": {
               "duration": 0,
               "redraw": true
              },
              "fromcurrent": true,
              "mode": "immediate",
              "transition": {
               "duration": 0,
               "easing": "linear"
              }
             }
            ],
            "label": "1985",
            "method": "animate"
           },
           {
            "args": [
             [
              "1986"
             ],
             {
              "frame": {
               "duration": 0,
               "redraw": true
              },
              "fromcurrent": true,
              "mode": "immediate",
              "transition": {
               "duration": 0,
               "easing": "linear"
              }
             }
            ],
            "label": "1986",
            "method": "animate"
           },
           {
            "args": [
             [
              "1987"
             ],
             {
              "frame": {
               "duration": 0,
               "redraw": true
              },
              "fromcurrent": true,
              "mode": "immediate",
              "transition": {
               "duration": 0,
               "easing": "linear"
              }
             }
            ],
            "label": "1987",
            "method": "animate"
           },
           {
            "args": [
             [
              "1988"
             ],
             {
              "frame": {
               "duration": 0,
               "redraw": true
              },
              "fromcurrent": true,
              "mode": "immediate",
              "transition": {
               "duration": 0,
               "easing": "linear"
              }
             }
            ],
            "label": "1988",
            "method": "animate"
           },
           {
            "args": [
             [
              "1989"
             ],
             {
              "frame": {
               "duration": 0,
               "redraw": true
              },
              "fromcurrent": true,
              "mode": "immediate",
              "transition": {
               "duration": 0,
               "easing": "linear"
              }
             }
            ],
            "label": "1989",
            "method": "animate"
           },
           {
            "args": [
             [
              "1990"
             ],
             {
              "frame": {
               "duration": 0,
               "redraw": true
              },
              "fromcurrent": true,
              "mode": "immediate",
              "transition": {
               "duration": 0,
               "easing": "linear"
              }
             }
            ],
            "label": "1990",
            "method": "animate"
           },
           {
            "args": [
             [
              "1991"
             ],
             {
              "frame": {
               "duration": 0,
               "redraw": true
              },
              "fromcurrent": true,
              "mode": "immediate",
              "transition": {
               "duration": 0,
               "easing": "linear"
              }
             }
            ],
            "label": "1991",
            "method": "animate"
           },
           {
            "args": [
             [
              "1992"
             ],
             {
              "frame": {
               "duration": 0,
               "redraw": true
              },
              "fromcurrent": true,
              "mode": "immediate",
              "transition": {
               "duration": 0,
               "easing": "linear"
              }
             }
            ],
            "label": "1992",
            "method": "animate"
           },
           {
            "args": [
             [
              "1993"
             ],
             {
              "frame": {
               "duration": 0,
               "redraw": true
              },
              "fromcurrent": true,
              "mode": "immediate",
              "transition": {
               "duration": 0,
               "easing": "linear"
              }
             }
            ],
            "label": "1993",
            "method": "animate"
           },
           {
            "args": [
             [
              "1994"
             ],
             {
              "frame": {
               "duration": 0,
               "redraw": true
              },
              "fromcurrent": true,
              "mode": "immediate",
              "transition": {
               "duration": 0,
               "easing": "linear"
              }
             }
            ],
            "label": "1994",
            "method": "animate"
           },
           {
            "args": [
             [
              "1995"
             ],
             {
              "frame": {
               "duration": 0,
               "redraw": true
              },
              "fromcurrent": true,
              "mode": "immediate",
              "transition": {
               "duration": 0,
               "easing": "linear"
              }
             }
            ],
            "label": "1995",
            "method": "animate"
           },
           {
            "args": [
             [
              "1996"
             ],
             {
              "frame": {
               "duration": 0,
               "redraw": true
              },
              "fromcurrent": true,
              "mode": "immediate",
              "transition": {
               "duration": 0,
               "easing": "linear"
              }
             }
            ],
            "label": "1996",
            "method": "animate"
           },
           {
            "args": [
             [
              "1997"
             ],
             {
              "frame": {
               "duration": 0,
               "redraw": true
              },
              "fromcurrent": true,
              "mode": "immediate",
              "transition": {
               "duration": 0,
               "easing": "linear"
              }
             }
            ],
            "label": "1997",
            "method": "animate"
           },
           {
            "args": [
             [
              "1998"
             ],
             {
              "frame": {
               "duration": 0,
               "redraw": true
              },
              "fromcurrent": true,
              "mode": "immediate",
              "transition": {
               "duration": 0,
               "easing": "linear"
              }
             }
            ],
            "label": "1998",
            "method": "animate"
           },
           {
            "args": [
             [
              "1999"
             ],
             {
              "frame": {
               "duration": 0,
               "redraw": true
              },
              "fromcurrent": true,
              "mode": "immediate",
              "transition": {
               "duration": 0,
               "easing": "linear"
              }
             }
            ],
            "label": "1999",
            "method": "animate"
           },
           {
            "args": [
             [
              "2000"
             ],
             {
              "frame": {
               "duration": 0,
               "redraw": true
              },
              "fromcurrent": true,
              "mode": "immediate",
              "transition": {
               "duration": 0,
               "easing": "linear"
              }
             }
            ],
            "label": "2000",
            "method": "animate"
           },
           {
            "args": [
             [
              "2001"
             ],
             {
              "frame": {
               "duration": 0,
               "redraw": true
              },
              "fromcurrent": true,
              "mode": "immediate",
              "transition": {
               "duration": 0,
               "easing": "linear"
              }
             }
            ],
            "label": "2001",
            "method": "animate"
           },
           {
            "args": [
             [
              "2002"
             ],
             {
              "frame": {
               "duration": 0,
               "redraw": true
              },
              "fromcurrent": true,
              "mode": "immediate",
              "transition": {
               "duration": 0,
               "easing": "linear"
              }
             }
            ],
            "label": "2002",
            "method": "animate"
           },
           {
            "args": [
             [
              "2003"
             ],
             {
              "frame": {
               "duration": 0,
               "redraw": true
              },
              "fromcurrent": true,
              "mode": "immediate",
              "transition": {
               "duration": 0,
               "easing": "linear"
              }
             }
            ],
            "label": "2003",
            "method": "animate"
           },
           {
            "args": [
             [
              "2004"
             ],
             {
              "frame": {
               "duration": 0,
               "redraw": true
              },
              "fromcurrent": true,
              "mode": "immediate",
              "transition": {
               "duration": 0,
               "easing": "linear"
              }
             }
            ],
            "label": "2004",
            "method": "animate"
           },
           {
            "args": [
             [
              "2005"
             ],
             {
              "frame": {
               "duration": 0,
               "redraw": true
              },
              "fromcurrent": true,
              "mode": "immediate",
              "transition": {
               "duration": 0,
               "easing": "linear"
              }
             }
            ],
            "label": "2005",
            "method": "animate"
           },
           {
            "args": [
             [
              "2006"
             ],
             {
              "frame": {
               "duration": 0,
               "redraw": true
              },
              "fromcurrent": true,
              "mode": "immediate",
              "transition": {
               "duration": 0,
               "easing": "linear"
              }
             }
            ],
            "label": "2006",
            "method": "animate"
           },
           {
            "args": [
             [
              "2007"
             ],
             {
              "frame": {
               "duration": 0,
               "redraw": true
              },
              "fromcurrent": true,
              "mode": "immediate",
              "transition": {
               "duration": 0,
               "easing": "linear"
              }
             }
            ],
            "label": "2007",
            "method": "animate"
           },
           {
            "args": [
             [
              "2008"
             ],
             {
              "frame": {
               "duration": 0,
               "redraw": true
              },
              "fromcurrent": true,
              "mode": "immediate",
              "transition": {
               "duration": 0,
               "easing": "linear"
              }
             }
            ],
            "label": "2008",
            "method": "animate"
           },
           {
            "args": [
             [
              "2009"
             ],
             {
              "frame": {
               "duration": 0,
               "redraw": true
              },
              "fromcurrent": true,
              "mode": "immediate",
              "transition": {
               "duration": 0,
               "easing": "linear"
              }
             }
            ],
            "label": "2009",
            "method": "animate"
           },
           {
            "args": [
             [
              "2010"
             ],
             {
              "frame": {
               "duration": 0,
               "redraw": true
              },
              "fromcurrent": true,
              "mode": "immediate",
              "transition": {
               "duration": 0,
               "easing": "linear"
              }
             }
            ],
            "label": "2010",
            "method": "animate"
           },
           {
            "args": [
             [
              "2011"
             ],
             {
              "frame": {
               "duration": 0,
               "redraw": true
              },
              "fromcurrent": true,
              "mode": "immediate",
              "transition": {
               "duration": 0,
               "easing": "linear"
              }
             }
            ],
            "label": "2011",
            "method": "animate"
           },
           {
            "args": [
             [
              "2012"
             ],
             {
              "frame": {
               "duration": 0,
               "redraw": true
              },
              "fromcurrent": true,
              "mode": "immediate",
              "transition": {
               "duration": 0,
               "easing": "linear"
              }
             }
            ],
            "label": "2012",
            "method": "animate"
           },
           {
            "args": [
             [
              "2013"
             ],
             {
              "frame": {
               "duration": 0,
               "redraw": true
              },
              "fromcurrent": true,
              "mode": "immediate",
              "transition": {
               "duration": 0,
               "easing": "linear"
              }
             }
            ],
            "label": "2013",
            "method": "animate"
           },
           {
            "args": [
             [
              "2014"
             ],
             {
              "frame": {
               "duration": 0,
               "redraw": true
              },
              "fromcurrent": true,
              "mode": "immediate",
              "transition": {
               "duration": 0,
               "easing": "linear"
              }
             }
            ],
            "label": "2014",
            "method": "animate"
           },
           {
            "args": [
             [
              "2015"
             ],
             {
              "frame": {
               "duration": 0,
               "redraw": true
              },
              "fromcurrent": true,
              "mode": "immediate",
              "transition": {
               "duration": 0,
               "easing": "linear"
              }
             }
            ],
            "label": "2015",
            "method": "animate"
           },
           {
            "args": [
             [
              "2016"
             ],
             {
              "frame": {
               "duration": 0,
               "redraw": true
              },
              "fromcurrent": true,
              "mode": "immediate",
              "transition": {
               "duration": 0,
               "easing": "linear"
              }
             }
            ],
            "label": "2016",
            "method": "animate"
           },
           {
            "args": [
             [
              "2017"
             ],
             {
              "frame": {
               "duration": 0,
               "redraw": true
              },
              "fromcurrent": true,
              "mode": "immediate",
              "transition": {
               "duration": 0,
               "easing": "linear"
              }
             }
            ],
            "label": "2017",
            "method": "animate"
           },
           {
            "args": [
             [
              "2018"
             ],
             {
              "frame": {
               "duration": 0,
               "redraw": true
              },
              "fromcurrent": true,
              "mode": "immediate",
              "transition": {
               "duration": 0,
               "easing": "linear"
              }
             }
            ],
            "label": "2018",
            "method": "animate"
           },
           {
            "args": [
             [
              "2019"
             ],
             {
              "frame": {
               "duration": 0,
               "redraw": true
              },
              "fromcurrent": true,
              "mode": "immediate",
              "transition": {
               "duration": 0,
               "easing": "linear"
              }
             }
            ],
            "label": "2019",
            "method": "animate"
           },
           {
            "args": [
             [
              "2020"
             ],
             {
              "frame": {
               "duration": 0,
               "redraw": true
              },
              "fromcurrent": true,
              "mode": "immediate",
              "transition": {
               "duration": 0,
               "easing": "linear"
              }
             }
            ],
            "label": "2020",
            "method": "animate"
           },
           {
            "args": [
             [
              "2021"
             ],
             {
              "frame": {
               "duration": 0,
               "redraw": true
              },
              "fromcurrent": true,
              "mode": "immediate",
              "transition": {
               "duration": 0,
               "easing": "linear"
              }
             }
            ],
            "label": "2021",
            "method": "animate"
           },
           {
            "args": [
             [
              "2022"
             ],
             {
              "frame": {
               "duration": 0,
               "redraw": true
              },
              "fromcurrent": true,
              "mode": "immediate",
              "transition": {
               "duration": 0,
               "easing": "linear"
              }
             }
            ],
            "label": "2022",
            "method": "animate"
           },
           {
            "args": [
             [
              "2023"
             ],
             {
              "frame": {
               "duration": 0,
               "redraw": true
              },
              "fromcurrent": true,
              "mode": "immediate",
              "transition": {
               "duration": 0,
               "easing": "linear"
              }
             }
            ],
            "label": "2023",
            "method": "animate"
           },
           {
            "args": [
             [
              "2024"
             ],
             {
              "frame": {
               "duration": 0,
               "redraw": true
              },
              "fromcurrent": true,
              "mode": "immediate",
              "transition": {
               "duration": 0,
               "easing": "linear"
              }
             }
            ],
            "label": "2024",
            "method": "animate"
           },
           {
            "args": [
             [
              "2025"
             ],
             {
              "frame": {
               "duration": 0,
               "redraw": true
              },
              "fromcurrent": true,
              "mode": "immediate",
              "transition": {
               "duration": 0,
               "easing": "linear"
              }
             }
            ],
            "label": "2025",
            "method": "animate"
           },
           {
            "args": [
             [
              "2026"
             ],
             {
              "frame": {
               "duration": 0,
               "redraw": true
              },
              "fromcurrent": true,
              "mode": "immediate",
              "transition": {
               "duration": 0,
               "easing": "linear"
              }
             }
            ],
            "label": "2026",
            "method": "animate"
           },
           {
            "args": [
             [
              "2027"
             ],
             {
              "frame": {
               "duration": 0,
               "redraw": true
              },
              "fromcurrent": true,
              "mode": "immediate",
              "transition": {
               "duration": 0,
               "easing": "linear"
              }
             }
            ],
            "label": "2027",
            "method": "animate"
           },
           {
            "args": [
             [
              "2028"
             ],
             {
              "frame": {
               "duration": 0,
               "redraw": true
              },
              "fromcurrent": true,
              "mode": "immediate",
              "transition": {
               "duration": 0,
               "easing": "linear"
              }
             }
            ],
            "label": "2028",
            "method": "animate"
           },
           {
            "args": [
             [
              "2029"
             ],
             {
              "frame": {
               "duration": 0,
               "redraw": true
              },
              "fromcurrent": true,
              "mode": "immediate",
              "transition": {
               "duration": 0,
               "easing": "linear"
              }
             }
            ],
            "label": "2029",
            "method": "animate"
           },
           {
            "args": [
             [
              "2030"
             ],
             {
              "frame": {
               "duration": 0,
               "redraw": true
              },
              "fromcurrent": true,
              "mode": "immediate",
              "transition": {
               "duration": 0,
               "easing": "linear"
              }
             }
            ],
            "label": "2030",
            "method": "animate"
           },
           {
            "args": [
             [
              "2031"
             ],
             {
              "frame": {
               "duration": 0,
               "redraw": true
              },
              "fromcurrent": true,
              "mode": "immediate",
              "transition": {
               "duration": 0,
               "easing": "linear"
              }
             }
            ],
            "label": "2031",
            "method": "animate"
           },
           {
            "args": [
             [
              "2032"
             ],
             {
              "frame": {
               "duration": 0,
               "redraw": true
              },
              "fromcurrent": true,
              "mode": "immediate",
              "transition": {
               "duration": 0,
               "easing": "linear"
              }
             }
            ],
            "label": "2032",
            "method": "animate"
           },
           {
            "args": [
             [
              "2033"
             ],
             {
              "frame": {
               "duration": 0,
               "redraw": true
              },
              "fromcurrent": true,
              "mode": "immediate",
              "transition": {
               "duration": 0,
               "easing": "linear"
              }
             }
            ],
            "label": "2033",
            "method": "animate"
           },
           {
            "args": [
             [
              "2034"
             ],
             {
              "frame": {
               "duration": 0,
               "redraw": true
              },
              "fromcurrent": true,
              "mode": "immediate",
              "transition": {
               "duration": 0,
               "easing": "linear"
              }
             }
            ],
            "label": "2034",
            "method": "animate"
           },
           {
            "args": [
             [
              "2035"
             ],
             {
              "frame": {
               "duration": 0,
               "redraw": true
              },
              "fromcurrent": true,
              "mode": "immediate",
              "transition": {
               "duration": 0,
               "easing": "linear"
              }
             }
            ],
            "label": "2035",
            "method": "animate"
           },
           {
            "args": [
             [
              "2036"
             ],
             {
              "frame": {
               "duration": 0,
               "redraw": true
              },
              "fromcurrent": true,
              "mode": "immediate",
              "transition": {
               "duration": 0,
               "easing": "linear"
              }
             }
            ],
            "label": "2036",
            "method": "animate"
           },
           {
            "args": [
             [
              "2037"
             ],
             {
              "frame": {
               "duration": 0,
               "redraw": true
              },
              "fromcurrent": true,
              "mode": "immediate",
              "transition": {
               "duration": 0,
               "easing": "linear"
              }
             }
            ],
            "label": "2037",
            "method": "animate"
           },
           {
            "args": [
             [
              "2038"
             ],
             {
              "frame": {
               "duration": 0,
               "redraw": true
              },
              "fromcurrent": true,
              "mode": "immediate",
              "transition": {
               "duration": 0,
               "easing": "linear"
              }
             }
            ],
            "label": "2038",
            "method": "animate"
           },
           {
            "args": [
             [
              "2039"
             ],
             {
              "frame": {
               "duration": 0,
               "redraw": true
              },
              "fromcurrent": true,
              "mode": "immediate",
              "transition": {
               "duration": 0,
               "easing": "linear"
              }
             }
            ],
            "label": "2039",
            "method": "animate"
           },
           {
            "args": [
             [
              "2040"
             ],
             {
              "frame": {
               "duration": 0,
               "redraw": true
              },
              "fromcurrent": true,
              "mode": "immediate",
              "transition": {
               "duration": 0,
               "easing": "linear"
              }
             }
            ],
            "label": "2040",
            "method": "animate"
           },
           {
            "args": [
             [
              "2041"
             ],
             {
              "frame": {
               "duration": 0,
               "redraw": true
              },
              "fromcurrent": true,
              "mode": "immediate",
              "transition": {
               "duration": 0,
               "easing": "linear"
              }
             }
            ],
            "label": "2041",
            "method": "animate"
           },
           {
            "args": [
             [
              "2042"
             ],
             {
              "frame": {
               "duration": 0,
               "redraw": true
              },
              "fromcurrent": true,
              "mode": "immediate",
              "transition": {
               "duration": 0,
               "easing": "linear"
              }
             }
            ],
            "label": "2042",
            "method": "animate"
           },
           {
            "args": [
             [
              "2043"
             ],
             {
              "frame": {
               "duration": 0,
               "redraw": true
              },
              "fromcurrent": true,
              "mode": "immediate",
              "transition": {
               "duration": 0,
               "easing": "linear"
              }
             }
            ],
            "label": "2043",
            "method": "animate"
           },
           {
            "args": [
             [
              "2044"
             ],
             {
              "frame": {
               "duration": 0,
               "redraw": true
              },
              "fromcurrent": true,
              "mode": "immediate",
              "transition": {
               "duration": 0,
               "easing": "linear"
              }
             }
            ],
            "label": "2044",
            "method": "animate"
           },
           {
            "args": [
             [
              "2045"
             ],
             {
              "frame": {
               "duration": 0,
               "redraw": true
              },
              "fromcurrent": true,
              "mode": "immediate",
              "transition": {
               "duration": 0,
               "easing": "linear"
              }
             }
            ],
            "label": "2045",
            "method": "animate"
           },
           {
            "args": [
             [
              "2046"
             ],
             {
              "frame": {
               "duration": 0,
               "redraw": true
              },
              "fromcurrent": true,
              "mode": "immediate",
              "transition": {
               "duration": 0,
               "easing": "linear"
              }
             }
            ],
            "label": "2046",
            "method": "animate"
           },
           {
            "args": [
             [
              "2047"
             ],
             {
              "frame": {
               "duration": 0,
               "redraw": true
              },
              "fromcurrent": true,
              "mode": "immediate",
              "transition": {
               "duration": 0,
               "easing": "linear"
              }
             }
            ],
            "label": "2047",
            "method": "animate"
           },
           {
            "args": [
             [
              "2048"
             ],
             {
              "frame": {
               "duration": 0,
               "redraw": true
              },
              "fromcurrent": true,
              "mode": "immediate",
              "transition": {
               "duration": 0,
               "easing": "linear"
              }
             }
            ],
            "label": "2048",
            "method": "animate"
           },
           {
            "args": [
             [
              "2049"
             ],
             {
              "frame": {
               "duration": 0,
               "redraw": true
              },
              "fromcurrent": true,
              "mode": "immediate",
              "transition": {
               "duration": 0,
               "easing": "linear"
              }
             }
            ],
            "label": "2049",
            "method": "animate"
           },
           {
            "args": [
             [
              "2050"
             ],
             {
              "frame": {
               "duration": 0,
               "redraw": true
              },
              "fromcurrent": true,
              "mode": "immediate",
              "transition": {
               "duration": 0,
               "easing": "linear"
              }
             }
            ],
            "label": "2050",
            "method": "animate"
           },
           {
            "args": [
             [
              "2051"
             ],
             {
              "frame": {
               "duration": 0,
               "redraw": true
              },
              "fromcurrent": true,
              "mode": "immediate",
              "transition": {
               "duration": 0,
               "easing": "linear"
              }
             }
            ],
            "label": "2051",
            "method": "animate"
           },
           {
            "args": [
             [
              "2052"
             ],
             {
              "frame": {
               "duration": 0,
               "redraw": true
              },
              "fromcurrent": true,
              "mode": "immediate",
              "transition": {
               "duration": 0,
               "easing": "linear"
              }
             }
            ],
            "label": "2052",
            "method": "animate"
           },
           {
            "args": [
             [
              "2053"
             ],
             {
              "frame": {
               "duration": 0,
               "redraw": true
              },
              "fromcurrent": true,
              "mode": "immediate",
              "transition": {
               "duration": 0,
               "easing": "linear"
              }
             }
            ],
            "label": "2053",
            "method": "animate"
           },
           {
            "args": [
             [
              "2054"
             ],
             {
              "frame": {
               "duration": 0,
               "redraw": true
              },
              "fromcurrent": true,
              "mode": "immediate",
              "transition": {
               "duration": 0,
               "easing": "linear"
              }
             }
            ],
            "label": "2054",
            "method": "animate"
           },
           {
            "args": [
             [
              "2055"
             ],
             {
              "frame": {
               "duration": 0,
               "redraw": true
              },
              "fromcurrent": true,
              "mode": "immediate",
              "transition": {
               "duration": 0,
               "easing": "linear"
              }
             }
            ],
            "label": "2055",
            "method": "animate"
           },
           {
            "args": [
             [
              "2056"
             ],
             {
              "frame": {
               "duration": 0,
               "redraw": true
              },
              "fromcurrent": true,
              "mode": "immediate",
              "transition": {
               "duration": 0,
               "easing": "linear"
              }
             }
            ],
            "label": "2056",
            "method": "animate"
           },
           {
            "args": [
             [
              "2057"
             ],
             {
              "frame": {
               "duration": 0,
               "redraw": true
              },
              "fromcurrent": true,
              "mode": "immediate",
              "transition": {
               "duration": 0,
               "easing": "linear"
              }
             }
            ],
            "label": "2057",
            "method": "animate"
           },
           {
            "args": [
             [
              "2058"
             ],
             {
              "frame": {
               "duration": 0,
               "redraw": true
              },
              "fromcurrent": true,
              "mode": "immediate",
              "transition": {
               "duration": 0,
               "easing": "linear"
              }
             }
            ],
            "label": "2058",
            "method": "animate"
           },
           {
            "args": [
             [
              "2059"
             ],
             {
              "frame": {
               "duration": 0,
               "redraw": true
              },
              "fromcurrent": true,
              "mode": "immediate",
              "transition": {
               "duration": 0,
               "easing": "linear"
              }
             }
            ],
            "label": "2059",
            "method": "animate"
           },
           {
            "args": [
             [
              "2060"
             ],
             {
              "frame": {
               "duration": 0,
               "redraw": true
              },
              "fromcurrent": true,
              "mode": "immediate",
              "transition": {
               "duration": 0,
               "easing": "linear"
              }
             }
            ],
            "label": "2060",
            "method": "animate"
           },
           {
            "args": [
             [
              "2061"
             ],
             {
              "frame": {
               "duration": 0,
               "redraw": true
              },
              "fromcurrent": true,
              "mode": "immediate",
              "transition": {
               "duration": 0,
               "easing": "linear"
              }
             }
            ],
            "label": "2061",
            "method": "animate"
           },
           {
            "args": [
             [
              "2062"
             ],
             {
              "frame": {
               "duration": 0,
               "redraw": true
              },
              "fromcurrent": true,
              "mode": "immediate",
              "transition": {
               "duration": 0,
               "easing": "linear"
              }
             }
            ],
            "label": "2062",
            "method": "animate"
           },
           {
            "args": [
             [
              "2063"
             ],
             {
              "frame": {
               "duration": 0,
               "redraw": true
              },
              "fromcurrent": true,
              "mode": "immediate",
              "transition": {
               "duration": 0,
               "easing": "linear"
              }
             }
            ],
            "label": "2063",
            "method": "animate"
           },
           {
            "args": [
             [
              "2064"
             ],
             {
              "frame": {
               "duration": 0,
               "redraw": true
              },
              "fromcurrent": true,
              "mode": "immediate",
              "transition": {
               "duration": 0,
               "easing": "linear"
              }
             }
            ],
            "label": "2064",
            "method": "animate"
           },
           {
            "args": [
             [
              "2065"
             ],
             {
              "frame": {
               "duration": 0,
               "redraw": true
              },
              "fromcurrent": true,
              "mode": "immediate",
              "transition": {
               "duration": 0,
               "easing": "linear"
              }
             }
            ],
            "label": "2065",
            "method": "animate"
           },
           {
            "args": [
             [
              "2066"
             ],
             {
              "frame": {
               "duration": 0,
               "redraw": true
              },
              "fromcurrent": true,
              "mode": "immediate",
              "transition": {
               "duration": 0,
               "easing": "linear"
              }
             }
            ],
            "label": "2066",
            "method": "animate"
           },
           {
            "args": [
             [
              "2067"
             ],
             {
              "frame": {
               "duration": 0,
               "redraw": true
              },
              "fromcurrent": true,
              "mode": "immediate",
              "transition": {
               "duration": 0,
               "easing": "linear"
              }
             }
            ],
            "label": "2067",
            "method": "animate"
           },
           {
            "args": [
             [
              "2068"
             ],
             {
              "frame": {
               "duration": 0,
               "redraw": true
              },
              "fromcurrent": true,
              "mode": "immediate",
              "transition": {
               "duration": 0,
               "easing": "linear"
              }
             }
            ],
            "label": "2068",
            "method": "animate"
           },
           {
            "args": [
             [
              "2069"
             ],
             {
              "frame": {
               "duration": 0,
               "redraw": true
              },
              "fromcurrent": true,
              "mode": "immediate",
              "transition": {
               "duration": 0,
               "easing": "linear"
              }
             }
            ],
            "label": "2069",
            "method": "animate"
           },
           {
            "args": [
             [
              "2070"
             ],
             {
              "frame": {
               "duration": 0,
               "redraw": true
              },
              "fromcurrent": true,
              "mode": "immediate",
              "transition": {
               "duration": 0,
               "easing": "linear"
              }
             }
            ],
            "label": "2070",
            "method": "animate"
           },
           {
            "args": [
             [
              "2071"
             ],
             {
              "frame": {
               "duration": 0,
               "redraw": true
              },
              "fromcurrent": true,
              "mode": "immediate",
              "transition": {
               "duration": 0,
               "easing": "linear"
              }
             }
            ],
            "label": "2071",
            "method": "animate"
           },
           {
            "args": [
             [
              "2072"
             ],
             {
              "frame": {
               "duration": 0,
               "redraw": true
              },
              "fromcurrent": true,
              "mode": "immediate",
              "transition": {
               "duration": 0,
               "easing": "linear"
              }
             }
            ],
            "label": "2072",
            "method": "animate"
           },
           {
            "args": [
             [
              "2073"
             ],
             {
              "frame": {
               "duration": 0,
               "redraw": true
              },
              "fromcurrent": true,
              "mode": "immediate",
              "transition": {
               "duration": 0,
               "easing": "linear"
              }
             }
            ],
            "label": "2073",
            "method": "animate"
           },
           {
            "args": [
             [
              "2074"
             ],
             {
              "frame": {
               "duration": 0,
               "redraw": true
              },
              "fromcurrent": true,
              "mode": "immediate",
              "transition": {
               "duration": 0,
               "easing": "linear"
              }
             }
            ],
            "label": "2074",
            "method": "animate"
           },
           {
            "args": [
             [
              "2075"
             ],
             {
              "frame": {
               "duration": 0,
               "redraw": true
              },
              "fromcurrent": true,
              "mode": "immediate",
              "transition": {
               "duration": 0,
               "easing": "linear"
              }
             }
            ],
            "label": "2075",
            "method": "animate"
           },
           {
            "args": [
             [
              "2076"
             ],
             {
              "frame": {
               "duration": 0,
               "redraw": true
              },
              "fromcurrent": true,
              "mode": "immediate",
              "transition": {
               "duration": 0,
               "easing": "linear"
              }
             }
            ],
            "label": "2076",
            "method": "animate"
           },
           {
            "args": [
             [
              "2077"
             ],
             {
              "frame": {
               "duration": 0,
               "redraw": true
              },
              "fromcurrent": true,
              "mode": "immediate",
              "transition": {
               "duration": 0,
               "easing": "linear"
              }
             }
            ],
            "label": "2077",
            "method": "animate"
           },
           {
            "args": [
             [
              "2078"
             ],
             {
              "frame": {
               "duration": 0,
               "redraw": true
              },
              "fromcurrent": true,
              "mode": "immediate",
              "transition": {
               "duration": 0,
               "easing": "linear"
              }
             }
            ],
            "label": "2078",
            "method": "animate"
           },
           {
            "args": [
             [
              "2079"
             ],
             {
              "frame": {
               "duration": 0,
               "redraw": true
              },
              "fromcurrent": true,
              "mode": "immediate",
              "transition": {
               "duration": 0,
               "easing": "linear"
              }
             }
            ],
            "label": "2079",
            "method": "animate"
           },
           {
            "args": [
             [
              "2080"
             ],
             {
              "frame": {
               "duration": 0,
               "redraw": true
              },
              "fromcurrent": true,
              "mode": "immediate",
              "transition": {
               "duration": 0,
               "easing": "linear"
              }
             }
            ],
            "label": "2080",
            "method": "animate"
           },
           {
            "args": [
             [
              "2081"
             ],
             {
              "frame": {
               "duration": 0,
               "redraw": true
              },
              "fromcurrent": true,
              "mode": "immediate",
              "transition": {
               "duration": 0,
               "easing": "linear"
              }
             }
            ],
            "label": "2081",
            "method": "animate"
           },
           {
            "args": [
             [
              "2082"
             ],
             {
              "frame": {
               "duration": 0,
               "redraw": true
              },
              "fromcurrent": true,
              "mode": "immediate",
              "transition": {
               "duration": 0,
               "easing": "linear"
              }
             }
            ],
            "label": "2082",
            "method": "animate"
           },
           {
            "args": [
             [
              "2083"
             ],
             {
              "frame": {
               "duration": 0,
               "redraw": true
              },
              "fromcurrent": true,
              "mode": "immediate",
              "transition": {
               "duration": 0,
               "easing": "linear"
              }
             }
            ],
            "label": "2083",
            "method": "animate"
           },
           {
            "args": [
             [
              "2084"
             ],
             {
              "frame": {
               "duration": 0,
               "redraw": true
              },
              "fromcurrent": true,
              "mode": "immediate",
              "transition": {
               "duration": 0,
               "easing": "linear"
              }
             }
            ],
            "label": "2084",
            "method": "animate"
           },
           {
            "args": [
             [
              "2085"
             ],
             {
              "frame": {
               "duration": 0,
               "redraw": true
              },
              "fromcurrent": true,
              "mode": "immediate",
              "transition": {
               "duration": 0,
               "easing": "linear"
              }
             }
            ],
            "label": "2085",
            "method": "animate"
           },
           {
            "args": [
             [
              "2086"
             ],
             {
              "frame": {
               "duration": 0,
               "redraw": true
              },
              "fromcurrent": true,
              "mode": "immediate",
              "transition": {
               "duration": 0,
               "easing": "linear"
              }
             }
            ],
            "label": "2086",
            "method": "animate"
           },
           {
            "args": [
             [
              "2087"
             ],
             {
              "frame": {
               "duration": 0,
               "redraw": true
              },
              "fromcurrent": true,
              "mode": "immediate",
              "transition": {
               "duration": 0,
               "easing": "linear"
              }
             }
            ],
            "label": "2087",
            "method": "animate"
           },
           {
            "args": [
             [
              "2088"
             ],
             {
              "frame": {
               "duration": 0,
               "redraw": true
              },
              "fromcurrent": true,
              "mode": "immediate",
              "transition": {
               "duration": 0,
               "easing": "linear"
              }
             }
            ],
            "label": "2088",
            "method": "animate"
           },
           {
            "args": [
             [
              "2089"
             ],
             {
              "frame": {
               "duration": 0,
               "redraw": true
              },
              "fromcurrent": true,
              "mode": "immediate",
              "transition": {
               "duration": 0,
               "easing": "linear"
              }
             }
            ],
            "label": "2089",
            "method": "animate"
           },
           {
            "args": [
             [
              "2090"
             ],
             {
              "frame": {
               "duration": 0,
               "redraw": true
              },
              "fromcurrent": true,
              "mode": "immediate",
              "transition": {
               "duration": 0,
               "easing": "linear"
              }
             }
            ],
            "label": "2090",
            "method": "animate"
           },
           {
            "args": [
             [
              "2091"
             ],
             {
              "frame": {
               "duration": 0,
               "redraw": true
              },
              "fromcurrent": true,
              "mode": "immediate",
              "transition": {
               "duration": 0,
               "easing": "linear"
              }
             }
            ],
            "label": "2091",
            "method": "animate"
           },
           {
            "args": [
             [
              "2092"
             ],
             {
              "frame": {
               "duration": 0,
               "redraw": true
              },
              "fromcurrent": true,
              "mode": "immediate",
              "transition": {
               "duration": 0,
               "easing": "linear"
              }
             }
            ],
            "label": "2092",
            "method": "animate"
           },
           {
            "args": [
             [
              "2093"
             ],
             {
              "frame": {
               "duration": 0,
               "redraw": true
              },
              "fromcurrent": true,
              "mode": "immediate",
              "transition": {
               "duration": 0,
               "easing": "linear"
              }
             }
            ],
            "label": "2093",
            "method": "animate"
           },
           {
            "args": [
             [
              "2094"
             ],
             {
              "frame": {
               "duration": 0,
               "redraw": true
              },
              "fromcurrent": true,
              "mode": "immediate",
              "transition": {
               "duration": 0,
               "easing": "linear"
              }
             }
            ],
            "label": "2094",
            "method": "animate"
           },
           {
            "args": [
             [
              "2095"
             ],
             {
              "frame": {
               "duration": 0,
               "redraw": true
              },
              "fromcurrent": true,
              "mode": "immediate",
              "transition": {
               "duration": 0,
               "easing": "linear"
              }
             }
            ],
            "label": "2095",
            "method": "animate"
           },
           {
            "args": [
             [
              "2096"
             ],
             {
              "frame": {
               "duration": 0,
               "redraw": true
              },
              "fromcurrent": true,
              "mode": "immediate",
              "transition": {
               "duration": 0,
               "easing": "linear"
              }
             }
            ],
            "label": "2096",
            "method": "animate"
           },
           {
            "args": [
             [
              "2097"
             ],
             {
              "frame": {
               "duration": 0,
               "redraw": true
              },
              "fromcurrent": true,
              "mode": "immediate",
              "transition": {
               "duration": 0,
               "easing": "linear"
              }
             }
            ],
            "label": "2097",
            "method": "animate"
           },
           {
            "args": [
             [
              "2098"
             ],
             {
              "frame": {
               "duration": 0,
               "redraw": true
              },
              "fromcurrent": true,
              "mode": "immediate",
              "transition": {
               "duration": 0,
               "easing": "linear"
              }
             }
            ],
            "label": "2098",
            "method": "animate"
           },
           {
            "args": [
             [
              "2099"
             ],
             {
              "frame": {
               "duration": 0,
               "redraw": true
              },
              "fromcurrent": true,
              "mode": "immediate",
              "transition": {
               "duration": 0,
               "easing": "linear"
              }
             }
            ],
            "label": "2099",
            "method": "animate"
           },
           {
            "args": [
             [
              "2100"
             ],
             {
              "frame": {
               "duration": 0,
               "redraw": true
              },
              "fromcurrent": true,
              "mode": "immediate",
              "transition": {
               "duration": 0,
               "easing": "linear"
              }
             }
            ],
            "label": "2100",
            "method": "animate"
           }
          ],
          "x": 0.1,
          "xanchor": "left",
          "y": 0,
          "yanchor": "top"
         }
        ],
        "template": {
         "data": {
          "bar": [
           {
            "error_x": {
             "color": "#f2f5fa"
            },
            "error_y": {
             "color": "#f2f5fa"
            },
            "marker": {
             "line": {
              "color": "rgb(17,17,17)",
              "width": 0.5
             },
             "pattern": {
              "fillmode": "overlay",
              "size": 10,
              "solidity": 0.2
             }
            },
            "type": "bar"
           }
          ],
          "barpolar": [
           {
            "marker": {
             "line": {
              "color": "rgb(17,17,17)",
              "width": 0.5
             },
             "pattern": {
              "fillmode": "overlay",
              "size": 10,
              "solidity": 0.2
             }
            },
            "type": "barpolar"
           }
          ],
          "carpet": [
           {
            "aaxis": {
             "endlinecolor": "#A2B1C6",
             "gridcolor": "#506784",
             "linecolor": "#506784",
             "minorgridcolor": "#506784",
             "startlinecolor": "#A2B1C6"
            },
            "baxis": {
             "endlinecolor": "#A2B1C6",
             "gridcolor": "#506784",
             "linecolor": "#506784",
             "minorgridcolor": "#506784",
             "startlinecolor": "#A2B1C6"
            },
            "type": "carpet"
           }
          ],
          "choropleth": [
           {
            "colorbar": {
             "outlinewidth": 0,
             "ticks": ""
            },
            "type": "choropleth"
           }
          ],
          "contour": [
           {
            "colorbar": {
             "outlinewidth": 0,
             "ticks": ""
            },
            "colorscale": [
             [
              0,
              "#0d0887"
             ],
             [
              0.1111111111111111,
              "#46039f"
             ],
             [
              0.2222222222222222,
              "#7201a8"
             ],
             [
              0.3333333333333333,
              "#9c179e"
             ],
             [
              0.4444444444444444,
              "#bd3786"
             ],
             [
              0.5555555555555556,
              "#d8576b"
             ],
             [
              0.6666666666666666,
              "#ed7953"
             ],
             [
              0.7777777777777778,
              "#fb9f3a"
             ],
             [
              0.8888888888888888,
              "#fdca26"
             ],
             [
              1,
              "#f0f921"
             ]
            ],
            "type": "contour"
           }
          ],
          "contourcarpet": [
           {
            "colorbar": {
             "outlinewidth": 0,
             "ticks": ""
            },
            "type": "contourcarpet"
           }
          ],
          "heatmap": [
           {
            "colorbar": {
             "outlinewidth": 0,
             "ticks": ""
            },
            "colorscale": [
             [
              0,
              "#0d0887"
             ],
             [
              0.1111111111111111,
              "#46039f"
             ],
             [
              0.2222222222222222,
              "#7201a8"
             ],
             [
              0.3333333333333333,
              "#9c179e"
             ],
             [
              0.4444444444444444,
              "#bd3786"
             ],
             [
              0.5555555555555556,
              "#d8576b"
             ],
             [
              0.6666666666666666,
              "#ed7953"
             ],
             [
              0.7777777777777778,
              "#fb9f3a"
             ],
             [
              0.8888888888888888,
              "#fdca26"
             ],
             [
              1,
              "#f0f921"
             ]
            ],
            "type": "heatmap"
           }
          ],
          "histogram": [
           {
            "marker": {
             "pattern": {
              "fillmode": "overlay",
              "size": 10,
              "solidity": 0.2
             }
            },
            "type": "histogram"
           }
          ],
          "histogram2d": [
           {
            "colorbar": {
             "outlinewidth": 0,
             "ticks": ""
            },
            "colorscale": [
             [
              0,
              "#0d0887"
             ],
             [
              0.1111111111111111,
              "#46039f"
             ],
             [
              0.2222222222222222,
              "#7201a8"
             ],
             [
              0.3333333333333333,
              "#9c179e"
             ],
             [
              0.4444444444444444,
              "#bd3786"
             ],
             [
              0.5555555555555556,
              "#d8576b"
             ],
             [
              0.6666666666666666,
              "#ed7953"
             ],
             [
              0.7777777777777778,
              "#fb9f3a"
             ],
             [
              0.8888888888888888,
              "#fdca26"
             ],
             [
              1,
              "#f0f921"
             ]
            ],
            "type": "histogram2d"
           }
          ],
          "histogram2dcontour": [
           {
            "colorbar": {
             "outlinewidth": 0,
             "ticks": ""
            },
            "colorscale": [
             [
              0,
              "#0d0887"
             ],
             [
              0.1111111111111111,
              "#46039f"
             ],
             [
              0.2222222222222222,
              "#7201a8"
             ],
             [
              0.3333333333333333,
              "#9c179e"
             ],
             [
              0.4444444444444444,
              "#bd3786"
             ],
             [
              0.5555555555555556,
              "#d8576b"
             ],
             [
              0.6666666666666666,
              "#ed7953"
             ],
             [
              0.7777777777777778,
              "#fb9f3a"
             ],
             [
              0.8888888888888888,
              "#fdca26"
             ],
             [
              1,
              "#f0f921"
             ]
            ],
            "type": "histogram2dcontour"
           }
          ],
          "mesh3d": [
           {
            "colorbar": {
             "outlinewidth": 0,
             "ticks": ""
            },
            "type": "mesh3d"
           }
          ],
          "parcoords": [
           {
            "line": {
             "colorbar": {
              "outlinewidth": 0,
              "ticks": ""
             }
            },
            "type": "parcoords"
           }
          ],
          "pie": [
           {
            "automargin": true,
            "type": "pie"
           }
          ],
          "scatter": [
           {
            "marker": {
             "line": {
              "color": "#283442"
             }
            },
            "type": "scatter"
           }
          ],
          "scatter3d": [
           {
            "line": {
             "colorbar": {
              "outlinewidth": 0,
              "ticks": ""
             }
            },
            "marker": {
             "colorbar": {
              "outlinewidth": 0,
              "ticks": ""
             }
            },
            "type": "scatter3d"
           }
          ],
          "scattercarpet": [
           {
            "marker": {
             "colorbar": {
              "outlinewidth": 0,
              "ticks": ""
             }
            },
            "type": "scattercarpet"
           }
          ],
          "scattergeo": [
           {
            "marker": {
             "colorbar": {
              "outlinewidth": 0,
              "ticks": ""
             }
            },
            "type": "scattergeo"
           }
          ],
          "scattergl": [
           {
            "marker": {
             "line": {
              "color": "#283442"
             }
            },
            "type": "scattergl"
           }
          ],
          "scattermap": [
           {
            "marker": {
             "colorbar": {
              "outlinewidth": 0,
              "ticks": ""
             }
            },
            "type": "scattermap"
           }
          ],
          "scattermapbox": [
           {
            "marker": {
             "colorbar": {
              "outlinewidth": 0,
              "ticks": ""
             }
            },
            "type": "scattermapbox"
           }
          ],
          "scatterpolar": [
           {
            "marker": {
             "colorbar": {
              "outlinewidth": 0,
              "ticks": ""
             }
            },
            "type": "scatterpolar"
           }
          ],
          "scatterpolargl": [
           {
            "marker": {
             "colorbar": {
              "outlinewidth": 0,
              "ticks": ""
             }
            },
            "type": "scatterpolargl"
           }
          ],
          "scatterternary": [
           {
            "marker": {
             "colorbar": {
              "outlinewidth": 0,
              "ticks": ""
             }
            },
            "type": "scatterternary"
           }
          ],
          "surface": [
           {
            "colorbar": {
             "outlinewidth": 0,
             "ticks": ""
            },
            "colorscale": [
             [
              0,
              "#0d0887"
             ],
             [
              0.1111111111111111,
              "#46039f"
             ],
             [
              0.2222222222222222,
              "#7201a8"
             ],
             [
              0.3333333333333333,
              "#9c179e"
             ],
             [
              0.4444444444444444,
              "#bd3786"
             ],
             [
              0.5555555555555556,
              "#d8576b"
             ],
             [
              0.6666666666666666,
              "#ed7953"
             ],
             [
              0.7777777777777778,
              "#fb9f3a"
             ],
             [
              0.8888888888888888,
              "#fdca26"
             ],
             [
              1,
              "#f0f921"
             ]
            ],
            "type": "surface"
           }
          ],
          "table": [
           {
            "cells": {
             "fill": {
              "color": "#506784"
             },
             "line": {
              "color": "rgb(17,17,17)"
             }
            },
            "header": {
             "fill": {
              "color": "#2a3f5f"
             },
             "line": {
              "color": "rgb(17,17,17)"
             }
            },
            "type": "table"
           }
          ]
         },
         "layout": {
          "annotationdefaults": {
           "arrowcolor": "#f2f5fa",
           "arrowhead": 0,
           "arrowwidth": 1
          },
          "autotypenumbers": "strict",
          "coloraxis": {
           "colorbar": {
            "outlinewidth": 0,
            "ticks": ""
           }
          },
          "colorscale": {
           "diverging": [
            [
             0,
             "#8e0152"
            ],
            [
             0.1,
             "#c51b7d"
            ],
            [
             0.2,
             "#de77ae"
            ],
            [
             0.3,
             "#f1b6da"
            ],
            [
             0.4,
             "#fde0ef"
            ],
            [
             0.5,
             "#f7f7f7"
            ],
            [
             0.6,
             "#e6f5d0"
            ],
            [
             0.7,
             "#b8e186"
            ],
            [
             0.8,
             "#7fbc41"
            ],
            [
             0.9,
             "#4d9221"
            ],
            [
             1,
             "#276419"
            ]
           ],
           "sequential": [
            [
             0,
             "#0d0887"
            ],
            [
             0.1111111111111111,
             "#46039f"
            ],
            [
             0.2222222222222222,
             "#7201a8"
            ],
            [
             0.3333333333333333,
             "#9c179e"
            ],
            [
             0.4444444444444444,
             "#bd3786"
            ],
            [
             0.5555555555555556,
             "#d8576b"
            ],
            [
             0.6666666666666666,
             "#ed7953"
            ],
            [
             0.7777777777777778,
             "#fb9f3a"
            ],
            [
             0.8888888888888888,
             "#fdca26"
            ],
            [
             1,
             "#f0f921"
            ]
           ],
           "sequentialminus": [
            [
             0,
             "#0d0887"
            ],
            [
             0.1111111111111111,
             "#46039f"
            ],
            [
             0.2222222222222222,
             "#7201a8"
            ],
            [
             0.3333333333333333,
             "#9c179e"
            ],
            [
             0.4444444444444444,
             "#bd3786"
            ],
            [
             0.5555555555555556,
             "#d8576b"
            ],
            [
             0.6666666666666666,
             "#ed7953"
            ],
            [
             0.7777777777777778,
             "#fb9f3a"
            ],
            [
             0.8888888888888888,
             "#fdca26"
            ],
            [
             1,
             "#f0f921"
            ]
           ]
          },
          "colorway": [
           "#636efa",
           "#EF553B",
           "#00cc96",
           "#ab63fa",
           "#FFA15A",
           "#19d3f3",
           "#FF6692",
           "#B6E880",
           "#FF97FF",
           "#FECB52"
          ],
          "font": {
           "color": "#f2f5fa"
          },
          "geo": {
           "bgcolor": "rgb(17,17,17)",
           "lakecolor": "rgb(17,17,17)",
           "landcolor": "rgb(17,17,17)",
           "showlakes": true,
           "showland": true,
           "subunitcolor": "#506784"
          },
          "hoverlabel": {
           "align": "left"
          },
          "hovermode": "closest",
          "mapbox": {
           "style": "dark"
          },
          "paper_bgcolor": "rgb(17,17,17)",
          "plot_bgcolor": "rgb(17,17,17)",
          "polar": {
           "angularaxis": {
            "gridcolor": "#506784",
            "linecolor": "#506784",
            "ticks": ""
           },
           "bgcolor": "rgb(17,17,17)",
           "radialaxis": {
            "gridcolor": "#506784",
            "linecolor": "#506784",
            "ticks": ""
           }
          },
          "scene": {
           "xaxis": {
            "backgroundcolor": "rgb(17,17,17)",
            "gridcolor": "#506784",
            "gridwidth": 2,
            "linecolor": "#506784",
            "showbackground": true,
            "ticks": "",
            "zerolinecolor": "#C8D4E3"
           },
           "yaxis": {
            "backgroundcolor": "rgb(17,17,17)",
            "gridcolor": "#506784",
            "gridwidth": 2,
            "linecolor": "#506784",
            "showbackground": true,
            "ticks": "",
            "zerolinecolor": "#C8D4E3"
           },
           "zaxis": {
            "backgroundcolor": "rgb(17,17,17)",
            "gridcolor": "#506784",
            "gridwidth": 2,
            "linecolor": "#506784",
            "showbackground": true,
            "ticks": "",
            "zerolinecolor": "#C8D4E3"
           }
          },
          "shapedefaults": {
           "line": {
            "color": "#f2f5fa"
           }
          },
          "sliderdefaults": {
           "bgcolor": "#C8D4E3",
           "bordercolor": "rgb(17,17,17)",
           "borderwidth": 1,
           "tickwidth": 0
          },
          "ternary": {
           "aaxis": {
            "gridcolor": "#506784",
            "linecolor": "#506784",
            "ticks": ""
           },
           "baxis": {
            "gridcolor": "#506784",
            "linecolor": "#506784",
            "ticks": ""
           },
           "bgcolor": "rgb(17,17,17)",
           "caxis": {
            "gridcolor": "#506784",
            "linecolor": "#506784",
            "ticks": ""
           }
          },
          "title": {
           "x": 0.05
          },
          "updatemenudefaults": {
           "bgcolor": "#506784",
           "borderwidth": 0
          },
          "xaxis": {
           "automargin": true,
           "gridcolor": "#283442",
           "linecolor": "#506784",
           "ticks": "",
           "title": {
            "standoff": 15
           },
           "zerolinecolor": "#283442",
           "zerolinewidth": 2
          },
          "yaxis": {
           "automargin": true,
           "gridcolor": "#283442",
           "linecolor": "#506784",
           "ticks": "",
           "title": {
            "standoff": 15
           },
           "zerolinecolor": "#283442",
           "zerolinewidth": 2
          }
         }
        },
        "title": {
         "text": "Medianes Alter nach Region (1950-2100)"
        },
        "updatemenus": [
         {
          "buttons": [
           {
            "args": [
             null,
             {
              "frame": {
               "duration": 100,
               "redraw": true
              },
              "fromcurrent": true,
              "mode": "immediate",
              "transition": {
               "duration": 50,
               "easing": "linear"
              }
             }
            ],
            "label": "&#9654;",
            "method": "animate"
           },
           {
            "args": [
             [
              null
             ],
             {
              "frame": {
               "duration": 0,
               "redraw": true
              },
              "fromcurrent": true,
              "mode": "immediate",
              "transition": {
               "duration": 0,
               "easing": "linear"
              }
             }
            ],
            "label": "&#9724;",
            "method": "animate"
           }
          ],
          "direction": "left",
          "pad": {
           "r": 10,
           "t": 70
          },
          "showactive": false,
          "type": "buttons",
          "x": 0.1,
          "xanchor": "right",
          "y": 0,
          "yanchor": "top"
         }
        ],
        "width": 800,
        "xaxis": {
         "anchor": "y",
         "categoryarray": [
          "Africa (UN)",
          "Asia (UN)",
          "Europe (UN)",
          "United States"
         ],
         "categoryorder": "array",
         "domain": [
          0,
          1
         ],
         "title": {
          "text": "Region"
         }
        },
        "yaxis": {
         "anchor": "x",
         "domain": [
          0,
          1
         ],
         "range": [
          0,
          53.480900000000005
         ],
         "title": {
          "text": "Medianes Alter (Jahre)"
         }
        }
       }
      }
     },
     "metadata": {},
     "output_type": "display_data"
    }
   ],
   "source": [
    "import plotly.express as px\n",
    "import pandas as pd\n",
    "import numpy as np\n",
    "\n",
    "# Filtern der gewünschten Regionen\n",
    "regions = [\"Asia (UN)\", \"Europe (UN)\", \"United States\", \"Africa (UN)\"]\n",
    "filtered_df = median_df[median_df[\"entities\"].isin(regions)].copy()\n",
    "\n",
    "# Die Spalten für das mediane Alter\n",
    "estimates_column = \"median_age__sex_all__age_all__variant_estimates\"\n",
    "medium_column = \"median_age__sex_all__age_all__variant_medium\"\n",
    "\n",
    "# Neue Spalte erstellen, die beide Datenquellen kombiniert\n",
    "filtered_df[\"median_age_combined\"] = np.where(\n",
    "    filtered_df[estimates_column].notna(),\n",
    "    filtered_df[estimates_column],\n",
    "    filtered_df[medium_column]\n",
    ")\n",
    "\n",
    "# Erstelle eine Textspalte mit \"Projected\" für Jahre nach 2023\n",
    "filtered_df[\"custom_text\"] = filtered_df.apply(\n",
    "    lambda row: f\"{row['median_age_combined']:.1f}<br><span style='color:#edeaa8;font-size:12px'>Projected</span>\" \n",
    "    if row[\"years\"] > 2023 \n",
    "    else f\"{row['median_age_combined']:.1f}\", \n",
    "    axis=1\n",
    ")\n",
    "\n",
    "# Animiertes Balkendiagramm erstellen\n",
    "fig = px.bar(\n",
    "    filtered_df,\n",
    "    x=\"entities\",\n",
    "    y=\"median_age_combined\",\n",
    "    color=\"entities\",\n",
    "    animation_frame=\"years\",\n",
    "    range_y=[0, filtered_df[\"median_age_combined\"].max() * 1.1],\n",
    "    title=\"Medianes Alter nach Region (1950-2100)\",\n",
    "    labels={\n",
    "        \"entities\": \"Region\", \n",
    "        \"median_age_combined\": \"Medianes Alter (Jahre)\",\n",
    "        \"years\": \"Jahr\"\n",
    "    },\n",
    "    text=\"custom_text\"  # Verwende die benutzerdefinierte Textspalte\n",
    ")\n",
    "\n",
    "# Layout anpassen\n",
    "fig.update_layout(\n",
    "    template=\"plotly_dark\",\n",
    "    legend_title=\"Region\",\n",
    "    font=dict(size=14),\n",
    "    height=600,\n",
    "    width=800\n",
    ")\n",
    "\n",
    "# Textposition anpassen\n",
    "fig.update_traces(textposition=\"outside\")\n",
    "\n",
    "# Animation anpassen\n",
    "fig.layout.updatemenus[0].buttons[0].args[1][\"frame\"][\"duration\"] = 100\n",
    "fig.layout.updatemenus[0].buttons[0].args[1][\"transition\"][\"duration\"] = 50\n",
    "\n",
    "# Anzeigen der Grafik\n",
    "fig.show()"
   ]
  },
  {
   "cell_type": "code",
   "execution_count": 37,
   "metadata": {},
   "outputs": [
    {
     "data": {
      "application/vnd.plotly.v1+json": {
       "config": {
        "plotlyServerURL": "https://plot.ly"
       },
       "data": [
        {
         "hovertemplate": "Region=Africa (UN)<br>Jahr=%{x}<br>Medianes Alter (Jahre)=%{y}<extra></extra>",
         "legendgroup": "Africa (UN)",
         "line": {
          "color": "rgb(127, 60, 141)",
          "dash": "solid",
          "shape": "spline"
         },
         "marker": {
          "symbol": "circle"
         },
         "mode": "lines+markers",
         "name": "Africa (UN)",
         "orientation": "v",
         "showlegend": true,
         "type": "scatter",
         "x": {
          "bdata": "ngefB6AHoQeiB6MHpAelB6YHpweoB6kHqgerB6wHrQeuB68HsAexB7IHswe0B7UHtge3B7gHuQe6B7sHvAe9B74HvwfAB8EHwgfDB8QHxQfGB8cHyAfJB8oHywfMB80HzgfPB9AH0QfSB9MH1AfVB9YH1wfYB9kH2gfbB9wH3QfeB98H4AfhB+IH4wfkB+UH5gfnB+gH6QfqB+sH7AftB+4H7wfwB/EH8gfzB/QH9Qf2B/cH+Af5B/oH+wf8B/0H/gf/BwAIAQgCCAMIBAgFCAYIBwgICAkICggLCAwIDQgOCA8IEAgRCBIIEwgUCBUIFggXCBgIGQgaCBsIHAgdCB4IHwggCCEIIggjCCQIJQgmCCcIKAgpCCoIKwgsCC0ILggvCDAIMQgyCDMINAg=",
          "dtype": "i2"
         },
         "xaxis": "x",
         "y": {
          "bdata": "CKwcWmQbMkC0yHa+nxoyQIPAyqFFFjJAWmQ7308NMkDHSzeJQQAyQOOlm8Qg8DFAy6FFtvPdMUB9PzVeuskxQFK4HoXrsTFA16NwPQqXMUAj2/l+anwxQDEIrBxaZDFAAiuHFtlOMUBCYOXQIjsxQESLbOf7KTFAYOXQItsZMUAtsp3vpwYxQMUgsHJo8TBABFYOLbLdMEDsUbgehcswQEJg5dAiuzBAXrpJDAKrMEDP91PjpZswQOf7qfHSjTBA/Knx0k2CMECe76fGS3cwQESLbOf7aTBAWDm0yHZeMEC4HoXrUVgwQIcW2c73UzBAqvHSTWJQMEDn+6nx0k0wQFpkO99PTTBA46WbxCBQMECHFtnO91MwQPLSTWIQWDBAd76fGi9dMEDdJAaBlWMwQAaBlUOLbDBA16NwPQp3MEAxCKwcWoQwQG3n+6nxkjBAH4XrUbieMEDn+6nx0q0wQKwcWmQ7vzBAsp3vp8bLMECLbOf7qdEwQHsUrkfh2jBAqvHSTWLwMEC28/3UeAkxQBsv3SQGITFAK4cW2c43MUA730+Nl04xQIXrUbgeZTFAexSuR+F6MUACK4cW2Y4xQMdLN4lBoDFAHVpkO9+vMUBzaJHtfL8xQMl2vp8azzFAy6FFtvPdMUDNzMzMzOwxQCPb+X5q/DFAzczMzMwMMkAj2/l+ahwyQAaBlUOLLDJABFYOLbI9MkBSuB6F61EyQLKd76fGazJA1XjpJjGIMkCgGi/dJKYyQL6fGi/dxDJAvp8aL93kMkDVeOkmMQgzQAAAAAAAAPh/AAAAAAAA+H8AAAAAAAD4fwAAAAAAAPh/AAAAAAAA+H8AAAAAAAD4fwAAAAAAAPh/AAAAAAAA+H8AAAAAAAD4fwAAAAAAAPh/AAAAAAAA+H8AAAAAAAD4fwAAAAAAAPh/AAAAAAAA+H8AAAAAAAD4fwAAAAAAAPh/AAAAAAAA+H8AAAAAAAD4fwAAAAAAAPh/AAAAAAAA+H8AAAAAAAD4fwAAAAAAAPh/AAAAAAAA+H8AAAAAAAD4fwAAAAAAAPh/AAAAAAAA+H8AAAAAAAD4fwAAAAAAAPh/AAAAAAAA+H8AAAAAAAD4fwAAAAAAAPh/AAAAAAAA+H8AAAAAAAD4fwAAAAAAAPh/AAAAAAAA+H8AAAAAAAD4fwAAAAAAAPh/AAAAAAAA+H8AAAAAAAD4fwAAAAAAAPh/AAAAAAAA+H8AAAAAAAD4fwAAAAAAAPh/AAAAAAAA+H8AAAAAAAD4fwAAAAAAAPh/AAAAAAAA+H8AAAAAAAD4fwAAAAAAAPh/AAAAAAAA+H8AAAAAAAD4fwAAAAAAAPh/AAAAAAAA+H8AAAAAAAD4fwAAAAAAAPh/AAAAAAAA+H8AAAAAAAD4fwAAAAAAAPh/AAAAAAAA+H8AAAAAAAD4fwAAAAAAAPh/AAAAAAAA+H8AAAAAAAD4fwAAAAAAAPh/AAAAAAAA+H8AAAAAAAD4fwAAAAAAAPh/AAAAAAAA+H8AAAAAAAD4fwAAAAAAAPh/AAAAAAAA+H8AAAAAAAD4fwAAAAAAAPh/AAAAAAAA+H8AAAAAAAD4fwAAAAAAAPh/AAAAAAAA+H8=",
          "dtype": "f8"
         },
         "yaxis": "y"
        },
        {
         "hovertemplate": "Region=Asia (UN)<br>Jahr=%{x}<br>Medianes Alter (Jahre)=%{y}<extra></extra>",
         "legendgroup": "Asia (UN)",
         "line": {
          "color": "rgb(17, 165, 121)",
          "dash": "solid",
          "shape": "spline"
         },
         "marker": {
          "symbol": "circle"
         },
         "mode": "lines+markers",
         "name": "Asia (UN)",
         "orientation": "v",
         "showlegend": true,
         "type": "scatter",
         "x": {
          "bdata": "ngefB6AHoQeiB6MHpAelB6YHpweoB6kHqgerB6wHrQeuB68HsAexB7IHswe0B7UHtge3B7gHuQe6B7sHvAe9B74HvwfAB8EHwgfDB8QHxQfGB8cHyAfJB8oHywfMB80HzgfPB9AH0QfSB9MH1AfVB9YH1wfYB9kH2gfbB9wH3QfeB98H4AfhB+IH4wfkB+UH5gfnB+gH6QfqB+sH7AftB+4H7wfwB/EH8gfzB/QH9Qf2B/cH+Af5B/oH+wf8B/0H/gf/BwAIAQgCCAMIBAgFCAYIBwgICAkICggLCAwIDQgOCA8IEAgRCBIIEwgUCBUIFggXCBgIGQgaCBsIHAgdCB4IHwggCCEIIggjCCQIJQgmCCcIKAgpCCoIKwgsCC0ILggvCDAIMQgyCDMINAg=",
          "dtype": "i2"
         },
         "xaxis": "x",
         "y": {
          "bdata": "5/up8dKNNEDByqFFtnM0QLx0kxgEVjRA2/l+arw0NEBGtvP91Bg0QLByaJHt/DNAUI2XbhLjM0BMN4lBYMUzQNnO91PjpTNA2/l+aryUM0BWDi2ynY8zQMl2vp8ajzNAvHSTGAR2M0CHFtnO9zMzQD81XrpJ7DJAi2zn+6mxMkDwp8ZLN4kyQBkEVg4tcjJAAAAAAABgMkBKDAIrh1YyQEa28/3UWDJAarx0kxhkMkBGtvP91HgyQDMzMzMzkzJAFK5H4Xq0MkCNl24Sg+AyQOOlm8QgEDNATDeJQWBFM0DpJjEIrHwzQD81XrpJrDNAj8L1KFzPM0Dwp8ZLN+kzQOkmMQis/DNAVOOlm8QgNECR7Xw/NV40QG8Sg8DKoTRAiUFg5dDiNEAj2/l+ahw1QKJFtvP9VDVAJQaBlUOLNUBvEoPAysE1QKjGSzeJATZA7FG4HoVLNkBkO99PjZc2QL6fGi/d5DZA+n5qvHQzN0D8qfHSTYI3QP7UeOkm0TdAjZduEoMgOEBWDi2ynW84QLTIdr6fujhAx0s3iUEAOUBQjZduEkM5QPhT46WbhDlAEoPAyqHFOUCgGi/dJAY6QESLbOf7STpAN4lBYOWQOkC4HoXrUdg6QHNoke18HztAfT81XrppO0Av3SQGgbU7QHNoke18/ztAYhBYObRIPECiRbbz/ZQ8QBKDwMqh5TxAf2q8dJM4PUA/NV66SYw9QN0kBoGV4z1Ake18PzU+PkC0yHa+n5o+QKJFtvP99D5A9ihcj8JVP0DpJjEIrLw/QAAAAAAAAPh/AAAAAAAA+H8AAAAAAAD4fwAAAAAAAPh/AAAAAAAA+H8AAAAAAAD4fwAAAAAAAPh/AAAAAAAA+H8AAAAAAAD4fwAAAAAAAPh/AAAAAAAA+H8AAAAAAAD4fwAAAAAAAPh/AAAAAAAA+H8AAAAAAAD4fwAAAAAAAPh/AAAAAAAA+H8AAAAAAAD4fwAAAAAAAPh/AAAAAAAA+H8AAAAAAAD4fwAAAAAAAPh/AAAAAAAA+H8AAAAAAAD4fwAAAAAAAPh/AAAAAAAA+H8AAAAAAAD4fwAAAAAAAPh/AAAAAAAA+H8AAAAAAAD4fwAAAAAAAPh/AAAAAAAA+H8AAAAAAAD4fwAAAAAAAPh/AAAAAAAA+H8AAAAAAAD4fwAAAAAAAPh/AAAAAAAA+H8AAAAAAAD4fwAAAAAAAPh/AAAAAAAA+H8AAAAAAAD4fwAAAAAAAPh/AAAAAAAA+H8AAAAAAAD4fwAAAAAAAPh/AAAAAAAA+H8AAAAAAAD4fwAAAAAAAPh/AAAAAAAA+H8AAAAAAAD4fwAAAAAAAPh/AAAAAAAA+H8AAAAAAAD4fwAAAAAAAPh/AAAAAAAA+H8AAAAAAAD4fwAAAAAAAPh/AAAAAAAA+H8AAAAAAAD4fwAAAAAAAPh/AAAAAAAA+H8AAAAAAAD4fwAAAAAAAPh/AAAAAAAA+H8AAAAAAAD4fwAAAAAAAPh/AAAAAAAA+H8AAAAAAAD4fwAAAAAAAPh/AAAAAAAA+H8AAAAAAAD4fwAAAAAAAPh/AAAAAAAA+H8AAAAAAAD4fwAAAAAAAPh/AAAAAAAA+H8=",
          "dtype": "f8"
         },
         "yaxis": "y"
        },
        {
         "hovertemplate": "Region=Europe (UN)<br>Jahr=%{x}<br>Medianes Alter (Jahre)=%{y}<extra></extra>",
         "legendgroup": "Europe (UN)",
         "line": {
          "color": "rgb(57, 105, 172)",
          "dash": "solid",
          "shape": "spline"
         },
         "marker": {
          "symbol": "circle"
         },
         "mode": "lines+markers",
         "name": "Europe (UN)",
         "orientation": "v",
         "showlegend": true,
         "type": "scatter",
         "x": {
          "bdata": "ngefB6AHoQeiB6MHpAelB6YHpweoB6kHqgerB6wHrQeuB68HsAexB7IHswe0B7UHtge3B7gHuQe6B7sHvAe9B74HvwfAB8EHwgfDB8QHxQfGB8cHyAfJB8oHywfMB80HzgfPB9AH0QfSB9MH1AfVB9YH1wfYB9kH2gfbB9wH3QfeB98H4AfhB+IH4wfkB+UH5gfnB+gH6QfqB+sH7AftB+4H7wfwB/EH8gfzB/QH9Qf2B/cH+Af5B/oH+wf8B/0H/gf/BwAIAQgCCAMIBAgFCAYIBwgICAkICggLCAwIDQgOCA8IEAgRCBIIEwgUCBUIFggXCBgIGQgaCBsIHAgdCB4IHwggCCEIIggjCCQIJQgmCCcIKAgpCCoIKwgsCC0ILggvCDAIMQgyCDMINAg=",
          "dtype": "i2"
         },
         "xaxis": "x",
         "y": {
          "bdata": "d76fGi+dO0B7FK5H4bo7QKwcWmQ73ztAgZVDi2wHPEDFILByaDE8QHNoke18XzxAyXa+nxqPPEA1XrpJDMI8QAIrhxbZ7jxARrbz/dQYPUDwp8ZLN0k9QNNNYhBYeT1Aw/UoXI+iPUDLoUW28709QMHKoUW20z1ArkfhehTuPUAlBoGVQws+QBkEVg4tMj5Ac2iR7XxfPkAdWmQ7348+QNEi2/l+yj5APQrXo3D9PkBiEFg5tCg/QD81XrpJTD9Ake18PzVeP0BkO99PjVc/QA4tsp3vRz9A8tJNYhA4P0AfhetRuD4/QKwcWmQ7Xz9ALbKd76eGP0D+1HjpJrE/QPyp8dJN4j9AYOXQItsJQEAbL90kBiFAQNNNYhBYOUBAbxKDwMpRQECwcmiR7WxAQNNNYhBYiUBA16NwPQqnQEDXo3A9CsdAQPCnxks36UBArkfhehQOQUCHFtnO9zNBQLTIdr6fWkFAjZduEoOAQUDXo3A9CqdBQB1aZDvfz0FAlkOLbOf7QUDVeOkmMShCQBsv3SQGUUJADAIrhxZ5QkCuR+F6FJ5CQMdLN4lBwEJAF9nO91PjQkAxCKwcWgRDQBBYObTIJkNAuB6F61FIQ0ASg8DKoWVDQG3n+6nxgkNAGy/dJAahQ0CNl24Sg8BDQFK4HoXr4UNANV66SQwCRECsHFpkOx9EQEa28/3UOERAcT0K16NQREBeukkMAmtEQNejcD0Kh0RApHA9CtejREBzaJHtfL9EQClcj8L12ERASgwCK4f2REAhsHJokR1FQAAAAAAAAPh/AAAAAAAA+H8AAAAAAAD4fwAAAAAAAPh/AAAAAAAA+H8AAAAAAAD4fwAAAAAAAPh/AAAAAAAA+H8AAAAAAAD4fwAAAAAAAPh/AAAAAAAA+H8AAAAAAAD4fwAAAAAAAPh/AAAAAAAA+H8AAAAAAAD4fwAAAAAAAPh/AAAAAAAA+H8AAAAAAAD4fwAAAAAAAPh/AAAAAAAA+H8AAAAAAAD4fwAAAAAAAPh/AAAAAAAA+H8AAAAAAAD4fwAAAAAAAPh/AAAAAAAA+H8AAAAAAAD4fwAAAAAAAPh/AAAAAAAA+H8AAAAAAAD4fwAAAAAAAPh/AAAAAAAA+H8AAAAAAAD4fwAAAAAAAPh/AAAAAAAA+H8AAAAAAAD4fwAAAAAAAPh/AAAAAAAA+H8AAAAAAAD4fwAAAAAAAPh/AAAAAAAA+H8AAAAAAAD4fwAAAAAAAPh/AAAAAAAA+H8AAAAAAAD4fwAAAAAAAPh/AAAAAAAA+H8AAAAAAAD4fwAAAAAAAPh/AAAAAAAA+H8AAAAAAAD4fwAAAAAAAPh/AAAAAAAA+H8AAAAAAAD4fwAAAAAAAPh/AAAAAAAA+H8AAAAAAAD4fwAAAAAAAPh/AAAAAAAA+H8AAAAAAAD4fwAAAAAAAPh/AAAAAAAA+H8AAAAAAAD4fwAAAAAAAPh/AAAAAAAA+H8AAAAAAAD4fwAAAAAAAPh/AAAAAAAA+H8AAAAAAAD4fwAAAAAAAPh/AAAAAAAA+H8AAAAAAAD4fwAAAAAAAPh/AAAAAAAA+H8AAAAAAAD4fwAAAAAAAPh/AAAAAAAA+H8=",
          "dtype": "f8"
         },
         "yaxis": "y"
        },
        {
         "hovertemplate": "Region=United States<br>Jahr=%{x}<br>Medianes Alter (Jahre)=%{y}<extra></extra>",
         "legendgroup": "United States",
         "line": {
          "color": "rgb(242, 183, 1)",
          "dash": "solid",
          "shape": "spline"
         },
         "marker": {
          "symbol": "circle"
         },
         "mode": "lines+markers",
         "name": "United States",
         "orientation": "v",
         "showlegend": true,
         "type": "scatter",
         "x": {
          "bdata": "ngefB6AHoQeiB6MHpAelB6YHpweoB6kHqgerB6wHrQeuB68HsAexB7IHswe0B7UHtge3B7gHuQe6B7sHvAe9B74HvwfAB8EHwgfDB8QHxQfGB8cHyAfJB8oHywfMB80HzgfPB9AH0QfSB9MH1AfVB9YH1wfYB9kH2gfbB9wH3QfeB98H4AfhB+IH4wfkB+UH5gfnB+gH6QfqB+sH7AftB+4H7wfwB/EH8gfzB/QH9Qf2B/cH+Af5B/oH+wf8B/0H/gf/BwAIAQgCCAMIBAgFCAYIBwgICAkICggLCAwIDQgOCA8IEAgRCBIIEwgUCBUIFggXCBgIGQgaCBsIHAgdCB4IHwggCCEIIggjCCQIJQgmCCcIKAgpCCoIKwgsCC0ILggvCDAIMQgyCDMINAg=",
          "dtype": "i2"
         },
         "xaxis": "x",
         "y": {
          "bdata": "g8DKoUX2PECR7Xw/Nf48QIXrUbgeBT1ADi2yne8HPUD4U+OlmwQ9QM/3U+Ol+zxAKVyPwvXoPEBaZDvfT808QA4tsp3vpzxADAIrhxZ5PEA1XrpJDEI8QDm0yHa+/ztA8tJNYhC4O0C8dJMYBHY7QHsUrkfhOjtA8KfGSzcJO0D0/dR46eY6QJMYBFYOzTpARrbz/dS4OkCLbOf7qbE6QCPb+X5qvDpATmIQWDnUOkBOYhBYOfQ6QPLSTWIQGDtArkfhehROO0Ce76fGS5c7QD81XrpJ7DtArBxaZDs/PEDn+6nx0o08QEa28/3U2DxAObTIdr4fPUCoxks3iWE9QBsv3SQGoT1AF9nO91PjPUDwp8ZLNyk+QIts5/upcT5AsHJoke28PkDRItv5fgo/QBBYObTIVj9A/Knx0k2iP0C6SQwCK+c/QBkEVg4tEkBA46WbxCAwQEA730+Nl05AQFg5tMh2bkBAVg4tsp2PQEBxPQrXo7BAQP7UeOkm0UBAVg4tsp3vQEBcj8L1KAxBQGiR7Xw/JUFAWmQ73089QUC8dJMYBFZBQFyPwvUobEFA/tR46SaBQUBmZmZmZpZBQJMYBFYOrUFAhxbZzvfDQUDVeOkmMdhBQH9qvHST6EFA9ihcj8L1QUAbL90kBgFCQOxRuB6FC0JAZmZmZmYWQkBQjZduEiNCQKjGSzeJMUJA/tR46SZBQkAzMzMzM1NCQGIQWDm0aEJAx0s3iUGAQkCwcmiR7ZxCQM/3U+Olu0JAXI/C9SjcQkBt5/up8QJDQAAAAAAAAPh/AAAAAAAA+H8AAAAAAAD4fwAAAAAAAPh/AAAAAAAA+H8AAAAAAAD4fwAAAAAAAPh/AAAAAAAA+H8AAAAAAAD4fwAAAAAAAPh/AAAAAAAA+H8AAAAAAAD4fwAAAAAAAPh/AAAAAAAA+H8AAAAAAAD4fwAAAAAAAPh/AAAAAAAA+H8AAAAAAAD4fwAAAAAAAPh/AAAAAAAA+H8AAAAAAAD4fwAAAAAAAPh/AAAAAAAA+H8AAAAAAAD4fwAAAAAAAPh/AAAAAAAA+H8AAAAAAAD4fwAAAAAAAPh/AAAAAAAA+H8AAAAAAAD4fwAAAAAAAPh/AAAAAAAA+H8AAAAAAAD4fwAAAAAAAPh/AAAAAAAA+H8AAAAAAAD4fwAAAAAAAPh/AAAAAAAA+H8AAAAAAAD4fwAAAAAAAPh/AAAAAAAA+H8AAAAAAAD4fwAAAAAAAPh/AAAAAAAA+H8AAAAAAAD4fwAAAAAAAPh/AAAAAAAA+H8AAAAAAAD4fwAAAAAAAPh/AAAAAAAA+H8AAAAAAAD4fwAAAAAAAPh/AAAAAAAA+H8AAAAAAAD4fwAAAAAAAPh/AAAAAAAA+H8AAAAAAAD4fwAAAAAAAPh/AAAAAAAA+H8AAAAAAAD4fwAAAAAAAPh/AAAAAAAA+H8AAAAAAAD4fwAAAAAAAPh/AAAAAAAA+H8AAAAAAAD4fwAAAAAAAPh/AAAAAAAA+H8AAAAAAAD4fwAAAAAAAPh/AAAAAAAA+H8AAAAAAAD4fwAAAAAAAPh/AAAAAAAA+H8AAAAAAAD4fwAAAAAAAPh/AAAAAAAA+H8=",
          "dtype": "f8"
         },
         "yaxis": "y"
        }
       ],
       "layout": {
        "font": {
         "size": 14
        },
        "height": 600,
        "hovermode": "x unified",
        "legend": {
         "title": {
          "text": "Region"
         },
         "tracegroupgap": 0
        },
        "template": {
         "data": {
          "bar": [
           {
            "error_x": {
             "color": "#f2f5fa"
            },
            "error_y": {
             "color": "#f2f5fa"
            },
            "marker": {
             "line": {
              "color": "rgb(17,17,17)",
              "width": 0.5
             },
             "pattern": {
              "fillmode": "overlay",
              "size": 10,
              "solidity": 0.2
             }
            },
            "type": "bar"
           }
          ],
          "barpolar": [
           {
            "marker": {
             "line": {
              "color": "rgb(17,17,17)",
              "width": 0.5
             },
             "pattern": {
              "fillmode": "overlay",
              "size": 10,
              "solidity": 0.2
             }
            },
            "type": "barpolar"
           }
          ],
          "carpet": [
           {
            "aaxis": {
             "endlinecolor": "#A2B1C6",
             "gridcolor": "#506784",
             "linecolor": "#506784",
             "minorgridcolor": "#506784",
             "startlinecolor": "#A2B1C6"
            },
            "baxis": {
             "endlinecolor": "#A2B1C6",
             "gridcolor": "#506784",
             "linecolor": "#506784",
             "minorgridcolor": "#506784",
             "startlinecolor": "#A2B1C6"
            },
            "type": "carpet"
           }
          ],
          "choropleth": [
           {
            "colorbar": {
             "outlinewidth": 0,
             "ticks": ""
            },
            "type": "choropleth"
           }
          ],
          "contour": [
           {
            "colorbar": {
             "outlinewidth": 0,
             "ticks": ""
            },
            "colorscale": [
             [
              0,
              "#0d0887"
             ],
             [
              0.1111111111111111,
              "#46039f"
             ],
             [
              0.2222222222222222,
              "#7201a8"
             ],
             [
              0.3333333333333333,
              "#9c179e"
             ],
             [
              0.4444444444444444,
              "#bd3786"
             ],
             [
              0.5555555555555556,
              "#d8576b"
             ],
             [
              0.6666666666666666,
              "#ed7953"
             ],
             [
              0.7777777777777778,
              "#fb9f3a"
             ],
             [
              0.8888888888888888,
              "#fdca26"
             ],
             [
              1,
              "#f0f921"
             ]
            ],
            "type": "contour"
           }
          ],
          "contourcarpet": [
           {
            "colorbar": {
             "outlinewidth": 0,
             "ticks": ""
            },
            "type": "contourcarpet"
           }
          ],
          "heatmap": [
           {
            "colorbar": {
             "outlinewidth": 0,
             "ticks": ""
            },
            "colorscale": [
             [
              0,
              "#0d0887"
             ],
             [
              0.1111111111111111,
              "#46039f"
             ],
             [
              0.2222222222222222,
              "#7201a8"
             ],
             [
              0.3333333333333333,
              "#9c179e"
             ],
             [
              0.4444444444444444,
              "#bd3786"
             ],
             [
              0.5555555555555556,
              "#d8576b"
             ],
             [
              0.6666666666666666,
              "#ed7953"
             ],
             [
              0.7777777777777778,
              "#fb9f3a"
             ],
             [
              0.8888888888888888,
              "#fdca26"
             ],
             [
              1,
              "#f0f921"
             ]
            ],
            "type": "heatmap"
           }
          ],
          "histogram": [
           {
            "marker": {
             "pattern": {
              "fillmode": "overlay",
              "size": 10,
              "solidity": 0.2
             }
            },
            "type": "histogram"
           }
          ],
          "histogram2d": [
           {
            "colorbar": {
             "outlinewidth": 0,
             "ticks": ""
            },
            "colorscale": [
             [
              0,
              "#0d0887"
             ],
             [
              0.1111111111111111,
              "#46039f"
             ],
             [
              0.2222222222222222,
              "#7201a8"
             ],
             [
              0.3333333333333333,
              "#9c179e"
             ],
             [
              0.4444444444444444,
              "#bd3786"
             ],
             [
              0.5555555555555556,
              "#d8576b"
             ],
             [
              0.6666666666666666,
              "#ed7953"
             ],
             [
              0.7777777777777778,
              "#fb9f3a"
             ],
             [
              0.8888888888888888,
              "#fdca26"
             ],
             [
              1,
              "#f0f921"
             ]
            ],
            "type": "histogram2d"
           }
          ],
          "histogram2dcontour": [
           {
            "colorbar": {
             "outlinewidth": 0,
             "ticks": ""
            },
            "colorscale": [
             [
              0,
              "#0d0887"
             ],
             [
              0.1111111111111111,
              "#46039f"
             ],
             [
              0.2222222222222222,
              "#7201a8"
             ],
             [
              0.3333333333333333,
              "#9c179e"
             ],
             [
              0.4444444444444444,
              "#bd3786"
             ],
             [
              0.5555555555555556,
              "#d8576b"
             ],
             [
              0.6666666666666666,
              "#ed7953"
             ],
             [
              0.7777777777777778,
              "#fb9f3a"
             ],
             [
              0.8888888888888888,
              "#fdca26"
             ],
             [
              1,
              "#f0f921"
             ]
            ],
            "type": "histogram2dcontour"
           }
          ],
          "mesh3d": [
           {
            "colorbar": {
             "outlinewidth": 0,
             "ticks": ""
            },
            "type": "mesh3d"
           }
          ],
          "parcoords": [
           {
            "line": {
             "colorbar": {
              "outlinewidth": 0,
              "ticks": ""
             }
            },
            "type": "parcoords"
           }
          ],
          "pie": [
           {
            "automargin": true,
            "type": "pie"
           }
          ],
          "scatter": [
           {
            "marker": {
             "line": {
              "color": "#283442"
             }
            },
            "type": "scatter"
           }
          ],
          "scatter3d": [
           {
            "line": {
             "colorbar": {
              "outlinewidth": 0,
              "ticks": ""
             }
            },
            "marker": {
             "colorbar": {
              "outlinewidth": 0,
              "ticks": ""
             }
            },
            "type": "scatter3d"
           }
          ],
          "scattercarpet": [
           {
            "marker": {
             "colorbar": {
              "outlinewidth": 0,
              "ticks": ""
             }
            },
            "type": "scattercarpet"
           }
          ],
          "scattergeo": [
           {
            "marker": {
             "colorbar": {
              "outlinewidth": 0,
              "ticks": ""
             }
            },
            "type": "scattergeo"
           }
          ],
          "scattergl": [
           {
            "marker": {
             "line": {
              "color": "#283442"
             }
            },
            "type": "scattergl"
           }
          ],
          "scattermap": [
           {
            "marker": {
             "colorbar": {
              "outlinewidth": 0,
              "ticks": ""
             }
            },
            "type": "scattermap"
           }
          ],
          "scattermapbox": [
           {
            "marker": {
             "colorbar": {
              "outlinewidth": 0,
              "ticks": ""
             }
            },
            "type": "scattermapbox"
           }
          ],
          "scatterpolar": [
           {
            "marker": {
             "colorbar": {
              "outlinewidth": 0,
              "ticks": ""
             }
            },
            "type": "scatterpolar"
           }
          ],
          "scatterpolargl": [
           {
            "marker": {
             "colorbar": {
              "outlinewidth": 0,
              "ticks": ""
             }
            },
            "type": "scatterpolargl"
           }
          ],
          "scatterternary": [
           {
            "marker": {
             "colorbar": {
              "outlinewidth": 0,
              "ticks": ""
             }
            },
            "type": "scatterternary"
           }
          ],
          "surface": [
           {
            "colorbar": {
             "outlinewidth": 0,
             "ticks": ""
            },
            "colorscale": [
             [
              0,
              "#0d0887"
             ],
             [
              0.1111111111111111,
              "#46039f"
             ],
             [
              0.2222222222222222,
              "#7201a8"
             ],
             [
              0.3333333333333333,
              "#9c179e"
             ],
             [
              0.4444444444444444,
              "#bd3786"
             ],
             [
              0.5555555555555556,
              "#d8576b"
             ],
             [
              0.6666666666666666,
              "#ed7953"
             ],
             [
              0.7777777777777778,
              "#fb9f3a"
             ],
             [
              0.8888888888888888,
              "#fdca26"
             ],
             [
              1,
              "#f0f921"
             ]
            ],
            "type": "surface"
           }
          ],
          "table": [
           {
            "cells": {
             "fill": {
              "color": "#506784"
             },
             "line": {
              "color": "rgb(17,17,17)"
             }
            },
            "header": {
             "fill": {
              "color": "#2a3f5f"
             },
             "line": {
              "color": "rgb(17,17,17)"
             }
            },
            "type": "table"
           }
          ]
         },
         "layout": {
          "annotationdefaults": {
           "arrowcolor": "#f2f5fa",
           "arrowhead": 0,
           "arrowwidth": 1
          },
          "autotypenumbers": "strict",
          "coloraxis": {
           "colorbar": {
            "outlinewidth": 0,
            "ticks": ""
           }
          },
          "colorscale": {
           "diverging": [
            [
             0,
             "#8e0152"
            ],
            [
             0.1,
             "#c51b7d"
            ],
            [
             0.2,
             "#de77ae"
            ],
            [
             0.3,
             "#f1b6da"
            ],
            [
             0.4,
             "#fde0ef"
            ],
            [
             0.5,
             "#f7f7f7"
            ],
            [
             0.6,
             "#e6f5d0"
            ],
            [
             0.7,
             "#b8e186"
            ],
            [
             0.8,
             "#7fbc41"
            ],
            [
             0.9,
             "#4d9221"
            ],
            [
             1,
             "#276419"
            ]
           ],
           "sequential": [
            [
             0,
             "#0d0887"
            ],
            [
             0.1111111111111111,
             "#46039f"
            ],
            [
             0.2222222222222222,
             "#7201a8"
            ],
            [
             0.3333333333333333,
             "#9c179e"
            ],
            [
             0.4444444444444444,
             "#bd3786"
            ],
            [
             0.5555555555555556,
             "#d8576b"
            ],
            [
             0.6666666666666666,
             "#ed7953"
            ],
            [
             0.7777777777777778,
             "#fb9f3a"
            ],
            [
             0.8888888888888888,
             "#fdca26"
            ],
            [
             1,
             "#f0f921"
            ]
           ],
           "sequentialminus": [
            [
             0,
             "#0d0887"
            ],
            [
             0.1111111111111111,
             "#46039f"
            ],
            [
             0.2222222222222222,
             "#7201a8"
            ],
            [
             0.3333333333333333,
             "#9c179e"
            ],
            [
             0.4444444444444444,
             "#bd3786"
            ],
            [
             0.5555555555555556,
             "#d8576b"
            ],
            [
             0.6666666666666666,
             "#ed7953"
            ],
            [
             0.7777777777777778,
             "#fb9f3a"
            ],
            [
             0.8888888888888888,
             "#fdca26"
            ],
            [
             1,
             "#f0f921"
            ]
           ]
          },
          "colorway": [
           "#636efa",
           "#EF553B",
           "#00cc96",
           "#ab63fa",
           "#FFA15A",
           "#19d3f3",
           "#FF6692",
           "#B6E880",
           "#FF97FF",
           "#FECB52"
          ],
          "font": {
           "color": "#f2f5fa"
          },
          "geo": {
           "bgcolor": "rgb(17,17,17)",
           "lakecolor": "rgb(17,17,17)",
           "landcolor": "rgb(17,17,17)",
           "showlakes": true,
           "showland": true,
           "subunitcolor": "#506784"
          },
          "hoverlabel": {
           "align": "left"
          },
          "hovermode": "closest",
          "mapbox": {
           "style": "dark"
          },
          "paper_bgcolor": "rgb(17,17,17)",
          "plot_bgcolor": "rgb(17,17,17)",
          "polar": {
           "angularaxis": {
            "gridcolor": "#506784",
            "linecolor": "#506784",
            "ticks": ""
           },
           "bgcolor": "rgb(17,17,17)",
           "radialaxis": {
            "gridcolor": "#506784",
            "linecolor": "#506784",
            "ticks": ""
           }
          },
          "scene": {
           "xaxis": {
            "backgroundcolor": "rgb(17,17,17)",
            "gridcolor": "#506784",
            "gridwidth": 2,
            "linecolor": "#506784",
            "showbackground": true,
            "ticks": "",
            "zerolinecolor": "#C8D4E3"
           },
           "yaxis": {
            "backgroundcolor": "rgb(17,17,17)",
            "gridcolor": "#506784",
            "gridwidth": 2,
            "linecolor": "#506784",
            "showbackground": true,
            "ticks": "",
            "zerolinecolor": "#C8D4E3"
           },
           "zaxis": {
            "backgroundcolor": "rgb(17,17,17)",
            "gridcolor": "#506784",
            "gridwidth": 2,
            "linecolor": "#506784",
            "showbackground": true,
            "ticks": "",
            "zerolinecolor": "#C8D4E3"
           }
          },
          "shapedefaults": {
           "line": {
            "color": "#f2f5fa"
           }
          },
          "sliderdefaults": {
           "bgcolor": "#C8D4E3",
           "bordercolor": "rgb(17,17,17)",
           "borderwidth": 1,
           "tickwidth": 0
          },
          "ternary": {
           "aaxis": {
            "gridcolor": "#506784",
            "linecolor": "#506784",
            "ticks": ""
           },
           "baxis": {
            "gridcolor": "#506784",
            "linecolor": "#506784",
            "ticks": ""
           },
           "bgcolor": "rgb(17,17,17)",
           "caxis": {
            "gridcolor": "#506784",
            "linecolor": "#506784",
            "ticks": ""
           }
          },
          "title": {
           "x": 0.05
          },
          "updatemenudefaults": {
           "bgcolor": "#506784",
           "borderwidth": 0
          },
          "xaxis": {
           "automargin": true,
           "gridcolor": "#283442",
           "linecolor": "#506784",
           "ticks": "",
           "title": {
            "standoff": 15
           },
           "zerolinecolor": "#283442",
           "zerolinewidth": 2
          },
          "yaxis": {
           "automargin": true,
           "gridcolor": "#283442",
           "linecolor": "#506784",
           "ticks": "",
           "title": {
            "standoff": 15
           },
           "zerolinecolor": "#283442",
           "zerolinewidth": 2
          }
         }
        },
        "title": {
         "text": "Entwicklung des medianen Alters nach Region (1950-2023)"
        },
        "width": 1000,
        "xaxis": {
         "anchor": "y",
         "domain": [
          0,
          1
         ],
         "title": {
          "text": "Jahr"
         }
        },
        "yaxis": {
         "anchor": "x",
         "domain": [
          0,
          1
         ],
         "range": [
          0,
          46.454100000000004
         ],
         "title": {
          "text": "Medianes Alter (Jahre)"
         }
        }
       }
      }
     },
     "metadata": {},
     "output_type": "display_data"
    }
   ],
   "source": [
    "import plotly.express as px\n",
    "import pandas as pd\n",
    "\n",
    "# Filtern der gewünschten Regionen\n",
    "regions = [\"Asia (UN)\", \"Europe (UN)\", \"United States\", \"Africa (UN)\"]\n",
    "filtered_df = median_df[median_df[\"entities\"].isin(regions)]\n",
    "\n",
    "# Die Spalte für das mediane Alter\n",
    "median_column = \"median_age__sex_all__age_all__variant_estimates\"\n",
    "\n",
    "# Liniendiagramm erstellen\n",
    "fig = px.line(\n",
    "    filtered_df,\n",
    "    x=\"years\",\n",
    "    y=median_column,\n",
    "    color=\"entities\",\n",
    "    title=\"Entwicklung des medianen Alters nach Region (1950-2023)\",\n",
    "    labels={\n",
    "        \"years\": \"Jahr\", \n",
    "        median_column: \"Medianes Alter (Jahre)\",\n",
    "        \"entities\": \"Region\"\n",
    "    },\n",
    "    color_discrete_sequence=px.colors.qualitative.Bold,\n",
    "    markers=True,  # Marker für jeden Datenpunkt\n",
    "    line_shape=\"spline\"  # Glättere Linien\n",
    ")\n",
    "\n",
    "# Layout anpassen\n",
    "fig.update_layout(\n",
    "    template=\"plotly_dark\",\n",
    "    legend_title=\"Region\",\n",
    "    font=dict(size=14),\n",
    "    height=600,\n",
    "    width=1000,\n",
    "    hovermode=\"x unified\"  # Zeigt alle Werte für ein Jahr beim Hovern an\n",
    ")\n",
    "\n",
    "# Y-Achse anpassen\n",
    "fig.update_yaxes(range=[0, filtered_df[median_column].max() * 1.1])\n",
    "\n",
    "# Anzeigen der Grafik\n",
    "fig.show()"
   ]
  },
  {
   "cell_type": "markdown",
   "metadata": {},
   "source": [
    "## Krankheitskosten"
   ]
  },
  {
   "cell_type": "markdown",
   "metadata": {},
   "source": []
  }
 ],
 "metadata": {
  "kernelspec": {
   "display_name": ".venv",
   "language": "python",
   "name": "python3"
  },
  "language_info": {
   "codemirror_mode": {
    "name": "ipython",
    "version": 3
   },
   "file_extension": ".py",
   "mimetype": "text/x-python",
   "name": "python",
   "nbconvert_exporter": "python",
   "pygments_lexer": "ipython3",
   "version": "3.11.8"
  }
 },
 "nbformat": 4,
 "nbformat_minor": 2
}
